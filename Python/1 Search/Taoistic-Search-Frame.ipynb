{
 "cells": [
  {
   "cell_type": "code",
   "execution_count": 26,
   "metadata": {},
   "outputs": [
    {
     "data": {
      "text/html": [
       "<link href='http://fonts.googleapis.com/css?family=Alegreya+Sans:100,300,400,500,700,800,900,100italic,300italic,400italic,500italic,700italic,800italic,900italic' rel='stylesheet' type='text/css'>\n",
       "<link href='http://fonts.googleapis.com/css?family=Arvo:400,700,400italic' rel='stylesheet' type='text/css'>\n",
       "<link href='http://fonts.googleapis.com/css?family=PT+Mono' rel='stylesheet' type='text/css'>\n",
       "<link href='http://fonts.googleapis.com/css?family=Shadows+Into+Light' rel='stylesheet' type='text/css'>\n",
       "<link href='http://fonts.googleapis.com/css?family=Philosopher:400,700,400italic,700italic' rel='stylesheet' type='text/css'>\n",
       "<link href=\"http://fonts.googleapis.com/css?family=Sacramento\" rel=\"stylesheet\" type=\"text/css\">\n",
       "\n",
       "<style>\n",
       "\n",
       "@font-face {\n",
       "    font-family: \"Computer Modern\";\n",
       "    src: url('http://mirrors.ctan.org/fonts/cm-unicode/fonts/otf/cmunss.otf');\n",
       "}\n",
       "\n",
       ".container { width: 100% }\n",
       "\n",
       "/* Formatting for header cells */\n",
       ".text_cell_render h1 {\n",
       "    font-family: 'Philosopher', sans-serif;\n",
       "    font-weight: 400;\n",
       "    font-size: 2.2em;\n",
       "    line-height: 100%;\n",
       "    color: rgb(0, 80, 120);\n",
       "    margin-bottom: 0.1em;\n",
       "    margin-top: 0.1em;\n",
       "    display: block;\n",
       "}\t\n",
       ".text_cell_render h2 {\n",
       "    font-family: 'Philosopher', serif;\n",
       "    font-weight: 400;\n",
       "    font-size: 1.9em;\n",
       "    line-height: 100%;\n",
       "    color: rgb(200,100,0);\n",
       "    margin-bottom: 0.1em;\n",
       "    margin-top: 0.1em;\n",
       "    display: block;\n",
       "}\t\n",
       "\n",
       ".text_cell_render h3 {\n",
       "    font-family: 'Philosopher', serif;\n",
       "    margin-top:12px;\n",
       "    margin-bottom: 3px;\n",
       "    font-style: italic;\n",
       "    color: rgb(94,127,192);\n",
       "}\n",
       "\n",
       ".text_cell_render h4 {\n",
       "    font-family: 'Philosopher', serif;\n",
       "}\n",
       "\n",
       ".text_cell_render h5 {\n",
       "    font-family: 'Alegreya Sans', sans-serif;\n",
       "    font-weight: 300;\n",
       "    font-size: 16pt;\n",
       "    color: grey;\n",
       "    font-style: italic;\n",
       "    margin-bottom: .1em;\n",
       "    margin-top: 0.1em;\n",
       "    display: block;\n",
       "}\n",
       "\n",
       ".text_cell_render h6 {\n",
       "    font-family: 'PT Mono', sans-serif;\n",
       "    font-weight: 300;\n",
       "    font-size: 10pt;\n",
       "    color: grey;\n",
       "    margin-bottom: 1px;\n",
       "    margin-top: 1px;\n",
       "}\n",
       "\n",
       ".text_cell_render em {\n",
       "    font-family: 'Philosopher', sans-serif;\n",
       "    color:        blue;\n",
       "    background-color: rgb(255,220,180);\n",
       "    font-size:    110%;\n",
       "    margin-left:   2px;\n",
       "    margin-right:  2px;\n",
       "    font-weight:   100;\n",
       "}\n",
       "\n",
       ".text_cell_render b {\n",
       "    color:            rgb(255,195,195);\n",
       "    background-color: rgb(0,0,0);\n",
       "    font-size:    110%;\n",
       "    margin-left:   2px;\n",
       "    margin-right:  2px;\n",
       "    font-weight:   650;\n",
       "}\n",
       "\n",
       ".text_cell_render u {\n",
       "    color:            blue;\n",
       "    font-size:    110%;\n",
       "    margin-left:   2px;\n",
       "    margin-right:  2px;\n",
       "    font-weight:   650;\n",
       "}\n",
       "\n",
       ".text_cell_render tt {\n",
       "    font-size:    120%;\n",
       "    margin-left:   2px;\n",
       "    margin-right:  2px;\n",
       "    font-weight:   150;\n",
       "}\n",
       "\n",
       ".Codemirror {\n",
       "    font-family: \"PT Mono\";\n",
       "    font-size: 100%;\n",
       "}\n",
       "\n",
       "#fancy {\n",
       "    font-family:      Georgia;\n",
       "    position:         relative;\n",
       "    float:            left;\n",
       "    border:           2px solid red;\n",
       "    width:            600px;\n",
       "    padding-left:     20px;\n",
       "    padding-right:    20px;\n",
       "    padding-top:      10px;\n",
       "    font-family:      'Sacramento', cursive;\n",
       "    font-size:        26px;\n",
       "    background-color: #F4EBF3;\n",
       "    border-radius:    15px;\n",
       "}\n",
       "\n",
       "</Style>\n",
       "\n"
      ],
      "text/plain": [
       "<IPython.core.display.HTML object>"
      ]
     },
     "execution_count": 26,
     "metadata": {},
     "output_type": "execute_result"
    }
   ],
   "source": [
    "from IPython.core.display import HTML\n",
    "with open('../../Python/style.css') as f:\n",
    "    css = f.read()\n",
    "HTML(css)"
   ]
  },
  {
   "cell_type": "code",
   "execution_count": 27,
   "metadata": {},
   "outputs": [
    {
     "name": "stdout",
     "output_type": "stream",
     "text": [
      "The nb_mypy extension is already loaded. To reload it, use:\n",
      "  %reload_ext nb_mypy\n"
     ]
    }
   ],
   "source": [
    "%load_ext nb_mypy"
   ]
  },
  {
   "cell_type": "markdown",
   "metadata": {},
   "source": [
    "# Taoistic Search\n",
    "\n",
    "The holy book of Taoism, the <a href=\"https://en.wikipedia.org/wiki/Tao_Te_Ching\">Tao Te Ching (道德經)</a>, contains the following wisdom:\n",
    "\n",
    "<p>\n",
    "<center style=\"color:blue; background-color:yellow; font-family: Brush Script MT, cursive; font-size:40px; padding: 12px\">\n",
    "    <a href=\"https://en.wikipedia.org/wiki/A_journey_of_a_thousand_miles_begins_with_a_single_step\">\n",
    "        A yourney of a thousand miles begins but with a single step.</a>\n",
    "</center>\n",
    "</p>\n",
    "\n",
    "As written [here](https://www.linkedin.com/pulse/journey-thousand-miles-david-cheung/) this saying has also been used by Chairman\n",
    "[Mao Zedong Tongzhi (毛泽东同志)](https://en.wikipedia.org/wiki/Mao_Zedong).\n",
    "\n",
    "Taoistic search is based on this principle: \n",
    "- Split the search problem into subproblems that can be readily solved.  \n",
    "- Solve these problems one by one.\n",
    "- Combine the solutions of the subproblems to a solution of the given *search problem*.\n",
    "\n",
    "We will use *taoistic search* to solve the search problem for the 15-puzzle where the states `Start` and `Goal` are defined\n",
    "as follows."
   ]
  },
  {
   "cell_type": "code",
   "execution_count": 28,
   "metadata": {},
   "outputs": [],
   "source": [
    "Row   = tuple[str, ...]\n",
    "State = tuple[Row, ...]"
   ]
  },
  {
   "cell_type": "code",
   "execution_count": 29,
   "metadata": {},
   "outputs": [],
   "source": [
    "Start: State = ( (  '0', '14',  '8', '12' ),\n",
    "                 ( '10', '11', '13',  '9' ),\n",
    "                 (  '6',  '2',  '4', '15' ),\n",
    "                 (  '3',  '5',  '7',  '1' )\n",
    "               )"
   ]
  },
  {
   "cell_type": "code",
   "execution_count": 30,
   "metadata": {},
   "outputs": [],
   "source": [
    "Goal: State  = ( (  '0',  '1',  '2',  '3' ),\n",
    "                 (  '4',  '5',  '6',  '7' ),\n",
    "                 (  '8',  '9', '10', '11' ),\n",
    "                 ( '12', '13', '14', '15' )\n",
    "               )"
   ]
  },
  {
   "cell_type": "markdown",
   "metadata": {},
   "source": [
    "Please **note** that we have defined the entries of these tuples as `str` and not as `int`.\n",
    "\n",
    "In order to view these states more conveniently, we define a number of auxiliary functions in the following subsection. You need not concern yourself with these functions.  Instead\n",
    "jump to the next subsection [here](#detailed_explanation)."
   ]
  },
  {
   "cell_type": "markdown",
   "metadata": {},
   "source": [
    "## Animation"
   ]
  },
  {
   "cell_type": "code",
   "execution_count": 31,
   "metadata": {},
   "outputs": [],
   "source": [
    "import ipycanvas as cnv"
   ]
  },
  {
   "cell_type": "markdown",
   "metadata": {},
   "source": [
    "The module `time` is part of the standard library so it is preinstalled.  We have imported it because we need the function `time.sleep(secs)` to pause the animation for a specified time."
   ]
  },
  {
   "cell_type": "code",
   "execution_count": 32,
   "metadata": {},
   "outputs": [],
   "source": [
    "import time"
   ]
  },
  {
   "cell_type": "markdown",
   "metadata": {},
   "source": [
    "The global variable Colors specifies the colors of the tiles."
   ]
  },
  {
   "cell_type": "code",
   "execution_count": 33,
   "metadata": {},
   "outputs": [],
   "source": [
    "Colors = ['white', 'lightblue', 'pink', 'magenta', 'orange', 'red', 'yellow', 'lightgreen', 'gold',\n",
    "          'CornFlowerBlue', 'Coral', 'Cyan', 'orchid', 'DarkSalmon', 'DeepPink', 'green'\n",
    "         ] "
   ]
  },
  {
   "cell_type": "markdown",
   "metadata": {},
   "source": [
    "The global variable `gSize` specifies the size of one tile in pixels."
   ]
  },
  {
   "cell_type": "code",
   "execution_count": 34,
   "metadata": {},
   "outputs": [],
   "source": [
    "gSize = 100"
   ]
  },
  {
   "cell_type": "markdown",
   "metadata": {},
   "source": [
    "The function `draw(State, canvas, dx, dy, tile, x)` draws a given `State` of the sliding puzzle, where `tile` has been moved by `offset` pixels into the direction `(dx, dy)`."
   ]
  },
  {
   "cell_type": "code",
   "execution_count": 35,
   "metadata": {},
   "outputs": [],
   "source": [
    "def draw(S: State, canvas: cnv.canvas, dx: int, dy: int, tile: str, offset: int) -> None:\n",
    "    canvas.text_align    = 'center'\n",
    "    canvas.text_baseline = 'middle'\n",
    "    with cnv.hold_canvas(canvas):\n",
    "        canvas.clear()\n",
    "        n = len(S)\n",
    "        for row in range(n):\n",
    "            for col in range(n):\n",
    "                tile_to_draw = S[row][col]\n",
    "                if tile_to_draw != '*':\n",
    "                    color = Colors[int(tile_to_draw)]\n",
    "                else:\n",
    "                    color = 'lightyellow'\n",
    "                canvas.fill_style = color\n",
    "                if tile_to_draw not in ('0', tile):\n",
    "                    x = col * gSize\n",
    "                    y = row * gSize\n",
    "                    canvas.fill_rect(x, y, gSize, gSize)\n",
    "                    canvas.stroke_rect(x, y, gSize, gSize)\n",
    "                    canvas.line_width = 3.0\n",
    "                    x += gSize // 2\n",
    "                    y += gSize // 2\n",
    "                    canvas.stroke_text(str(tile_to_draw), x, y)\n",
    "                elif tile_to_draw == tile:\n",
    "                    x = col * gSize + offset * dx\n",
    "                    y = row * gSize + offset * dy\n",
    "                    canvas.fill_rect(x, y, gSize, gSize)\n",
    "                    canvas.stroke_rect(x, y, gSize, gSize)\n",
    "                    canvas.line_width = 3.0\n",
    "                    x += gSize // 2\n",
    "                    y += gSize // 2\n",
    "                    if tile_to_draw != 0:\n",
    "                        canvas.stroke_text(str(tile_to_draw), x, y)"
   ]
  },
  {
   "cell_type": "code",
   "execution_count": 36,
   "metadata": {},
   "outputs": [],
   "source": [
    "def create_canvas(n: int) -> cnv.canvas: \n",
    "    canvas = cnv.Canvas(size=(gSize * n, gSize * n))\n",
    "    canvas.font = '60px serif'\n",
    "    return canvas"
   ]
  },
  {
   "cell_type": "code",
   "execution_count": 37,
   "metadata": {},
   "outputs": [],
   "source": [
    "def draw_state(S: State) -> None:\n",
    "    n = len(S)\n",
    "    canvas = create_canvas(n)\n",
    "    draw(S, canvas, 0, 0, '+', 0)\n",
    "    display(canvas) # type: ignore"
   ]
  },
  {
   "cell_type": "markdown",
   "metadata": {},
   "source": [
    "The global variable `gDelay` controls the speed of the animation.  \n",
    "<b style=\"color:red; background-color:lightyellow\">If the animation is jerky on your computer, try increasing the value of the variable `gDelay` below.</b>"
   ]
  },
  {
   "cell_type": "code",
   "execution_count": 38,
   "metadata": {},
   "outputs": [],
   "source": [
    "gDelay = 0.003"
   ]
  },
  {
   "cell_type": "markdown",
   "metadata": {},
   "source": [
    "The function call `tile_and_direction(state, next_state)` takes a state and the state that follows this state and returns a triple (tile, dx, dy) where tile is the tile that is moved to transform `state` into `next_state` and `(dx, dy)` is the direction in which this tile is moved."
   ]
  },
  {
   "cell_type": "code",
   "execution_count": 39,
   "metadata": {},
   "outputs": [],
   "source": [
    "def find_tile(tile: str, S: State) -> tuple[int, int]:\n",
    "    return None # type: ignore"
   ]
  },
  {
   "cell_type": "code",
   "execution_count": 40,
   "metadata": {},
   "outputs": [],
   "source": [
    "def tile_and_direction(S: State, NS: State) -> tuple[str, int, int]:\n",
    "    row0, col0 = find_tile('0', S)\n",
    "    row1, col1 = find_tile('0', NS)\n",
    "    return S[row1][col1], col0-col1, row0-row1"
   ]
  },
  {
   "cell_type": "markdown",
   "metadata": {},
   "source": [
    "Given a list of states representing a solution to the sliding puzzle, the function call \n",
    "`animation(Solution)` animates the solution."
   ]
  },
  {
   "cell_type": "code",
   "execution_count": 41,
   "metadata": {},
   "outputs": [],
   "source": [
    "def animation(Solution: list[State]) -> None:\n",
    "    start  = Solution[0]\n",
    "    n      = len(start)\n",
    "    canvas = create_canvas(n)\n",
    "    draw(start, canvas, 0, 0, '0', 0)\n",
    "    m = len(Solution)\n",
    "    display(canvas) # type:ignore\n",
    "    for i in range(m-1):\n",
    "        state = Solution[i]\n",
    "        tile, dx, dy = tile_and_direction(state, Solution[i+1])\n",
    "        for offset in range(gSize+1):\n",
    "            draw(state, canvas, dx, dy, tile, offset)\n",
    "            time.sleep(gDelay)"
   ]
  },
  {
   "cell_type": "markdown",
   "metadata": {},
   "source": [
    "## <a id=\"detailed_explanation\">Taoistic Search: Detailed Explanation</a>"
   ]
  },
  {
   "cell_type": "markdown",
   "metadata": {},
   "source": [
    "Let us begin by our explanation by drawing both the states `Start` and `Goal` of our *search problem*."
   ]
  },
  {
   "cell_type": "code",
   "execution_count": 42,
   "metadata": {},
   "outputs": [
    {
     "data": {
      "application/vnd.jupyter.widget-view+json": {
       "model_id": "2873d25f3f344c1fbd3da2381c10bf3f",
       "version_major": 2,
       "version_minor": 0
      },
      "text/plain": [
       "Canvas()"
      ]
     },
     "metadata": {},
     "output_type": "display_data"
    }
   ],
   "source": [
    "draw_state(Start)"
   ]
  },
  {
   "cell_type": "code",
   "execution_count": 43,
   "metadata": {},
   "outputs": [
    {
     "data": {
      "application/vnd.jupyter.widget-view+json": {
       "model_id": "adca693d861d4cda99525b93ae13ac3f",
       "version_major": 2,
       "version_minor": 0
      },
      "text/plain": [
       "Canvas()"
      ]
     },
     "metadata": {},
     "output_type": "display_data"
    }
   ],
   "source": [
    "draw_state(Goal)"
   ]
  },
  {
   "cell_type": "markdown",
   "metadata": {},
   "source": [
    "In order to solve this instance of the 15-puzzle we could start by moving the tiles `14` and `15` into their final destination \n",
    "without caring for the other tiles.  To this end we define two new <em style=\"color:blue\">extended states</em> `Start1` and `Goal1` as shown below.  In these <em style=\"color:blue\">extended states</em> we have replaced all those tiles that are not important for moving `14` and `15` into their final destination by <em style=\"color:blue\">wildcard tiles</em> defined as `'*'`.\n",
    "<em style=\"color:blue\">Extended states</em> are also known as <em style=\"color:blue\">patterns</em>."
   ]
  },
  {
   "cell_type": "markdown",
   "metadata": {},
   "source": [
    "To solve a specific case of the 15-puzzle, one effective strategy is to initially focus on positioning the tiles labeled `14` and `15` in their designated locations, without concerning ourselves with the placement of the other tiles. To facilitate this approach, we introduce two novel constructs, namely `Start1` and `Goal1`. These are referred to as <em style=\"color:blue\">extended states</em>. In these <em style=\"color:blue\">extended states</em>, all tiles irrelevant to the immediate goal of correctly positioning `14` and `15` are substituted with <em style=\"color:blue\">wildcard tiles</em>, represented by the symbol `'*'`. <em style=\"color:blue\">Extended states</em> are also commonly known as <em style=\"color:blue\">patterns</em> in this context.\n"
   ]
  },
  {
   "cell_type": "code",
   "execution_count": 44,
   "metadata": {},
   "outputs": [
    {
     "data": {
      "application/vnd.jupyter.widget-view+json": {
       "model_id": "e8c6235c29124a3584739009f7e3096a",
       "version_major": 2,
       "version_minor": 0
      },
      "text/plain": [
       "Canvas()"
      ]
     },
     "metadata": {},
     "output_type": "display_data"
    }
   ],
   "source": [
    "Start1 = ( ( '0', '14',  '*',  '*' ),\n",
    "           ( '*',  '*',  '*',  '*' ),\n",
    "           ( '*',  '*',  '*', '15' ),\n",
    "           ( '*',  '*',  '*',  '*' )\n",
    "         )\n",
    "draw_state(Start1)"
   ]
  },
  {
   "cell_type": "code",
   "execution_count": 45,
   "metadata": {},
   "outputs": [
    {
     "data": {
      "application/vnd.jupyter.widget-view+json": {
       "model_id": "950d6349a40b4d51857c4adebb02f9fe",
       "version_major": 2,
       "version_minor": 0
      },
      "text/plain": [
       "Canvas()"
      ]
     },
     "metadata": {},
     "output_type": "display_data"
    }
   ],
   "source": [
    "Goal1 = ( ( '*', '*',  '*',  '*' ),\n",
    "          ( '*', '*',  '*',  '*' ),\n",
    "          ( '*', '*',  '*',  '*' ),\n",
    "          ( '*', '*', '14', '15' )\n",
    "        )\n",
    "draw_state(Goal1)"
   ]
  },
  {
   "cell_type": "markdown",
   "metadata": {},
   "source": [
    "\n",
    "It is important to note that in the creation of the state `Goal1`, the tile labeled `'0'` has been substituted with a wildcard tile `'*'`, whereas this replacement does not occur in the state `Start1`. The rationale behind this distinction is elaborated on subsequently.\n",
    "\n",
    "The search problem, as defined by the states `Start1` and `Goal1`, is relatively straightforward to resolve. We record the sequence of <em style=\"color:blue\">actions</em>—specifically, the movements of the empty tile—required to transform `Start1` into `Goal1`. These recorded actions are then applied to the state `Start`, leading to a potential outcome resembling the state `State`, as depicted below.\n",
    "\n",
    "The decision not to replace the empty tile with a wildcard in `Start1` is now clarified. If such a replacement were made, it would impede our ability to utilize the actions identified in the transformation from `Start1` to `Goal1` for modifying the state `Start1` into the state `State`.\n"
   ]
  },
  {
   "cell_type": "code",
   "execution_count": 46,
   "metadata": {},
   "outputs": [
    {
     "data": {
      "application/vnd.jupyter.widget-view+json": {
       "model_id": "2f39960bd98749a7b45d213f3bd2606b",
       "version_major": 2,
       "version_minor": 0
      },
      "text/plain": [
       "Canvas()"
      ]
     },
     "metadata": {},
     "output_type": "display_data"
    }
   ],
   "source": [
    "S = ( ('10',  '8', '13', '12'),\n",
    "      ('11',  '5',  '2',  '9'),\n",
    "      ( '6',  '7',  '0',  '4'),\n",
    "      ( '3',  '1', '14', '15')\n",
    "    )\n",
    "draw_state(S)"
   ]
  },
  {
   "cell_type": "markdown",
   "metadata": {},
   "source": [
    "Our next goal is move the tiles numbered with `12` and `13` into their final position.  To this end we define the \n",
    "<em style=\"color:blue\">extended states</em> `Start2` and `Goal2` as shown below."
   ]
  },
  {
   "cell_type": "code",
   "execution_count": 47,
   "metadata": {},
   "outputs": [
    {
     "data": {
      "application/vnd.jupyter.widget-view+json": {
       "model_id": "207f31dee46d4811a58c20bf3c47316c",
       "version_major": 2,
       "version_minor": 0
      },
      "text/plain": [
       "Canvas()"
      ]
     },
     "metadata": {},
     "output_type": "display_data"
    }
   ],
   "source": [
    "Start2 = ( ( '*', '*', '13', '12' ),\n",
    "           ( '*', '*',  '*',  '*' ),\n",
    "           ( '*', '*',  '0',  '*' ),\n",
    "           ( '*', '*', '14', '15' )\n",
    "        )\n",
    "draw_state(Start2)"
   ]
  },
  {
   "cell_type": "code",
   "execution_count": 48,
   "metadata": {},
   "outputs": [
    {
     "data": {
      "application/vnd.jupyter.widget-view+json": {
       "model_id": "d8e2f72de88e4ff4b09c76ed6529bd97",
       "version_major": 2,
       "version_minor": 0
      },
      "text/plain": [
       "Canvas()"
      ]
     },
     "metadata": {},
     "output_type": "display_data"
    }
   ],
   "source": [
    "Goal2 = ( ( '*',  '*',  '*',  '*'),\n",
    "          ( '*',  '*',  '*',  '*'),\n",
    "          ( '*',  '*',  '*',  '*'),\n",
    "          ('12', '13', '14', '15')\n",
    "        )\n",
    "draw_state(Goal2)"
   ]
  },
  {
   "cell_type": "markdown",
   "metadata": {},
   "source": [
    "Again, we solve the resulting search problem and remember the actions that transformed `Start2` into `Goal2`.  We apply these actions to the state `State` and end up with `State`being transformed into the state shown below."
   ]
  },
  {
   "cell_type": "code",
   "execution_count": 49,
   "metadata": {},
   "outputs": [
    {
     "data": {
      "application/vnd.jupyter.widget-view+json": {
       "model_id": "e6f512f66e504fe3a809b0335ebd4ec4",
       "version_major": 2,
       "version_minor": 0
      },
      "text/plain": [
       "Canvas()"
      ]
     },
     "metadata": {},
     "output_type": "display_data"
    }
   ],
   "source": [
    "S = ( ('10',  '5',  '8',  '9'),\n",
    "      ( '6', '11',  '7',  '4'),\n",
    "      ( '1',  '3',  '0',  '2'),\n",
    "      ('12', '13', '14', '15')\n",
    "    )\n",
    "draw_state(S)"
   ]
  },
  {
   "cell_type": "markdown",
   "metadata": {},
   "source": [
    "Proceeding in this way we can solve the given instance of the 15-puzzle.  The solution that we find will not be optimal but it won't be too far from the optimal solution."
   ]
  },
  {
   "cell_type": "markdown",
   "metadata": {},
   "source": [
    "## Auxiliary Functions for the Sliding Puzzle"
   ]
  },
  {
   "cell_type": "markdown",
   "metadata": {},
   "source": [
    "The function call `find_tile(tile, State)` finds the coordinates of the given `tile` in `State`.  The `tile` is represented as a string from the set \n",
    "\n",
    "`{'0', '1', ..., '15'}`,\n",
    "\n",
    "where `'0'` represents the empty tile.  \n",
    "\n",
    "<b style=\"color:red; background-color:lightyellow\">Nota bene:</b>\n",
    "There are two types of **errors** that are commonly made in this exercise:\n",
    "  - We represent the tiles as strings instead of numbers as we will later replace \n",
    "    some of these tiles by the wildcard character `'*'`.  If you use numbers instead\n",
    "    of strings, your code will not work.\n",
    "  - Do not mix up rows and colums.  Note that the columns correspond\n",
    "    to the $x$-coordinate of a coordinate system, while the rows correspond to the $y$-coordinate."
   ]
  },
  {
   "cell_type": "code",
   "execution_count": 50,
   "metadata": {},
   "outputs": [],
   "source": [
    "def find_tile(tile: str, S: State) -> tuple[int, int]:\n",
    "    n = len(S)\n",
    "    for row in range(n):\n",
    "        for col in range(n):\n",
    "            if S[row][col] == tile:\n",
    "                return row, col\n",
    "    return None # type: ignore"
   ]
  },
  {
   "cell_type": "markdown",
   "metadata": {},
   "source": [
    "Since A$^*$-search stores the set of states that have been visited, we have to represent states by immutable objects and hence we represent the states as tuples of tuples.  In order to be able to change these states, we have to transform these tuples of tuples into lists of lists.  The function `to_list` transforms a tuple of tuples into a list of lists."
   ]
  },
  {
   "cell_type": "code",
   "execution_count": 51,
   "metadata": {},
   "outputs": [],
   "source": [
    "def to_list(S: State) -> list[list[str]]:\n",
    "    return [list(row) for row in S]"
   ]
  },
  {
   "cell_type": "markdown",
   "metadata": {},
   "source": [
    "The function `to_tuple` transforms a list of lists into a tuple of tuples."
   ]
  },
  {
   "cell_type": "code",
   "execution_count": 52,
   "metadata": {},
   "outputs": [],
   "source": [
    "def to_tuple(S: list[list[str]]) -> State:\n",
    "    return tuple(tuple(row) for row in S)"
   ]
  },
  {
   "cell_type": "markdown",
   "metadata": {},
   "source": [
    "Given a `State` that satisfies \n",
    "```\n",
    "    State[row][col] == '0'\n",
    "```\n",
    "and a direction `(dx, dy)` that is an element form the set \n",
    "$\\bigl\\{ (1, 0), (-1, 0), (0, 1), (0, -1) \\bigr\\}$,\n",
    "the function `move_dir` moves the empty tile in the direction `(dx, dy)`."
   ]
  },
  {
   "cell_type": "code",
   "execution_count": 53,
   "metadata": {},
   "outputs": [],
   "source": [
    "def move_dir(S: State, row: int, col: int, dx: int, dy: int) -> State:\n",
    "    S = to_list(S)\n",
    "    S[row     ][col     ] = S[row + dy][col + dx]\n",
    "    S[row + dy][col + dx] = '0'\n",
    "    return to_tuple(S)"
   ]
  },
  {
   "cell_type": "markdown",
   "metadata": {},
   "source": [
    "Given a `State` of the sliding puzzle, the function `next_states(State)` computes all those states that can be reached from `State` in one step."
   ]
  },
  {
   "cell_type": "code",
   "execution_count": 54,
   "metadata": {},
   "outputs": [],
   "source": [
    "def next_states(S: State) -> set[State]:\n",
    "    n          = len(S)\n",
    "    row, col   = find_tile('0', S)\n",
    "    NewStates  = set()\n",
    "    Directions = [ (1, 0), (-1, 0), (0, 1), (0, -1) ]\n",
    "    for dx, dy in Directions:\n",
    "        if row + dy in range(n) and col + dx in range(n):\n",
    "            NewStates.add(move_dir(S, row, col, dx, dy))\n",
    "    return NewStates"
   ]
  },
  {
   "cell_type": "markdown",
   "metadata": {},
   "source": [
    "The function `matches(Pattern, S)` checks, whether the *pattern* `Pattern` matches the state `State`.  A *pattern* is like a state but instead of numbers,  some of the entries of the list of lists have the form `'*'`.  The idea is that the string `'*'` is a wildcard that matches anything.\n",
    "\n",
    "<b style=\"color:blue; background-color:yellow\">Note</b> that `S` can also be an *extended state*, i.e. `S` can contain the wildcard `'*'`. "
   ]
  },
  {
   "cell_type": "code",
   "execution_count": 56,
   "metadata": {},
   "outputs": [],
   "source": [
    "def matches(Pattern: State, S: State) -> bool:\n",
    "    n = len(S)\n",
    "    for i in range(n):\n",
    "        for j in range(n):\n",
    "            if Pattern[i][j] != '*' and Pattern[i][j] != S[i][j]:\n",
    "                return False\n",
    "    return True"
   ]
  },
  {
   "cell_type": "markdown",
   "metadata": {},
   "source": [
    "The function `manhattan` implemented below takes as argument two *extended states* `S1` and `S2` \n",
    "possibly containing wildcards and computes the *Manhattan distance* between these \n",
    "extended states. Basically, the manhattan distance measure the number of moves that it would take to transform `S1` into `S2` if we were allowed to slide different tiles on top of each other.\n",
    "When computing these distances,  tiles that are numbered with a wildcard are ignored."
   ]
  },
  {
   "cell_type": "code",
   "execution_count": 107,
   "metadata": {},
   "outputs": [],
   "source": [
    "def manhattan(S1: State, S2: State) -> int:\n",
    "    res = 0\n",
    "    n = len(S)\n",
    "    for i in range(n):\n",
    "        for j in range(n):\n",
    "            if S2[i][j] != '*':\n",
    "                [y, x] = find_tile(S2[i][j], S1)\n",
    "                res += abs(i-y) + abs(j-x)\n",
    "    return res"
   ]
  },
  {
   "cell_type": "markdown",
   "metadata": {},
   "source": [
    "The function `find_numbers` takes a <em style=\"color:blue\">pattern</em> `Pattern` as input and returns the\n",
    "list of all tiles in `Pattern` that are labeled with a number."
   ]
  },
  {
   "cell_type": "code",
   "execution_count": 89,
   "metadata": {},
   "outputs": [],
   "source": [
    "def find_numbers(Pattern: State) -> list[str]:\n",
    "    Result = []\n",
    "    n = len(Pattern)\n",
    "    for row in range(n):\n",
    "        for col in range(n):\n",
    "            tile = Pattern[row][col]\n",
    "            if tile != '*':\n",
    "                Result.append(tile)\n",
    "    return Result"
   ]
  },
  {
   "cell_type": "markdown",
   "metadata": {},
   "source": [
    "The function `replace_numbers` takes two arguments:\n",
    "- `Pattern` is an *extended state*,\n",
    "- `Tiles` is a list of numbered tiles.\n",
    "\n",
    "The state `Pattern` is transformed by replacing all tiles that are not a member of the list `Tiles`\n",
    "with the wildcard character `*`."
   ]
  },
  {
   "cell_type": "code",
   "execution_count": 90,
   "metadata": {},
   "outputs": [],
   "source": [
    "def replace_numbers(Pattern: State, Tiles: list[str]) -> State:\n",
    "    res: list[list[str]] = []\n",
    "    n = len(Pattern)\n",
    "    for i in range(n):\n",
    "        row: list[str] = []\n",
    "        for j in range(n):\n",
    "            if Pattern[i][j] in Tiles:\n",
    "                row.append(Pattern[i][j])\n",
    "            else:\n",
    "                row.append('*')\n",
    "        res.append(row)\n",
    "    return to_tuple(res);"
   ]
  },
  {
   "cell_type": "markdown",
   "metadata": {},
   "source": [
    "The function `intermediate_goals` is called with two parameters:\n",
    "- `Goal` is a state of the 15-puzzle,\n",
    "- `TilesList` is a list of list of numbers.\n",
    "   For example, `TilesList` could be the list `[ [14, 15], [12, 13] ]`.\n",
    "   This list would specify that we want to create two intermediate \n",
    "   goals.  \n",
    "   - The first goal would only have the tiles numbered `14`and `15`,\n",
    "     while all other tiles would be replaced by wildcards.\n",
    "   - The second goal would only have the tiles numbered `12`, `13`, `14`,\n",
    "     and `15`, while all other tiles would be replaced by wildcards.\n",
    "\n",
    "The function returns the list of intermediate goals. "
   ]
  },
  {
   "cell_type": "code",
   "execution_count": 91,
   "metadata": {},
   "outputs": [],
   "source": [
    "def intermediate_goals(Goal: State, TilesList: list[list[str]]) -> list[State]:\n",
    "    goals: list[State] = []\n",
    "    tiles: list[str] = []\n",
    "    for ts in TilesList:\n",
    "        tiles += ts\n",
    "        goals.append(replace_numbers(Goal, tiles))\n",
    "    return goals"
   ]
  },
  {
   "cell_type": "markdown",
   "metadata": {},
   "source": [
    "Given two extended states $P_1$ and $P_2$ the function `extract_move` returns a pair `(dx, dy)` such that we have:\n",
    "$$ (r, c) = \\texttt{find_tile}(0, P_1) \\rightarrow \\texttt{move_dir}(P_1, r, c, dx, dy) = P_2\n",
    "$$\n",
    "Hence `extract_move`($P_1$, $P_2$) computes the action that is necessary to transform $P_1$ into $P_2$.  This action is encoded as a direction $(dx, dy)$.  This is the direction to move the empty tile in $P_1$ to reach $P_2$."
   ]
  },
  {
   "cell_type": "code",
   "execution_count": 92,
   "metadata": {},
   "outputs": [],
   "source": [
    "Move = tuple[int, int]"
   ]
  },
  {
   "cell_type": "code",
   "execution_count": 138,
   "metadata": {},
   "outputs": [],
   "source": [
    "def extract_move(P1: State, P2: State) -> Move:\n",
    "    n = len(P1)\n",
    "    for i in range(n):\n",
    "        for j in range(n):\n",
    "            if P1[i][j] != P2[i][j]:\n",
    "                if i > 0 and P2[i-1][j] == '0':\n",
    "                    return (0, -1)\n",
    "                elif i < n-1 and P2[i+1][j] == '0':\n",
    "                    return (0, 1)\n",
    "                elif j > 0 and P2[i][j-1] == '0':\n",
    "                    return (-1, 0)\n",
    "                elif j < n-1 and P2[i][j+1] == '0':\n",
    "                    return (1, 0)\n",
    "    return (0, 0)"
   ]
  },
  {
   "cell_type": "markdown",
   "metadata": {},
   "source": [
    "Given a list of extended states `PatternList` of the form\n",
    "$$ \\texttt{PatternList} = [P_1, P_2, \\cdots, P_n] $$\n",
    "the function `extract_move_list` computes a list of actions $[a_1, a_2, \\cdots, a_{n-1}]$ such that\n",
    "applying action $(a_i)$ to state $P_i$ results in state $P_{i+1}$.  \n",
    "The actions are pairs of the form `(dx, dy)` that specify how the empty tile is to be moved."
   ]
  },
  {
   "cell_type": "code",
   "execution_count": 139,
   "metadata": {},
   "outputs": [],
   "source": [
    "def extract_move_list(PatternList: list[State]) -> list[Move]:\n",
    "    moves: list[Move] = []\n",
    "    for i in range(len(PatternList)-1):\n",
    "        moves.append(extract_move(PatternList[i], PatternList[i+1]))\n",
    "    return moves"
   ]
  },
  {
   "cell_type": "markdown",
   "metadata": {},
   "source": [
    "Given the list of actions `MoveList` of the form $[a_1, a_2, \\cdots, a_{n-1}]$, the function\n",
    "`apply_move_list` takes a state `State` and applies these action to `State`one by one.  The list of all\n",
    "states produced this way is returned.  This list starts with the given state `State`."
   ]
  },
  {
   "cell_type": "code",
   "execution_count": 142,
   "metadata": {},
   "outputs": [],
   "source": [
    "def apply_move_list(S: State, MoveList: list[Move]) -> list[State]:\n",
    "    states: list[State] = [S]\n",
    "    curState = S\n",
    "    for move in MoveList:\n",
    "        (dx, dy) = move\n",
    "        [row, col] = find_tile('0', curState)\n",
    "        #print(stateToString(curState))\n",
    "        #print(f\"dx: {dx}, dy: {dy}, row: {row}, col: {col}\")\n",
    "        curState = move_dir(curState, row, col, dx, dy)\n",
    "        states.append(curState)\n",
    "    return states"
   ]
  },
  {
   "cell_type": "code",
   "execution_count": 143,
   "metadata": {
    "scrolled": true
   },
   "outputs": [
    {
     "name": "stdout",
     "output_type": "stream",
     "text": [
      "Start state:\n"
     ]
    },
    {
     "data": {
      "application/vnd.jupyter.widget-view+json": {
       "model_id": "2131a3aaada947f49b0fc3f822dc58c1",
       "version_major": 2,
       "version_minor": 0
      },
      "text/plain": [
       "Canvas()"
      ]
     },
     "metadata": {},
     "output_type": "display_data"
    },
    {
     "name": "stdout",
     "output_type": "stream",
     "text": [
      "Trying to reach the following pattern:\n"
     ]
    },
    {
     "data": {
      "application/vnd.jupyter.widget-view+json": {
       "model_id": "bceab78dfdd14224ae08f2f314d077f2",
       "version_major": 2,
       "version_minor": 0
      },
      "text/plain": [
       "Canvas()"
      ]
     },
     "metadata": {},
     "output_type": "display_data"
    },
    {
     "name": "stdout",
     "output_type": "stream",
     "text": [
      "Number of states visited: 597\n",
      "The following state is reached after 18 steps:\n"
     ]
    },
    {
     "data": {
      "application/vnd.jupyter.widget-view+json": {
       "model_id": "8d32955baed24791bc2437b9b9aeef8e",
       "version_major": 2,
       "version_minor": 0
      },
      "text/plain": [
       "Canvas()"
      ]
     },
     "metadata": {},
     "output_type": "display_data"
    },
    {
     "name": "stdout",
     "output_type": "stream",
     "text": [
      "Trying to reach the following pattern:\n"
     ]
    },
    {
     "data": {
      "application/vnd.jupyter.widget-view+json": {
       "model_id": "e2e7fb0dcee1441bae65b9bbb54cad2c",
       "version_major": 2,
       "version_minor": 0
      },
      "text/plain": [
       "Canvas()"
      ]
     },
     "metadata": {},
     "output_type": "display_data"
    },
    {
     "name": "stdout",
     "output_type": "stream",
     "text": [
      "Number of states visited: 23326\n",
      "The following state is reached after 28 steps:\n"
     ]
    },
    {
     "data": {
      "application/vnd.jupyter.widget-view+json": {
       "model_id": "ce504b19c9db4b61abe9f30bf2ba7d15",
       "version_major": 2,
       "version_minor": 0
      },
      "text/plain": [
       "Canvas()"
      ]
     },
     "metadata": {},
     "output_type": "display_data"
    },
    {
     "name": "stdout",
     "output_type": "stream",
     "text": [
      "Trying to reach the following pattern:\n"
     ]
    },
    {
     "data": {
      "application/vnd.jupyter.widget-view+json": {
       "model_id": "b7cf22adeeac45f9adf8c548a1b67be7",
       "version_major": 2,
       "version_minor": 0
      },
      "text/plain": [
       "Canvas()"
      ]
     },
     "metadata": {},
     "output_type": "display_data"
    },
    {
     "name": "stdout",
     "output_type": "stream",
     "text": [
      "Number of states visited: 1051\n",
      "The following state is reached after 17 steps:\n"
     ]
    },
    {
     "data": {
      "application/vnd.jupyter.widget-view+json": {
       "model_id": "860ebf50aa5c46118327bcf552771c19",
       "version_major": 2,
       "version_minor": 0
      },
      "text/plain": [
       "Canvas()"
      ]
     },
     "metadata": {},
     "output_type": "display_data"
    },
    {
     "name": "stdout",
     "output_type": "stream",
     "text": [
      "Trying to reach the following pattern:\n"
     ]
    },
    {
     "data": {
      "application/vnd.jupyter.widget-view+json": {
       "model_id": "b7e7281f7e36473fa43bf91dfef03533",
       "version_major": 2,
       "version_minor": 0
      },
      "text/plain": [
       "Canvas()"
      ]
     },
     "metadata": {},
     "output_type": "display_data"
    },
    {
     "name": "stdout",
     "output_type": "stream",
     "text": [
      "Number of states visited: 2760\n",
      "The following state is reached after 19 steps:\n"
     ]
    },
    {
     "data": {
      "application/vnd.jupyter.widget-view+json": {
       "model_id": "169f8889d55f4c9395b3f976654da03b",
       "version_major": 2,
       "version_minor": 0
      },
      "text/plain": [
       "Canvas()"
      ]
     },
     "metadata": {},
     "output_type": "display_data"
    },
    {
     "name": "stdout",
     "output_type": "stream",
     "text": [
      "Trying to reach the following pattern:\n"
     ]
    },
    {
     "data": {
      "application/vnd.jupyter.widget-view+json": {
       "model_id": "392be93c4eb74d74a677e971f50085dd",
       "version_major": 2,
       "version_minor": 0
      },
      "text/plain": [
       "Canvas()"
      ]
     },
     "metadata": {},
     "output_type": "display_data"
    },
    {
     "name": "stdout",
     "output_type": "stream",
     "text": [
      "Number of states visited: 419\n",
      "The following state is reached after 12 steps:\n"
     ]
    },
    {
     "data": {
      "application/vnd.jupyter.widget-view+json": {
       "model_id": "9a029a3ba1184124b9bf11428a14ea83",
       "version_major": 2,
       "version_minor": 0
      },
      "text/plain": [
       "Canvas()"
      ]
     },
     "metadata": {},
     "output_type": "display_data"
    },
    {
     "name": "stdout",
     "output_type": "stream",
     "text": [
      "Trying to reach the following pattern:\n"
     ]
    },
    {
     "data": {
      "application/vnd.jupyter.widget-view+json": {
       "model_id": "0df658934b4c49b58e7f55090aa40dbb",
       "version_major": 2,
       "version_minor": 0
      },
      "text/plain": [
       "Canvas()"
      ]
     },
     "metadata": {},
     "output_type": "display_data"
    },
    {
     "name": "stdout",
     "output_type": "stream",
     "text": [
      "Number of states visited: 4\n",
      "The following state is reached after 4 steps:\n"
     ]
    },
    {
     "data": {
      "application/vnd.jupyter.widget-view+json": {
       "model_id": "daeb3fcdb2bc4f33833347f5879e2717",
       "version_major": 2,
       "version_minor": 0
      },
      "text/plain": [
       "Canvas()"
      ]
     },
     "metadata": {},
     "output_type": "display_data"
    },
    {
     "name": "stdout",
     "output_type": "stream",
     "text": [
      "Trying to reach the following pattern:\n"
     ]
    },
    {
     "data": {
      "application/vnd.jupyter.widget-view+json": {
       "model_id": "b8558e4b5e07470a9eddcc5dcdd5a102",
       "version_major": 2,
       "version_minor": 0
      },
      "text/plain": [
       "Canvas()"
      ]
     },
     "metadata": {},
     "output_type": "display_data"
    },
    {
     "name": "stdout",
     "output_type": "stream",
     "text": [
      "Number of states visited: 9\n",
      "The following state is reached after 6 steps:\n"
     ]
    },
    {
     "data": {
      "application/vnd.jupyter.widget-view+json": {
       "model_id": "e09e54d283e94693977b840689466ba1",
       "version_major": 2,
       "version_minor": 0
      },
      "text/plain": [
       "Canvas()"
      ]
     },
     "metadata": {},
     "output_type": "display_data"
    },
    {
     "data": {
      "text/plain": [
       "[(('0', '14', '8', '12'),\n",
       "  ('10', '11', '13', '9'),\n",
       "  ('6', '2', '4', '15'),\n",
       "  ('3', '5', '7', '1')),\n",
       " (('10', '14', '8', '12'),\n",
       "  ('0', '11', '13', '9'),\n",
       "  ('6', '2', '4', '15'),\n",
       "  ('3', '5', '7', '1')),\n",
       " (('10', '14', '8', '12'),\n",
       "  ('11', '0', '13', '9'),\n",
       "  ('6', '2', '4', '15'),\n",
       "  ('3', '5', '7', '1')),\n",
       " (('10', '0', '8', '12'),\n",
       "  ('11', '14', '13', '9'),\n",
       "  ('6', '2', '4', '15'),\n",
       "  ('3', '5', '7', '1')),\n",
       " (('10', '8', '0', '12'),\n",
       "  ('11', '14', '13', '9'),\n",
       "  ('6', '2', '4', '15'),\n",
       "  ('3', '5', '7', '1')),\n",
       " (('10', '8', '13', '12'),\n",
       "  ('11', '14', '0', '9'),\n",
       "  ('6', '2', '4', '15'),\n",
       "  ('3', '5', '7', '1')),\n",
       " (('10', '8', '13', '12'),\n",
       "  ('11', '0', '14', '9'),\n",
       "  ('6', '2', '4', '15'),\n",
       "  ('3', '5', '7', '1')),\n",
       " (('10', '8', '13', '12'),\n",
       "  ('11', '2', '14', '9'),\n",
       "  ('6', '0', '4', '15'),\n",
       "  ('3', '5', '7', '1')),\n",
       " (('10', '8', '13', '12'),\n",
       "  ('11', '2', '14', '9'),\n",
       "  ('6', '5', '4', '15'),\n",
       "  ('3', '0', '7', '1')),\n",
       " (('10', '8', '13', '12'),\n",
       "  ('11', '2', '14', '9'),\n",
       "  ('6', '5', '4', '15'),\n",
       "  ('3', '7', '0', '1')),\n",
       " (('10', '8', '13', '12'),\n",
       "  ('11', '2', '14', '9'),\n",
       "  ('6', '5', '4', '15'),\n",
       "  ('3', '7', '1', '0')),\n",
       " (('10', '8', '13', '12'),\n",
       "  ('11', '2', '14', '9'),\n",
       "  ('6', '5', '4', '0'),\n",
       "  ('3', '7', '1', '15')),\n",
       " (('10', '8', '13', '12'),\n",
       "  ('11', '2', '14', '9'),\n",
       "  ('6', '5', '0', '4'),\n",
       "  ('3', '7', '1', '15')),\n",
       " (('10', '8', '13', '12'),\n",
       "  ('11', '2', '0', '9'),\n",
       "  ('6', '5', '14', '4'),\n",
       "  ('3', '7', '1', '15')),\n",
       " (('10', '8', '13', '12'),\n",
       "  ('11', '0', '2', '9'),\n",
       "  ('6', '5', '14', '4'),\n",
       "  ('3', '7', '1', '15')),\n",
       " (('10', '8', '13', '12'),\n",
       "  ('11', '5', '2', '9'),\n",
       "  ('6', '0', '14', '4'),\n",
       "  ('3', '7', '1', '15')),\n",
       " (('10', '8', '13', '12'),\n",
       "  ('11', '5', '2', '9'),\n",
       "  ('6', '7', '14', '4'),\n",
       "  ('3', '0', '1', '15')),\n",
       " (('10', '8', '13', '12'),\n",
       "  ('11', '5', '2', '9'),\n",
       "  ('6', '7', '14', '4'),\n",
       "  ('3', '1', '0', '15')),\n",
       " (('10', '8', '13', '12'),\n",
       "  ('11', '5', '2', '9'),\n",
       "  ('6', '7', '0', '4'),\n",
       "  ('3', '1', '14', '15')),\n",
       " (('10', '8', '13', '12'),\n",
       "  ('11', '5', '0', '9'),\n",
       "  ('6', '7', '2', '4'),\n",
       "  ('3', '1', '14', '15')),\n",
       " (('10', '8', '0', '12'),\n",
       "  ('11', '5', '13', '9'),\n",
       "  ('6', '7', '2', '4'),\n",
       "  ('3', '1', '14', '15')),\n",
       " (('10', '8', '12', '0'),\n",
       "  ('11', '5', '13', '9'),\n",
       "  ('6', '7', '2', '4'),\n",
       "  ('3', '1', '14', '15')),\n",
       " (('10', '8', '12', '9'),\n",
       "  ('11', '5', '13', '0'),\n",
       "  ('6', '7', '2', '4'),\n",
       "  ('3', '1', '14', '15')),\n",
       " (('10', '8', '12', '9'),\n",
       "  ('11', '5', '13', '4'),\n",
       "  ('6', '7', '2', '0'),\n",
       "  ('3', '1', '14', '15')),\n",
       " (('10', '8', '12', '9'),\n",
       "  ('11', '5', '13', '4'),\n",
       "  ('6', '7', '0', '2'),\n",
       "  ('3', '1', '14', '15')),\n",
       " (('10', '8', '12', '9'),\n",
       "  ('11', '5', '0', '4'),\n",
       "  ('6', '7', '13', '2'),\n",
       "  ('3', '1', '14', '15')),\n",
       " (('10', '8', '0', '9'),\n",
       "  ('11', '5', '12', '4'),\n",
       "  ('6', '7', '13', '2'),\n",
       "  ('3', '1', '14', '15')),\n",
       " (('10', '0', '8', '9'),\n",
       "  ('11', '5', '12', '4'),\n",
       "  ('6', '7', '13', '2'),\n",
       "  ('3', '1', '14', '15')),\n",
       " (('10', '5', '8', '9'),\n",
       "  ('11', '0', '12', '4'),\n",
       "  ('6', '7', '13', '2'),\n",
       "  ('3', '1', '14', '15')),\n",
       " (('10', '5', '8', '9'),\n",
       "  ('11', '7', '12', '4'),\n",
       "  ('6', '0', '13', '2'),\n",
       "  ('3', '1', '14', '15')),\n",
       " (('10', '5', '8', '9'),\n",
       "  ('11', '7', '12', '4'),\n",
       "  ('6', '13', '0', '2'),\n",
       "  ('3', '1', '14', '15')),\n",
       " (('10', '5', '8', '9'),\n",
       "  ('11', '7', '0', '4'),\n",
       "  ('6', '13', '12', '2'),\n",
       "  ('3', '1', '14', '15')),\n",
       " (('10', '5', '8', '9'),\n",
       "  ('11', '0', '7', '4'),\n",
       "  ('6', '13', '12', '2'),\n",
       "  ('3', '1', '14', '15')),\n",
       " (('10', '5', '8', '9'),\n",
       "  ('0', '11', '7', '4'),\n",
       "  ('6', '13', '12', '2'),\n",
       "  ('3', '1', '14', '15')),\n",
       " (('10', '5', '8', '9'),\n",
       "  ('6', '11', '7', '4'),\n",
       "  ('0', '13', '12', '2'),\n",
       "  ('3', '1', '14', '15')),\n",
       " (('10', '5', '8', '9'),\n",
       "  ('6', '11', '7', '4'),\n",
       "  ('3', '13', '12', '2'),\n",
       "  ('0', '1', '14', '15')),\n",
       " (('10', '5', '8', '9'),\n",
       "  ('6', '11', '7', '4'),\n",
       "  ('3', '13', '12', '2'),\n",
       "  ('1', '0', '14', '15')),\n",
       " (('10', '5', '8', '9'),\n",
       "  ('6', '11', '7', '4'),\n",
       "  ('3', '0', '12', '2'),\n",
       "  ('1', '13', '14', '15')),\n",
       " (('10', '5', '8', '9'),\n",
       "  ('6', '11', '7', '4'),\n",
       "  ('3', '12', '0', '2'),\n",
       "  ('1', '13', '14', '15')),\n",
       " (('10', '5', '8', '9'),\n",
       "  ('6', '11', '7', '4'),\n",
       "  ('3', '12', '14', '2'),\n",
       "  ('1', '13', '0', '15')),\n",
       " (('10', '5', '8', '9'),\n",
       "  ('6', '11', '7', '4'),\n",
       "  ('3', '12', '14', '2'),\n",
       "  ('1', '0', '13', '15')),\n",
       " (('10', '5', '8', '9'),\n",
       "  ('6', '11', '7', '4'),\n",
       "  ('3', '0', '14', '2'),\n",
       "  ('1', '12', '13', '15')),\n",
       " (('10', '5', '8', '9'),\n",
       "  ('6', '11', '7', '4'),\n",
       "  ('0', '3', '14', '2'),\n",
       "  ('1', '12', '13', '15')),\n",
       " (('10', '5', '8', '9'),\n",
       "  ('6', '11', '7', '4'),\n",
       "  ('1', '3', '14', '2'),\n",
       "  ('0', '12', '13', '15')),\n",
       " (('10', '5', '8', '9'),\n",
       "  ('6', '11', '7', '4'),\n",
       "  ('1', '3', '14', '2'),\n",
       "  ('12', '0', '13', '15')),\n",
       " (('10', '5', '8', '9'),\n",
       "  ('6', '11', '7', '4'),\n",
       "  ('1', '3', '14', '2'),\n",
       "  ('12', '13', '0', '15')),\n",
       " (('10', '5', '8', '9'),\n",
       "  ('6', '11', '7', '4'),\n",
       "  ('1', '3', '0', '2'),\n",
       "  ('12', '13', '14', '15')),\n",
       " (('10', '5', '8', '9'),\n",
       "  ('6', '11', '7', '4'),\n",
       "  ('1', '0', '3', '2'),\n",
       "  ('12', '13', '14', '15')),\n",
       " (('10', '5', '8', '9'),\n",
       "  ('6', '0', '7', '4'),\n",
       "  ('1', '11', '3', '2'),\n",
       "  ('12', '13', '14', '15')),\n",
       " (('10', '0', '8', '9'),\n",
       "  ('6', '5', '7', '4'),\n",
       "  ('1', '11', '3', '2'),\n",
       "  ('12', '13', '14', '15')),\n",
       " (('0', '10', '8', '9'),\n",
       "  ('6', '5', '7', '4'),\n",
       "  ('1', '11', '3', '2'),\n",
       "  ('12', '13', '14', '15')),\n",
       " (('6', '10', '8', '9'),\n",
       "  ('0', '5', '7', '4'),\n",
       "  ('1', '11', '3', '2'),\n",
       "  ('12', '13', '14', '15')),\n",
       " (('6', '10', '8', '9'),\n",
       "  ('5', '0', '7', '4'),\n",
       "  ('1', '11', '3', '2'),\n",
       "  ('12', '13', '14', '15')),\n",
       " (('6', '0', '8', '9'),\n",
       "  ('5', '10', '7', '4'),\n",
       "  ('1', '11', '3', '2'),\n",
       "  ('12', '13', '14', '15')),\n",
       " (('6', '8', '0', '9'),\n",
       "  ('5', '10', '7', '4'),\n",
       "  ('1', '11', '3', '2'),\n",
       "  ('12', '13', '14', '15')),\n",
       " (('6', '8', '7', '9'),\n",
       "  ('5', '10', '0', '4'),\n",
       "  ('1', '11', '3', '2'),\n",
       "  ('12', '13', '14', '15')),\n",
       " (('6', '8', '7', '9'),\n",
       "  ('5', '10', '3', '4'),\n",
       "  ('1', '11', '0', '2'),\n",
       "  ('12', '13', '14', '15')),\n",
       " (('6', '8', '7', '9'),\n",
       "  ('5', '10', '3', '4'),\n",
       "  ('1', '0', '11', '2'),\n",
       "  ('12', '13', '14', '15')),\n",
       " (('6', '8', '7', '9'),\n",
       "  ('5', '0', '3', '4'),\n",
       "  ('1', '10', '11', '2'),\n",
       "  ('12', '13', '14', '15')),\n",
       " (('6', '8', '7', '9'),\n",
       "  ('5', '3', '0', '4'),\n",
       "  ('1', '10', '11', '2'),\n",
       "  ('12', '13', '14', '15')),\n",
       " (('6', '8', '7', '9'),\n",
       "  ('5', '3', '4', '0'),\n",
       "  ('1', '10', '11', '2'),\n",
       "  ('12', '13', '14', '15')),\n",
       " (('6', '8', '7', '9'),\n",
       "  ('5', '3', '4', '2'),\n",
       "  ('1', '10', '11', '0'),\n",
       "  ('12', '13', '14', '15')),\n",
       " (('6', '8', '7', '9'),\n",
       "  ('5', '3', '4', '2'),\n",
       "  ('1', '10', '0', '11'),\n",
       "  ('12', '13', '14', '15')),\n",
       " (('6', '8', '7', '9'),\n",
       "  ('5', '3', '4', '2'),\n",
       "  ('1', '0', '10', '11'),\n",
       "  ('12', '13', '14', '15')),\n",
       " (('6', '8', '7', '9'),\n",
       "  ('5', '3', '4', '2'),\n",
       "  ('1', '10', '0', '11'),\n",
       "  ('12', '13', '14', '15')),\n",
       " (('6', '8', '7', '9'),\n",
       "  ('5', '3', '0', '2'),\n",
       "  ('1', '10', '4', '11'),\n",
       "  ('12', '13', '14', '15')),\n",
       " (('6', '8', '0', '9'),\n",
       "  ('5', '3', '7', '2'),\n",
       "  ('1', '10', '4', '11'),\n",
       "  ('12', '13', '14', '15')),\n",
       " (('6', '8', '9', '0'),\n",
       "  ('5', '3', '7', '2'),\n",
       "  ('1', '10', '4', '11'),\n",
       "  ('12', '13', '14', '15')),\n",
       " (('6', '8', '9', '2'),\n",
       "  ('5', '3', '7', '0'),\n",
       "  ('1', '10', '4', '11'),\n",
       "  ('12', '13', '14', '15')),\n",
       " (('6', '8', '9', '2'),\n",
       "  ('5', '3', '0', '7'),\n",
       "  ('1', '10', '4', '11'),\n",
       "  ('12', '13', '14', '15')),\n",
       " (('6', '8', '9', '2'),\n",
       "  ('5', '0', '3', '7'),\n",
       "  ('1', '10', '4', '11'),\n",
       "  ('12', '13', '14', '15')),\n",
       " (('6', '0', '9', '2'),\n",
       "  ('5', '8', '3', '7'),\n",
       "  ('1', '10', '4', '11'),\n",
       "  ('12', '13', '14', '15')),\n",
       " (('6', '9', '0', '2'),\n",
       "  ('5', '8', '3', '7'),\n",
       "  ('1', '10', '4', '11'),\n",
       "  ('12', '13', '14', '15')),\n",
       " (('6', '9', '3', '2'),\n",
       "  ('5', '8', '0', '7'),\n",
       "  ('1', '10', '4', '11'),\n",
       "  ('12', '13', '14', '15')),\n",
       " (('6', '9', '3', '2'),\n",
       "  ('5', '8', '4', '7'),\n",
       "  ('1', '10', '0', '11'),\n",
       "  ('12', '13', '14', '15')),\n",
       " (('6', '9', '3', '2'),\n",
       "  ('5', '8', '4', '7'),\n",
       "  ('1', '0', '10', '11'),\n",
       "  ('12', '13', '14', '15')),\n",
       " (('6', '9', '3', '2'),\n",
       "  ('5', '0', '4', '7'),\n",
       "  ('1', '8', '10', '11'),\n",
       "  ('12', '13', '14', '15')),\n",
       " (('6', '0', '3', '2'),\n",
       "  ('5', '9', '4', '7'),\n",
       "  ('1', '8', '10', '11'),\n",
       "  ('12', '13', '14', '15')),\n",
       " (('0', '6', '3', '2'),\n",
       "  ('5', '9', '4', '7'),\n",
       "  ('1', '8', '10', '11'),\n",
       "  ('12', '13', '14', '15')),\n",
       " (('5', '6', '3', '2'),\n",
       "  ('0', '9', '4', '7'),\n",
       "  ('1', '8', '10', '11'),\n",
       "  ('12', '13', '14', '15')),\n",
       " (('5', '6', '3', '2'),\n",
       "  ('1', '9', '4', '7'),\n",
       "  ('0', '8', '10', '11'),\n",
       "  ('12', '13', '14', '15')),\n",
       " (('5', '6', '3', '2'),\n",
       "  ('1', '9', '4', '7'),\n",
       "  ('8', '0', '10', '11'),\n",
       "  ('12', '13', '14', '15')),\n",
       " (('5', '6', '3', '2'),\n",
       "  ('1', '0', '4', '7'),\n",
       "  ('8', '9', '10', '11'),\n",
       "  ('12', '13', '14', '15')),\n",
       " (('5', '6', '3', '2'),\n",
       "  ('1', '9', '4', '7'),\n",
       "  ('8', '0', '10', '11'),\n",
       "  ('12', '13', '14', '15')),\n",
       " (('5', '6', '3', '2'),\n",
       "  ('1', '9', '4', '7'),\n",
       "  ('8', '10', '0', '11'),\n",
       "  ('12', '13', '14', '15')),\n",
       " (('5', '6', '3', '2'),\n",
       "  ('1', '9', '4', '7'),\n",
       "  ('8', '10', '11', '0'),\n",
       "  ('12', '13', '14', '15')),\n",
       " (('5', '6', '3', '2'),\n",
       "  ('1', '9', '4', '0'),\n",
       "  ('8', '10', '11', '7'),\n",
       "  ('12', '13', '14', '15')),\n",
       " (('5', '6', '3', '0'),\n",
       "  ('1', '9', '4', '2'),\n",
       "  ('8', '10', '11', '7'),\n",
       "  ('12', '13', '14', '15')),\n",
       " (('5', '6', '0', '3'),\n",
       "  ('1', '9', '4', '2'),\n",
       "  ('8', '10', '11', '7'),\n",
       "  ('12', '13', '14', '15')),\n",
       " (('5', '6', '4', '3'),\n",
       "  ('1', '9', '0', '2'),\n",
       "  ('8', '10', '11', '7'),\n",
       "  ('12', '13', '14', '15')),\n",
       " (('5', '6', '4', '3'),\n",
       "  ('1', '9', '2', '0'),\n",
       "  ('8', '10', '11', '7'),\n",
       "  ('12', '13', '14', '15')),\n",
       " (('5', '6', '4', '3'),\n",
       "  ('1', '9', '2', '7'),\n",
       "  ('8', '10', '11', '0'),\n",
       "  ('12', '13', '14', '15')),\n",
       " (('5', '6', '4', '3'),\n",
       "  ('1', '9', '2', '7'),\n",
       "  ('8', '10', '0', '11'),\n",
       "  ('12', '13', '14', '15')),\n",
       " (('5', '6', '4', '3'),\n",
       "  ('1', '9', '2', '7'),\n",
       "  ('8', '0', '10', '11'),\n",
       "  ('12', '13', '14', '15')),\n",
       " (('5', '6', '4', '3'),\n",
       "  ('1', '0', '2', '7'),\n",
       "  ('8', '9', '10', '11'),\n",
       "  ('12', '13', '14', '15')),\n",
       " (('5', '0', '4', '3'),\n",
       "  ('1', '6', '2', '7'),\n",
       "  ('8', '9', '10', '11'),\n",
       "  ('12', '13', '14', '15')),\n",
       " (('5', '4', '0', '3'),\n",
       "  ('1', '6', '2', '7'),\n",
       "  ('8', '9', '10', '11'),\n",
       "  ('12', '13', '14', '15')),\n",
       " (('5', '4', '2', '3'),\n",
       "  ('1', '6', '0', '7'),\n",
       "  ('8', '9', '10', '11'),\n",
       "  ('12', '13', '14', '15')),\n",
       " (('5', '4', '2', '3'),\n",
       "  ('1', '0', '6', '7'),\n",
       "  ('8', '9', '10', '11'),\n",
       "  ('12', '13', '14', '15')),\n",
       " (('5', '0', '2', '3'),\n",
       "  ('1', '4', '6', '7'),\n",
       "  ('8', '9', '10', '11'),\n",
       "  ('12', '13', '14', '15')),\n",
       " (('0', '5', '2', '3'),\n",
       "  ('1', '4', '6', '7'),\n",
       "  ('8', '9', '10', '11'),\n",
       "  ('12', '13', '14', '15')),\n",
       " (('1', '5', '2', '3'),\n",
       "  ('0', '4', '6', '7'),\n",
       "  ('8', '9', '10', '11'),\n",
       "  ('12', '13', '14', '15')),\n",
       " (('1', '5', '2', '3'),\n",
       "  ('4', '0', '6', '7'),\n",
       "  ('8', '9', '10', '11'),\n",
       "  ('12', '13', '14', '15')),\n",
       " (('1', '0', '2', '3'),\n",
       "  ('4', '5', '6', '7'),\n",
       "  ('8', '9', '10', '11'),\n",
       "  ('12', '13', '14', '15')),\n",
       " (('0', '1', '2', '3'),\n",
       "  ('4', '5', '6', '7'),\n",
       "  ('8', '9', '10', '11'),\n",
       "  ('12', '13', '14', '15'))]"
      ]
     },
     "execution_count": 143,
     "metadata": {},
     "output_type": "execute_result"
    }
   ],
   "source": [
    "main()"
   ]
  },
  {
   "cell_type": "markdown",
   "metadata": {},
   "source": [
    "The function `stateToString` is useful for debugging purposes to transform a given state into a string."
   ]
  },
  {
   "cell_type": "code",
   "execution_count": 96,
   "metadata": {},
   "outputs": [],
   "source": [
    "def stateToString(S: State) -> str:\n",
    "    n      = len(S)\n",
    "    indent = \" \" * 4;\n",
    "    line   = indent + \"+---\" * n + \"+\\n\"\n",
    "    result = line\n",
    "    for row in range(n):\n",
    "        result += indent + \"|\"\n",
    "        for col in range(n):\n",
    "            cell = S[row][col]\n",
    "            if isinstance(cell, str) and cell != '*':\n",
    "                number = int(cell)\n",
    "            if cell == \"*\":\n",
    "                result += \" * \"\n",
    "            elif number >= 10:\n",
    "                result += str(cell) + \" \"\n",
    "            elif 0 < number < 10:\n",
    "                result += \" \" + cell + \" \"\n",
    "            else: \n",
    "                result += \"   \"\n",
    "            result += \"|\"\n",
    "        result += \"\\n\"\n",
    "        result += line\n",
    "    return result"
   ]
  },
  {
   "cell_type": "code",
   "execution_count": 97,
   "metadata": {},
   "outputs": [
    {
     "name": "stdout",
     "output_type": "stream",
     "text": [
      "    +---+---+---+---+\n",
      "    |   |14 | 8 |12 |\n",
      "    +---+---+---+---+\n",
      "    |10 |11 |13 | 9 |\n",
      "    +---+---+---+---+\n",
      "    | 6 | 2 | 4 |15 |\n",
      "    +---+---+---+---+\n",
      "    | 3 | 5 | 7 | 1 |\n",
      "    +---+---+---+---+\n",
      "\n"
     ]
    }
   ],
   "source": [
    "print(stateToString(Start))"
   ]
  },
  {
   "cell_type": "markdown",
   "metadata": {},
   "source": [
    "## A$^*$ Search"
   ]
  },
  {
   "cell_type": "code",
   "execution_count": 98,
   "metadata": {},
   "outputs": [],
   "source": [
    "import heapq"
   ]
  },
  {
   "cell_type": "markdown",
   "metadata": {},
   "source": [
    "The function `search` takes three arguments to solve a *search problem*:\n",
    "- `Start` is the start state of the search problem.\n",
    "- `Goal`is the goal state.  This might be an *extended state*.\n",
    "- `next_states` is a function with signature $\\texttt{next_states}:Q \\rightarrow 2^Q$, where $Q$ is the set of states.\n",
    "  For every state $s \\in Q$, $\\texttt{next_states}(s)$ is the set of states that can be reached from $s$ in one step.\n",
    "- `heuristic` is a function that takes two states as arguments.  It returns an estimate of the \n",
    "  length of the shortest path between these states.\n",
    "If successful, `search` returns a path from `start` to `goal` that is a solution of the search problem\n",
    "$$ \\langle Q, \\texttt{next_states}, \\texttt{start}, \\texttt{goal} \\rangle. $$\n",
    "\n",
    "Basically, the function `search` implements A$^*$ search, but instead of checking whether a state is identical to `Goal`, this function only tests whether a state *matches* goal."
   ]
  },
  {
   "cell_type": "markdown",
   "metadata": {},
   "source": [
    "The parameter `Goal` is not a state, but only a *pattern*."
   ]
  },
  {
   "cell_type": "code",
   "execution_count": 99,
   "metadata": {},
   "outputs": [],
   "source": [
    "from typing import Callable\n",
    "NxtStFct  = Callable[[State], set[State]]\n",
    "Heuristic = Callable[[State, State], int]"
   ]
  },
  {
   "cell_type": "code",
   "execution_count": 100,
   "metadata": {},
   "outputs": [],
   "source": [
    "def search(start: State, goal: State, next_states: NxtStFct, heuristic: Heuristic) -> list[State] | None:\n",
    "    Visited: set[State] = set()\n",
    "    PrioQueue = [ (heuristic(start, goal), [start]) ]\n",
    "    while len(PrioQueue) > 0:\n",
    "        _, Path = heapq.heappop(PrioQueue)\n",
    "        state   = Path[-1]\n",
    "        if state in Visited:\n",
    "            continue\n",
    "        if matches(goal, state):\n",
    "            print(f'Number of states visited: {len(Visited)}')\n",
    "            return Path\n",
    "        for ns in next_states(state):           \n",
    "            if ns not in Visited:\n",
    "                prio = heuristic(ns, goal) + len(Path)\n",
    "                heapq.heappush(PrioQueue, (prio, Path + [ns]))\n",
    "        Visited.add(state)\n",
    "    return None "
   ]
  },
  {
   "cell_type": "markdown",
   "metadata": {},
   "source": [
    "## Putting It All Together"
   ]
  },
  {
   "cell_type": "markdown",
   "metadata": {},
   "source": [
    "Lets draw the start state and animate the solution that has been found."
   ]
  },
  {
   "cell_type": "code",
   "execution_count": 101,
   "metadata": {},
   "outputs": [],
   "source": [
    "def main() -> list[State] | None:\n",
    "    TilesList   = [['14', '15'], \n",
    "                   ['12', '13'], \n",
    "                   ['10', '11'], \n",
    "                   [ '8',  '9'], \n",
    "                   [ '3',  '7'], \n",
    "                   [ '2',  '6'], \n",
    "                   ['0', '1', '4', '5']\n",
    "                  ]\n",
    "    PatternList = intermediate_goals(Goal, TilesList)\n",
    "    State       = Start\n",
    "    Solution    = []\n",
    "    print('Start state:')\n",
    "    draw_state(Start)\n",
    "    for Pattern in PatternList:\n",
    "        print('Trying to reach the following pattern:')\n",
    "        draw_state(Pattern)\n",
    "        Tiles = find_numbers(Pattern)\n",
    "        ExtendedState = replace_numbers(State, Tiles + ['0'])\n",
    "        Path = search(ExtendedState, Pattern, next_states, manhattan)\n",
    "        if Path:\n",
    "            MoveList = extract_move_list(Path)\n",
    "            Path = apply_move_list(State, MoveList)\n",
    "            print(f'The following state is reached after {len(Path)-1} steps:');\n",
    "            State = Path[-1]\n",
    "            draw_state(State)\n",
    "            Solution += Path[:-1]\n",
    "        else:\n",
    "            return None\n",
    "    Solution += [ Goal ]\n",
    "    return Solution"
   ]
  },
  {
   "cell_type": "code",
   "execution_count": 146,
   "metadata": {
    "scrolled": false
   },
   "outputs": [
    {
     "name": "stdout",
     "output_type": "stream",
     "text": [
      "Start state:\n"
     ]
    },
    {
     "data": {
      "application/vnd.jupyter.widget-view+json": {
       "model_id": "bb1db394e87a4f76b4c6358653184de1",
       "version_major": 2,
       "version_minor": 0
      },
      "text/plain": [
       "Canvas()"
      ]
     },
     "metadata": {},
     "output_type": "display_data"
    },
    {
     "name": "stdout",
     "output_type": "stream",
     "text": [
      "Trying to reach the following pattern:\n"
     ]
    },
    {
     "data": {
      "application/vnd.jupyter.widget-view+json": {
       "model_id": "bfffc2822179411c9484b3811f1dc6a6",
       "version_major": 2,
       "version_minor": 0
      },
      "text/plain": [
       "Canvas()"
      ]
     },
     "metadata": {},
     "output_type": "display_data"
    },
    {
     "name": "stdout",
     "output_type": "stream",
     "text": [
      "Number of states visited: 597\n",
      "The following state is reached after 18 steps:\n"
     ]
    },
    {
     "data": {
      "application/vnd.jupyter.widget-view+json": {
       "model_id": "18e5809063e44c3387c4ba3719123fe8",
       "version_major": 2,
       "version_minor": 0
      },
      "text/plain": [
       "Canvas()"
      ]
     },
     "metadata": {},
     "output_type": "display_data"
    },
    {
     "name": "stdout",
     "output_type": "stream",
     "text": [
      "Trying to reach the following pattern:\n"
     ]
    },
    {
     "data": {
      "application/vnd.jupyter.widget-view+json": {
       "model_id": "b2c2046b9cf3463192c8cdafe9b94f85",
       "version_major": 2,
       "version_minor": 0
      },
      "text/plain": [
       "Canvas()"
      ]
     },
     "metadata": {},
     "output_type": "display_data"
    },
    {
     "name": "stdout",
     "output_type": "stream",
     "text": [
      "Number of states visited: 23326\n",
      "The following state is reached after 28 steps:\n"
     ]
    },
    {
     "data": {
      "application/vnd.jupyter.widget-view+json": {
       "model_id": "4244d94b87ed498a8f45198a7856c972",
       "version_major": 2,
       "version_minor": 0
      },
      "text/plain": [
       "Canvas()"
      ]
     },
     "metadata": {},
     "output_type": "display_data"
    },
    {
     "name": "stdout",
     "output_type": "stream",
     "text": [
      "Trying to reach the following pattern:\n"
     ]
    },
    {
     "data": {
      "application/vnd.jupyter.widget-view+json": {
       "model_id": "ebb427f5cfde421fa4ae7b86d6a32e89",
       "version_major": 2,
       "version_minor": 0
      },
      "text/plain": [
       "Canvas()"
      ]
     },
     "metadata": {},
     "output_type": "display_data"
    },
    {
     "name": "stdout",
     "output_type": "stream",
     "text": [
      "Number of states visited: 1051\n",
      "The following state is reached after 17 steps:\n"
     ]
    },
    {
     "data": {
      "application/vnd.jupyter.widget-view+json": {
       "model_id": "cd4f2d9eb72c4560b9597a401a4f4400",
       "version_major": 2,
       "version_minor": 0
      },
      "text/plain": [
       "Canvas()"
      ]
     },
     "metadata": {},
     "output_type": "display_data"
    },
    {
     "name": "stdout",
     "output_type": "stream",
     "text": [
      "Trying to reach the following pattern:\n"
     ]
    },
    {
     "data": {
      "application/vnd.jupyter.widget-view+json": {
       "model_id": "4657861a5ce8441a996425ef5972155c",
       "version_major": 2,
       "version_minor": 0
      },
      "text/plain": [
       "Canvas()"
      ]
     },
     "metadata": {},
     "output_type": "display_data"
    },
    {
     "name": "stdout",
     "output_type": "stream",
     "text": [
      "Number of states visited: 2760\n",
      "The following state is reached after 19 steps:\n"
     ]
    },
    {
     "data": {
      "application/vnd.jupyter.widget-view+json": {
       "model_id": "b2c967e1eeca4727bfe5af2cfa210835",
       "version_major": 2,
       "version_minor": 0
      },
      "text/plain": [
       "Canvas()"
      ]
     },
     "metadata": {},
     "output_type": "display_data"
    },
    {
     "name": "stdout",
     "output_type": "stream",
     "text": [
      "Trying to reach the following pattern:\n"
     ]
    },
    {
     "data": {
      "application/vnd.jupyter.widget-view+json": {
       "model_id": "5d01bab121784443830ccaa66807bacb",
       "version_major": 2,
       "version_minor": 0
      },
      "text/plain": [
       "Canvas()"
      ]
     },
     "metadata": {},
     "output_type": "display_data"
    },
    {
     "name": "stdout",
     "output_type": "stream",
     "text": [
      "Number of states visited: 419\n",
      "The following state is reached after 12 steps:\n"
     ]
    },
    {
     "data": {
      "application/vnd.jupyter.widget-view+json": {
       "model_id": "75fb43f25ee34dcdad753994e3386f54",
       "version_major": 2,
       "version_minor": 0
      },
      "text/plain": [
       "Canvas()"
      ]
     },
     "metadata": {},
     "output_type": "display_data"
    },
    {
     "name": "stdout",
     "output_type": "stream",
     "text": [
      "Trying to reach the following pattern:\n"
     ]
    },
    {
     "data": {
      "application/vnd.jupyter.widget-view+json": {
       "model_id": "ccea07b2e6ec4df28ba84a9504d08b37",
       "version_major": 2,
       "version_minor": 0
      },
      "text/plain": [
       "Canvas()"
      ]
     },
     "metadata": {},
     "output_type": "display_data"
    },
    {
     "name": "stdout",
     "output_type": "stream",
     "text": [
      "Number of states visited: 4\n",
      "The following state is reached after 4 steps:\n"
     ]
    },
    {
     "data": {
      "application/vnd.jupyter.widget-view+json": {
       "model_id": "799b8f51c16d4295bea6d50163f95c78",
       "version_major": 2,
       "version_minor": 0
      },
      "text/plain": [
       "Canvas()"
      ]
     },
     "metadata": {},
     "output_type": "display_data"
    },
    {
     "name": "stdout",
     "output_type": "stream",
     "text": [
      "Trying to reach the following pattern:\n"
     ]
    },
    {
     "data": {
      "application/vnd.jupyter.widget-view+json": {
       "model_id": "800ddb6dd47b433586670508e2a97a17",
       "version_major": 2,
       "version_minor": 0
      },
      "text/plain": [
       "Canvas()"
      ]
     },
     "metadata": {},
     "output_type": "display_data"
    },
    {
     "name": "stdout",
     "output_type": "stream",
     "text": [
      "Number of states visited: 9\n",
      "The following state is reached after 6 steps:\n"
     ]
    },
    {
     "data": {
      "application/vnd.jupyter.widget-view+json": {
       "model_id": "edb6812c0c154191ae46cd4106f9fcd7",
       "version_major": 2,
       "version_minor": 0
      },
      "text/plain": [
       "Canvas()"
      ]
     },
     "metadata": {},
     "output_type": "display_data"
    },
    {
     "name": "stdout",
     "output_type": "stream",
     "text": [
      "104\n"
     ]
    }
   ],
   "source": [
    "Path = main()\n",
    "if Path:\n",
    "    print(len(Path)-1)"
   ]
  },
  {
   "cell_type": "code",
   "execution_count": 147,
   "metadata": {},
   "outputs": [
    {
     "data": {
      "application/vnd.jupyter.widget-view+json": {
       "model_id": "62b8c6c07a304434a246c2a5a1dc0afa",
       "version_major": 2,
       "version_minor": 0
      },
      "text/plain": [
       "Canvas()"
      ]
     },
     "metadata": {},
     "output_type": "display_data"
    }
   ],
   "source": [
    "if Path:\n",
    "    animation(Path) "
   ]
  },
  {
   "cell_type": "code",
   "execution_count": 148,
   "metadata": {},
   "outputs": [],
   "source": [
    "def shorten(Solution: list[State]) -> list[State]:\n",
    "    shorterSolution = []\n",
    "    k = 0\n",
    "    while k < len(Solution) - 1:\n",
    "        shorterSolution.append(Solution[k])\n",
    "        if k + 2 < len(Solution) and Solution[k] == Solution[k + 2]:\n",
    "            k += 3\n",
    "        else: \n",
    "            k += 1\n",
    "    shorterSolution += [Solution[-1]]\n",
    "    return shorterSolution"
   ]
  },
  {
   "cell_type": "code",
   "execution_count": 149,
   "metadata": {},
   "outputs": [
    {
     "data": {
      "application/vnd.jupyter.widget-view+json": {
       "model_id": "4c3c6169e9594e5a844da21825c11906",
       "version_major": 2,
       "version_minor": 0
      },
      "text/plain": [
       "Canvas()"
      ]
     },
     "metadata": {},
     "output_type": "display_data"
    }
   ],
   "source": [
    "if Path:\n",
    "    animation(shorten(Path)) "
   ]
  },
  {
   "cell_type": "code",
   "execution_count": 150,
   "metadata": {},
   "outputs": [
    {
     "name": "stdout",
     "output_type": "stream",
     "text": [
      "100\n"
     ]
    }
   ],
   "source": [
    "if Path:\n",
    "    print(len(shorten(Path))-1)"
   ]
  },
  {
   "cell_type": "code",
   "execution_count": null,
   "metadata": {},
   "outputs": [],
   "source": []
  }
 ],
 "metadata": {
  "kernelspec": {
   "display_name": "Python 3 (ipykernel)",
   "language": "python",
   "name": "python3"
  },
  "language_info": {
   "codemirror_mode": {
    "name": "ipython",
    "version": 3
   },
   "file_extension": ".py",
   "mimetype": "text/x-python",
   "name": "python",
   "nbconvert_exporter": "python",
   "pygments_lexer": "ipython3",
   "version": "3.11.7"
  },
  "toc": {
   "base_numbering": 1,
   "nav_menu": {},
   "number_sections": true,
   "sideBar": true,
   "skip_h1_title": false,
   "title_cell": "Table of Contents",
   "title_sidebar": "Contents",
   "toc_cell": false,
   "toc_position": {},
   "toc_section_display": true,
   "toc_window_display": false
  },
  "varInspector": {
   "cols": {
    "lenName": 16,
    "lenType": 16,
    "lenVar": 40
   },
   "kernels_config": {
    "python": {
     "delete_cmd_postfix": "",
     "delete_cmd_prefix": "del ",
     "library": "var_list.py",
     "varRefreshCmd": "print(var_dic_list())"
    },
    "r": {
     "delete_cmd_postfix": ") ",
     "delete_cmd_prefix": "rm(",
     "library": "var_list.r",
     "varRefreshCmd": "cat(var_dic_list()) "
    }
   },
   "types_to_exclude": [
    "module",
    "function",
    "builtin_function_or_method",
    "instance",
    "_Feature"
   ],
   "window_display": false
  }
 },
 "nbformat": 4,
 "nbformat_minor": 2
}
