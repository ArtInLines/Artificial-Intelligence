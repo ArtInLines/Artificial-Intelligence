{
 "cells": [
  {
   "cell_type": "code",
   "execution_count": 1,
   "metadata": {},
   "outputs": [
    {
     "data": {
      "text/html": [
       "<link href='http://fonts.googleapis.com/css?family=Alegreya+Sans:100,300,400,500,700,800,900,100italic,300italic,400italic,500italic,700italic,800italic,900italic' rel='stylesheet' type='text/css'>\n",
       "<link href='http://fonts.googleapis.com/css?family=Arvo:400,700,400italic' rel='stylesheet' type='text/css'>\n",
       "<link href='http://fonts.googleapis.com/css?family=PT+Mono' rel='stylesheet' type='text/css'>\n",
       "<link href='http://fonts.googleapis.com/css?family=Shadows+Into+Light' rel='stylesheet' type='text/css'>\n",
       "<link href='http://fonts.googleapis.com/css?family=Philosopher:400,700,400italic,700italic' rel='stylesheet' type='text/css'>\n",
       "<link href=\"http://fonts.googleapis.com/css?family=Sacramento\" rel=\"stylesheet\" type=\"text/css\">\n",
       "\n",
       "<style>\n",
       "\n",
       "@font-face {\n",
       "    font-family: \"Computer Modern\";\n",
       "    src: url('http://mirrors.ctan.org/fonts/cm-unicode/fonts/otf/cmunss.otf');\n",
       "}\n",
       "\n",
       ".container { width: 100% }\n",
       "\n",
       "/* Formatting for header cells */\n",
       ".text_cell_render h1 {\n",
       "    font-family: 'Philosopher', sans-serif;\n",
       "    font-weight: 400;\n",
       "    font-size: 2.2em;\n",
       "    line-height: 100%;\n",
       "    color: rgb(0, 80, 120);\n",
       "    margin-bottom: 0.1em;\n",
       "    margin-top: 0.1em;\n",
       "    display: block;\n",
       "}\t\n",
       ".text_cell_render h2 {\n",
       "    font-family: 'Philosopher', serif;\n",
       "    font-weight: 400;\n",
       "    font-size: 1.9em;\n",
       "    line-height: 100%;\n",
       "    color: rgb(200,100,0);\n",
       "    margin-bottom: 0.1em;\n",
       "    margin-top: 0.1em;\n",
       "    display: block;\n",
       "}\t\n",
       "\n",
       ".text_cell_render h3 {\n",
       "    font-family: 'Philosopher', serif;\n",
       "    margin-top:12px;\n",
       "    margin-bottom: 3px;\n",
       "    font-style: italic;\n",
       "    color: rgb(94,127,192);\n",
       "}\n",
       "\n",
       ".text_cell_render h4 {\n",
       "    font-family: 'Philosopher', serif;\n",
       "}\n",
       "\n",
       ".text_cell_render h5 {\n",
       "    font-family: 'Alegreya Sans', sans-serif;\n",
       "    font-weight: 300;\n",
       "    font-size: 16pt;\n",
       "    color: grey;\n",
       "    font-style: italic;\n",
       "    margin-bottom: .1em;\n",
       "    margin-top: 0.1em;\n",
       "    display: block;\n",
       "}\n",
       "\n",
       ".text_cell_render h6 {\n",
       "    font-family: 'PT Mono', sans-serif;\n",
       "    font-weight: 300;\n",
       "    font-size: 10pt;\n",
       "    color: grey;\n",
       "    margin-bottom: 1px;\n",
       "    margin-top: 1px;\n",
       "}\n",
       "\n",
       ".text_cell_render em {\n",
       "    font-family: 'Philosopher', sans-serif;\n",
       "    color:        blue;\n",
       "    background-color: rgb(255,220,180);\n",
       "    font-size:    110%;\n",
       "    margin-left:   2px;\n",
       "    margin-right:  2px;\n",
       "    font-weight:   100;\n",
       "}\n",
       "\n",
       ".text_cell_render b {\n",
       "    color:            rgb(255,195,195);\n",
       "    background-color: rgb(0,0,0);\n",
       "    font-size:    110%;\n",
       "    margin-left:   2px;\n",
       "    margin-right:  2px;\n",
       "    font-weight:   650;\n",
       "}\n",
       "\n",
       ".text_cell_render u {\n",
       "    color:            blue;\n",
       "    font-size:    110%;\n",
       "    margin-left:   2px;\n",
       "    margin-right:  2px;\n",
       "    font-weight:   650;\n",
       "}\n",
       "\n",
       ".text_cell_render tt {\n",
       "    font-size:    120%;\n",
       "    margin-left:   2px;\n",
       "    margin-right:  2px;\n",
       "    font-weight:   150;\n",
       "}\n",
       "\n",
       ".Codemirror {\n",
       "    font-family: \"PT Mono\";\n",
       "    font-size: 100%;\n",
       "}\n",
       "\n",
       "#fancy {\n",
       "    font-family:      Georgia;\n",
       "    position:         relative;\n",
       "    float:            left;\n",
       "    border:           2px solid red;\n",
       "    width:            600px;\n",
       "    padding-left:     20px;\n",
       "    padding-right:    20px;\n",
       "    padding-top:      10px;\n",
       "    font-family:      'Sacramento', cursive;\n",
       "    font-size:        26px;\n",
       "    background-color: #F4EBF3;\n",
       "    border-radius:    15px;\n",
       "}\n",
       "\n",
       "</Style>\n",
       "\n"
      ],
      "text/plain": [
       "<IPython.core.display.HTML object>"
      ]
     },
     "execution_count": 1,
     "metadata": {},
     "output_type": "execute_result"
    }
   ],
   "source": [
    "from IPython.core.display import HTML\n",
    "with open('../style.css') as f:\n",
    "    css = f.read()\n",
    "HTML(css)"
   ]
  },
  {
   "cell_type": "markdown",
   "metadata": {},
   "source": [
    "If we want to have **reproducible results**, the environment variable `PYTHONHASHSEED` has to be set to a fixed value, for example to `0`.\n",
    "Below we check that this environment is set so that results are reproducible.\n",
    "In order to set this variable we have to use the following sequence of commands in the anaconda shell.  \n",
    "```\n",
    "conda activate ai\n",
    "conda env config vars set PYTHONHASHSEED=0\n",
    "conda activate ai\n",
    "```\n",
    "It is necessary to reactivate the environment `ai` for the setting to take effect."
   ]
  },
  {
   "cell_type": "code",
   "execution_count": 2,
   "metadata": {},
   "outputs": [],
   "source": [
    "import nbimporter"
   ]
  },
  {
   "cell_type": "markdown",
   "metadata": {},
   "source": [
    "# Consistency Checking"
   ]
  },
  {
   "cell_type": "markdown",
   "metadata": {},
   "source": [
    "## Utility Functions"
   ]
  },
  {
   "cell_type": "code",
   "execution_count": 3,
   "metadata": {},
   "outputs": [],
   "source": [
    "import ast"
   ]
  },
  {
   "cell_type": "markdown",
   "metadata": {},
   "source": [
    "The function `collect_variables(expr)` takes a string `expr` that can be interpreted as a Python expression as input and collects all variables occurring in `expr`.  It takes care to eliminate the function symbols from the names returned by `extract_variables`."
   ]
  },
  {
   "cell_type": "code",
   "execution_count": 4,
   "metadata": {},
   "outputs": [],
   "source": [
    "def collect_variables(expression): \n",
    "    tree      = ast.parse(expression)\n",
    "    Variables = { node.id for node in ast.walk(tree) \n",
    "                          if  isinstance(node, ast.Name) \n",
    "                          if node.id not in dir(__builtins__)\n",
    "                }\n",
    "    return frozenset(Variables)"
   ]
  },
  {
   "cell_type": "markdown",
   "metadata": {},
   "source": [
    "The function `arb(S)` takes a set `S` as input and returns an arbitrary element from \n",
    "this set."
   ]
  },
  {
   "cell_type": "code",
   "execution_count": 5,
   "metadata": {},
   "outputs": [],
   "source": [
    "def arb(S):\n",
    "    for x in S:\n",
    "        return x"
   ]
  },
  {
   "cell_type": "markdown",
   "metadata": {},
   "source": [
    "Backtracking is simulated by raising the `Backtrack` exception.  We define this new class of exceptions so that we can distinguish `Backtrack` exceptions from ordinary exceptions.  This is done by creating a new, empty class that is derived from the class `Exception`.  "
   ]
  },
  {
   "cell_type": "code",
   "execution_count": 6,
   "metadata": {},
   "outputs": [],
   "source": [
    "class Backtrack(Exception):\n",
    "    pass"
   ]
  },
  {
   "cell_type": "markdown",
   "metadata": {},
   "source": [
    "Given a list of sets `L`, the function `union(L)` returns the set of all elements occurring in some set $S$ that is itself a member of the list `L`, i.e. we have\n",
    "$$ \\texttt{union}(L) = \\{ x \\mid \\exists S \\in L : x \\in S \\}. $$ \n",
    "A different way to write this equation is as follows:\n",
    "$$ \\texttt{union}([S_1, S_2 \\cdots, S_n]) = S_1 \\cup S_2 \\cup \\cdots \\cup S_n. $$ "
   ]
  },
  {
   "cell_type": "code",
   "execution_count": 7,
   "metadata": {},
   "outputs": [],
   "source": [
    "def union(L):\n",
    "    return { x for S in L\n",
    "               for x in S\n",
    "           }"
   ]
  },
  {
   "cell_type": "code",
   "execution_count": 8,
   "metadata": {},
   "outputs": [
    {
     "data": {
      "text/plain": [
       "{1, 2, 'a', 'b'}"
      ]
     },
     "execution_count": 8,
     "metadata": {},
     "output_type": "execute_result"
    }
   ],
   "source": [
    "union([ {1, 2}, {'a', 'b'}, {1, 'a'} ])"
   ]
  },
  {
   "cell_type": "markdown",
   "metadata": {},
   "source": [
    "## A Constraint Propagation Solver with Consistency Maintenance"
   ]
  },
  {
   "cell_type": "markdown",
   "metadata": {},
   "source": [
    "The procedure `solve(P, check_consistency)` takes three arguments:\n",
    "* `P` is a *constraint satisfaction problem* \n",
    "  Here `P` is a triple of the form \n",
    "  $$ \\mathcal{P} = \\langle \\mathtt{Variables}, \\mathtt{Values}, \\mathtt{Constraints} \\rangle $$\n",
    "  where \n",
    "  - $\\mathtt{Variables}$ is a set of strings which serve as *variables*,\n",
    "  - $\\mathtt{Values}$ is a set of *values* that can be assigned \n",
    "    to the variables in the set $\\mathtt{Variables}$.\n",
    "  - $\\mathtt{Constraints}$ is a set of *formulas* from first order logic.  \n",
    "    Each of these formulas is  called a *constraint* of $\\mathcal{P}$.\n",
    "* `check_consistency` is a Boolean flag.  If this flag is `True`, then *consistency maintenance* is used as a preprocessing step.\n",
    "* `lcv` is a Boolean flag. \n",
    "If this flag is `True`, then the *least constraining value* heuristic is used to specify the order in which different values are tried.\n",
    "\n",
    "Before trying to solve the given CSP, `solve` checks whether the set of variables occurring in\n",
    "the constraints is the same as the set `Variables`.  If this is not the case, then this is most likely due to\n",
    "a spelling error and a warning message is printed.  Then, the function `solve` converts the CSP `P` into an *augmented CSP* where every constraint $f$ is annotated with the variables occurring in $f$.  Furthermore, the function solve maintains the following data structures:\n",
    "\n",
    "- `VarsInConstrs` is the set of all variables occurring in any constraint.\n",
    "- `ValuesPerVar` is a dictionary mapping variables to sets of values.  For every variable `x` occurring in a constraint of `P`, the expression `ValuesPerVar[x]` is the set of values that can be used to instantiate the variable `x`.  Initially, `ValuesPerVar[x]` is set to `Values`, but as the search for a solution proceeds, the sets `ValuesPerVar[x]` are reduced by removing any values that cannot be part of a solution.\n",
    "- `Annotated` is a dictionary.  For every constraint `f` we have that `Annotated[f]` is the set of all variables occurring in `f`.\n",
    "- `UnaryConstrs` is a set of pairs of the form `(f, V)` where `f` is a constraint containing only a single variable and `V` is the set containing just this variable.\n",
    "- `OtherConstrs` is a set of pairs of the form `(f, V)` where `f` is a constraint containing more than one variable and `V` is the set of all variables occurring in `f`.\n",
    "- `Connected` is a dictionary mapping variables to sets of variables.  If `x` is a variable, then  `Connected[x]` is the set of those variables `y` such that there is a constraint `f` that mentions both the variable `x` and the variable `y`.\n",
    "- `Var2Formulas` is a dictionary mapping variables to sets of formulas.  For every variable `x`, `Var2Formulas[x]` is the set of all those non-unary constraints `f` such that `x` occurs in `f`.\n",
    "\n",
    "The unary constraints are immediately solved.  After that, the function `enforce_consistency` performs \n",
    "*consistency maintenance*:  \n",
    "Formally, we define that a value $v$ is *consistent* for a variable $x$ with respect to a constraint $f$\n",
    "iff the partial assignment $\\{ x \\mapsto v \\}$ can be extended to an assignment $A$ satisfying the constraint $f$,\n",
    "i.e. for every variable $\\texttt{y}_i$ occurring in `f` there is a value $w_i \\in \\texttt{ValuesPerVar}[y]$ such that  \n",
    "$$ \\texttt{eval}\\bigl(f, \\{ x \\mapsto v, y_1 \\mapsto w_1, \\cdots, y_n \\mapsto w_n\\}\\bigr) = \\texttt{True}. $$\n",
    "The call to `enforce_consistency` shrinks the sets `ValuesPerVars[x]` until all values in `ValuesPerVars[x]`\n",
    "are consistent with respect to all constraints.\n",
    "\n",
    "Finally, `backtrack_search` is called to solve the remaining constraint satisfaction problem by the means of both *backtracking* and\n",
    "*constraint propagation*.  Furthermore, the *most constrained variable* heuristic is used and the *least constraining value* heuristic is used if the flag `lcv` is set to `True`."
   ]
  },
  {
   "cell_type": "code",
   "execution_count": 9,
   "metadata": {},
   "outputs": [],
   "source": [
    "def solve(P, check_consistency=True, lcv=False):\n",
    "    Variables, Values, Constraints = P\n",
    "    Variables      = set(Variables)\n",
    "    VarsInConstrs  = union([ collect_variables(f) for f in Constraints ])\n",
    "    MisspelledVars = (VarsInConstrs - Variables) | (Variables - VarsInConstrs)\n",
    "    if MisspelledVars:\n",
    "        print(\"Did you misspell any of the following Variables?\")\n",
    "        for v in MisspelledVars:\n",
    "            print(v)\n",
    "    ValuesPerVar = { x: Values.copy() for x in Variables }\n",
    "    Annotated    = { f: collect_variables(f) for f in Constraints }\n",
    "    UnaryConstrs = { (f, V) for f, V in Annotated.items() if len(V) == 1 }\n",
    "    OtherConstrs = { (f, V) for f, V in Annotated.items() if len(V) >= 2 }\n",
    "    Connected    = {}\n",
    "    Var2Formulas = variables_2_formulas(OtherConstrs)\n",
    "    for x in Variables:\n",
    "        Connected[x] = union([ V for f, V in Annotated.items() if x in V ]) - { x }\n",
    "    try:\n",
    "        for f, V in UnaryConstrs:\n",
    "            var               = arb(V)\n",
    "            ValuesPerVar[var] = solve_unary(f, var, ValuesPerVar[var])\n",
    "            print(f'ValuesPerVar[{var}] = {ValuesPerVar[var]}')\n",
    "        if check_consistency:\n",
    "            enforce_consistency(ValuesPerVar, Var2Formulas, Annotated, Connected)\n",
    "            for x, Values in ValuesPerVar.items():\n",
    "                print(f'{x}: {Values}')\n",
    "        return backtrack_search({}, ValuesPerVar, OtherConstrs, lcv)\n",
    "    except Backtrack:\n",
    "        return None"
   ]
  },
  {
   "cell_type": "markdown",
   "metadata": {},
   "source": [
    "The function `variables_2_formulas` takes a set of *annotated constraints* as input.  An *annotated constraint* is a pair of the form\n",
    "`(f, V)` where `f` is a formula and `V` is the set of variables occurring in `f`.  The function returns\n",
    "a dictionary that maps every variable `x` to the set of those constraints `f` such that `x` occurs in `f`."
   ]
  },
  {
   "cell_type": "code",
   "execution_count": 10,
   "metadata": {},
   "outputs": [],
   "source": [
    "def variables_2_formulas(Constraints):\n",
    "    Dictionary = {}\n",
    "    for f, Vars in Constraints:\n",
    "        for x in Vars: \n",
    "            if x in Dictionary: # Dictionary[x] is already defined\n",
    "                Dictionary[x] |= { f }\n",
    "            else:               # Dictionary[x] is not yet defined\n",
    "                Dictionary[x]  = { f }\n",
    "    return Dictionary"
   ]
  },
  {
   "cell_type": "markdown",
   "metadata": {},
   "source": [
    "The function `enforce_consistency` takes 4 arguments:\n",
    "- `ValuesPerVar` is a dictionary.  For every variable `x` we have that `ValuesPerVar[x]` is the set of values that can be substituted for `x`.\n",
    "- `Var2Formulas` is a dictionary.  For every variable `x` we have that `Var2Formulas[x]` is the set of those formulas that mention the variable `x`.\n",
    "- `Annotated` is a dictionary.  For every constraint `F`, `Annotated[F]` is the set of variables occurring in `F`.\n",
    "- `Connected` is a dictionary.  For every variable `x` we have that `Connected[x]` is the set of those variables `y` that are *directly connected* with the variable `x`.  Two variables `x` and `y` are *directly connected* if there is a constraint `F` such that both `x` and `y` occur in `F`.  In this case, `F` is *connecting* `x` and `y`.\n",
    "\n",
    "The function `enforce_consistency` shrinks the sets `ValuesPerVar[x]` such that the values in `ValuesPerVar[x]` are consistent for `x` for all constraints."
   ]
  },
  {
   "cell_type": "code",
   "execution_count": 11,
   "metadata": {},
   "outputs": [],
   "source": [
    "def enforce_consistency(ValuesPerVar, Var2Formulas, Annotated, Connected):\n",
    "    UncheckedVars = set(Var2Formulas.keys())\n",
    "    while UncheckedVars:\n",
    "        variable    = UncheckedVars.pop()\n",
    "        RemovedVals = set()\n",
    "        for f in Var2Formulas[variable]:\n",
    "            OtherVars = Annotated[f] - { variable }\n",
    "            for value in ValuesPerVar[variable]:\n",
    "                if not exists_values(variable, value, f, OtherVars, ValuesPerVar):\n",
    "                    RemovedVals   |= { value }\n",
    "                    UncheckedVars |= Connected[variable]\n",
    "        ValuesPerVar[variable] -= RemovedVals\n",
    "        if len(ValuesPerVar[variable]) == 0: # the problem is unsolvable\n",
    "            raise Backtrack()"
   ]
  },
  {
   "cell_type": "markdown",
   "metadata": {},
   "source": [
    "The procedure `exists_values` takes five arguments:\n",
    "- `var` is a variable, \n",
    "- `val` is a value val, \n",
    "- `f`   is a constraint,\n",
    "- `Vars` is the set Vars of those variables in f that are different from `var`, and\n",
    "- `ValuesPerVar` is a dictionary.  For every variable `x` we have that `ValuesPerVar[x]` is the set of those values that still may be tried for `x`.\n",
    "\n",
    "The function checks whether there is a value for `var` such that the other variables occurring in the constraint `f` can be set to values such that the constraint `f` is satisfied."
   ]
  },
  {
   "cell_type": "code",
   "execution_count": 12,
   "metadata": {},
   "outputs": [],
   "source": [
    "def exists_values(var, val, f, Vars, ValuesPerVar):\n",
    "    Assignments = all_assignments(set(Vars), ValuesPerVar)\n",
    "    return any(eval(f, extend(A, var, val)) for A in Assignments)"
   ]
  },
  {
   "cell_type": "markdown",
   "metadata": {},
   "source": [
    "The function `extend` takes three arguments:\n",
    "- `A` is a dictionary,\n",
    "- `x` is a variable such that `A[x]`is not yet defined,\n",
    "- `v` is some value.\n",
    "\n",
    "It returns a new dictionary `B` such that `B[x] = v` and `B[y] = A[y]` for all `y != x`."
   ]
  },
  {
   "cell_type": "code",
   "execution_count": 13,
   "metadata": {},
   "outputs": [],
   "source": [
    "def extend(A, x, v):\n",
    "    B = A.copy()\n",
    "    B[x] = v\n",
    "    return B"
   ]
  },
  {
   "cell_type": "markdown",
   "metadata": {},
   "source": [
    "The function `all_assignments` returns the list of all possible assignments for the variables in the set Vars.\n",
    "For every variable `x`, the values for `x` are taken from `ValuesPerVar[x]`.\n",
    "\n",
    "**Nota Bene:** If there are $n$ variables and $m$ values for each variable, then there are $m^n$ possible assignments. Hence the size of the returned lists grows exponentially with the number of variables."
   ]
  },
  {
   "cell_type": "code",
   "execution_count": 14,
   "metadata": {},
   "outputs": [],
   "source": [
    "def all_assignments(Variables, ValuesPerVar):\n",
    "    if not Variables:\n",
    "        return [ {} ]  # list containing empty assignment\n",
    "    var         = Variables.pop()\n",
    "    Values      = ValuesPerVar[var]\n",
    "    Assignments = all_assignments(Variables, ValuesPerVar)\n",
    "    return [ extend(A, var, val) for A in Assignments \n",
    "                                 for val in ValuesPerVar[var]\n",
    "           ]"
   ]
  },
  {
   "cell_type": "code",
   "execution_count": 15,
   "metadata": {},
   "outputs": [
    {
     "data": {
      "text/plain": [
       "[{'x': 1, 'y': 2}, {'x': 1, 'y': 3}, {'x': 2, 'y': 2}, {'x': 2, 'y': 3}]"
      ]
     },
     "execution_count": 15,
     "metadata": {},
     "output_type": "execute_result"
    }
   ],
   "source": [
    "ValuesPerVar = { 'x': {1, 2}, 'y': {2, 3} }\n",
    "Variables    = { 'x', 'y' }\n",
    "all_assignments(Variables, ValuesPerVar)"
   ]
  },
  {
   "cell_type": "markdown",
   "metadata": {},
   "source": [
    "The function `solve_unary` takes a unary constraint `f`, a variable `x` and the set of values `Values` that can be assigned to `x`.  It returns the subset of values that can be substituted for `x` such that $f[x\\mapsto v]$ evaluates as `True`."
   ]
  },
  {
   "cell_type": "code",
   "execution_count": 16,
   "metadata": {},
   "outputs": [],
   "source": [
    "def solve_unary(f, x, Values):\n",
    "    Legal = { value for value in Values if  eval(f, { x: value }) }\n",
    "    if not Legal:\n",
    "        raise Backtrack()\n",
    "    return Legal"
   ]
  },
  {
   "cell_type": "markdown",
   "metadata": {},
   "source": [
    "The function `backtrack_search` takes three arguments:\n",
    "- `Assignment` is a partial variable assignment that is represented as a\n",
    "   dictionary.  Initially, this assignment will be the  empty dictionary.     \n",
    "   Every recursive call of `backtrack_search` adds the assignment of one \n",
    "   variable to  the given assignment. \n",
    "- `ValuesPerVar` is a dictionary.  For every variable `x`, `ValuesPerVar[x]` is the set of values that still might be assigned to `x`.\n",
    "- `Constraints` is a set of pairs of the form `(f, V)` where `f` is a constraint and `V` is the set of variables occurring in `f`.\n",
    "\n",
    "The function `backtrack_search` uses the *most constrained variable heuristic* in order to choose the next variable.  It uses the *least constraining value heuristic* to choose the value that is assigned to this variable."
   ]
  },
  {
   "cell_type": "code",
   "execution_count": 17,
   "metadata": {},
   "outputs": [],
   "source": [
    "def backtrack_search(Assignment, ValuesPerVar, Constraints, lcv):\n",
    "    if len(Assignment) == len(ValuesPerVar):\n",
    "        return Assignment\n",
    "    x = most_constrained_variable(Assignment, ValuesPerVar)\n",
    "    if lcv and len(ValuesPerVar[x]) > 1:\n",
    "        ValueList = least_constraining(x, ValuesPerVar, Assignment, Constraints)\n",
    "    else:\n",
    "        ValueList = ValuesPerVar[x]\n",
    "    for v in ValueList:\n",
    "        try:\n",
    "            NewValues = propagate(x, v, Assignment, Constraints, ValuesPerVar)\n",
    "            NewAssign = Assignment.copy()\n",
    "            NewAssign[x] = v\n",
    "            return backtrack_search(NewAssign, NewValues, Constraints, lcv)\n",
    "        except Backtrack:\n",
    "            continue\n",
    "    raise Backtrack()"
   ]
  },
  {
   "cell_type": "markdown",
   "metadata": {},
   "source": [
    "The function `most_constrained_variable` takes two parameters:\n",
    "- `Assigment` is a *partial variable assignment* that assigns values to variables.  It is represented as a dictionary.\n",
    "- `ValuesPerVar` is a dictionary that has variables as keys.  For every variable `x`, `ValuesPerVar[x]` is the set of values that \n",
    "  can still be assigned to the variable `x`.\n",
    "  \n",
    "The function returns an unassigned variable `x` such that the number of values in `ValuesPerVar[x]` is minimal among all other unassigned variables.\n",
    "Hence, this variable is a *most constraint variable*.  \n",
    "* In order to find this variable, the set `Unassigned` is computed.  This is a set of pairs of the form `(x, n)` \n",
    "  where `x` is a variable that is not yet assigned and `n` is the number of values that can still be assigned to `x`.\n",
    "* `minSize` is the number of values that can be assigned to a most constrained variable.  "
   ]
  },
  {
   "cell_type": "code",
   "execution_count": 18,
   "metadata": {},
   "outputs": [],
   "source": [
    "def most_constrained_variable(Assignment, ValuesPerVar):\n",
    "    Unassigned = { (x, len(U)) for x, U in ValuesPerVar.items()\n",
    "                               if  x not in Assignment\n",
    "                 }\n",
    "    minSize = min(lenU for x, lenU in Unassigned)\n",
    "    for x, lenU in Unassigned:\n",
    "        if lenU == minSize:\n",
    "            return x"
   ]
  },
  {
   "cell_type": "markdown",
   "metadata": {},
   "source": [
    "The module `math` is needed because it provides `math.inf`, which represents $\\infty$. "
   ]
  },
  {
   "cell_type": "code",
   "execution_count": 19,
   "metadata": {},
   "outputs": [],
   "source": [
    "import math"
   ]
  },
  {
   "cell_type": "markdown",
   "metadata": {},
   "source": [
    "The function `least_constraining` takes four arguments:\n",
    "* `x` is a variable. \n",
    "* `ValuesPerVar` is a dictionary.  For every variable `var`, `ValuesPerVar[var]` is the set of values that can be assigned to `var`.\n",
    "* `Assignment` is a partial variable assignment.\n",
    "* `Constraints` is a set of annotated constraints.\n",
    "\n",
    "This function returns a list of values that can be substituted for the variable `x`.  \n",
    "This list is sorted so that the *least constraining* values are at the beginning of this list. "
   ]
  },
  {
   "cell_type": "code",
   "execution_count": 20,
   "metadata": {},
   "outputs": [],
   "source": [
    "def least_constraining(x, ValuesPerVar, Assignment, Constraints):\n",
    "    NumbersValues = []\n",
    "    for value in ValuesPerVar[x]:\n",
    "        ReducedValues = ValuesPerVar.copy()\n",
    "        num_removed = number_removed_values(x, value, Assignment, ReducedValues, Constraints)\n",
    "        if num_removed != math.inf:\n",
    "            NumbersValues.append( (num_removed, value) )\n",
    "    NumbersValues.sort(key=lambda p: p[0])\n",
    "    return [val for _, val in NumbersValues]"
   ]
  },
  {
   "cell_type": "markdown",
   "metadata": {},
   "source": [
    "The function `number_removed_values` takes 5 arguments:\n",
    "- `x` is a variable that has not yet been assigned a value.\n",
    "- `value` is a value that is to be assigned to the variable `x`.\n",
    "- `Assignment` is a partial variable assignment that does not assign a value to `x`.\n",
    "- `ValuesPerVar` is a dictionary that has variables as keys.  For every variable `x`, `ValuesPerVar[x]` is the set of values that \n",
    "  can still be assigned to the variable `x`.\n",
    "- `Constraints` is a set of pairs of the form `(f, V)` where `f` is a constraint and `V` is the set of variables occurring in `f`.\n",
    "\n",
    "This function returns the number of values that need to be removed from the set `ValuesPerVar[y]` for those variables `y` that are \n",
    "different from `x` if we assign `value` to the variable `x`.  If the assignment `{ x: value }` results in any of the sets `ValuesPerVar[y]`\n",
    "becoming empty, then the function returns `math.inf` in order to signal that the assignment `{ x: value }` leads to an unsolvable problem."
   ]
  },
  {
   "cell_type": "code",
   "execution_count": 21,
   "metadata": {},
   "outputs": [],
   "source": [
    "def number_removed_values(x, value, Assignment, ValuesPerVar, Constraints):\n",
    "    count     = 0   # number of values removed from ValuesPerVar\n",
    "    BoundVars = set(Assignment.keys())\n",
    "    for f, Vars in Constraints:\n",
    "        if x in Vars:\n",
    "            UnboundVars = Vars - BoundVars - { x }\n",
    "            if len(UnboundVars) == 1:\n",
    "                y = arb(UnboundVars)\n",
    "                Legal = set()\n",
    "                for w in ValuesPerVar[y]:\n",
    "                    NewAssign = Assignment.copy()\n",
    "                    NewAssign[x] = value\n",
    "                    NewAssign[y] = w\n",
    "                    if eval(f, NewAssign):\n",
    "                        Legal.add(w)\n",
    "                    else:\n",
    "                        count += 1\n",
    "                if not Legal:\n",
    "                    count = math.inf\n",
    "                ValuesPerVar[x] = Legal\n",
    "    return count           "
   ]
  },
  {
   "cell_type": "markdown",
   "metadata": {},
   "source": [
    "The function `propagate` takes five arguments:\n",
    "- `x` is a variable,\n",
    "- `v` is a value that is supposed to be assigned to `x`.\n",
    "- `Assignment` is a partial assignment that contains assignments for variables that are different from `x`.\n",
    "- `Constraints` is a set of annotated constraints.\n",
    "- `ValuesPerVar` is a dictionary assigning sets of values to all variables.  For every unassigned variable `z`,  `ValuesPerVar[z]` is the set of values that still might be assigned to `z`.\n",
    "\n",
    "The purpose of the function  `propagate` is to compute how the sets `ValuesPerVar[z]` can be shrunk when the value `v` is assigned to the variable `x`.  The dictionary `ValuesPerVar` with appropriately reduced sets `ValuesPerVar[z]` is returned."
   ]
  },
  {
   "cell_type": "code",
   "execution_count": 22,
   "metadata": {},
   "outputs": [],
   "source": [
    "def propagate(x, v, Assignment, Constraints, ValuesPerVar):\n",
    "    ValuesDict = ValuesPerVar.copy()\n",
    "    ValuesDict[x] = { v }\n",
    "    BoundVars = set(Assignment.keys())\n",
    "    for F, Vars in Constraints:\n",
    "        if x in Vars:\n",
    "            UnboundVars = Vars - BoundVars - { x }\n",
    "            if len(UnboundVars) == 1:\n",
    "                y = arb(UnboundVars)\n",
    "                Legal = set()\n",
    "                for w in ValuesDict[y]:\n",
    "                    NewAssign = Assignment.copy()\n",
    "                    NewAssign[x] = v\n",
    "                    NewAssign[y] = w\n",
    "                    if eval(F, NewAssign):\n",
    "                        Legal.add(w)\n",
    "                if not Legal:\n",
    "                    raise Backtrack()\n",
    "                ValuesDict[y] = Legal\n",
    "    return ValuesDict"
   ]
  },
  {
   "cell_type": "markdown",
   "metadata": {},
   "source": [
    "## Solving the *Eight-Queens-Puzzle*"
   ]
  },
  {
   "cell_type": "code",
   "execution_count": 23,
   "metadata": {},
   "outputs": [],
   "source": [
    "from NQueensProblemCSP import create_csp, show_solution"
   ]
  },
  {
   "cell_type": "code",
   "execution_count": 24,
   "metadata": {},
   "outputs": [],
   "source": [
    "P = create_csp(8)"
   ]
  },
  {
   "cell_type": "markdown",
   "metadata": {},
   "source": [
    "The consistency solver takes about 23 milliseconds on my desktop to solve the eight queens puzzle.  Hence, for the eight queens puzzle, consistency maintenance does not help."
   ]
  },
  {
   "cell_type": "code",
   "execution_count": 25,
   "metadata": {},
   "outputs": [
    {
     "name": "stdout",
     "output_type": "stream",
     "text": [
      "V1: {1, 2, 3, 4, 5, 6, 7, 8}\n",
      "V4: {1, 2, 3, 4, 5, 6, 7, 8}\n",
      "V6: {1, 2, 3, 4, 5, 6, 7, 8}\n",
      "V5: {1, 2, 3, 4, 5, 6, 7, 8}\n",
      "V8: {1, 2, 3, 4, 5, 6, 7, 8}\n",
      "V7: {1, 2, 3, 4, 5, 6, 7, 8}\n",
      "V3: {1, 2, 3, 4, 5, 6, 7, 8}\n",
      "V2: {1, 2, 3, 4, 5, 6, 7, 8}\n",
      "Solution = {'V2': 1, 'V5': 2, 'V8': 6, 'V6': 7, 'V7': 3, 'V4': 8, 'V1': 4, 'V3': 5}\n",
      "CPU times: user 46.7 ms, sys: 2.49 ms, total: 49.2 ms\n",
      "Wall time: 48 ms\n"
     ]
    }
   ],
   "source": [
    "%%time\n",
    "Solution = solve(P, check_consistency=True)\n",
    "print(f'Solution = {Solution}')"
   ]
  },
  {
   "cell_type": "markdown",
   "metadata": {},
   "source": [
    "We can see that consistency maintenance was not able to reduce the set of values for any of the variables.  Hence, for the 8-queens-puzzle it does not help."
   ]
  },
  {
   "cell_type": "code",
   "execution_count": 26,
   "metadata": {},
   "outputs": [
    {
     "data": {
      "text/html": [
       "<div style='width:50%'><svg xmlns=\"http://www.w3.org/2000/svg\" xmlns:xlink=\"http://www.w3.org/1999/xlink\" version=\"1.2\" baseProfile=\"tiny\" viewBox=\"0 0 128 128\"><defs><g id=\"black-bishop\" class=\"black bishop\" fill=\"none\" fill-rule=\"evenodd\" stroke=\"#000\" stroke-width=\"1.5\" stroke-linecap=\"round\" stroke-linejoin=\"round\"><path d=\"M9 36c3.39-.97 10.11.43 13.5-2 3.39 2.43 10.11 1.03 13.5 2 0 0 1.65.54 3 2-.68.97-1.65.99-3 .5-3.39-.97-10.11.46-13.5-1-3.39 1.46-10.11.03-13.5 1-1.354.49-2.323.47-3-.5 1.354-1.94 3-2 3-2zm6-4c2.5 2.5 12.5 2.5 15 0 .5-1.5 0-2 0-2 0-2.5-2.5-4-2.5-4 5.5-1.5 6-11.5-5-15.5-11 4-10.5 14-5 15.5 0 0-2.5 1.5-2.5 4 0 0-.5.5 0 2zM25 8a2.5 2.5 0 1 1-5 0 2.5 2.5 0 1 1 5 0z\" fill=\"#000\" stroke-linecap=\"butt\" /><path d=\"M17.5 26h10M15 30h15m-7.5-14.5v5M20 18h5\" stroke=\"#fff\" stroke-linejoin=\"miter\" /></g><g id=\"black-king\" class=\"black king\" fill=\"none\" fill-rule=\"evenodd\" stroke=\"#000\" stroke-width=\"1.5\" stroke-linecap=\"round\" stroke-linejoin=\"round\"><path d=\"M22.5 11.63V6\" stroke-linejoin=\"miter\" /><path d=\"M22.5 25s4.5-7.5 3-10.5c0 0-1-2.5-3-2.5s-3 2.5-3 2.5c-1.5 3 3 10.5 3 10.5\" fill=\"#000\" stroke-linecap=\"butt\" stroke-linejoin=\"miter\" /><path d=\"M11.5 37c5.5 3.5 15.5 3.5 21 0v-7s9-4.5 6-10.5c-4-6.5-13.5-3.5-16 4V27v-3.5c-3.5-7.5-13-10.5-16-4-3 6 5 10 5 10V37z\" fill=\"#000\" /><path d=\"M20 8h5\" stroke-linejoin=\"miter\" /><path d=\"M32 29.5s8.5-4 6.03-9.65C34.15 14 25 18 22.5 24.5l.01 2.1-.01-2.1C20 18 9.906 14 6.997 19.85c-2.497 5.65 4.853 9 4.853 9M11.5 30c5.5-3 15.5-3 21 0m-21 3.5c5.5-3 15.5-3 21 0m-21 3.5c5.5-3 15.5-3 21 0\" stroke=\"#fff\" /></g><g id=\"black-knight\" class=\"black knight\" fill=\"none\" fill-rule=\"evenodd\" stroke=\"#000\" stroke-width=\"1.5\" stroke-linecap=\"round\" stroke-linejoin=\"round\"><path d=\"M 22,10 C 32.5,11 38.5,18 38,39 L 15,39 C 15,30 25,32.5 23,18\" style=\"fill:#000000; stroke:#000000;\" /><path d=\"M 24,18 C 24.38,20.91 18.45,25.37 16,27 C 13,29 13.18,31.34 11,31 C 9.958,30.06 12.41,27.96 11,28 C 10,28 11.19,29.23 10,30 C 9,30 5.997,31 6,26 C 6,24 12,14 12,14 C 12,14 13.89,12.1 14,10.5 C 13.27,9.506 13.5,8.5 13.5,7.5 C 14.5,6.5 16.5,10 16.5,10 L 18.5,10 C 18.5,10 19.28,8.008 21,7 C 22,7 22,10 22,10\" style=\"fill:#000000; stroke:#000000;\" /><path d=\"M 9.5 25.5 A 0.5 0.5 0 1 1 8.5,25.5 A 0.5 0.5 0 1 1 9.5 25.5 z\" style=\"fill:#ececec; stroke:#ececec;\" /><path d=\"M 15 15.5 A 0.5 1.5 0 1 1 14,15.5 A 0.5 1.5 0 1 1 15 15.5 z\" transform=\"matrix(0.866,0.5,-0.5,0.866,9.693,-5.173)\" style=\"fill:#ececec; stroke:#ececec;\" /><path d=\"M 24.55,10.4 L 24.1,11.85 L 24.6,12 C 27.75,13 30.25,14.49 32.5,18.75 C 34.75,23.01 35.75,29.06 35.25,39 L 35.2,39.5 L 37.45,39.5 L 37.5,39 C 38,28.94 36.62,22.15 34.25,17.66 C 31.88,13.17 28.46,11.02 25.06,10.5 L 24.55,10.4 z \" style=\"fill:#ececec; stroke:none;\" /></g><g id=\"black-pawn\" class=\"black pawn\"><path d=\"M22.5 9c-2.21 0-4 1.79-4 4 0 .89.29 1.71.78 2.38C17.33 16.5 16 18.59 16 21c0 2.03.94 3.84 2.41 5.03-3 1.06-7.41 5.55-7.41 13.47h23c0-7.92-4.41-12.41-7.41-13.47 1.47-1.19 2.41-3 2.41-5.03 0-2.41-1.33-4.5-3.28-5.62.49-.67.78-1.49.78-2.38 0-2.21-1.79-4-4-4z\" fill=\"#000\" stroke=\"#000\" stroke-width=\"1.5\" stroke-linecap=\"round\" /></g><g id=\"black-queen\" class=\"black queen\" fill=\"#000\" fill-rule=\"evenodd\" stroke=\"#000\" stroke-width=\"1.5\" stroke-linecap=\"round\" stroke-linejoin=\"round\"><g fill=\"#000\" stroke=\"none\"><circle cx=\"6\" cy=\"12\" r=\"2.75\" /><circle cx=\"14\" cy=\"9\" r=\"2.75\" /><circle cx=\"22.5\" cy=\"8\" r=\"2.75\" /><circle cx=\"31\" cy=\"9\" r=\"2.75\" /><circle cx=\"39\" cy=\"12\" r=\"2.75\" /></g><path d=\"M9 26c8.5-1.5 21-1.5 27 0l2.5-12.5L31 25l-.3-14.1-5.2 13.6-3-14.5-3 14.5-5.2-13.6L14 25 6.5 13.5 9 26zM9 26c0 2 1.5 2 2.5 4 1 1.5 1 1 .5 3.5-1.5 1-1.5 2.5-1.5 2.5-1.5 1.5.5 2.5.5 2.5 6.5 1 16.5 1 23 0 0 0 1.5-1 0-2.5 0 0 .5-1.5-1-2.5-.5-2.5-.5-2 .5-3.5 1-2 2.5-2 2.5-4-8.5-1.5-18.5-1.5-27 0z\" stroke-linecap=\"butt\" /><path d=\"M11 38.5a35 35 1 0 0 23 0\" fill=\"none\" stroke-linecap=\"butt\" /><path d=\"M11 29a35 35 1 0 1 23 0M12.5 31.5h20M11.5 34.5a35 35 1 0 0 22 0M10.5 37.5a35 35 1 0 0 24 0\" fill=\"none\" stroke=\"#fff\" /></g><g id=\"black-rook\" class=\"black rook\" fill=\"#000\" fill-rule=\"evenodd\" stroke=\"#000\" stroke-width=\"1.5\" stroke-linecap=\"round\" stroke-linejoin=\"round\"><path d=\"M9 39h27v-3H9v3zM12.5 32l1.5-2.5h17l1.5 2.5h-20zM12 36v-4h21v4H12z\" stroke-linecap=\"butt\" /><path d=\"M14 29.5v-13h17v13H14z\" stroke-linecap=\"butt\" stroke-linejoin=\"miter\" /><path d=\"M14 16.5L11 14h23l-3 2.5H14zM11 14V9h4v2h5V9h5v2h5V9h4v5H11z\" stroke-linecap=\"butt\" /><path d=\"M12 35.5h21M13 31.5h19M14 29.5h17M14 16.5h17M11 14h23\" fill=\"none\" stroke=\"#fff\" stroke-width=\"1\" stroke-linejoin=\"miter\" /></g><g id=\"white-bishop\" class=\"white bishop\" fill=\"none\" fill-rule=\"evenodd\" stroke=\"#000\" stroke-width=\"1.5\" stroke-linecap=\"round\" stroke-linejoin=\"round\"><g fill=\"#fff\" stroke-linecap=\"butt\"><path d=\"M9 36c3.39-.97 10.11.43 13.5-2 3.39 2.43 10.11 1.03 13.5 2 0 0 1.65.54 3 2-.68.97-1.65.99-3 .5-3.39-.97-10.11.46-13.5-1-3.39 1.46-10.11.03-13.5 1-1.354.49-2.323.47-3-.5 1.354-1.94 3-2 3-2zM15 32c2.5 2.5 12.5 2.5 15 0 .5-1.5 0-2 0-2 0-2.5-2.5-4-2.5-4 5.5-1.5 6-11.5-5-15.5-11 4-10.5 14-5 15.5 0 0-2.5 1.5-2.5 4 0 0-.5.5 0 2zM25 8a2.5 2.5 0 1 1-5 0 2.5 2.5 0 1 1 5 0z\" /></g><path d=\"M17.5 26h10M15 30h15m-7.5-14.5v5M20 18h5\" stroke-linejoin=\"miter\" /></g><g id=\"white-king\" class=\"white king\" fill=\"none\" fill-rule=\"evenodd\" stroke=\"#000\" stroke-width=\"1.5\" stroke-linecap=\"round\" stroke-linejoin=\"round\"><path d=\"M22.5 11.63V6M20 8h5\" stroke-linejoin=\"miter\" /><path d=\"M22.5 25s4.5-7.5 3-10.5c0 0-1-2.5-3-2.5s-3 2.5-3 2.5c-1.5 3 3 10.5 3 10.5\" fill=\"#fff\" stroke-linecap=\"butt\" stroke-linejoin=\"miter\" /><path d=\"M11.5 37c5.5 3.5 15.5 3.5 21 0v-7s9-4.5 6-10.5c-4-6.5-13.5-3.5-16 4V27v-3.5c-3.5-7.5-13-10.5-16-4-3 6 5 10 5 10V37z\" fill=\"#fff\" /><path d=\"M11.5 30c5.5-3 15.5-3 21 0m-21 3.5c5.5-3 15.5-3 21 0m-21 3.5c5.5-3 15.5-3 21 0\" /></g><g id=\"white-knight\" class=\"white knight\" fill=\"none\" fill-rule=\"evenodd\" stroke=\"#000\" stroke-width=\"1.5\" stroke-linecap=\"round\" stroke-linejoin=\"round\"><path d=\"M 22,10 C 32.5,11 38.5,18 38,39 L 15,39 C 15,30 25,32.5 23,18\" style=\"fill:#ffffff; stroke:#000000;\" /><path d=\"M 24,18 C 24.38,20.91 18.45,25.37 16,27 C 13,29 13.18,31.34 11,31 C 9.958,30.06 12.41,27.96 11,28 C 10,28 11.19,29.23 10,30 C 9,30 5.997,31 6,26 C 6,24 12,14 12,14 C 12,14 13.89,12.1 14,10.5 C 13.27,9.506 13.5,8.5 13.5,7.5 C 14.5,6.5 16.5,10 16.5,10 L 18.5,10 C 18.5,10 19.28,8.008 21,7 C 22,7 22,10 22,10\" style=\"fill:#ffffff; stroke:#000000;\" /><path d=\"M 9.5 25.5 A 0.5 0.5 0 1 1 8.5,25.5 A 0.5 0.5 0 1 1 9.5 25.5 z\" style=\"fill:#000000; stroke:#000000;\" /><path d=\"M 15 15.5 A 0.5 1.5 0 1 1 14,15.5 A 0.5 1.5 0 1 1 15 15.5 z\" transform=\"matrix(0.866,0.5,-0.5,0.866,9.693,-5.173)\" style=\"fill:#000000; stroke:#000000;\" /></g><g id=\"white-pawn\" class=\"white pawn\"><path d=\"M22.5 9c-2.21 0-4 1.79-4 4 0 .89.29 1.71.78 2.38C17.33 16.5 16 18.59 16 21c0 2.03.94 3.84 2.41 5.03-3 1.06-7.41 5.55-7.41 13.47h23c0-7.92-4.41-12.41-7.41-13.47 1.47-1.19 2.41-3 2.41-5.03 0-2.41-1.33-4.5-3.28-5.62.49-.67.78-1.49.78-2.38 0-2.21-1.79-4-4-4z\" fill=\"#fff\" stroke=\"#000\" stroke-width=\"1.5\" stroke-linecap=\"round\" /></g><g id=\"white-queen\" class=\"white queen\" fill=\"#fff\" fill-rule=\"evenodd\" stroke=\"#000\" stroke-width=\"1.5\" stroke-linecap=\"round\" stroke-linejoin=\"round\"><path d=\"M8 12a2 2 0 1 1-4 0 2 2 0 1 1 4 0zM24.5 7.5a2 2 0 1 1-4 0 2 2 0 1 1 4 0zM41 12a2 2 0 1 1-4 0 2 2 0 1 1 4 0zM16 8.5a2 2 0 1 1-4 0 2 2 0 1 1 4 0zM33 9a2 2 0 1 1-4 0 2 2 0 1 1 4 0z\" /><path d=\"M9 26c8.5-1.5 21-1.5 27 0l2-12-7 11V11l-5.5 13.5-3-15-3 15-5.5-14V25L7 14l2 12zM9 26c0 2 1.5 2 2.5 4 1 1.5 1 1 .5 3.5-1.5 1-1.5 2.5-1.5 2.5-1.5 1.5.5 2.5.5 2.5 6.5 1 16.5 1 23 0 0 0 1.5-1 0-2.5 0 0 .5-1.5-1-2.5-.5-2.5-.5-2 .5-3.5 1-2 2.5-2 2.5-4-8.5-1.5-18.5-1.5-27 0z\" stroke-linecap=\"butt\" /><path d=\"M11.5 30c3.5-1 18.5-1 22 0M12 33.5c6-1 15-1 21 0\" fill=\"none\" /></g><g id=\"white-rook\" class=\"white rook\" fill=\"#fff\" fill-rule=\"evenodd\" stroke=\"#000\" stroke-width=\"1.5\" stroke-linecap=\"round\" stroke-linejoin=\"round\"><path d=\"M9 39h27v-3H9v3zM12 36v-4h21v4H12zM11 14V9h4v2h5V9h5v2h5V9h4v5\" stroke-linecap=\"butt\" /><path d=\"M34 14l-3 3H14l-3-3\" /><path d=\"M31 17v12.5H14V17\" stroke-linecap=\"butt\" stroke-linejoin=\"miter\" /><path d=\"M31 29.5l1.5 2.5h-20l1.5-2.5\" /><path d=\"M11 14h23\" fill=\"none\" stroke-linejoin=\"miter\" /></g></defs><rect x=\"0\" y=\"0\" width=\"16\" height=\"16\" class=\"square light\" stroke=\"none\" fill=\"#ffce9e\" opacity=\"1.0\" /><rect x=\"0\" y=\"16\" width=\"16\" height=\"16\" class=\"square dark\" stroke=\"none\" fill=\"#d18b47\" opacity=\"1.0\" /><rect x=\"0\" y=\"32\" width=\"16\" height=\"16\" class=\"square light\" stroke=\"none\" fill=\"#ffce9e\" opacity=\"1.0\" /><rect x=\"0\" y=\"48\" width=\"16\" height=\"16\" class=\"square dark\" stroke=\"none\" fill=\"#d18b47\" opacity=\"1.0\" /><rect x=\"0\" y=\"64\" width=\"16\" height=\"16\" class=\"square light\" stroke=\"none\" fill=\"#ffce9e\" opacity=\"1.0\" /><rect x=\"0\" y=\"80\" width=\"16\" height=\"16\" class=\"square dark\" stroke=\"none\" fill=\"#d18b47\" opacity=\"1.0\" /><rect x=\"0\" y=\"96\" width=\"16\" height=\"16\" class=\"square light\" stroke=\"none\" fill=\"#ffce9e\" opacity=\"1.0\" /><rect x=\"0\" y=\"112\" width=\"16\" height=\"16\" class=\"square dark\" stroke=\"none\" fill=\"#d18b47\" opacity=\"1.0\" /><rect x=\"16\" y=\"0\" width=\"16\" height=\"16\" class=\"square dark\" stroke=\"none\" fill=\"#d18b47\" opacity=\"1.0\" /><rect x=\"16\" y=\"16\" width=\"16\" height=\"16\" class=\"square light\" stroke=\"none\" fill=\"#ffce9e\" opacity=\"1.0\" /><rect x=\"16\" y=\"32\" width=\"16\" height=\"16\" class=\"square dark\" stroke=\"none\" fill=\"#d18b47\" opacity=\"1.0\" /><rect x=\"16\" y=\"48\" width=\"16\" height=\"16\" class=\"square light\" stroke=\"none\" fill=\"#ffce9e\" opacity=\"1.0\" /><rect x=\"16\" y=\"64\" width=\"16\" height=\"16\" class=\"square dark\" stroke=\"none\" fill=\"#d18b47\" opacity=\"1.0\" /><rect x=\"16\" y=\"80\" width=\"16\" height=\"16\" class=\"square light\" stroke=\"none\" fill=\"#ffce9e\" opacity=\"1.0\" /><rect x=\"16\" y=\"96\" width=\"16\" height=\"16\" class=\"square dark\" stroke=\"none\" fill=\"#d18b47\" opacity=\"1.0\" /><rect x=\"16\" y=\"112\" width=\"16\" height=\"16\" class=\"square light\" stroke=\"none\" fill=\"#ffce9e\" opacity=\"1.0\" /><rect x=\"32\" y=\"0\" width=\"16\" height=\"16\" class=\"square light\" stroke=\"none\" fill=\"#ffce9e\" opacity=\"1.0\" /><rect x=\"32\" y=\"16\" width=\"16\" height=\"16\" class=\"square dark\" stroke=\"none\" fill=\"#d18b47\" opacity=\"1.0\" /><rect x=\"32\" y=\"32\" width=\"16\" height=\"16\" class=\"square light\" stroke=\"none\" fill=\"#ffce9e\" opacity=\"1.0\" /><rect x=\"32\" y=\"48\" width=\"16\" height=\"16\" class=\"square dark\" stroke=\"none\" fill=\"#d18b47\" opacity=\"1.0\" /><rect x=\"32\" y=\"64\" width=\"16\" height=\"16\" class=\"square light\" stroke=\"none\" fill=\"#ffce9e\" opacity=\"1.0\" /><rect x=\"32\" y=\"80\" width=\"16\" height=\"16\" class=\"square dark\" stroke=\"none\" fill=\"#d18b47\" opacity=\"1.0\" /><rect x=\"32\" y=\"96\" width=\"16\" height=\"16\" class=\"square light\" stroke=\"none\" fill=\"#ffce9e\" opacity=\"1.0\" /><rect x=\"32\" y=\"112\" width=\"16\" height=\"16\" class=\"square dark\" stroke=\"none\" fill=\"#d18b47\" opacity=\"1.0\" /><rect x=\"48\" y=\"0\" width=\"16\" height=\"16\" class=\"square dark\" stroke=\"none\" fill=\"#d18b47\" opacity=\"1.0\" /><rect x=\"48\" y=\"16\" width=\"16\" height=\"16\" class=\"square light\" stroke=\"none\" fill=\"#ffce9e\" opacity=\"1.0\" /><rect x=\"48\" y=\"32\" width=\"16\" height=\"16\" class=\"square dark\" stroke=\"none\" fill=\"#d18b47\" opacity=\"1.0\" /><rect x=\"48\" y=\"48\" width=\"16\" height=\"16\" class=\"square light\" stroke=\"none\" fill=\"#ffce9e\" opacity=\"1.0\" /><rect x=\"48\" y=\"64\" width=\"16\" height=\"16\" class=\"square dark\" stroke=\"none\" fill=\"#d18b47\" opacity=\"1.0\" /><rect x=\"48\" y=\"80\" width=\"16\" height=\"16\" class=\"square light\" stroke=\"none\" fill=\"#ffce9e\" opacity=\"1.0\" /><rect x=\"48\" y=\"96\" width=\"16\" height=\"16\" class=\"square dark\" stroke=\"none\" fill=\"#d18b47\" opacity=\"1.0\" /><rect x=\"48\" y=\"112\" width=\"16\" height=\"16\" class=\"square light\" stroke=\"none\" fill=\"#ffce9e\" opacity=\"1.0\" /><rect x=\"64\" y=\"0\" width=\"16\" height=\"16\" class=\"square light\" stroke=\"none\" fill=\"#ffce9e\" opacity=\"1.0\" /><rect x=\"64\" y=\"16\" width=\"16\" height=\"16\" class=\"square dark\" stroke=\"none\" fill=\"#d18b47\" opacity=\"1.0\" /><rect x=\"64\" y=\"32\" width=\"16\" height=\"16\" class=\"square light\" stroke=\"none\" fill=\"#ffce9e\" opacity=\"1.0\" /><rect x=\"64\" y=\"48\" width=\"16\" height=\"16\" class=\"square dark\" stroke=\"none\" fill=\"#d18b47\" opacity=\"1.0\" /><rect x=\"64\" y=\"64\" width=\"16\" height=\"16\" class=\"square light\" stroke=\"none\" fill=\"#ffce9e\" opacity=\"1.0\" /><rect x=\"64\" y=\"80\" width=\"16\" height=\"16\" class=\"square dark\" stroke=\"none\" fill=\"#d18b47\" opacity=\"1.0\" /><rect x=\"64\" y=\"96\" width=\"16\" height=\"16\" class=\"square light\" stroke=\"none\" fill=\"#ffce9e\" opacity=\"1.0\" /><rect x=\"64\" y=\"112\" width=\"16\" height=\"16\" class=\"square dark\" stroke=\"none\" fill=\"#d18b47\" opacity=\"1.0\" /><rect x=\"80\" y=\"0\" width=\"16\" height=\"16\" class=\"square dark\" stroke=\"none\" fill=\"#d18b47\" opacity=\"1.0\" /><rect x=\"80\" y=\"16\" width=\"16\" height=\"16\" class=\"square light\" stroke=\"none\" fill=\"#ffce9e\" opacity=\"1.0\" /><rect x=\"80\" y=\"32\" width=\"16\" height=\"16\" class=\"square dark\" stroke=\"none\" fill=\"#d18b47\" opacity=\"1.0\" /><rect x=\"80\" y=\"48\" width=\"16\" height=\"16\" class=\"square light\" stroke=\"none\" fill=\"#ffce9e\" opacity=\"1.0\" /><rect x=\"80\" y=\"64\" width=\"16\" height=\"16\" class=\"square dark\" stroke=\"none\" fill=\"#d18b47\" opacity=\"1.0\" /><rect x=\"80\" y=\"80\" width=\"16\" height=\"16\" class=\"square light\" stroke=\"none\" fill=\"#ffce9e\" opacity=\"1.0\" /><rect x=\"80\" y=\"96\" width=\"16\" height=\"16\" class=\"square dark\" stroke=\"none\" fill=\"#d18b47\" opacity=\"1.0\" /><rect x=\"80\" y=\"112\" width=\"16\" height=\"16\" class=\"square light\" stroke=\"none\" fill=\"#ffce9e\" opacity=\"1.0\" /><rect x=\"96\" y=\"0\" width=\"16\" height=\"16\" class=\"square light\" stroke=\"none\" fill=\"#ffce9e\" opacity=\"1.0\" /><rect x=\"96\" y=\"16\" width=\"16\" height=\"16\" class=\"square dark\" stroke=\"none\" fill=\"#d18b47\" opacity=\"1.0\" /><rect x=\"96\" y=\"32\" width=\"16\" height=\"16\" class=\"square light\" stroke=\"none\" fill=\"#ffce9e\" opacity=\"1.0\" /><rect x=\"96\" y=\"48\" width=\"16\" height=\"16\" class=\"square dark\" stroke=\"none\" fill=\"#d18b47\" opacity=\"1.0\" /><rect x=\"96\" y=\"64\" width=\"16\" height=\"16\" class=\"square light\" stroke=\"none\" fill=\"#ffce9e\" opacity=\"1.0\" /><rect x=\"96\" y=\"80\" width=\"16\" height=\"16\" class=\"square dark\" stroke=\"none\" fill=\"#d18b47\" opacity=\"1.0\" /><rect x=\"96\" y=\"96\" width=\"16\" height=\"16\" class=\"square light\" stroke=\"none\" fill=\"#ffce9e\" opacity=\"1.0\" /><rect x=\"96\" y=\"112\" width=\"16\" height=\"16\" class=\"square dark\" stroke=\"none\" fill=\"#d18b47\" opacity=\"1.0\" /><rect x=\"112\" y=\"0\" width=\"16\" height=\"16\" class=\"square dark\" stroke=\"none\" fill=\"#d18b47\" opacity=\"1.0\" /><rect x=\"112\" y=\"16\" width=\"16\" height=\"16\" class=\"square light\" stroke=\"none\" fill=\"#ffce9e\" opacity=\"1.0\" /><rect x=\"112\" y=\"32\" width=\"16\" height=\"16\" class=\"square dark\" stroke=\"none\" fill=\"#d18b47\" opacity=\"1.0\" /><rect x=\"112\" y=\"48\" width=\"16\" height=\"16\" class=\"square light\" stroke=\"none\" fill=\"#ffce9e\" opacity=\"1.0\" /><rect x=\"112\" y=\"64\" width=\"16\" height=\"16\" class=\"square dark\" stroke=\"none\" fill=\"#d18b47\" opacity=\"1.0\" /><rect x=\"112\" y=\"80\" width=\"16\" height=\"16\" class=\"square light\" stroke=\"none\" fill=\"#ffce9e\" opacity=\"1.0\" /><rect x=\"112\" y=\"96\" width=\"16\" height=\"16\" class=\"square dark\" stroke=\"none\" fill=\"#d18b47\" opacity=\"1.0\" /><rect x=\"112\" y=\"112\" width=\"16\" height=\"16\" class=\"square light\" stroke=\"none\" fill=\"#ffce9e\" opacity=\"1.0\" /><use href=\"#white-queen\" xlink:href=\"#white-queen\" transform=\"translate(48, 0) scale(0.355556)\" /><use href=\"#white-queen\" xlink:href=\"#white-queen\" transform=\"translate(0, 16) scale(0.355556)\" /><use href=\"#white-queen\" xlink:href=\"#white-queen\" transform=\"translate(64, 32) scale(0.355556)\" /><use href=\"#white-queen\" xlink:href=\"#white-queen\" transform=\"translate(112, 48) scale(0.355556)\" /><use href=\"#white-queen\" xlink:href=\"#white-queen\" transform=\"translate(16, 64) scale(0.355556)\" /><use href=\"#white-queen\" xlink:href=\"#white-queen\" transform=\"translate(96, 80) scale(0.355556)\" /><use href=\"#white-queen\" xlink:href=\"#white-queen\" transform=\"translate(32, 96) scale(0.355556)\" /><use href=\"#white-queen\" xlink:href=\"#white-queen\" transform=\"translate(80, 112) scale(0.355556)\" /></svg></div>"
      ],
      "text/plain": [
       "<chess_problem_visuals.board.Board at 0x7fc69c9c3280>"
      ]
     },
     "execution_count": 26,
     "metadata": {},
     "output_type": "execute_result"
    }
   ],
   "source": [
    "show_solution(Solution, 8)"
   ]
  },
  {
   "cell_type": "code",
   "execution_count": 27,
   "metadata": {},
   "outputs": [
    {
     "name": "stdout",
     "output_type": "stream",
     "text": [
      "Solution = {'V2': 1, 'V5': 2, 'V8': 6, 'V6': 7, 'V7': 3, 'V4': 8, 'V1': 4, 'V3': 5}\n",
      "CPU times: user 21.8 ms, sys: 2.06 ms, total: 23.8 ms\n",
      "Wall time: 22.1 ms\n"
     ]
    }
   ],
   "source": [
    "%%time\n",
    "Solution = solve(P, check_consistency=False)\n",
    "print(f'Solution = {Solution}')"
   ]
  },
  {
   "cell_type": "code",
   "execution_count": 28,
   "metadata": {},
   "outputs": [],
   "source": [
    "P = create_csp(32)"
   ]
  },
  {
   "cell_type": "markdown",
   "metadata": {},
   "source": [
    "The 32-queens-problem can be solved in 1 second if we use consistence maintenance.\n",
    "Again, we see that consistency maintenance is not usefull for the n-queens-puzzle."
   ]
  },
  {
   "cell_type": "code",
   "execution_count": 29,
   "metadata": {},
   "outputs": [
    {
     "name": "stdout",
     "output_type": "stream",
     "text": [
      "V14: {1, 2, 3, 4, 5, 6, 7, 8, 9, 10, 11, 12, 13, 14, 15, 16, 17, 18, 19, 20, 21, 22, 23, 24, 25, 26, 27, 28, 29, 30, 31, 32}\n",
      "V11: {1, 2, 3, 4, 5, 6, 7, 8, 9, 10, 11, 12, 13, 14, 15, 16, 17, 18, 19, 20, 21, 22, 23, 24, 25, 26, 27, 28, 29, 30, 31, 32}\n",
      "V16: {1, 2, 3, 4, 5, 6, 7, 8, 9, 10, 11, 12, 13, 14, 15, 16, 17, 18, 19, 20, 21, 22, 23, 24, 25, 26, 27, 28, 29, 30, 31, 32}\n",
      "V26: {1, 2, 3, 4, 5, 6, 7, 8, 9, 10, 11, 12, 13, 14, 15, 16, 17, 18, 19, 20, 21, 22, 23, 24, 25, 26, 27, 28, 29, 30, 31, 32}\n",
      "V19: {1, 2, 3, 4, 5, 6, 7, 8, 9, 10, 11, 12, 13, 14, 15, 16, 17, 18, 19, 20, 21, 22, 23, 24, 25, 26, 27, 28, 29, 30, 31, 32}\n",
      "V3: {1, 2, 3, 4, 5, 6, 7, 8, 9, 10, 11, 12, 13, 14, 15, 16, 17, 18, 19, 20, 21, 22, 23, 24, 25, 26, 27, 28, 29, 30, 31, 32}\n",
      "V23: {1, 2, 3, 4, 5, 6, 7, 8, 9, 10, 11, 12, 13, 14, 15, 16, 17, 18, 19, 20, 21, 22, 23, 24, 25, 26, 27, 28, 29, 30, 31, 32}\n",
      "V2: {1, 2, 3, 4, 5, 6, 7, 8, 9, 10, 11, 12, 13, 14, 15, 16, 17, 18, 19, 20, 21, 22, 23, 24, 25, 26, 27, 28, 29, 30, 31, 32}\n",
      "V20: {1, 2, 3, 4, 5, 6, 7, 8, 9, 10, 11, 12, 13, 14, 15, 16, 17, 18, 19, 20, 21, 22, 23, 24, 25, 26, 27, 28, 29, 30, 31, 32}\n",
      "V4: {1, 2, 3, 4, 5, 6, 7, 8, 9, 10, 11, 12, 13, 14, 15, 16, 17, 18, 19, 20, 21, 22, 23, 24, 25, 26, 27, 28, 29, 30, 31, 32}\n",
      "V7: {1, 2, 3, 4, 5, 6, 7, 8, 9, 10, 11, 12, 13, 14, 15, 16, 17, 18, 19, 20, 21, 22, 23, 24, 25, 26, 27, 28, 29, 30, 31, 32}\n",
      "V21: {1, 2, 3, 4, 5, 6, 7, 8, 9, 10, 11, 12, 13, 14, 15, 16, 17, 18, 19, 20, 21, 22, 23, 24, 25, 26, 27, 28, 29, 30, 31, 32}\n",
      "V30: {1, 2, 3, 4, 5, 6, 7, 8, 9, 10, 11, 12, 13, 14, 15, 16, 17, 18, 19, 20, 21, 22, 23, 24, 25, 26, 27, 28, 29, 30, 31, 32}\n",
      "V29: {1, 2, 3, 4, 5, 6, 7, 8, 9, 10, 11, 12, 13, 14, 15, 16, 17, 18, 19, 20, 21, 22, 23, 24, 25, 26, 27, 28, 29, 30, 31, 32}\n",
      "V10: {1, 2, 3, 4, 5, 6, 7, 8, 9, 10, 11, 12, 13, 14, 15, 16, 17, 18, 19, 20, 21, 22, 23, 24, 25, 26, 27, 28, 29, 30, 31, 32}\n",
      "V1: {1, 2, 3, 4, 5, 6, 7, 8, 9, 10, 11, 12, 13, 14, 15, 16, 17, 18, 19, 20, 21, 22, 23, 24, 25, 26, 27, 28, 29, 30, 31, 32}\n",
      "V13: {1, 2, 3, 4, 5, 6, 7, 8, 9, 10, 11, 12, 13, 14, 15, 16, 17, 18, 19, 20, 21, 22, 23, 24, 25, 26, 27, 28, 29, 30, 31, 32}\n",
      "V24: {1, 2, 3, 4, 5, 6, 7, 8, 9, 10, 11, 12, 13, 14, 15, 16, 17, 18, 19, 20, 21, 22, 23, 24, 25, 26, 27, 28, 29, 30, 31, 32}\n",
      "V8: {1, 2, 3, 4, 5, 6, 7, 8, 9, 10, 11, 12, 13, 14, 15, 16, 17, 18, 19, 20, 21, 22, 23, 24, 25, 26, 27, 28, 29, 30, 31, 32}\n",
      "V18: {1, 2, 3, 4, 5, 6, 7, 8, 9, 10, 11, 12, 13, 14, 15, 16, 17, 18, 19, 20, 21, 22, 23, 24, 25, 26, 27, 28, 29, 30, 31, 32}\n",
      "V15: {1, 2, 3, 4, 5, 6, 7, 8, 9, 10, 11, 12, 13, 14, 15, 16, 17, 18, 19, 20, 21, 22, 23, 24, 25, 26, 27, 28, 29, 30, 31, 32}\n",
      "V12: {1, 2, 3, 4, 5, 6, 7, 8, 9, 10, 11, 12, 13, 14, 15, 16, 17, 18, 19, 20, 21, 22, 23, 24, 25, 26, 27, 28, 29, 30, 31, 32}\n",
      "V17: {1, 2, 3, 4, 5, 6, 7, 8, 9, 10, 11, 12, 13, 14, 15, 16, 17, 18, 19, 20, 21, 22, 23, 24, 25, 26, 27, 28, 29, 30, 31, 32}\n",
      "V22: {1, 2, 3, 4, 5, 6, 7, 8, 9, 10, 11, 12, 13, 14, 15, 16, 17, 18, 19, 20, 21, 22, 23, 24, 25, 26, 27, 28, 29, 30, 31, 32}\n",
      "V25: {1, 2, 3, 4, 5, 6, 7, 8, 9, 10, 11, 12, 13, 14, 15, 16, 17, 18, 19, 20, 21, 22, 23, 24, 25, 26, 27, 28, 29, 30, 31, 32}\n",
      "V9: {1, 2, 3, 4, 5, 6, 7, 8, 9, 10, 11, 12, 13, 14, 15, 16, 17, 18, 19, 20, 21, 22, 23, 24, 25, 26, 27, 28, 29, 30, 31, 32}\n",
      "V6: {1, 2, 3, 4, 5, 6, 7, 8, 9, 10, 11, 12, 13, 14, 15, 16, 17, 18, 19, 20, 21, 22, 23, 24, 25, 26, 27, 28, 29, 30, 31, 32}\n",
      "V5: {1, 2, 3, 4, 5, 6, 7, 8, 9, 10, 11, 12, 13, 14, 15, 16, 17, 18, 19, 20, 21, 22, 23, 24, 25, 26, 27, 28, 29, 30, 31, 32}\n",
      "V32: {1, 2, 3, 4, 5, 6, 7, 8, 9, 10, 11, 12, 13, 14, 15, 16, 17, 18, 19, 20, 21, 22, 23, 24, 25, 26, 27, 28, 29, 30, 31, 32}\n",
      "V31: {1, 2, 3, 4, 5, 6, 7, 8, 9, 10, 11, 12, 13, 14, 15, 16, 17, 18, 19, 20, 21, 22, 23, 24, 25, 26, 27, 28, 29, 30, 31, 32}\n",
      "V27: {1, 2, 3, 4, 5, 6, 7, 8, 9, 10, 11, 12, 13, 14, 15, 16, 17, 18, 19, 20, 21, 22, 23, 24, 25, 26, 27, 28, 29, 30, 31, 32}\n",
      "V28: {1, 2, 3, 4, 5, 6, 7, 8, 9, 10, 11, 12, 13, 14, 15, 16, 17, 18, 19, 20, 21, 22, 23, 24, 25, 26, 27, 28, 29, 30, 31, 32}\n",
      "CPU times: user 2.31 s, sys: 18.2 ms, total: 2.33 s\n",
      "Wall time: 2.34 s\n"
     ]
    },
    {
     "data": {
      "text/html": [
       "<div style='width:40%'><svg xmlns=\"http://www.w3.org/2000/svg\" xmlns:xlink=\"http://www.w3.org/1999/xlink\" version=\"1.2\" baseProfile=\"tiny\" viewBox=\"0 0 512 512\"><defs><g id=\"black-bishop\" class=\"black bishop\" fill=\"none\" fill-rule=\"evenodd\" stroke=\"#000\" stroke-width=\"1.5\" stroke-linecap=\"round\" stroke-linejoin=\"round\"><path d=\"M9 36c3.39-.97 10.11.43 13.5-2 3.39 2.43 10.11 1.03 13.5 2 0 0 1.65.54 3 2-.68.97-1.65.99-3 .5-3.39-.97-10.11.46-13.5-1-3.39 1.46-10.11.03-13.5 1-1.354.49-2.323.47-3-.5 1.354-1.94 3-2 3-2zm6-4c2.5 2.5 12.5 2.5 15 0 .5-1.5 0-2 0-2 0-2.5-2.5-4-2.5-4 5.5-1.5 6-11.5-5-15.5-11 4-10.5 14-5 15.5 0 0-2.5 1.5-2.5 4 0 0-.5.5 0 2zM25 8a2.5 2.5 0 1 1-5 0 2.5 2.5 0 1 1 5 0z\" fill=\"#000\" stroke-linecap=\"butt\" /><path d=\"M17.5 26h10M15 30h15m-7.5-14.5v5M20 18h5\" stroke=\"#fff\" stroke-linejoin=\"miter\" /></g><g id=\"black-king\" class=\"black king\" fill=\"none\" fill-rule=\"evenodd\" stroke=\"#000\" stroke-width=\"1.5\" stroke-linecap=\"round\" stroke-linejoin=\"round\"><path d=\"M22.5 11.63V6\" stroke-linejoin=\"miter\" /><path d=\"M22.5 25s4.5-7.5 3-10.5c0 0-1-2.5-3-2.5s-3 2.5-3 2.5c-1.5 3 3 10.5 3 10.5\" fill=\"#000\" stroke-linecap=\"butt\" stroke-linejoin=\"miter\" /><path d=\"M11.5 37c5.5 3.5 15.5 3.5 21 0v-7s9-4.5 6-10.5c-4-6.5-13.5-3.5-16 4V27v-3.5c-3.5-7.5-13-10.5-16-4-3 6 5 10 5 10V37z\" fill=\"#000\" /><path d=\"M20 8h5\" stroke-linejoin=\"miter\" /><path d=\"M32 29.5s8.5-4 6.03-9.65C34.15 14 25 18 22.5 24.5l.01 2.1-.01-2.1C20 18 9.906 14 6.997 19.85c-2.497 5.65 4.853 9 4.853 9M11.5 30c5.5-3 15.5-3 21 0m-21 3.5c5.5-3 15.5-3 21 0m-21 3.5c5.5-3 15.5-3 21 0\" stroke=\"#fff\" /></g><g id=\"black-knight\" class=\"black knight\" fill=\"none\" fill-rule=\"evenodd\" stroke=\"#000\" stroke-width=\"1.5\" stroke-linecap=\"round\" stroke-linejoin=\"round\"><path d=\"M 22,10 C 32.5,11 38.5,18 38,39 L 15,39 C 15,30 25,32.5 23,18\" style=\"fill:#000000; stroke:#000000;\" /><path d=\"M 24,18 C 24.38,20.91 18.45,25.37 16,27 C 13,29 13.18,31.34 11,31 C 9.958,30.06 12.41,27.96 11,28 C 10,28 11.19,29.23 10,30 C 9,30 5.997,31 6,26 C 6,24 12,14 12,14 C 12,14 13.89,12.1 14,10.5 C 13.27,9.506 13.5,8.5 13.5,7.5 C 14.5,6.5 16.5,10 16.5,10 L 18.5,10 C 18.5,10 19.28,8.008 21,7 C 22,7 22,10 22,10\" style=\"fill:#000000; stroke:#000000;\" /><path d=\"M 9.5 25.5 A 0.5 0.5 0 1 1 8.5,25.5 A 0.5 0.5 0 1 1 9.5 25.5 z\" style=\"fill:#ececec; stroke:#ececec;\" /><path d=\"M 15 15.5 A 0.5 1.5 0 1 1 14,15.5 A 0.5 1.5 0 1 1 15 15.5 z\" transform=\"matrix(0.866,0.5,-0.5,0.866,9.693,-5.173)\" style=\"fill:#ececec; stroke:#ececec;\" /><path d=\"M 24.55,10.4 L 24.1,11.85 L 24.6,12 C 27.75,13 30.25,14.49 32.5,18.75 C 34.75,23.01 35.75,29.06 35.25,39 L 35.2,39.5 L 37.45,39.5 L 37.5,39 C 38,28.94 36.62,22.15 34.25,17.66 C 31.88,13.17 28.46,11.02 25.06,10.5 L 24.55,10.4 z \" style=\"fill:#ececec; stroke:none;\" /></g><g id=\"black-pawn\" class=\"black pawn\"><path d=\"M22.5 9c-2.21 0-4 1.79-4 4 0 .89.29 1.71.78 2.38C17.33 16.5 16 18.59 16 21c0 2.03.94 3.84 2.41 5.03-3 1.06-7.41 5.55-7.41 13.47h23c0-7.92-4.41-12.41-7.41-13.47 1.47-1.19 2.41-3 2.41-5.03 0-2.41-1.33-4.5-3.28-5.62.49-.67.78-1.49.78-2.38 0-2.21-1.79-4-4-4z\" fill=\"#000\" stroke=\"#000\" stroke-width=\"1.5\" stroke-linecap=\"round\" /></g><g id=\"black-queen\" class=\"black queen\" fill=\"#000\" fill-rule=\"evenodd\" stroke=\"#000\" stroke-width=\"1.5\" stroke-linecap=\"round\" stroke-linejoin=\"round\"><g fill=\"#000\" stroke=\"none\"><circle cx=\"6\" cy=\"12\" r=\"2.75\" /><circle cx=\"14\" cy=\"9\" r=\"2.75\" /><circle cx=\"22.5\" cy=\"8\" r=\"2.75\" /><circle cx=\"31\" cy=\"9\" r=\"2.75\" /><circle cx=\"39\" cy=\"12\" r=\"2.75\" /></g><path d=\"M9 26c8.5-1.5 21-1.5 27 0l2.5-12.5L31 25l-.3-14.1-5.2 13.6-3-14.5-3 14.5-5.2-13.6L14 25 6.5 13.5 9 26zM9 26c0 2 1.5 2 2.5 4 1 1.5 1 1 .5 3.5-1.5 1-1.5 2.5-1.5 2.5-1.5 1.5.5 2.5.5 2.5 6.5 1 16.5 1 23 0 0 0 1.5-1 0-2.5 0 0 .5-1.5-1-2.5-.5-2.5-.5-2 .5-3.5 1-2 2.5-2 2.5-4-8.5-1.5-18.5-1.5-27 0z\" stroke-linecap=\"butt\" /><path d=\"M11 38.5a35 35 1 0 0 23 0\" fill=\"none\" stroke-linecap=\"butt\" /><path d=\"M11 29a35 35 1 0 1 23 0M12.5 31.5h20M11.5 34.5a35 35 1 0 0 22 0M10.5 37.5a35 35 1 0 0 24 0\" fill=\"none\" stroke=\"#fff\" /></g><g id=\"black-rook\" class=\"black rook\" fill=\"#000\" fill-rule=\"evenodd\" stroke=\"#000\" stroke-width=\"1.5\" stroke-linecap=\"round\" stroke-linejoin=\"round\"><path d=\"M9 39h27v-3H9v3zM12.5 32l1.5-2.5h17l1.5 2.5h-20zM12 36v-4h21v4H12z\" stroke-linecap=\"butt\" /><path d=\"M14 29.5v-13h17v13H14z\" stroke-linecap=\"butt\" stroke-linejoin=\"miter\" /><path d=\"M14 16.5L11 14h23l-3 2.5H14zM11 14V9h4v2h5V9h5v2h5V9h4v5H11z\" stroke-linecap=\"butt\" /><path d=\"M12 35.5h21M13 31.5h19M14 29.5h17M14 16.5h17M11 14h23\" fill=\"none\" stroke=\"#fff\" stroke-width=\"1\" stroke-linejoin=\"miter\" /></g><g id=\"white-bishop\" class=\"white bishop\" fill=\"none\" fill-rule=\"evenodd\" stroke=\"#000\" stroke-width=\"1.5\" stroke-linecap=\"round\" stroke-linejoin=\"round\"><g fill=\"#fff\" stroke-linecap=\"butt\"><path d=\"M9 36c3.39-.97 10.11.43 13.5-2 3.39 2.43 10.11 1.03 13.5 2 0 0 1.65.54 3 2-.68.97-1.65.99-3 .5-3.39-.97-10.11.46-13.5-1-3.39 1.46-10.11.03-13.5 1-1.354.49-2.323.47-3-.5 1.354-1.94 3-2 3-2zM15 32c2.5 2.5 12.5 2.5 15 0 .5-1.5 0-2 0-2 0-2.5-2.5-4-2.5-4 5.5-1.5 6-11.5-5-15.5-11 4-10.5 14-5 15.5 0 0-2.5 1.5-2.5 4 0 0-.5.5 0 2zM25 8a2.5 2.5 0 1 1-5 0 2.5 2.5 0 1 1 5 0z\" /></g><path d=\"M17.5 26h10M15 30h15m-7.5-14.5v5M20 18h5\" stroke-linejoin=\"miter\" /></g><g id=\"white-king\" class=\"white king\" fill=\"none\" fill-rule=\"evenodd\" stroke=\"#000\" stroke-width=\"1.5\" stroke-linecap=\"round\" stroke-linejoin=\"round\"><path d=\"M22.5 11.63V6M20 8h5\" stroke-linejoin=\"miter\" /><path d=\"M22.5 25s4.5-7.5 3-10.5c0 0-1-2.5-3-2.5s-3 2.5-3 2.5c-1.5 3 3 10.5 3 10.5\" fill=\"#fff\" stroke-linecap=\"butt\" stroke-linejoin=\"miter\" /><path d=\"M11.5 37c5.5 3.5 15.5 3.5 21 0v-7s9-4.5 6-10.5c-4-6.5-13.5-3.5-16 4V27v-3.5c-3.5-7.5-13-10.5-16-4-3 6 5 10 5 10V37z\" fill=\"#fff\" /><path d=\"M11.5 30c5.5-3 15.5-3 21 0m-21 3.5c5.5-3 15.5-3 21 0m-21 3.5c5.5-3 15.5-3 21 0\" /></g><g id=\"white-knight\" class=\"white knight\" fill=\"none\" fill-rule=\"evenodd\" stroke=\"#000\" stroke-width=\"1.5\" stroke-linecap=\"round\" stroke-linejoin=\"round\"><path d=\"M 22,10 C 32.5,11 38.5,18 38,39 L 15,39 C 15,30 25,32.5 23,18\" style=\"fill:#ffffff; stroke:#000000;\" /><path d=\"M 24,18 C 24.38,20.91 18.45,25.37 16,27 C 13,29 13.18,31.34 11,31 C 9.958,30.06 12.41,27.96 11,28 C 10,28 11.19,29.23 10,30 C 9,30 5.997,31 6,26 C 6,24 12,14 12,14 C 12,14 13.89,12.1 14,10.5 C 13.27,9.506 13.5,8.5 13.5,7.5 C 14.5,6.5 16.5,10 16.5,10 L 18.5,10 C 18.5,10 19.28,8.008 21,7 C 22,7 22,10 22,10\" style=\"fill:#ffffff; stroke:#000000;\" /><path d=\"M 9.5 25.5 A 0.5 0.5 0 1 1 8.5,25.5 A 0.5 0.5 0 1 1 9.5 25.5 z\" style=\"fill:#000000; stroke:#000000;\" /><path d=\"M 15 15.5 A 0.5 1.5 0 1 1 14,15.5 A 0.5 1.5 0 1 1 15 15.5 z\" transform=\"matrix(0.866,0.5,-0.5,0.866,9.693,-5.173)\" style=\"fill:#000000; stroke:#000000;\" /></g><g id=\"white-pawn\" class=\"white pawn\"><path d=\"M22.5 9c-2.21 0-4 1.79-4 4 0 .89.29 1.71.78 2.38C17.33 16.5 16 18.59 16 21c0 2.03.94 3.84 2.41 5.03-3 1.06-7.41 5.55-7.41 13.47h23c0-7.92-4.41-12.41-7.41-13.47 1.47-1.19 2.41-3 2.41-5.03 0-2.41-1.33-4.5-3.28-5.62.49-.67.78-1.49.78-2.38 0-2.21-1.79-4-4-4z\" fill=\"#fff\" stroke=\"#000\" stroke-width=\"1.5\" stroke-linecap=\"round\" /></g><g id=\"white-queen\" class=\"white queen\" fill=\"#fff\" fill-rule=\"evenodd\" stroke=\"#000\" stroke-width=\"1.5\" stroke-linecap=\"round\" stroke-linejoin=\"round\"><path d=\"M8 12a2 2 0 1 1-4 0 2 2 0 1 1 4 0zM24.5 7.5a2 2 0 1 1-4 0 2 2 0 1 1 4 0zM41 12a2 2 0 1 1-4 0 2 2 0 1 1 4 0zM16 8.5a2 2 0 1 1-4 0 2 2 0 1 1 4 0zM33 9a2 2 0 1 1-4 0 2 2 0 1 1 4 0z\" /><path d=\"M9 26c8.5-1.5 21-1.5 27 0l2-12-7 11V11l-5.5 13.5-3-15-3 15-5.5-14V25L7 14l2 12zM9 26c0 2 1.5 2 2.5 4 1 1.5 1 1 .5 3.5-1.5 1-1.5 2.5-1.5 2.5-1.5 1.5.5 2.5.5 2.5 6.5 1 16.5 1 23 0 0 0 1.5-1 0-2.5 0 0 .5-1.5-1-2.5-.5-2.5-.5-2 .5-3.5 1-2 2.5-2 2.5-4-8.5-1.5-18.5-1.5-27 0z\" stroke-linecap=\"butt\" /><path d=\"M11.5 30c3.5-1 18.5-1 22 0M12 33.5c6-1 15-1 21 0\" fill=\"none\" /></g><g id=\"white-rook\" class=\"white rook\" fill=\"#fff\" fill-rule=\"evenodd\" stroke=\"#000\" stroke-width=\"1.5\" stroke-linecap=\"round\" stroke-linejoin=\"round\"><path d=\"M9 39h27v-3H9v3zM12 36v-4h21v4H12zM11 14V9h4v2h5V9h5v2h5V9h4v5\" stroke-linecap=\"butt\" /><path d=\"M34 14l-3 3H14l-3-3\" /><path d=\"M31 17v12.5H14V17\" stroke-linecap=\"butt\" stroke-linejoin=\"miter\" /><path d=\"M31 29.5l1.5 2.5h-20l1.5-2.5\" /><path d=\"M11 14h23\" fill=\"none\" stroke-linejoin=\"miter\" /></g></defs><rect x=\"0\" y=\"0\" width=\"16\" height=\"16\" class=\"square light\" stroke=\"none\" fill=\"#ffce9e\" opacity=\"1.0\" /><rect x=\"0\" y=\"16\" width=\"16\" height=\"16\" class=\"square dark\" stroke=\"none\" fill=\"#d18b47\" opacity=\"1.0\" /><rect x=\"0\" y=\"32\" width=\"16\" height=\"16\" class=\"square light\" stroke=\"none\" fill=\"#ffce9e\" opacity=\"1.0\" /><rect x=\"0\" y=\"48\" width=\"16\" height=\"16\" class=\"square dark\" stroke=\"none\" fill=\"#d18b47\" opacity=\"1.0\" /><rect x=\"0\" y=\"64\" width=\"16\" height=\"16\" class=\"square light\" stroke=\"none\" fill=\"#ffce9e\" opacity=\"1.0\" /><rect x=\"0\" y=\"80\" width=\"16\" height=\"16\" class=\"square dark\" stroke=\"none\" fill=\"#d18b47\" opacity=\"1.0\" /><rect x=\"0\" y=\"96\" width=\"16\" height=\"16\" class=\"square light\" stroke=\"none\" fill=\"#ffce9e\" opacity=\"1.0\" /><rect x=\"0\" y=\"112\" width=\"16\" height=\"16\" class=\"square dark\" stroke=\"none\" fill=\"#d18b47\" opacity=\"1.0\" /><rect x=\"0\" y=\"128\" width=\"16\" height=\"16\" class=\"square light\" stroke=\"none\" fill=\"#ffce9e\" opacity=\"1.0\" /><rect x=\"0\" y=\"144\" width=\"16\" height=\"16\" class=\"square dark\" stroke=\"none\" fill=\"#d18b47\" opacity=\"1.0\" /><rect x=\"0\" y=\"160\" width=\"16\" height=\"16\" class=\"square light\" stroke=\"none\" fill=\"#ffce9e\" opacity=\"1.0\" /><rect x=\"0\" y=\"176\" width=\"16\" height=\"16\" class=\"square dark\" stroke=\"none\" fill=\"#d18b47\" opacity=\"1.0\" /><rect x=\"0\" y=\"192\" width=\"16\" height=\"16\" class=\"square light\" stroke=\"none\" fill=\"#ffce9e\" opacity=\"1.0\" /><rect x=\"0\" y=\"208\" width=\"16\" height=\"16\" class=\"square dark\" stroke=\"none\" fill=\"#d18b47\" opacity=\"1.0\" /><rect x=\"0\" y=\"224\" width=\"16\" height=\"16\" class=\"square light\" stroke=\"none\" fill=\"#ffce9e\" opacity=\"1.0\" /><rect x=\"0\" y=\"240\" width=\"16\" height=\"16\" class=\"square dark\" stroke=\"none\" fill=\"#d18b47\" opacity=\"1.0\" /><rect x=\"0\" y=\"256\" width=\"16\" height=\"16\" class=\"square light\" stroke=\"none\" fill=\"#ffce9e\" opacity=\"1.0\" /><rect x=\"0\" y=\"272\" width=\"16\" height=\"16\" class=\"square dark\" stroke=\"none\" fill=\"#d18b47\" opacity=\"1.0\" /><rect x=\"0\" y=\"288\" width=\"16\" height=\"16\" class=\"square light\" stroke=\"none\" fill=\"#ffce9e\" opacity=\"1.0\" /><rect x=\"0\" y=\"304\" width=\"16\" height=\"16\" class=\"square dark\" stroke=\"none\" fill=\"#d18b47\" opacity=\"1.0\" /><rect x=\"0\" y=\"320\" width=\"16\" height=\"16\" class=\"square light\" stroke=\"none\" fill=\"#ffce9e\" opacity=\"1.0\" /><rect x=\"0\" y=\"336\" width=\"16\" height=\"16\" class=\"square dark\" stroke=\"none\" fill=\"#d18b47\" opacity=\"1.0\" /><rect x=\"0\" y=\"352\" width=\"16\" height=\"16\" class=\"square light\" stroke=\"none\" fill=\"#ffce9e\" opacity=\"1.0\" /><rect x=\"0\" y=\"368\" width=\"16\" height=\"16\" class=\"square dark\" stroke=\"none\" fill=\"#d18b47\" opacity=\"1.0\" /><rect x=\"0\" y=\"384\" width=\"16\" height=\"16\" class=\"square light\" stroke=\"none\" fill=\"#ffce9e\" opacity=\"1.0\" /><rect x=\"0\" y=\"400\" width=\"16\" height=\"16\" class=\"square dark\" stroke=\"none\" fill=\"#d18b47\" opacity=\"1.0\" /><rect x=\"0\" y=\"416\" width=\"16\" height=\"16\" class=\"square light\" stroke=\"none\" fill=\"#ffce9e\" opacity=\"1.0\" /><rect x=\"0\" y=\"432\" width=\"16\" height=\"16\" class=\"square dark\" stroke=\"none\" fill=\"#d18b47\" opacity=\"1.0\" /><rect x=\"0\" y=\"448\" width=\"16\" height=\"16\" class=\"square light\" stroke=\"none\" fill=\"#ffce9e\" opacity=\"1.0\" /><rect x=\"0\" y=\"464\" width=\"16\" height=\"16\" class=\"square dark\" stroke=\"none\" fill=\"#d18b47\" opacity=\"1.0\" /><rect x=\"0\" y=\"480\" width=\"16\" height=\"16\" class=\"square light\" stroke=\"none\" fill=\"#ffce9e\" opacity=\"1.0\" /><rect x=\"0\" y=\"496\" width=\"16\" height=\"16\" class=\"square dark\" stroke=\"none\" fill=\"#d18b47\" opacity=\"1.0\" /><rect x=\"16\" y=\"0\" width=\"16\" height=\"16\" class=\"square dark\" stroke=\"none\" fill=\"#d18b47\" opacity=\"1.0\" /><rect x=\"16\" y=\"16\" width=\"16\" height=\"16\" class=\"square light\" stroke=\"none\" fill=\"#ffce9e\" opacity=\"1.0\" /><rect x=\"16\" y=\"32\" width=\"16\" height=\"16\" class=\"square dark\" stroke=\"none\" fill=\"#d18b47\" opacity=\"1.0\" /><rect x=\"16\" y=\"48\" width=\"16\" height=\"16\" class=\"square light\" stroke=\"none\" fill=\"#ffce9e\" opacity=\"1.0\" /><rect x=\"16\" y=\"64\" width=\"16\" height=\"16\" class=\"square dark\" stroke=\"none\" fill=\"#d18b47\" opacity=\"1.0\" /><rect x=\"16\" y=\"80\" width=\"16\" height=\"16\" class=\"square light\" stroke=\"none\" fill=\"#ffce9e\" opacity=\"1.0\" /><rect x=\"16\" y=\"96\" width=\"16\" height=\"16\" class=\"square dark\" stroke=\"none\" fill=\"#d18b47\" opacity=\"1.0\" /><rect x=\"16\" y=\"112\" width=\"16\" height=\"16\" class=\"square light\" stroke=\"none\" fill=\"#ffce9e\" opacity=\"1.0\" /><rect x=\"16\" y=\"128\" width=\"16\" height=\"16\" class=\"square dark\" stroke=\"none\" fill=\"#d18b47\" opacity=\"1.0\" /><rect x=\"16\" y=\"144\" width=\"16\" height=\"16\" class=\"square light\" stroke=\"none\" fill=\"#ffce9e\" opacity=\"1.0\" /><rect x=\"16\" y=\"160\" width=\"16\" height=\"16\" class=\"square dark\" stroke=\"none\" fill=\"#d18b47\" opacity=\"1.0\" /><rect x=\"16\" y=\"176\" width=\"16\" height=\"16\" class=\"square light\" stroke=\"none\" fill=\"#ffce9e\" opacity=\"1.0\" /><rect x=\"16\" y=\"192\" width=\"16\" height=\"16\" class=\"square dark\" stroke=\"none\" fill=\"#d18b47\" opacity=\"1.0\" /><rect x=\"16\" y=\"208\" width=\"16\" height=\"16\" class=\"square light\" stroke=\"none\" fill=\"#ffce9e\" opacity=\"1.0\" /><rect x=\"16\" y=\"224\" width=\"16\" height=\"16\" class=\"square dark\" stroke=\"none\" fill=\"#d18b47\" opacity=\"1.0\" /><rect x=\"16\" y=\"240\" width=\"16\" height=\"16\" class=\"square light\" stroke=\"none\" fill=\"#ffce9e\" opacity=\"1.0\" /><rect x=\"16\" y=\"256\" width=\"16\" height=\"16\" class=\"square dark\" stroke=\"none\" fill=\"#d18b47\" opacity=\"1.0\" /><rect x=\"16\" y=\"272\" width=\"16\" height=\"16\" class=\"square light\" stroke=\"none\" fill=\"#ffce9e\" opacity=\"1.0\" /><rect x=\"16\" y=\"288\" width=\"16\" height=\"16\" class=\"square dark\" stroke=\"none\" fill=\"#d18b47\" opacity=\"1.0\" /><rect x=\"16\" y=\"304\" width=\"16\" height=\"16\" class=\"square light\" stroke=\"none\" fill=\"#ffce9e\" opacity=\"1.0\" /><rect x=\"16\" y=\"320\" width=\"16\" height=\"16\" class=\"square dark\" stroke=\"none\" fill=\"#d18b47\" opacity=\"1.0\" /><rect x=\"16\" y=\"336\" width=\"16\" height=\"16\" class=\"square light\" stroke=\"none\" fill=\"#ffce9e\" opacity=\"1.0\" /><rect x=\"16\" y=\"352\" width=\"16\" height=\"16\" class=\"square dark\" stroke=\"none\" fill=\"#d18b47\" opacity=\"1.0\" /><rect x=\"16\" y=\"368\" width=\"16\" height=\"16\" class=\"square light\" stroke=\"none\" fill=\"#ffce9e\" opacity=\"1.0\" /><rect x=\"16\" y=\"384\" width=\"16\" height=\"16\" class=\"square dark\" stroke=\"none\" fill=\"#d18b47\" opacity=\"1.0\" /><rect x=\"16\" y=\"400\" width=\"16\" height=\"16\" class=\"square light\" stroke=\"none\" fill=\"#ffce9e\" opacity=\"1.0\" /><rect x=\"16\" y=\"416\" width=\"16\" height=\"16\" class=\"square dark\" stroke=\"none\" fill=\"#d18b47\" opacity=\"1.0\" /><rect x=\"16\" y=\"432\" width=\"16\" height=\"16\" class=\"square light\" stroke=\"none\" fill=\"#ffce9e\" opacity=\"1.0\" /><rect x=\"16\" y=\"448\" width=\"16\" height=\"16\" class=\"square dark\" stroke=\"none\" fill=\"#d18b47\" opacity=\"1.0\" /><rect x=\"16\" y=\"464\" width=\"16\" height=\"16\" class=\"square light\" stroke=\"none\" fill=\"#ffce9e\" opacity=\"1.0\" /><rect x=\"16\" y=\"480\" width=\"16\" height=\"16\" class=\"square dark\" stroke=\"none\" fill=\"#d18b47\" opacity=\"1.0\" /><rect x=\"16\" y=\"496\" width=\"16\" height=\"16\" class=\"square light\" stroke=\"none\" fill=\"#ffce9e\" opacity=\"1.0\" /><rect x=\"32\" y=\"0\" width=\"16\" height=\"16\" class=\"square light\" stroke=\"none\" fill=\"#ffce9e\" opacity=\"1.0\" /><rect x=\"32\" y=\"16\" width=\"16\" height=\"16\" class=\"square dark\" stroke=\"none\" fill=\"#d18b47\" opacity=\"1.0\" /><rect x=\"32\" y=\"32\" width=\"16\" height=\"16\" class=\"square light\" stroke=\"none\" fill=\"#ffce9e\" opacity=\"1.0\" /><rect x=\"32\" y=\"48\" width=\"16\" height=\"16\" class=\"square dark\" stroke=\"none\" fill=\"#d18b47\" opacity=\"1.0\" /><rect x=\"32\" y=\"64\" width=\"16\" height=\"16\" class=\"square light\" stroke=\"none\" fill=\"#ffce9e\" opacity=\"1.0\" /><rect x=\"32\" y=\"80\" width=\"16\" height=\"16\" class=\"square dark\" stroke=\"none\" fill=\"#d18b47\" opacity=\"1.0\" /><rect x=\"32\" y=\"96\" width=\"16\" height=\"16\" class=\"square light\" stroke=\"none\" fill=\"#ffce9e\" opacity=\"1.0\" /><rect x=\"32\" y=\"112\" width=\"16\" height=\"16\" class=\"square dark\" stroke=\"none\" fill=\"#d18b47\" opacity=\"1.0\" /><rect x=\"32\" y=\"128\" width=\"16\" height=\"16\" class=\"square light\" stroke=\"none\" fill=\"#ffce9e\" opacity=\"1.0\" /><rect x=\"32\" y=\"144\" width=\"16\" height=\"16\" class=\"square dark\" stroke=\"none\" fill=\"#d18b47\" opacity=\"1.0\" /><rect x=\"32\" y=\"160\" width=\"16\" height=\"16\" class=\"square light\" stroke=\"none\" fill=\"#ffce9e\" opacity=\"1.0\" /><rect x=\"32\" y=\"176\" width=\"16\" height=\"16\" class=\"square dark\" stroke=\"none\" fill=\"#d18b47\" opacity=\"1.0\" /><rect x=\"32\" y=\"192\" width=\"16\" height=\"16\" class=\"square light\" stroke=\"none\" fill=\"#ffce9e\" opacity=\"1.0\" /><rect x=\"32\" y=\"208\" width=\"16\" height=\"16\" class=\"square dark\" stroke=\"none\" fill=\"#d18b47\" opacity=\"1.0\" /><rect x=\"32\" y=\"224\" width=\"16\" height=\"16\" class=\"square light\" stroke=\"none\" fill=\"#ffce9e\" opacity=\"1.0\" /><rect x=\"32\" y=\"240\" width=\"16\" height=\"16\" class=\"square dark\" stroke=\"none\" fill=\"#d18b47\" opacity=\"1.0\" /><rect x=\"32\" y=\"256\" width=\"16\" height=\"16\" class=\"square light\" stroke=\"none\" fill=\"#ffce9e\" opacity=\"1.0\" /><rect x=\"32\" y=\"272\" width=\"16\" height=\"16\" class=\"square dark\" stroke=\"none\" fill=\"#d18b47\" opacity=\"1.0\" /><rect x=\"32\" y=\"288\" width=\"16\" height=\"16\" class=\"square light\" stroke=\"none\" fill=\"#ffce9e\" opacity=\"1.0\" /><rect x=\"32\" y=\"304\" width=\"16\" height=\"16\" class=\"square dark\" stroke=\"none\" fill=\"#d18b47\" opacity=\"1.0\" /><rect x=\"32\" y=\"320\" width=\"16\" height=\"16\" class=\"square light\" stroke=\"none\" fill=\"#ffce9e\" opacity=\"1.0\" /><rect x=\"32\" y=\"336\" width=\"16\" height=\"16\" class=\"square dark\" stroke=\"none\" fill=\"#d18b47\" opacity=\"1.0\" /><rect x=\"32\" y=\"352\" width=\"16\" height=\"16\" class=\"square light\" stroke=\"none\" fill=\"#ffce9e\" opacity=\"1.0\" /><rect x=\"32\" y=\"368\" width=\"16\" height=\"16\" class=\"square dark\" stroke=\"none\" fill=\"#d18b47\" opacity=\"1.0\" /><rect x=\"32\" y=\"384\" width=\"16\" height=\"16\" class=\"square light\" stroke=\"none\" fill=\"#ffce9e\" opacity=\"1.0\" /><rect x=\"32\" y=\"400\" width=\"16\" height=\"16\" class=\"square dark\" stroke=\"none\" fill=\"#d18b47\" opacity=\"1.0\" /><rect x=\"32\" y=\"416\" width=\"16\" height=\"16\" class=\"square light\" stroke=\"none\" fill=\"#ffce9e\" opacity=\"1.0\" /><rect x=\"32\" y=\"432\" width=\"16\" height=\"16\" class=\"square dark\" stroke=\"none\" fill=\"#d18b47\" opacity=\"1.0\" /><rect x=\"32\" y=\"448\" width=\"16\" height=\"16\" class=\"square light\" stroke=\"none\" fill=\"#ffce9e\" opacity=\"1.0\" /><rect x=\"32\" y=\"464\" width=\"16\" height=\"16\" class=\"square dark\" stroke=\"none\" fill=\"#d18b47\" opacity=\"1.0\" /><rect x=\"32\" y=\"480\" width=\"16\" height=\"16\" class=\"square light\" stroke=\"none\" fill=\"#ffce9e\" opacity=\"1.0\" /><rect x=\"32\" y=\"496\" width=\"16\" height=\"16\" class=\"square dark\" stroke=\"none\" fill=\"#d18b47\" opacity=\"1.0\" /><rect x=\"48\" y=\"0\" width=\"16\" height=\"16\" class=\"square dark\" stroke=\"none\" fill=\"#d18b47\" opacity=\"1.0\" /><rect x=\"48\" y=\"16\" width=\"16\" height=\"16\" class=\"square light\" stroke=\"none\" fill=\"#ffce9e\" opacity=\"1.0\" /><rect x=\"48\" y=\"32\" width=\"16\" height=\"16\" class=\"square dark\" stroke=\"none\" fill=\"#d18b47\" opacity=\"1.0\" /><rect x=\"48\" y=\"48\" width=\"16\" height=\"16\" class=\"square light\" stroke=\"none\" fill=\"#ffce9e\" opacity=\"1.0\" /><rect x=\"48\" y=\"64\" width=\"16\" height=\"16\" class=\"square dark\" stroke=\"none\" fill=\"#d18b47\" opacity=\"1.0\" /><rect x=\"48\" y=\"80\" width=\"16\" height=\"16\" class=\"square light\" stroke=\"none\" fill=\"#ffce9e\" opacity=\"1.0\" /><rect x=\"48\" y=\"96\" width=\"16\" height=\"16\" class=\"square dark\" stroke=\"none\" fill=\"#d18b47\" opacity=\"1.0\" /><rect x=\"48\" y=\"112\" width=\"16\" height=\"16\" class=\"square light\" stroke=\"none\" fill=\"#ffce9e\" opacity=\"1.0\" /><rect x=\"48\" y=\"128\" width=\"16\" height=\"16\" class=\"square dark\" stroke=\"none\" fill=\"#d18b47\" opacity=\"1.0\" /><rect x=\"48\" y=\"144\" width=\"16\" height=\"16\" class=\"square light\" stroke=\"none\" fill=\"#ffce9e\" opacity=\"1.0\" /><rect x=\"48\" y=\"160\" width=\"16\" height=\"16\" class=\"square dark\" stroke=\"none\" fill=\"#d18b47\" opacity=\"1.0\" /><rect x=\"48\" y=\"176\" width=\"16\" height=\"16\" class=\"square light\" stroke=\"none\" fill=\"#ffce9e\" opacity=\"1.0\" /><rect x=\"48\" y=\"192\" width=\"16\" height=\"16\" class=\"square dark\" stroke=\"none\" fill=\"#d18b47\" opacity=\"1.0\" /><rect x=\"48\" y=\"208\" width=\"16\" height=\"16\" class=\"square light\" stroke=\"none\" fill=\"#ffce9e\" opacity=\"1.0\" /><rect x=\"48\" y=\"224\" width=\"16\" height=\"16\" class=\"square dark\" stroke=\"none\" fill=\"#d18b47\" opacity=\"1.0\" /><rect x=\"48\" y=\"240\" width=\"16\" height=\"16\" class=\"square light\" stroke=\"none\" fill=\"#ffce9e\" opacity=\"1.0\" /><rect x=\"48\" y=\"256\" width=\"16\" height=\"16\" class=\"square dark\" stroke=\"none\" fill=\"#d18b47\" opacity=\"1.0\" /><rect x=\"48\" y=\"272\" width=\"16\" height=\"16\" class=\"square light\" stroke=\"none\" fill=\"#ffce9e\" opacity=\"1.0\" /><rect x=\"48\" y=\"288\" width=\"16\" height=\"16\" class=\"square dark\" stroke=\"none\" fill=\"#d18b47\" opacity=\"1.0\" /><rect x=\"48\" y=\"304\" width=\"16\" height=\"16\" class=\"square light\" stroke=\"none\" fill=\"#ffce9e\" opacity=\"1.0\" /><rect x=\"48\" y=\"320\" width=\"16\" height=\"16\" class=\"square dark\" stroke=\"none\" fill=\"#d18b47\" opacity=\"1.0\" /><rect x=\"48\" y=\"336\" width=\"16\" height=\"16\" class=\"square light\" stroke=\"none\" fill=\"#ffce9e\" opacity=\"1.0\" /><rect x=\"48\" y=\"352\" width=\"16\" height=\"16\" class=\"square dark\" stroke=\"none\" fill=\"#d18b47\" opacity=\"1.0\" /><rect x=\"48\" y=\"368\" width=\"16\" height=\"16\" class=\"square light\" stroke=\"none\" fill=\"#ffce9e\" opacity=\"1.0\" /><rect x=\"48\" y=\"384\" width=\"16\" height=\"16\" class=\"square dark\" stroke=\"none\" fill=\"#d18b47\" opacity=\"1.0\" /><rect x=\"48\" y=\"400\" width=\"16\" height=\"16\" class=\"square light\" stroke=\"none\" fill=\"#ffce9e\" opacity=\"1.0\" /><rect x=\"48\" y=\"416\" width=\"16\" height=\"16\" class=\"square dark\" stroke=\"none\" fill=\"#d18b47\" opacity=\"1.0\" /><rect x=\"48\" y=\"432\" width=\"16\" height=\"16\" class=\"square light\" stroke=\"none\" fill=\"#ffce9e\" opacity=\"1.0\" /><rect x=\"48\" y=\"448\" width=\"16\" height=\"16\" class=\"square dark\" stroke=\"none\" fill=\"#d18b47\" opacity=\"1.0\" /><rect x=\"48\" y=\"464\" width=\"16\" height=\"16\" class=\"square light\" stroke=\"none\" fill=\"#ffce9e\" opacity=\"1.0\" /><rect x=\"48\" y=\"480\" width=\"16\" height=\"16\" class=\"square dark\" stroke=\"none\" fill=\"#d18b47\" opacity=\"1.0\" /><rect x=\"48\" y=\"496\" width=\"16\" height=\"16\" class=\"square light\" stroke=\"none\" fill=\"#ffce9e\" opacity=\"1.0\" /><rect x=\"64\" y=\"0\" width=\"16\" height=\"16\" class=\"square light\" stroke=\"none\" fill=\"#ffce9e\" opacity=\"1.0\" /><rect x=\"64\" y=\"16\" width=\"16\" height=\"16\" class=\"square dark\" stroke=\"none\" fill=\"#d18b47\" opacity=\"1.0\" /><rect x=\"64\" y=\"32\" width=\"16\" height=\"16\" class=\"square light\" stroke=\"none\" fill=\"#ffce9e\" opacity=\"1.0\" /><rect x=\"64\" y=\"48\" width=\"16\" height=\"16\" class=\"square dark\" stroke=\"none\" fill=\"#d18b47\" opacity=\"1.0\" /><rect x=\"64\" y=\"64\" width=\"16\" height=\"16\" class=\"square light\" stroke=\"none\" fill=\"#ffce9e\" opacity=\"1.0\" /><rect x=\"64\" y=\"80\" width=\"16\" height=\"16\" class=\"square dark\" stroke=\"none\" fill=\"#d18b47\" opacity=\"1.0\" /><rect x=\"64\" y=\"96\" width=\"16\" height=\"16\" class=\"square light\" stroke=\"none\" fill=\"#ffce9e\" opacity=\"1.0\" /><rect x=\"64\" y=\"112\" width=\"16\" height=\"16\" class=\"square dark\" stroke=\"none\" fill=\"#d18b47\" opacity=\"1.0\" /><rect x=\"64\" y=\"128\" width=\"16\" height=\"16\" class=\"square light\" stroke=\"none\" fill=\"#ffce9e\" opacity=\"1.0\" /><rect x=\"64\" y=\"144\" width=\"16\" height=\"16\" class=\"square dark\" stroke=\"none\" fill=\"#d18b47\" opacity=\"1.0\" /><rect x=\"64\" y=\"160\" width=\"16\" height=\"16\" class=\"square light\" stroke=\"none\" fill=\"#ffce9e\" opacity=\"1.0\" /><rect x=\"64\" y=\"176\" width=\"16\" height=\"16\" class=\"square dark\" stroke=\"none\" fill=\"#d18b47\" opacity=\"1.0\" /><rect x=\"64\" y=\"192\" width=\"16\" height=\"16\" class=\"square light\" stroke=\"none\" fill=\"#ffce9e\" opacity=\"1.0\" /><rect x=\"64\" y=\"208\" width=\"16\" height=\"16\" class=\"square dark\" stroke=\"none\" fill=\"#d18b47\" opacity=\"1.0\" /><rect x=\"64\" y=\"224\" width=\"16\" height=\"16\" class=\"square light\" stroke=\"none\" fill=\"#ffce9e\" opacity=\"1.0\" /><rect x=\"64\" y=\"240\" width=\"16\" height=\"16\" class=\"square dark\" stroke=\"none\" fill=\"#d18b47\" opacity=\"1.0\" /><rect x=\"64\" y=\"256\" width=\"16\" height=\"16\" class=\"square light\" stroke=\"none\" fill=\"#ffce9e\" opacity=\"1.0\" /><rect x=\"64\" y=\"272\" width=\"16\" height=\"16\" class=\"square dark\" stroke=\"none\" fill=\"#d18b47\" opacity=\"1.0\" /><rect x=\"64\" y=\"288\" width=\"16\" height=\"16\" class=\"square light\" stroke=\"none\" fill=\"#ffce9e\" opacity=\"1.0\" /><rect x=\"64\" y=\"304\" width=\"16\" height=\"16\" class=\"square dark\" stroke=\"none\" fill=\"#d18b47\" opacity=\"1.0\" /><rect x=\"64\" y=\"320\" width=\"16\" height=\"16\" class=\"square light\" stroke=\"none\" fill=\"#ffce9e\" opacity=\"1.0\" /><rect x=\"64\" y=\"336\" width=\"16\" height=\"16\" class=\"square dark\" stroke=\"none\" fill=\"#d18b47\" opacity=\"1.0\" /><rect x=\"64\" y=\"352\" width=\"16\" height=\"16\" class=\"square light\" stroke=\"none\" fill=\"#ffce9e\" opacity=\"1.0\" /><rect x=\"64\" y=\"368\" width=\"16\" height=\"16\" class=\"square dark\" stroke=\"none\" fill=\"#d18b47\" opacity=\"1.0\" /><rect x=\"64\" y=\"384\" width=\"16\" height=\"16\" class=\"square light\" stroke=\"none\" fill=\"#ffce9e\" opacity=\"1.0\" /><rect x=\"64\" y=\"400\" width=\"16\" height=\"16\" class=\"square dark\" stroke=\"none\" fill=\"#d18b47\" opacity=\"1.0\" /><rect x=\"64\" y=\"416\" width=\"16\" height=\"16\" class=\"square light\" stroke=\"none\" fill=\"#ffce9e\" opacity=\"1.0\" /><rect x=\"64\" y=\"432\" width=\"16\" height=\"16\" class=\"square dark\" stroke=\"none\" fill=\"#d18b47\" opacity=\"1.0\" /><rect x=\"64\" y=\"448\" width=\"16\" height=\"16\" class=\"square light\" stroke=\"none\" fill=\"#ffce9e\" opacity=\"1.0\" /><rect x=\"64\" y=\"464\" width=\"16\" height=\"16\" class=\"square dark\" stroke=\"none\" fill=\"#d18b47\" opacity=\"1.0\" /><rect x=\"64\" y=\"480\" width=\"16\" height=\"16\" class=\"square light\" stroke=\"none\" fill=\"#ffce9e\" opacity=\"1.0\" /><rect x=\"64\" y=\"496\" width=\"16\" height=\"16\" class=\"square dark\" stroke=\"none\" fill=\"#d18b47\" opacity=\"1.0\" /><rect x=\"80\" y=\"0\" width=\"16\" height=\"16\" class=\"square dark\" stroke=\"none\" fill=\"#d18b47\" opacity=\"1.0\" /><rect x=\"80\" y=\"16\" width=\"16\" height=\"16\" class=\"square light\" stroke=\"none\" fill=\"#ffce9e\" opacity=\"1.0\" /><rect x=\"80\" y=\"32\" width=\"16\" height=\"16\" class=\"square dark\" stroke=\"none\" fill=\"#d18b47\" opacity=\"1.0\" /><rect x=\"80\" y=\"48\" width=\"16\" height=\"16\" class=\"square light\" stroke=\"none\" fill=\"#ffce9e\" opacity=\"1.0\" /><rect x=\"80\" y=\"64\" width=\"16\" height=\"16\" class=\"square dark\" stroke=\"none\" fill=\"#d18b47\" opacity=\"1.0\" /><rect x=\"80\" y=\"80\" width=\"16\" height=\"16\" class=\"square light\" stroke=\"none\" fill=\"#ffce9e\" opacity=\"1.0\" /><rect x=\"80\" y=\"96\" width=\"16\" height=\"16\" class=\"square dark\" stroke=\"none\" fill=\"#d18b47\" opacity=\"1.0\" /><rect x=\"80\" y=\"112\" width=\"16\" height=\"16\" class=\"square light\" stroke=\"none\" fill=\"#ffce9e\" opacity=\"1.0\" /><rect x=\"80\" y=\"128\" width=\"16\" height=\"16\" class=\"square dark\" stroke=\"none\" fill=\"#d18b47\" opacity=\"1.0\" /><rect x=\"80\" y=\"144\" width=\"16\" height=\"16\" class=\"square light\" stroke=\"none\" fill=\"#ffce9e\" opacity=\"1.0\" /><rect x=\"80\" y=\"160\" width=\"16\" height=\"16\" class=\"square dark\" stroke=\"none\" fill=\"#d18b47\" opacity=\"1.0\" /><rect x=\"80\" y=\"176\" width=\"16\" height=\"16\" class=\"square light\" stroke=\"none\" fill=\"#ffce9e\" opacity=\"1.0\" /><rect x=\"80\" y=\"192\" width=\"16\" height=\"16\" class=\"square dark\" stroke=\"none\" fill=\"#d18b47\" opacity=\"1.0\" /><rect x=\"80\" y=\"208\" width=\"16\" height=\"16\" class=\"square light\" stroke=\"none\" fill=\"#ffce9e\" opacity=\"1.0\" /><rect x=\"80\" y=\"224\" width=\"16\" height=\"16\" class=\"square dark\" stroke=\"none\" fill=\"#d18b47\" opacity=\"1.0\" /><rect x=\"80\" y=\"240\" width=\"16\" height=\"16\" class=\"square light\" stroke=\"none\" fill=\"#ffce9e\" opacity=\"1.0\" /><rect x=\"80\" y=\"256\" width=\"16\" height=\"16\" class=\"square dark\" stroke=\"none\" fill=\"#d18b47\" opacity=\"1.0\" /><rect x=\"80\" y=\"272\" width=\"16\" height=\"16\" class=\"square light\" stroke=\"none\" fill=\"#ffce9e\" opacity=\"1.0\" /><rect x=\"80\" y=\"288\" width=\"16\" height=\"16\" class=\"square dark\" stroke=\"none\" fill=\"#d18b47\" opacity=\"1.0\" /><rect x=\"80\" y=\"304\" width=\"16\" height=\"16\" class=\"square light\" stroke=\"none\" fill=\"#ffce9e\" opacity=\"1.0\" /><rect x=\"80\" y=\"320\" width=\"16\" height=\"16\" class=\"square dark\" stroke=\"none\" fill=\"#d18b47\" opacity=\"1.0\" /><rect x=\"80\" y=\"336\" width=\"16\" height=\"16\" class=\"square light\" stroke=\"none\" fill=\"#ffce9e\" opacity=\"1.0\" /><rect x=\"80\" y=\"352\" width=\"16\" height=\"16\" class=\"square dark\" stroke=\"none\" fill=\"#d18b47\" opacity=\"1.0\" /><rect x=\"80\" y=\"368\" width=\"16\" height=\"16\" class=\"square light\" stroke=\"none\" fill=\"#ffce9e\" opacity=\"1.0\" /><rect x=\"80\" y=\"384\" width=\"16\" height=\"16\" class=\"square dark\" stroke=\"none\" fill=\"#d18b47\" opacity=\"1.0\" /><rect x=\"80\" y=\"400\" width=\"16\" height=\"16\" class=\"square light\" stroke=\"none\" fill=\"#ffce9e\" opacity=\"1.0\" /><rect x=\"80\" y=\"416\" width=\"16\" height=\"16\" class=\"square dark\" stroke=\"none\" fill=\"#d18b47\" opacity=\"1.0\" /><rect x=\"80\" y=\"432\" width=\"16\" height=\"16\" class=\"square light\" stroke=\"none\" fill=\"#ffce9e\" opacity=\"1.0\" /><rect x=\"80\" y=\"448\" width=\"16\" height=\"16\" class=\"square dark\" stroke=\"none\" fill=\"#d18b47\" opacity=\"1.0\" /><rect x=\"80\" y=\"464\" width=\"16\" height=\"16\" class=\"square light\" stroke=\"none\" fill=\"#ffce9e\" opacity=\"1.0\" /><rect x=\"80\" y=\"480\" width=\"16\" height=\"16\" class=\"square dark\" stroke=\"none\" fill=\"#d18b47\" opacity=\"1.0\" /><rect x=\"80\" y=\"496\" width=\"16\" height=\"16\" class=\"square light\" stroke=\"none\" fill=\"#ffce9e\" opacity=\"1.0\" /><rect x=\"96\" y=\"0\" width=\"16\" height=\"16\" class=\"square light\" stroke=\"none\" fill=\"#ffce9e\" opacity=\"1.0\" /><rect x=\"96\" y=\"16\" width=\"16\" height=\"16\" class=\"square dark\" stroke=\"none\" fill=\"#d18b47\" opacity=\"1.0\" /><rect x=\"96\" y=\"32\" width=\"16\" height=\"16\" class=\"square light\" stroke=\"none\" fill=\"#ffce9e\" opacity=\"1.0\" /><rect x=\"96\" y=\"48\" width=\"16\" height=\"16\" class=\"square dark\" stroke=\"none\" fill=\"#d18b47\" opacity=\"1.0\" /><rect x=\"96\" y=\"64\" width=\"16\" height=\"16\" class=\"square light\" stroke=\"none\" fill=\"#ffce9e\" opacity=\"1.0\" /><rect x=\"96\" y=\"80\" width=\"16\" height=\"16\" class=\"square dark\" stroke=\"none\" fill=\"#d18b47\" opacity=\"1.0\" /><rect x=\"96\" y=\"96\" width=\"16\" height=\"16\" class=\"square light\" stroke=\"none\" fill=\"#ffce9e\" opacity=\"1.0\" /><rect x=\"96\" y=\"112\" width=\"16\" height=\"16\" class=\"square dark\" stroke=\"none\" fill=\"#d18b47\" opacity=\"1.0\" /><rect x=\"96\" y=\"128\" width=\"16\" height=\"16\" class=\"square light\" stroke=\"none\" fill=\"#ffce9e\" opacity=\"1.0\" /><rect x=\"96\" y=\"144\" width=\"16\" height=\"16\" class=\"square dark\" stroke=\"none\" fill=\"#d18b47\" opacity=\"1.0\" /><rect x=\"96\" y=\"160\" width=\"16\" height=\"16\" class=\"square light\" stroke=\"none\" fill=\"#ffce9e\" opacity=\"1.0\" /><rect x=\"96\" y=\"176\" width=\"16\" height=\"16\" class=\"square dark\" stroke=\"none\" fill=\"#d18b47\" opacity=\"1.0\" /><rect x=\"96\" y=\"192\" width=\"16\" height=\"16\" class=\"square light\" stroke=\"none\" fill=\"#ffce9e\" opacity=\"1.0\" /><rect x=\"96\" y=\"208\" width=\"16\" height=\"16\" class=\"square dark\" stroke=\"none\" fill=\"#d18b47\" opacity=\"1.0\" /><rect x=\"96\" y=\"224\" width=\"16\" height=\"16\" class=\"square light\" stroke=\"none\" fill=\"#ffce9e\" opacity=\"1.0\" /><rect x=\"96\" y=\"240\" width=\"16\" height=\"16\" class=\"square dark\" stroke=\"none\" fill=\"#d18b47\" opacity=\"1.0\" /><rect x=\"96\" y=\"256\" width=\"16\" height=\"16\" class=\"square light\" stroke=\"none\" fill=\"#ffce9e\" opacity=\"1.0\" /><rect x=\"96\" y=\"272\" width=\"16\" height=\"16\" class=\"square dark\" stroke=\"none\" fill=\"#d18b47\" opacity=\"1.0\" /><rect x=\"96\" y=\"288\" width=\"16\" height=\"16\" class=\"square light\" stroke=\"none\" fill=\"#ffce9e\" opacity=\"1.0\" /><rect x=\"96\" y=\"304\" width=\"16\" height=\"16\" class=\"square dark\" stroke=\"none\" fill=\"#d18b47\" opacity=\"1.0\" /><rect x=\"96\" y=\"320\" width=\"16\" height=\"16\" class=\"square light\" stroke=\"none\" fill=\"#ffce9e\" opacity=\"1.0\" /><rect x=\"96\" y=\"336\" width=\"16\" height=\"16\" class=\"square dark\" stroke=\"none\" fill=\"#d18b47\" opacity=\"1.0\" /><rect x=\"96\" y=\"352\" width=\"16\" height=\"16\" class=\"square light\" stroke=\"none\" fill=\"#ffce9e\" opacity=\"1.0\" /><rect x=\"96\" y=\"368\" width=\"16\" height=\"16\" class=\"square dark\" stroke=\"none\" fill=\"#d18b47\" opacity=\"1.0\" /><rect x=\"96\" y=\"384\" width=\"16\" height=\"16\" class=\"square light\" stroke=\"none\" fill=\"#ffce9e\" opacity=\"1.0\" /><rect x=\"96\" y=\"400\" width=\"16\" height=\"16\" class=\"square dark\" stroke=\"none\" fill=\"#d18b47\" opacity=\"1.0\" /><rect x=\"96\" y=\"416\" width=\"16\" height=\"16\" class=\"square light\" stroke=\"none\" fill=\"#ffce9e\" opacity=\"1.0\" /><rect x=\"96\" y=\"432\" width=\"16\" height=\"16\" class=\"square dark\" stroke=\"none\" fill=\"#d18b47\" opacity=\"1.0\" /><rect x=\"96\" y=\"448\" width=\"16\" height=\"16\" class=\"square light\" stroke=\"none\" fill=\"#ffce9e\" opacity=\"1.0\" /><rect x=\"96\" y=\"464\" width=\"16\" height=\"16\" class=\"square dark\" stroke=\"none\" fill=\"#d18b47\" opacity=\"1.0\" /><rect x=\"96\" y=\"480\" width=\"16\" height=\"16\" class=\"square light\" stroke=\"none\" fill=\"#ffce9e\" opacity=\"1.0\" /><rect x=\"96\" y=\"496\" width=\"16\" height=\"16\" class=\"square dark\" stroke=\"none\" fill=\"#d18b47\" opacity=\"1.0\" /><rect x=\"112\" y=\"0\" width=\"16\" height=\"16\" class=\"square dark\" stroke=\"none\" fill=\"#d18b47\" opacity=\"1.0\" /><rect x=\"112\" y=\"16\" width=\"16\" height=\"16\" class=\"square light\" stroke=\"none\" fill=\"#ffce9e\" opacity=\"1.0\" /><rect x=\"112\" y=\"32\" width=\"16\" height=\"16\" class=\"square dark\" stroke=\"none\" fill=\"#d18b47\" opacity=\"1.0\" /><rect x=\"112\" y=\"48\" width=\"16\" height=\"16\" class=\"square light\" stroke=\"none\" fill=\"#ffce9e\" opacity=\"1.0\" /><rect x=\"112\" y=\"64\" width=\"16\" height=\"16\" class=\"square dark\" stroke=\"none\" fill=\"#d18b47\" opacity=\"1.0\" /><rect x=\"112\" y=\"80\" width=\"16\" height=\"16\" class=\"square light\" stroke=\"none\" fill=\"#ffce9e\" opacity=\"1.0\" /><rect x=\"112\" y=\"96\" width=\"16\" height=\"16\" class=\"square dark\" stroke=\"none\" fill=\"#d18b47\" opacity=\"1.0\" /><rect x=\"112\" y=\"112\" width=\"16\" height=\"16\" class=\"square light\" stroke=\"none\" fill=\"#ffce9e\" opacity=\"1.0\" /><rect x=\"112\" y=\"128\" width=\"16\" height=\"16\" class=\"square dark\" stroke=\"none\" fill=\"#d18b47\" opacity=\"1.0\" /><rect x=\"112\" y=\"144\" width=\"16\" height=\"16\" class=\"square light\" stroke=\"none\" fill=\"#ffce9e\" opacity=\"1.0\" /><rect x=\"112\" y=\"160\" width=\"16\" height=\"16\" class=\"square dark\" stroke=\"none\" fill=\"#d18b47\" opacity=\"1.0\" /><rect x=\"112\" y=\"176\" width=\"16\" height=\"16\" class=\"square light\" stroke=\"none\" fill=\"#ffce9e\" opacity=\"1.0\" /><rect x=\"112\" y=\"192\" width=\"16\" height=\"16\" class=\"square dark\" stroke=\"none\" fill=\"#d18b47\" opacity=\"1.0\" /><rect x=\"112\" y=\"208\" width=\"16\" height=\"16\" class=\"square light\" stroke=\"none\" fill=\"#ffce9e\" opacity=\"1.0\" /><rect x=\"112\" y=\"224\" width=\"16\" height=\"16\" class=\"square dark\" stroke=\"none\" fill=\"#d18b47\" opacity=\"1.0\" /><rect x=\"112\" y=\"240\" width=\"16\" height=\"16\" class=\"square light\" stroke=\"none\" fill=\"#ffce9e\" opacity=\"1.0\" /><rect x=\"112\" y=\"256\" width=\"16\" height=\"16\" class=\"square dark\" stroke=\"none\" fill=\"#d18b47\" opacity=\"1.0\" /><rect x=\"112\" y=\"272\" width=\"16\" height=\"16\" class=\"square light\" stroke=\"none\" fill=\"#ffce9e\" opacity=\"1.0\" /><rect x=\"112\" y=\"288\" width=\"16\" height=\"16\" class=\"square dark\" stroke=\"none\" fill=\"#d18b47\" opacity=\"1.0\" /><rect x=\"112\" y=\"304\" width=\"16\" height=\"16\" class=\"square light\" stroke=\"none\" fill=\"#ffce9e\" opacity=\"1.0\" /><rect x=\"112\" y=\"320\" width=\"16\" height=\"16\" class=\"square dark\" stroke=\"none\" fill=\"#d18b47\" opacity=\"1.0\" /><rect x=\"112\" y=\"336\" width=\"16\" height=\"16\" class=\"square light\" stroke=\"none\" fill=\"#ffce9e\" opacity=\"1.0\" /><rect x=\"112\" y=\"352\" width=\"16\" height=\"16\" class=\"square dark\" stroke=\"none\" fill=\"#d18b47\" opacity=\"1.0\" /><rect x=\"112\" y=\"368\" width=\"16\" height=\"16\" class=\"square light\" stroke=\"none\" fill=\"#ffce9e\" opacity=\"1.0\" /><rect x=\"112\" y=\"384\" width=\"16\" height=\"16\" class=\"square dark\" stroke=\"none\" fill=\"#d18b47\" opacity=\"1.0\" /><rect x=\"112\" y=\"400\" width=\"16\" height=\"16\" class=\"square light\" stroke=\"none\" fill=\"#ffce9e\" opacity=\"1.0\" /><rect x=\"112\" y=\"416\" width=\"16\" height=\"16\" class=\"square dark\" stroke=\"none\" fill=\"#d18b47\" opacity=\"1.0\" /><rect x=\"112\" y=\"432\" width=\"16\" height=\"16\" class=\"square light\" stroke=\"none\" fill=\"#ffce9e\" opacity=\"1.0\" /><rect x=\"112\" y=\"448\" width=\"16\" height=\"16\" class=\"square dark\" stroke=\"none\" fill=\"#d18b47\" opacity=\"1.0\" /><rect x=\"112\" y=\"464\" width=\"16\" height=\"16\" class=\"square light\" stroke=\"none\" fill=\"#ffce9e\" opacity=\"1.0\" /><rect x=\"112\" y=\"480\" width=\"16\" height=\"16\" class=\"square dark\" stroke=\"none\" fill=\"#d18b47\" opacity=\"1.0\" /><rect x=\"112\" y=\"496\" width=\"16\" height=\"16\" class=\"square light\" stroke=\"none\" fill=\"#ffce9e\" opacity=\"1.0\" /><rect x=\"128\" y=\"0\" width=\"16\" height=\"16\" class=\"square light\" stroke=\"none\" fill=\"#ffce9e\" opacity=\"1.0\" /><rect x=\"128\" y=\"16\" width=\"16\" height=\"16\" class=\"square dark\" stroke=\"none\" fill=\"#d18b47\" opacity=\"1.0\" /><rect x=\"128\" y=\"32\" width=\"16\" height=\"16\" class=\"square light\" stroke=\"none\" fill=\"#ffce9e\" opacity=\"1.0\" /><rect x=\"128\" y=\"48\" width=\"16\" height=\"16\" class=\"square dark\" stroke=\"none\" fill=\"#d18b47\" opacity=\"1.0\" /><rect x=\"128\" y=\"64\" width=\"16\" height=\"16\" class=\"square light\" stroke=\"none\" fill=\"#ffce9e\" opacity=\"1.0\" /><rect x=\"128\" y=\"80\" width=\"16\" height=\"16\" class=\"square dark\" stroke=\"none\" fill=\"#d18b47\" opacity=\"1.0\" /><rect x=\"128\" y=\"96\" width=\"16\" height=\"16\" class=\"square light\" stroke=\"none\" fill=\"#ffce9e\" opacity=\"1.0\" /><rect x=\"128\" y=\"112\" width=\"16\" height=\"16\" class=\"square dark\" stroke=\"none\" fill=\"#d18b47\" opacity=\"1.0\" /><rect x=\"128\" y=\"128\" width=\"16\" height=\"16\" class=\"square light\" stroke=\"none\" fill=\"#ffce9e\" opacity=\"1.0\" /><rect x=\"128\" y=\"144\" width=\"16\" height=\"16\" class=\"square dark\" stroke=\"none\" fill=\"#d18b47\" opacity=\"1.0\" /><rect x=\"128\" y=\"160\" width=\"16\" height=\"16\" class=\"square light\" stroke=\"none\" fill=\"#ffce9e\" opacity=\"1.0\" /><rect x=\"128\" y=\"176\" width=\"16\" height=\"16\" class=\"square dark\" stroke=\"none\" fill=\"#d18b47\" opacity=\"1.0\" /><rect x=\"128\" y=\"192\" width=\"16\" height=\"16\" class=\"square light\" stroke=\"none\" fill=\"#ffce9e\" opacity=\"1.0\" /><rect x=\"128\" y=\"208\" width=\"16\" height=\"16\" class=\"square dark\" stroke=\"none\" fill=\"#d18b47\" opacity=\"1.0\" /><rect x=\"128\" y=\"224\" width=\"16\" height=\"16\" class=\"square light\" stroke=\"none\" fill=\"#ffce9e\" opacity=\"1.0\" /><rect x=\"128\" y=\"240\" width=\"16\" height=\"16\" class=\"square dark\" stroke=\"none\" fill=\"#d18b47\" opacity=\"1.0\" /><rect x=\"128\" y=\"256\" width=\"16\" height=\"16\" class=\"square light\" stroke=\"none\" fill=\"#ffce9e\" opacity=\"1.0\" /><rect x=\"128\" y=\"272\" width=\"16\" height=\"16\" class=\"square dark\" stroke=\"none\" fill=\"#d18b47\" opacity=\"1.0\" /><rect x=\"128\" y=\"288\" width=\"16\" height=\"16\" class=\"square light\" stroke=\"none\" fill=\"#ffce9e\" opacity=\"1.0\" /><rect x=\"128\" y=\"304\" width=\"16\" height=\"16\" class=\"square dark\" stroke=\"none\" fill=\"#d18b47\" opacity=\"1.0\" /><rect x=\"128\" y=\"320\" width=\"16\" height=\"16\" class=\"square light\" stroke=\"none\" fill=\"#ffce9e\" opacity=\"1.0\" /><rect x=\"128\" y=\"336\" width=\"16\" height=\"16\" class=\"square dark\" stroke=\"none\" fill=\"#d18b47\" opacity=\"1.0\" /><rect x=\"128\" y=\"352\" width=\"16\" height=\"16\" class=\"square light\" stroke=\"none\" fill=\"#ffce9e\" opacity=\"1.0\" /><rect x=\"128\" y=\"368\" width=\"16\" height=\"16\" class=\"square dark\" stroke=\"none\" fill=\"#d18b47\" opacity=\"1.0\" /><rect x=\"128\" y=\"384\" width=\"16\" height=\"16\" class=\"square light\" stroke=\"none\" fill=\"#ffce9e\" opacity=\"1.0\" /><rect x=\"128\" y=\"400\" width=\"16\" height=\"16\" class=\"square dark\" stroke=\"none\" fill=\"#d18b47\" opacity=\"1.0\" /><rect x=\"128\" y=\"416\" width=\"16\" height=\"16\" class=\"square light\" stroke=\"none\" fill=\"#ffce9e\" opacity=\"1.0\" /><rect x=\"128\" y=\"432\" width=\"16\" height=\"16\" class=\"square dark\" stroke=\"none\" fill=\"#d18b47\" opacity=\"1.0\" /><rect x=\"128\" y=\"448\" width=\"16\" height=\"16\" class=\"square light\" stroke=\"none\" fill=\"#ffce9e\" opacity=\"1.0\" /><rect x=\"128\" y=\"464\" width=\"16\" height=\"16\" class=\"square dark\" stroke=\"none\" fill=\"#d18b47\" opacity=\"1.0\" /><rect x=\"128\" y=\"480\" width=\"16\" height=\"16\" class=\"square light\" stroke=\"none\" fill=\"#ffce9e\" opacity=\"1.0\" /><rect x=\"128\" y=\"496\" width=\"16\" height=\"16\" class=\"square dark\" stroke=\"none\" fill=\"#d18b47\" opacity=\"1.0\" /><rect x=\"144\" y=\"0\" width=\"16\" height=\"16\" class=\"square dark\" stroke=\"none\" fill=\"#d18b47\" opacity=\"1.0\" /><rect x=\"144\" y=\"16\" width=\"16\" height=\"16\" class=\"square light\" stroke=\"none\" fill=\"#ffce9e\" opacity=\"1.0\" /><rect x=\"144\" y=\"32\" width=\"16\" height=\"16\" class=\"square dark\" stroke=\"none\" fill=\"#d18b47\" opacity=\"1.0\" /><rect x=\"144\" y=\"48\" width=\"16\" height=\"16\" class=\"square light\" stroke=\"none\" fill=\"#ffce9e\" opacity=\"1.0\" /><rect x=\"144\" y=\"64\" width=\"16\" height=\"16\" class=\"square dark\" stroke=\"none\" fill=\"#d18b47\" opacity=\"1.0\" /><rect x=\"144\" y=\"80\" width=\"16\" height=\"16\" class=\"square light\" stroke=\"none\" fill=\"#ffce9e\" opacity=\"1.0\" /><rect x=\"144\" y=\"96\" width=\"16\" height=\"16\" class=\"square dark\" stroke=\"none\" fill=\"#d18b47\" opacity=\"1.0\" /><rect x=\"144\" y=\"112\" width=\"16\" height=\"16\" class=\"square light\" stroke=\"none\" fill=\"#ffce9e\" opacity=\"1.0\" /><rect x=\"144\" y=\"128\" width=\"16\" height=\"16\" class=\"square dark\" stroke=\"none\" fill=\"#d18b47\" opacity=\"1.0\" /><rect x=\"144\" y=\"144\" width=\"16\" height=\"16\" class=\"square light\" stroke=\"none\" fill=\"#ffce9e\" opacity=\"1.0\" /><rect x=\"144\" y=\"160\" width=\"16\" height=\"16\" class=\"square dark\" stroke=\"none\" fill=\"#d18b47\" opacity=\"1.0\" /><rect x=\"144\" y=\"176\" width=\"16\" height=\"16\" class=\"square light\" stroke=\"none\" fill=\"#ffce9e\" opacity=\"1.0\" /><rect x=\"144\" y=\"192\" width=\"16\" height=\"16\" class=\"square dark\" stroke=\"none\" fill=\"#d18b47\" opacity=\"1.0\" /><rect x=\"144\" y=\"208\" width=\"16\" height=\"16\" class=\"square light\" stroke=\"none\" fill=\"#ffce9e\" opacity=\"1.0\" /><rect x=\"144\" y=\"224\" width=\"16\" height=\"16\" class=\"square dark\" stroke=\"none\" fill=\"#d18b47\" opacity=\"1.0\" /><rect x=\"144\" y=\"240\" width=\"16\" height=\"16\" class=\"square light\" stroke=\"none\" fill=\"#ffce9e\" opacity=\"1.0\" /><rect x=\"144\" y=\"256\" width=\"16\" height=\"16\" class=\"square dark\" stroke=\"none\" fill=\"#d18b47\" opacity=\"1.0\" /><rect x=\"144\" y=\"272\" width=\"16\" height=\"16\" class=\"square light\" stroke=\"none\" fill=\"#ffce9e\" opacity=\"1.0\" /><rect x=\"144\" y=\"288\" width=\"16\" height=\"16\" class=\"square dark\" stroke=\"none\" fill=\"#d18b47\" opacity=\"1.0\" /><rect x=\"144\" y=\"304\" width=\"16\" height=\"16\" class=\"square light\" stroke=\"none\" fill=\"#ffce9e\" opacity=\"1.0\" /><rect x=\"144\" y=\"320\" width=\"16\" height=\"16\" class=\"square dark\" stroke=\"none\" fill=\"#d18b47\" opacity=\"1.0\" /><rect x=\"144\" y=\"336\" width=\"16\" height=\"16\" class=\"square light\" stroke=\"none\" fill=\"#ffce9e\" opacity=\"1.0\" /><rect x=\"144\" y=\"352\" width=\"16\" height=\"16\" class=\"square dark\" stroke=\"none\" fill=\"#d18b47\" opacity=\"1.0\" /><rect x=\"144\" y=\"368\" width=\"16\" height=\"16\" class=\"square light\" stroke=\"none\" fill=\"#ffce9e\" opacity=\"1.0\" /><rect x=\"144\" y=\"384\" width=\"16\" height=\"16\" class=\"square dark\" stroke=\"none\" fill=\"#d18b47\" opacity=\"1.0\" /><rect x=\"144\" y=\"400\" width=\"16\" height=\"16\" class=\"square light\" stroke=\"none\" fill=\"#ffce9e\" opacity=\"1.0\" /><rect x=\"144\" y=\"416\" width=\"16\" height=\"16\" class=\"square dark\" stroke=\"none\" fill=\"#d18b47\" opacity=\"1.0\" /><rect x=\"144\" y=\"432\" width=\"16\" height=\"16\" class=\"square light\" stroke=\"none\" fill=\"#ffce9e\" opacity=\"1.0\" /><rect x=\"144\" y=\"448\" width=\"16\" height=\"16\" class=\"square dark\" stroke=\"none\" fill=\"#d18b47\" opacity=\"1.0\" /><rect x=\"144\" y=\"464\" width=\"16\" height=\"16\" class=\"square light\" stroke=\"none\" fill=\"#ffce9e\" opacity=\"1.0\" /><rect x=\"144\" y=\"480\" width=\"16\" height=\"16\" class=\"square dark\" stroke=\"none\" fill=\"#d18b47\" opacity=\"1.0\" /><rect x=\"144\" y=\"496\" width=\"16\" height=\"16\" class=\"square light\" stroke=\"none\" fill=\"#ffce9e\" opacity=\"1.0\" /><rect x=\"160\" y=\"0\" width=\"16\" height=\"16\" class=\"square light\" stroke=\"none\" fill=\"#ffce9e\" opacity=\"1.0\" /><rect x=\"160\" y=\"16\" width=\"16\" height=\"16\" class=\"square dark\" stroke=\"none\" fill=\"#d18b47\" opacity=\"1.0\" /><rect x=\"160\" y=\"32\" width=\"16\" height=\"16\" class=\"square light\" stroke=\"none\" fill=\"#ffce9e\" opacity=\"1.0\" /><rect x=\"160\" y=\"48\" width=\"16\" height=\"16\" class=\"square dark\" stroke=\"none\" fill=\"#d18b47\" opacity=\"1.0\" /><rect x=\"160\" y=\"64\" width=\"16\" height=\"16\" class=\"square light\" stroke=\"none\" fill=\"#ffce9e\" opacity=\"1.0\" /><rect x=\"160\" y=\"80\" width=\"16\" height=\"16\" class=\"square dark\" stroke=\"none\" fill=\"#d18b47\" opacity=\"1.0\" /><rect x=\"160\" y=\"96\" width=\"16\" height=\"16\" class=\"square light\" stroke=\"none\" fill=\"#ffce9e\" opacity=\"1.0\" /><rect x=\"160\" y=\"112\" width=\"16\" height=\"16\" class=\"square dark\" stroke=\"none\" fill=\"#d18b47\" opacity=\"1.0\" /><rect x=\"160\" y=\"128\" width=\"16\" height=\"16\" class=\"square light\" stroke=\"none\" fill=\"#ffce9e\" opacity=\"1.0\" /><rect x=\"160\" y=\"144\" width=\"16\" height=\"16\" class=\"square dark\" stroke=\"none\" fill=\"#d18b47\" opacity=\"1.0\" /><rect x=\"160\" y=\"160\" width=\"16\" height=\"16\" class=\"square light\" stroke=\"none\" fill=\"#ffce9e\" opacity=\"1.0\" /><rect x=\"160\" y=\"176\" width=\"16\" height=\"16\" class=\"square dark\" stroke=\"none\" fill=\"#d18b47\" opacity=\"1.0\" /><rect x=\"160\" y=\"192\" width=\"16\" height=\"16\" class=\"square light\" stroke=\"none\" fill=\"#ffce9e\" opacity=\"1.0\" /><rect x=\"160\" y=\"208\" width=\"16\" height=\"16\" class=\"square dark\" stroke=\"none\" fill=\"#d18b47\" opacity=\"1.0\" /><rect x=\"160\" y=\"224\" width=\"16\" height=\"16\" class=\"square light\" stroke=\"none\" fill=\"#ffce9e\" opacity=\"1.0\" /><rect x=\"160\" y=\"240\" width=\"16\" height=\"16\" class=\"square dark\" stroke=\"none\" fill=\"#d18b47\" opacity=\"1.0\" /><rect x=\"160\" y=\"256\" width=\"16\" height=\"16\" class=\"square light\" stroke=\"none\" fill=\"#ffce9e\" opacity=\"1.0\" /><rect x=\"160\" y=\"272\" width=\"16\" height=\"16\" class=\"square dark\" stroke=\"none\" fill=\"#d18b47\" opacity=\"1.0\" /><rect x=\"160\" y=\"288\" width=\"16\" height=\"16\" class=\"square light\" stroke=\"none\" fill=\"#ffce9e\" opacity=\"1.0\" /><rect x=\"160\" y=\"304\" width=\"16\" height=\"16\" class=\"square dark\" stroke=\"none\" fill=\"#d18b47\" opacity=\"1.0\" /><rect x=\"160\" y=\"320\" width=\"16\" height=\"16\" class=\"square light\" stroke=\"none\" fill=\"#ffce9e\" opacity=\"1.0\" /><rect x=\"160\" y=\"336\" width=\"16\" height=\"16\" class=\"square dark\" stroke=\"none\" fill=\"#d18b47\" opacity=\"1.0\" /><rect x=\"160\" y=\"352\" width=\"16\" height=\"16\" class=\"square light\" stroke=\"none\" fill=\"#ffce9e\" opacity=\"1.0\" /><rect x=\"160\" y=\"368\" width=\"16\" height=\"16\" class=\"square dark\" stroke=\"none\" fill=\"#d18b47\" opacity=\"1.0\" /><rect x=\"160\" y=\"384\" width=\"16\" height=\"16\" class=\"square light\" stroke=\"none\" fill=\"#ffce9e\" opacity=\"1.0\" /><rect x=\"160\" y=\"400\" width=\"16\" height=\"16\" class=\"square dark\" stroke=\"none\" fill=\"#d18b47\" opacity=\"1.0\" /><rect x=\"160\" y=\"416\" width=\"16\" height=\"16\" class=\"square light\" stroke=\"none\" fill=\"#ffce9e\" opacity=\"1.0\" /><rect x=\"160\" y=\"432\" width=\"16\" height=\"16\" class=\"square dark\" stroke=\"none\" fill=\"#d18b47\" opacity=\"1.0\" /><rect x=\"160\" y=\"448\" width=\"16\" height=\"16\" class=\"square light\" stroke=\"none\" fill=\"#ffce9e\" opacity=\"1.0\" /><rect x=\"160\" y=\"464\" width=\"16\" height=\"16\" class=\"square dark\" stroke=\"none\" fill=\"#d18b47\" opacity=\"1.0\" /><rect x=\"160\" y=\"480\" width=\"16\" height=\"16\" class=\"square light\" stroke=\"none\" fill=\"#ffce9e\" opacity=\"1.0\" /><rect x=\"160\" y=\"496\" width=\"16\" height=\"16\" class=\"square dark\" stroke=\"none\" fill=\"#d18b47\" opacity=\"1.0\" /><rect x=\"176\" y=\"0\" width=\"16\" height=\"16\" class=\"square dark\" stroke=\"none\" fill=\"#d18b47\" opacity=\"1.0\" /><rect x=\"176\" y=\"16\" width=\"16\" height=\"16\" class=\"square light\" stroke=\"none\" fill=\"#ffce9e\" opacity=\"1.0\" /><rect x=\"176\" y=\"32\" width=\"16\" height=\"16\" class=\"square dark\" stroke=\"none\" fill=\"#d18b47\" opacity=\"1.0\" /><rect x=\"176\" y=\"48\" width=\"16\" height=\"16\" class=\"square light\" stroke=\"none\" fill=\"#ffce9e\" opacity=\"1.0\" /><rect x=\"176\" y=\"64\" width=\"16\" height=\"16\" class=\"square dark\" stroke=\"none\" fill=\"#d18b47\" opacity=\"1.0\" /><rect x=\"176\" y=\"80\" width=\"16\" height=\"16\" class=\"square light\" stroke=\"none\" fill=\"#ffce9e\" opacity=\"1.0\" /><rect x=\"176\" y=\"96\" width=\"16\" height=\"16\" class=\"square dark\" stroke=\"none\" fill=\"#d18b47\" opacity=\"1.0\" /><rect x=\"176\" y=\"112\" width=\"16\" height=\"16\" class=\"square light\" stroke=\"none\" fill=\"#ffce9e\" opacity=\"1.0\" /><rect x=\"176\" y=\"128\" width=\"16\" height=\"16\" class=\"square dark\" stroke=\"none\" fill=\"#d18b47\" opacity=\"1.0\" /><rect x=\"176\" y=\"144\" width=\"16\" height=\"16\" class=\"square light\" stroke=\"none\" fill=\"#ffce9e\" opacity=\"1.0\" /><rect x=\"176\" y=\"160\" width=\"16\" height=\"16\" class=\"square dark\" stroke=\"none\" fill=\"#d18b47\" opacity=\"1.0\" /><rect x=\"176\" y=\"176\" width=\"16\" height=\"16\" class=\"square light\" stroke=\"none\" fill=\"#ffce9e\" opacity=\"1.0\" /><rect x=\"176\" y=\"192\" width=\"16\" height=\"16\" class=\"square dark\" stroke=\"none\" fill=\"#d18b47\" opacity=\"1.0\" /><rect x=\"176\" y=\"208\" width=\"16\" height=\"16\" class=\"square light\" stroke=\"none\" fill=\"#ffce9e\" opacity=\"1.0\" /><rect x=\"176\" y=\"224\" width=\"16\" height=\"16\" class=\"square dark\" stroke=\"none\" fill=\"#d18b47\" opacity=\"1.0\" /><rect x=\"176\" y=\"240\" width=\"16\" height=\"16\" class=\"square light\" stroke=\"none\" fill=\"#ffce9e\" opacity=\"1.0\" /><rect x=\"176\" y=\"256\" width=\"16\" height=\"16\" class=\"square dark\" stroke=\"none\" fill=\"#d18b47\" opacity=\"1.0\" /><rect x=\"176\" y=\"272\" width=\"16\" height=\"16\" class=\"square light\" stroke=\"none\" fill=\"#ffce9e\" opacity=\"1.0\" /><rect x=\"176\" y=\"288\" width=\"16\" height=\"16\" class=\"square dark\" stroke=\"none\" fill=\"#d18b47\" opacity=\"1.0\" /><rect x=\"176\" y=\"304\" width=\"16\" height=\"16\" class=\"square light\" stroke=\"none\" fill=\"#ffce9e\" opacity=\"1.0\" /><rect x=\"176\" y=\"320\" width=\"16\" height=\"16\" class=\"square dark\" stroke=\"none\" fill=\"#d18b47\" opacity=\"1.0\" /><rect x=\"176\" y=\"336\" width=\"16\" height=\"16\" class=\"square light\" stroke=\"none\" fill=\"#ffce9e\" opacity=\"1.0\" /><rect x=\"176\" y=\"352\" width=\"16\" height=\"16\" class=\"square dark\" stroke=\"none\" fill=\"#d18b47\" opacity=\"1.0\" /><rect x=\"176\" y=\"368\" width=\"16\" height=\"16\" class=\"square light\" stroke=\"none\" fill=\"#ffce9e\" opacity=\"1.0\" /><rect x=\"176\" y=\"384\" width=\"16\" height=\"16\" class=\"square dark\" stroke=\"none\" fill=\"#d18b47\" opacity=\"1.0\" /><rect x=\"176\" y=\"400\" width=\"16\" height=\"16\" class=\"square light\" stroke=\"none\" fill=\"#ffce9e\" opacity=\"1.0\" /><rect x=\"176\" y=\"416\" width=\"16\" height=\"16\" class=\"square dark\" stroke=\"none\" fill=\"#d18b47\" opacity=\"1.0\" /><rect x=\"176\" y=\"432\" width=\"16\" height=\"16\" class=\"square light\" stroke=\"none\" fill=\"#ffce9e\" opacity=\"1.0\" /><rect x=\"176\" y=\"448\" width=\"16\" height=\"16\" class=\"square dark\" stroke=\"none\" fill=\"#d18b47\" opacity=\"1.0\" /><rect x=\"176\" y=\"464\" width=\"16\" height=\"16\" class=\"square light\" stroke=\"none\" fill=\"#ffce9e\" opacity=\"1.0\" /><rect x=\"176\" y=\"480\" width=\"16\" height=\"16\" class=\"square dark\" stroke=\"none\" fill=\"#d18b47\" opacity=\"1.0\" /><rect x=\"176\" y=\"496\" width=\"16\" height=\"16\" class=\"square light\" stroke=\"none\" fill=\"#ffce9e\" opacity=\"1.0\" /><rect x=\"192\" y=\"0\" width=\"16\" height=\"16\" class=\"square light\" stroke=\"none\" fill=\"#ffce9e\" opacity=\"1.0\" /><rect x=\"192\" y=\"16\" width=\"16\" height=\"16\" class=\"square dark\" stroke=\"none\" fill=\"#d18b47\" opacity=\"1.0\" /><rect x=\"192\" y=\"32\" width=\"16\" height=\"16\" class=\"square light\" stroke=\"none\" fill=\"#ffce9e\" opacity=\"1.0\" /><rect x=\"192\" y=\"48\" width=\"16\" height=\"16\" class=\"square dark\" stroke=\"none\" fill=\"#d18b47\" opacity=\"1.0\" /><rect x=\"192\" y=\"64\" width=\"16\" height=\"16\" class=\"square light\" stroke=\"none\" fill=\"#ffce9e\" opacity=\"1.0\" /><rect x=\"192\" y=\"80\" width=\"16\" height=\"16\" class=\"square dark\" stroke=\"none\" fill=\"#d18b47\" opacity=\"1.0\" /><rect x=\"192\" y=\"96\" width=\"16\" height=\"16\" class=\"square light\" stroke=\"none\" fill=\"#ffce9e\" opacity=\"1.0\" /><rect x=\"192\" y=\"112\" width=\"16\" height=\"16\" class=\"square dark\" stroke=\"none\" fill=\"#d18b47\" opacity=\"1.0\" /><rect x=\"192\" y=\"128\" width=\"16\" height=\"16\" class=\"square light\" stroke=\"none\" fill=\"#ffce9e\" opacity=\"1.0\" /><rect x=\"192\" y=\"144\" width=\"16\" height=\"16\" class=\"square dark\" stroke=\"none\" fill=\"#d18b47\" opacity=\"1.0\" /><rect x=\"192\" y=\"160\" width=\"16\" height=\"16\" class=\"square light\" stroke=\"none\" fill=\"#ffce9e\" opacity=\"1.0\" /><rect x=\"192\" y=\"176\" width=\"16\" height=\"16\" class=\"square dark\" stroke=\"none\" fill=\"#d18b47\" opacity=\"1.0\" /><rect x=\"192\" y=\"192\" width=\"16\" height=\"16\" class=\"square light\" stroke=\"none\" fill=\"#ffce9e\" opacity=\"1.0\" /><rect x=\"192\" y=\"208\" width=\"16\" height=\"16\" class=\"square dark\" stroke=\"none\" fill=\"#d18b47\" opacity=\"1.0\" /><rect x=\"192\" y=\"224\" width=\"16\" height=\"16\" class=\"square light\" stroke=\"none\" fill=\"#ffce9e\" opacity=\"1.0\" /><rect x=\"192\" y=\"240\" width=\"16\" height=\"16\" class=\"square dark\" stroke=\"none\" fill=\"#d18b47\" opacity=\"1.0\" /><rect x=\"192\" y=\"256\" width=\"16\" height=\"16\" class=\"square light\" stroke=\"none\" fill=\"#ffce9e\" opacity=\"1.0\" /><rect x=\"192\" y=\"272\" width=\"16\" height=\"16\" class=\"square dark\" stroke=\"none\" fill=\"#d18b47\" opacity=\"1.0\" /><rect x=\"192\" y=\"288\" width=\"16\" height=\"16\" class=\"square light\" stroke=\"none\" fill=\"#ffce9e\" opacity=\"1.0\" /><rect x=\"192\" y=\"304\" width=\"16\" height=\"16\" class=\"square dark\" stroke=\"none\" fill=\"#d18b47\" opacity=\"1.0\" /><rect x=\"192\" y=\"320\" width=\"16\" height=\"16\" class=\"square light\" stroke=\"none\" fill=\"#ffce9e\" opacity=\"1.0\" /><rect x=\"192\" y=\"336\" width=\"16\" height=\"16\" class=\"square dark\" stroke=\"none\" fill=\"#d18b47\" opacity=\"1.0\" /><rect x=\"192\" y=\"352\" width=\"16\" height=\"16\" class=\"square light\" stroke=\"none\" fill=\"#ffce9e\" opacity=\"1.0\" /><rect x=\"192\" y=\"368\" width=\"16\" height=\"16\" class=\"square dark\" stroke=\"none\" fill=\"#d18b47\" opacity=\"1.0\" /><rect x=\"192\" y=\"384\" width=\"16\" height=\"16\" class=\"square light\" stroke=\"none\" fill=\"#ffce9e\" opacity=\"1.0\" /><rect x=\"192\" y=\"400\" width=\"16\" height=\"16\" class=\"square dark\" stroke=\"none\" fill=\"#d18b47\" opacity=\"1.0\" /><rect x=\"192\" y=\"416\" width=\"16\" height=\"16\" class=\"square light\" stroke=\"none\" fill=\"#ffce9e\" opacity=\"1.0\" /><rect x=\"192\" y=\"432\" width=\"16\" height=\"16\" class=\"square dark\" stroke=\"none\" fill=\"#d18b47\" opacity=\"1.0\" /><rect x=\"192\" y=\"448\" width=\"16\" height=\"16\" class=\"square light\" stroke=\"none\" fill=\"#ffce9e\" opacity=\"1.0\" /><rect x=\"192\" y=\"464\" width=\"16\" height=\"16\" class=\"square dark\" stroke=\"none\" fill=\"#d18b47\" opacity=\"1.0\" /><rect x=\"192\" y=\"480\" width=\"16\" height=\"16\" class=\"square light\" stroke=\"none\" fill=\"#ffce9e\" opacity=\"1.0\" /><rect x=\"192\" y=\"496\" width=\"16\" height=\"16\" class=\"square dark\" stroke=\"none\" fill=\"#d18b47\" opacity=\"1.0\" /><rect x=\"208\" y=\"0\" width=\"16\" height=\"16\" class=\"square dark\" stroke=\"none\" fill=\"#d18b47\" opacity=\"1.0\" /><rect x=\"208\" y=\"16\" width=\"16\" height=\"16\" class=\"square light\" stroke=\"none\" fill=\"#ffce9e\" opacity=\"1.0\" /><rect x=\"208\" y=\"32\" width=\"16\" height=\"16\" class=\"square dark\" stroke=\"none\" fill=\"#d18b47\" opacity=\"1.0\" /><rect x=\"208\" y=\"48\" width=\"16\" height=\"16\" class=\"square light\" stroke=\"none\" fill=\"#ffce9e\" opacity=\"1.0\" /><rect x=\"208\" y=\"64\" width=\"16\" height=\"16\" class=\"square dark\" stroke=\"none\" fill=\"#d18b47\" opacity=\"1.0\" /><rect x=\"208\" y=\"80\" width=\"16\" height=\"16\" class=\"square light\" stroke=\"none\" fill=\"#ffce9e\" opacity=\"1.0\" /><rect x=\"208\" y=\"96\" width=\"16\" height=\"16\" class=\"square dark\" stroke=\"none\" fill=\"#d18b47\" opacity=\"1.0\" /><rect x=\"208\" y=\"112\" width=\"16\" height=\"16\" class=\"square light\" stroke=\"none\" fill=\"#ffce9e\" opacity=\"1.0\" /><rect x=\"208\" y=\"128\" width=\"16\" height=\"16\" class=\"square dark\" stroke=\"none\" fill=\"#d18b47\" opacity=\"1.0\" /><rect x=\"208\" y=\"144\" width=\"16\" height=\"16\" class=\"square light\" stroke=\"none\" fill=\"#ffce9e\" opacity=\"1.0\" /><rect x=\"208\" y=\"160\" width=\"16\" height=\"16\" class=\"square dark\" stroke=\"none\" fill=\"#d18b47\" opacity=\"1.0\" /><rect x=\"208\" y=\"176\" width=\"16\" height=\"16\" class=\"square light\" stroke=\"none\" fill=\"#ffce9e\" opacity=\"1.0\" /><rect x=\"208\" y=\"192\" width=\"16\" height=\"16\" class=\"square dark\" stroke=\"none\" fill=\"#d18b47\" opacity=\"1.0\" /><rect x=\"208\" y=\"208\" width=\"16\" height=\"16\" class=\"square light\" stroke=\"none\" fill=\"#ffce9e\" opacity=\"1.0\" /><rect x=\"208\" y=\"224\" width=\"16\" height=\"16\" class=\"square dark\" stroke=\"none\" fill=\"#d18b47\" opacity=\"1.0\" /><rect x=\"208\" y=\"240\" width=\"16\" height=\"16\" class=\"square light\" stroke=\"none\" fill=\"#ffce9e\" opacity=\"1.0\" /><rect x=\"208\" y=\"256\" width=\"16\" height=\"16\" class=\"square dark\" stroke=\"none\" fill=\"#d18b47\" opacity=\"1.0\" /><rect x=\"208\" y=\"272\" width=\"16\" height=\"16\" class=\"square light\" stroke=\"none\" fill=\"#ffce9e\" opacity=\"1.0\" /><rect x=\"208\" y=\"288\" width=\"16\" height=\"16\" class=\"square dark\" stroke=\"none\" fill=\"#d18b47\" opacity=\"1.0\" /><rect x=\"208\" y=\"304\" width=\"16\" height=\"16\" class=\"square light\" stroke=\"none\" fill=\"#ffce9e\" opacity=\"1.0\" /><rect x=\"208\" y=\"320\" width=\"16\" height=\"16\" class=\"square dark\" stroke=\"none\" fill=\"#d18b47\" opacity=\"1.0\" /><rect x=\"208\" y=\"336\" width=\"16\" height=\"16\" class=\"square light\" stroke=\"none\" fill=\"#ffce9e\" opacity=\"1.0\" /><rect x=\"208\" y=\"352\" width=\"16\" height=\"16\" class=\"square dark\" stroke=\"none\" fill=\"#d18b47\" opacity=\"1.0\" /><rect x=\"208\" y=\"368\" width=\"16\" height=\"16\" class=\"square light\" stroke=\"none\" fill=\"#ffce9e\" opacity=\"1.0\" /><rect x=\"208\" y=\"384\" width=\"16\" height=\"16\" class=\"square dark\" stroke=\"none\" fill=\"#d18b47\" opacity=\"1.0\" /><rect x=\"208\" y=\"400\" width=\"16\" height=\"16\" class=\"square light\" stroke=\"none\" fill=\"#ffce9e\" opacity=\"1.0\" /><rect x=\"208\" y=\"416\" width=\"16\" height=\"16\" class=\"square dark\" stroke=\"none\" fill=\"#d18b47\" opacity=\"1.0\" /><rect x=\"208\" y=\"432\" width=\"16\" height=\"16\" class=\"square light\" stroke=\"none\" fill=\"#ffce9e\" opacity=\"1.0\" /><rect x=\"208\" y=\"448\" width=\"16\" height=\"16\" class=\"square dark\" stroke=\"none\" fill=\"#d18b47\" opacity=\"1.0\" /><rect x=\"208\" y=\"464\" width=\"16\" height=\"16\" class=\"square light\" stroke=\"none\" fill=\"#ffce9e\" opacity=\"1.0\" /><rect x=\"208\" y=\"480\" width=\"16\" height=\"16\" class=\"square dark\" stroke=\"none\" fill=\"#d18b47\" opacity=\"1.0\" /><rect x=\"208\" y=\"496\" width=\"16\" height=\"16\" class=\"square light\" stroke=\"none\" fill=\"#ffce9e\" opacity=\"1.0\" /><rect x=\"224\" y=\"0\" width=\"16\" height=\"16\" class=\"square light\" stroke=\"none\" fill=\"#ffce9e\" opacity=\"1.0\" /><rect x=\"224\" y=\"16\" width=\"16\" height=\"16\" class=\"square dark\" stroke=\"none\" fill=\"#d18b47\" opacity=\"1.0\" /><rect x=\"224\" y=\"32\" width=\"16\" height=\"16\" class=\"square light\" stroke=\"none\" fill=\"#ffce9e\" opacity=\"1.0\" /><rect x=\"224\" y=\"48\" width=\"16\" height=\"16\" class=\"square dark\" stroke=\"none\" fill=\"#d18b47\" opacity=\"1.0\" /><rect x=\"224\" y=\"64\" width=\"16\" height=\"16\" class=\"square light\" stroke=\"none\" fill=\"#ffce9e\" opacity=\"1.0\" /><rect x=\"224\" y=\"80\" width=\"16\" height=\"16\" class=\"square dark\" stroke=\"none\" fill=\"#d18b47\" opacity=\"1.0\" /><rect x=\"224\" y=\"96\" width=\"16\" height=\"16\" class=\"square light\" stroke=\"none\" fill=\"#ffce9e\" opacity=\"1.0\" /><rect x=\"224\" y=\"112\" width=\"16\" height=\"16\" class=\"square dark\" stroke=\"none\" fill=\"#d18b47\" opacity=\"1.0\" /><rect x=\"224\" y=\"128\" width=\"16\" height=\"16\" class=\"square light\" stroke=\"none\" fill=\"#ffce9e\" opacity=\"1.0\" /><rect x=\"224\" y=\"144\" width=\"16\" height=\"16\" class=\"square dark\" stroke=\"none\" fill=\"#d18b47\" opacity=\"1.0\" /><rect x=\"224\" y=\"160\" width=\"16\" height=\"16\" class=\"square light\" stroke=\"none\" fill=\"#ffce9e\" opacity=\"1.0\" /><rect x=\"224\" y=\"176\" width=\"16\" height=\"16\" class=\"square dark\" stroke=\"none\" fill=\"#d18b47\" opacity=\"1.0\" /><rect x=\"224\" y=\"192\" width=\"16\" height=\"16\" class=\"square light\" stroke=\"none\" fill=\"#ffce9e\" opacity=\"1.0\" /><rect x=\"224\" y=\"208\" width=\"16\" height=\"16\" class=\"square dark\" stroke=\"none\" fill=\"#d18b47\" opacity=\"1.0\" /><rect x=\"224\" y=\"224\" width=\"16\" height=\"16\" class=\"square light\" stroke=\"none\" fill=\"#ffce9e\" opacity=\"1.0\" /><rect x=\"224\" y=\"240\" width=\"16\" height=\"16\" class=\"square dark\" stroke=\"none\" fill=\"#d18b47\" opacity=\"1.0\" /><rect x=\"224\" y=\"256\" width=\"16\" height=\"16\" class=\"square light\" stroke=\"none\" fill=\"#ffce9e\" opacity=\"1.0\" /><rect x=\"224\" y=\"272\" width=\"16\" height=\"16\" class=\"square dark\" stroke=\"none\" fill=\"#d18b47\" opacity=\"1.0\" /><rect x=\"224\" y=\"288\" width=\"16\" height=\"16\" class=\"square light\" stroke=\"none\" fill=\"#ffce9e\" opacity=\"1.0\" /><rect x=\"224\" y=\"304\" width=\"16\" height=\"16\" class=\"square dark\" stroke=\"none\" fill=\"#d18b47\" opacity=\"1.0\" /><rect x=\"224\" y=\"320\" width=\"16\" height=\"16\" class=\"square light\" stroke=\"none\" fill=\"#ffce9e\" opacity=\"1.0\" /><rect x=\"224\" y=\"336\" width=\"16\" height=\"16\" class=\"square dark\" stroke=\"none\" fill=\"#d18b47\" opacity=\"1.0\" /><rect x=\"224\" y=\"352\" width=\"16\" height=\"16\" class=\"square light\" stroke=\"none\" fill=\"#ffce9e\" opacity=\"1.0\" /><rect x=\"224\" y=\"368\" width=\"16\" height=\"16\" class=\"square dark\" stroke=\"none\" fill=\"#d18b47\" opacity=\"1.0\" /><rect x=\"224\" y=\"384\" width=\"16\" height=\"16\" class=\"square light\" stroke=\"none\" fill=\"#ffce9e\" opacity=\"1.0\" /><rect x=\"224\" y=\"400\" width=\"16\" height=\"16\" class=\"square dark\" stroke=\"none\" fill=\"#d18b47\" opacity=\"1.0\" /><rect x=\"224\" y=\"416\" width=\"16\" height=\"16\" class=\"square light\" stroke=\"none\" fill=\"#ffce9e\" opacity=\"1.0\" /><rect x=\"224\" y=\"432\" width=\"16\" height=\"16\" class=\"square dark\" stroke=\"none\" fill=\"#d18b47\" opacity=\"1.0\" /><rect x=\"224\" y=\"448\" width=\"16\" height=\"16\" class=\"square light\" stroke=\"none\" fill=\"#ffce9e\" opacity=\"1.0\" /><rect x=\"224\" y=\"464\" width=\"16\" height=\"16\" class=\"square dark\" stroke=\"none\" fill=\"#d18b47\" opacity=\"1.0\" /><rect x=\"224\" y=\"480\" width=\"16\" height=\"16\" class=\"square light\" stroke=\"none\" fill=\"#ffce9e\" opacity=\"1.0\" /><rect x=\"224\" y=\"496\" width=\"16\" height=\"16\" class=\"square dark\" stroke=\"none\" fill=\"#d18b47\" opacity=\"1.0\" /><rect x=\"240\" y=\"0\" width=\"16\" height=\"16\" class=\"square dark\" stroke=\"none\" fill=\"#d18b47\" opacity=\"1.0\" /><rect x=\"240\" y=\"16\" width=\"16\" height=\"16\" class=\"square light\" stroke=\"none\" fill=\"#ffce9e\" opacity=\"1.0\" /><rect x=\"240\" y=\"32\" width=\"16\" height=\"16\" class=\"square dark\" stroke=\"none\" fill=\"#d18b47\" opacity=\"1.0\" /><rect x=\"240\" y=\"48\" width=\"16\" height=\"16\" class=\"square light\" stroke=\"none\" fill=\"#ffce9e\" opacity=\"1.0\" /><rect x=\"240\" y=\"64\" width=\"16\" height=\"16\" class=\"square dark\" stroke=\"none\" fill=\"#d18b47\" opacity=\"1.0\" /><rect x=\"240\" y=\"80\" width=\"16\" height=\"16\" class=\"square light\" stroke=\"none\" fill=\"#ffce9e\" opacity=\"1.0\" /><rect x=\"240\" y=\"96\" width=\"16\" height=\"16\" class=\"square dark\" stroke=\"none\" fill=\"#d18b47\" opacity=\"1.0\" /><rect x=\"240\" y=\"112\" width=\"16\" height=\"16\" class=\"square light\" stroke=\"none\" fill=\"#ffce9e\" opacity=\"1.0\" /><rect x=\"240\" y=\"128\" width=\"16\" height=\"16\" class=\"square dark\" stroke=\"none\" fill=\"#d18b47\" opacity=\"1.0\" /><rect x=\"240\" y=\"144\" width=\"16\" height=\"16\" class=\"square light\" stroke=\"none\" fill=\"#ffce9e\" opacity=\"1.0\" /><rect x=\"240\" y=\"160\" width=\"16\" height=\"16\" class=\"square dark\" stroke=\"none\" fill=\"#d18b47\" opacity=\"1.0\" /><rect x=\"240\" y=\"176\" width=\"16\" height=\"16\" class=\"square light\" stroke=\"none\" fill=\"#ffce9e\" opacity=\"1.0\" /><rect x=\"240\" y=\"192\" width=\"16\" height=\"16\" class=\"square dark\" stroke=\"none\" fill=\"#d18b47\" opacity=\"1.0\" /><rect x=\"240\" y=\"208\" width=\"16\" height=\"16\" class=\"square light\" stroke=\"none\" fill=\"#ffce9e\" opacity=\"1.0\" /><rect x=\"240\" y=\"224\" width=\"16\" height=\"16\" class=\"square dark\" stroke=\"none\" fill=\"#d18b47\" opacity=\"1.0\" /><rect x=\"240\" y=\"240\" width=\"16\" height=\"16\" class=\"square light\" stroke=\"none\" fill=\"#ffce9e\" opacity=\"1.0\" /><rect x=\"240\" y=\"256\" width=\"16\" height=\"16\" class=\"square dark\" stroke=\"none\" fill=\"#d18b47\" opacity=\"1.0\" /><rect x=\"240\" y=\"272\" width=\"16\" height=\"16\" class=\"square light\" stroke=\"none\" fill=\"#ffce9e\" opacity=\"1.0\" /><rect x=\"240\" y=\"288\" width=\"16\" height=\"16\" class=\"square dark\" stroke=\"none\" fill=\"#d18b47\" opacity=\"1.0\" /><rect x=\"240\" y=\"304\" width=\"16\" height=\"16\" class=\"square light\" stroke=\"none\" fill=\"#ffce9e\" opacity=\"1.0\" /><rect x=\"240\" y=\"320\" width=\"16\" height=\"16\" class=\"square dark\" stroke=\"none\" fill=\"#d18b47\" opacity=\"1.0\" /><rect x=\"240\" y=\"336\" width=\"16\" height=\"16\" class=\"square light\" stroke=\"none\" fill=\"#ffce9e\" opacity=\"1.0\" /><rect x=\"240\" y=\"352\" width=\"16\" height=\"16\" class=\"square dark\" stroke=\"none\" fill=\"#d18b47\" opacity=\"1.0\" /><rect x=\"240\" y=\"368\" width=\"16\" height=\"16\" class=\"square light\" stroke=\"none\" fill=\"#ffce9e\" opacity=\"1.0\" /><rect x=\"240\" y=\"384\" width=\"16\" height=\"16\" class=\"square dark\" stroke=\"none\" fill=\"#d18b47\" opacity=\"1.0\" /><rect x=\"240\" y=\"400\" width=\"16\" height=\"16\" class=\"square light\" stroke=\"none\" fill=\"#ffce9e\" opacity=\"1.0\" /><rect x=\"240\" y=\"416\" width=\"16\" height=\"16\" class=\"square dark\" stroke=\"none\" fill=\"#d18b47\" opacity=\"1.0\" /><rect x=\"240\" y=\"432\" width=\"16\" height=\"16\" class=\"square light\" stroke=\"none\" fill=\"#ffce9e\" opacity=\"1.0\" /><rect x=\"240\" y=\"448\" width=\"16\" height=\"16\" class=\"square dark\" stroke=\"none\" fill=\"#d18b47\" opacity=\"1.0\" /><rect x=\"240\" y=\"464\" width=\"16\" height=\"16\" class=\"square light\" stroke=\"none\" fill=\"#ffce9e\" opacity=\"1.0\" /><rect x=\"240\" y=\"480\" width=\"16\" height=\"16\" class=\"square dark\" stroke=\"none\" fill=\"#d18b47\" opacity=\"1.0\" /><rect x=\"240\" y=\"496\" width=\"16\" height=\"16\" class=\"square light\" stroke=\"none\" fill=\"#ffce9e\" opacity=\"1.0\" /><rect x=\"256\" y=\"0\" width=\"16\" height=\"16\" class=\"square light\" stroke=\"none\" fill=\"#ffce9e\" opacity=\"1.0\" /><rect x=\"256\" y=\"16\" width=\"16\" height=\"16\" class=\"square dark\" stroke=\"none\" fill=\"#d18b47\" opacity=\"1.0\" /><rect x=\"256\" y=\"32\" width=\"16\" height=\"16\" class=\"square light\" stroke=\"none\" fill=\"#ffce9e\" opacity=\"1.0\" /><rect x=\"256\" y=\"48\" width=\"16\" height=\"16\" class=\"square dark\" stroke=\"none\" fill=\"#d18b47\" opacity=\"1.0\" /><rect x=\"256\" y=\"64\" width=\"16\" height=\"16\" class=\"square light\" stroke=\"none\" fill=\"#ffce9e\" opacity=\"1.0\" /><rect x=\"256\" y=\"80\" width=\"16\" height=\"16\" class=\"square dark\" stroke=\"none\" fill=\"#d18b47\" opacity=\"1.0\" /><rect x=\"256\" y=\"96\" width=\"16\" height=\"16\" class=\"square light\" stroke=\"none\" fill=\"#ffce9e\" opacity=\"1.0\" /><rect x=\"256\" y=\"112\" width=\"16\" height=\"16\" class=\"square dark\" stroke=\"none\" fill=\"#d18b47\" opacity=\"1.0\" /><rect x=\"256\" y=\"128\" width=\"16\" height=\"16\" class=\"square light\" stroke=\"none\" fill=\"#ffce9e\" opacity=\"1.0\" /><rect x=\"256\" y=\"144\" width=\"16\" height=\"16\" class=\"square dark\" stroke=\"none\" fill=\"#d18b47\" opacity=\"1.0\" /><rect x=\"256\" y=\"160\" width=\"16\" height=\"16\" class=\"square light\" stroke=\"none\" fill=\"#ffce9e\" opacity=\"1.0\" /><rect x=\"256\" y=\"176\" width=\"16\" height=\"16\" class=\"square dark\" stroke=\"none\" fill=\"#d18b47\" opacity=\"1.0\" /><rect x=\"256\" y=\"192\" width=\"16\" height=\"16\" class=\"square light\" stroke=\"none\" fill=\"#ffce9e\" opacity=\"1.0\" /><rect x=\"256\" y=\"208\" width=\"16\" height=\"16\" class=\"square dark\" stroke=\"none\" fill=\"#d18b47\" opacity=\"1.0\" /><rect x=\"256\" y=\"224\" width=\"16\" height=\"16\" class=\"square light\" stroke=\"none\" fill=\"#ffce9e\" opacity=\"1.0\" /><rect x=\"256\" y=\"240\" width=\"16\" height=\"16\" class=\"square dark\" stroke=\"none\" fill=\"#d18b47\" opacity=\"1.0\" /><rect x=\"256\" y=\"256\" width=\"16\" height=\"16\" class=\"square light\" stroke=\"none\" fill=\"#ffce9e\" opacity=\"1.0\" /><rect x=\"256\" y=\"272\" width=\"16\" height=\"16\" class=\"square dark\" stroke=\"none\" fill=\"#d18b47\" opacity=\"1.0\" /><rect x=\"256\" y=\"288\" width=\"16\" height=\"16\" class=\"square light\" stroke=\"none\" fill=\"#ffce9e\" opacity=\"1.0\" /><rect x=\"256\" y=\"304\" width=\"16\" height=\"16\" class=\"square dark\" stroke=\"none\" fill=\"#d18b47\" opacity=\"1.0\" /><rect x=\"256\" y=\"320\" width=\"16\" height=\"16\" class=\"square light\" stroke=\"none\" fill=\"#ffce9e\" opacity=\"1.0\" /><rect x=\"256\" y=\"336\" width=\"16\" height=\"16\" class=\"square dark\" stroke=\"none\" fill=\"#d18b47\" opacity=\"1.0\" /><rect x=\"256\" y=\"352\" width=\"16\" height=\"16\" class=\"square light\" stroke=\"none\" fill=\"#ffce9e\" opacity=\"1.0\" /><rect x=\"256\" y=\"368\" width=\"16\" height=\"16\" class=\"square dark\" stroke=\"none\" fill=\"#d18b47\" opacity=\"1.0\" /><rect x=\"256\" y=\"384\" width=\"16\" height=\"16\" class=\"square light\" stroke=\"none\" fill=\"#ffce9e\" opacity=\"1.0\" /><rect x=\"256\" y=\"400\" width=\"16\" height=\"16\" class=\"square dark\" stroke=\"none\" fill=\"#d18b47\" opacity=\"1.0\" /><rect x=\"256\" y=\"416\" width=\"16\" height=\"16\" class=\"square light\" stroke=\"none\" fill=\"#ffce9e\" opacity=\"1.0\" /><rect x=\"256\" y=\"432\" width=\"16\" height=\"16\" class=\"square dark\" stroke=\"none\" fill=\"#d18b47\" opacity=\"1.0\" /><rect x=\"256\" y=\"448\" width=\"16\" height=\"16\" class=\"square light\" stroke=\"none\" fill=\"#ffce9e\" opacity=\"1.0\" /><rect x=\"256\" y=\"464\" width=\"16\" height=\"16\" class=\"square dark\" stroke=\"none\" fill=\"#d18b47\" opacity=\"1.0\" /><rect x=\"256\" y=\"480\" width=\"16\" height=\"16\" class=\"square light\" stroke=\"none\" fill=\"#ffce9e\" opacity=\"1.0\" /><rect x=\"256\" y=\"496\" width=\"16\" height=\"16\" class=\"square dark\" stroke=\"none\" fill=\"#d18b47\" opacity=\"1.0\" /><rect x=\"272\" y=\"0\" width=\"16\" height=\"16\" class=\"square dark\" stroke=\"none\" fill=\"#d18b47\" opacity=\"1.0\" /><rect x=\"272\" y=\"16\" width=\"16\" height=\"16\" class=\"square light\" stroke=\"none\" fill=\"#ffce9e\" opacity=\"1.0\" /><rect x=\"272\" y=\"32\" width=\"16\" height=\"16\" class=\"square dark\" stroke=\"none\" fill=\"#d18b47\" opacity=\"1.0\" /><rect x=\"272\" y=\"48\" width=\"16\" height=\"16\" class=\"square light\" stroke=\"none\" fill=\"#ffce9e\" opacity=\"1.0\" /><rect x=\"272\" y=\"64\" width=\"16\" height=\"16\" class=\"square dark\" stroke=\"none\" fill=\"#d18b47\" opacity=\"1.0\" /><rect x=\"272\" y=\"80\" width=\"16\" height=\"16\" class=\"square light\" stroke=\"none\" fill=\"#ffce9e\" opacity=\"1.0\" /><rect x=\"272\" y=\"96\" width=\"16\" height=\"16\" class=\"square dark\" stroke=\"none\" fill=\"#d18b47\" opacity=\"1.0\" /><rect x=\"272\" y=\"112\" width=\"16\" height=\"16\" class=\"square light\" stroke=\"none\" fill=\"#ffce9e\" opacity=\"1.0\" /><rect x=\"272\" y=\"128\" width=\"16\" height=\"16\" class=\"square dark\" stroke=\"none\" fill=\"#d18b47\" opacity=\"1.0\" /><rect x=\"272\" y=\"144\" width=\"16\" height=\"16\" class=\"square light\" stroke=\"none\" fill=\"#ffce9e\" opacity=\"1.0\" /><rect x=\"272\" y=\"160\" width=\"16\" height=\"16\" class=\"square dark\" stroke=\"none\" fill=\"#d18b47\" opacity=\"1.0\" /><rect x=\"272\" y=\"176\" width=\"16\" height=\"16\" class=\"square light\" stroke=\"none\" fill=\"#ffce9e\" opacity=\"1.0\" /><rect x=\"272\" y=\"192\" width=\"16\" height=\"16\" class=\"square dark\" stroke=\"none\" fill=\"#d18b47\" opacity=\"1.0\" /><rect x=\"272\" y=\"208\" width=\"16\" height=\"16\" class=\"square light\" stroke=\"none\" fill=\"#ffce9e\" opacity=\"1.0\" /><rect x=\"272\" y=\"224\" width=\"16\" height=\"16\" class=\"square dark\" stroke=\"none\" fill=\"#d18b47\" opacity=\"1.0\" /><rect x=\"272\" y=\"240\" width=\"16\" height=\"16\" class=\"square light\" stroke=\"none\" fill=\"#ffce9e\" opacity=\"1.0\" /><rect x=\"272\" y=\"256\" width=\"16\" height=\"16\" class=\"square dark\" stroke=\"none\" fill=\"#d18b47\" opacity=\"1.0\" /><rect x=\"272\" y=\"272\" width=\"16\" height=\"16\" class=\"square light\" stroke=\"none\" fill=\"#ffce9e\" opacity=\"1.0\" /><rect x=\"272\" y=\"288\" width=\"16\" height=\"16\" class=\"square dark\" stroke=\"none\" fill=\"#d18b47\" opacity=\"1.0\" /><rect x=\"272\" y=\"304\" width=\"16\" height=\"16\" class=\"square light\" stroke=\"none\" fill=\"#ffce9e\" opacity=\"1.0\" /><rect x=\"272\" y=\"320\" width=\"16\" height=\"16\" class=\"square dark\" stroke=\"none\" fill=\"#d18b47\" opacity=\"1.0\" /><rect x=\"272\" y=\"336\" width=\"16\" height=\"16\" class=\"square light\" stroke=\"none\" fill=\"#ffce9e\" opacity=\"1.0\" /><rect x=\"272\" y=\"352\" width=\"16\" height=\"16\" class=\"square dark\" stroke=\"none\" fill=\"#d18b47\" opacity=\"1.0\" /><rect x=\"272\" y=\"368\" width=\"16\" height=\"16\" class=\"square light\" stroke=\"none\" fill=\"#ffce9e\" opacity=\"1.0\" /><rect x=\"272\" y=\"384\" width=\"16\" height=\"16\" class=\"square dark\" stroke=\"none\" fill=\"#d18b47\" opacity=\"1.0\" /><rect x=\"272\" y=\"400\" width=\"16\" height=\"16\" class=\"square light\" stroke=\"none\" fill=\"#ffce9e\" opacity=\"1.0\" /><rect x=\"272\" y=\"416\" width=\"16\" height=\"16\" class=\"square dark\" stroke=\"none\" fill=\"#d18b47\" opacity=\"1.0\" /><rect x=\"272\" y=\"432\" width=\"16\" height=\"16\" class=\"square light\" stroke=\"none\" fill=\"#ffce9e\" opacity=\"1.0\" /><rect x=\"272\" y=\"448\" width=\"16\" height=\"16\" class=\"square dark\" stroke=\"none\" fill=\"#d18b47\" opacity=\"1.0\" /><rect x=\"272\" y=\"464\" width=\"16\" height=\"16\" class=\"square light\" stroke=\"none\" fill=\"#ffce9e\" opacity=\"1.0\" /><rect x=\"272\" y=\"480\" width=\"16\" height=\"16\" class=\"square dark\" stroke=\"none\" fill=\"#d18b47\" opacity=\"1.0\" /><rect x=\"272\" y=\"496\" width=\"16\" height=\"16\" class=\"square light\" stroke=\"none\" fill=\"#ffce9e\" opacity=\"1.0\" /><rect x=\"288\" y=\"0\" width=\"16\" height=\"16\" class=\"square light\" stroke=\"none\" fill=\"#ffce9e\" opacity=\"1.0\" /><rect x=\"288\" y=\"16\" width=\"16\" height=\"16\" class=\"square dark\" stroke=\"none\" fill=\"#d18b47\" opacity=\"1.0\" /><rect x=\"288\" y=\"32\" width=\"16\" height=\"16\" class=\"square light\" stroke=\"none\" fill=\"#ffce9e\" opacity=\"1.0\" /><rect x=\"288\" y=\"48\" width=\"16\" height=\"16\" class=\"square dark\" stroke=\"none\" fill=\"#d18b47\" opacity=\"1.0\" /><rect x=\"288\" y=\"64\" width=\"16\" height=\"16\" class=\"square light\" stroke=\"none\" fill=\"#ffce9e\" opacity=\"1.0\" /><rect x=\"288\" y=\"80\" width=\"16\" height=\"16\" class=\"square dark\" stroke=\"none\" fill=\"#d18b47\" opacity=\"1.0\" /><rect x=\"288\" y=\"96\" width=\"16\" height=\"16\" class=\"square light\" stroke=\"none\" fill=\"#ffce9e\" opacity=\"1.0\" /><rect x=\"288\" y=\"112\" width=\"16\" height=\"16\" class=\"square dark\" stroke=\"none\" fill=\"#d18b47\" opacity=\"1.0\" /><rect x=\"288\" y=\"128\" width=\"16\" height=\"16\" class=\"square light\" stroke=\"none\" fill=\"#ffce9e\" opacity=\"1.0\" /><rect x=\"288\" y=\"144\" width=\"16\" height=\"16\" class=\"square dark\" stroke=\"none\" fill=\"#d18b47\" opacity=\"1.0\" /><rect x=\"288\" y=\"160\" width=\"16\" height=\"16\" class=\"square light\" stroke=\"none\" fill=\"#ffce9e\" opacity=\"1.0\" /><rect x=\"288\" y=\"176\" width=\"16\" height=\"16\" class=\"square dark\" stroke=\"none\" fill=\"#d18b47\" opacity=\"1.0\" /><rect x=\"288\" y=\"192\" width=\"16\" height=\"16\" class=\"square light\" stroke=\"none\" fill=\"#ffce9e\" opacity=\"1.0\" /><rect x=\"288\" y=\"208\" width=\"16\" height=\"16\" class=\"square dark\" stroke=\"none\" fill=\"#d18b47\" opacity=\"1.0\" /><rect x=\"288\" y=\"224\" width=\"16\" height=\"16\" class=\"square light\" stroke=\"none\" fill=\"#ffce9e\" opacity=\"1.0\" /><rect x=\"288\" y=\"240\" width=\"16\" height=\"16\" class=\"square dark\" stroke=\"none\" fill=\"#d18b47\" opacity=\"1.0\" /><rect x=\"288\" y=\"256\" width=\"16\" height=\"16\" class=\"square light\" stroke=\"none\" fill=\"#ffce9e\" opacity=\"1.0\" /><rect x=\"288\" y=\"272\" width=\"16\" height=\"16\" class=\"square dark\" stroke=\"none\" fill=\"#d18b47\" opacity=\"1.0\" /><rect x=\"288\" y=\"288\" width=\"16\" height=\"16\" class=\"square light\" stroke=\"none\" fill=\"#ffce9e\" opacity=\"1.0\" /><rect x=\"288\" y=\"304\" width=\"16\" height=\"16\" class=\"square dark\" stroke=\"none\" fill=\"#d18b47\" opacity=\"1.0\" /><rect x=\"288\" y=\"320\" width=\"16\" height=\"16\" class=\"square light\" stroke=\"none\" fill=\"#ffce9e\" opacity=\"1.0\" /><rect x=\"288\" y=\"336\" width=\"16\" height=\"16\" class=\"square dark\" stroke=\"none\" fill=\"#d18b47\" opacity=\"1.0\" /><rect x=\"288\" y=\"352\" width=\"16\" height=\"16\" class=\"square light\" stroke=\"none\" fill=\"#ffce9e\" opacity=\"1.0\" /><rect x=\"288\" y=\"368\" width=\"16\" height=\"16\" class=\"square dark\" stroke=\"none\" fill=\"#d18b47\" opacity=\"1.0\" /><rect x=\"288\" y=\"384\" width=\"16\" height=\"16\" class=\"square light\" stroke=\"none\" fill=\"#ffce9e\" opacity=\"1.0\" /><rect x=\"288\" y=\"400\" width=\"16\" height=\"16\" class=\"square dark\" stroke=\"none\" fill=\"#d18b47\" opacity=\"1.0\" /><rect x=\"288\" y=\"416\" width=\"16\" height=\"16\" class=\"square light\" stroke=\"none\" fill=\"#ffce9e\" opacity=\"1.0\" /><rect x=\"288\" y=\"432\" width=\"16\" height=\"16\" class=\"square dark\" stroke=\"none\" fill=\"#d18b47\" opacity=\"1.0\" /><rect x=\"288\" y=\"448\" width=\"16\" height=\"16\" class=\"square light\" stroke=\"none\" fill=\"#ffce9e\" opacity=\"1.0\" /><rect x=\"288\" y=\"464\" width=\"16\" height=\"16\" class=\"square dark\" stroke=\"none\" fill=\"#d18b47\" opacity=\"1.0\" /><rect x=\"288\" y=\"480\" width=\"16\" height=\"16\" class=\"square light\" stroke=\"none\" fill=\"#ffce9e\" opacity=\"1.0\" /><rect x=\"288\" y=\"496\" width=\"16\" height=\"16\" class=\"square dark\" stroke=\"none\" fill=\"#d18b47\" opacity=\"1.0\" /><rect x=\"304\" y=\"0\" width=\"16\" height=\"16\" class=\"square dark\" stroke=\"none\" fill=\"#d18b47\" opacity=\"1.0\" /><rect x=\"304\" y=\"16\" width=\"16\" height=\"16\" class=\"square light\" stroke=\"none\" fill=\"#ffce9e\" opacity=\"1.0\" /><rect x=\"304\" y=\"32\" width=\"16\" height=\"16\" class=\"square dark\" stroke=\"none\" fill=\"#d18b47\" opacity=\"1.0\" /><rect x=\"304\" y=\"48\" width=\"16\" height=\"16\" class=\"square light\" stroke=\"none\" fill=\"#ffce9e\" opacity=\"1.0\" /><rect x=\"304\" y=\"64\" width=\"16\" height=\"16\" class=\"square dark\" stroke=\"none\" fill=\"#d18b47\" opacity=\"1.0\" /><rect x=\"304\" y=\"80\" width=\"16\" height=\"16\" class=\"square light\" stroke=\"none\" fill=\"#ffce9e\" opacity=\"1.0\" /><rect x=\"304\" y=\"96\" width=\"16\" height=\"16\" class=\"square dark\" stroke=\"none\" fill=\"#d18b47\" opacity=\"1.0\" /><rect x=\"304\" y=\"112\" width=\"16\" height=\"16\" class=\"square light\" stroke=\"none\" fill=\"#ffce9e\" opacity=\"1.0\" /><rect x=\"304\" y=\"128\" width=\"16\" height=\"16\" class=\"square dark\" stroke=\"none\" fill=\"#d18b47\" opacity=\"1.0\" /><rect x=\"304\" y=\"144\" width=\"16\" height=\"16\" class=\"square light\" stroke=\"none\" fill=\"#ffce9e\" opacity=\"1.0\" /><rect x=\"304\" y=\"160\" width=\"16\" height=\"16\" class=\"square dark\" stroke=\"none\" fill=\"#d18b47\" opacity=\"1.0\" /><rect x=\"304\" y=\"176\" width=\"16\" height=\"16\" class=\"square light\" stroke=\"none\" fill=\"#ffce9e\" opacity=\"1.0\" /><rect x=\"304\" y=\"192\" width=\"16\" height=\"16\" class=\"square dark\" stroke=\"none\" fill=\"#d18b47\" opacity=\"1.0\" /><rect x=\"304\" y=\"208\" width=\"16\" height=\"16\" class=\"square light\" stroke=\"none\" fill=\"#ffce9e\" opacity=\"1.0\" /><rect x=\"304\" y=\"224\" width=\"16\" height=\"16\" class=\"square dark\" stroke=\"none\" fill=\"#d18b47\" opacity=\"1.0\" /><rect x=\"304\" y=\"240\" width=\"16\" height=\"16\" class=\"square light\" stroke=\"none\" fill=\"#ffce9e\" opacity=\"1.0\" /><rect x=\"304\" y=\"256\" width=\"16\" height=\"16\" class=\"square dark\" stroke=\"none\" fill=\"#d18b47\" opacity=\"1.0\" /><rect x=\"304\" y=\"272\" width=\"16\" height=\"16\" class=\"square light\" stroke=\"none\" fill=\"#ffce9e\" opacity=\"1.0\" /><rect x=\"304\" y=\"288\" width=\"16\" height=\"16\" class=\"square dark\" stroke=\"none\" fill=\"#d18b47\" opacity=\"1.0\" /><rect x=\"304\" y=\"304\" width=\"16\" height=\"16\" class=\"square light\" stroke=\"none\" fill=\"#ffce9e\" opacity=\"1.0\" /><rect x=\"304\" y=\"320\" width=\"16\" height=\"16\" class=\"square dark\" stroke=\"none\" fill=\"#d18b47\" opacity=\"1.0\" /><rect x=\"304\" y=\"336\" width=\"16\" height=\"16\" class=\"square light\" stroke=\"none\" fill=\"#ffce9e\" opacity=\"1.0\" /><rect x=\"304\" y=\"352\" width=\"16\" height=\"16\" class=\"square dark\" stroke=\"none\" fill=\"#d18b47\" opacity=\"1.0\" /><rect x=\"304\" y=\"368\" width=\"16\" height=\"16\" class=\"square light\" stroke=\"none\" fill=\"#ffce9e\" opacity=\"1.0\" /><rect x=\"304\" y=\"384\" width=\"16\" height=\"16\" class=\"square dark\" stroke=\"none\" fill=\"#d18b47\" opacity=\"1.0\" /><rect x=\"304\" y=\"400\" width=\"16\" height=\"16\" class=\"square light\" stroke=\"none\" fill=\"#ffce9e\" opacity=\"1.0\" /><rect x=\"304\" y=\"416\" width=\"16\" height=\"16\" class=\"square dark\" stroke=\"none\" fill=\"#d18b47\" opacity=\"1.0\" /><rect x=\"304\" y=\"432\" width=\"16\" height=\"16\" class=\"square light\" stroke=\"none\" fill=\"#ffce9e\" opacity=\"1.0\" /><rect x=\"304\" y=\"448\" width=\"16\" height=\"16\" class=\"square dark\" stroke=\"none\" fill=\"#d18b47\" opacity=\"1.0\" /><rect x=\"304\" y=\"464\" width=\"16\" height=\"16\" class=\"square light\" stroke=\"none\" fill=\"#ffce9e\" opacity=\"1.0\" /><rect x=\"304\" y=\"480\" width=\"16\" height=\"16\" class=\"square dark\" stroke=\"none\" fill=\"#d18b47\" opacity=\"1.0\" /><rect x=\"304\" y=\"496\" width=\"16\" height=\"16\" class=\"square light\" stroke=\"none\" fill=\"#ffce9e\" opacity=\"1.0\" /><rect x=\"320\" y=\"0\" width=\"16\" height=\"16\" class=\"square light\" stroke=\"none\" fill=\"#ffce9e\" opacity=\"1.0\" /><rect x=\"320\" y=\"16\" width=\"16\" height=\"16\" class=\"square dark\" stroke=\"none\" fill=\"#d18b47\" opacity=\"1.0\" /><rect x=\"320\" y=\"32\" width=\"16\" height=\"16\" class=\"square light\" stroke=\"none\" fill=\"#ffce9e\" opacity=\"1.0\" /><rect x=\"320\" y=\"48\" width=\"16\" height=\"16\" class=\"square dark\" stroke=\"none\" fill=\"#d18b47\" opacity=\"1.0\" /><rect x=\"320\" y=\"64\" width=\"16\" height=\"16\" class=\"square light\" stroke=\"none\" fill=\"#ffce9e\" opacity=\"1.0\" /><rect x=\"320\" y=\"80\" width=\"16\" height=\"16\" class=\"square dark\" stroke=\"none\" fill=\"#d18b47\" opacity=\"1.0\" /><rect x=\"320\" y=\"96\" width=\"16\" height=\"16\" class=\"square light\" stroke=\"none\" fill=\"#ffce9e\" opacity=\"1.0\" /><rect x=\"320\" y=\"112\" width=\"16\" height=\"16\" class=\"square dark\" stroke=\"none\" fill=\"#d18b47\" opacity=\"1.0\" /><rect x=\"320\" y=\"128\" width=\"16\" height=\"16\" class=\"square light\" stroke=\"none\" fill=\"#ffce9e\" opacity=\"1.0\" /><rect x=\"320\" y=\"144\" width=\"16\" height=\"16\" class=\"square dark\" stroke=\"none\" fill=\"#d18b47\" opacity=\"1.0\" /><rect x=\"320\" y=\"160\" width=\"16\" height=\"16\" class=\"square light\" stroke=\"none\" fill=\"#ffce9e\" opacity=\"1.0\" /><rect x=\"320\" y=\"176\" width=\"16\" height=\"16\" class=\"square dark\" stroke=\"none\" fill=\"#d18b47\" opacity=\"1.0\" /><rect x=\"320\" y=\"192\" width=\"16\" height=\"16\" class=\"square light\" stroke=\"none\" fill=\"#ffce9e\" opacity=\"1.0\" /><rect x=\"320\" y=\"208\" width=\"16\" height=\"16\" class=\"square dark\" stroke=\"none\" fill=\"#d18b47\" opacity=\"1.0\" /><rect x=\"320\" y=\"224\" width=\"16\" height=\"16\" class=\"square light\" stroke=\"none\" fill=\"#ffce9e\" opacity=\"1.0\" /><rect x=\"320\" y=\"240\" width=\"16\" height=\"16\" class=\"square dark\" stroke=\"none\" fill=\"#d18b47\" opacity=\"1.0\" /><rect x=\"320\" y=\"256\" width=\"16\" height=\"16\" class=\"square light\" stroke=\"none\" fill=\"#ffce9e\" opacity=\"1.0\" /><rect x=\"320\" y=\"272\" width=\"16\" height=\"16\" class=\"square dark\" stroke=\"none\" fill=\"#d18b47\" opacity=\"1.0\" /><rect x=\"320\" y=\"288\" width=\"16\" height=\"16\" class=\"square light\" stroke=\"none\" fill=\"#ffce9e\" opacity=\"1.0\" /><rect x=\"320\" y=\"304\" width=\"16\" height=\"16\" class=\"square dark\" stroke=\"none\" fill=\"#d18b47\" opacity=\"1.0\" /><rect x=\"320\" y=\"320\" width=\"16\" height=\"16\" class=\"square light\" stroke=\"none\" fill=\"#ffce9e\" opacity=\"1.0\" /><rect x=\"320\" y=\"336\" width=\"16\" height=\"16\" class=\"square dark\" stroke=\"none\" fill=\"#d18b47\" opacity=\"1.0\" /><rect x=\"320\" y=\"352\" width=\"16\" height=\"16\" class=\"square light\" stroke=\"none\" fill=\"#ffce9e\" opacity=\"1.0\" /><rect x=\"320\" y=\"368\" width=\"16\" height=\"16\" class=\"square dark\" stroke=\"none\" fill=\"#d18b47\" opacity=\"1.0\" /><rect x=\"320\" y=\"384\" width=\"16\" height=\"16\" class=\"square light\" stroke=\"none\" fill=\"#ffce9e\" opacity=\"1.0\" /><rect x=\"320\" y=\"400\" width=\"16\" height=\"16\" class=\"square dark\" stroke=\"none\" fill=\"#d18b47\" opacity=\"1.0\" /><rect x=\"320\" y=\"416\" width=\"16\" height=\"16\" class=\"square light\" stroke=\"none\" fill=\"#ffce9e\" opacity=\"1.0\" /><rect x=\"320\" y=\"432\" width=\"16\" height=\"16\" class=\"square dark\" stroke=\"none\" fill=\"#d18b47\" opacity=\"1.0\" /><rect x=\"320\" y=\"448\" width=\"16\" height=\"16\" class=\"square light\" stroke=\"none\" fill=\"#ffce9e\" opacity=\"1.0\" /><rect x=\"320\" y=\"464\" width=\"16\" height=\"16\" class=\"square dark\" stroke=\"none\" fill=\"#d18b47\" opacity=\"1.0\" /><rect x=\"320\" y=\"480\" width=\"16\" height=\"16\" class=\"square light\" stroke=\"none\" fill=\"#ffce9e\" opacity=\"1.0\" /><rect x=\"320\" y=\"496\" width=\"16\" height=\"16\" class=\"square dark\" stroke=\"none\" fill=\"#d18b47\" opacity=\"1.0\" /><rect x=\"336\" y=\"0\" width=\"16\" height=\"16\" class=\"square dark\" stroke=\"none\" fill=\"#d18b47\" opacity=\"1.0\" /><rect x=\"336\" y=\"16\" width=\"16\" height=\"16\" class=\"square light\" stroke=\"none\" fill=\"#ffce9e\" opacity=\"1.0\" /><rect x=\"336\" y=\"32\" width=\"16\" height=\"16\" class=\"square dark\" stroke=\"none\" fill=\"#d18b47\" opacity=\"1.0\" /><rect x=\"336\" y=\"48\" width=\"16\" height=\"16\" class=\"square light\" stroke=\"none\" fill=\"#ffce9e\" opacity=\"1.0\" /><rect x=\"336\" y=\"64\" width=\"16\" height=\"16\" class=\"square dark\" stroke=\"none\" fill=\"#d18b47\" opacity=\"1.0\" /><rect x=\"336\" y=\"80\" width=\"16\" height=\"16\" class=\"square light\" stroke=\"none\" fill=\"#ffce9e\" opacity=\"1.0\" /><rect x=\"336\" y=\"96\" width=\"16\" height=\"16\" class=\"square dark\" stroke=\"none\" fill=\"#d18b47\" opacity=\"1.0\" /><rect x=\"336\" y=\"112\" width=\"16\" height=\"16\" class=\"square light\" stroke=\"none\" fill=\"#ffce9e\" opacity=\"1.0\" /><rect x=\"336\" y=\"128\" width=\"16\" height=\"16\" class=\"square dark\" stroke=\"none\" fill=\"#d18b47\" opacity=\"1.0\" /><rect x=\"336\" y=\"144\" width=\"16\" height=\"16\" class=\"square light\" stroke=\"none\" fill=\"#ffce9e\" opacity=\"1.0\" /><rect x=\"336\" y=\"160\" width=\"16\" height=\"16\" class=\"square dark\" stroke=\"none\" fill=\"#d18b47\" opacity=\"1.0\" /><rect x=\"336\" y=\"176\" width=\"16\" height=\"16\" class=\"square light\" stroke=\"none\" fill=\"#ffce9e\" opacity=\"1.0\" /><rect x=\"336\" y=\"192\" width=\"16\" height=\"16\" class=\"square dark\" stroke=\"none\" fill=\"#d18b47\" opacity=\"1.0\" /><rect x=\"336\" y=\"208\" width=\"16\" height=\"16\" class=\"square light\" stroke=\"none\" fill=\"#ffce9e\" opacity=\"1.0\" /><rect x=\"336\" y=\"224\" width=\"16\" height=\"16\" class=\"square dark\" stroke=\"none\" fill=\"#d18b47\" opacity=\"1.0\" /><rect x=\"336\" y=\"240\" width=\"16\" height=\"16\" class=\"square light\" stroke=\"none\" fill=\"#ffce9e\" opacity=\"1.0\" /><rect x=\"336\" y=\"256\" width=\"16\" height=\"16\" class=\"square dark\" stroke=\"none\" fill=\"#d18b47\" opacity=\"1.0\" /><rect x=\"336\" y=\"272\" width=\"16\" height=\"16\" class=\"square light\" stroke=\"none\" fill=\"#ffce9e\" opacity=\"1.0\" /><rect x=\"336\" y=\"288\" width=\"16\" height=\"16\" class=\"square dark\" stroke=\"none\" fill=\"#d18b47\" opacity=\"1.0\" /><rect x=\"336\" y=\"304\" width=\"16\" height=\"16\" class=\"square light\" stroke=\"none\" fill=\"#ffce9e\" opacity=\"1.0\" /><rect x=\"336\" y=\"320\" width=\"16\" height=\"16\" class=\"square dark\" stroke=\"none\" fill=\"#d18b47\" opacity=\"1.0\" /><rect x=\"336\" y=\"336\" width=\"16\" height=\"16\" class=\"square light\" stroke=\"none\" fill=\"#ffce9e\" opacity=\"1.0\" /><rect x=\"336\" y=\"352\" width=\"16\" height=\"16\" class=\"square dark\" stroke=\"none\" fill=\"#d18b47\" opacity=\"1.0\" /><rect x=\"336\" y=\"368\" width=\"16\" height=\"16\" class=\"square light\" stroke=\"none\" fill=\"#ffce9e\" opacity=\"1.0\" /><rect x=\"336\" y=\"384\" width=\"16\" height=\"16\" class=\"square dark\" stroke=\"none\" fill=\"#d18b47\" opacity=\"1.0\" /><rect x=\"336\" y=\"400\" width=\"16\" height=\"16\" class=\"square light\" stroke=\"none\" fill=\"#ffce9e\" opacity=\"1.0\" /><rect x=\"336\" y=\"416\" width=\"16\" height=\"16\" class=\"square dark\" stroke=\"none\" fill=\"#d18b47\" opacity=\"1.0\" /><rect x=\"336\" y=\"432\" width=\"16\" height=\"16\" class=\"square light\" stroke=\"none\" fill=\"#ffce9e\" opacity=\"1.0\" /><rect x=\"336\" y=\"448\" width=\"16\" height=\"16\" class=\"square dark\" stroke=\"none\" fill=\"#d18b47\" opacity=\"1.0\" /><rect x=\"336\" y=\"464\" width=\"16\" height=\"16\" class=\"square light\" stroke=\"none\" fill=\"#ffce9e\" opacity=\"1.0\" /><rect x=\"336\" y=\"480\" width=\"16\" height=\"16\" class=\"square dark\" stroke=\"none\" fill=\"#d18b47\" opacity=\"1.0\" /><rect x=\"336\" y=\"496\" width=\"16\" height=\"16\" class=\"square light\" stroke=\"none\" fill=\"#ffce9e\" opacity=\"1.0\" /><rect x=\"352\" y=\"0\" width=\"16\" height=\"16\" class=\"square light\" stroke=\"none\" fill=\"#ffce9e\" opacity=\"1.0\" /><rect x=\"352\" y=\"16\" width=\"16\" height=\"16\" class=\"square dark\" stroke=\"none\" fill=\"#d18b47\" opacity=\"1.0\" /><rect x=\"352\" y=\"32\" width=\"16\" height=\"16\" class=\"square light\" stroke=\"none\" fill=\"#ffce9e\" opacity=\"1.0\" /><rect x=\"352\" y=\"48\" width=\"16\" height=\"16\" class=\"square dark\" stroke=\"none\" fill=\"#d18b47\" opacity=\"1.0\" /><rect x=\"352\" y=\"64\" width=\"16\" height=\"16\" class=\"square light\" stroke=\"none\" fill=\"#ffce9e\" opacity=\"1.0\" /><rect x=\"352\" y=\"80\" width=\"16\" height=\"16\" class=\"square dark\" stroke=\"none\" fill=\"#d18b47\" opacity=\"1.0\" /><rect x=\"352\" y=\"96\" width=\"16\" height=\"16\" class=\"square light\" stroke=\"none\" fill=\"#ffce9e\" opacity=\"1.0\" /><rect x=\"352\" y=\"112\" width=\"16\" height=\"16\" class=\"square dark\" stroke=\"none\" fill=\"#d18b47\" opacity=\"1.0\" /><rect x=\"352\" y=\"128\" width=\"16\" height=\"16\" class=\"square light\" stroke=\"none\" fill=\"#ffce9e\" opacity=\"1.0\" /><rect x=\"352\" y=\"144\" width=\"16\" height=\"16\" class=\"square dark\" stroke=\"none\" fill=\"#d18b47\" opacity=\"1.0\" /><rect x=\"352\" y=\"160\" width=\"16\" height=\"16\" class=\"square light\" stroke=\"none\" fill=\"#ffce9e\" opacity=\"1.0\" /><rect x=\"352\" y=\"176\" width=\"16\" height=\"16\" class=\"square dark\" stroke=\"none\" fill=\"#d18b47\" opacity=\"1.0\" /><rect x=\"352\" y=\"192\" width=\"16\" height=\"16\" class=\"square light\" stroke=\"none\" fill=\"#ffce9e\" opacity=\"1.0\" /><rect x=\"352\" y=\"208\" width=\"16\" height=\"16\" class=\"square dark\" stroke=\"none\" fill=\"#d18b47\" opacity=\"1.0\" /><rect x=\"352\" y=\"224\" width=\"16\" height=\"16\" class=\"square light\" stroke=\"none\" fill=\"#ffce9e\" opacity=\"1.0\" /><rect x=\"352\" y=\"240\" width=\"16\" height=\"16\" class=\"square dark\" stroke=\"none\" fill=\"#d18b47\" opacity=\"1.0\" /><rect x=\"352\" y=\"256\" width=\"16\" height=\"16\" class=\"square light\" stroke=\"none\" fill=\"#ffce9e\" opacity=\"1.0\" /><rect x=\"352\" y=\"272\" width=\"16\" height=\"16\" class=\"square dark\" stroke=\"none\" fill=\"#d18b47\" opacity=\"1.0\" /><rect x=\"352\" y=\"288\" width=\"16\" height=\"16\" class=\"square light\" stroke=\"none\" fill=\"#ffce9e\" opacity=\"1.0\" /><rect x=\"352\" y=\"304\" width=\"16\" height=\"16\" class=\"square dark\" stroke=\"none\" fill=\"#d18b47\" opacity=\"1.0\" /><rect x=\"352\" y=\"320\" width=\"16\" height=\"16\" class=\"square light\" stroke=\"none\" fill=\"#ffce9e\" opacity=\"1.0\" /><rect x=\"352\" y=\"336\" width=\"16\" height=\"16\" class=\"square dark\" stroke=\"none\" fill=\"#d18b47\" opacity=\"1.0\" /><rect x=\"352\" y=\"352\" width=\"16\" height=\"16\" class=\"square light\" stroke=\"none\" fill=\"#ffce9e\" opacity=\"1.0\" /><rect x=\"352\" y=\"368\" width=\"16\" height=\"16\" class=\"square dark\" stroke=\"none\" fill=\"#d18b47\" opacity=\"1.0\" /><rect x=\"352\" y=\"384\" width=\"16\" height=\"16\" class=\"square light\" stroke=\"none\" fill=\"#ffce9e\" opacity=\"1.0\" /><rect x=\"352\" y=\"400\" width=\"16\" height=\"16\" class=\"square dark\" stroke=\"none\" fill=\"#d18b47\" opacity=\"1.0\" /><rect x=\"352\" y=\"416\" width=\"16\" height=\"16\" class=\"square light\" stroke=\"none\" fill=\"#ffce9e\" opacity=\"1.0\" /><rect x=\"352\" y=\"432\" width=\"16\" height=\"16\" class=\"square dark\" stroke=\"none\" fill=\"#d18b47\" opacity=\"1.0\" /><rect x=\"352\" y=\"448\" width=\"16\" height=\"16\" class=\"square light\" stroke=\"none\" fill=\"#ffce9e\" opacity=\"1.0\" /><rect x=\"352\" y=\"464\" width=\"16\" height=\"16\" class=\"square dark\" stroke=\"none\" fill=\"#d18b47\" opacity=\"1.0\" /><rect x=\"352\" y=\"480\" width=\"16\" height=\"16\" class=\"square light\" stroke=\"none\" fill=\"#ffce9e\" opacity=\"1.0\" /><rect x=\"352\" y=\"496\" width=\"16\" height=\"16\" class=\"square dark\" stroke=\"none\" fill=\"#d18b47\" opacity=\"1.0\" /><rect x=\"368\" y=\"0\" width=\"16\" height=\"16\" class=\"square dark\" stroke=\"none\" fill=\"#d18b47\" opacity=\"1.0\" /><rect x=\"368\" y=\"16\" width=\"16\" height=\"16\" class=\"square light\" stroke=\"none\" fill=\"#ffce9e\" opacity=\"1.0\" /><rect x=\"368\" y=\"32\" width=\"16\" height=\"16\" class=\"square dark\" stroke=\"none\" fill=\"#d18b47\" opacity=\"1.0\" /><rect x=\"368\" y=\"48\" width=\"16\" height=\"16\" class=\"square light\" stroke=\"none\" fill=\"#ffce9e\" opacity=\"1.0\" /><rect x=\"368\" y=\"64\" width=\"16\" height=\"16\" class=\"square dark\" stroke=\"none\" fill=\"#d18b47\" opacity=\"1.0\" /><rect x=\"368\" y=\"80\" width=\"16\" height=\"16\" class=\"square light\" stroke=\"none\" fill=\"#ffce9e\" opacity=\"1.0\" /><rect x=\"368\" y=\"96\" width=\"16\" height=\"16\" class=\"square dark\" stroke=\"none\" fill=\"#d18b47\" opacity=\"1.0\" /><rect x=\"368\" y=\"112\" width=\"16\" height=\"16\" class=\"square light\" stroke=\"none\" fill=\"#ffce9e\" opacity=\"1.0\" /><rect x=\"368\" y=\"128\" width=\"16\" height=\"16\" class=\"square dark\" stroke=\"none\" fill=\"#d18b47\" opacity=\"1.0\" /><rect x=\"368\" y=\"144\" width=\"16\" height=\"16\" class=\"square light\" stroke=\"none\" fill=\"#ffce9e\" opacity=\"1.0\" /><rect x=\"368\" y=\"160\" width=\"16\" height=\"16\" class=\"square dark\" stroke=\"none\" fill=\"#d18b47\" opacity=\"1.0\" /><rect x=\"368\" y=\"176\" width=\"16\" height=\"16\" class=\"square light\" stroke=\"none\" fill=\"#ffce9e\" opacity=\"1.0\" /><rect x=\"368\" y=\"192\" width=\"16\" height=\"16\" class=\"square dark\" stroke=\"none\" fill=\"#d18b47\" opacity=\"1.0\" /><rect x=\"368\" y=\"208\" width=\"16\" height=\"16\" class=\"square light\" stroke=\"none\" fill=\"#ffce9e\" opacity=\"1.0\" /><rect x=\"368\" y=\"224\" width=\"16\" height=\"16\" class=\"square dark\" stroke=\"none\" fill=\"#d18b47\" opacity=\"1.0\" /><rect x=\"368\" y=\"240\" width=\"16\" height=\"16\" class=\"square light\" stroke=\"none\" fill=\"#ffce9e\" opacity=\"1.0\" /><rect x=\"368\" y=\"256\" width=\"16\" height=\"16\" class=\"square dark\" stroke=\"none\" fill=\"#d18b47\" opacity=\"1.0\" /><rect x=\"368\" y=\"272\" width=\"16\" height=\"16\" class=\"square light\" stroke=\"none\" fill=\"#ffce9e\" opacity=\"1.0\" /><rect x=\"368\" y=\"288\" width=\"16\" height=\"16\" class=\"square dark\" stroke=\"none\" fill=\"#d18b47\" opacity=\"1.0\" /><rect x=\"368\" y=\"304\" width=\"16\" height=\"16\" class=\"square light\" stroke=\"none\" fill=\"#ffce9e\" opacity=\"1.0\" /><rect x=\"368\" y=\"320\" width=\"16\" height=\"16\" class=\"square dark\" stroke=\"none\" fill=\"#d18b47\" opacity=\"1.0\" /><rect x=\"368\" y=\"336\" width=\"16\" height=\"16\" class=\"square light\" stroke=\"none\" fill=\"#ffce9e\" opacity=\"1.0\" /><rect x=\"368\" y=\"352\" width=\"16\" height=\"16\" class=\"square dark\" stroke=\"none\" fill=\"#d18b47\" opacity=\"1.0\" /><rect x=\"368\" y=\"368\" width=\"16\" height=\"16\" class=\"square light\" stroke=\"none\" fill=\"#ffce9e\" opacity=\"1.0\" /><rect x=\"368\" y=\"384\" width=\"16\" height=\"16\" class=\"square dark\" stroke=\"none\" fill=\"#d18b47\" opacity=\"1.0\" /><rect x=\"368\" y=\"400\" width=\"16\" height=\"16\" class=\"square light\" stroke=\"none\" fill=\"#ffce9e\" opacity=\"1.0\" /><rect x=\"368\" y=\"416\" width=\"16\" height=\"16\" class=\"square dark\" stroke=\"none\" fill=\"#d18b47\" opacity=\"1.0\" /><rect x=\"368\" y=\"432\" width=\"16\" height=\"16\" class=\"square light\" stroke=\"none\" fill=\"#ffce9e\" opacity=\"1.0\" /><rect x=\"368\" y=\"448\" width=\"16\" height=\"16\" class=\"square dark\" stroke=\"none\" fill=\"#d18b47\" opacity=\"1.0\" /><rect x=\"368\" y=\"464\" width=\"16\" height=\"16\" class=\"square light\" stroke=\"none\" fill=\"#ffce9e\" opacity=\"1.0\" /><rect x=\"368\" y=\"480\" width=\"16\" height=\"16\" class=\"square dark\" stroke=\"none\" fill=\"#d18b47\" opacity=\"1.0\" /><rect x=\"368\" y=\"496\" width=\"16\" height=\"16\" class=\"square light\" stroke=\"none\" fill=\"#ffce9e\" opacity=\"1.0\" /><rect x=\"384\" y=\"0\" width=\"16\" height=\"16\" class=\"square light\" stroke=\"none\" fill=\"#ffce9e\" opacity=\"1.0\" /><rect x=\"384\" y=\"16\" width=\"16\" height=\"16\" class=\"square dark\" stroke=\"none\" fill=\"#d18b47\" opacity=\"1.0\" /><rect x=\"384\" y=\"32\" width=\"16\" height=\"16\" class=\"square light\" stroke=\"none\" fill=\"#ffce9e\" opacity=\"1.0\" /><rect x=\"384\" y=\"48\" width=\"16\" height=\"16\" class=\"square dark\" stroke=\"none\" fill=\"#d18b47\" opacity=\"1.0\" /><rect x=\"384\" y=\"64\" width=\"16\" height=\"16\" class=\"square light\" stroke=\"none\" fill=\"#ffce9e\" opacity=\"1.0\" /><rect x=\"384\" y=\"80\" width=\"16\" height=\"16\" class=\"square dark\" stroke=\"none\" fill=\"#d18b47\" opacity=\"1.0\" /><rect x=\"384\" y=\"96\" width=\"16\" height=\"16\" class=\"square light\" stroke=\"none\" fill=\"#ffce9e\" opacity=\"1.0\" /><rect x=\"384\" y=\"112\" width=\"16\" height=\"16\" class=\"square dark\" stroke=\"none\" fill=\"#d18b47\" opacity=\"1.0\" /><rect x=\"384\" y=\"128\" width=\"16\" height=\"16\" class=\"square light\" stroke=\"none\" fill=\"#ffce9e\" opacity=\"1.0\" /><rect x=\"384\" y=\"144\" width=\"16\" height=\"16\" class=\"square dark\" stroke=\"none\" fill=\"#d18b47\" opacity=\"1.0\" /><rect x=\"384\" y=\"160\" width=\"16\" height=\"16\" class=\"square light\" stroke=\"none\" fill=\"#ffce9e\" opacity=\"1.0\" /><rect x=\"384\" y=\"176\" width=\"16\" height=\"16\" class=\"square dark\" stroke=\"none\" fill=\"#d18b47\" opacity=\"1.0\" /><rect x=\"384\" y=\"192\" width=\"16\" height=\"16\" class=\"square light\" stroke=\"none\" fill=\"#ffce9e\" opacity=\"1.0\" /><rect x=\"384\" y=\"208\" width=\"16\" height=\"16\" class=\"square dark\" stroke=\"none\" fill=\"#d18b47\" opacity=\"1.0\" /><rect x=\"384\" y=\"224\" width=\"16\" height=\"16\" class=\"square light\" stroke=\"none\" fill=\"#ffce9e\" opacity=\"1.0\" /><rect x=\"384\" y=\"240\" width=\"16\" height=\"16\" class=\"square dark\" stroke=\"none\" fill=\"#d18b47\" opacity=\"1.0\" /><rect x=\"384\" y=\"256\" width=\"16\" height=\"16\" class=\"square light\" stroke=\"none\" fill=\"#ffce9e\" opacity=\"1.0\" /><rect x=\"384\" y=\"272\" width=\"16\" height=\"16\" class=\"square dark\" stroke=\"none\" fill=\"#d18b47\" opacity=\"1.0\" /><rect x=\"384\" y=\"288\" width=\"16\" height=\"16\" class=\"square light\" stroke=\"none\" fill=\"#ffce9e\" opacity=\"1.0\" /><rect x=\"384\" y=\"304\" width=\"16\" height=\"16\" class=\"square dark\" stroke=\"none\" fill=\"#d18b47\" opacity=\"1.0\" /><rect x=\"384\" y=\"320\" width=\"16\" height=\"16\" class=\"square light\" stroke=\"none\" fill=\"#ffce9e\" opacity=\"1.0\" /><rect x=\"384\" y=\"336\" width=\"16\" height=\"16\" class=\"square dark\" stroke=\"none\" fill=\"#d18b47\" opacity=\"1.0\" /><rect x=\"384\" y=\"352\" width=\"16\" height=\"16\" class=\"square light\" stroke=\"none\" fill=\"#ffce9e\" opacity=\"1.0\" /><rect x=\"384\" y=\"368\" width=\"16\" height=\"16\" class=\"square dark\" stroke=\"none\" fill=\"#d18b47\" opacity=\"1.0\" /><rect x=\"384\" y=\"384\" width=\"16\" height=\"16\" class=\"square light\" stroke=\"none\" fill=\"#ffce9e\" opacity=\"1.0\" /><rect x=\"384\" y=\"400\" width=\"16\" height=\"16\" class=\"square dark\" stroke=\"none\" fill=\"#d18b47\" opacity=\"1.0\" /><rect x=\"384\" y=\"416\" width=\"16\" height=\"16\" class=\"square light\" stroke=\"none\" fill=\"#ffce9e\" opacity=\"1.0\" /><rect x=\"384\" y=\"432\" width=\"16\" height=\"16\" class=\"square dark\" stroke=\"none\" fill=\"#d18b47\" opacity=\"1.0\" /><rect x=\"384\" y=\"448\" width=\"16\" height=\"16\" class=\"square light\" stroke=\"none\" fill=\"#ffce9e\" opacity=\"1.0\" /><rect x=\"384\" y=\"464\" width=\"16\" height=\"16\" class=\"square dark\" stroke=\"none\" fill=\"#d18b47\" opacity=\"1.0\" /><rect x=\"384\" y=\"480\" width=\"16\" height=\"16\" class=\"square light\" stroke=\"none\" fill=\"#ffce9e\" opacity=\"1.0\" /><rect x=\"384\" y=\"496\" width=\"16\" height=\"16\" class=\"square dark\" stroke=\"none\" fill=\"#d18b47\" opacity=\"1.0\" /><rect x=\"400\" y=\"0\" width=\"16\" height=\"16\" class=\"square dark\" stroke=\"none\" fill=\"#d18b47\" opacity=\"1.0\" /><rect x=\"400\" y=\"16\" width=\"16\" height=\"16\" class=\"square light\" stroke=\"none\" fill=\"#ffce9e\" opacity=\"1.0\" /><rect x=\"400\" y=\"32\" width=\"16\" height=\"16\" class=\"square dark\" stroke=\"none\" fill=\"#d18b47\" opacity=\"1.0\" /><rect x=\"400\" y=\"48\" width=\"16\" height=\"16\" class=\"square light\" stroke=\"none\" fill=\"#ffce9e\" opacity=\"1.0\" /><rect x=\"400\" y=\"64\" width=\"16\" height=\"16\" class=\"square dark\" stroke=\"none\" fill=\"#d18b47\" opacity=\"1.0\" /><rect x=\"400\" y=\"80\" width=\"16\" height=\"16\" class=\"square light\" stroke=\"none\" fill=\"#ffce9e\" opacity=\"1.0\" /><rect x=\"400\" y=\"96\" width=\"16\" height=\"16\" class=\"square dark\" stroke=\"none\" fill=\"#d18b47\" opacity=\"1.0\" /><rect x=\"400\" y=\"112\" width=\"16\" height=\"16\" class=\"square light\" stroke=\"none\" fill=\"#ffce9e\" opacity=\"1.0\" /><rect x=\"400\" y=\"128\" width=\"16\" height=\"16\" class=\"square dark\" stroke=\"none\" fill=\"#d18b47\" opacity=\"1.0\" /><rect x=\"400\" y=\"144\" width=\"16\" height=\"16\" class=\"square light\" stroke=\"none\" fill=\"#ffce9e\" opacity=\"1.0\" /><rect x=\"400\" y=\"160\" width=\"16\" height=\"16\" class=\"square dark\" stroke=\"none\" fill=\"#d18b47\" opacity=\"1.0\" /><rect x=\"400\" y=\"176\" width=\"16\" height=\"16\" class=\"square light\" stroke=\"none\" fill=\"#ffce9e\" opacity=\"1.0\" /><rect x=\"400\" y=\"192\" width=\"16\" height=\"16\" class=\"square dark\" stroke=\"none\" fill=\"#d18b47\" opacity=\"1.0\" /><rect x=\"400\" y=\"208\" width=\"16\" height=\"16\" class=\"square light\" stroke=\"none\" fill=\"#ffce9e\" opacity=\"1.0\" /><rect x=\"400\" y=\"224\" width=\"16\" height=\"16\" class=\"square dark\" stroke=\"none\" fill=\"#d18b47\" opacity=\"1.0\" /><rect x=\"400\" y=\"240\" width=\"16\" height=\"16\" class=\"square light\" stroke=\"none\" fill=\"#ffce9e\" opacity=\"1.0\" /><rect x=\"400\" y=\"256\" width=\"16\" height=\"16\" class=\"square dark\" stroke=\"none\" fill=\"#d18b47\" opacity=\"1.0\" /><rect x=\"400\" y=\"272\" width=\"16\" height=\"16\" class=\"square light\" stroke=\"none\" fill=\"#ffce9e\" opacity=\"1.0\" /><rect x=\"400\" y=\"288\" width=\"16\" height=\"16\" class=\"square dark\" stroke=\"none\" fill=\"#d18b47\" opacity=\"1.0\" /><rect x=\"400\" y=\"304\" width=\"16\" height=\"16\" class=\"square light\" stroke=\"none\" fill=\"#ffce9e\" opacity=\"1.0\" /><rect x=\"400\" y=\"320\" width=\"16\" height=\"16\" class=\"square dark\" stroke=\"none\" fill=\"#d18b47\" opacity=\"1.0\" /><rect x=\"400\" y=\"336\" width=\"16\" height=\"16\" class=\"square light\" stroke=\"none\" fill=\"#ffce9e\" opacity=\"1.0\" /><rect x=\"400\" y=\"352\" width=\"16\" height=\"16\" class=\"square dark\" stroke=\"none\" fill=\"#d18b47\" opacity=\"1.0\" /><rect x=\"400\" y=\"368\" width=\"16\" height=\"16\" class=\"square light\" stroke=\"none\" fill=\"#ffce9e\" opacity=\"1.0\" /><rect x=\"400\" y=\"384\" width=\"16\" height=\"16\" class=\"square dark\" stroke=\"none\" fill=\"#d18b47\" opacity=\"1.0\" /><rect x=\"400\" y=\"400\" width=\"16\" height=\"16\" class=\"square light\" stroke=\"none\" fill=\"#ffce9e\" opacity=\"1.0\" /><rect x=\"400\" y=\"416\" width=\"16\" height=\"16\" class=\"square dark\" stroke=\"none\" fill=\"#d18b47\" opacity=\"1.0\" /><rect x=\"400\" y=\"432\" width=\"16\" height=\"16\" class=\"square light\" stroke=\"none\" fill=\"#ffce9e\" opacity=\"1.0\" /><rect x=\"400\" y=\"448\" width=\"16\" height=\"16\" class=\"square dark\" stroke=\"none\" fill=\"#d18b47\" opacity=\"1.0\" /><rect x=\"400\" y=\"464\" width=\"16\" height=\"16\" class=\"square light\" stroke=\"none\" fill=\"#ffce9e\" opacity=\"1.0\" /><rect x=\"400\" y=\"480\" width=\"16\" height=\"16\" class=\"square dark\" stroke=\"none\" fill=\"#d18b47\" opacity=\"1.0\" /><rect x=\"400\" y=\"496\" width=\"16\" height=\"16\" class=\"square light\" stroke=\"none\" fill=\"#ffce9e\" opacity=\"1.0\" /><rect x=\"416\" y=\"0\" width=\"16\" height=\"16\" class=\"square light\" stroke=\"none\" fill=\"#ffce9e\" opacity=\"1.0\" /><rect x=\"416\" y=\"16\" width=\"16\" height=\"16\" class=\"square dark\" stroke=\"none\" fill=\"#d18b47\" opacity=\"1.0\" /><rect x=\"416\" y=\"32\" width=\"16\" height=\"16\" class=\"square light\" stroke=\"none\" fill=\"#ffce9e\" opacity=\"1.0\" /><rect x=\"416\" y=\"48\" width=\"16\" height=\"16\" class=\"square dark\" stroke=\"none\" fill=\"#d18b47\" opacity=\"1.0\" /><rect x=\"416\" y=\"64\" width=\"16\" height=\"16\" class=\"square light\" stroke=\"none\" fill=\"#ffce9e\" opacity=\"1.0\" /><rect x=\"416\" y=\"80\" width=\"16\" height=\"16\" class=\"square dark\" stroke=\"none\" fill=\"#d18b47\" opacity=\"1.0\" /><rect x=\"416\" y=\"96\" width=\"16\" height=\"16\" class=\"square light\" stroke=\"none\" fill=\"#ffce9e\" opacity=\"1.0\" /><rect x=\"416\" y=\"112\" width=\"16\" height=\"16\" class=\"square dark\" stroke=\"none\" fill=\"#d18b47\" opacity=\"1.0\" /><rect x=\"416\" y=\"128\" width=\"16\" height=\"16\" class=\"square light\" stroke=\"none\" fill=\"#ffce9e\" opacity=\"1.0\" /><rect x=\"416\" y=\"144\" width=\"16\" height=\"16\" class=\"square dark\" stroke=\"none\" fill=\"#d18b47\" opacity=\"1.0\" /><rect x=\"416\" y=\"160\" width=\"16\" height=\"16\" class=\"square light\" stroke=\"none\" fill=\"#ffce9e\" opacity=\"1.0\" /><rect x=\"416\" y=\"176\" width=\"16\" height=\"16\" class=\"square dark\" stroke=\"none\" fill=\"#d18b47\" opacity=\"1.0\" /><rect x=\"416\" y=\"192\" width=\"16\" height=\"16\" class=\"square light\" stroke=\"none\" fill=\"#ffce9e\" opacity=\"1.0\" /><rect x=\"416\" y=\"208\" width=\"16\" height=\"16\" class=\"square dark\" stroke=\"none\" fill=\"#d18b47\" opacity=\"1.0\" /><rect x=\"416\" y=\"224\" width=\"16\" height=\"16\" class=\"square light\" stroke=\"none\" fill=\"#ffce9e\" opacity=\"1.0\" /><rect x=\"416\" y=\"240\" width=\"16\" height=\"16\" class=\"square dark\" stroke=\"none\" fill=\"#d18b47\" opacity=\"1.0\" /><rect x=\"416\" y=\"256\" width=\"16\" height=\"16\" class=\"square light\" stroke=\"none\" fill=\"#ffce9e\" opacity=\"1.0\" /><rect x=\"416\" y=\"272\" width=\"16\" height=\"16\" class=\"square dark\" stroke=\"none\" fill=\"#d18b47\" opacity=\"1.0\" /><rect x=\"416\" y=\"288\" width=\"16\" height=\"16\" class=\"square light\" stroke=\"none\" fill=\"#ffce9e\" opacity=\"1.0\" /><rect x=\"416\" y=\"304\" width=\"16\" height=\"16\" class=\"square dark\" stroke=\"none\" fill=\"#d18b47\" opacity=\"1.0\" /><rect x=\"416\" y=\"320\" width=\"16\" height=\"16\" class=\"square light\" stroke=\"none\" fill=\"#ffce9e\" opacity=\"1.0\" /><rect x=\"416\" y=\"336\" width=\"16\" height=\"16\" class=\"square dark\" stroke=\"none\" fill=\"#d18b47\" opacity=\"1.0\" /><rect x=\"416\" y=\"352\" width=\"16\" height=\"16\" class=\"square light\" stroke=\"none\" fill=\"#ffce9e\" opacity=\"1.0\" /><rect x=\"416\" y=\"368\" width=\"16\" height=\"16\" class=\"square dark\" stroke=\"none\" fill=\"#d18b47\" opacity=\"1.0\" /><rect x=\"416\" y=\"384\" width=\"16\" height=\"16\" class=\"square light\" stroke=\"none\" fill=\"#ffce9e\" opacity=\"1.0\" /><rect x=\"416\" y=\"400\" width=\"16\" height=\"16\" class=\"square dark\" stroke=\"none\" fill=\"#d18b47\" opacity=\"1.0\" /><rect x=\"416\" y=\"416\" width=\"16\" height=\"16\" class=\"square light\" stroke=\"none\" fill=\"#ffce9e\" opacity=\"1.0\" /><rect x=\"416\" y=\"432\" width=\"16\" height=\"16\" class=\"square dark\" stroke=\"none\" fill=\"#d18b47\" opacity=\"1.0\" /><rect x=\"416\" y=\"448\" width=\"16\" height=\"16\" class=\"square light\" stroke=\"none\" fill=\"#ffce9e\" opacity=\"1.0\" /><rect x=\"416\" y=\"464\" width=\"16\" height=\"16\" class=\"square dark\" stroke=\"none\" fill=\"#d18b47\" opacity=\"1.0\" /><rect x=\"416\" y=\"480\" width=\"16\" height=\"16\" class=\"square light\" stroke=\"none\" fill=\"#ffce9e\" opacity=\"1.0\" /><rect x=\"416\" y=\"496\" width=\"16\" height=\"16\" class=\"square dark\" stroke=\"none\" fill=\"#d18b47\" opacity=\"1.0\" /><rect x=\"432\" y=\"0\" width=\"16\" height=\"16\" class=\"square dark\" stroke=\"none\" fill=\"#d18b47\" opacity=\"1.0\" /><rect x=\"432\" y=\"16\" width=\"16\" height=\"16\" class=\"square light\" stroke=\"none\" fill=\"#ffce9e\" opacity=\"1.0\" /><rect x=\"432\" y=\"32\" width=\"16\" height=\"16\" class=\"square dark\" stroke=\"none\" fill=\"#d18b47\" opacity=\"1.0\" /><rect x=\"432\" y=\"48\" width=\"16\" height=\"16\" class=\"square light\" stroke=\"none\" fill=\"#ffce9e\" opacity=\"1.0\" /><rect x=\"432\" y=\"64\" width=\"16\" height=\"16\" class=\"square dark\" stroke=\"none\" fill=\"#d18b47\" opacity=\"1.0\" /><rect x=\"432\" y=\"80\" width=\"16\" height=\"16\" class=\"square light\" stroke=\"none\" fill=\"#ffce9e\" opacity=\"1.0\" /><rect x=\"432\" y=\"96\" width=\"16\" height=\"16\" class=\"square dark\" stroke=\"none\" fill=\"#d18b47\" opacity=\"1.0\" /><rect x=\"432\" y=\"112\" width=\"16\" height=\"16\" class=\"square light\" stroke=\"none\" fill=\"#ffce9e\" opacity=\"1.0\" /><rect x=\"432\" y=\"128\" width=\"16\" height=\"16\" class=\"square dark\" stroke=\"none\" fill=\"#d18b47\" opacity=\"1.0\" /><rect x=\"432\" y=\"144\" width=\"16\" height=\"16\" class=\"square light\" stroke=\"none\" fill=\"#ffce9e\" opacity=\"1.0\" /><rect x=\"432\" y=\"160\" width=\"16\" height=\"16\" class=\"square dark\" stroke=\"none\" fill=\"#d18b47\" opacity=\"1.0\" /><rect x=\"432\" y=\"176\" width=\"16\" height=\"16\" class=\"square light\" stroke=\"none\" fill=\"#ffce9e\" opacity=\"1.0\" /><rect x=\"432\" y=\"192\" width=\"16\" height=\"16\" class=\"square dark\" stroke=\"none\" fill=\"#d18b47\" opacity=\"1.0\" /><rect x=\"432\" y=\"208\" width=\"16\" height=\"16\" class=\"square light\" stroke=\"none\" fill=\"#ffce9e\" opacity=\"1.0\" /><rect x=\"432\" y=\"224\" width=\"16\" height=\"16\" class=\"square dark\" stroke=\"none\" fill=\"#d18b47\" opacity=\"1.0\" /><rect x=\"432\" y=\"240\" width=\"16\" height=\"16\" class=\"square light\" stroke=\"none\" fill=\"#ffce9e\" opacity=\"1.0\" /><rect x=\"432\" y=\"256\" width=\"16\" height=\"16\" class=\"square dark\" stroke=\"none\" fill=\"#d18b47\" opacity=\"1.0\" /><rect x=\"432\" y=\"272\" width=\"16\" height=\"16\" class=\"square light\" stroke=\"none\" fill=\"#ffce9e\" opacity=\"1.0\" /><rect x=\"432\" y=\"288\" width=\"16\" height=\"16\" class=\"square dark\" stroke=\"none\" fill=\"#d18b47\" opacity=\"1.0\" /><rect x=\"432\" y=\"304\" width=\"16\" height=\"16\" class=\"square light\" stroke=\"none\" fill=\"#ffce9e\" opacity=\"1.0\" /><rect x=\"432\" y=\"320\" width=\"16\" height=\"16\" class=\"square dark\" stroke=\"none\" fill=\"#d18b47\" opacity=\"1.0\" /><rect x=\"432\" y=\"336\" width=\"16\" height=\"16\" class=\"square light\" stroke=\"none\" fill=\"#ffce9e\" opacity=\"1.0\" /><rect x=\"432\" y=\"352\" width=\"16\" height=\"16\" class=\"square dark\" stroke=\"none\" fill=\"#d18b47\" opacity=\"1.0\" /><rect x=\"432\" y=\"368\" width=\"16\" height=\"16\" class=\"square light\" stroke=\"none\" fill=\"#ffce9e\" opacity=\"1.0\" /><rect x=\"432\" y=\"384\" width=\"16\" height=\"16\" class=\"square dark\" stroke=\"none\" fill=\"#d18b47\" opacity=\"1.0\" /><rect x=\"432\" y=\"400\" width=\"16\" height=\"16\" class=\"square light\" stroke=\"none\" fill=\"#ffce9e\" opacity=\"1.0\" /><rect x=\"432\" y=\"416\" width=\"16\" height=\"16\" class=\"square dark\" stroke=\"none\" fill=\"#d18b47\" opacity=\"1.0\" /><rect x=\"432\" y=\"432\" width=\"16\" height=\"16\" class=\"square light\" stroke=\"none\" fill=\"#ffce9e\" opacity=\"1.0\" /><rect x=\"432\" y=\"448\" width=\"16\" height=\"16\" class=\"square dark\" stroke=\"none\" fill=\"#d18b47\" opacity=\"1.0\" /><rect x=\"432\" y=\"464\" width=\"16\" height=\"16\" class=\"square light\" stroke=\"none\" fill=\"#ffce9e\" opacity=\"1.0\" /><rect x=\"432\" y=\"480\" width=\"16\" height=\"16\" class=\"square dark\" stroke=\"none\" fill=\"#d18b47\" opacity=\"1.0\" /><rect x=\"432\" y=\"496\" width=\"16\" height=\"16\" class=\"square light\" stroke=\"none\" fill=\"#ffce9e\" opacity=\"1.0\" /><rect x=\"448\" y=\"0\" width=\"16\" height=\"16\" class=\"square light\" stroke=\"none\" fill=\"#ffce9e\" opacity=\"1.0\" /><rect x=\"448\" y=\"16\" width=\"16\" height=\"16\" class=\"square dark\" stroke=\"none\" fill=\"#d18b47\" opacity=\"1.0\" /><rect x=\"448\" y=\"32\" width=\"16\" height=\"16\" class=\"square light\" stroke=\"none\" fill=\"#ffce9e\" opacity=\"1.0\" /><rect x=\"448\" y=\"48\" width=\"16\" height=\"16\" class=\"square dark\" stroke=\"none\" fill=\"#d18b47\" opacity=\"1.0\" /><rect x=\"448\" y=\"64\" width=\"16\" height=\"16\" class=\"square light\" stroke=\"none\" fill=\"#ffce9e\" opacity=\"1.0\" /><rect x=\"448\" y=\"80\" width=\"16\" height=\"16\" class=\"square dark\" stroke=\"none\" fill=\"#d18b47\" opacity=\"1.0\" /><rect x=\"448\" y=\"96\" width=\"16\" height=\"16\" class=\"square light\" stroke=\"none\" fill=\"#ffce9e\" opacity=\"1.0\" /><rect x=\"448\" y=\"112\" width=\"16\" height=\"16\" class=\"square dark\" stroke=\"none\" fill=\"#d18b47\" opacity=\"1.0\" /><rect x=\"448\" y=\"128\" width=\"16\" height=\"16\" class=\"square light\" stroke=\"none\" fill=\"#ffce9e\" opacity=\"1.0\" /><rect x=\"448\" y=\"144\" width=\"16\" height=\"16\" class=\"square dark\" stroke=\"none\" fill=\"#d18b47\" opacity=\"1.0\" /><rect x=\"448\" y=\"160\" width=\"16\" height=\"16\" class=\"square light\" stroke=\"none\" fill=\"#ffce9e\" opacity=\"1.0\" /><rect x=\"448\" y=\"176\" width=\"16\" height=\"16\" class=\"square dark\" stroke=\"none\" fill=\"#d18b47\" opacity=\"1.0\" /><rect x=\"448\" y=\"192\" width=\"16\" height=\"16\" class=\"square light\" stroke=\"none\" fill=\"#ffce9e\" opacity=\"1.0\" /><rect x=\"448\" y=\"208\" width=\"16\" height=\"16\" class=\"square dark\" stroke=\"none\" fill=\"#d18b47\" opacity=\"1.0\" /><rect x=\"448\" y=\"224\" width=\"16\" height=\"16\" class=\"square light\" stroke=\"none\" fill=\"#ffce9e\" opacity=\"1.0\" /><rect x=\"448\" y=\"240\" width=\"16\" height=\"16\" class=\"square dark\" stroke=\"none\" fill=\"#d18b47\" opacity=\"1.0\" /><rect x=\"448\" y=\"256\" width=\"16\" height=\"16\" class=\"square light\" stroke=\"none\" fill=\"#ffce9e\" opacity=\"1.0\" /><rect x=\"448\" y=\"272\" width=\"16\" height=\"16\" class=\"square dark\" stroke=\"none\" fill=\"#d18b47\" opacity=\"1.0\" /><rect x=\"448\" y=\"288\" width=\"16\" height=\"16\" class=\"square light\" stroke=\"none\" fill=\"#ffce9e\" opacity=\"1.0\" /><rect x=\"448\" y=\"304\" width=\"16\" height=\"16\" class=\"square dark\" stroke=\"none\" fill=\"#d18b47\" opacity=\"1.0\" /><rect x=\"448\" y=\"320\" width=\"16\" height=\"16\" class=\"square light\" stroke=\"none\" fill=\"#ffce9e\" opacity=\"1.0\" /><rect x=\"448\" y=\"336\" width=\"16\" height=\"16\" class=\"square dark\" stroke=\"none\" fill=\"#d18b47\" opacity=\"1.0\" /><rect x=\"448\" y=\"352\" width=\"16\" height=\"16\" class=\"square light\" stroke=\"none\" fill=\"#ffce9e\" opacity=\"1.0\" /><rect x=\"448\" y=\"368\" width=\"16\" height=\"16\" class=\"square dark\" stroke=\"none\" fill=\"#d18b47\" opacity=\"1.0\" /><rect x=\"448\" y=\"384\" width=\"16\" height=\"16\" class=\"square light\" stroke=\"none\" fill=\"#ffce9e\" opacity=\"1.0\" /><rect x=\"448\" y=\"400\" width=\"16\" height=\"16\" class=\"square dark\" stroke=\"none\" fill=\"#d18b47\" opacity=\"1.0\" /><rect x=\"448\" y=\"416\" width=\"16\" height=\"16\" class=\"square light\" stroke=\"none\" fill=\"#ffce9e\" opacity=\"1.0\" /><rect x=\"448\" y=\"432\" width=\"16\" height=\"16\" class=\"square dark\" stroke=\"none\" fill=\"#d18b47\" opacity=\"1.0\" /><rect x=\"448\" y=\"448\" width=\"16\" height=\"16\" class=\"square light\" stroke=\"none\" fill=\"#ffce9e\" opacity=\"1.0\" /><rect x=\"448\" y=\"464\" width=\"16\" height=\"16\" class=\"square dark\" stroke=\"none\" fill=\"#d18b47\" opacity=\"1.0\" /><rect x=\"448\" y=\"480\" width=\"16\" height=\"16\" class=\"square light\" stroke=\"none\" fill=\"#ffce9e\" opacity=\"1.0\" /><rect x=\"448\" y=\"496\" width=\"16\" height=\"16\" class=\"square dark\" stroke=\"none\" fill=\"#d18b47\" opacity=\"1.0\" /><rect x=\"464\" y=\"0\" width=\"16\" height=\"16\" class=\"square dark\" stroke=\"none\" fill=\"#d18b47\" opacity=\"1.0\" /><rect x=\"464\" y=\"16\" width=\"16\" height=\"16\" class=\"square light\" stroke=\"none\" fill=\"#ffce9e\" opacity=\"1.0\" /><rect x=\"464\" y=\"32\" width=\"16\" height=\"16\" class=\"square dark\" stroke=\"none\" fill=\"#d18b47\" opacity=\"1.0\" /><rect x=\"464\" y=\"48\" width=\"16\" height=\"16\" class=\"square light\" stroke=\"none\" fill=\"#ffce9e\" opacity=\"1.0\" /><rect x=\"464\" y=\"64\" width=\"16\" height=\"16\" class=\"square dark\" stroke=\"none\" fill=\"#d18b47\" opacity=\"1.0\" /><rect x=\"464\" y=\"80\" width=\"16\" height=\"16\" class=\"square light\" stroke=\"none\" fill=\"#ffce9e\" opacity=\"1.0\" /><rect x=\"464\" y=\"96\" width=\"16\" height=\"16\" class=\"square dark\" stroke=\"none\" fill=\"#d18b47\" opacity=\"1.0\" /><rect x=\"464\" y=\"112\" width=\"16\" height=\"16\" class=\"square light\" stroke=\"none\" fill=\"#ffce9e\" opacity=\"1.0\" /><rect x=\"464\" y=\"128\" width=\"16\" height=\"16\" class=\"square dark\" stroke=\"none\" fill=\"#d18b47\" opacity=\"1.0\" /><rect x=\"464\" y=\"144\" width=\"16\" height=\"16\" class=\"square light\" stroke=\"none\" fill=\"#ffce9e\" opacity=\"1.0\" /><rect x=\"464\" y=\"160\" width=\"16\" height=\"16\" class=\"square dark\" stroke=\"none\" fill=\"#d18b47\" opacity=\"1.0\" /><rect x=\"464\" y=\"176\" width=\"16\" height=\"16\" class=\"square light\" stroke=\"none\" fill=\"#ffce9e\" opacity=\"1.0\" /><rect x=\"464\" y=\"192\" width=\"16\" height=\"16\" class=\"square dark\" stroke=\"none\" fill=\"#d18b47\" opacity=\"1.0\" /><rect x=\"464\" y=\"208\" width=\"16\" height=\"16\" class=\"square light\" stroke=\"none\" fill=\"#ffce9e\" opacity=\"1.0\" /><rect x=\"464\" y=\"224\" width=\"16\" height=\"16\" class=\"square dark\" stroke=\"none\" fill=\"#d18b47\" opacity=\"1.0\" /><rect x=\"464\" y=\"240\" width=\"16\" height=\"16\" class=\"square light\" stroke=\"none\" fill=\"#ffce9e\" opacity=\"1.0\" /><rect x=\"464\" y=\"256\" width=\"16\" height=\"16\" class=\"square dark\" stroke=\"none\" fill=\"#d18b47\" opacity=\"1.0\" /><rect x=\"464\" y=\"272\" width=\"16\" height=\"16\" class=\"square light\" stroke=\"none\" fill=\"#ffce9e\" opacity=\"1.0\" /><rect x=\"464\" y=\"288\" width=\"16\" height=\"16\" class=\"square dark\" stroke=\"none\" fill=\"#d18b47\" opacity=\"1.0\" /><rect x=\"464\" y=\"304\" width=\"16\" height=\"16\" class=\"square light\" stroke=\"none\" fill=\"#ffce9e\" opacity=\"1.0\" /><rect x=\"464\" y=\"320\" width=\"16\" height=\"16\" class=\"square dark\" stroke=\"none\" fill=\"#d18b47\" opacity=\"1.0\" /><rect x=\"464\" y=\"336\" width=\"16\" height=\"16\" class=\"square light\" stroke=\"none\" fill=\"#ffce9e\" opacity=\"1.0\" /><rect x=\"464\" y=\"352\" width=\"16\" height=\"16\" class=\"square dark\" stroke=\"none\" fill=\"#d18b47\" opacity=\"1.0\" /><rect x=\"464\" y=\"368\" width=\"16\" height=\"16\" class=\"square light\" stroke=\"none\" fill=\"#ffce9e\" opacity=\"1.0\" /><rect x=\"464\" y=\"384\" width=\"16\" height=\"16\" class=\"square dark\" stroke=\"none\" fill=\"#d18b47\" opacity=\"1.0\" /><rect x=\"464\" y=\"400\" width=\"16\" height=\"16\" class=\"square light\" stroke=\"none\" fill=\"#ffce9e\" opacity=\"1.0\" /><rect x=\"464\" y=\"416\" width=\"16\" height=\"16\" class=\"square dark\" stroke=\"none\" fill=\"#d18b47\" opacity=\"1.0\" /><rect x=\"464\" y=\"432\" width=\"16\" height=\"16\" class=\"square light\" stroke=\"none\" fill=\"#ffce9e\" opacity=\"1.0\" /><rect x=\"464\" y=\"448\" width=\"16\" height=\"16\" class=\"square dark\" stroke=\"none\" fill=\"#d18b47\" opacity=\"1.0\" /><rect x=\"464\" y=\"464\" width=\"16\" height=\"16\" class=\"square light\" stroke=\"none\" fill=\"#ffce9e\" opacity=\"1.0\" /><rect x=\"464\" y=\"480\" width=\"16\" height=\"16\" class=\"square dark\" stroke=\"none\" fill=\"#d18b47\" opacity=\"1.0\" /><rect x=\"464\" y=\"496\" width=\"16\" height=\"16\" class=\"square light\" stroke=\"none\" fill=\"#ffce9e\" opacity=\"1.0\" /><rect x=\"480\" y=\"0\" width=\"16\" height=\"16\" class=\"square light\" stroke=\"none\" fill=\"#ffce9e\" opacity=\"1.0\" /><rect x=\"480\" y=\"16\" width=\"16\" height=\"16\" class=\"square dark\" stroke=\"none\" fill=\"#d18b47\" opacity=\"1.0\" /><rect x=\"480\" y=\"32\" width=\"16\" height=\"16\" class=\"square light\" stroke=\"none\" fill=\"#ffce9e\" opacity=\"1.0\" /><rect x=\"480\" y=\"48\" width=\"16\" height=\"16\" class=\"square dark\" stroke=\"none\" fill=\"#d18b47\" opacity=\"1.0\" /><rect x=\"480\" y=\"64\" width=\"16\" height=\"16\" class=\"square light\" stroke=\"none\" fill=\"#ffce9e\" opacity=\"1.0\" /><rect x=\"480\" y=\"80\" width=\"16\" height=\"16\" class=\"square dark\" stroke=\"none\" fill=\"#d18b47\" opacity=\"1.0\" /><rect x=\"480\" y=\"96\" width=\"16\" height=\"16\" class=\"square light\" stroke=\"none\" fill=\"#ffce9e\" opacity=\"1.0\" /><rect x=\"480\" y=\"112\" width=\"16\" height=\"16\" class=\"square dark\" stroke=\"none\" fill=\"#d18b47\" opacity=\"1.0\" /><rect x=\"480\" y=\"128\" width=\"16\" height=\"16\" class=\"square light\" stroke=\"none\" fill=\"#ffce9e\" opacity=\"1.0\" /><rect x=\"480\" y=\"144\" width=\"16\" height=\"16\" class=\"square dark\" stroke=\"none\" fill=\"#d18b47\" opacity=\"1.0\" /><rect x=\"480\" y=\"160\" width=\"16\" height=\"16\" class=\"square light\" stroke=\"none\" fill=\"#ffce9e\" opacity=\"1.0\" /><rect x=\"480\" y=\"176\" width=\"16\" height=\"16\" class=\"square dark\" stroke=\"none\" fill=\"#d18b47\" opacity=\"1.0\" /><rect x=\"480\" y=\"192\" width=\"16\" height=\"16\" class=\"square light\" stroke=\"none\" fill=\"#ffce9e\" opacity=\"1.0\" /><rect x=\"480\" y=\"208\" width=\"16\" height=\"16\" class=\"square dark\" stroke=\"none\" fill=\"#d18b47\" opacity=\"1.0\" /><rect x=\"480\" y=\"224\" width=\"16\" height=\"16\" class=\"square light\" stroke=\"none\" fill=\"#ffce9e\" opacity=\"1.0\" /><rect x=\"480\" y=\"240\" width=\"16\" height=\"16\" class=\"square dark\" stroke=\"none\" fill=\"#d18b47\" opacity=\"1.0\" /><rect x=\"480\" y=\"256\" width=\"16\" height=\"16\" class=\"square light\" stroke=\"none\" fill=\"#ffce9e\" opacity=\"1.0\" /><rect x=\"480\" y=\"272\" width=\"16\" height=\"16\" class=\"square dark\" stroke=\"none\" fill=\"#d18b47\" opacity=\"1.0\" /><rect x=\"480\" y=\"288\" width=\"16\" height=\"16\" class=\"square light\" stroke=\"none\" fill=\"#ffce9e\" opacity=\"1.0\" /><rect x=\"480\" y=\"304\" width=\"16\" height=\"16\" class=\"square dark\" stroke=\"none\" fill=\"#d18b47\" opacity=\"1.0\" /><rect x=\"480\" y=\"320\" width=\"16\" height=\"16\" class=\"square light\" stroke=\"none\" fill=\"#ffce9e\" opacity=\"1.0\" /><rect x=\"480\" y=\"336\" width=\"16\" height=\"16\" class=\"square dark\" stroke=\"none\" fill=\"#d18b47\" opacity=\"1.0\" /><rect x=\"480\" y=\"352\" width=\"16\" height=\"16\" class=\"square light\" stroke=\"none\" fill=\"#ffce9e\" opacity=\"1.0\" /><rect x=\"480\" y=\"368\" width=\"16\" height=\"16\" class=\"square dark\" stroke=\"none\" fill=\"#d18b47\" opacity=\"1.0\" /><rect x=\"480\" y=\"384\" width=\"16\" height=\"16\" class=\"square light\" stroke=\"none\" fill=\"#ffce9e\" opacity=\"1.0\" /><rect x=\"480\" y=\"400\" width=\"16\" height=\"16\" class=\"square dark\" stroke=\"none\" fill=\"#d18b47\" opacity=\"1.0\" /><rect x=\"480\" y=\"416\" width=\"16\" height=\"16\" class=\"square light\" stroke=\"none\" fill=\"#ffce9e\" opacity=\"1.0\" /><rect x=\"480\" y=\"432\" width=\"16\" height=\"16\" class=\"square dark\" stroke=\"none\" fill=\"#d18b47\" opacity=\"1.0\" /><rect x=\"480\" y=\"448\" width=\"16\" height=\"16\" class=\"square light\" stroke=\"none\" fill=\"#ffce9e\" opacity=\"1.0\" /><rect x=\"480\" y=\"464\" width=\"16\" height=\"16\" class=\"square dark\" stroke=\"none\" fill=\"#d18b47\" opacity=\"1.0\" /><rect x=\"480\" y=\"480\" width=\"16\" height=\"16\" class=\"square light\" stroke=\"none\" fill=\"#ffce9e\" opacity=\"1.0\" /><rect x=\"480\" y=\"496\" width=\"16\" height=\"16\" class=\"square dark\" stroke=\"none\" fill=\"#d18b47\" opacity=\"1.0\" /><rect x=\"496\" y=\"0\" width=\"16\" height=\"16\" class=\"square dark\" stroke=\"none\" fill=\"#d18b47\" opacity=\"1.0\" /><rect x=\"496\" y=\"16\" width=\"16\" height=\"16\" class=\"square light\" stroke=\"none\" fill=\"#ffce9e\" opacity=\"1.0\" /><rect x=\"496\" y=\"32\" width=\"16\" height=\"16\" class=\"square dark\" stroke=\"none\" fill=\"#d18b47\" opacity=\"1.0\" /><rect x=\"496\" y=\"48\" width=\"16\" height=\"16\" class=\"square light\" stroke=\"none\" fill=\"#ffce9e\" opacity=\"1.0\" /><rect x=\"496\" y=\"64\" width=\"16\" height=\"16\" class=\"square dark\" stroke=\"none\" fill=\"#d18b47\" opacity=\"1.0\" /><rect x=\"496\" y=\"80\" width=\"16\" height=\"16\" class=\"square light\" stroke=\"none\" fill=\"#ffce9e\" opacity=\"1.0\" /><rect x=\"496\" y=\"96\" width=\"16\" height=\"16\" class=\"square dark\" stroke=\"none\" fill=\"#d18b47\" opacity=\"1.0\" /><rect x=\"496\" y=\"112\" width=\"16\" height=\"16\" class=\"square light\" stroke=\"none\" fill=\"#ffce9e\" opacity=\"1.0\" /><rect x=\"496\" y=\"128\" width=\"16\" height=\"16\" class=\"square dark\" stroke=\"none\" fill=\"#d18b47\" opacity=\"1.0\" /><rect x=\"496\" y=\"144\" width=\"16\" height=\"16\" class=\"square light\" stroke=\"none\" fill=\"#ffce9e\" opacity=\"1.0\" /><rect x=\"496\" y=\"160\" width=\"16\" height=\"16\" class=\"square dark\" stroke=\"none\" fill=\"#d18b47\" opacity=\"1.0\" /><rect x=\"496\" y=\"176\" width=\"16\" height=\"16\" class=\"square light\" stroke=\"none\" fill=\"#ffce9e\" opacity=\"1.0\" /><rect x=\"496\" y=\"192\" width=\"16\" height=\"16\" class=\"square dark\" stroke=\"none\" fill=\"#d18b47\" opacity=\"1.0\" /><rect x=\"496\" y=\"208\" width=\"16\" height=\"16\" class=\"square light\" stroke=\"none\" fill=\"#ffce9e\" opacity=\"1.0\" /><rect x=\"496\" y=\"224\" width=\"16\" height=\"16\" class=\"square dark\" stroke=\"none\" fill=\"#d18b47\" opacity=\"1.0\" /><rect x=\"496\" y=\"240\" width=\"16\" height=\"16\" class=\"square light\" stroke=\"none\" fill=\"#ffce9e\" opacity=\"1.0\" /><rect x=\"496\" y=\"256\" width=\"16\" height=\"16\" class=\"square dark\" stroke=\"none\" fill=\"#d18b47\" opacity=\"1.0\" /><rect x=\"496\" y=\"272\" width=\"16\" height=\"16\" class=\"square light\" stroke=\"none\" fill=\"#ffce9e\" opacity=\"1.0\" /><rect x=\"496\" y=\"288\" width=\"16\" height=\"16\" class=\"square dark\" stroke=\"none\" fill=\"#d18b47\" opacity=\"1.0\" /><rect x=\"496\" y=\"304\" width=\"16\" height=\"16\" class=\"square light\" stroke=\"none\" fill=\"#ffce9e\" opacity=\"1.0\" /><rect x=\"496\" y=\"320\" width=\"16\" height=\"16\" class=\"square dark\" stroke=\"none\" fill=\"#d18b47\" opacity=\"1.0\" /><rect x=\"496\" y=\"336\" width=\"16\" height=\"16\" class=\"square light\" stroke=\"none\" fill=\"#ffce9e\" opacity=\"1.0\" /><rect x=\"496\" y=\"352\" width=\"16\" height=\"16\" class=\"square dark\" stroke=\"none\" fill=\"#d18b47\" opacity=\"1.0\" /><rect x=\"496\" y=\"368\" width=\"16\" height=\"16\" class=\"square light\" stroke=\"none\" fill=\"#ffce9e\" opacity=\"1.0\" /><rect x=\"496\" y=\"384\" width=\"16\" height=\"16\" class=\"square dark\" stroke=\"none\" fill=\"#d18b47\" opacity=\"1.0\" /><rect x=\"496\" y=\"400\" width=\"16\" height=\"16\" class=\"square light\" stroke=\"none\" fill=\"#ffce9e\" opacity=\"1.0\" /><rect x=\"496\" y=\"416\" width=\"16\" height=\"16\" class=\"square dark\" stroke=\"none\" fill=\"#d18b47\" opacity=\"1.0\" /><rect x=\"496\" y=\"432\" width=\"16\" height=\"16\" class=\"square light\" stroke=\"none\" fill=\"#ffce9e\" opacity=\"1.0\" /><rect x=\"496\" y=\"448\" width=\"16\" height=\"16\" class=\"square dark\" stroke=\"none\" fill=\"#d18b47\" opacity=\"1.0\" /><rect x=\"496\" y=\"464\" width=\"16\" height=\"16\" class=\"square light\" stroke=\"none\" fill=\"#ffce9e\" opacity=\"1.0\" /><rect x=\"496\" y=\"480\" width=\"16\" height=\"16\" class=\"square dark\" stroke=\"none\" fill=\"#d18b47\" opacity=\"1.0\" /><rect x=\"496\" y=\"496\" width=\"16\" height=\"16\" class=\"square light\" stroke=\"none\" fill=\"#ffce9e\" opacity=\"1.0\" /><use href=\"#white-queen\" xlink:href=\"#white-queen\" transform=\"translate(224, 0) scale(0.355556)\" /><use href=\"#white-queen\" xlink:href=\"#white-queen\" transform=\"translate(480, 16) scale(0.355556)\" /><use href=\"#white-queen\" xlink:href=\"#white-queen\" transform=\"translate(352, 32) scale(0.355556)\" /><use href=\"#white-queen\" xlink:href=\"#white-queen\" transform=\"translate(144, 48) scale(0.355556)\" /><use href=\"#white-queen\" xlink:href=\"#white-queen\" transform=\"translate(304, 64) scale(0.355556)\" /><use href=\"#white-queen\" xlink:href=\"#white-queen\" transform=\"translate(192, 80) scale(0.355556)\" /><use href=\"#white-queen\" xlink:href=\"#white-queen\" transform=\"translate(368, 96) scale(0.355556)\" /><use href=\"#white-queen\" xlink:href=\"#white-queen\" transform=\"translate(240, 112) scale(0.355556)\" /><use href=\"#white-queen\" xlink:href=\"#white-queen\" transform=\"translate(32, 128) scale(0.355556)\" /><use href=\"#white-queen\" xlink:href=\"#white-queen\" transform=\"translate(176, 144) scale(0.355556)\" /><use href=\"#white-queen\" xlink:href=\"#white-queen\" transform=\"translate(16, 160) scale(0.355556)\" /><use href=\"#white-queen\" xlink:href=\"#white-queen\" transform=\"translate(432, 176) scale(0.355556)\" /><use href=\"#white-queen\" xlink:href=\"#white-queen\" transform=\"translate(384, 192) scale(0.355556)\" /><use href=\"#white-queen\" xlink:href=\"#white-queen\" transform=\"translate(128, 208) scale(0.355556)\" /><use href=\"#white-queen\" xlink:href=\"#white-queen\" transform=\"translate(288, 224) scale(0.355556)\" /><use href=\"#white-queen\" xlink:href=\"#white-queen\" transform=\"translate(208, 240) scale(0.355556)\" /><use href=\"#white-queen\" xlink:href=\"#white-queen\" transform=\"translate(0, 256) scale(0.355556)\" /><use href=\"#white-queen\" xlink:href=\"#white-queen\" transform=\"translate(160, 272) scale(0.355556)\" /><use href=\"#white-queen\" xlink:href=\"#white-queen\" transform=\"translate(464, 288) scale(0.355556)\" /><use href=\"#white-queen\" xlink:href=\"#white-queen\" transform=\"translate(112, 304) scale(0.355556)\" /><use href=\"#white-queen\" xlink:href=\"#white-queen\" transform=\"translate(400, 320) scale(0.355556)\" /><use href=\"#white-queen\" xlink:href=\"#white-queen\" transform=\"translate(320, 336) scale(0.355556)\" /><use href=\"#white-queen\" xlink:href=\"#white-queen\" transform=\"translate(496, 352) scale(0.355556)\" /><use href=\"#white-queen\" xlink:href=\"#white-queen\" transform=\"translate(416, 368) scale(0.355556)\" /><use href=\"#white-queen\" xlink:href=\"#white-queen\" transform=\"translate(256, 384) scale(0.355556)\" /><use href=\"#white-queen\" xlink:href=\"#white-queen\" transform=\"translate(336, 400) scale(0.355556)\" /><use href=\"#white-queen\" xlink:href=\"#white-queen\" transform=\"translate(64, 416) scale(0.355556)\" /><use href=\"#white-queen\" xlink:href=\"#white-queen\" transform=\"translate(272, 432) scale(0.355556)\" /><use href=\"#white-queen\" xlink:href=\"#white-queen\" transform=\"translate(448, 448) scale(0.355556)\" /><use href=\"#white-queen\" xlink:href=\"#white-queen\" transform=\"translate(80, 464) scale(0.355556)\" /><use href=\"#white-queen\" xlink:href=\"#white-queen\" transform=\"translate(48, 480) scale(0.355556)\" /><use href=\"#white-queen\" xlink:href=\"#white-queen\" transform=\"translate(96, 496) scale(0.355556)\" /></svg></div>"
      ],
      "text/plain": [
       "<chess_problem_visuals.board.Board at 0x7fc69cabe140>"
      ]
     },
     "execution_count": 29,
     "metadata": {},
     "output_type": "execute_result"
    }
   ],
   "source": [
    "%%time\n",
    "Solution = solve(P, check_consistency=True)\n",
    "show_solution(Solution, 32, \"40%\")"
   ]
  },
  {
   "cell_type": "markdown",
   "metadata": {},
   "source": [
    "## Solving the *Zebra Puzzle*"
   ]
  },
  {
   "cell_type": "code",
   "execution_count": 30,
   "metadata": {},
   "outputs": [],
   "source": [
    "from Zebra import zebra_csp, show_solution"
   ]
  },
  {
   "cell_type": "code",
   "execution_count": 31,
   "metadata": {},
   "outputs": [],
   "source": [
    "zebra = zebra_csp()"
   ]
  },
  {
   "cell_type": "markdown",
   "metadata": {},
   "source": [
    "The consistency solver takes about 11 milliseconds to solve the *zebra puzzle* without consistency maintenance."
   ]
  },
  {
   "cell_type": "code",
   "execution_count": 32,
   "metadata": {
    "scrolled": true
   },
   "outputs": [
    {
     "name": "stdout",
     "output_type": "stream",
     "text": [
      "ValuesPerVar[Milk] = {3}\n",
      "ValuesPerVar[Norwegian] = {1}\n",
      "CPU times: user 16.9 ms, sys: 887 µs, total: 17.8 ms\n",
      "Wall time: 17.3 ms\n"
     ]
    }
   ],
   "source": [
    "%%time\n",
    "Solution = solve(zebra, check_consistency=False)"
   ]
  },
  {
   "cell_type": "code",
   "execution_count": 33,
   "metadata": {},
   "outputs": [
    {
     "data": {
      "text/html": [
       "<table style=\"border:2px solid blue\">\n",
       "<tr><th style=\"color:gold; background-color:blue\">House</th><th style=\"color:gold; background-color:blue\">Nationality</th><th style=\"color:gold; background-color:blue\">Drink</th><th style=\"color:gold; background-color:blue\">Animal</th><th style=\"color:gold; background-color:blue\">Brand</th><th style=\"color:gold; background-color:blue\">Colour</th></tr>\n",
       "<tr><td style=\"border:1px solid green\">1</td><td  style=\"border:1px solid green\">Norwegian</td><td  style=\"border:1px solid green\">Water</td><td  style=\"border:1px solid green\">Fox</td><td  style=\"border:1px solid green\">Kools</td><td  style=\"border:1px solid green\">Yellow</td></tr>\n",
       "<tr><td style=\"border:1px solid green\">2</td><td  style=\"border:1px solid green\">Ukrainian</td><td  style=\"border:1px solid green\">Tea</td><td  style=\"border:1px solid green\">Horse</td><td  style=\"border:1px solid green\">Chesterfields</td><td  style=\"border:1px solid green\">Blue</td></tr>\n",
       "<tr><td style=\"border:1px solid green\">3</td><td  style=\"border:1px solid green\">English</td><td  style=\"border:1px solid green\">Milk</td><td  style=\"border:1px solid green\">Snails</td><td  style=\"border:1px solid green\">OldGold</td><td  style=\"border:1px solid green\">Red</td></tr>\n",
       "<tr><td style=\"border:1px solid green\">4</td><td  style=\"border:1px solid green\">Spanish</td><td  style=\"border:1px solid green\">OrangeJuice</td><td  style=\"border:1px solid green\">Dog</td><td  style=\"border:1px solid green\">LuckyStrike</td><td  style=\"border:1px solid green\">Ivory</td></tr>\n",
       "<tr><td style=\"border:1px solid green\">5</td><td  style=\"border:1px solid green\">Japanese</td><td  style=\"border:1px solid green\">Coffee</td><td  style=\"border:1px solid green\">Zebra</td><td  style=\"border:1px solid green\">Parliaments</td><td  style=\"border:1px solid green\">Green</td></tr>\n",
       "</table>"
      ],
      "text/plain": [
       "<IPython.core.display.HTML object>"
      ]
     },
     "metadata": {},
     "output_type": "display_data"
    }
   ],
   "source": [
    "show_solution(Solution)"
   ]
  },
  {
   "cell_type": "markdown",
   "metadata": {},
   "source": [
    "For the *Zebra puzzle*, *consistency maintenance* does not decrease the running time."
   ]
  },
  {
   "cell_type": "code",
   "execution_count": 34,
   "metadata": {
    "scrolled": false
   },
   "outputs": [
    {
     "name": "stdout",
     "output_type": "stream",
     "text": [
      "ValuesPerVar[Milk] = {3}\n",
      "ValuesPerVar[Norwegian] = {1}\n",
      "Fox: {1, 2, 3, 4, 5}\n",
      "Ukrainian: {2, 4, 5}\n",
      "Yellow: {1, 3, 4, 5}\n",
      "LuckyStrike: {1, 2, 4, 5}\n",
      "Red: {3, 4, 5}\n",
      "OrangeJuice: {1, 2, 4, 5}\n",
      "English: {3, 4, 5}\n",
      "Tea: {2, 4, 5}\n",
      "Zebra: {1, 2, 3, 4, 5}\n",
      "Horse: {2, 3, 4, 5}\n",
      "Blue: {2}\n",
      "Water: {1, 2, 4, 5}\n",
      "Spanish: {2, 3, 4, 5}\n",
      "Parliaments: {2, 3, 4, 5}\n",
      "Norwegian: {1}\n",
      "Milk: {3}\n",
      "Snails: {1, 2, 3, 4, 5}\n",
      "Coffee: {4, 5}\n",
      "Chesterfields: {1, 2, 3, 4, 5}\n",
      "Ivory: {3, 4}\n",
      "OldGold: {1, 2, 3, 4, 5}\n",
      "Kools: {1, 3, 4, 5}\n",
      "Japanese: {2, 3, 4, 5}\n",
      "Green: {4, 5}\n",
      "Dog: {2, 3, 4, 5}\n"
     ]
    },
    {
     "data": {
      "text/html": [
       "<table style=\"border:2px solid blue\">\n",
       "<tr><th style=\"color:gold; background-color:blue\">House</th><th style=\"color:gold; background-color:blue\">Nationality</th><th style=\"color:gold; background-color:blue\">Drink</th><th style=\"color:gold; background-color:blue\">Animal</th><th style=\"color:gold; background-color:blue\">Brand</th><th style=\"color:gold; background-color:blue\">Colour</th></tr>\n",
       "<tr><td style=\"border:1px solid green\">1</td><td  style=\"border:1px solid green\">Norwegian</td><td  style=\"border:1px solid green\">Water</td><td  style=\"border:1px solid green\">Fox</td><td  style=\"border:1px solid green\">Kools</td><td  style=\"border:1px solid green\">Yellow</td></tr>\n",
       "<tr><td style=\"border:1px solid green\">2</td><td  style=\"border:1px solid green\">Ukrainian</td><td  style=\"border:1px solid green\">Tea</td><td  style=\"border:1px solid green\">Horse</td><td  style=\"border:1px solid green\">Chesterfields</td><td  style=\"border:1px solid green\">Blue</td></tr>\n",
       "<tr><td style=\"border:1px solid green\">3</td><td  style=\"border:1px solid green\">English</td><td  style=\"border:1px solid green\">Milk</td><td  style=\"border:1px solid green\">Snails</td><td  style=\"border:1px solid green\">OldGold</td><td  style=\"border:1px solid green\">Red</td></tr>\n",
       "<tr><td style=\"border:1px solid green\">4</td><td  style=\"border:1px solid green\">Spanish</td><td  style=\"border:1px solid green\">OrangeJuice</td><td  style=\"border:1px solid green\">Dog</td><td  style=\"border:1px solid green\">LuckyStrike</td><td  style=\"border:1px solid green\">Ivory</td></tr>\n",
       "<tr><td style=\"border:1px solid green\">5</td><td  style=\"border:1px solid green\">Japanese</td><td  style=\"border:1px solid green\">Coffee</td><td  style=\"border:1px solid green\">Zebra</td><td  style=\"border:1px solid green\">Parliaments</td><td  style=\"border:1px solid green\">Green</td></tr>\n",
       "</table>"
      ],
      "text/plain": [
       "<IPython.core.display.HTML object>"
      ]
     },
     "metadata": {},
     "output_type": "display_data"
    },
    {
     "name": "stdout",
     "output_type": "stream",
     "text": [
      "CPU times: user 58.6 ms, sys: 3.88 ms, total: 62.5 ms\n",
      "Wall time: 61.5 ms\n"
     ]
    }
   ],
   "source": [
    "%%time\n",
    "Solution = solve(zebra, check_consistency=True)\n",
    "show_solution(Solution)"
   ]
  },
  {
   "cell_type": "markdown",
   "metadata": {},
   "source": [
    "## Solving a Sudoku Puzzle"
   ]
  },
  {
   "cell_type": "code",
   "execution_count": 35,
   "metadata": {},
   "outputs": [],
   "source": [
    "from Sudoku import sudoku_csp, show_solution"
   ]
  },
  {
   "cell_type": "code",
   "execution_count": 36,
   "metadata": {
    "scrolled": true
   },
   "outputs": [],
   "source": [
    "csp = sudoku_csp()"
   ]
  },
  {
   "cell_type": "code",
   "execution_count": 37,
   "metadata": {
    "scrolled": false
   },
   "outputs": [
    {
     "name": "stdout",
     "output_type": "stream",
     "text": [
      "ValuesPerVar[V24] = {7}\n",
      "ValuesPerVar[V73] = {5}\n",
      "ValuesPerVar[V62] = {6}\n",
      "ValuesPerVar[V19] = {7}\n",
      "ValuesPerVar[V57] = {8}\n",
      "ValuesPerVar[V46] = {3}\n",
      "ValuesPerVar[V39] = {3}\n",
      "ValuesPerVar[V12] = {3}\n",
      "ValuesPerVar[V13] = {9}\n",
      "ValuesPerVar[V74] = {2}\n",
      "ValuesPerVar[V27] = {4}\n",
      "ValuesPerVar[V82] = {2}\n",
      "ValuesPerVar[V79] = {1}\n",
      "ValuesPerVar[V91] = {7}\n",
      "ValuesPerVar[V48] = {7}\n",
      "ValuesPerVar[V47] = {2}\n",
      "ValuesPerVar[V44] = {6}\n",
      "ValuesPerVar[V97] = {5}\n",
      "ValuesPerVar[V38] = {8}\n",
      "ValuesPerVar[V88] = {4}\n",
      "ValuesPerVar[V76] = {9}\n",
      "ValuesPerVar[V28] = {9}\n",
      "ValuesPerVar[V36] = {5}\n",
      "ValuesPerVar[V29] = {2}\n",
      "ValuesPerVar[V55] = {4}\n",
      "ValuesPerVar[V61] = {5}\n",
      "ValuesPerVar[V83] = {1}\n",
      "ValuesPerVar[V35] = {6}\n",
      "CPU times: user 209 ms, sys: 5.23 ms, total: 214 ms\n",
      "Wall time: 213 ms\n"
     ]
    }
   ],
   "source": [
    "%%time\n",
    "Solution = solve(csp, check_consistency=False)"
   ]
  },
  {
   "cell_type": "code",
   "execution_count": 38,
   "metadata": {
    "scrolled": false
   },
   "outputs": [
    {
     "data": {
      "text/html": [
       "<div style='width:50%'><svg xmlns=\"http://www.w3.org/2000/svg\" xmlns:xlink=\"http://www.w3.org/1999/xlink\" version=\"1.2\" baseProfile=\"tiny\" viewBox=\"0 0 180 180\"><defs /><rect x=\"0\" y=\"0\" width=\"20\" height=\"20\" stroke=\"none\" fill=\"#538cc6\" /><rect x=\"20\" y=\"0\" width=\"20\" height=\"20\" stroke=\"none\" fill=\"#8cb3d9\" /><rect x=\"40\" y=\"0\" width=\"20\" height=\"20\" stroke=\"none\" fill=\"#538cc6\" /><rect x=\"60\" y=\"0\" width=\"20\" height=\"20\" stroke=\"none\" fill=\"#79a6d2\" /><rect x=\"80\" y=\"0\" width=\"20\" height=\"20\" stroke=\"none\" fill=\"#6699cc\" /><rect x=\"100\" y=\"0\" width=\"20\" height=\"20\" stroke=\"none\" fill=\"#79a6d2\" /><rect x=\"120\" y=\"0\" width=\"20\" height=\"20\" stroke=\"none\" fill=\"#538cc6\" /><rect x=\"140\" y=\"0\" width=\"20\" height=\"20\" stroke=\"none\" fill=\"#8cb3d9\" /><rect x=\"160\" y=\"0\" width=\"20\" height=\"20\" stroke=\"none\" fill=\"#538cc6\" /><rect x=\"0\" y=\"20\" width=\"20\" height=\"20\" stroke=\"none\" fill=\"#8cb3d9\" /><rect x=\"20\" y=\"20\" width=\"20\" height=\"20\" stroke=\"none\" fill=\"#538cc6\" /><rect x=\"40\" y=\"20\" width=\"20\" height=\"20\" stroke=\"none\" fill=\"#8cb3d9\" /><rect x=\"60\" y=\"20\" width=\"20\" height=\"20\" stroke=\"none\" fill=\"#6699cc\" /><rect x=\"80\" y=\"20\" width=\"20\" height=\"20\" stroke=\"none\" fill=\"#79a6d2\" /><rect x=\"100\" y=\"20\" width=\"20\" height=\"20\" stroke=\"none\" fill=\"#6699cc\" /><rect x=\"120\" y=\"20\" width=\"20\" height=\"20\" stroke=\"none\" fill=\"#8cb3d9\" /><rect x=\"140\" y=\"20\" width=\"20\" height=\"20\" stroke=\"none\" fill=\"#538cc6\" /><rect x=\"160\" y=\"20\" width=\"20\" height=\"20\" stroke=\"none\" fill=\"#8cb3d9\" /><rect x=\"0\" y=\"40\" width=\"20\" height=\"20\" stroke=\"none\" fill=\"#538cc6\" /><rect x=\"20\" y=\"40\" width=\"20\" height=\"20\" stroke=\"none\" fill=\"#8cb3d9\" /><rect x=\"40\" y=\"40\" width=\"20\" height=\"20\" stroke=\"none\" fill=\"#538cc6\" /><rect x=\"60\" y=\"40\" width=\"20\" height=\"20\" stroke=\"none\" fill=\"#79a6d2\" /><rect x=\"80\" y=\"40\" width=\"20\" height=\"20\" stroke=\"none\" fill=\"#6699cc\" /><rect x=\"100\" y=\"40\" width=\"20\" height=\"20\" stroke=\"none\" fill=\"#79a6d2\" /><rect x=\"120\" y=\"40\" width=\"20\" height=\"20\" stroke=\"none\" fill=\"#538cc6\" /><rect x=\"140\" y=\"40\" width=\"20\" height=\"20\" stroke=\"none\" fill=\"#8cb3d9\" /><rect x=\"160\" y=\"40\" width=\"20\" height=\"20\" stroke=\"none\" fill=\"#538cc6\" /><rect x=\"0\" y=\"60\" width=\"20\" height=\"20\" stroke=\"none\" fill=\"#79a6d2\" /><rect x=\"20\" y=\"60\" width=\"20\" height=\"20\" stroke=\"none\" fill=\"#6699cc\" /><rect x=\"40\" y=\"60\" width=\"20\" height=\"20\" stroke=\"none\" fill=\"#79a6d2\" /><rect x=\"60\" y=\"60\" width=\"20\" height=\"20\" stroke=\"none\" fill=\"#538cc6\" /><rect x=\"80\" y=\"60\" width=\"20\" height=\"20\" stroke=\"none\" fill=\"#8cb3d9\" /><rect x=\"100\" y=\"60\" width=\"20\" height=\"20\" stroke=\"none\" fill=\"#538cc6\" /><rect x=\"120\" y=\"60\" width=\"20\" height=\"20\" stroke=\"none\" fill=\"#79a6d2\" /><rect x=\"140\" y=\"60\" width=\"20\" height=\"20\" stroke=\"none\" fill=\"#6699cc\" /><rect x=\"160\" y=\"60\" width=\"20\" height=\"20\" stroke=\"none\" fill=\"#79a6d2\" /><rect x=\"0\" y=\"80\" width=\"20\" height=\"20\" stroke=\"none\" fill=\"#6699cc\" /><rect x=\"20\" y=\"80\" width=\"20\" height=\"20\" stroke=\"none\" fill=\"#79a6d2\" /><rect x=\"40\" y=\"80\" width=\"20\" height=\"20\" stroke=\"none\" fill=\"#6699cc\" /><rect x=\"60\" y=\"80\" width=\"20\" height=\"20\" stroke=\"none\" fill=\"#8cb3d9\" /><rect x=\"80\" y=\"80\" width=\"20\" height=\"20\" stroke=\"none\" fill=\"#538cc6\" /><rect x=\"100\" y=\"80\" width=\"20\" height=\"20\" stroke=\"none\" fill=\"#8cb3d9\" /><rect x=\"120\" y=\"80\" width=\"20\" height=\"20\" stroke=\"none\" fill=\"#6699cc\" /><rect x=\"140\" y=\"80\" width=\"20\" height=\"20\" stroke=\"none\" fill=\"#79a6d2\" /><rect x=\"160\" y=\"80\" width=\"20\" height=\"20\" stroke=\"none\" fill=\"#6699cc\" /><rect x=\"0\" y=\"100\" width=\"20\" height=\"20\" stroke=\"none\" fill=\"#79a6d2\" /><rect x=\"20\" y=\"100\" width=\"20\" height=\"20\" stroke=\"none\" fill=\"#6699cc\" /><rect x=\"40\" y=\"100\" width=\"20\" height=\"20\" stroke=\"none\" fill=\"#79a6d2\" /><rect x=\"60\" y=\"100\" width=\"20\" height=\"20\" stroke=\"none\" fill=\"#538cc6\" /><rect x=\"80\" y=\"100\" width=\"20\" height=\"20\" stroke=\"none\" fill=\"#8cb3d9\" /><rect x=\"100\" y=\"100\" width=\"20\" height=\"20\" stroke=\"none\" fill=\"#538cc6\" /><rect x=\"120\" y=\"100\" width=\"20\" height=\"20\" stroke=\"none\" fill=\"#79a6d2\" /><rect x=\"140\" y=\"100\" width=\"20\" height=\"20\" stroke=\"none\" fill=\"#6699cc\" /><rect x=\"160\" y=\"100\" width=\"20\" height=\"20\" stroke=\"none\" fill=\"#79a6d2\" /><rect x=\"0\" y=\"120\" width=\"20\" height=\"20\" stroke=\"none\" fill=\"#538cc6\" /><rect x=\"20\" y=\"120\" width=\"20\" height=\"20\" stroke=\"none\" fill=\"#8cb3d9\" /><rect x=\"40\" y=\"120\" width=\"20\" height=\"20\" stroke=\"none\" fill=\"#538cc6\" /><rect x=\"60\" y=\"120\" width=\"20\" height=\"20\" stroke=\"none\" fill=\"#79a6d2\" /><rect x=\"80\" y=\"120\" width=\"20\" height=\"20\" stroke=\"none\" fill=\"#6699cc\" /><rect x=\"100\" y=\"120\" width=\"20\" height=\"20\" stroke=\"none\" fill=\"#79a6d2\" /><rect x=\"120\" y=\"120\" width=\"20\" height=\"20\" stroke=\"none\" fill=\"#538cc6\" /><rect x=\"140\" y=\"120\" width=\"20\" height=\"20\" stroke=\"none\" fill=\"#8cb3d9\" /><rect x=\"160\" y=\"120\" width=\"20\" height=\"20\" stroke=\"none\" fill=\"#538cc6\" /><rect x=\"0\" y=\"140\" width=\"20\" height=\"20\" stroke=\"none\" fill=\"#8cb3d9\" /><rect x=\"20\" y=\"140\" width=\"20\" height=\"20\" stroke=\"none\" fill=\"#538cc6\" /><rect x=\"40\" y=\"140\" width=\"20\" height=\"20\" stroke=\"none\" fill=\"#8cb3d9\" /><rect x=\"60\" y=\"140\" width=\"20\" height=\"20\" stroke=\"none\" fill=\"#6699cc\" /><rect x=\"80\" y=\"140\" width=\"20\" height=\"20\" stroke=\"none\" fill=\"#79a6d2\" /><rect x=\"100\" y=\"140\" width=\"20\" height=\"20\" stroke=\"none\" fill=\"#6699cc\" /><rect x=\"120\" y=\"140\" width=\"20\" height=\"20\" stroke=\"none\" fill=\"#8cb3d9\" /><rect x=\"140\" y=\"140\" width=\"20\" height=\"20\" stroke=\"none\" fill=\"#538cc6\" /><rect x=\"160\" y=\"140\" width=\"20\" height=\"20\" stroke=\"none\" fill=\"#8cb3d9\" /><rect x=\"0\" y=\"160\" width=\"20\" height=\"20\" stroke=\"none\" fill=\"#538cc6\" /><rect x=\"20\" y=\"160\" width=\"20\" height=\"20\" stroke=\"none\" fill=\"#8cb3d9\" /><rect x=\"40\" y=\"160\" width=\"20\" height=\"20\" stroke=\"none\" fill=\"#538cc6\" /><rect x=\"60\" y=\"160\" width=\"20\" height=\"20\" stroke=\"none\" fill=\"#79a6d2\" /><rect x=\"80\" y=\"160\" width=\"20\" height=\"20\" stroke=\"none\" fill=\"#6699cc\" /><rect x=\"100\" y=\"160\" width=\"20\" height=\"20\" stroke=\"none\" fill=\"#79a6d2\" /><rect x=\"120\" y=\"160\" width=\"20\" height=\"20\" stroke=\"none\" fill=\"#538cc6\" /><rect x=\"140\" y=\"160\" width=\"20\" height=\"20\" stroke=\"none\" fill=\"#8cb3d9\" /><rect x=\"160\" y=\"160\" width=\"20\" height=\"20\" stroke=\"none\" fill=\"#538cc6\" /><line x1=\"0\" y1=\"0\" x2=\"0\" y2=\"180\" stroke=\"white\" stroke-width=\"1.2\" stroke-linecap=\"butt\" /><line x1=\"60\" y1=\"0\" x2=\"60\" y2=\"180\" stroke=\"white\" stroke-width=\"1.2\" stroke-linecap=\"butt\" /><line x1=\"120\" y1=\"0\" x2=\"120\" y2=\"180\" stroke=\"white\" stroke-width=\"1.2\" stroke-linecap=\"butt\" /><line x1=\"180\" y1=\"0\" x2=\"180\" y2=\"180\" stroke=\"white\" stroke-width=\"1.2\" stroke-linecap=\"butt\" /><line x1=\"0\" y1=\"0\" x2=\"180\" y2=\"0\" stroke=\"white\" stroke-width=\"1.2\" stroke-linecap=\"butt\" /><line x1=\"0\" y1=\"60\" x2=\"180\" y2=\"60\" stroke=\"white\" stroke-width=\"1.2\" stroke-linecap=\"butt\" /><line x1=\"0\" y1=\"120\" x2=\"180\" y2=\"120\" stroke=\"white\" stroke-width=\"1.2\" stroke-linecap=\"butt\" /><line x1=\"0\" y1=\"180\" x2=\"180\" y2=\"180\" stroke=\"white\" stroke-width=\"1.2\" stroke-linecap=\"butt\" /><text x=\"6\" y=\"115\" stroke=\"black\" fill=\"black\">5</text><text x=\"6\" y=\"175\" stroke=\"black\" fill=\"black\">7</text><text x=\"26\" y=\"15\" stroke=\"black\" fill=\"black\">3</text><text x=\"26\" y=\"115\" stroke=\"black\" fill=\"black\">6</text><text x=\"26\" y=\"155\" stroke=\"black\" fill=\"black\">2</text><text x=\"46\" y=\"15\" stroke=\"black\" fill=\"black\">9</text><text x=\"46\" y=\"135\" stroke=\"black\" fill=\"black\">5</text><text x=\"46\" y=\"155\" stroke=\"black\" fill=\"black\">1</text><text x=\"66\" y=\"35\" stroke=\"black\" fill=\"black\">7</text><text x=\"66\" y=\"75\" stroke=\"black\" fill=\"black\">6</text><text x=\"66\" y=\"135\" stroke=\"black\" fill=\"black\">2</text><text x=\"86\" y=\"55\" stroke=\"black\" fill=\"black\">6</text><text x=\"86\" y=\"95\" stroke=\"black\" fill=\"black\">4</text><text x=\"106\" y=\"55\" stroke=\"black\" fill=\"black\">5</text><text x=\"106\" y=\"75\" stroke=\"black\" fill=\"black\">3</text><text x=\"106\" y=\"135\" stroke=\"black\" fill=\"black\">9</text><text x=\"126\" y=\"35\" stroke=\"black\" fill=\"black\">4</text><text x=\"126\" y=\"75\" stroke=\"black\" fill=\"black\">2</text><text x=\"126\" y=\"95\" stroke=\"black\" fill=\"black\">8</text><text x=\"126\" y=\"175\" stroke=\"black\" fill=\"black\">5</text><text x=\"146\" y=\"35\" stroke=\"black\" fill=\"black\">9</text><text x=\"146\" y=\"55\" stroke=\"black\" fill=\"black\">8</text><text x=\"146\" y=\"75\" stroke=\"black\" fill=\"black\">7</text><text x=\"146\" y=\"155\" stroke=\"black\" fill=\"black\">4</text><text x=\"166\" y=\"15\" stroke=\"black\" fill=\"black\">7</text><text x=\"166\" y=\"35\" stroke=\"black\" fill=\"black\">2</text><text x=\"166\" y=\"55\" stroke=\"black\" fill=\"black\">3</text><text x=\"166\" y=\"135\" stroke=\"black\" fill=\"black\">1</text><text x=\"126\" y=\"55\" stroke=\"#99ff33\" fill=\"#99ff33\">1</text><text x=\"126\" y=\"15\" stroke=\"#99ff33\" fill=\"#99ff33\">6</text><text x=\"146\" y=\"15\" stroke=\"#99ff33\" fill=\"#99ff33\">5</text><text x=\"46\" y=\"35\" stroke=\"#99ff33\" fill=\"#99ff33\">8</text><text x=\"46\" y=\"75\" stroke=\"#99ff33\" fill=\"#99ff33\">4</text><text x=\"106\" y=\"35\" stroke=\"#99ff33\" fill=\"#99ff33\">1</text><text x=\"86\" y=\"35\" stroke=\"#99ff33\" fill=\"#99ff33\">3</text><text x=\"6\" y=\"35\" stroke=\"#99ff33\" fill=\"#99ff33\">6</text><text x=\"26\" y=\"35\" stroke=\"#99ff33\" fill=\"#99ff33\">5</text><text x=\"86\" y=\"175\" stroke=\"#99ff33\" fill=\"#99ff33\">1</text><text x=\"166\" y=\"75\" stroke=\"#99ff33\" fill=\"#99ff33\">5</text><text x=\"66\" y=\"15\" stroke=\"#99ff33\" fill=\"#99ff33\">4</text><text x=\"66\" y=\"55\" stroke=\"#99ff33\" fill=\"#99ff33\">9</text><text x=\"6\" y=\"15\" stroke=\"#99ff33\" fill=\"#99ff33\">1</text><text x=\"86\" y=\"15\" stroke=\"#99ff33\" fill=\"#99ff33\">2</text><text x=\"106\" y=\"15\" stroke=\"#99ff33\" fill=\"#99ff33\">8</text><text x=\"66\" y=\"115\" stroke=\"#99ff33\" fill=\"#99ff33\">1</text><text x=\"146\" y=\"115\" stroke=\"#99ff33\" fill=\"#99ff33\">3</text><text x=\"146\" y=\"135\" stroke=\"#99ff33\" fill=\"#99ff33\">6</text><text x=\"146\" y=\"95\" stroke=\"#99ff33\" fill=\"#99ff33\">1</text><text x=\"146\" y=\"175\" stroke=\"#99ff33\" fill=\"#99ff33\">2</text><text x=\"126\" y=\"115\" stroke=\"#99ff33\" fill=\"#99ff33\">9</text><text x=\"166\" y=\"95\" stroke=\"#99ff33\" fill=\"#99ff33\">6</text><text x=\"66\" y=\"95\" stroke=\"#99ff33\" fill=\"#99ff33\">5</text><text x=\"166\" y=\"115\" stroke=\"#99ff33\" fill=\"#99ff33\">4</text><text x=\"26\" y=\"95\" stroke=\"#99ff33\" fill=\"#99ff33\">7</text><text x=\"46\" y=\"115\" stroke=\"#99ff33\" fill=\"#99ff33\">2</text><text x=\"106\" y=\"95\" stroke=\"#99ff33\" fill=\"#99ff33\">2</text><text x=\"106\" y=\"115\" stroke=\"#99ff33\" fill=\"#99ff33\">7</text><text x=\"86\" y=\"115\" stroke=\"#99ff33\" fill=\"#99ff33\">8</text><text x=\"86\" y=\"75\" stroke=\"#99ff33\" fill=\"#99ff33\">9</text><text x=\"86\" y=\"135\" stroke=\"#99ff33\" fill=\"#99ff33\">7</text><text x=\"126\" y=\"135\" stroke=\"#99ff33\" fill=\"#99ff33\">3</text><text x=\"86\" y=\"155\" stroke=\"#99ff33\" fill=\"#99ff33\">5</text><text x=\"126\" y=\"155\" stroke=\"#99ff33\" fill=\"#99ff33\">7</text><text x=\"46\" y=\"95\" stroke=\"#99ff33\" fill=\"#99ff33\">3</text><text x=\"46\" y=\"175\" stroke=\"#99ff33\" fill=\"#99ff33\">6</text><text x=\"106\" y=\"175\" stroke=\"#99ff33\" fill=\"#99ff33\">4</text><text x=\"6\" y=\"95\" stroke=\"#99ff33\" fill=\"#99ff33\">9</text><text x=\"46\" y=\"55\" stroke=\"#99ff33\" fill=\"#99ff33\">7</text><text x=\"26\" y=\"55\" stroke=\"#99ff33\" fill=\"#99ff33\">4</text><text x=\"26\" y=\"135\" stroke=\"#99ff33\" fill=\"#99ff33\">8</text><text x=\"26\" y=\"75\" stroke=\"#99ff33\" fill=\"#99ff33\">1</text><text x=\"6\" y=\"155\" stroke=\"#99ff33\" fill=\"#99ff33\">3</text><text x=\"66\" y=\"155\" stroke=\"#99ff33\" fill=\"#99ff33\">8</text><text x=\"66\" y=\"175\" stroke=\"#99ff33\" fill=\"#99ff33\">3</text><text x=\"6\" y=\"55\" stroke=\"#99ff33\" fill=\"#99ff33\">2</text><text x=\"6\" y=\"135\" stroke=\"#99ff33\" fill=\"#99ff33\">4</text><text x=\"106\" y=\"155\" stroke=\"#99ff33\" fill=\"#99ff33\">6</text><text x=\"166\" y=\"155\" stroke=\"#99ff33\" fill=\"#99ff33\">9</text><text x=\"26\" y=\"175\" stroke=\"#99ff33\" fill=\"#99ff33\">9</text><text x=\"166\" y=\"175\" stroke=\"#99ff33\" fill=\"#99ff33\">8</text><text x=\"6\" y=\"75\" stroke=\"#99ff33\" fill=\"#99ff33\">8</text></svg></div>"
      ],
      "text/plain": [
       "<problem_visuals.games.sudoku.grid.Grid at 0x7fc69c9c1960>"
      ]
     },
     "execution_count": 38,
     "metadata": {},
     "output_type": "execute_result"
    }
   ],
   "source": [
    "show_solution(Solution)"
   ]
  },
  {
   "cell_type": "code",
   "execution_count": 39,
   "metadata": {
    "scrolled": false
   },
   "outputs": [
    {
     "name": "stdout",
     "output_type": "stream",
     "text": [
      "ValuesPerVar[V24] = {7}\n",
      "ValuesPerVar[V73] = {5}\n",
      "ValuesPerVar[V62] = {6}\n",
      "ValuesPerVar[V19] = {7}\n",
      "ValuesPerVar[V57] = {8}\n",
      "ValuesPerVar[V46] = {3}\n",
      "ValuesPerVar[V39] = {3}\n",
      "ValuesPerVar[V12] = {3}\n",
      "ValuesPerVar[V13] = {9}\n",
      "ValuesPerVar[V74] = {2}\n",
      "ValuesPerVar[V27] = {4}\n",
      "ValuesPerVar[V82] = {2}\n",
      "ValuesPerVar[V79] = {1}\n",
      "ValuesPerVar[V91] = {7}\n",
      "ValuesPerVar[V48] = {7}\n",
      "ValuesPerVar[V47] = {2}\n",
      "ValuesPerVar[V44] = {6}\n",
      "ValuesPerVar[V97] = {5}\n",
      "ValuesPerVar[V38] = {8}\n",
      "ValuesPerVar[V88] = {4}\n",
      "ValuesPerVar[V76] = {9}\n",
      "ValuesPerVar[V28] = {9}\n",
      "ValuesPerVar[V36] = {5}\n",
      "ValuesPerVar[V29] = {2}\n",
      "ValuesPerVar[V55] = {4}\n",
      "ValuesPerVar[V61] = {5}\n",
      "ValuesPerVar[V83] = {1}\n",
      "ValuesPerVar[V35] = {6}\n",
      "V51: {1, 2, 3, 9}\n",
      "V58: {1, 3, 6}\n",
      "V64: {1, 8, 9}\n",
      "V62: {6}\n",
      "V16: {1, 2, 4, 8}\n",
      "V26: {1, 8}\n",
      "V67: {3, 9}\n",
      "V47: {2}\n",
      "V19: {7}\n",
      "V81: {3, 6, 8, 9}\n",
      "V88: {4}\n",
      "V79: {1}\n",
      "V99: {6, 8, 9}\n",
      "V21: {1, 6, 8}\n",
      "V87: {3, 7, 9}\n",
      "V49: {4, 5, 9}\n",
      "V56: {1, 2, 7}\n",
      "V24: {7}\n",
      "V18: {5}\n",
      "V15: {1, 2, 8}\n",
      "V91: {7}\n",
      "V89: {6, 8, 9}\n",
      "V86: {6, 7, 8}\n",
      "V61: {5}\n",
      "V35: {6}\n",
      "V34: {4, 9}\n",
      "V69: {4, 9}\n",
      "V45: {1, 5, 8, 9}\n",
      "V48: {7}\n",
      "V92: {4, 8, 9}\n",
      "V72: {4, 8}\n",
      "V71: {3, 4, 6, 8}\n",
      "V75: {3, 7, 8}\n",
      "V27: {4}\n",
      "V28: {9}\n",
      "V46: {3}\n",
      "V78: {3, 6}\n",
      "V14: {1, 4, 8}\n",
      "V77: {3, 7}\n",
      "V41: {1, 4, 8, 9}\n",
      "V11: {1, 2, 4, 8}\n",
      "V65: {1, 2, 7, 8, 9}\n",
      "V68: {1, 3}\n",
      "V59: {5, 6, 9}\n",
      "V63: {2, 3, 4, 7, 8}\n",
      "V94: {1, 3, 4, 8}\n",
      "V95: {1, 3, 8}\n",
      "V83: {1}\n",
      "V23: {6, 8}\n",
      "V98: {2, 3, 6}\n",
      "V84: {3, 5, 8}\n",
      "V93: {3, 4, 6, 8}\n",
      "V39: {3}\n",
      "V52: {1, 7, 9}\n",
      "V54: {1, 5, 9}\n",
      "V82: {2}\n",
      "V74: {2}\n",
      "V29: {2}\n",
      "V76: {9}\n",
      "V43: {4, 8}\n",
      "V42: {1, 4, 8, 9}\n",
      "V13: {9}\n",
      "V37: {1}\n",
      "V66: {1, 2, 7, 8}\n",
      "V57: {8}\n",
      "V44: {6}\n",
      "V53: {2, 3, 7}\n",
      "V97: {5}\n",
      "V12: {3}\n",
      "V17: {6}\n",
      "V22: {1, 5, 8}\n",
      "V73: {5}\n",
      "V36: {5}\n",
      "V33: {2, 4, 7}\n",
      "V85: {3, 5, 7, 8}\n",
      "V25: {1, 3, 8}\n",
      "V55: {4}\n",
      "V38: {8}\n",
      "V32: {4, 7}\n",
      "V31: {2, 4}\n",
      "V96: {1, 4, 6, 8}\n",
      "CPU times: user 478 ms, sys: 8.01 ms, total: 486 ms\n",
      "Wall time: 486 ms\n"
     ]
    }
   ],
   "source": [
    "%%time\n",
    "Solution = solve(csp, check_consistency=True)"
   ]
  },
  {
   "cell_type": "markdown",
   "metadata": {},
   "source": [
    "## Solving a Crypto-Arithmetic Puzzle"
   ]
  },
  {
   "cell_type": "code",
   "execution_count": 40,
   "metadata": {},
   "outputs": [],
   "source": [
    "from CryptoArithmetic import crypto_csp, crypto_csp_hard, show_solution"
   ]
  },
  {
   "cell_type": "code",
   "execution_count": 41,
   "metadata": {},
   "outputs": [],
   "source": [
    "csp = crypto_csp()"
   ]
  },
  {
   "cell_type": "markdown",
   "metadata": {},
   "source": [
    "With *consistency checking* the time to solve the crypto arithmetic puzzle is reduced to less than 150 milliseconds."
   ]
  },
  {
   "cell_type": "code",
   "execution_count": 42,
   "metadata": {},
   "outputs": [
    {
     "name": "stdout",
     "output_type": "stream",
     "text": [
      "ValuesPerVar[M] = {1, 2, 3, 4, 5, 6, 7, 8, 9}\n",
      "ValuesPerVar[S] = {1, 2, 3, 4, 5, 6, 7, 8, 9}\n",
      "O: {0, 9}\n",
      "R: {0, 2, 3, 4, 5, 6, 7, 8, 9}\n",
      "C1: {0, 1}\n",
      "M: {1}\n",
      "Y: {0, 2, 3, 4, 5, 6, 7, 8, 9}\n",
      "C2: {0, 1}\n",
      "N: {0, 2, 3, 4, 5, 6, 7, 8, 9}\n",
      "D: {0, 2, 3, 4, 5, 6, 7, 8, 9}\n",
      "C3: {0, 1}\n",
      "E: {0, 2, 3, 4, 5, 6, 7, 8, 9}\n",
      "S: {8, 9}\n",
      "CPU times: user 356 ms, sys: 5.69 ms, total: 362 ms\n",
      "Wall time: 362 ms\n"
     ]
    }
   ],
   "source": [
    "%%time\n",
    "Solution = solve(csp, check_consistency=True)"
   ]
  },
  {
   "cell_type": "code",
   "execution_count": 43,
   "metadata": {},
   "outputs": [
    {
     "name": "stdout",
     "output_type": "stream",
     "text": [
      "O = 0\n",
      "R = 8\n",
      "M = 1\n",
      "Y = 2\n",
      "N = 6\n",
      "D = 7\n",
      "E = 5\n",
      "S = 9\n",
      "\n",
      "The solution of\n",
      "\n",
      "    S E N D\n",
      "  + M O R E\n",
      "  ---------\n",
      "  M O N E Y\n",
      "\n",
      "is as follows\n",
      "\n",
      "    9 5 6 7\n",
      "  + 1 0 8 5\n",
      "  ==========\n",
      "  1 0 6 5 2\n"
     ]
    }
   ],
   "source": [
    "show_solution(Solution)"
   ]
  },
  {
   "cell_type": "markdown",
   "metadata": {},
   "source": [
    "Without consistency checking, the problem takes 1.45 seconds."
   ]
  },
  {
   "cell_type": "code",
   "execution_count": 44,
   "metadata": {},
   "outputs": [
    {
     "name": "stdout",
     "output_type": "stream",
     "text": [
      "ValuesPerVar[M] = {1, 2, 3, 4, 5, 6, 7, 8, 9}\n",
      "ValuesPerVar[S] = {1, 2, 3, 4, 5, 6, 7, 8, 9}\n",
      "CPU times: user 4.17 s, sys: 23.5 ms, total: 4.19 s\n",
      "Wall time: 4.2 s\n"
     ]
    }
   ],
   "source": [
    "%%time\n",
    "Solution = solve(csp, check_consistency=False)"
   ]
  },
  {
   "cell_type": "code",
   "execution_count": 45,
   "metadata": {},
   "outputs": [
    {
     "data": {
      "text/plain": [
       "({'C1', 'C2', 'C3', 'D', 'E', 'M', 'N', 'O', 'R', 'S', 'Y'},\n",
       " {0, 1, 2, 3, 4, 5, 6, 7, 8, 9},\n",
       " {'D != E',\n",
       "  'D != M',\n",
       "  'D != N',\n",
       "  'D != O',\n",
       "  'D != R',\n",
       "  'D != S',\n",
       "  'D != Y',\n",
       "  'D + E      == C1 * 10 + Y',\n",
       "  'E != M',\n",
       "  'E != N',\n",
       "  'E != O',\n",
       "  'E != R',\n",
       "  'E != S',\n",
       "  'E != Y',\n",
       "  'E + O + C2 == C3 * 10 + N',\n",
       "  'M != 0',\n",
       "  'M != N',\n",
       "  'M != O',\n",
       "  'M != R',\n",
       "  'M != S',\n",
       "  'M != Y',\n",
       "  'N != O',\n",
       "  'N != R',\n",
       "  'N != S',\n",
       "  'N != Y',\n",
       "  'N + R + C1 == C2 * 10 + E',\n",
       "  'O != R',\n",
       "  'O != S',\n",
       "  'O != Y',\n",
       "  'R != S',\n",
       "  'R != Y',\n",
       "  'S != 0',\n",
       "  'S != Y',\n",
       "  'S + M + C3 ==  M * 10 + O'})"
      ]
     },
     "execution_count": 45,
     "metadata": {},
     "output_type": "execute_result"
    }
   ],
   "source": [
    "csp = crypto_csp_hard()\n",
    "csp"
   ]
  },
  {
   "cell_type": "code",
   "execution_count": 46,
   "metadata": {
    "scrolled": true
   },
   "outputs": [
    {
     "name": "stdout",
     "output_type": "stream",
     "text": [
      "ValuesPerVar[M] = {1, 2, 3, 4, 5, 6, 7, 8, 9}\n",
      "ValuesPerVar[S] = {1, 2, 3, 4, 5, 6, 7, 8, 9}\n",
      "O: {0}\n",
      "R: {2, 3, 4, 5, 6, 7, 8}\n",
      "C1: {0, 1}\n",
      "M: {1}\n",
      "Y: {2, 3, 4, 5, 6, 7, 8}\n",
      "C2: {0, 1}\n",
      "N: {2, 3, 4, 5, 6, 7, 8}\n",
      "D: {2, 3, 4, 5, 6, 7, 8}\n",
      "C3: {0}\n",
      "E: {2, 3, 4, 5, 6, 7, 8}\n",
      "S: {9}\n",
      "CPU times: user 1.54 s, sys: 11.9 ms, total: 1.55 s\n",
      "Wall time: 1.56 s\n"
     ]
    }
   ],
   "source": [
    "%%time\n",
    "Solution = solve(csp, check_consistency=True)"
   ]
  },
  {
   "cell_type": "markdown",
   "metadata": {},
   "source": [
    "For the hard version of the crypto-arithmetic puzzle, *consistency maintenance* decreases the total running time considerably."
   ]
  },
  {
   "cell_type": "code",
   "execution_count": 47,
   "metadata": {},
   "outputs": [
    {
     "name": "stdout",
     "output_type": "stream",
     "text": [
      "ValuesPerVar[M] = {1, 2, 3, 4, 5, 6, 7, 8, 9}\n",
      "ValuesPerVar[S] = {1, 2, 3, 4, 5, 6, 7, 8, 9}\n",
      "CPU times: user 12.1 s, sys: 64 ms, total: 12.1 s\n",
      "Wall time: 12.2 s\n"
     ]
    }
   ],
   "source": [
    "%%time\n",
    "Solution = solve(csp, check_consistency=False)"
   ]
  },
  {
   "cell_type": "code",
   "execution_count": null,
   "metadata": {},
   "outputs": [],
   "source": []
  }
 ],
 "metadata": {
  "kernelspec": {
   "display_name": "Python 3 (ipykernel)",
   "language": "python",
   "name": "python3"
  },
  "language_info": {
   "codemirror_mode": {
    "name": "ipython",
    "version": 3
   },
   "file_extension": ".py",
   "mimetype": "text/x-python",
   "name": "python",
   "nbconvert_exporter": "python",
   "pygments_lexer": "ipython3",
   "version": "3.10.9"
  },
  "toc": {
   "base_numbering": 1,
   "nav_menu": {},
   "number_sections": true,
   "sideBar": true,
   "skip_h1_title": false,
   "title_cell": "Table of Contents",
   "title_sidebar": "Contents",
   "toc_cell": false,
   "toc_position": {},
   "toc_section_display": true,
   "toc_window_display": false
  },
  "varInspector": {
   "cols": {
    "lenName": 16,
    "lenType": 16,
    "lenVar": 40
   },
   "kernels_config": {
    "python": {
     "delete_cmd_postfix": "",
     "delete_cmd_prefix": "del ",
     "library": "var_list.py",
     "varRefreshCmd": "print(var_dic_list())"
    },
    "r": {
     "delete_cmd_postfix": ") ",
     "delete_cmd_prefix": "rm(",
     "library": "var_list.r",
     "varRefreshCmd": "cat(var_dic_list()) "
    }
   },
   "types_to_exclude": [
    "module",
    "function",
    "builtin_function_or_method",
    "instance",
    "_Feature"
   ],
   "window_display": false
  }
 },
 "nbformat": 4,
 "nbformat_minor": 2
}
