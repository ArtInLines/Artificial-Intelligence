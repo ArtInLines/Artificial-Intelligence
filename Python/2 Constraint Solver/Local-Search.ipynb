{
 "cells": [
  {
   "cell_type": "code",
   "execution_count": null,
   "metadata": {},
   "outputs": [],
   "source": [
    "%%HTML\n",
    "<style>\n",
    ".container { width:100% }\n",
    "</style>"
   ]
  },
  {
   "cell_type": "markdown",
   "metadata": {},
   "source": [
    "# Local Search"
   ]
  },
  {
   "cell_type": "markdown",
   "metadata": {},
   "source": [
    "## Utility Functions"
   ]
  },
  {
   "cell_type": "markdown",
   "metadata": {},
   "source": [
    "The module `extractVariables` implements the function $\\texttt{extractVars}(e)$ that takes a *Python* expression $e$ as its argument and returns the set of all variables and function names occurring in $e$."
   ]
  },
  {
   "cell_type": "code",
   "execution_count": null,
   "metadata": {},
   "outputs": [],
   "source": [
    "import extractVariables as ev"
   ]
  },
  {
   "cell_type": "markdown",
   "metadata": {},
   "source": [
    "The function `collect_variables(expr)` takes a string `expr` that can be interpreted as a Python expression as input and collects all variables occurring in `expr`.  It takes care to eliminate the function symbols from the names returned by `extract_variables`."
   ]
  },
  {
   "cell_type": "code",
   "execution_count": null,
   "metadata": {},
   "outputs": [],
   "source": [
    "def collect_variables(expr):\n",
    "    return frozenset(var for var in ev.extractVars(expr)\n",
    "                         if  var not in dir(__builtins__)\n",
    "                    )"
   ]
  },
  {
   "cell_type": "markdown",
   "metadata": {},
   "source": [
    "The function `arb(S)` takes a set `S` as input and returns an arbitrary element from \n",
    "this set."
   ]
  },
  {
   "cell_type": "code",
   "execution_count": null,
   "metadata": {},
   "outputs": [],
   "source": [
    "def arb(S):\n",
    "    for x in S:\n",
    "        return x"
   ]
  },
  {
   "cell_type": "markdown",
   "metadata": {},
   "source": [
    "We need the function `choice` from the module `random`.  Given a list `L`, `random.choice(L)` returns a random element from `L`.  In order to have reproducible results, we set the seed for the random number generator."
   ]
  },
  {
   "cell_type": "code",
   "execution_count": null,
   "metadata": {},
   "outputs": [],
   "source": [
    "import random\n",
    "random.seed(42)"
   ]
  },
  {
   "cell_type": "markdown",
   "metadata": {},
   "source": [
    "Given a dictionary `A`, the function `extend(A)` returns a dictionary `B` such that `B[key] = value` and `B[x] = A[x]` for all `x` that are different from `key`."
   ]
  },
  {
   "cell_type": "code",
   "execution_count": null,
   "metadata": {},
   "outputs": [],
   "source": [
    "def extend(A, key, value):\n",
    "    B = A.copy()\n",
    "    B[key] = value\n",
    "    return B"
   ]
  },
  {
   "cell_type": "markdown",
   "metadata": {},
   "source": [
    "The module `Set` implements <em style=\"color:blue;\">sets</em> as \n",
    "<a href=\"https://en.wikipedia.org/wiki/AVL_tree\">AVL trees</a>.\n",
    "The API provided by `Set` offers the following functions and methods:\n",
    "- `Set()` creates an empty set.\n",
    "- `S.isEmpty()` checks whether the set `S`is empty.\n",
    "- `S.member(x)` checks whether `x` is an element of the set `S`.\n",
    "- `S.insert(x)` inserts `x` into the set `S`.\n",
    "  This does not return a new set but rather modifies the set `S`.\n",
    "- `S.delete(x)` deletes `x` from the set `S`.\n",
    "  This does not return a new set but rather modifies the set `S`.\n",
    "- `S.pop()` returns the smallest element of the set `S`.\n",
    "  Furthermore, this element is removed from `S`.\n",
    "- `S.pop_last()` returns the biggest element of the set `S`.\n",
    "  Furthermore, this element is removed from `S`.\n",
    "- `S.first()` returns the smallest element of the set `S`.\n",
    "- `S.last()` returns the biggest element of the set `S`.\n",
    "\n",
    "Since sets are implemented as <em style=\"color:blue;\">ordered binary trees</em>, the elements of a set need to be <em style=\"color:blue;\">comparable</em>, i.e. if `x` and `y` are inserted into a set, then the \n",
    "expression `x < y` must return a Boolean value and `<` has to define a \n",
    "<em style=\"color:blue;\">linear order</em>.\n",
    "\n",
    "The module `Set` can be used to implement a priority queue that supports the removal of elements."
   ]
  },
  {
   "cell_type": "code",
   "execution_count": null,
   "metadata": {},
   "outputs": [],
   "source": [
    "import Set"
   ]
  },
  {
   "cell_type": "markdown",
   "metadata": {},
   "source": [
    "The function `cast_to_set(L)` returns a set containing all elements from the iterable `L`. "
   ]
  },
  {
   "cell_type": "code",
   "execution_count": null,
   "metadata": {},
   "outputs": [],
   "source": [
    "def cast_to_Set(L):\n",
    "    Result = Set.Set()\n",
    "    for x in L:\n",
    "        Result.insert(x)\n",
    "    return Result"
   ]
  },
  {
   "cell_type": "markdown",
   "metadata": {},
   "source": [
    "## A Constraint Propagation Solver Using Local Search"
   ]
  },
  {
   "cell_type": "markdown",
   "metadata": {},
   "source": [
    "The procedure `solve(P)` takes a <b style=\"color:blue\">constraint satisfaction problem</b> \n",
    "`P` as input.  Here `P` is a triple of the form \n",
    "$$ \\mathcal{P} = \\langle \\mathtt{Variables}, \\mathtt{Values}, \\mathtt{Constraints} \\rangle $$\n",
    "where \n",
    "- $\\mathtt{Variables}$ is a set of strings which serve as <b style=\"color:blue\">variables</b>,\n",
    "- $\\mathtt{Values}$ is a set of <b style=\"color:blue\">values</b> that can be assigned \n",
    "  to the variables in the set $\\mathtt{Variables}$.\n",
    "- $\\mathtt{Constraints}$ is a set of <b style=\"color:blue\">formulas</b> from first order logic.  \n",
    "  Each of these formulas is  called a <b style=\"color:blue\">constraint</b> of $\\mathcal{P}$.\n",
    "  \n",
    "The CSP `P` is solved using <b style=\"color:blue\">local search</b>."
   ]
  },
  {
   "cell_type": "code",
   "execution_count": null,
   "metadata": {},
   "outputs": [],
   "source": [
    "def solve(P):\n",
    "    Variables, Values, Constraints = P\n",
    "    Variables = list(Variables)  # convert to list for random.choice(Variables) to work \n",
    "    Values    = list(Values)   \n",
    "    Annotated = { (f, collect_variables(f)) for f in Constraints }\n",
    "    Assign    = { x: random.choice(Values) for x in Variables }\n",
    "    iteration = 0\n",
    "    lastVar   = arb(Variables)\n",
    "    while True:\n",
    "        Conflicts = [ (numConflicts(x, Assign, Annotated), x) for x in Variables\n",
    "                                                              if  x != lastVar\n",
    "                    ]\n",
    "        maxNum, _ = Set.last(cast_to_Set(Conflicts))\n",
    "        if maxNum == 0 and numConflicts(lastVar, Assign, Annotated) == 0:      \n",
    "            print(f'Number of iterations: {iteration}')\n",
    "            return Assign\n",
    "        if iteration % 10 == 0:    # avoid infinite loop\n",
    "            x = random.choice(Variables)\n",
    "        else:     # choose var with max number of conflicts\n",
    "            FaultyVars = [ var for (num, var) in Conflicts if  num == maxNum ]\n",
    "            x = random.choice(FaultyVars)\n",
    "        Conflicts = [ (numConflicts(x, extend(Assign, x, val), Annotated), val) \n",
    "                      for val in Values \n",
    "                    ]\n",
    "        if iteration % 10 == 0:       # avoid infinite loop\n",
    "            newVal = random.choice(Values) \n",
    "        else:\n",
    "            minNum, _  = Set.first(cast_to_Set(Conflicts))\n",
    "            ValuesForX = [ val for (n, val) in Conflicts if n == minNum ]\n",
    "            newVal     = random.choice(ValuesForX)\n",
    "        Assign[x] = newVal\n",
    "        lastVar = x\n",
    "        iteration += 1"
   ]
  },
  {
   "cell_type": "markdown",
   "metadata": {},
   "source": [
    "The function `numConflicts` takes three arguments:\n",
    "- `x` is a variable,\n",
    "- `Assign` is a dictionary mapping variables to values,\n",
    "- `Annotated` is a set of pairs of the form `(f, V)` where `f` is a constraint and `V` is the set of variables occurring in `f`.\n",
    "        \n",
    "The function returns the number of constraints `f` such that `x` occurs in `f` but `f` is not satisfied."
   ]
  },
  {
   "cell_type": "code",
   "execution_count": null,
   "metadata": {},
   "outputs": [],
   "source": [
    "def numConflicts(x, Assign, Annotated):\n",
    "    NewAssign = Assign.copy()\n",
    "    return len([ (f, V) for (f, V) in Annotated \n",
    "                        if  x in V and not eval(f, NewAssign) \n",
    "               ])"
   ]
  },
  {
   "cell_type": "markdown",
   "metadata": {},
   "source": [
    "## Solving the *Eight-Queens-Puzzle*"
   ]
  },
  {
   "cell_type": "code",
   "execution_count": null,
   "metadata": {},
   "outputs": [],
   "source": [
    "%run N-Queens-Problem-CSP.ipynb"
   ]
  },
  {
   "cell_type": "code",
   "execution_count": null,
   "metadata": {},
   "outputs": [],
   "source": [
    "P = create_csp(8)"
   ]
  },
  {
   "cell_type": "markdown",
   "metadata": {},
   "source": [
    "Local search takes about 22 milliseconds on my desktop to solve the eight queens puzzle.  "
   ]
  },
  {
   "cell_type": "code",
   "execution_count": null,
   "metadata": {
    "scrolled": false
   },
   "outputs": [],
   "source": [
    "%%time\n",
    "Solution = solve(P)\n",
    "print(f'Solution = {Solution}')"
   ]
  },
  {
   "cell_type": "code",
   "execution_count": null,
   "metadata": {},
   "outputs": [],
   "source": [
    "show_solution(Solution)"
   ]
  },
  {
   "cell_type": "markdown",
   "metadata": {},
   "source": [
    "The 50 queens problem can be solved in 5 seconds."
   ]
  },
  {
   "cell_type": "code",
   "execution_count": null,
   "metadata": {},
   "outputs": [],
   "source": [
    "P = create_csp(50)"
   ]
  },
  {
   "cell_type": "code",
   "execution_count": null,
   "metadata": {},
   "outputs": [],
   "source": [
    "%%time\n",
    "Solution = solve(P)"
   ]
  },
  {
   "cell_type": "markdown",
   "metadata": {},
   "source": [
    "## Solving the *Zebra Puzzle*"
   ]
  },
  {
   "cell_type": "code",
   "execution_count": null,
   "metadata": {},
   "outputs": [],
   "source": [
    "%run Zebra.ipynb"
   ]
  },
  {
   "cell_type": "code",
   "execution_count": null,
   "metadata": {},
   "outputs": [],
   "source": [
    "zebra = zebra_csp()"
   ]
  },
  {
   "cell_type": "code",
   "execution_count": null,
   "metadata": {
    "scrolled": true
   },
   "outputs": [],
   "source": [
    "%%time\n",
    "Solution = solve(zebra)"
   ]
  },
  {
   "cell_type": "markdown",
   "metadata": {},
   "source": [
    "Solving the *Zebra Puzzle* takes about 7 seconds."
   ]
  },
  {
   "cell_type": "code",
   "execution_count": null,
   "metadata": {},
   "outputs": [],
   "source": [
    "show_solution(Solution)"
   ]
  },
  {
   "cell_type": "markdown",
   "metadata": {},
   "source": [
    "## Solving a Sudoku Puzzle"
   ]
  },
  {
   "cell_type": "code",
   "execution_count": null,
   "metadata": {},
   "outputs": [],
   "source": [
    "%run Sudoku.ipynb"
   ]
  },
  {
   "cell_type": "code",
   "execution_count": null,
   "metadata": {
    "scrolled": true
   },
   "outputs": [],
   "source": [
    "csp = sudoku_csp(Sudoku)\n",
    "csp"
   ]
  },
  {
   "cell_type": "markdown",
   "metadata": {},
   "source": [
    "Solving the given Sudoku puzzle takes about 1 minute and 30 seconds."
   ]
  },
  {
   "cell_type": "code",
   "execution_count": null,
   "metadata": {
    "scrolled": true
   },
   "outputs": [],
   "source": [
    "%%time\n",
    "Solution = solve(csp)"
   ]
  },
  {
   "cell_type": "code",
   "execution_count": null,
   "metadata": {
    "scrolled": false
   },
   "outputs": [],
   "source": [
    "show_solution(Solution)"
   ]
  },
  {
   "cell_type": "markdown",
   "metadata": {},
   "source": [
    "## Solving a Crypto-Arithmetic Puzzle"
   ]
  },
  {
   "cell_type": "code",
   "execution_count": null,
   "metadata": {},
   "outputs": [],
   "source": [
    "%run Crypto-Arithmetic.ipynb"
   ]
  },
  {
   "cell_type": "code",
   "execution_count": null,
   "metadata": {},
   "outputs": [],
   "source": [
    "csp = crypto_csp()"
   ]
  },
  {
   "cell_type": "markdown",
   "metadata": {},
   "source": [
    "Solving the crypto-arithmetic puzzle took about 7 seconds."
   ]
  },
  {
   "cell_type": "code",
   "execution_count": null,
   "metadata": {},
   "outputs": [],
   "source": [
    "%%time\n",
    "Solution = solve(csp)"
   ]
  },
  {
   "cell_type": "code",
   "execution_count": null,
   "metadata": {},
   "outputs": [],
   "source": [
    "show_solution(Solution)"
   ]
  },
  {
   "cell_type": "code",
   "execution_count": null,
   "metadata": {},
   "outputs": [],
   "source": []
  }
 ],
 "metadata": {
  "kernelspec": {
   "display_name": "Python 3",
   "language": "python",
   "name": "python3"
  },
  "language_info": {
   "codemirror_mode": {
    "name": "ipython",
    "version": 3
   },
   "file_extension": ".py",
   "mimetype": "text/x-python",
   "name": "python",
   "nbconvert_exporter": "python",
   "pygments_lexer": "ipython3",
   "version": "3.7.6"
  },
  "toc": {
   "base_numbering": 1,
   "nav_menu": {},
   "number_sections": true,
   "sideBar": true,
   "skip_h1_title": false,
   "title_cell": "Table of Contents",
   "title_sidebar": "Contents",
   "toc_cell": false,
   "toc_position": {},
   "toc_section_display": true,
   "toc_window_display": false
  },
  "varInspector": {
   "cols": {
    "lenName": 16,
    "lenType": 16,
    "lenVar": 40
   },
   "kernels_config": {
    "python": {
     "delete_cmd_postfix": "",
     "delete_cmd_prefix": "del ",
     "library": "var_list.py",
     "varRefreshCmd": "print(var_dic_list())"
    },
    "r": {
     "delete_cmd_postfix": ") ",
     "delete_cmd_prefix": "rm(",
     "library": "var_list.r",
     "varRefreshCmd": "cat(var_dic_list()) "
    }
   },
   "types_to_exclude": [
    "module",
    "function",
    "builtin_function_or_method",
    "instance",
    "_Feature"
   ],
   "window_display": false
  }
 },
 "nbformat": 4,
 "nbformat_minor": 2
}
