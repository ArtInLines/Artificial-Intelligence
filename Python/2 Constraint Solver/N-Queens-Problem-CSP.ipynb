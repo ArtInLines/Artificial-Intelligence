{
 "cells": [
  {
   "cell_type": "code",
   "execution_count": null,
   "metadata": {},
   "outputs": [],
   "source": [
    "%%HTML\n",
    "<style>\n",
    ".container { width:100% }\n",
    "</style>"
   ]
  },
  {
   "cell_type": "markdown",
   "metadata": {},
   "source": [
    "# The N-Queens-Problem as a CSP"
   ]
  },
  {
   "cell_type": "markdown",
   "metadata": {},
   "source": [
    "The function `create_csp(n)` takes a natural number `n` as argument and returns\n",
    "a <b style=\"color:blue\">constraint satisfaction problem</b> that encodes the \n",
    "`n`-queens puzzle.\n",
    "    \n",
    "A constraint satisfaction problem $\\mathcal{P}$ is a triple of the form\n",
    "$$ \\mathcal{P} = \\langle \\mathtt{Vars}, \\mathtt{Values}, \\mathtt{Constraints} \\rangle $$\n",
    "where \n",
    "- $\\mathtt{Vars}$ is a set of strings which serve as <b style=\"color:blue\">variables</b>.\n",
    "\n",
    "  The idea is that $V_i$ specifies the column of the queen that is placed in row $i$.\n",
    "    \n",
    "- $\\mathtt{Values}$ is a set of <b style=\"color:blue\">values</b> that can be assigned \n",
    "  to the variables in $\\mathtt{Vars}$.\n",
    "  \n",
    "  In the 8-queens-problem we will have $\\texttt{Values} = \\{1,\\cdots,8\\}$.\n",
    "- $\\mathtt{Constraints}$ is a set of formulas from first order logic.  \n",
    "  Each of these formulas is  called a <b style=\"color:blue\">constraint</b> of $\\mathcal{P}$."
   ]
  },
  {
   "cell_type": "code",
   "execution_count": null,
   "metadata": {},
   "outputs": [],
   "source": [
    "def create_csp(n):\n",
    "    S              = range(1, n+1)           \n",
    "    Variables      = { f'V{i}' for i in S }\n",
    "    Values         = set(S)\n",
    "    DifferentCols  = { f'V{i} != V{j}' for i in S\n",
    "                                       for j in S\n",
    "                                       if  i < j \n",
    "                     }\n",
    "    DifferentDiags = { f'abs(V{j} - V{i}) != {j - i}' for i in S\n",
    "                                                      for j in S \n",
    "                                                      if  i < j \n",
    "                     }\n",
    "    return Variables, Values, DifferentCols | DifferentDiags"
   ]
  },
  {
   "cell_type": "markdown",
   "metadata": {},
   "source": [
    "The function `main()` creates a CSP representing the 4-queens puzzle and prints the CSP.\n",
    "It is included for testing purposes."
   ]
  },
  {
   "cell_type": "code",
   "execution_count": null,
   "metadata": {},
   "outputs": [],
   "source": [
    "def main():\n",
    "    Vars, Values, Constraints = create_csp(4)\n",
    "    print('Variables:  ', Vars)\n",
    "    print('Values:     ', Values)\n",
    "    print('Constraints:')\n",
    "    for c in Constraints:\n",
    "        print('            ', c)"
   ]
  },
  {
   "cell_type": "code",
   "execution_count": null,
   "metadata": {
    "scrolled": false
   },
   "outputs": [],
   "source": [
    "main()"
   ]
  },
  {
   "cell_type": "markdown",
   "metadata": {},
   "source": [
    "## Displaying the Solution"
   ]
  },
  {
   "cell_type": "markdown",
   "metadata": {},
   "source": [
    "In order to have a more convenient view of the solution of the 8 queens\n",
    "puzzle, we have to install `python-chess`.  After activating the appropriate  Python environment, this can be done using the following command:\n",
    "```\n",
    "   pip install python-chess\n",
    "```"
   ]
  },
  {
   "cell_type": "code",
   "execution_count": null,
   "metadata": {},
   "outputs": [],
   "source": [
    "import chess"
   ]
  },
  {
   "cell_type": "markdown",
   "metadata": {},
   "source": [
    "The function `show_solution(Solution)` takes a dictionary that contains a variable assignment that represents a solution to the 8-queens puzzle.  It displays this Solution on a chess board."
   ]
  },
  {
   "cell_type": "code",
   "execution_count": null,
   "metadata": {},
   "outputs": [],
   "source": [
    "def show_solution(Solution):\n",
    "    board = chess.Board(None)  # create empty chess board\n",
    "    queen = chess.Piece(chess.QUEEN, True)\n",
    "    for row in range(1, 8+1):\n",
    "        col = Solution['V'+str(row)]\n",
    "        field_number = (row - 1) * 8 + col - 1\n",
    "        board.set_piece_at(field_number, queen)\n",
    "    display(board)"
   ]
  },
  {
   "cell_type": "code",
   "execution_count": null,
   "metadata": {},
   "outputs": [],
   "source": []
  }
 ],
 "metadata": {
  "kernelspec": {
   "display_name": "Python 3",
   "language": "python",
   "name": "python3"
  },
  "language_info": {
   "codemirror_mode": {
    "name": "ipython",
    "version": 3
   },
   "file_extension": ".py",
   "mimetype": "text/x-python",
   "name": "python",
   "nbconvert_exporter": "python",
   "pygments_lexer": "ipython3",
   "version": "3.7.6"
  },
  "toc": {
   "base_numbering": 1,
   "nav_menu": {},
   "number_sections": true,
   "sideBar": false,
   "skip_h1_title": false,
   "title_cell": "Table of Contents",
   "title_sidebar": "Contents",
   "toc_cell": false,
   "toc_position": {
    "height": "calc(100% - 180px)",
    "left": "10px",
    "top": "150px",
    "width": "165px"
   },
   "toc_section_display": false,
   "toc_window_display": false
  },
  "varInspector": {
   "cols": {
    "lenName": 16,
    "lenType": 16,
    "lenVar": 40
   },
   "kernels_config": {
    "python": {
     "delete_cmd_postfix": "",
     "delete_cmd_prefix": "del ",
     "library": "var_list.py",
     "varRefreshCmd": "print(var_dic_list())"
    },
    "r": {
     "delete_cmd_postfix": ") ",
     "delete_cmd_prefix": "rm(",
     "library": "var_list.r",
     "varRefreshCmd": "cat(var_dic_list()) "
    }
   },
   "types_to_exclude": [
    "module",
    "function",
    "builtin_function_or_method",
    "instance",
    "_Feature"
   ],
   "window_display": false
  }
 },
 "nbformat": 4,
 "nbformat_minor": 2
}
