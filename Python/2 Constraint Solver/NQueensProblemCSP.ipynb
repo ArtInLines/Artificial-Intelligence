{
 "cells": [
  {
   "cell_type": "code",
   "execution_count": null,
   "metadata": {},
   "outputs": [],
   "source": [
    "from IPython.core.display import HTML\n",
    "with open('../style.css') as f:\n",
    "    css = f.read()\n",
    "HTML(css)"
   ]
  },
  {
   "cell_type": "markdown",
   "metadata": {},
   "source": [
    "# The N-Queens-Problem as a CSP"
   ]
  },
  {
   "cell_type": "markdown",
   "metadata": {},
   "source": [
    "The function `create_csp(n)` takes a natural number `n` as argument and returns\n",
    "a *constraint satisfaction problem* that encodes the \n",
    "[`n`-queens puzzle](https://en.wikipedia.org/wiki/Eight_queens_puzzle).\n",
    "    \n",
    "A constraint satisfaction problem $\\mathcal{P}$ is a triple of the form\n",
    "$$ \\mathcal{P} = \\langle \\mathtt{Vars}, \\mathtt{Values}, \\mathtt{Constraints} \\rangle $$\n",
    "where \n",
    "- `Vars` is a set of strings which serve as *variables*.\n",
    "\n",
    "  The idea is that $V_i$ specifies the column of the queen that is placed in row $i$.\n",
    "    \n",
    "- `Values` is a set of *values* that can be assigned \n",
    "  to the variables in $\\mathtt{Vars}$.\n",
    "  \n",
    "  In the 8-queens-problem we will have $\\texttt{Values} = \\{1,\\cdots,8\\}$.\n",
    "- `Constraints` is a set of formulas from first order logic.  \n",
    "  Each of these formulas is  called a *constraint* of $\\mathcal{P}$.\n",
    "  There are two different types of constraints.\n",
    "  * We have constraints that express that no two queens that are positioned in different rows share the same\n",
    "    column.  To capture these constraints, we define\n",
    "    $$\\texttt{DifferentCol} := \\bigl\\{ \\texttt{V}_i \\not= \\texttt{V}_j \\bigm| i \\in \\{1,\\cdots,8\\} \\wedge j \\in \\{1,\\cdots,8\\} \\wedge j < i \\bigr\\}.$$\n",
    "    Here the condition $j < i$ ensures that, for example,  while we have the constraint\n",
    "    $\\texttt{V}_2 \\not= \\texttt{V}_1$ we do not also have the constraint  $\\texttt{V}_1 \\not= \\texttt{V}_2$, as the latter \n",
    "    constraint would be redundant if the former constraint had already been established.\n",
    "  * We have constraints that express that no two queens positioned in different rows share the same \n",
    "    diagonal.  The queens in row $i$ and row $j$ share the same diagonal iff the equation\n",
    "    $$ |i - j| = |V_i - V_j| $$\n",
    "    holds.  The expression $|i-j|$ is the absolute value of the difference of the rows of the queens in row\n",
    "    $i$ and row $j$,  while the expression $|V_i - V_j|$ is the absolute value of the difference of the\n",
    "    columns of these queens.  To capture these constraints, we define\n",
    "    $$ \\texttt{DifferentDiag} := \\bigl\\{ |i  - j| \\not= |\\texttt{V}_i - \\texttt{V}_j| \\bigm| i \\in \\{1,\\cdots,8\\} \\wedge j \\in \\{1,\\cdots,8\\} \\wedge j < i \\bigr\\}. $$"
   ]
  },
  {
   "cell_type": "code",
   "execution_count": null,
   "metadata": {},
   "outputs": [],
   "source": [
    "def create_csp(n):\n",
    "    S              = range(1, n+1)           \n",
    "    Variables      = { f'V{i}' for i in S }\n",
    "    Values         = set(S)\n",
    "    DifferentCols  = { f'V{i} != V{j}' for i in S\n",
    "                                       for j in S\n",
    "                                       if  i < j \n",
    "                     }\n",
    "    DifferentDiags = { f'abs(V{j} - V{i}) != {j - i}' for i in S\n",
    "                                                      for j in S \n",
    "                                                      if  i < j \n",
    "                     }\n",
    "    return Variables, Values, DifferentCols | DifferentDiags"
   ]
  },
  {
   "cell_type": "markdown",
   "metadata": {},
   "source": [
    "The function `main()` creates a CSP representing the 4-queens puzzle and prints the CSP.\n",
    "It is included for testing purposes."
   ]
  },
  {
   "cell_type": "code",
   "execution_count": null,
   "metadata": {},
   "outputs": [],
   "source": [
    "def main():\n",
    "    Vars, Values, Constraints = create_csp(4)\n",
    "    print('Variables:  ', Vars)\n",
    "    print('Values:     ', Values)\n",
    "    print('Constraints:')\n",
    "    for c in Constraints:\n",
    "        print('            ', c)"
   ]
  },
  {
   "cell_type": "code",
   "execution_count": null,
   "metadata": {
    "scrolled": false
   },
   "outputs": [],
   "source": [
    "main()"
   ]
  },
  {
   "cell_type": "markdown",
   "metadata": {},
   "source": [
    "## Displaying the Solution"
   ]
  },
  {
   "cell_type": "markdown",
   "metadata": {},
   "source": [
    "The following functions have been contributed by Phillip Polland with minor edits from me.\n",
    "\n",
    "We use the [ElementTree XML API](https://docs.python.org/3.10/library/xml.etree.elementtree.html) below and have to import it."
   ]
  },
  {
   "cell_type": "code",
   "execution_count": null,
   "metadata": {},
   "outputs": [],
   "source": [
    "import xml.etree.ElementTree as ET"
   ]
  },
  {
   "cell_type": "markdown",
   "metadata": {},
   "source": [
    "Furthermore, we use the module [ipywidgets](https://ipywidgets.readthedocs.io/en/stable/). They can be installed in the commandline with the following command:\n",
    "```\n",
    "    conda install -c conda-forge ipywidge\n",
    "```"
   ]
  },
  {
   "cell_type": "code",
   "execution_count": null,
   "metadata": {},
   "outputs": [],
   "source": [
    "from ipywidgets import Layout, HTML"
   ]
  },
  {
   "cell_type": "code",
   "execution_count": null,
   "metadata": {},
   "outputs": [],
   "source": [
    "def _svg(viewbox: int, size: int = None) -> ET.Element:\n",
    "    svg = ET.Element(\"svg\", {\n",
    "        \"xmlns\": \"http://www.w3.org/2000/svg\",\n",
    "        \"xmlns:xlink\": \"http://www.w3.org/1999/xlink\",\n",
    "        \"version\": \"1.2\",\n",
    "        \"baseProfile\": \"tiny\",\n",
    "        \"viewBox\": f\"0 0 {viewbox:d} {viewbox:d}\",\n",
    "    })\n",
    "    if size is not None:\n",
    "        svg.set(\"width\", str(size))\n",
    "        svg.set(\"height\", str(size))\n",
    "    return svg"
   ]
  },
  {
   "cell_type": "markdown",
   "metadata": {},
   "source": [
    "The function `paint_nxn_board(n, Qs)` paints a chessboard with queens.\n",
    "* `n` specifies the number of fields of the board.  For a classical chessboard, `n` is eight.\n",
    "* `Qs` specifies the positions of the queens. `Qs[col]` specifies that in column `col` the queen\n",
    "  is placed in row `Qs[col]`."
   ]
  },
  {
   "cell_type": "code",
   "execution_count": null,
   "metadata": {},
   "outputs": [],
   "source": [
    "def paint_nxn_board(n=8, Qs=None, SQUARE_SIZE=16, size=None):\n",
    "    svg    = _svg(n * SQUARE_SIZE, size)\n",
    "    fields = [(file, rank) for file in range(n) for rank in range(n)]\n",
    "    for file_index, rank_index in fields:\n",
    "        ET.SubElement(svg, \"rect\", {\n",
    "            \"x\"      : str(file_index * SQUARE_SIZE),\n",
    "            \"y\"      : str(rank_index * SQUARE_SIZE),\n",
    "            \"width\"  : str(SQUARE_SIZE),\n",
    "            \"height\" : str(SQUARE_SIZE),\n",
    "            \"fill\"   : \"#ffce9e\" if (file_index + rank_index) % 2 == 0 else \"#d18b47\"\n",
    "        })\n",
    "    if Qs:\n",
    "        with open('queen.svg') as f:\n",
    "            QUEEN_SVG_STRING = f.read()\n",
    "        defs = ET.SubElement(svg, \"defs\")\n",
    "        defs.append(ET.fromstring(QUEEN_SVG_STRING))\n",
    "        scale = SQUARE_SIZE / 45\n",
    "        if any(q >= n or q < 0 for q in Qs): \n",
    "            raise ValueError(\"At least one queen is in an impossible field\")\n",
    "        for file_index, rank_index in enumerate(Qs):\n",
    "            x = file_index * SQUARE_SIZE\n",
    "            y = rank_index * SQUARE_SIZE\n",
    "            href = f\"#white-queen\"\n",
    "            ET.SubElement(svg, \"use\", {\"href\": href, \"transform\": f\"translate({x:d}, {y:d}) scale({scale:f})\"})\n",
    "    return HTML(ET.tostring(svg).decode(\"utf-8\"))"
   ]
  },
  {
   "cell_type": "markdown",
   "metadata": {},
   "source": [
    "The function `show_solution(Solution)` takes a dictionary that contains a variable assignment that represents a solution to the 8-queens puzzle.  It displays this Solution on a chess board."
   ]
  },
  {
   "cell_type": "code",
   "execution_count": null,
   "metadata": {},
   "outputs": [],
   "source": [
    "def show_solution(Solution, size=500):\n",
    "    n      = len(Solution)\n",
    "    Queens = [None for col in range(n)]\n",
    "    for row in range(n):\n",
    "        col = Solution['V'+str(row+1)]\n",
    "        Queens[col-1] = row\n",
    "    return paint_nxn_board(n, Queens, SQUARE_SIZE=16, size=size)"
   ]
  },
  {
   "cell_type": "code",
   "execution_count": null,
   "metadata": {},
   "outputs": [],
   "source": [
    "Solution = {'V5': 1, 'V2': 2, 'V4': 6, 'V6': 3, 'V1': 7, 'V7': 5, 'V3': 4}"
   ]
  },
  {
   "cell_type": "code",
   "execution_count": null,
   "metadata": {},
   "outputs": [],
   "source": [
    "show_solution(Solution)"
   ]
  },
  {
   "cell_type": "code",
   "execution_count": null,
   "metadata": {},
   "outputs": [],
   "source": [
    "Solution2 = {'V5': 1, 'V2': 2, 'V4': 6, 'V6': 3, 'V1': 7, 'V7': 5, 'V3': 4, 'V9':8, 'V8': 9}"
   ]
  },
  {
   "cell_type": "code",
   "execution_count": null,
   "metadata": {},
   "outputs": [],
   "source": [
    "show_solution(Solution2, 700)"
   ]
  },
  {
   "cell_type": "code",
   "execution_count": null,
   "metadata": {},
   "outputs": [],
   "source": []
  }
 ],
 "metadata": {
  "kernelspec": {
   "display_name": "Python 3 (ipykernel)",
   "language": "python",
   "name": "python3"
  },
  "language_info": {
   "codemirror_mode": {
    "name": "ipython",
    "version": 3
   },
   "file_extension": ".py",
   "mimetype": "text/x-python",
   "name": "python",
   "nbconvert_exporter": "python",
   "pygments_lexer": "ipython3",
   "version": "3.10.8"
  },
  "toc": {
   "base_numbering": 1,
   "nav_menu": {},
   "number_sections": true,
   "sideBar": false,
   "skip_h1_title": false,
   "title_cell": "Table of Contents",
   "title_sidebar": "Contents",
   "toc_cell": false,
   "toc_position": {
    "height": "calc(100% - 180px)",
    "left": "10px",
    "top": "150px",
    "width": "165px"
   },
   "toc_section_display": false,
   "toc_window_display": false
  },
  "varInspector": {
   "cols": {
    "lenName": 16,
    "lenType": 16,
    "lenVar": 40
   },
   "kernels_config": {
    "python": {
     "delete_cmd_postfix": "",
     "delete_cmd_prefix": "del ",
     "library": "var_list.py",
     "varRefreshCmd": "print(var_dic_list())"
    },
    "r": {
     "delete_cmd_postfix": ") ",
     "delete_cmd_prefix": "rm(",
     "library": "var_list.r",
     "varRefreshCmd": "cat(var_dic_list()) "
    }
   },
   "types_to_exclude": [
    "module",
    "function",
    "builtin_function_or_method",
    "instance",
    "_Feature"
   ],
   "window_display": false
  }
 },
 "nbformat": 4,
 "nbformat_minor": 2
}
