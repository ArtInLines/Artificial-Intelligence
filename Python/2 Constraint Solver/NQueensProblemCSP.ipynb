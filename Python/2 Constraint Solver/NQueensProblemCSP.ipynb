{
 "cells": [
  {
   "cell_type": "code",
   "execution_count": null,
   "metadata": {},
   "outputs": [],
   "source": [
    "from IPython.core.display import HTML\n",
    "with open('../style.css') as f:\n",
    "    css = f.read()\n",
    "HTML(css)"
   ]
  },
  {
   "cell_type": "markdown",
   "metadata": {},
   "source": [
    "# The N-Queens-Problem as a CSP"
   ]
  },
  {
   "cell_type": "markdown",
   "metadata": {},
   "source": [
    "The function `create_csp(n)` takes a natural number `n` as argument and returns\n",
    "a *constraint satisfaction problem* that encodes the \n",
    "[`n`-queens puzzle](https://en.wikipedia.org/wiki/Eight_queens_puzzle).\n",
    "    \n",
    "A constraint satisfaction problem $\\mathcal{P}$ is a triple of the form\n",
    "$$ \\mathcal{P} = \\langle \\mathtt{Vars}, \\mathtt{Values}, \\mathtt{Constraints} \\rangle $$\n",
    "where \n",
    "- `Vars` is a set of strings which serve as *variables*.\n",
    "\n",
    "  The idea is that $V_i$ specifies the column of the queen that is placed in row $i$.\n",
    "    \n",
    "- `Values` is a set of *values* that can be assigned \n",
    "  to the variables in $\\mathtt{Vars}$.\n",
    "  \n",
    "  In the 8-queens-problem we will have $\\texttt{Values} = \\{1,\\cdots,8\\}$.\n",
    "- `Constraints` is a set of formulas from first order logic.  \n",
    "  Each of these formulas is  called a *constraint* of $\\mathcal{P}$.\n",
    "  There are two different types of constraints.\n",
    "  * We have constraints that express that no two queens that are positioned in different rows share the same\n",
    "    column.  To capture these constraints, we define\n",
    "    $$\\texttt{DifferentCol} := \\bigl\\{ \\texttt{V}_i \\not= \\texttt{V}_j \\bigm| i \\in \\{1,\\cdots,8\\} \\wedge j \\in \\{1,\\cdots,8\\} \\wedge j < i \\bigr\\}.$$\n",
    "    Here the condition $j < i$ ensures that, for example,  while we have the constraint\n",
    "    $\\texttt{V}_2 \\not= \\texttt{V}_1$ we do not also have the constraint  $\\texttt{V}_1 \\not= \\texttt{V}_2$, as the latter \n",
    "    constraint would be redundant if the former constraint had already been established.\n",
    "  * We have constraints that express that no two queens positioned in different rows share the same \n",
    "    diagonal.  The queens in row $i$ and row $j$ share the same diagonal iff the equation\n",
    "    $$ |i - j| = |V_i - V_j| $$\n",
    "    holds.  The expression $|i-j|$ is the absolute value of the difference of the rows of the queens in row\n",
    "    $i$ and row $j$,  while the expression $|V_i - V_j|$ is the absolute value of the difference of the\n",
    "    columns of these queens.  To capture these constraints, we define\n",
    "    $$ \\texttt{DifferentDiag} := \\bigl\\{ |i  - j| \\not= |\\texttt{V}_i - \\texttt{V}_j| \\bigm| i \\in \\{1,\\cdots,8\\} \\wedge j \\in \\{1,\\cdots,8\\} \\wedge j < i \\bigr\\}. $$"
   ]
  },
  {
   "cell_type": "code",
   "execution_count": null,
   "metadata": {},
   "outputs": [],
   "source": [
    "def create_csp(n):\n",
    "    S              = range(1, n+1)           \n",
    "    Variables      = { f'V{i}' for i in S }\n",
    "    Values         = set(S)\n",
    "    DifferentCols  = { f'V{i} != V{j}' for i in S\n",
    "                                       for j in S\n",
    "                                       if  i < j \n",
    "                     }\n",
    "    DifferentDiags = { f'abs(V{j} - V{i}) != {j - i}' for i in S\n",
    "                                                      for j in S \n",
    "                                                      if  i < j \n",
    "                     }\n",
    "    return Variables, Values, DifferentCols | DifferentDiags"
   ]
  },
  {
   "cell_type": "markdown",
   "metadata": {},
   "source": [
    "The function `main()` creates a CSP representing the 4-queens puzzle and prints the CSP.\n",
    "It is included for testing purposes."
   ]
  },
  {
   "cell_type": "code",
   "execution_count": null,
   "metadata": {},
   "outputs": [],
   "source": [
    "def main():\n",
    "    Vars, Values, Constraints = create_csp(4)\n",
    "    print('Variables:  ', Vars)\n",
    "    print('Values:     ', Values)\n",
    "    print('Constraints:')\n",
    "    for c in Constraints:\n",
    "        print('            ', c)"
   ]
  },
  {
   "cell_type": "code",
   "execution_count": null,
   "metadata": {
    "scrolled": false
   },
   "outputs": [],
   "source": [
    "main()"
   ]
  },
  {
   "cell_type": "markdown",
   "metadata": {},
   "source": [
    "## Displaying the Solution"
   ]
  },
  {
   "cell_type": "markdown",
   "metadata": {},
   "source": [
    "This The following functions have been contributed by Phillip Polland with minor edits from me.\n",
    "\n",
    "We use the [ElementTree XML API](https://docs.python.org/3.10/library/xml.etree.elementtree.html) below and have to import it."
   ]
  },
  {
   "cell_type": "code",
   "execution_count": null,
   "metadata": {},
   "outputs": [],
   "source": [
    "import xml.etree.ElementTree as ET"
   ]
  },
  {
   "cell_type": "markdown",
   "metadata": {},
   "source": [
    "Furthermore, we use the module ipywidgets. They can be installed in the commandline with the following command:\n",
    "\n",
    "conda install -c conda-forge ipywidge"
   ]
  },
  {
   "cell_type": "code",
   "execution_count": null,
   "metadata": {},
   "outputs": [],
   "source": [
    "from ipywidgets import Layout, HTML"
   ]
  },
  {
   "cell_type": "code",
   "execution_count": null,
   "metadata": {},
   "outputs": [],
   "source": [
    "def _svg(viewbox: int, size: int = None) -> ET.Element:\n",
    "    svg = ET.Element(\"svg\", {\n",
    "        \"xmlns\": \"http://www.w3.org/2000/svg\",\n",
    "        \"xmlns:xlink\": \"http://www.w3.org/1999/xlink\",\n",
    "        \"version\": \"1.2\",\n",
    "        \"baseProfile\": \"tiny\",\n",
    "        \"viewBox\": f\"0 0 {viewbox:d} {viewbox:d}\",\n",
    "    })\n",
    "    if size is not None:\n",
    "        svg.set(\"width\", str(size))\n",
    "        svg.set(\"height\", str(size))\n",
    "    return svg"
   ]
  },
  {
   "cell_type": "code",
   "execution_count": null,
   "metadata": {},
   "outputs": [],
   "source": [
    "class SvgWrapper(str):\n",
    "    def _repr_svg_(self):\n",
    "        return self\n",
    "\n",
    "    def save_svg(self, file):\n",
    "        with open(file, \"w\") as f:\n",
    "            f.write(self)"
   ]
  },
  {
   "cell_type": "code",
   "execution_count": null,
   "metadata": {},
   "outputs": [],
   "source": [
    "def _attrs(attrs):\n",
    "    return {k: str(v) for k, v in attrs.items() if v is not None}"
   ]
  },
  {
   "cell_type": "markdown",
   "metadata": {},
   "source": [
    "The function `paint_nxn_board(n, Qs)` paints a chessboard with queens.\n",
    "* `n` specifies the number of fields of the board.  For a classical chessboard, `n` is eight.\n",
    "* `Qs` specifies the positions of the queens. `Qs[col]` specifies that in column `col` the queen\n",
    "  is placed in row `Qs[col]`."
   ]
  },
  {
   "cell_type": "code",
   "execution_count": null,
   "metadata": {},
   "outputs": [],
   "source": [
    "def paint_nxn_board(n: int = 8, Qs: list = None, SQUARE_SIZE: int = 16, size: int = None, ipy_off=False):\n",
    "    QUEEN_SVG_STRING = \"\"\"<g id=\"white-queen\" class=\"white queen\" fill=\"#fff\" fill-rule=\"evenodd\" stroke=\"#000\" stroke-width=\"1.5\" stroke-linecap=\"round\" stroke-linejoin=\"round\"><path d=\"M8 12a2 2 0 1 1-4 0 2 2 0 1 1 4 0zM24.5 7.5a2 2 0 1 1-4 0 2 2 0 1 1 4 0zM41 12a2 2 0 1 1-4 0 2 2 0 1 1 4 0zM16 8.5a2 2 0 1 1-4 0 2 2 0 1 1 4 0zM33 9a2 2 0 1 1-4 0 2 2 0 1 1 4 0z\"/><path d=\"M9 26c8.5-1.5 21-1.5 27 0l2-12-7 11V11l-5.5 13.5-3-15-3 15-5.5-14V25L7 14l2 12zM9 26c0 2 1.5 2 2.5 4 1 1.5 1 1 .5 3.5-1.5 1-1.5 2.5-1.5 2.5-1.5 1.5.5 2.5.5 2.5 6.5 1 16.5 1 23 0 0 0 1.5-1 0-2.5 0 0 .5-1.5-1-2.5-.5-2.5-.5-2 .5-3.5 1-2 2.5-2 2.5-4-8.5-1.5-18.5-1.5-27 0z\" stroke-linecap=\"butt\"/><path d=\"M11.5 30c3.5-1 18.5-1 22 0M12 33.5c6-1 15-1 21 0\" fill=\"none\"/></g>\"\"\"  # noqa: E501\n",
    "    svg = _svg(n * SQUARE_SIZE, size)\n",
    "    fields = [(file, rank) for file in range(n) for rank in range(n)]\n",
    "    for file_index, rank_index in fields:\n",
    "        x = file_index * SQUARE_SIZE\n",
    "        y = rank_index * SQUARE_SIZE\n",
    "        light = (file_index + rank_index) % 2 == 0\n",
    "        cls = [\"square\", \"light\" if light else \"dark\"]\n",
    "        square_color = \"#ffce9e\" if light else \"#d18b47\"\n",
    "        square_opacity = 1.0\n",
    "        ET.SubElement(svg, \"rect\", _attrs({\n",
    "            \"x\": x,\n",
    "            \"y\": y,\n",
    "            \"width\": SQUARE_SIZE,\n",
    "            \"height\": SQUARE_SIZE,\n",
    "            \"class\": \" \".join(cls),\n",
    "            \"stroke\": \"none\",\n",
    "            \"fill\": square_color,\n",
    "            \"opacity\": square_opacity,\n",
    "        }))\n",
    "    if Qs:\n",
    "        defs = ET.SubElement(svg, \"defs\")\n",
    "        defs.append(ET.fromstring(QUEEN_SVG_STRING))\n",
    "        scale = SQUARE_SIZE / 45\n",
    "        if any(q >= n or q < 0 for q in Qs if q is not None): raise ValueError(\"At least one queen is in an impossible field\")\n",
    "        for file_index, rank_index in enumerate(Qs):\n",
    "            if rank_index is None:\n",
    "                continue\n",
    "            x = file_index * SQUARE_SIZE\n",
    "            y = rank_index * SQUARE_SIZE\n",
    "            href = f\"#white-queen\"\n",
    "            ET.SubElement(svg, \"use\", _attrs({\n",
    "                \"href\": href,\n",
    "                \"xlink:href\": href,\n",
    "                \"transform\": f\"translate({x:d}, {y:d}) scale({scale:f})\",\n",
    "            }))\n",
    "    svg = SvgWrapper(ET.tostring(svg).decode(\"utf-8\"))\n",
    "    if not ipy_off:\n",
    "        html_wrapper = f'<div style=\"width:25%\">{svg}</div>'\n",
    "        svg_widget = HTML(value=html_wrapper, layout=Layout(grid_area=\"top\"))\n",
    "        return svg_widget\n",
    "    return svg"
   ]
  },
  {
   "cell_type": "markdown",
   "metadata": {},
   "source": [
    "The function `show_solution(Solution)` takes a dictionary that contains a variable assignment that represents a solution to the 8-queens puzzle.  It displays this Solution on a chess board."
   ]
  },
  {
   "cell_type": "code",
   "execution_count": null,
   "metadata": {},
   "outputs": [],
   "source": [
    "def show_solution(Solution):\n",
    "    n      = len(Solution)\n",
    "    Queens = [None for col in range(n)]\n",
    "    for row in range(n):\n",
    "        col = Solution['V'+str(row+1)]\n",
    "        Queens[col-1] = row\n",
    "    return paint_nxn_board(n, Queens)"
   ]
  },
  {
   "cell_type": "code",
   "execution_count": null,
   "metadata": {},
   "outputs": [],
   "source": [
    "Solution = {'V5': 1, 'V2': 2, 'V4': 6, 'V6': 3, 'V1': 7, 'V7': 5, 'V3': 4}"
   ]
  },
  {
   "cell_type": "code",
   "execution_count": null,
   "metadata": {},
   "outputs": [],
   "source": [
    "show_solution(Solution)"
   ]
  },
  {
   "cell_type": "code",
   "execution_count": null,
   "metadata": {},
   "outputs": [],
   "source": []
  }
 ],
 "metadata": {
  "kernelspec": {
   "display_name": "Python 3 (ipykernel)",
   "language": "python",
   "name": "python3"
  },
  "language_info": {
   "codemirror_mode": {
    "name": "ipython",
    "version": 3
   },
   "file_extension": ".py",
   "mimetype": "text/x-python",
   "name": "python",
   "nbconvert_exporter": "python",
   "pygments_lexer": "ipython3",
   "version": "3.10.4"
  },
  "toc": {
   "base_numbering": 1,
   "nav_menu": {},
   "number_sections": true,
   "sideBar": false,
   "skip_h1_title": false,
   "title_cell": "Table of Contents",
   "title_sidebar": "Contents",
   "toc_cell": false,
   "toc_position": {
    "height": "calc(100% - 180px)",
    "left": "10px",
    "top": "150px",
    "width": "165px"
   },
   "toc_section_display": false,
   "toc_window_display": false
  },
  "varInspector": {
   "cols": {
    "lenName": 16,
    "lenType": 16,
    "lenVar": 40
   },
   "kernels_config": {
    "python": {
     "delete_cmd_postfix": "",
     "delete_cmd_prefix": "del ",
     "library": "var_list.py",
     "varRefreshCmd": "print(var_dic_list())"
    },
    "r": {
     "delete_cmd_postfix": ") ",
     "delete_cmd_prefix": "rm(",
     "library": "var_list.r",
     "varRefreshCmd": "cat(var_dic_list()) "
    }
   },
   "types_to_exclude": [
    "module",
    "function",
    "builtin_function_or_method",
    "instance",
    "_Feature"
   ],
   "window_display": false
  }
 },
 "nbformat": 4,
 "nbformat_minor": 2
}
