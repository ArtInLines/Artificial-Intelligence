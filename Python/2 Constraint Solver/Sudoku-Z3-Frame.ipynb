{
 "cells": [
  {
   "cell_type": "code",
   "execution_count": null,
   "metadata": {},
   "outputs": [],
   "source": [
    "from IPython.core.display import HTML\n",
    "with open('../../Python/style.css') as f:\n",
    "    css = f.read()\n",
    "HTML(css)"
   ]
  },
  {
   "cell_type": "markdown",
   "metadata": {},
   "source": [
    "# Sudoku"
   ]
  },
  {
   "cell_type": "markdown",
   "metadata": {},
   "source": [
    "The sudoku we want to solve is shown below:\n",
    "    <img src=\"sudoku.png\" width=\"50%\">\n",
    "The function `create_puzzle` returns a representation of this puzzle as a list of lists."
   ]
  },
  {
   "cell_type": "code",
   "execution_count": null,
   "metadata": {},
   "outputs": [],
   "source": [
    "def create_puzzle():\n",
    "    return [ [\"*\",  3 ,  9 , \"*\", \"*\", \"*\", \"*\", \"*\",  7 ], \n",
    "             [\"*\", \"*\", \"*\",  7 , \"*\", \"*\",  4 ,  9 ,  2 ],\n",
    "             [\"*\", \"*\", \"*\", \"*\",  6 ,  5 , \"*\",  8 ,  3 ],\n",
    "             [\"*\", \"*\", \"*\",  6 , \"*\",  3 ,  2 ,  7 , \"*\"],\n",
    "             [\"*\", \"*\", \"*\", \"*\",  4 , \"*\",  8 , \"*\", \"*\"],\n",
    "             [ 5 ,  6 , \"*\", \"*\", \"*\", \"*\", \"*\", \"*\", \"*\"],\n",
    "             [\"*\", \"*\",  5 ,  2 , \"*\",  9 , \"*\", \"*\",  1 ],\n",
    "             [\"*\",  2 ,  1 , \"*\", \"*\", \"*\", \"*\",  4 , \"*\"],\n",
    "             [ 7 , \"*\", \"*\", \"*\", \"*\", \"*\",  5 , \"*\", \"*\"]\n",
    "           ]"
   ]
  },
  {
   "cell_type": "markdown",
   "metadata": {},
   "source": [
    "We are going to solve this puzzle with the help of the constraint solver `Z3`."
   ]
  },
  {
   "cell_type": "code",
   "execution_count": null,
   "metadata": {},
   "outputs": [],
   "source": [
    "import z3"
   ]
  },
  {
   "cell_type": "markdown",
   "metadata": {},
   "source": [
    "The function `all_variables` creates a set of all variables.  We will use variables of the form $\\texttt{V}rc$ where $r$ denotes the row, while $c$ denotes the column."
   ]
  },
  {
   "cell_type": "code",
   "execution_count": null,
   "metadata": {},
   "outputs": [],
   "source": [
    "def all_variables():\n",
    "    \"your code here\""
   ]
  },
  {
   "cell_type": "code",
   "execution_count": null,
   "metadata": {},
   "outputs": [],
   "source": [
    "all_variables()"
   ]
  },
  {
   "cell_type": "markdown",
   "metadata": {},
   "source": [
    "The function `allDifferent` takes a list `L` of variable names as its argument. \n",
    "It returns a set of formulas expressing that all variables from `L` take different values."
   ]
  },
  {
   "cell_type": "code",
   "execution_count": null,
   "metadata": {},
   "outputs": [],
   "source": [
    "def allDifferent(L):\n",
    "    \"your code here\""
   ]
  },
  {
   "cell_type": "markdown",
   "metadata": {},
   "source": [
    "The function `constraints_from_puzzle` returns a set of constraints specifying that the variables corresponding to numbers that are already set in the given Sudoku take the specified values."
   ]
  },
  {
   "cell_type": "code",
   "execution_count": null,
   "metadata": {},
   "outputs": [],
   "source": [
    "def constraints_from_puzzle():\n",
    "    Puzzle = create_puzzle()\n",
    "    \"your code here\""
   ]
  },
  {
   "cell_type": "code",
   "execution_count": null,
   "metadata": {},
   "outputs": [],
   "source": [
    "constraints_from_puzzle()"
   ]
  },
  {
   "cell_type": "markdown",
   "metadata": {},
   "source": [
    "The function `all_constraints` returns a CSP that encodes the given sudoku as a CSP."
   ]
  },
  {
   "cell_type": "code",
   "execution_count": null,
   "metadata": {},
   "outputs": [],
   "source": [
    "def all_constraints(): \n",
    "    \"your code here\""
   ]
  },
  {
   "cell_type": "code",
   "execution_count": null,
   "metadata": {
    "scrolled": false
   },
   "outputs": [],
   "source": [
    "len(all_constraints())"
   ]
  },
  {
   "cell_type": "markdown",
   "metadata": {},
   "source": [
    "The function `solve(Constraints, Variables)` receives two arguments:\n",
    "- `Constraints` is a set of formulas representing a constraint satisfaction problem.\n",
    "- `Variables`   is the set of variables that occur in this formulas.\n",
    "\n",
    "The function computes a solution to the given problem and returns this solution."
   ]
  },
  {
   "cell_type": "code",
   "execution_count": null,
   "metadata": {},
   "outputs": [],
   "source": [
    "def solve(Constraints, Variables):\n",
    "    Environment = {}\n",
    "    exec('import z3', Environment)\n",
    "    for v in Variables:\n",
    "        exec(f'{v} = z3.Int(f\"{v}\")', Environment)\n",
    "    s = z3.Solver()\n",
    "    for c in Constraints:\n",
    "        s.add(eval(c, Environment))\n",
    "    result = str(s.check())\n",
    "    if result == 'sat':\n",
    "        m = s.model()\n",
    "        S = { v: m[eval(v, Environment)] for v in Variables }\n",
    "        return S\n",
    "    elif result == 'unsat':\n",
    "        print('The problem is not solvable.')\n",
    "    else:\n",
    "        print('Z3 cannot determine whether the problem is solvable.')"
   ]
  },
  {
   "cell_type": "code",
   "execution_count": null,
   "metadata": {},
   "outputs": [],
   "source": [
    "%%time\n",
    "Solution = solve(all_constraints(), all_variables())\n",
    "Solution"
   ]
  },
  {
   "cell_type": "markdown",
   "metadata": {},
   "source": [
    "## Graphical Representation"
   ]
  },
  {
   "cell_type": "code",
   "execution_count": null,
   "metadata": {},
   "outputs": [],
   "source": [
    "import ipycanvas as cnv"
   ]
  },
  {
   "cell_type": "markdown",
   "metadata": {},
   "source": [
    "The second version of show solution draws the solution on a canvas."
   ]
  },
  {
   "cell_type": "code",
   "execution_count": null,
   "metadata": {},
   "outputs": [],
   "source": [
    "def show_solution(Solution):\n",
    "    Sudoku = create_puzzle()\n",
    "    size = 40\n",
    "    canvas = cnv.Canvas(size=(size * 9, size * 9))\n",
    "    canvas.font = '20px sans-serif'\n",
    "    canvas.text_align    = 'center'\n",
    "    canvas.text_baseline = 'middle'\n",
    "    for row in range(9):\n",
    "        for col in range(9):\n",
    "            x = col * size\n",
    "            y = row * size\n",
    "            canvas.line_width = 1.0\n",
    "            canvas.stroke_rect(x, y, size, size)\n",
    "            entry = Sudoku[row][col]\n",
    "            if entry == '*':\n",
    "                key = f'V{row+1}{col+1}'\n",
    "                symbol = str(Solution.get(key, '?'))\n",
    "                canvas.fill_style = 'blue'\n",
    "            else:\n",
    "                symbol = str(entry)\n",
    "                canvas.fill_style = 'black'\n",
    "            x += size // 2\n",
    "            y += size // 2\n",
    "            canvas.fill_text(symbol, x, y)\n",
    "    canvas.line_width = 3.0\n",
    "    for row in range(3):\n",
    "        for col in range(3):\n",
    "            x = 3 * col * size\n",
    "            y = 3 * row * size\n",
    "            canvas.stroke_rect(x, y, 3 * size, 3 * size)\n",
    "    canvas.stroke_style = 'black'\n",
    "    canvas.line_width = 6.0\n",
    "    canvas.stroke_rect(0, 0, 9 * size, 9 * size) \n",
    "    display(canvas)"
   ]
  },
  {
   "cell_type": "code",
   "execution_count": null,
   "metadata": {},
   "outputs": [],
   "source": [
    "show_solution(Solution)"
   ]
  },
  {
   "cell_type": "code",
   "execution_count": null,
   "metadata": {},
   "outputs": [],
   "source": []
  }
 ],
 "metadata": {
  "kernelspec": {
   "display_name": "Python 3 (ipykernel)",
   "language": "python",
   "name": "python3"
  },
  "language_info": {
   "codemirror_mode": {
    "name": "ipython",
    "version": 3
   },
   "file_extension": ".py",
   "mimetype": "text/x-python",
   "name": "python",
   "nbconvert_exporter": "python",
   "pygments_lexer": "ipython3",
   "version": "3.10.4"
  },
  "toc": {
   "base_numbering": 1,
   "nav_menu": {},
   "number_sections": true,
   "sideBar": true,
   "skip_h1_title": false,
   "title_cell": "Table of Contents",
   "title_sidebar": "Contents",
   "toc_cell": false,
   "toc_position": {},
   "toc_section_display": true,
   "toc_window_display": false
  },
  "varInspector": {
   "cols": {
    "lenName": 16,
    "lenType": 16,
    "lenVar": 40
   },
   "kernels_config": {
    "python": {
     "delete_cmd_postfix": "",
     "delete_cmd_prefix": "del ",
     "library": "var_list.py",
     "varRefreshCmd": "print(var_dic_list())"
    },
    "r": {
     "delete_cmd_postfix": ") ",
     "delete_cmd_prefix": "rm(",
     "library": "var_list.r",
     "varRefreshCmd": "cat(var_dic_list()) "
    }
   },
   "types_to_exclude": [
    "module",
    "function",
    "builtin_function_or_method",
    "instance",
    "_Feature"
   ],
   "window_display": false
  }
 },
 "nbformat": 4,
 "nbformat_minor": 2
}
