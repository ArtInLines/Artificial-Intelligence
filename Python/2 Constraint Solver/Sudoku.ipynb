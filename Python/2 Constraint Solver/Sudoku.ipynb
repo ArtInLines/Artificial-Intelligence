{
 "cells": [
  {
   "cell_type": "code",
   "execution_count": null,
   "metadata": {},
   "outputs": [],
   "source": [
    "from IPython.core.display import HTML\n",
    "with open('../../Python/style.css') as f:\n",
    "    css = f.read()\n",
    "HTML(css)"
   ]
  },
  {
   "cell_type": "markdown",
   "metadata": {},
   "source": [
    "# Sudoku"
   ]
  },
  {
   "cell_type": "markdown",
   "metadata": {},
   "source": [
    "The sudoku we want to solve is shown below:\n",
    "    <img src=\"sudoku.png\">\n",
    "It can be represented as a list of lists."
   ]
  },
  {
   "cell_type": "code",
   "execution_count": null,
   "metadata": {},
   "outputs": [],
   "source": [
    "Sudoku = [ [\"*\",  3 ,  9 , \"*\", \"*\", \"*\", \"*\", \"*\",  7 ], \n",
    "           [\"*\", \"*\", \"*\",  7 , \"*\", \"*\",  4 ,  9 ,  2 ],\n",
    "           [\"*\", \"*\", \"*\", \"*\",  6 ,  5 , \"*\",  8 ,  3 ],\n",
    "           [\"*\", \"*\", \"*\",  6 , \"*\",  3 ,  2 ,  7 , \"*\"],\n",
    "           [\"*\", \"*\", \"*\", \"*\",  4 , \"*\",  8 , \"*\", \"*\"],\n",
    "           [ 5 ,  6 , \"*\", \"*\", \"*\", \"*\", \"*\", \"*\", \"*\"],\n",
    "           [\"*\", \"*\",  5 ,  2 , \"*\",  9 , \"*\", \"*\",  1 ],\n",
    "           [\"*\",  2 ,  1 , \"*\", \"*\", \"*\", \"*\",  4 , \"*\"],\n",
    "           [ 7 , \"*\", \"*\", \"*\", \"*\", \"*\",  5 , \"*\", \"*\"]\n",
    "         ]"
   ]
  },
  {
   "cell_type": "markdown",
   "metadata": {},
   "source": [
    "The function `allDifferent` takes a list `L` as its argument.  This list contains both variables and numbers.\n",
    "It returns a set of formulas expressing that all variables from `L` take different values."
   ]
  },
  {
   "cell_type": "code",
   "execution_count": null,
   "metadata": {},
   "outputs": [],
   "source": [
    "def allDifferent(Variables):\n",
    "    return { f'{x} != {y}' for x in Variables \n",
    "                           for y in Variables\n",
    "                           if  x < y\n",
    "           }"
   ]
  },
  {
   "cell_type": "code",
   "execution_count": null,
   "metadata": {},
   "outputs": [],
   "source": [
    "def constraints_from_puzzle(Puzzle):\n",
    "    return { f'V{row+1}{col+1} == {Puzzle[row][col]}' for row in range(9)\n",
    "                                                      for col in range(9)\n",
    "                                                      if  Puzzle[row][col] != '*'\n",
    "           }"
   ]
  },
  {
   "cell_type": "code",
   "execution_count": null,
   "metadata": {},
   "outputs": [],
   "source": [
    "constraints_from_puzzle(Sudoku)"
   ]
  },
  {
   "cell_type": "markdown",
   "metadata": {},
   "source": [
    "The function `sudoku_csp` returns a CSP that encodes the given sudoku as a CSP."
   ]
  },
  {
   "cell_type": "code",
   "execution_count": null,
   "metadata": {},
   "outputs": [],
   "source": [
    "def sudoku_csp(Puzzle): \n",
    "    L           = range(1, 9+1)\n",
    "    Variables   = { f'V{row}{col}' for row in L\n",
    "                                   for col in L\n",
    "                  }\n",
    "    Values      = set(L)\n",
    "    Constraints = constraints_from_puzzle(Puzzle)\n",
    "    # all entries in a row are unique\n",
    "    for row in L:\n",
    "        Constraints |= allDifferent({ f'V{row}{col}' for col in L })\n",
    "    # all entries in a column are unique\n",
    "    for col in L:\n",
    "        Constraints |= allDifferent({ f'V{row}{col}' for row in L })\n",
    "    # all entries in a square are unique    \n",
    "    for r in range(3):\n",
    "        for c in range(3):\n",
    "            S = { f'V{r*3+row}{c*3+col}' for row in range(1, 3+1)\n",
    "                                         for col in range(1, 3+1) \n",
    "                }\n",
    "            Constraints |= allDifferent(S)\n",
    "    return Variables, Values, Constraints"
   ]
  },
  {
   "cell_type": "code",
   "execution_count": null,
   "metadata": {
    "scrolled": true
   },
   "outputs": [],
   "source": [
    "sudoku_csp(Sudoku)"
   ]
  },
  {
   "cell_type": "markdown",
   "metadata": {},
   "source": [
    "Given a sudoku `Puzzle` and a `Solution` for this puzzle, the function `find_alternative` computes a CSP\n",
    "that is solvable iff the puzzle has a second solution that is different from `Solution`."
   ]
  },
  {
   "cell_type": "code",
   "execution_count": null,
   "metadata": {},
   "outputs": [],
   "source": [
    "def find_alternative(csp, Solution):\n",
    "    Variables, Values, Constraints = csp\n",
    "    formula = ' or '.join({ f'{var} != {Solution[var]}' for var in Variables })\n",
    "    return Variables, Values, Constraints | { formula }"
   ]
  },
  {
   "cell_type": "markdown",
   "metadata": {},
   "source": [
    "## Graphical Representation"
   ]
  },
  {
   "cell_type": "code",
   "execution_count": null,
   "metadata": {},
   "outputs": [],
   "source": [
    "import ipycanvas as cnv"
   ]
  },
  {
   "cell_type": "markdown",
   "metadata": {},
   "source": [
    "The function `show_solution` prints the solution."
   ]
  },
  {
   "cell_type": "code",
   "execution_count": null,
   "metadata": {},
   "outputs": [],
   "source": [
    "def show_sudoku(Solution, Puzzle):\n",
    "    length = 9 * 4 + 5\n",
    "    print(\"=\" * length)\n",
    "    for row in range(9):\n",
    "        s = \"|| \"\n",
    "        for col in range(9): \n",
    "            entry = Puzzle[row][col]\n",
    "            if (col + 1) % 3 == 0:\n",
    "                sep = ' || '\n",
    "            else:\n",
    "                sep = ' | '\n",
    "            if entry != '*':\n",
    "                s += str(entry) + sep\n",
    "            elif f'V{row+1}{col+1}' in Solution:\n",
    "                s += str(Solution[f'V{row+1}{col+1}']) + sep\n",
    "            else:\n",
    "                s += \"*\" + sep\n",
    "        print(s)\n",
    "        if (row + 1) % 3 == 0:\n",
    "            print(\"=\" * length)\n",
    "        else:\n",
    "            print(\"-\" * length)"
   ]
  },
  {
   "cell_type": "markdown",
   "metadata": {},
   "source": [
    "The second version of show solution draws the solution on a canvas."
   ]
  },
  {
   "cell_type": "code",
   "execution_count": null,
   "metadata": {},
   "outputs": [],
   "source": [
    "def show_solution(Solution, Sudoku):\n",
    "    size = 40\n",
    "    canvas = cnv.Canvas(size=(size * 9, size * 9))\n",
    "    canvas.font = '20px sans-serif'\n",
    "    canvas.text_align    = 'center'\n",
    "    canvas.text_baseline = 'middle'\n",
    "    for row in range(9):\n",
    "        for col in range(9):\n",
    "            x = col * size\n",
    "            y = row * size\n",
    "            canvas.line_width = 1.0\n",
    "            canvas.stroke_rect(x, y, size, size)\n",
    "            entry = Sudoku[row][col]\n",
    "            if entry == '*':\n",
    "                key = f'V{row+1}{col+1}'\n",
    "                symbol = str(Solution.get(key, '?'))\n",
    "                canvas.fill_style = 'blue'\n",
    "            else:\n",
    "                symbol = str(entry)\n",
    "                canvas.fill_style = 'black'\n",
    "            x += size // 2\n",
    "            y += size // 2\n",
    "            canvas.fill_text(symbol, x, y)\n",
    "    canvas.line_width = 3.0\n",
    "    for row in range(3):\n",
    "        for col in range(3):\n",
    "            x = 3 * col * size\n",
    "            y = 3 * row * size\n",
    "            canvas.stroke_rect(x, y, 3 * size, 3 * size)\n",
    "    canvas.stroke_style = 'black'\n",
    "    canvas.line_width = 6.0\n",
    "    canvas.stroke_rect(0, 0, 9 * size, 9 * size) \n",
    "    display(canvas)"
   ]
  },
  {
   "cell_type": "code",
   "execution_count": null,
   "metadata": {},
   "outputs": [],
   "source": [
    "show_solution({}, Sudoku)"
   ]
  },
  {
   "cell_type": "code",
   "execution_count": null,
   "metadata": {},
   "outputs": [],
   "source": []
  }
 ],
 "metadata": {
  "kernelspec": {
   "display_name": "Python 3 (ipykernel)",
   "language": "python",
   "name": "python3"
  },
  "language_info": {
   "codemirror_mode": {
    "name": "ipython",
    "version": 3
   },
   "file_extension": ".py",
   "mimetype": "text/x-python",
   "name": "python",
   "nbconvert_exporter": "python",
   "pygments_lexer": "ipython3",
   "version": "3.10.8"
  },
  "toc": {
   "base_numbering": 1,
   "nav_menu": {},
   "number_sections": true,
   "sideBar": true,
   "skip_h1_title": false,
   "title_cell": "Table of Contents",
   "title_sidebar": "Contents",
   "toc_cell": false,
   "toc_position": {},
   "toc_section_display": true,
   "toc_window_display": false
  },
  "varInspector": {
   "cols": {
    "lenName": 16,
    "lenType": 16,
    "lenVar": 40
   },
   "kernels_config": {
    "python": {
     "delete_cmd_postfix": "",
     "delete_cmd_prefix": "del ",
     "library": "var_list.py",
     "varRefreshCmd": "print(var_dic_list())"
    },
    "r": {
     "delete_cmd_postfix": ") ",
     "delete_cmd_prefix": "rm(",
     "library": "var_list.r",
     "varRefreshCmd": "cat(var_dic_list()) "
    }
   },
   "types_to_exclude": [
    "module",
    "function",
    "builtin_function_or_method",
    "instance",
    "_Feature"
   ],
   "window_display": false
  }
 },
 "nbformat": 4,
 "nbformat_minor": 2
}
