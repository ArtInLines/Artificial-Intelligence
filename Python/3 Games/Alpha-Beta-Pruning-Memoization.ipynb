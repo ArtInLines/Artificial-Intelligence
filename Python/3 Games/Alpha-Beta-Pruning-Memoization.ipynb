{
 "cells": [
  {
   "cell_type": "code",
   "execution_count": null,
   "metadata": {},
   "outputs": [],
   "source": [
    "from IPython.core.display import HTML\n",
    "with open('../style.css') as f:\n",
    "    css = f.read()\n",
    "HTML(css)"
   ]
  },
  {
   "cell_type": "markdown",
   "metadata": {},
   "source": [
    "# Alpha-Beta Pruning with proper Memoization"
   ]
  },
  {
   "cell_type": "markdown",
   "metadata": {},
   "source": [
    "In order to have some variation in our game, we use random numbers to choose between optimal moves.\n",
    "In order to have reproducible results, we use *seed* for the random number generator."
   ]
  },
  {
   "cell_type": "code",
   "execution_count": null,
   "metadata": {},
   "outputs": [],
   "source": [
    "import random\n",
    "random.seed(0)"
   ]
  },
  {
   "cell_type": "markdown",
   "metadata": {},
   "source": [
    "The global variable `Cache` is used as a cache for the function `value` defined later.  Given a `State`, the cache stores pairs of the form \n",
    "* `('=', v)`, \n",
    "* `('≤', v)`, or\n",
    "* `('≥', v)`.\n",
    "\n",
    "If `eval(State)` computes the value of a given `State`, then the following invariants are satisfied, provided \n",
    "`Cache[State]` is defined:\n",
    "* $\\texttt{Cache}[State] = (\\texttt{'='}, v) \\rightarrow \\texttt{eval(State)} = v$.\n",
    "* $\\texttt{Cache}[State] = (\\texttt{'≤'}, v) \\rightarrow \\texttt{eval(State)} \\leq v$.\n",
    "* $\\texttt{Cache}[State] = (\\texttt{'≥'}, v) \\rightarrow \\texttt{eval(State)} \\geq v$."
   ]
  },
  {
   "cell_type": "code",
   "execution_count": null,
   "metadata": {},
   "outputs": [],
   "source": [
    "Cache = {}"
   ]
  },
  {
   "cell_type": "markdown",
   "metadata": {},
   "source": [
    "Given a player `p`, the function `other(p)` computes the opponent of `p`.  This assumes that there are only two players and the set of all players is stored in the global variable `Players`."
   ]
  },
  {
   "cell_type": "code",
   "execution_count": null,
   "metadata": {},
   "outputs": [],
   "source": [
    "other = lambda p: [o for o in Players if o != p][0]"
   ]
  },
  {
   "cell_type": "markdown",
   "metadata": {},
   "source": [
    "The variable `num_value_call` is a global variable that keeps track how often the function `value`, which is defined below, has been invoked."
   ]
  },
  {
   "cell_type": "code",
   "execution_count": null,
   "metadata": {},
   "outputs": [],
   "source": [
    "num_value_call = 0"
   ]
  },
  {
   "cell_type": "markdown",
   "metadata": {},
   "source": [
    "The function `value` takes four arguments:\n",
    "- `State` is the current state of the game,\n",
    "- `player` is a player,\n",
    "- `alpha` is the worst result that can happen to `player`,\n",
    "- `beta` is the best result that can happen to `player`.\n",
    "\n",
    "The function `value` returns the *value* that the given `State` has for `player` if both players play their optimal game.  This value is an element from the set $\\{-1, 0, 1\\}$.  \n",
    "- If `player` can force a win, the return value is `1`.\n",
    "- If `player` can at best force a draw, the return value is `0`.\n",
    "- If `player` might loose even when playing optimal, the return value is `-1`.\n",
    "\n",
    "For reasons of efficiency, this function is *memoized* using the global variable `Cache`\n",
    "If `Cache[State]` is defined, then the computation of `value(State, player, alpha, beta)`\n",
    "proceeds according to the following case distinction:\n",
    "1. If the stored value $v$ is exact, we can return this value:\n",
    "\n",
    "   $$\\texttt{Cache[State]} = (\\texttt{'='}, v) \\rightarrow \\texttt{value}(\\texttt{State}, \\alpha, \\beta) = v.$$\n",
    "2. If the stored value $v$ is an upper bound and this upper bound is less or equal than $\\alpha$, then we know that\n",
    "   the true value is less or equal than $\\alpha$ and hence we can also return the value $v$:\n",
    "\n",
    "   $$\\texttt{Cache[State]} = (\\texttt{'≤'}, v) \\wedge v \\leq \\alpha \\rightarrow \n",
    "     \\texttt{value}(\\texttt{State}, \\alpha, \\beta) = v.$$\n",
    "3. If the stored value $v$ is an upper bound and this upper bound is bigger than $\\alpha$ but less than $\\beta$,   \n",
    "   then we know that the true value is less or equal than $v$ and hence we shrink the interval $[\\alpha, \\beta]$\n",
    "   into the interval $[\\alpha, v]$.\n",
    "\n",
    "   $$\\texttt{Cache[State]} = (\\texttt{'≤'}, v) \\wedge \\alpha < v < \\beta \\rightarrow \n",
    "     \\texttt{value}(\\texttt{State}, \\alpha, \\beta) = \\texttt{alphaBeta}(\\texttt{State}, \\alpha, v).$$\n",
    "     \n",
    "   In this case the `Cache` is updated.  \n",
    "\n",
    "4. If the stored value $v$ is an upper bound and this upper bound is bigger or equal than $\\beta$,   \n",
    "   then the stored value isn't of any help.\n",
    "   \n",
    "   $$\\texttt{Cache[State]} = (\\texttt{'≤'}, v) \\wedge \\beta \\leq v \\rightarrow \n",
    "     \\texttt{value}(\\texttt{State}, \\alpha, \\beta) = \\texttt{alphaBeta}(\\texttt{State}, \\alpha, \\beta).$$\n",
    "\n",
    "   In this case, the cache needs to be updated.\n",
    "\n",
    "5. If the stored value $v$ is a lower bound and this lower bound is greater or equal than $\\beta$, then we \n",
    "   know that the true value is bigger or equal than $\\beta$ and hence we can return the value $v$: \n",
    "\n",
    "   $$\\texttt{Cache[State]} = (\\texttt{'≥'}, v) \\wedge \\beta \\leq v \\rightarrow \n",
    "     \\texttt{value}(\\texttt{State}, \\alpha, \\beta) = v.$$\n",
    "     \n",
    "6. If the stored value $v$ is a lower bound and this lower bound is less than $\\beta$ but bigger than $\\alpha$,\n",
    "   then we know that the true value is bigger or equal than $v$ and hence we shrink the interval $[\\alpha,\\beta]$\n",
    "   into the interval $[v, \\beta]$: \n",
    "\n",
    "   $$\\texttt{Cache[State]} = (\\texttt{'≥'}, v) \\wedge \\alpha < v < \\beta \\rightarrow \n",
    "     \\texttt{value}(\\texttt{State}, \\alpha, \\beta) = \\texttt{alphaBeta}(\\texttt{State}, v, \\beta).$$\n",
    "     \n",
    "7. If the stored value $v$ is a lower bound and this lower bound is less or equal than $\\alpha$,   \n",
    "   then the stored value isn't of any help.\n",
    "   \n",
    "   $$\\texttt{Cache[State]} = (\\texttt{'≤'}, v) \\wedge v \\leq \\alpha \\rightarrow \n",
    "     \\texttt{value}(\\texttt{State}, \\alpha, \\beta) = \\texttt{alphaBeta}(\\texttt{State}, \\alpha, \\beta).$$\n",
    "\n",
    "   In this case, the cache needs to be updated."
   ]
  },
  {
   "cell_type": "code",
   "execution_count": null,
   "metadata": {},
   "outputs": [],
   "source": [
    "def value(State, player, alpha=-1, beta=1):\n",
    "    global Cache, num_value_call\n",
    "    num_value_call += 1\n",
    "    if State in Cache:\n",
    "        flag, v = Cache[State]\n",
    "        if flag == '=':\n",
    "            return v\n",
    "        if flag == '≤':\n",
    "            if v <= alpha:\n",
    "                return v\n",
    "            if v < beta:\n",
    "                w = alphaBeta(State, player, alpha, v)\n",
    "                store_cache(State, alpha, v, w)\n",
    "                return w\n",
    "            if beta <= v:\n",
    "                w = alphaBeta(State, player, alpha, beta)\n",
    "                store_cache(State, alpha, beta, w)\n",
    "                return w\n",
    "        if flag == '≥':\n",
    "            if beta <= v:\n",
    "                return v\n",
    "            if alpha < v:\n",
    "                w = alphaBeta(State, player, v, beta)\n",
    "                store_cache(State, v, beta, w)\n",
    "                return w\n",
    "            if v <= alpha:\n",
    "                w = alphaBeta(State, player, alpha, beta)\n",
    "                store_cache(State, alpha, beta, w)\n",
    "                return w\n",
    "    else:\n",
    "        v = alphaBeta(State, player, alpha, beta)\n",
    "        store_cache(State, alpha, beta, v)\n",
    "        return v"
   ]
  },
  {
   "cell_type": "markdown",
   "metadata": {},
   "source": [
    "The function `store_cache` is called with four arguments:\n",
    "* `State` is a state of the game,\n",
    "* `alpha` is a number,\n",
    "* `beta`  is a number, and\n",
    "* `value` is a number such that:\n",
    "  $$\\texttt{alphaBeta(State, alpha, beta)} = \\texttt{value}$$\n",
    "  \n",
    "The function stores the `value` in the dictionary `Cache` under the key `State`.\n",
    "It also stores an indicator that is either `'≤'`, `'='`, or `'≥'`.  The value that is stored \n",
    "satisfies the following conditions:\n",
    "* If `Cache[State] = ('≤', value)`, then `eval(State) ≤ value`. \n",
    "* If `Cache[State] = ('=', value)`, then `eval(State) = value`. \n",
    "* If `Cache[State] = ('≥', value)`, then `eval(State) ≥ value`. "
   ]
  },
  {
   "cell_type": "code",
   "execution_count": null,
   "metadata": {},
   "outputs": [],
   "source": [
    "def store_cache(State, alpha, beta, value):\n",
    "    global Cache\n",
    "    if value <= alpha:\n",
    "        Cache[State] = ('≤', value)\n",
    "    elif value < beta:\n",
    "        Cache[State] = ('=', value)\n",
    "    else:\n",
    "        Cache[State] = ('≥', value)"
   ]
  },
  {
   "cell_type": "markdown",
   "metadata": {},
   "source": [
    "The function `alphaBeta` is called with four arguments:\n",
    "* `State` is a state of the game,\n",
    "* `alpha` is a number, and\n",
    "* `beta`  is a number,\n",
    "\n",
    "The function `alphaBeta` satisfies the following specification:\n",
    "- $\\alpha \\leq \\texttt{eval}(s, p) \\leq \\beta \\;\\rightarrow\\;\\texttt{alphaBeta}(s, p, \\alpha, \\beta) = \\texttt{eval}(s,p)$\n",
    "- $\\texttt{eval}(s, p) < \\alpha \\;\\rightarrow\\; \\texttt{alphaBeta}(s, p, \\alpha, \\beta) \\leq \\alpha$\n",
    "- $\\beta < \\texttt{eval}(s, p) \\;\\rightarrow\\; \\beta \\leq \\texttt{alphaBeta}(s, p, \\alpha, \\beta)$"
   ]
  },
  {
   "cell_type": "code",
   "execution_count": null,
   "metadata": {},
   "outputs": [],
   "source": [
    "def alphaBeta(State, player, alpha, beta):\n",
    "    if finished(State):\n",
    "        return utility(State, player)\n",
    "    val = alpha\n",
    "    for ns in next_states(State, player):\n",
    "        val = max(val, -value(ns, other(player), -beta, -alpha))\n",
    "        if val >= beta:\n",
    "            return val\n",
    "        alpha = max(val, alpha)\n",
    "    return val"
   ]
  },
  {
   "cell_type": "markdown",
   "metadata": {},
   "source": [
    "The function `best_move` takes two arguments:\n",
    "- `State` is the current state of the game,\n",
    "- `player` is a player.\n",
    "\n",
    "The function `best_move` returns a pair of the form $(v, s)$ where $s$ is a state and $v$ is the value of this state.  The state $s$ is a state that is reached from `State` if `player` makes one of her optimal moves.  In order to have some variation in the game, the function randomly chooses any of the optimal moves."
   ]
  },
  {
   "cell_type": "code",
   "execution_count": null,
   "metadata": {},
   "outputs": [],
   "source": [
    "def best_move(State, player):\n",
    "    NS        = next_states(State, player)\n",
    "    bestVal   = value(State, player)\n",
    "    BestState = random.choice([s for s in NS if -value(s, other(player)) == bestVal])\n",
    "    return bestVal, BestState"
   ]
  },
  {
   "cell_type": "markdown",
   "metadata": {},
   "source": [
    "The next line is needed because we need the function `IPython.display.clear_output` to clear the output in a cell."
   ]
  },
  {
   "cell_type": "code",
   "execution_count": null,
   "metadata": {},
   "outputs": [],
   "source": [
    "import IPython.display "
   ]
  },
  {
   "cell_type": "markdown",
   "metadata": {},
   "source": [
    "The function `play_game` plays on the given `canvas`.  The game played is specified indirectly by specifying the following:\n",
    "- `Start` is a global variable defining the start state of the game.\n",
    "- `next_states` is a function such that $\\texttt{next_states}(s, p)$ computes the set of all possible states that can be reached from state $s$ if player $p$ is next to move.\n",
    "- `finished` is a function such that $\\texttt{finished}(s)$ is true for a state $s$ if the game is over in state $s$.\n",
    "- `utility` is a function such that $\\texttt{utility}(s, p)$ returns either `-1`, `0`, or `1` in the *terminal state* $s$.  We have that\n",
    "  - $\\texttt{utility}(s, p)= -1$ iff the game is lost for player $p$ in state $s$, \n",
    "  - $\\texttt{utility}(s, p)=  0$ iff the game is drawn, and \n",
    "  - $\\texttt{utility}(s, p)=  1$ iff the game is won for player $p$ in state $s$."
   ]
  },
  {
   "cell_type": "code",
   "execution_count": null,
   "metadata": {},
   "outputs": [],
   "source": [
    "def play_game(canvas):\n",
    "    State = Start\n",
    "    while (True):\n",
    "        firstPlayer = Players[0]\n",
    "        val, State  = best_move(State, firstPlayer);\n",
    "        draw(State, canvas, f'For me, the game has the value {val}.')\n",
    "        if finished(State):\n",
    "            final_msg(State)\n",
    "            break\n",
    "        IPython.display.clear_output(wait=True)\n",
    "        State = get_move(State)\n",
    "        if finished(State):\n",
    "            draw(State, canvas, '')\n",
    "            IPython.display.clear_output(wait=True)\n",
    "            final_msg(State)\n",
    "            break"
   ]
  },
  {
   "cell_type": "code",
   "execution_count": null,
   "metadata": {},
   "outputs": [],
   "source": [
    "%run Tic-Tac-Toe-Bitboard.ipynb"
   ]
  },
  {
   "cell_type": "markdown",
   "metadata": {},
   "source": [
    "$\\alpha$-$\\beta$ pruning with memoization takes takes 25 ms to compute the value of the `Start` state. "
   ]
  },
  {
   "cell_type": "code",
   "execution_count": null,
   "metadata": {},
   "outputs": [],
   "source": [
    "%%time\n",
    "val = value(Start, 0)"
   ]
  },
  {
   "cell_type": "markdown",
   "metadata": {},
   "source": [
    "Regarding the number of states that are inspected by the function `value`, we have the following results :\n",
    "\n",
    "| Algorithm                | Memoization  | Number of Calls | Size of Cache |\n",
    "|:------------------------ | ------------ | ---------------:| -------------:|\n",
    "| Minimax                  | `False`      |      $549\\,946$ |        n.a.   |\n",
    "| Minimax                  | `True`       |        $5\\,478$ |     $5\\,478$  |\n",
    "| $\\alpha$-$\\beta$ pruning | `False`      |       $16\\,811$ |        n.a.   |\n",
    "| $\\alpha$-$\\beta$ pruning | `True`       |        $4\\,321$ |     $2\\,474$  |"
   ]
  },
  {
   "cell_type": "code",
   "execution_count": null,
   "metadata": {},
   "outputs": [],
   "source": [
    "num_value_call"
   ]
  },
  {
   "cell_type": "markdown",
   "metadata": {},
   "source": [
    "We check how many different states are stored in the `Cache`.  Without alpha-beta pruning, we had to inspect $5478$ different states, but now there are only\n",
    "$2474$ different states in the cache."
   ]
  },
  {
   "cell_type": "code",
   "execution_count": null,
   "metadata": {},
   "outputs": [],
   "source": [
    "len(Cache)"
   ]
  },
  {
   "cell_type": "markdown",
   "metadata": {},
   "source": [
    "Let's draw the board."
   ]
  },
  {
   "cell_type": "code",
   "execution_count": null,
   "metadata": {},
   "outputs": [],
   "source": [
    "Cache"
   ]
  },
  {
   "cell_type": "code",
   "execution_count": null,
   "metadata": {},
   "outputs": [],
   "source": [
    "canvas = create_canvas()\n",
    "draw(Start, canvas, f'Current value of game for \"X\": {val}')"
   ]
  },
  {
   "cell_type": "markdown",
   "metadata": {},
   "source": [
    "Now its time to play.  In the input window that will pop up later, enter your move in the format \"row,col\"  with no space between row and column."
   ]
  },
  {
   "cell_type": "code",
   "execution_count": null,
   "metadata": {
    "scrolled": false
   },
   "outputs": [],
   "source": [
    "play_game(canvas)"
   ]
  },
  {
   "cell_type": "code",
   "execution_count": null,
   "metadata": {},
   "outputs": [],
   "source": []
  }
 ],
 "metadata": {
  "kernelspec": {
   "display_name": "Python 3",
   "language": "python",
   "name": "python3"
  },
  "language_info": {
   "codemirror_mode": {
    "name": "ipython",
    "version": 3
   },
   "file_extension": ".py",
   "mimetype": "text/x-python",
   "name": "python",
   "nbconvert_exporter": "python",
   "pygments_lexer": "ipython3",
   "version": "3.9.5"
  },
  "toc": {
   "base_numbering": 1,
   "nav_menu": {},
   "number_sections": true,
   "sideBar": true,
   "skip_h1_title": false,
   "title_cell": "Table of Contents",
   "title_sidebar": "Contents",
   "toc_cell": false,
   "toc_position": {},
   "toc_section_display": true,
   "toc_window_display": false
  },
  "varInspector": {
   "cols": {
    "lenName": 16,
    "lenType": 16,
    "lenVar": 40
   },
   "kernels_config": {
    "python": {
     "delete_cmd_postfix": "",
     "delete_cmd_prefix": "del ",
     "library": "var_list.py",
     "varRefreshCmd": "print(var_dic_list())"
    },
    "r": {
     "delete_cmd_postfix": ") ",
     "delete_cmd_prefix": "rm(",
     "library": "var_list.r",
     "varRefreshCmd": "cat(var_dic_list()) "
    }
   },
   "types_to_exclude": [
    "module",
    "function",
    "builtin_function_or_method",
    "instance",
    "_Feature"
   ],
   "window_display": false
  }
 },
 "nbformat": 4,
 "nbformat_minor": 2
}
