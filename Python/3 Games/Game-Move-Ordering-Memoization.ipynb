{
 "cells": [
  {
   "cell_type": "code",
   "execution_count": 1,
   "metadata": {},
   "outputs": [
    {
     "data": {
      "text/html": [
       "<link href='http://fonts.googleapis.com/css?family=Alegreya+Sans:100,300,400,500,700,800,900,100italic,300italic,400italic,500italic,700italic,800italic,900italic' rel='stylesheet' type='text/css'>\n",
       "<link href='http://fonts.googleapis.com/css?family=Arvo:400,700,400italic' rel='stylesheet' type='text/css'>\n",
       "<link href='http://fonts.googleapis.com/css?family=PT+Mono' rel='stylesheet' type='text/css'>\n",
       "<link href='http://fonts.googleapis.com/css?family=Shadows+Into+Light' rel='stylesheet' type='text/css'>\n",
       "<link href='http://fonts.googleapis.com/css?family=Philosopher:400,700,400italic,700italic' rel='stylesheet' type='text/css'>\n",
       "\n",
       "<style>\n",
       "\n",
       "@font-face {\n",
       "    font-family: \"Computer Modern\";\n",
       "    src: url('http://mirrors.ctan.org/fonts/cm-unicode/fonts/otf/cmunss.otf');\n",
       "}\n",
       "\n",
       ".container { width: 100% }\n",
       "\n",
       "/* Formatting for header cells */\n",
       ".text_cell_render h1 {\n",
       "    font-family: 'Philosopher', sans-serif;\n",
       "    font-weight: 400;\n",
       "    font-size: 2.2em;\n",
       "    line-height: 100%;\n",
       "    color: rgb(0, 80, 120);\n",
       "    margin-bottom: 0.1em;\n",
       "    margin-top: 0.1em;\n",
       "    display: block;\n",
       "}\t\n",
       ".text_cell_render h2 {\n",
       "    font-family: 'Philosopher', serif;\n",
       "    font-weight: 400;\n",
       "    font-size: 1.9em;\n",
       "    line-height: 100%;\n",
       "    color: rgb(200,100,0);\n",
       "    margin-bottom: 0.1em;\n",
       "    margin-top: 0.1em;\n",
       "    display: block;\n",
       "}\t\n",
       "\n",
       ".text_cell_render h3 {\n",
       "    font-family: 'Philosopher', serif;\n",
       "    margin-top:12px;\n",
       "    margin-bottom: 3px;\n",
       "    font-style: italic;\n",
       "    color: rgb(94,127,192);\n",
       "}\n",
       "\n",
       ".text_cell_render h4 {\n",
       "    font-family: 'Philosopher', serif;\n",
       "}\n",
       "\n",
       ".text_cell_render h5 {\n",
       "    font-family: 'Alegreya Sans', sans-serif;\n",
       "    font-weight: 300;\n",
       "    font-size: 16pt;\n",
       "    color: grey;\n",
       "    font-style: italic;\n",
       "    margin-bottom: .1em;\n",
       "    margin-top: 0.1em;\n",
       "    display: block;\n",
       "}\n",
       "\n",
       ".text_cell_render h6 {\n",
       "    font-family: 'PT Mono', sans-serif;\n",
       "    font-weight: 300;\n",
       "    font-size: 10pt;\n",
       "    color: grey;\n",
       "    margin-bottom: 1px;\n",
       "    margin-top: 1px;\n",
       "}\n",
       "\n",
       ".text_cell_render em {\n",
       "    font-family: 'Philosopher', sans-serif;\n",
       "    color:        blue;\n",
       "    background-color: rgb(255,220,180);\n",
       "    font-size:    110%;\n",
       "    margin-left:   2px;\n",
       "    margin-right:  2px;\n",
       "    font-weight:   100;\n",
       "}\n",
       "\n",
       ".text_cell_render b {\n",
       "    color:            rgb(255,195,195);\n",
       "    background-color: rgb(0,0,0);\n",
       "    font-size:    110%;\n",
       "    margin-left:   2px;\n",
       "    margin-right:  2px;\n",
       "    font-weight:   650;\n",
       "}\n",
       "\n",
       ".text_cell_render u {\n",
       "    color:            blue;\n",
       "    font-size:    110%;\n",
       "    margin-left:   2px;\n",
       "    margin-right:  2px;\n",
       "    font-weight:   650;\n",
       "}\n",
       "\n",
       ".text_cell_render tt {\n",
       "    font-size:    120%;\n",
       "    margin-left:   2px;\n",
       "    margin-right:  2px;\n",
       "    font-weight:   150;\n",
       "}\n",
       "\n",
       ".Codemirror {\n",
       "    font-family: \"PT Mono\";\n",
       "    font-size: 100%;\n",
       "}\n",
       "\n",
       "</style>\n",
       "\n"
      ],
      "text/plain": [
       "<IPython.core.display.HTML object>"
      ]
     },
     "execution_count": 1,
     "metadata": {},
     "output_type": "execute_result"
    }
   ],
   "source": [
    "from IPython.core.display import HTML\n",
    "with open('../style.css') as f:\n",
    "    css = f.read()\n",
    "HTML(css)"
   ]
  },
  {
   "cell_type": "markdown",
   "metadata": {},
   "source": [
    "# Utilities"
   ]
  },
  {
   "cell_type": "markdown",
   "metadata": {},
   "source": [
    "The global variable `gCache` is used as a cache for the function `evaluate` defined later.  Instead of just storing the values for a given `State`, the cache stores pairs of the form \n",
    "* `('=', v)`, \n",
    "* `('≤', v)`, or\n",
    "* `('≥', v)`.\n",
    "\n",
    "The first component of these pairs is a *flag* that specifies whether the stored value `v` is exact or whether it only is a lower or upper bound.  Concretely, provided `gCache[State]` is defined and `evaluate(State)` computes the *value* of a given `State`, the following invariants are satisfied:\n",
    "* $\\texttt{gCache[State]} = (\\texttt{'='}, v) \\rightarrow \\texttt{evaluate(State)} = v$.\n",
    "* $\\texttt{gCache[State]} = (\\texttt{'≤'}, v) \\rightarrow \\texttt{evaluate(State)} \\leq v$.\n",
    "* $\\texttt{gCache[State]} = (\\texttt{'≥'}, v) \\rightarrow \\texttt{evaluate(State)} \\geq v$."
   ]
  },
  {
   "cell_type": "code",
   "execution_count": 2,
   "metadata": {},
   "outputs": [],
   "source": [
    "gCache = {}"
   ]
  },
  {
   "cell_type": "markdown",
   "metadata": {},
   "source": [
    "In order to have some variation in our game, we use random numbers to choose between optimal moves."
   ]
  },
  {
   "cell_type": "code",
   "execution_count": 3,
   "metadata": {},
   "outputs": [],
   "source": [
    "import random\n",
    "random.seed(0)"
   ]
  },
  {
   "cell_type": "markdown",
   "metadata": {},
   "source": [
    "# Alpha-Beta Pruning with Progressive Deepening, Move Ordering, and Memoization"
   ]
  },
  {
   "cell_type": "markdown",
   "metadata": {},
   "source": [
    "The function `pd_evaluate` takes three arguments:\n",
    "- `State` is the current state of the game,\n",
    "- `limit` determines how deep the game tree is searched,\n",
    "- `f`     is either the function `maxValue` or the function `minValue`.\n",
    "\n",
    "The function `pd_evaluate` uses *progressive deepening* to compute the value of `State`.  The given `State` is evaluated for a depth of $0$, $1$, $\\cdots$, `limit`.  The values calculated for a depth of $l$ are stored and used to sort the states when `State` is next evaluated for a depth of $l+1$.  This is beneficial for *alpha-beta pruning* because alpha-beta pruning can cut off more branches from the search tree if we start be evaluating the best moves.  "
   ]
  },
  {
   "cell_type": "code",
   "execution_count": 4,
   "metadata": {},
   "outputs": [],
   "source": [
    "def maxValue(): pass # this function will be properly defined later"
   ]
  },
  {
   "cell_type": "code",
   "execution_count": 5,
   "metadata": {},
   "outputs": [],
   "source": [
    "def pd_evaluate(State, limit, f=maxValue):\n",
    "    for l in range(limit+1):\n",
    "        value = evaluate(State, l, f)\n",
    "        if value == -1 or value == 1:\n",
    "            return value\n",
    "    return value"
   ]
  },
  {
   "cell_type": "markdown",
   "metadata": {},
   "source": [
    "The function `evaluate` takes five arguments:\n",
    "- `State` is the current state of the game,\n",
    "- `limit` determines the lookahead.  To be more precise, it is the number of *half-moves* that are investigated to compute the value.  If `limit` is 0, the game is evaluated using `heuristic`.  This function is supposed to be defined in the notebook defining the game.\n",
    "- `f` is either the function `maxValue` or the function `minValue`.  \n",
    "\n",
    "   `f = maxValue` if it's the maximizing player's turn in `State`.  Otherwise,\n",
    "   `f = minValue`.\n",
    "- `alpha` and `beta` are the parameters from *alpha-beta pruning*.\n",
    "\n",
    "The function `evaluate` returns the *value* that the given `State` has if both players play their optimal game. \n",
    "- If the maximizing player can force a win, the return value is `1`.\n",
    "- If the maximizing player can at best force a draw, the return value is `0`.\n",
    "- If the maximizing player might loose even when playing optimal, the return value is `-1`.\n",
    "\n",
    "Otherwise, the value is calculated according to a *heuristic*.\n",
    "\n",
    "For reasons of efficiency, the function `evaluate` is *memoized* using the global variable `gCache`.   This work in the same way as described in the notebook `Alpha-Beta-Pruning-Memoization.ipynb`."
   ]
  },
  {
   "cell_type": "code",
   "execution_count": 6,
   "metadata": {},
   "outputs": [],
   "source": [
    "def evaluate(State, limit, f=maxValue, alpha=-1, beta=1):\n",
    "    global gCache\n",
    "    if (State, limit) in gCache:\n",
    "        flag, v = gCache[(State, limit)]    \n",
    "        if flag == '=':\n",
    "            return v\n",
    "        if flag == '≤':\n",
    "            if v <= alpha:\n",
    "                return v\n",
    "            elif alpha < v < beta:\n",
    "                w = f(State, limit, alpha, v)\n",
    "                store_cache(State, limit, alpha, v, w)\n",
    "                return w\n",
    "            else: # beta <= v:\n",
    "                w = f(State, limit, alpha, beta)\n",
    "                store_cache(State, limit, alpha, beta, w)\n",
    "                return w\n",
    "        if flag == '≥':\n",
    "            if beta <= v:\n",
    "                return v\n",
    "            elif alpha < v < beta:\n",
    "                w = f(State, limit, v, beta)\n",
    "                store_cache(State, limit, v, beta, w)\n",
    "                return w\n",
    "            else: # v <= alpha\n",
    "                w = f(State, limit, alpha, beta)\n",
    "                store_cache(State, limit, alpha, beta, w)\n",
    "                return w\n",
    "    else:\n",
    "        v = f(State, limit, alpha, beta)\n",
    "        store_cache(State, limit, alpha, beta, v)\n",
    "        return v"
   ]
  },
  {
   "cell_type": "markdown",
   "metadata": {},
   "source": [
    "The function `store_cache` is called with five arguments:\n",
    "* `State` is a state of the game,\n",
    "* `limit` is the search depth,\n",
    "* `alpha` is a number,\n",
    "* `beta`  is a number, and\n",
    "* `value` is a number such that:\n",
    "  $$\\texttt{evaluate(State, limit, f, alpha, beta)} = \\texttt{value}$$\n",
    "  \n",
    "The function stores the `value` in the dictionary `Cache` under the key `State`.\n",
    "It also stores an indicator that is either `'≤'`, `'='`, or `'≥'`.  The value that is stored \n",
    "satisfies the following conditions:\n",
    "* If `Cache[State, limit] = ('≤', value)`, then `eval(State, limit) ≤ value`. \n",
    "* If `Cache[State, limit] = ('=', value)`, then `eval(State, limit) = value`. \n",
    "* If `Cache[State, limit] = ('≥', value)`, then `eval(State, limit) ≥ value`. "
   ]
  },
  {
   "cell_type": "code",
   "execution_count": 7,
   "metadata": {},
   "outputs": [],
   "source": [
    "def store_cache(State, limit, alpha, beta, value):\n",
    "    global gCache\n",
    "    if value <= alpha:\n",
    "        gCache[(State, limit)] = ('≤', value)\n",
    "    elif value < beta:\n",
    "        gCache[(State, limit)] = ('=', value)\n",
    "    else: # value >= beta\n",
    "        gCache[(State, limit)] = ('≥', value)"
   ]
  },
  {
   "cell_type": "code",
   "execution_count": 8,
   "metadata": {},
   "outputs": [],
   "source": [
    "def value_cache(State, limit):\n",
    "    flag, value = gCache.get((State, limit), ('=', 0))\n",
    "    return value"
   ]
  },
  {
   "cell_type": "markdown",
   "metadata": {},
   "source": [
    "The module [`heapq`](https://docs.python.org/3/library/heapq.html) implements [heaps](https://en.wikipedia.org/wiki/Heap_(data_structure)).  The implementation of `maxValue` and `minValue` use heaps as *priority queues* in order to sort the moves.  This improves the performance of *alpha-beta pruning*."
   ]
  },
  {
   "cell_type": "code",
   "execution_count": 9,
   "metadata": {},
   "outputs": [],
   "source": [
    "import heapq"
   ]
  },
  {
   "cell_type": "markdown",
   "metadata": {},
   "source": [
    "The function `maxValue` satisfies the following specification:\n",
    "- $\\alpha \\leq \\texttt{value}(s) \\leq \\beta \\;\\rightarrow\\;\\texttt{maxValue}(s, l, \\alpha, \\beta) = \\texttt{value}(s)$\n",
    "- $\\texttt{value}(s) < \\alpha \\;\\rightarrow\\; \\texttt{maxValue}(s, l, \\alpha, \\beta) \\leq \\alpha$\n",
    "- $\\beta < \\texttt{value}(s) \\;\\rightarrow\\; \\beta \\leq \\texttt{maxValue}(s, \\alpha, \\beta)$\n",
    "\n",
    "It assumes that `gPlayers[0]` is the maximizing player."
   ]
  },
  {
   "cell_type": "code",
   "execution_count": 10,
   "metadata": {},
   "outputs": [],
   "source": [
    "def maxValue(State, limit, alpha=-1, beta=1):\n",
    "    if finished(State):\n",
    "        return utility(State)\n",
    "    if limit == 0:\n",
    "        return heuristic(State)\n",
    "    if alpha >= beta:\n",
    "        return alpha\n",
    "    value      = alpha\n",
    "    NextStates = next_states(State, gPlayers[0])\n",
    "    Moves      = []  # empty priority queue\n",
    "    for ns in NextStates:\n",
    "        # heaps are sorted ascendingly, hence the minus\n",
    "        heapq.heappush(Moves, (-value_cache(ns, limit-1), ns))\n",
    "    while Moves != []:\n",
    "        _, ns = heapq.heappop(Moves)\n",
    "        value = max(value, evaluate(ns, limit-1, minValue, value, beta))\n",
    "        if value >= beta:\n",
    "            return value\n",
    "    return value"
   ]
  },
  {
   "cell_type": "code",
   "execution_count": 11,
   "metadata": {},
   "outputs": [],
   "source": [
    "def minValue(State, limit, alpha=-1, beta=1):\n",
    "    if finished(State):\n",
    "        return utility(State)\n",
    "    if limit == 0:\n",
    "        return heuristic(State)\n",
    "    if beta <= alpha:\n",
    "        return beta\n",
    "    value      = beta\n",
    "    NextStates = next_states(State, gPlayers[1])\n",
    "    Moves      = []  # empty priority queue\n",
    "    for ns in NextStates:\n",
    "        heapq.heappush(Moves, (value_cache(ns, limit-1), ns))\n",
    "    while Moves != []:\n",
    "        _, ns = heapq.heappop(Moves)\n",
    "        value = min(value, evaluate(ns, limit-1, maxValue, alpha, value))\n",
    "        if value <= alpha:\n",
    "            return value\n",
    "    return value"
   ]
  },
  {
   "cell_type": "code",
   "execution_count": 12,
   "metadata": {},
   "outputs": [],
   "source": [
    "%%capture\n",
    "%run Connect-Four.ipynb"
   ]
  },
  {
   "cell_type": "code",
   "execution_count": 13,
   "metadata": {},
   "outputs": [
    {
     "name": "stdout",
     "output_type": "stream",
     "text": [
      "| | | | | | | |\n",
      "| | |O|O|X| | |\n",
      "| | |X|O|O|O| |\n",
      "| | |O|X|X|X| |\n",
      "|X|O|X|O|X|O| |\n",
      "|X|X|O|X|X|O| |\n",
      "\n"
     ]
    }
   ],
   "source": [
    "print(toString(gTestState))"
   ]
  },
  {
   "cell_type": "code",
   "execution_count": 14,
   "metadata": {},
   "outputs": [],
   "source": [
    "gCache = {}"
   ]
  },
  {
   "cell_type": "code",
   "execution_count": 15,
   "metadata": {
    "scrolled": false
   },
   "outputs": [
    {
     "name": "stdout",
     "output_type": "stream",
     "text": [
      "Wall time: 187 ms\n"
     ]
    },
    {
     "data": {
      "text/plain": [
       "1"
      ]
     },
     "execution_count": 15,
     "metadata": {},
     "output_type": "execute_result"
    }
   ],
   "source": [
    "%%time\n",
    "value = pd_evaluate(gTestState, 10, maxValue)\n",
    "value"
   ]
  },
  {
   "cell_type": "code",
   "execution_count": 16,
   "metadata": {},
   "outputs": [
    {
     "data": {
      "text/plain": [
       "2204"
      ]
     },
     "execution_count": 16,
     "metadata": {},
     "output_type": "execute_result"
    }
   ],
   "source": [
    "len(gCache)"
   ]
  },
  {
   "cell_type": "markdown",
   "metadata": {},
   "source": [
    "In order to evaluate the effect of *progressive deepening*, we reset the cache and can then evaluate the test state without progressive deepening."
   ]
  },
  {
   "cell_type": "code",
   "execution_count": 17,
   "metadata": {},
   "outputs": [],
   "source": [
    "gCache = {}"
   ]
  },
  {
   "cell_type": "code",
   "execution_count": 18,
   "metadata": {},
   "outputs": [
    {
     "name": "stdout",
     "output_type": "stream",
     "text": [
      "Wall time: 367 ms\n"
     ]
    },
    {
     "data": {
      "text/plain": [
       "1"
      ]
     },
     "execution_count": 18,
     "metadata": {},
     "output_type": "execute_result"
    }
   ],
   "source": [
    "%%time\n",
    "value = evaluate(gTestState, 10, maxValue)\n",
    "value"
   ]
  },
  {
   "cell_type": "code",
   "execution_count": 19,
   "metadata": {},
   "outputs": [
    {
     "data": {
      "text/plain": [
       "5620"
      ]
     },
     "execution_count": 19,
     "metadata": {},
     "output_type": "execute_result"
    }
   ],
   "source": [
    "len(gCache)"
   ]
  },
  {
   "cell_type": "markdown",
   "metadata": {},
   "source": [
    "## Playing the Game"
   ]
  },
  {
   "cell_type": "markdown",
   "metadata": {},
   "source": [
    "The function `best_move` takes two arguments:\n",
    "- `State` is the current state of the game,\n",
    "- `limit` is the depth limit of the recursion.\n",
    "\n",
    "The function `best_move` returns a pair of the form $(v, s)$ where $s$ is a state and $v$ is the value of this state.  The state $s$ is a state that is reached from `State` if the player makes one of her optimal moves.  In order to have some variation in the game, the function randomly chooses any of the optimal moves."
   ]
  },
  {
   "cell_type": "code",
   "execution_count": 20,
   "metadata": {},
   "outputs": [],
   "source": [
    "def best_move(State, limit):\n",
    "    NextStates = next_states(State, gPlayers[0])\n",
    "    bestValue  = pd_evaluate(State, limit, maxValue)\n",
    "    BestMoves  = [s for s in NextStates \n",
    "                    if evaluate(s, limit-1, minValue) == bestValue\n",
    "                 ]\n",
    "    BestState  = random.choice(BestMoves)\n",
    "    return bestValue, BestState"
   ]
  },
  {
   "cell_type": "markdown",
   "metadata": {},
   "source": [
    "The next line is needed because we need the function `IPython.display.clear_output` to clear the output in a cell."
   ]
  },
  {
   "cell_type": "code",
   "execution_count": 21,
   "metadata": {},
   "outputs": [],
   "source": [
    "import IPython.display "
   ]
  },
  {
   "cell_type": "code",
   "execution_count": 22,
   "metadata": {},
   "outputs": [],
   "source": [
    "import time"
   ]
  },
  {
   "cell_type": "markdown",
   "metadata": {},
   "source": [
    "The function `play_game` plays on the given `canvas`.  The game played is specified indirectly by specifying the following:\n",
    "- `Start` is a global variable defining the start state of the game.\n",
    "- `next_states` is a function such that $\\texttt{next_states}(s, p)$ computes the set of all possible states that can be reached from state $s$ if player $p$ is next to move.\n",
    "- `finished` is a function such that $\\texttt{finished}(s)$ is true for a state $s$ if the game is over in state $s$.\n",
    "- `utility` is a function such that $\\texttt{utility}(s, p)$ returns either `-1`, `0`, or `1` in the *terminal state* $s$.  We have that\n",
    "  - $\\texttt{utility}(s, p)= -1$ iff the game is lost for player $p$ in state $s$, \n",
    "  - $\\texttt{utility}(s, p)=  0$ iff the game is drawn, and \n",
    "  - $\\texttt{utility}(s, p)=  1$ iff the game is won for player $p$ in state $s$."
   ]
  },
  {
   "cell_type": "code",
   "execution_count": 23,
   "metadata": {},
   "outputs": [],
   "source": [
    "def play_game(canvas, limit):\n",
    "    global gCache\n",
    "    gCache  = {}\n",
    "    State   = gStart\n",
    "    History = []\n",
    "    while (True):\n",
    "        firstPlayer = gPlayers[0]\n",
    "        start       = time.time()\n",
    "        val, State  = best_move(State, limit)\n",
    "        stop        = time.time()\n",
    "        diff        = round(stop - start, 2)\n",
    "        History.append(diff)\n",
    "        draw(State, canvas, f'{round(diff, 2)} seconds, value = {round(val, 2)}.')\n",
    "        if finished(State):\n",
    "            final_msg(State)\n",
    "            break\n",
    "        IPython.display.clear_output(wait=True)\n",
    "        State = get_move(State)\n",
    "        draw(State, canvas, '')\n",
    "        if finished(State):\n",
    "            IPython.display.clear_output(wait=True)\n",
    "            final_msg(State)\n",
    "            break\n",
    "    for i, d in enumerate(History):\n",
    "        print(f'{i}: {d} seconds')"
   ]
  },
  {
   "cell_type": "code",
   "execution_count": 24,
   "metadata": {},
   "outputs": [
    {
     "data": {
      "application/vnd.jupyter.widget-view+json": {
       "model_id": "680504ba716849c79f09d5e2876398fc",
       "version_major": 2,
       "version_minor": 0
      },
      "text/plain": [
       "Canvas(height=400, width=350)"
      ]
     },
     "metadata": {},
     "output_type": "display_data"
    }
   ],
   "source": [
    "canvas = create_canvas()\n",
    "draw(gStart, canvas, f'Current value of game for \"X\": {round(value, 2)}')"
   ]
  },
  {
   "cell_type": "code",
   "execution_count": 26,
   "metadata": {},
   "outputs": [
    {
     "name": "stdout",
     "output_type": "stream",
     "text": [
      "Enter column here: 1\n",
      "You have lost!\n",
      "0: 8.91 seconds\n",
      "1: 4.64 seconds\n",
      "2: 3.6 seconds\n",
      "3: 5.05 seconds\n",
      "4: 9.35 seconds\n",
      "5: 7.06 seconds\n",
      "6: 0.53 seconds\n",
      "7: 0.17 seconds\n",
      "8: 0.61 seconds\n"
     ]
    }
   ],
   "source": [
    "play_game(canvas, 8)"
   ]
  },
  {
   "cell_type": "code",
   "execution_count": null,
   "metadata": {},
   "outputs": [],
   "source": [
    "len(gCache)"
   ]
  },
  {
   "cell_type": "code",
   "execution_count": null,
   "metadata": {},
   "outputs": [],
   "source": []
  }
 ],
 "metadata": {
  "kernelspec": {
   "display_name": "Python 3 (ipykernel)",
   "language": "python",
   "name": "python3"
  },
  "language_info": {
   "codemirror_mode": {
    "name": "ipython",
    "version": 3
   },
   "file_extension": ".py",
   "mimetype": "text/x-python",
   "name": "python",
   "nbconvert_exporter": "python",
   "pygments_lexer": "ipython3",
   "version": "3.9.6"
  },
  "toc": {
   "base_numbering": 1,
   "nav_menu": {},
   "number_sections": true,
   "sideBar": true,
   "skip_h1_title": false,
   "title_cell": "Table of Contents",
   "title_sidebar": "Contents",
   "toc_cell": false,
   "toc_position": {},
   "toc_section_display": true,
   "toc_window_display": false
  },
  "varInspector": {
   "cols": {
    "lenName": 16,
    "lenType": 16,
    "lenVar": 40
   },
   "kernels_config": {
    "python": {
     "delete_cmd_postfix": "",
     "delete_cmd_prefix": "del ",
     "library": "var_list.py",
     "varRefreshCmd": "print(var_dic_list())"
    },
    "r": {
     "delete_cmd_postfix": ") ",
     "delete_cmd_prefix": "rm(",
     "library": "var_list.r",
     "varRefreshCmd": "cat(var_dic_list()) "
    }
   },
   "types_to_exclude": [
    "module",
    "function",
    "builtin_function_or_method",
    "instance",
    "_Feature"
   ],
   "window_display": false
  }
 },
 "nbformat": 4,
 "nbformat_minor": 2
}
