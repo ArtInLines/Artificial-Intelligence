{
 "cells": [
  {
   "cell_type": "code",
   "execution_count": 1,
   "metadata": {},
   "outputs": [
    {
     "data": {
      "text/html": [
       "<link href='http://fonts.googleapis.com/css?family=Alegreya+Sans:100,300,400,500,700,800,900,100italic,300italic,400italic,500italic,700italic,800italic,900italic' rel='stylesheet' type='text/css'>\n",
       "<link href='http://fonts.googleapis.com/css?family=Arvo:400,700,400italic' rel='stylesheet' type='text/css'>\n",
       "<link href='http://fonts.googleapis.com/css?family=PT+Mono' rel='stylesheet' type='text/css'>\n",
       "<link href='http://fonts.googleapis.com/css?family=Shadows+Into+Light' rel='stylesheet' type='text/css'>\n",
       "<link href='http://fonts.googleapis.com/css?family=Philosopher:400,700,400italic,700italic' rel='stylesheet' type='text/css'>\n",
       "\n",
       "<style>\n",
       "\n",
       "@font-face {\n",
       "    font-family: \"Computer Modern\";\n",
       "    src: url('http://mirrors.ctan.org/fonts/cm-unicode/fonts/otf/cmunss.otf');\n",
       "}\n",
       "\n",
       ".container { width: 100% }\n",
       "\n",
       "/* Formatting for header cells */\n",
       ".text_cell_render h1 {\n",
       "    font-family: 'Philosopher', sans-serif;\n",
       "    font-weight: 400;\n",
       "    font-size: 2.2em;\n",
       "    line-height: 100%;\n",
       "    color: rgb(0, 80, 120);\n",
       "    margin-bottom: 0.1em;\n",
       "    margin-top: 0.1em;\n",
       "    display: block;\n",
       "}\t\n",
       ".text_cell_render h2 {\n",
       "    font-family: 'Philosopher', serif;\n",
       "    font-weight: 400;\n",
       "    font-size: 1.9em;\n",
       "    line-height: 100%;\n",
       "    color: rgb(200,100,0);\n",
       "    margin-bottom: 0.1em;\n",
       "    margin-top: 0.1em;\n",
       "    display: block;\n",
       "}\t\n",
       "\n",
       ".text_cell_render h3 {\n",
       "    font-family: 'Philosopher', serif;\n",
       "    margin-top:12px;\n",
       "    margin-bottom: 3px;\n",
       "    font-style: italic;\n",
       "    color: rgb(94,127,192);\n",
       "}\n",
       "\n",
       ".text_cell_render h4 {\n",
       "    font-family: 'Philosopher', serif;\n",
       "}\n",
       "\n",
       ".text_cell_render h5 {\n",
       "    font-family: 'Alegreya Sans', sans-serif;\n",
       "    font-weight: 300;\n",
       "    font-size: 16pt;\n",
       "    color: grey;\n",
       "    font-style: italic;\n",
       "    margin-bottom: .1em;\n",
       "    margin-top: 0.1em;\n",
       "    display: block;\n",
       "}\n",
       "\n",
       ".text_cell_render h6 {\n",
       "    font-family: 'PT Mono', sans-serif;\n",
       "    font-weight: 300;\n",
       "    font-size: 10pt;\n",
       "    color: grey;\n",
       "    margin-bottom: 1px;\n",
       "    margin-top: 1px;\n",
       "}\n",
       "\n",
       ".text_cell_render em {\n",
       "    font-family: 'Philosopher', sans-serif;\n",
       "    color:        blue;\n",
       "    background-color: rgb(255,220,180);\n",
       "    font-size:    110%;\n",
       "    margin-left:   2px;\n",
       "    margin-right:  2px;\n",
       "    font-weight:   100;\n",
       "}\n",
       "\n",
       ".text_cell_render b {\n",
       "    color:            rgb(255,195,195);\n",
       "    background-color: rgb(0,0,0);\n",
       "    font-size:    110%;\n",
       "    margin-left:   2px;\n",
       "    margin-right:  2px;\n",
       "    font-weight:   650;\n",
       "}\n",
       "\n",
       ".text_cell_render u {\n",
       "    color:            blue;\n",
       "    font-size:    110%;\n",
       "    margin-left:   2px;\n",
       "    margin-right:  2px;\n",
       "    font-weight:   650;\n",
       "}\n",
       "\n",
       ".text_cell_render tt {\n",
       "    font-size:    120%;\n",
       "    margin-left:   2px;\n",
       "    margin-right:  2px;\n",
       "    font-weight:   150;\n",
       "}\n",
       "\n",
       ".Codemirror {\n",
       "    font-family: \"PT Mono\";\n",
       "    font-size: 100%;\n",
       "}\n",
       "\n",
       "</style>\n",
       "\n"
      ],
      "text/plain": [
       "<IPython.core.display.HTML object>"
      ]
     },
     "execution_count": 1,
     "metadata": {},
     "output_type": "execute_result"
    }
   ],
   "source": [
    "from IPython.core.display import HTML\n",
    "with open('../style.css', 'r') as f:\n",
    "    css = f.read()\n",
    "HTML(css)"
   ]
  },
  {
   "cell_type": "markdown",
   "metadata": {},
   "source": [
    "# Memoization\n",
    "\n",
    "This notebook discusses the technique of [https://en.wikipedia.org/wiki/Memoization](memoization) via the Fibonacci numbers.\n",
    "The [Fibonacci numbers](https://en.wikipedia.org/wiki/Fibonacci_number) $F_n$ are defined inductively for all $n\\in\\mathbb{N}$:\n",
    "- $F_= := 0$,\n",
    "- $F_1 := 1$, and\n",
    "- $F_{n+2} := F_{n+1} + F_n$ for all $n \\in \\mathbb{N}$."
   ]
  },
  {
   "cell_type": "markdown",
   "metadata": {},
   "source": [
    "The function `fib` takes a natural number $n$ as argument. The expression $\\texttt{fib}(n)$ computes the $n$-th *Fibonacci number* $F_n$ in a naive way."
   ]
  },
  {
   "cell_type": "code",
   "execution_count": 2,
   "metadata": {},
   "outputs": [],
   "source": [
    "def fib(n):\n",
    "    if n < 2:\n",
    "        return n\n",
    "    return fib(n-2) + fib(n-1)"
   ]
  },
  {
   "cell_type": "markdown",
   "metadata": {},
   "source": [
    "The problem with this definition of the function `fib` is that in order to compute e.g. $F_5$ we compute both $F_4$ and $F_3$.  However, in order to compute $F_4$, we compute $F_3$ and $F_2$.  Hence $F_3$ is computed twice.  Even worse, $F_2$ is computed twice for the two computations of $F_3$ and then it is also computed when computing $F_4$.  Hence, it is computed a total of $3$ times.  In general, it can be shown that when the above definition of `fib` is used to compute $F_n$, the number of times that $F_2$ needs to be computed grows as $\\mathcal{O}\\bigl(\\phi^n\\bigr)$ where $\\phi = \\frac{1}{2}\\cdot\\bigl(1 + \\sqrt{5}\\bigr)$."
   ]
  },
  {
   "cell_type": "code",
   "execution_count": 3,
   "metadata": {},
   "outputs": [],
   "source": [
    "import time"
   ]
  },
  {
   "cell_type": "code",
   "execution_count": 4,
   "metadata": {},
   "outputs": [
    {
     "name": "stdout",
     "output_type": "stream",
     "text": [
      "elapsed time: 9.54e-07, fib(1) = 1\n",
      "elapsed time: 7.15e-07, fib(2) = 1\n",
      "elapsed time: 9.54e-07, fib(3) = 2\n",
      "elapsed time: 1.67e-06, fib(4) = 3\n",
      "elapsed time: 2.15e-06, fib(5) = 5\n",
      "elapsed time: 3.10e-06, fib(6) = 8\n",
      "elapsed time: 5.25e-06, fib(7) = 13\n",
      "elapsed time: 6.91e-06, fib(8) = 21\n",
      "elapsed time: 1.22e-05, fib(9) = 34\n",
      "elapsed time: 3.10e-05, fib(10) = 55\n",
      "elapsed time: 5.60e-05, fib(11) = 89\n",
      "elapsed time: 7.41e-05, fib(12) = 144\n",
      "elapsed time: 9.80e-05, fib(13) = 233\n",
      "elapsed time: 1.38e-04, fib(14) = 377\n",
      "elapsed time: 2.40e-04, fib(15) = 610\n",
      "elapsed time: 3.84e-04, fib(16) = 987\n",
      "elapsed time: 5.15e-04, fib(17) = 1597\n",
      "elapsed time: 7.99e-04, fib(18) = 2584\n",
      "elapsed time: 1.30e-03, fib(19) = 4181\n",
      "elapsed time: 2.19e-03, fib(20) = 6765\n",
      "elapsed time: 4.15e-03, fib(21) = 10946\n",
      "elapsed time: 8.11e-03, fib(22) = 17711\n",
      "elapsed time: 9.03e-03, fib(23) = 28657\n",
      "elapsed time: 1.45e-02, fib(24) = 46368\n",
      "elapsed time: 2.30e-02, fib(25) = 75025\n",
      "elapsed time: 3.82e-02, fib(26) = 121393\n",
      "elapsed time: 6.09e-02, fib(27) = 196418\n",
      "elapsed time: 1.04e-01, fib(28) = 317811\n",
      "elapsed time: 1.60e-01, fib(29) = 514229\n",
      "elapsed time: 2.52e-01, fib(30) = 832040\n",
      "elapsed time: 4.04e-01, fib(31) = 1346269\n",
      "elapsed time: 6.66e-01, fib(32) = 2178309\n",
      "elapsed time: 1.06e+00, fib(33) = 3524578\n",
      "elapsed time: 1.70e+00, fib(34) = 5702887\n"
     ]
    }
   ],
   "source": [
    "N  = 35\n",
    "Ns = []\n",
    "Ts = []\n",
    "for n in range(1, N):\n",
    "    start = time.time()\n",
    "    Fn    = fib(n)\n",
    "    stop  = time.time()\n",
    "    print(f'elapsed time: {\"{:.2e}\".format(stop-start)}, fib({n}) = {Fn}')\n",
    "    Ns.append(n)\n",
    "    Ts.append(stop - start)"
   ]
  },
  {
   "cell_type": "markdown",
   "metadata": {},
   "source": [
    "Let us plot the times."
   ]
  },
  {
   "cell_type": "code",
   "execution_count": 5,
   "metadata": {},
   "outputs": [],
   "source": [
    "import matplotlib.pyplot as plt "
   ]
  },
  {
   "cell_type": "code",
   "execution_count": 6,
   "metadata": {},
   "outputs": [
    {
     "data": {
      "image/png": "[encoded data removed]",
      "text/plain": [
       "<Figure size 432x288 with 1 Axes>"
      ]
     },
     "metadata": {
      "needs_background": "light"
     },
     "output_type": "display_data"
    }
   ],
   "source": [
    "plt.plot(Ns, Ts)\n",
    "plt.xlabel('n')\n",
    "plt.ylabel('time')\n",
    "plt.title('Time to compute fib(n).')\n",
    "plt.show()"
   ]
  },
  {
   "cell_type": "markdown",
   "metadata": {},
   "source": [
    "In order to verify that the running times are increasing exponentially, we plot the logarithms of the times."
   ]
  },
  {
   "cell_type": "code",
   "execution_count": 7,
   "metadata": {},
   "outputs": [],
   "source": [
    "import math"
   ]
  },
  {
   "cell_type": "code",
   "execution_count": 8,
   "metadata": {},
   "outputs": [
    {
     "data": {
      "image/png": "[encoded data removed]",
      "text/plain": [
       "<Figure size 432x288 with 1 Axes>"
      ]
     },
     "metadata": {
      "needs_background": "light"
     },
     "output_type": "display_data"
    }
   ],
   "source": [
    "LogTs = [math.log(t) for t in Ts]\n",
    "plt.plot(Ns, LogTs)\n",
    "plt.xlabel('n')\n",
    "plt.ylabel('log(time)')\n",
    "plt.title('Time to compute fib(n), logarithmic plot.')\n",
    "plt.show()"
   ]
  },
  {
   "cell_type": "code",
   "execution_count": 9,
   "metadata": {},
   "outputs": [
    {
     "name": "stdout",
     "output_type": "stream",
     "text": [
      "0.75\n",
      "1.3333333333333333\n",
      "1.75\n",
      "1.2857142857142858\n",
      "1.4444444444444444\n",
      "1.6923076923076923\n",
      "1.3181818181818181\n",
      "1.7586206896551724\n",
      "2.549019607843137\n",
      "1.8076923076923077\n",
      "1.323404255319149\n",
      "1.3215434083601285\n",
      "1.4087591240875912\n",
      "1.7374784110535406\n",
      "1.6013916500994037\n",
      "1.3401613904407201\n",
      "1.5521074571560909\n",
      "1.624589674723963\n",
      "1.6866274797942689\n",
      "1.8967545197124809\n",
      "1.9536632981166744\n",
      "1.1126524614254225\n",
      "1.6076919013154418\n",
      "1.584927050473186\n",
      "1.6593686829419998\n",
      "1.595748136764311\n",
      "1.7046975136337121\n",
      "1.5427961858918418\n",
      "1.5763803813399744\n",
      "1.6001841368467273\n",
      "1.6472503329719868\n",
      "1.5896907260813447\n",
      "1.603452592543015\n"
     ]
    }
   ],
   "source": [
    "for n in range(1, N-1):\n",
    "    print(Ts[n]/Ts[n-1])"
   ]
  },
  {
   "cell_type": "markdown",
   "metadata": {},
   "source": [
    "Compare these ratios with the [golden ratio](https://en.wikipedia.org/wiki/Golden_ratio) \n",
    "$\\phi = \\frac{1}{2}\\cdot\\bigl(1 + \\sqrt{5}\\bigr)$:  "
   ]
  },
  {
   "cell_type": "code",
   "execution_count": 10,
   "metadata": {},
   "outputs": [
    {
     "name": "stdout",
     "output_type": "stream",
     "text": [
      "1.618033988749895\n"
     ]
    }
   ],
   "source": [
    "print((1+math.sqrt(5)) / 2)"
   ]
  },
  {
   "cell_type": "markdown",
   "metadata": {},
   "source": [
    "The function `memoize` takes a function `f` as its argument.  It returns a <em style=\"color:blue\">memoized</em> version of the function `f`.  This memoized version will store all results in a cache and look them up instead of recomputing them.  \n",
    "\n",
    "Note that the function object `f_memoized` that is returned by the function `memoize` is a so called \n",
    "[closure](https://en.wikipedia.org/wiki/Closure_(computer_programming)).  The reason is that the variable\n",
    "`Cache`, which is created in the scope where `f_memoized` is defined, is stored inside the function object\n",
    "`f_memoized`."
   ]
  },
  {
   "cell_type": "code",
   "execution_count": 11,
   "metadata": {},
   "outputs": [],
   "source": [
    "def memoize(f):\n",
    "    Cache = {}\n",
    "    \n",
    "    def f_memoized(*args):\n",
    "        if (f, args) in Cache:\n",
    "            return Cache[(f, args)]\n",
    "        result = f(*args)\n",
    "        Cache[(f, args)] = result\n",
    "        return result\n",
    "    \n",
    "    return f_memoized"
   ]
  },
  {
   "cell_type": "code",
   "execution_count": 12,
   "metadata": {},
   "outputs": [],
   "source": [
    "fib = memoize(fib)"
   ]
  },
  {
   "cell_type": "markdown",
   "metadata": {},
   "source": [
    "Let's plot the times of the *memoized* version of `fib`.  This time, there should be no exponential increase."
   ]
  },
  {
   "cell_type": "code",
   "execution_count": 13,
   "metadata": {},
   "outputs": [
    {
     "data": {
      "image/png": "[encoded data removed]",
      "text/plain": [
       "<Figure size 432x288 with 1 Axes>"
      ]
     },
     "metadata": {
      "needs_background": "light"
     },
     "output_type": "display_data"
    }
   ],
   "source": [
    "N  = 35\n",
    "Ns = []\n",
    "Ts = []\n",
    "for n in range(1, N):\n",
    "    start = time.time()\n",
    "    Fn    = fib(n)\n",
    "    stop  = time.time()\n",
    "    Ns.append(n)\n",
    "    Ts.append(stop - start)\n",
    "    \n",
    "plt.plot(Ns, Ts)\n",
    "plt.xlabel('n')\n",
    "plt.ylabel('time')\n",
    "plt.title('Time to compute fib(n).')\n",
    "plt.show()"
   ]
  },
  {
   "cell_type": "markdown",
   "metadata": {},
   "source": [
    "We can achieve the same effect using a decorator:"
   ]
  },
  {
   "cell_type": "code",
   "execution_count": 14,
   "metadata": {},
   "outputs": [],
   "source": [
    "@memoize\n",
    "def fib2(n):\n",
    "    if n < 2:\n",
    "        return n\n",
    "    return fib2(n-2) + fib2(n-1)"
   ]
  },
  {
   "cell_type": "code",
   "execution_count": 15,
   "metadata": {},
   "outputs": [
    {
     "data": {
      "image/png": "[encoded data removed]",
      "text/plain": [
       "<Figure size 432x288 with 1 Axes>"
      ]
     },
     "metadata": {
      "needs_background": "light"
     },
     "output_type": "display_data"
    }
   ],
   "source": [
    "N  = 35\n",
    "Ns = []\n",
    "Ts = []\n",
    "for n in range(1, N):\n",
    "    start = time.time()\n",
    "    Fn    = fib2(n)\n",
    "    stop  = time.time()\n",
    "    Ns.append(n)\n",
    "    Ts.append(stop - start)\n",
    "    \n",
    "plt.plot(Ns, Ts)\n",
    "plt.xlabel('n')\n",
    "plt.ylabel('time')\n",
    "plt.title('Time to compute fib(n).')\n",
    "plt.show()"
   ]
  },
  {
   "cell_type": "markdown",
   "metadata": {},
   "source": [
    "Since `fib2` is a *closure*, the dictionary `Cache` is stored inside `fib2`.  We can even inspect this dictionary manually."
   ]
  },
  {
   "cell_type": "code",
   "execution_count": null,
   "metadata": {},
   "outputs": [],
   "source": [
    "fib2.__closure__[0].cell_contents"
   ]
  },
  {
   "cell_type": "code",
   "execution_count": null,
   "metadata": {},
   "outputs": [],
   "source": []
  }
 ],
 "metadata": {
  "kernelspec": {
   "display_name": "Python 3",
   "language": "python",
   "name": "python3"
  },
  "language_info": {
   "codemirror_mode": {
    "name": "ipython",
    "version": 3
   },
   "file_extension": ".py",
   "mimetype": "text/x-python",
   "name": "python",
   "nbconvert_exporter": "python",
   "pygments_lexer": "ipython3",
   "version": "3.9.1"
  },
  "toc": {
   "base_numbering": 1,
   "nav_menu": {},
   "number_sections": true,
   "sideBar": true,
   "skip_h1_title": false,
   "title_cell": "Table of Contents",
   "title_sidebar": "Contents",
   "toc_cell": false,
   "toc_position": {},
   "toc_section_display": true,
   "toc_window_display": false
  },
  "varInspector": {
   "cols": {
    "lenName": 16,
    "lenType": 16,
    "lenVar": 40
   },
   "kernels_config": {
    "python": {
     "delete_cmd_postfix": "",
     "delete_cmd_prefix": "del ",
     "library": "var_list.py",
     "varRefreshCmd": "print(var_dic_list())"
    },
    "r": {
     "delete_cmd_postfix": ") ",
     "delete_cmd_prefix": "rm(",
     "library": "var_list.r",
     "varRefreshCmd": "cat(var_dic_list()) "
    }
   },
   "types_to_exclude": [
    "module",
    "function",
    "builtin_function_or_method",
    "instance",
    "_Feature"
   ],
   "window_display": false
  }
 },
 "nbformat": 4,
 "nbformat_minor": 2
}
