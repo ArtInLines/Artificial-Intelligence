{
 "cells": [
  {
   "cell_type": "code",
   "execution_count": null,
   "metadata": {},
   "outputs": [],
   "source": [
    "from IPython.core.display import HTML\n",
    "with open('../style.css') as f:\n",
    "    css = f.read()\n",
    "HTML(css)"
   ]
  },
  {
   "cell_type": "markdown",
   "metadata": {},
   "source": [
    "# Utilities"
   ]
  },
  {
   "cell_type": "markdown",
   "metadata": {},
   "source": [
    "The global variable `Cache` is used as a cache for the function `value`defined later."
   ]
  },
  {
   "cell_type": "code",
   "execution_count": null,
   "metadata": {},
   "outputs": [],
   "source": [
    "Cache = {}"
   ]
  },
  {
   "cell_type": "markdown",
   "metadata": {},
   "source": [
    "The global variable `num_value_calls` is used to count the number of invocations\n",
    "of the function `value`. "
   ]
  },
  {
   "cell_type": "code",
   "execution_count": null,
   "metadata": {},
   "outputs": [],
   "source": [
    "num_value_calls = 0"
   ]
  },
  {
   "cell_type": "markdown",
   "metadata": {},
   "source": [
    "The function `memoize` takes a function `f` as its argument.  It returns a *memoized* version of the function `f`.  This memoized version will store all results in the directory `Cache` where the arguments of `f` are used as keys.  Later, when `f` is called with the same arguments, the result is retrieved from the `Cache` instead of being recomputed.  Note that the function `f_memoized` is a [closure](https://en.wikipedia.org/wiki/Closure_(computer_programming))."
   ]
  },
  {
   "cell_type": "code",
   "execution_count": null,
   "metadata": {},
   "outputs": [],
   "source": [
    "def memoize(f):\n",
    "    global Cache\n",
    "    \n",
    "    def f_memoized(*args):\n",
    "        if args in Cache:\n",
    "            return Cache[args]\n",
    "        result = f(*args)\n",
    "        Cache[args] = result\n",
    "        return result\n",
    "    \n",
    "    return f_memoized"
   ]
  },
  {
   "cell_type": "markdown",
   "metadata": {},
   "source": [
    "# The Minimax Algorithm\n",
    "\n",
    "This notebook implements the [minimax algorithm](https://en.wikipedia.org/wiki/Minimax) and thereby implements a program that can play various deterministic, zero-sum, two-person games with perfect information.  The implementation assumes that an external notebook defines a game and provides the following variables and functions:\n",
    "* `Players` is a list of length two.  The elements of this list are the \n",
    "  players.  It is assumed that the first element in this list represents \n",
    "  the computer, while the second element is the human player.  The computer\n",
    "  always starts the game.\n",
    "* `Start` is the start state of the game.\n",
    "* `next_states(state, player)` is a function that takes two arguments:`\n",
    "  - `state` is a state of the game.\n",
    "  - `player` is the player whose turn it is to make a move.\n",
    "  The function call `next_states(state, player)` returns the list\n",
    "  of all states that can be reached by any move of `player`.\n",
    "* `utility(state, player)` takes a state and a player as its arguments.\n",
    "  If `state` is a terminal state, then the function returns the value\n",
    "  that this `state`has for `player`.  Otherwise, the function returns `None`.\n",
    "* `finished(state)` returns `True` if and only if `state` is a terminal state.\n",
    "* `get_move(state)` displays the given state and asks the human player for\n",
    "  her move.\n",
    "* `final_msg(state)` informs the human player about the result of the game.\n",
    "* `draw(state, canvas, value)` draws the given state on the canvas and informs\n",
    "  the user about the `value` of this state. \n",
    "   \n",
    "---"
   ]
  },
  {
   "cell_type": "markdown",
   "metadata": {},
   "source": [
    "In order to have some variation in our games, we use random numbers to choose between different optimal moves."
   ]
  },
  {
   "cell_type": "code",
   "execution_count": null,
   "metadata": {},
   "outputs": [],
   "source": [
    "import random\n",
    "random.seed(1)"
   ]
  },
  {
   "cell_type": "markdown",
   "metadata": {},
   "source": [
    "Given a player `p`, the function `other(p)` computes the opponent of `p`.  This assumes that there are only two players and the set of all players is stored in the global variable `Players`."
   ]
  },
  {
   "cell_type": "code",
   "execution_count": null,
   "metadata": {},
   "outputs": [],
   "source": [
    "other = lambda p: [o for o in Players if o != p][0]"
   ]
  },
  {
   "cell_type": "markdown",
   "metadata": {},
   "source": [
    "The function `value(State, player)` takes two arguments:\n",
    "- `State` is the current state of the game,\n",
    "- `player` is a player.\n",
    "\n",
    "The function `value` returns the *value* that the given `State` has for `player` if both players play their best game.  This values is an element from the set $\\{-1, 0, 1\\}$.  \n",
    "* If `player` can force a win, then the return value is `1`.\n",
    "* If `player` can at best force a draw, then the return value is `0`.\n",
    "* If the opponent of `player` can force a win for herself, then the return value is `-1`.\n",
    "\n",
    "For reasons of efficiency, this function is *memoized*.  Mathematically, the function `value`\n",
    "is defined recursively:\n",
    "- $\\texttt{finished}(s) \\rightarrow \\texttt{value}(s, p) = \\texttt{utility}(s, p)$\n",
    "- $\\neg \\texttt{finished}(s) \\rightarrow \n",
    "   \\texttt{value}(s, p) = \\max\\bigl(\\bigl\\{\n",
    "                     -\\texttt{value}(n, o) \\bigm| n \\in \\texttt{nextStates}(s, p)\n",
    "                     \\bigr\\}\\bigr)\n",
    "  $, where $o = \\texttt{other}(p)$"
   ]
  },
  {
   "cell_type": "code",
   "execution_count": null,
   "metadata": {},
   "outputs": [],
   "source": [
    "@memoize\n",
    "def value(State, player):\n",
    "    global num_value_calls \n",
    "    num_value_calls += 1\n",
    "    if finished(State):\n",
    "        return utility(State, player)\n",
    "    o = other(player)\n",
    "    return max([ -value(ns, o) for ns in next_states(State, player) ])"
   ]
  },
  {
   "cell_type": "markdown",
   "metadata": {},
   "source": [
    "The function `best_move` takes two arguments:\n",
    "- `State` is the current state of the game,\n",
    "- `player` is a player.\n",
    "\n",
    "The function `best_move` returns a pair of the form $(v, s)$ where $s$ is a state and $v$ is the value of this state.  The state $s$ is a state that is reached from `State` if `player` makes one of her optimal moves.  In order to have some variation in the game, the function randomly chooses any of the optimal moves."
   ]
  },
  {
   "cell_type": "code",
   "execution_count": null,
   "metadata": {},
   "outputs": [],
   "source": [
    "def best_move(State, player):\n",
    "    NS        = next_states(State, player)\n",
    "    bestVal   = value(State, player)\n",
    "    BestMoves = [s for s in NS if -value(s, other(player)) == bestVal]\n",
    "    BestState = random.choice(BestMoves)\n",
    "    return bestVal, BestState"
   ]
  },
  {
   "cell_type": "markdown",
   "metadata": {},
   "source": [
    "The next line is needed because we need the function `IPython.display.clear_output` to clear the output in a cell."
   ]
  },
  {
   "cell_type": "code",
   "execution_count": null,
   "metadata": {},
   "outputs": [],
   "source": [
    "import IPython.display "
   ]
  },
  {
   "cell_type": "markdown",
   "metadata": {},
   "source": [
    "The function `play_game` plays a game on the given `canvas`.  The game played is specified indirectly as follows:\n",
    "- `Start` is a global variable defining the start state of the game.\n",
    "- `next_states` is a function such that $\\texttt{next_states}(s, p)$ computes the set of all possible states that can be reached from state $s$ if player $p$ is next to move.\n",
    "- `finished` is a function such that $\\texttt{finished}(s)$ is true for a state $s$ if the game is over in state $s$.\n",
    "- `utility` is a function such that $\\texttt{utility}(s, p)$ returns either `-1`, `0`, or `1` in the *terminal state* $s$.  We have that\n",
    "  - $\\texttt{utility}(s, p)= -1$ iff the game is lost for player $p$ in state $s$, \n",
    "  - $\\texttt{utility}(s, p)=  0$ iff the game is drawn, and \n",
    "  - $\\texttt{utility}(s, p)=  1$ iff the game is won for player $p$ in state $s$."
   ]
  },
  {
   "cell_type": "code",
   "execution_count": null,
   "metadata": {},
   "outputs": [],
   "source": [
    "def play_game(canvas):\n",
    "    State = Start\n",
    "    while True:\n",
    "        firstPlayer = Players[0]\n",
    "        val, State  = best_move(State, firstPlayer);\n",
    "        draw(State, canvas, f'For me, the game has the value {val}.')\n",
    "        if finished(State):\n",
    "            final_msg(State)\n",
    "            return\n",
    "        IPython.display.clear_output(wait=True)\n",
    "        State = get_move(State)\n",
    "        draw(State, canvas, '')\n",
    "        if finished(State):\n",
    "            IPython.display.clear_output(wait=True)\n",
    "            final_msg(State)\n",
    "            return"
   ]
  },
  {
   "cell_type": "code",
   "execution_count": null,
   "metadata": {},
   "outputs": [],
   "source": [
    "# %run Tic-Tac-Toe.ipynb"
   ]
  },
  {
   "cell_type": "code",
   "execution_count": null,
   "metadata": {
    "scrolled": true
   },
   "outputs": [],
   "source": [
    "%run Tic-Tac-Toe-Bitboard.ipynb"
   ]
  },
  {
   "cell_type": "markdown",
   "metadata": {},
   "source": [
    "With the game *tic-tac-toe* represented as lists and without memoization, computing the value of the start state takes 7.11 seconds.\n",
    "If we use a bitboard instead, it takes 3.85 seconds.  However, the bitboard truly shines when we use memoization:\n",
    "* Representing states as bitboards and using memoization we need 808 kilobytes and the computation needs 49 milliseconds.\n",
    "* Representing states as lists of lists and using memoization uses 7648 kilobytes and takes 296 milliseconds.\n",
    "Observe that *memoization* accounts for a more than tenfold speedup. "
   ]
  },
  {
   "cell_type": "code",
   "execution_count": null,
   "metadata": {},
   "outputs": [],
   "source": [
    "import resource"
   ]
  },
  {
   "cell_type": "code",
   "execution_count": null,
   "metadata": {},
   "outputs": [],
   "source": [
    "%%time\n",
    "memory_before = resource.getrusage(resource.RUSAGE_SELF).ru_maxrss\n",
    "val = value(Start, 0)\n",
    "memory_after  = resource.getrusage(resource.RUSAGE_SELF).ru_maxrss\n",
    "print(f'Total memory used: {round((memory_after - memory_before) / 2**10)} Kilobytes.')"
   ]
  },
  {
   "cell_type": "markdown",
   "metadata": {},
   "source": [
    "Let us check how many times the function `value` has been called."
   ]
  },
  {
   "cell_type": "code",
   "execution_count": null,
   "metadata": {},
   "outputs": [],
   "source": [
    "num_value_calls"
   ]
  },
  {
   "cell_type": "markdown",
   "metadata": {},
   "source": [
    "We have the following results depending on whether we use memoization or not:\n",
    "\n",
    "| Memoization   | Number of Calls |\n",
    "|:------------- | ---------------:|\n",
    "| `False`       |          549946 |\n",
    "| `True`        |            5478 |"
   ]
  },
  {
   "cell_type": "markdown",
   "metadata": {},
   "source": [
    "The start state has the value `0`as neither player can force a win."
   ]
  },
  {
   "cell_type": "code",
   "execution_count": null,
   "metadata": {},
   "outputs": [],
   "source": [
    "val"
   ]
  },
  {
   "cell_type": "markdown",
   "metadata": {},
   "source": [
    "We check how many different states are stored in the `Cache`."
   ]
  },
  {
   "cell_type": "code",
   "execution_count": null,
   "metadata": {},
   "outputs": [],
   "source": [
    "len(Cache)"
   ]
  },
  {
   "cell_type": "markdown",
   "metadata": {},
   "source": [
    "Let's draw the board."
   ]
  },
  {
   "cell_type": "code",
   "execution_count": null,
   "metadata": {},
   "outputs": [],
   "source": [
    "canvas = create_canvas()\n",
    "draw(Start, canvas, f'Current value of game for \"X\": {val}')"
   ]
  },
  {
   "cell_type": "markdown",
   "metadata": {},
   "source": [
    "Now its time to play.  In the input window that will pop up later, enter your move in the format \"row,col\"  with no space between row and column."
   ]
  },
  {
   "cell_type": "code",
   "execution_count": null,
   "metadata": {
    "scrolled": false
   },
   "outputs": [],
   "source": [
    "play_game(canvas)"
   ]
  },
  {
   "cell_type": "code",
   "execution_count": null,
   "metadata": {},
   "outputs": [],
   "source": []
  }
 ],
 "metadata": {
  "kernelspec": {
   "display_name": "Python 3",
   "language": "python",
   "name": "python3"
  },
  "language_info": {
   "codemirror_mode": {
    "name": "ipython",
    "version": 3
   },
   "file_extension": ".py",
   "mimetype": "text/x-python",
   "name": "python",
   "nbconvert_exporter": "python",
   "pygments_lexer": "ipython3",
   "version": "3.9.1"
  },
  "toc": {
   "base_numbering": 1,
   "nav_menu": {},
   "number_sections": true,
   "sideBar": true,
   "skip_h1_title": false,
   "title_cell": "Table of Contents",
   "title_sidebar": "Contents",
   "toc_cell": false,
   "toc_position": {},
   "toc_section_display": true,
   "toc_window_display": false
  },
  "varInspector": {
   "cols": {
    "lenName": 16,
    "lenType": 16,
    "lenVar": 40
   },
   "kernels_config": {
    "python": {
     "delete_cmd_postfix": "",
     "delete_cmd_prefix": "del ",
     "library": "var_list.py",
     "varRefreshCmd": "print(var_dic_list())"
    },
    "r": {
     "delete_cmd_postfix": ") ",
     "delete_cmd_prefix": "rm(",
     "library": "var_list.r",
     "varRefreshCmd": "cat(var_dic_list()) "
    }
   },
   "types_to_exclude": [
    "module",
    "function",
    "builtin_function_or_method",
    "instance",
    "_Feature"
   ],
   "window_display": false
  }
 },
 "nbformat": 4,
 "nbformat_minor": 2
}
