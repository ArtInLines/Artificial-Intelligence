{
 "cells": [
  {
   "cell_type": "code",
   "execution_count": 2,
   "metadata": {},
   "outputs": [
    {
     "data": {
      "text/html": [
       "<link href='http://fonts.googleapis.com/css?family=Alegreya+Sans:100,300,400,500,700,800,900,100italic,300italic,400italic,500italic,700italic,800italic,900italic' rel='stylesheet' type='text/css'>\n",
       "<link href='http://fonts.googleapis.com/css?family=Arvo:400,700,400italic' rel='stylesheet' type='text/css'>\n",
       "<link href='http://fonts.googleapis.com/css?family=PT+Mono' rel='stylesheet' type='text/css'>\n",
       "<link href='http://fonts.googleapis.com/css?family=Shadows+Into+Light' rel='stylesheet' type='text/css'>\n",
       "<link href='http://fonts.googleapis.com/css?family=Philosopher:400,700,400italic,700italic' rel='stylesheet' type='text/css'>\n",
       "<link href=\"http://fonts.googleapis.com/css?family=Sacramento\" rel=\"stylesheet\" type=\"text/css\">\n",
       "\n",
       "<style>\n",
       "\n",
       "@font-face {\n",
       "    font-family: \"Computer Modern\";\n",
       "    src: url('http://mirrors.ctan.org/fonts/cm-unicode/fonts/otf/cmunss.otf');\n",
       "}\n",
       "\n",
       ".container { width: 100% }\n",
       "\n",
       "/* Formatting for header cells */\n",
       ".text_cell_render h1 {\n",
       "    font-family: 'Philosopher', sans-serif;\n",
       "    font-weight: 400;\n",
       "    font-size: 2.2em;\n",
       "    line-height: 100%;\n",
       "    color: rgb(0, 80, 120);\n",
       "    margin-bottom: 0.1em;\n",
       "    margin-top: 0.1em;\n",
       "    display: block;\n",
       "}\t\n",
       ".text_cell_render h2 {\n",
       "    font-family: 'Philosopher', serif;\n",
       "    font-weight: 400;\n",
       "    font-size: 1.9em;\n",
       "    line-height: 100%;\n",
       "    color: rgb(200,100,0);\n",
       "    margin-bottom: 0.1em;\n",
       "    margin-top: 0.1em;\n",
       "    display: block;\n",
       "}\t\n",
       "\n",
       ".text_cell_render h3 {\n",
       "    font-family: 'Philosopher', serif;\n",
       "    margin-top:12px;\n",
       "    margin-bottom: 3px;\n",
       "    font-style: italic;\n",
       "    color: rgb(94,127,192);\n",
       "}\n",
       "\n",
       ".text_cell_render h4 {\n",
       "    font-family: 'Philosopher', serif;\n",
       "}\n",
       "\n",
       ".text_cell_render h5 {\n",
       "    font-family: 'Alegreya Sans', sans-serif;\n",
       "    font-weight: 300;\n",
       "    font-size: 16pt;\n",
       "    color: grey;\n",
       "    font-style: italic;\n",
       "    margin-bottom: .1em;\n",
       "    margin-top: 0.1em;\n",
       "    display: block;\n",
       "}\n",
       "\n",
       ".text_cell_render h6 {\n",
       "    font-family: 'PT Mono', sans-serif;\n",
       "    font-weight: 300;\n",
       "    font-size: 10pt;\n",
       "    color: grey;\n",
       "    margin-bottom: 1px;\n",
       "    margin-top: 1px;\n",
       "}\n",
       "\n",
       ".text_cell_render em {\n",
       "    font-family: 'Philosopher', sans-serif;\n",
       "    color:        blue;\n",
       "    background-color: rgb(255,220,180);\n",
       "    font-size:    110%;\n",
       "    margin-left:   2px;\n",
       "    margin-right:  2px;\n",
       "    font-weight:   100;\n",
       "}\n",
       "\n",
       ".text_cell_render b {\n",
       "    color:            rgb(255,195,195);\n",
       "    background-color: rgb(0,0,0);\n",
       "    font-size:    110%;\n",
       "    margin-left:   2px;\n",
       "    margin-right:  2px;\n",
       "    font-weight:   650;\n",
       "}\n",
       "\n",
       ".text_cell_render u {\n",
       "    color:            blue;\n",
       "    font-size:    110%;\n",
       "    margin-left:   2px;\n",
       "    margin-right:  2px;\n",
       "    font-weight:   650;\n",
       "}\n",
       "\n",
       ".text_cell_render tt {\n",
       "    font-size:    120%;\n",
       "    margin-left:   2px;\n",
       "    margin-right:  2px;\n",
       "    font-weight:   150;\n",
       "}\n",
       "\n",
       ".Codemirror {\n",
       "    font-family: \"PT Mono\";\n",
       "    font-size: 100%;\n",
       "}\n",
       "\n",
       "#fancy {\n",
       "    font-family:      Georgia;\n",
       "    position:         relative;\n",
       "    float:            left;\n",
       "    border:           2px solid red;\n",
       "    width:            600px;\n",
       "    padding-left:     20px;\n",
       "    padding-right:    20px;\n",
       "    padding-top:      10px;\n",
       "    font-family:      'Sacramento', cursive;\n",
       "    font-size:        26px;\n",
       "    background-color: #F4EBF3;\n",
       "    border-radius:    15px;\n",
       "}\n",
       "\n",
       "</Style>\n",
       "\n"
      ],
      "text/plain": [
       "<IPython.core.display.HTML object>"
      ]
     },
     "execution_count": 2,
     "metadata": {},
     "output_type": "execute_result"
    }
   ],
   "source": [
    "from IPython.core.display import HTML\n",
    "with open('../style.css') as f:\n",
    "    css = f.read()\n",
    "HTML(css)"
   ]
  },
  {
   "cell_type": "markdown",
   "metadata": {},
   "source": [
    "# Tic-Tac-Toe"
   ]
  },
  {
   "cell_type": "markdown",
   "metadata": {},
   "source": [
    "This notebook defines the game [tic-tac-toe](https://en.wikipedia.org/wiki/Tic-tac-toe).\n",
    "It is played on a $3 \\times 3$ board.  There are two players, which are called `X` and `O`.  Player `X` starts.  Player `X` always puts an `'X'` into an empty field on the board, while player `O` always puts an `'O'` in an empty field of the board.  The goal of the game for player `X` is to get three **Xs** into a row, column, or diagonal line, while player `O` needs to get three **Os** into a row, column, or diagonal line.\n",
    "\n",
    "The global variable `gPlayers` returns a list with the name of both players."
   ]
  },
  {
   "cell_type": "code",
   "execution_count": 3,
   "metadata": {},
   "outputs": [],
   "source": [
    "gPlayers = [ 'X', 'O' ]"
   ]
  },
  {
   "cell_type": "markdown",
   "metadata": {},
   "source": [
    "In the following naive implementation, states are represented as tuples of tuples of strings.  The game starts with an empty board.  An empty field on the board is represented by a blank space `' '`, while an `X` is represented by the string `'X'` and an `O` is represented as the string `'O'`.  The *start state* `gStart` defined below represents an empty board.\n",
    "\n",
    "As we will later have need to store states in sets, we have to represent these states as \n",
    "tuples of tuples instead of lists of lists since lists are mutable and therefore can't be stored in sets."
   ]
  },
  {
   "cell_type": "code",
   "execution_count": 2,
   "metadata": {},
   "outputs": [
    {
     "data": {
      "text/plain": [
       "((' ', ' ', ' '), (' ', ' ', ' '), (' ', ' ', ' '))"
      ]
     },
     "execution_count": 2,
     "metadata": {},
     "output_type": "execute_result"
    }
   ],
   "source": [
    "gStart = tuple( tuple(' ' for col in range(3)) for row in range(3) )\n",
    "gStart"
   ]
  },
  {
   "cell_type": "markdown",
   "metadata": {},
   "source": [
    "The function `to_list` transforms a tuple of tuples into a list of lists.  As tuples are immutable, this function is needed in order to create new states from given ones."
   ]
  },
  {
   "cell_type": "code",
   "execution_count": 5,
   "metadata": {},
   "outputs": [],
   "source": [
    "def to_list(State): \n",
    "    return [list(row) for row in State]"
   ]
  },
  {
   "cell_type": "markdown",
   "metadata": {},
   "source": [
    "Conversely, the function `to_tuple` transforms a list of lists into a tuple of tuples."
   ]
  },
  {
   "cell_type": "code",
   "execution_count": 6,
   "metadata": {},
   "outputs": [],
   "source": [
    "def to_tuple(State): \n",
    "    return tuple(tuple(row) for row in State)"
   ]
  },
  {
   "cell_type": "markdown",
   "metadata": {},
   "source": [
    "The function `toString(State)` represents the given state as a string.\n",
    "This function is useful for debugging. "
   ]
  },
  {
   "cell_type": "code",
   "execution_count": 7,
   "metadata": {},
   "outputs": [],
   "source": [
    "def toString(State):\n",
    "    result = '+-+-+-+\\n'\n",
    "    for Row in State:\n",
    "        result += '|'\n",
    "        for cell in Row:\n",
    "            result += cell + '|'\n",
    "        result += '\\n+-+-+-+\\n'\n",
    "    return result"
   ]
  },
  {
   "cell_type": "code",
   "execution_count": 8,
   "metadata": {},
   "outputs": [
    {
     "name": "stdout",
     "output_type": "stream",
     "text": [
      "+-+-+-+\n",
      "| | | |\n",
      "+-+-+-+\n",
      "| | | |\n",
      "+-+-+-+\n",
      "| | | |\n",
      "+-+-+-+\n",
      "\n"
     ]
    }
   ],
   "source": [
    "print(toString(gStart))"
   ]
  },
  {
   "cell_type": "markdown",
   "metadata": {},
   "source": [
    "Given a `State` and the `player` whose turn it is, the function `next_states(State, player)` computes the list of all states that can be reached from `State`."
   ]
  },
  {
   "cell_type": "code",
   "execution_count": 9,
   "metadata": {},
   "outputs": [],
   "source": [
    "def next_states(State, player):\n",
    "    Result = []\n",
    "    for row in range(3):\n",
    "        for col in range(3):\n",
    "            if State[row][col] == ' ':\n",
    "                NextState           = to_list(State)\n",
    "                NextState[row][col] = player\n",
    "                NextState           = to_tuple(NextState)\n",
    "                Result.append(NextState)\n",
    "    return Result"
   ]
  },
  {
   "cell_type": "markdown",
   "metadata": {},
   "source": [
    "What are the possible moves in the start state?"
   ]
  },
  {
   "cell_type": "code",
   "execution_count": 10,
   "metadata": {
    "scrolled": false
   },
   "outputs": [
    {
     "name": "stdout",
     "output_type": "stream",
     "text": [
      "+-+-+-+\n",
      "|X| | |\n",
      "+-+-+-+\n",
      "| | | |\n",
      "+-+-+-+\n",
      "| | | |\n",
      "+-+-+-+\n",
      "\n",
      "+-+-+-+\n",
      "| |X| |\n",
      "+-+-+-+\n",
      "| | | |\n",
      "+-+-+-+\n",
      "| | | |\n",
      "+-+-+-+\n",
      "\n",
      "+-+-+-+\n",
      "| | |X|\n",
      "+-+-+-+\n",
      "| | | |\n",
      "+-+-+-+\n",
      "| | | |\n",
      "+-+-+-+\n",
      "\n",
      "+-+-+-+\n",
      "| | | |\n",
      "+-+-+-+\n",
      "|X| | |\n",
      "+-+-+-+\n",
      "| | | |\n",
      "+-+-+-+\n",
      "\n",
      "+-+-+-+\n",
      "| | | |\n",
      "+-+-+-+\n",
      "| |X| |\n",
      "+-+-+-+\n",
      "| | | |\n",
      "+-+-+-+\n",
      "\n",
      "+-+-+-+\n",
      "| | | |\n",
      "+-+-+-+\n",
      "| | |X|\n",
      "+-+-+-+\n",
      "| | | |\n",
      "+-+-+-+\n",
      "\n",
      "+-+-+-+\n",
      "| | | |\n",
      "+-+-+-+\n",
      "| | | |\n",
      "+-+-+-+\n",
      "|X| | |\n",
      "+-+-+-+\n",
      "\n",
      "+-+-+-+\n",
      "| | | |\n",
      "+-+-+-+\n",
      "| | | |\n",
      "+-+-+-+\n",
      "| |X| |\n",
      "+-+-+-+\n",
      "\n",
      "+-+-+-+\n",
      "| | | |\n",
      "+-+-+-+\n",
      "| | | |\n",
      "+-+-+-+\n",
      "| | |X|\n",
      "+-+-+-+\n",
      "\n"
     ]
    }
   ],
   "source": [
    "for S in next_states(gStart, 'X'):\n",
    "    print(toString(S))"
   ]
  },
  {
   "cell_type": "markdown",
   "metadata": {},
   "source": [
    "The variable `gAllLines` collects the coordinates of all the fields of the three *rows*, the three *columns*, and the two *diagonals*.  This variable is needed to check whether the game has already terminated.\n",
    "\n",
    "The name of the variable is prefixed with `g` to distinguish the variable as a *global variable*."
   ]
  },
  {
   "cell_type": "code",
   "execution_count": 11,
   "metadata": {},
   "outputs": [
    {
     "data": {
      "text/plain": [
       "[[(0, 0), (0, 1), (0, 2)],\n",
       " [(1, 0), (1, 1), (1, 2)],\n",
       " [(2, 0), (2, 1), (2, 2)],\n",
       " [(0, 0), (1, 0), (2, 0)],\n",
       " [(0, 1), (1, 1), (2, 1)],\n",
       " [(0, 2), (1, 2), (2, 2)],\n",
       " [(0, 0), (1, 1), (2, 2)],\n",
       " [(0, 2), (1, 1), (2, 0)]]"
      ]
     },
     "execution_count": 11,
     "metadata": {},
     "output_type": "execute_result"
    }
   ],
   "source": [
    "gAllLines = [ [ (row, col) for col in range(3) ] for row in range(3) ] \\\n",
    "          + [ [ (row, col) for row in range(3) ] for col in range(3) ] \\\n",
    "          + [ [ (0, 0), (1, 1), (2, 2) ] ]                             \\\n",
    "          + [ [ (0, 2), (1, 1), (2, 0) ] ]\n",
    "gAllLines"
   ]
  },
  {
   "cell_type": "markdown",
   "metadata": {},
   "source": [
    "The function `utility` takes one argument:\n",
    "- `State` is a tuple of tuples representing the board.\n",
    " \n",
    "The function returns `1` if the player `X` has won the game, `-1` if the game is lost for player `X`, `0` if it's a draw, and `None` if the game has not yet been decided."
   ]
  },
  {
   "cell_type": "code",
   "execution_count": 12,
   "metadata": {},
   "outputs": [],
   "source": [
    "def utility(State):\n",
    "    for Line in gAllLines:\n",
    "        Marks = { State[row][col] for row, col in Line }\n",
    "        if len(Marks) == 1 and  Marks != { ' ' }: \n",
    "            if Marks == { 'X' }:\n",
    "                return  1\n",
    "            else:\n",
    "                return -1\n",
    "    for row in range(3):\n",
    "        for col in range(3):\n",
    "            if State[row][col] == ' ':\n",
    "                return None  # the board is not filled  \n",
    "    # at this point, the board has been filled, but there is no winner, hence it's a draw\n",
    "    return 0            "
   ]
  },
  {
   "cell_type": "code",
   "execution_count": 13,
   "metadata": {},
   "outputs": [
    {
     "name": "stdout",
     "output_type": "stream",
     "text": [
      "None\n"
     ]
    }
   ],
   "source": [
    "print(utility(gStart))"
   ]
  },
  {
   "cell_type": "markdown",
   "metadata": {},
   "source": [
    "`finished(State)` is `True` if and only if the game is over and hence the function `utility(State)` returns a value different from `None`."
   ]
  },
  {
   "cell_type": "code",
   "execution_count": 14,
   "metadata": {},
   "outputs": [],
   "source": [
    "def finished(State): \n",
    "    return utility(State) != None"
   ]
  },
  {
   "cell_type": "code",
   "execution_count": 15,
   "metadata": {},
   "outputs": [
    {
     "data": {
      "text/plain": [
       "False"
      ]
     },
     "execution_count": 15,
     "metadata": {},
     "output_type": "execute_result"
    }
   ],
   "source": [
    "finished(gStart)"
   ]
  },
  {
   "cell_type": "markdown",
   "metadata": {},
   "source": [
    "The function `get_move` asks the user to input a move in the format `r,c` where `r` is the row and the `c` is the column where the next symbol is to be placed. Rows and columns are counted starting from `0`.  It is assumed that the user plays as `'O'`, i.e. the user takes the second move."
   ]
  },
  {
   "cell_type": "code",
   "execution_count": 16,
   "metadata": {},
   "outputs": [],
   "source": [
    "def get_move(State):\n",
    "    State = to_list(State)\n",
    "    while True:\n",
    "        try:\n",
    "            row, col = input('Enter move here: ').split(',')\n",
    "            row, col = int(row), int(col)\n",
    "            if State[row][col] == ' ':\n",
    "                State[row][col] = 'O'\n",
    "                return to_tuple(State)\n",
    "            print(\"Don't cheat! Please try again.\")  \n",
    "        except:\n",
    "            print('Illegal input.')  \n",
    "            print('row and col are numbers from the set {0,1,2}.')"
   ]
  },
  {
   "cell_type": "markdown",
   "metadata": {},
   "source": [
    "This function informs the player, who is assumed to be `'O'`, about the result of the game once the game is finished."
   ]
  },
  {
   "cell_type": "code",
   "execution_count": 17,
   "metadata": {},
   "outputs": [],
   "source": [
    "def final_msg(State):\n",
    "    if finished(State):\n",
    "        if utility(State) == -1:\n",
    "            print('You have won!')\n",
    "        elif utility(State) == 1:\n",
    "            print('The computer has won!')\n",
    "        else:\n",
    "            print(\"It's a draw.\")\n",
    "        return True\n",
    "    return False"
   ]
  },
  {
   "cell_type": "markdown",
   "metadata": {},
   "source": [
    "# Drawing the Board"
   ]
  },
  {
   "cell_type": "code",
   "execution_count": 18,
   "metadata": {},
   "outputs": [],
   "source": [
    "import ipycanvas as cnv"
   ]
  },
  {
   "cell_type": "code",
   "execution_count": 19,
   "metadata": {},
   "outputs": [],
   "source": [
    "g_size = 150"
   ]
  },
  {
   "cell_type": "markdown",
   "metadata": {},
   "source": [
    "This function creates the canvas for the start state.  It draws an empty board which is later used for the game."
   ]
  },
  {
   "cell_type": "code",
   "execution_count": 20,
   "metadata": {},
   "outputs": [],
   "source": [
    "def create_canvas():\n",
    "    n = 3\n",
    "    canvas = cnv.Canvas(size=(g_size * n, g_size * n + 50))\n",
    "    display(canvas)\n",
    "    return canvas"
   ]
  },
  {
   "cell_type": "markdown",
   "metadata": {},
   "source": [
    "This function takes three arguments:\n",
    "- `State` is the current state of the game.\n",
    "- `canvas` is a canvas used to draw the state.\n",
    "- `value` is the value of the game for player `X`.\n",
    "\n",
    "The function draws the given `State` onto `canvas`.  Below that, the `value` is printed."
   ]
  },
  {
   "cell_type": "code",
   "execution_count": 21,
   "metadata": {},
   "outputs": [],
   "source": [
    "def draw(State, canvas, value):\n",
    "    canvas.clear()\n",
    "    n = len(State)\n",
    "    canvas.font = '90px sans-serif'\n",
    "    canvas.text_align    = 'center'\n",
    "    canvas.text_baseline = 'middle'\n",
    "    for row in range(n):\n",
    "        for col in range(n):\n",
    "            x = col * g_size\n",
    "            y = row * g_size\n",
    "            canvas.line_width = 3.0\n",
    "            canvas.stroke_rect(x, y, g_size, g_size)\n",
    "            symbol = State[row][col]\n",
    "            if symbol != ' ':\n",
    "                x += g_size // 2\n",
    "                y += g_size // 2\n",
    "                if symbol == 'X':\n",
    "                    canvas.fill_style ='red'\n",
    "                else:\n",
    "                    canvas.fill_style ='blue'\n",
    "                canvas.fill_text(symbol, x, y)\n",
    "    canvas.font = '12px sans-serif'\n",
    "    canvas.fill_style = 'green'\n",
    "    for row in range(n):\n",
    "        for col in range(n):\n",
    "            x = col * g_size + 16\n",
    "            y = row * g_size + 141\n",
    "            canvas.fill_text(f'({row}, {col})', x, y)            \n",
    "    canvas.font = '20px sans-serif'\n",
    "    canvas.fill_style = 'black'\n",
    "    x = 1.5 * g_size\n",
    "    y = 3.2 * g_size\n",
    "    canvas.fill_text(str(value), x, y)"
   ]
  },
  {
   "cell_type": "code",
   "execution_count": 22,
   "metadata": {},
   "outputs": [
    {
     "data": {
      "application/vnd.jupyter.widget-view+json": {
       "model_id": "07d8cdc4dfa0400981306dfde70eaee7",
       "version_major": 2,
       "version_minor": 0
      },
      "text/plain": [
       "Canvas()"
      ]
     },
     "metadata": {},
     "output_type": "display_data"
    }
   ],
   "source": [
    "State = (('O', 'X', 'O'),\n",
    "         ('X', 'O', 'X'),\n",
    "         ('O', 'X', 'O')\n",
    "        )\n",
    "         \n",
    "draw(State, create_canvas(), 1)"
   ]
  },
  {
   "cell_type": "markdown",
   "metadata": {},
   "source": [
    "## Checking the Memory Footprint"
   ]
  },
  {
   "cell_type": "code",
   "execution_count": 23,
   "metadata": {},
   "outputs": [
    {
     "data": {
      "text/plain": [
       "((' ', ' ', ' '), (' ', ' ', ' '), (' ', ' ', ' '))"
      ]
     },
     "execution_count": 23,
     "metadata": {},
     "output_type": "execute_result"
    }
   ],
   "source": [
    "gStart"
   ]
  },
  {
   "cell_type": "code",
   "execution_count": 1,
   "metadata": {},
   "outputs": [],
   "source": [
    "import sys"
   ]
  },
  {
   "cell_type": "markdown",
   "metadata": {},
   "source": [
    "The memory needed to store a single state is the memory needed to store a list containing three objects  plus the memory needed to store those objects."
   ]
  },
  {
   "cell_type": "code",
   "execution_count": 3,
   "metadata": {},
   "outputs": [
    {
     "data": {
      "text/plain": [
       "706"
      ]
     },
     "execution_count": 3,
     "metadata": {},
     "output_type": "execute_result"
    }
   ],
   "source": [
    "sys.getsizeof(gStart) + sum([sys.getsizeof(row) for row in gStart]) + 9 * sys.getsizeof('_')"
   ]
  },
  {
   "cell_type": "markdown",
   "metadata": {},
   "source": [
    "To compare, a single positive integer less than $1,073,741,824$ needs 28 bytes."
   ]
  },
  {
   "cell_type": "code",
   "execution_count": 26,
   "metadata": {},
   "outputs": [
    {
     "data": {
      "text/plain": [
       "28"
      ]
     },
     "execution_count": 26,
     "metadata": {},
     "output_type": "execute_result"
    }
   ],
   "source": [
    "sys.getsizeof(1073741823)"
   ]
  },
  {
   "cell_type": "code",
   "execution_count": null,
   "metadata": {},
   "outputs": [],
   "source": []
  }
 ],
 "metadata": {
  "kernelspec": {
   "display_name": "Python 3 (ipykernel)",
   "language": "python",
   "name": "python3"
  },
  "language_info": {
   "codemirror_mode": {
    "name": "ipython",
    "version": 3
   },
   "file_extension": ".py",
   "mimetype": "text/x-python",
   "name": "python",
   "nbconvert_exporter": "python",
   "pygments_lexer": "ipython3",
   "version": "3.10.9"
  },
  "toc": {
   "base_numbering": 1,
   "nav_menu": {},
   "number_sections": true,
   "sideBar": true,
   "skip_h1_title": false,
   "title_cell": "Table of Contents",
   "title_sidebar": "Contents",
   "toc_cell": false,
   "toc_position": {},
   "toc_section_display": true,
   "toc_window_display": false
  },
  "varInspector": {
   "cols": {
    "lenName": 16,
    "lenType": 16,
    "lenVar": 40
   },
   "kernels_config": {
    "python": {
     "delete_cmd_postfix": "",
     "delete_cmd_prefix": "del ",
     "library": "var_list.py",
     "varRefreshCmd": "print(var_dic_list())"
    },
    "r": {
     "delete_cmd_postfix": ") ",
     "delete_cmd_prefix": "rm(",
     "library": "var_list.r",
     "varRefreshCmd": "cat(var_dic_list()) "
    }
   },
   "types_to_exclude": [
    "module",
    "function",
    "builtin_function_or_method",
    "instance",
    "_Feature"
   ],
   "window_display": false
  }
 },
 "nbformat": 4,
 "nbformat_minor": 2
}
