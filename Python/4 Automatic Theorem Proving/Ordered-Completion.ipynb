{
 "cells": [
  {
   "cell_type": "code",
   "execution_count": null,
   "metadata": {},
   "outputs": [],
   "source": [
    "from IPython.core.display import HTML\n",
    "with open (\"../style.css\", \"r\") as file:\n",
    "    css = file.read()\n",
    "HTML(css)"
   ]
  },
  {
   "cell_type": "markdown",
   "metadata": {},
   "source": [
    "# The Knuth-Bendix Completion Algorithm"
   ]
  },
  {
   "cell_type": "markdown",
   "metadata": {},
   "source": [
    "This notebook presents the algorithm of *ordered completion* for completing a set of equations into a *ground confluent* term rewriting system. It is based on the paper [Ordered Rewriting and Confluence](https://www21.in.tum.de/~nipkow/pubs/cade90.html) by Ursula Martin and Tobias Nipkow.  This notebook is divided into eight sections.\n",
    "- [Parsing](#Parsing)\n",
    "- [Matching](#Matching)\n",
    "- [The Lexicographic Path Ordering](#The-Lexicographic-Path-Ordering)\n",
    "- [Ordered Term Rewriting](#Ordered-Term-Rewriting)\n",
    "- [Unification](#Unification)\n",
    "- [Critical Pairs](#Critical-Pairs)\n",
    "- [The Completion Algorithm](#The-Completion-Algorithm)\n",
    "- [Examples](#Examples)"
   ]
  },
  {
   "cell_type": "markdown",
   "metadata": {},
   "source": [
    "## Parsing"
   ]
  },
  {
   "cell_type": "markdown",
   "metadata": {},
   "source": [
    "To begin, we need a parser that is capable of parsing terms and equations. This parser is implemented in `Parser.ipynb` and can parse equations of terms and supports the binary operators `+`, `-`, `*`, `/`, `\\`, `%`, and `^` (exponentiation) with the usual precedences.  Furthermore, function symbols are supported.  It also provides the function `to_str` for turning terms or equations into strings.  All together, it provides the following functions:\n",
    "- `parse_file(file_name)` parses the specified file containing equations between terms and returns a list of equations.\n",
    "- `parse_equation(s)` converts the string `s` into an equation.\n",
    "- `parse_term(s)` converts the string `s` into a term.\n",
    "- `to_str(o)` converts an object `o` into a string.  The object `o` can either be\n",
    "  * a term,\n",
    "  * an equation,\n",
    "  * a list of equations,\n",
    "  * a set of equations, or\n",
    "  * a dictionary representing a *substitution*.\n",
    "\n",
    "Terms and equations are represented as nested tuples.  The parser is implemented using the parser generator [Ply](https://www.dabeaz.com/ply/ply.html)."
   ]
  },
  {
   "cell_type": "code",
   "execution_count": null,
   "metadata": {},
   "outputs": [],
   "source": [
    "%run Parser.ipynb"
   ]
  },
  {
   "cell_type": "code",
   "execution_count": null,
   "metadata": {},
   "outputs": [],
   "source": [
    "def test():\n",
    "    t = parse_term('x * y * z')\n",
    "    print(t)\n",
    "    print(to_str(t))\n",
    "    eq = parse_equation('i(x) * x = 1')\n",
    "    print(eq)\n",
    "    print(to_str(parse_file('Examples/group-theory-1.eqn')))\n",
    "    \n",
    "test()"
   ]
  },
  {
   "cell_type": "markdown",
   "metadata": {},
   "source": [
    "[Back to top](#The-Knuth-Bendix-Completion-Algorithm)"
   ]
  },
  {
   "cell_type": "markdown",
   "metadata": {},
   "source": [
    "## Matching"
   ]
  },
  {
   "cell_type": "markdown",
   "metadata": {},
   "source": [
    "The function `is_var(t)` checks whether the term `t`is a variable. Variables are represented as nested tuples of the form `($var, name)`, where `name`is the name of the variable."
   ]
  },
  {
   "cell_type": "code",
   "execution_count": null,
   "metadata": {},
   "outputs": [],
   "source": [
    "def is_var(t):\n",
    "    return t[0] == '$var'"
   ]
  },
  {
   "cell_type": "markdown",
   "metadata": {},
   "source": [
    "Given a variable name `x`, the function `make_var(x)` creates a variable with name `x`."
   ]
  },
  {
   "cell_type": "code",
   "execution_count": null,
   "metadata": {},
   "outputs": [],
   "source": [
    "def make_var(x):\n",
    "    return ('$var', x)"
   ]
  },
  {
   "cell_type": "markdown",
   "metadata": {},
   "source": [
    "Given a term `p`, a term `t`,  and a substitution `σ`, the function `match(p, t, σ)` tries to extend the\n",
    "substitution `σ` so that the equation\n",
    "$$ p \\sigma = t $$\n",
    "is satisfied.  If this is possible, the function returns `True` and updates the substitution `σ` so that\n",
    "$p \\sigma = t$ holds.  Otherwise, the function returns `False`.  \n",
    "\n",
    "Substitutions are represented as dictionaries mapping variable names to terms."
   ]
  },
  {
   "cell_type": "code",
   "execution_count": null,
   "metadata": {},
   "outputs": [],
   "source": [
    "def match(pattern, term, σ={}):\n",
    "    if is_var(pattern):\n",
    "        _, var = pattern            # extract variable name\n",
    "        if var in σ:\n",
    "            return σ[var] == term\n",
    "        else:\n",
    "            σ[var] = term           # extend σ\n",
    "            return True\n",
    "    if pattern[0] == term[0] and len(pattern) == len(term):\n",
    "        return all(match(pattern[i], term[i], σ) for i in range(1, len(pattern)))"
   ]
  },
  {
   "cell_type": "code",
   "execution_count": null,
   "metadata": {},
   "outputs": [],
   "source": [
    "def test():\n",
    "    p = parse_term('i(x) * z')\n",
    "    t = parse_term('i(i(y)) * i(y)')\n",
    "    σ = {}\n",
    "    match(p, t, σ)\n",
    "    print(f'σ = {to_str(σ)}')\n",
    "    σ = {}\n",
    "    p = parse_term('i(x) * i(x)')\n",
    "    print(f'match({to_str(p)}, {to_str(t)}, {to_str(σ)}) = {match(p, t, σ)}')\n",
    "          \n",
    "test()"
   ]
  },
  {
   "cell_type": "markdown",
   "metadata": {},
   "source": [
    "Given a term `t` (or a set of terms), the function `find_variables(t)` computes the set of all variable names occurring in `t`."
   ]
  },
  {
   "cell_type": "code",
   "execution_count": null,
   "metadata": {},
   "outputs": [],
   "source": [
    "def find_variables(t):\n",
    "    if isinstance(t, set):\n",
    "        return { var for term in t\n",
    "                     for var  in find_variables(term)\n",
    "               }\n",
    "    if is_var(t):\n",
    "        _, var = t\n",
    "        return { var }\n",
    "    _, *L = t\n",
    "    return { x for s in L\n",
    "               for x in find_variables(s)\n",
    "           }"
   ]
  },
  {
   "cell_type": "code",
   "execution_count": null,
   "metadata": {},
   "outputs": [],
   "source": [
    "def test():\n",
    "    eq = parse_equation('(x * y) * z = x * (y * z)')\n",
    "    print(find_variables(eq))\n",
    "    \n",
    "test()"
   ]
  },
  {
   "cell_type": "markdown",
   "metadata": {},
   "source": [
    "Given a term `t` and a substitution `σ` that is represented as a dictionary of the form\n",
    "$$ \\sigma = \\{ x_1: s_1, \\cdots, x_n:s_n \\}, $$\n",
    "the function `apply(t, σ)` computes the term that results from replacing the variables $x_i$ with the terms $s_i$ in `t` for all $i=1,\\cdots,n$.  This term is written as $t\\sigma$ and if $\\sigma = \\{ x_1: s_1, \\cdots, x_n:s_n \\}$, then $t\\sigma$ is defined by induction on `t` as follows:\n",
    "- $x_i\\sigma := s_i$,\n",
    "- $v\\sigma := v$ if $v$ is a variable and $v \\not\\in \\{x_1,\\cdots,x_n\\}$,\n",
    "- $f(t_1,\\cdots,t_n)\\sigma := f(t_1\\sigma, \\cdots, t_n\\sigma)$."
   ]
  },
  {
   "cell_type": "code",
   "execution_count": null,
   "metadata": {},
   "outputs": [],
   "source": [
    "def apply(t, σ):\n",
    "    \"Apply the substitution σ to the term t.\"\n",
    "    if is_var(t):\n",
    "        _, var = t\n",
    "        if var in σ:\n",
    "            return σ[var]\n",
    "        else:\n",
    "            return t\n",
    "    else: \n",
    "        f, *Ts = t\n",
    "        return (f,) + tuple(apply(s, σ) for s in Ts)"
   ]
  },
  {
   "cell_type": "code",
   "execution_count": null,
   "metadata": {},
   "outputs": [],
   "source": [
    "def test():\n",
    "    p = parse_term('i(x) * x')\n",
    "    t = parse_term('i(i(y)) * i(y)')\n",
    "    σ = {}\n",
    "    match(p, t, σ)\n",
    "    print(to_str(apply(p, σ)))\n",
    "    \n",
    "test()"
   ]
  },
  {
   "cell_type": "markdown",
   "metadata": {},
   "source": [
    "Given a set of terms or equations `Ts` and a substitution `σ`, the function `apply_set(T, σ)` applies the substitution `σ` to all elements in `Ts`."
   ]
  },
  {
   "cell_type": "code",
   "execution_count": null,
   "metadata": {},
   "outputs": [],
   "source": [
    "def apply_set(Ts, σ):\n",
    "    return { apply(t, σ) for t in Ts }"
   ]
  },
  {
   "cell_type": "markdown",
   "metadata": {},
   "source": [
    "If  $\\sigma = \\big[ x_1 \\mapsto s_1, \\cdots, x_m \\mapsto s_m \\big]$ and\n",
    "$\\tau = \\big[ y_1 \\mapsto t_1, \\cdots, y_n \\mapsto t_n \\big]$ \n",
    "are two substitutions that are *non-overlapping*, i.e. such that $\\{x_1,\\cdots, x_m\\} \\cap \\{y_1,\\cdots,y_n\\} = \\{\\}$ holds,\n",
    "then we define the *composition* $\\sigma\\tau$ of $\\sigma$ and $\\tau$ as follows:\n",
    "$$\\sigma\\tau := \\big[ x_1 \\mapsto s_1\\tau, \\cdots, x_m \\mapsto s_m\\tau,\\; y_1 \\mapsto t_1, \\cdots, y_n \\mapsto t_n \\big]$$\n",
    "This definition implies that the following *associative law* is valid:\n",
    "$$ x(\\sigma\\tau) = (x\\sigma)\\tau $$\n",
    "The function $\\texttt{compose}(\\sigma, \\tau)$ takes two non-overlapping substitutions and computes their composition."
   ]
  },
  {
   "cell_type": "code",
   "execution_count": null,
   "metadata": {},
   "outputs": [],
   "source": [
    "def compose(σ, τ):\n",
    "    Result = { x: apply(s, τ) for (x, s) in σ.items() }\n",
    "    Result.update(τ)\n",
    "    return Result"
   ]
  },
  {
   "cell_type": "code",
   "execution_count": null,
   "metadata": {},
   "outputs": [],
   "source": [
    "def test():\n",
    "    t1 = parse_term('i(y)')\n",
    "    t2 = parse_term('a * b')\n",
    "    t3 = parse_term('i(b)')\n",
    "    σ = { 'x': t1 }\n",
    "    τ = { 'y': t2, 'z': t3  }\n",
    "    print(f'compose({to_str(σ)}, {to_str(τ)}) = {to_str(compose(σ, τ))}')\n",
    "    \n",
    "test()  "
   ]
  },
  {
   "cell_type": "markdown",
   "metadata": {},
   "source": [
    "[Back to top](#The-Knuth-Bendix-Completion-Algorithm)"
   ]
  },
  {
   "cell_type": "markdown",
   "metadata": {},
   "source": [
    "## The Lexicographic Path Ordering\n",
    "\n",
    "In order to use an equation $s = t$ as a rewrite rules, we have to check whether $s$ is more complex that $t$, so that $s$ should be simplified to $t$, or whether $t$ is more complex than $s$ and we should rewrite $t$ into $s$.  To this end, we define the *lexicographic path ordering*, which is an ordering on the set $\\mathcal{T}(\\Sigma,\\mathcal{V})$ of $\\Sigma$-terms with variables from the set $\\mathcal{V}$.  In order to define the lexicographic path ordering, we assume that a total order $\\leq$ on the set $\\Sigma$ of function symbols is given.  The notation $f < g$ is used as an abbreviation for the formula $f \\leq g \\wedge f \\not= g$.  \n",
    "\n",
    "Let $s,t\\in\\mathcal{T}(\\Sigma,\\mathcal{V})$.  Then we define $v \\prec t$ by induction on the structure of $s$ and $t$ as follows:\n",
    "1. $v \\prec t$ if $v$ is a variable occurring in $t$ and $t \\not= v$.\n",
    "2. $f(s_1,\\cdots,s_m) \\prec g(t_1,\\cdots,t_n)$ if the following holds:\n",
    "   * $f < g$ and \n",
    "   * $s_i \\prec g(t_1,\\cdots,t_n)$ for all $i=1,\\cdots, m$.\n",
    "3. $f(s_1,\\cdots,s_m) \\prec f(t_1,\\cdots,t_m)$ if \n",
    "   * there exists an $i \\in \\{1,\\cdots,n\\}$ such that $f(s_1,\\cdots,s_m) \\preceq t_i$ or\n",
    "   * both of the following conditions are true:\n",
    "     - $s_i \\prec f(t_1,\\cdots,t_m)$ for all $i=1,\\cdots, m$ and\n",
    "     - $[s_1, \\cdots, s_m] \\prec_{\\textrm{lex}} [t_1, \\cdots, t_m]$.\n",
    "   \n",
    "   Here, $\\prec_{\\textrm{lex}}$ denotes the *lexicographic extension* of the ordering $\\prec$ to\n",
    "   lists of terms.  It is defined as follows:\n",
    "   $$ [x] + R_1 \\prec_{\\textrm{lex}} [y] + R_2 \\;\\stackrel{_\\textrm{def}}{\\Longleftrightarrow}\\;\n",
    "      x \\prec y \\,\\vee\\, \\bigl(x = y \\wedge R_1 \\prec_{\\textrm{lex}} R_2\\bigr)\n",
    "   $$\n",
    "4. $f(s_1,\\cdots,s_m) \\prec g(t_1,\\cdots,t_n)$ if\n",
    "   * $f > g$ and \n",
    "   * there exists an $i \\in \\{1,\\cdots,n\\}$ such that $f(s_1,\\cdots,s_m) \\preceq t_i$.\n",
    "\n",
    "We define $s \\preceq t \\;\\stackrel{_\\textrm{def}}{\\Longleftrightarrow}\\; s \\prec t \\vee s = t$."
   ]
  },
  {
   "cell_type": "markdown",
   "metadata": {},
   "source": [
    "Given a variable name `x` and a term `t`, the function `occurs(x, t)` checks whether `x` occurs in `t`."
   ]
  },
  {
   "cell_type": "code",
   "execution_count": null,
   "metadata": {},
   "outputs": [],
   "source": [
    "def occurs(x, t):\n",
    "    if is_var(t):\n",
    "        _, var = t\n",
    "        return x == var\n",
    "    return any(occurs(x, arg) for arg in t[1:])"
   ]
  },
  {
   "cell_type": "markdown",
   "metadata": {},
   "source": [
    "The total order $\\leq$ on the set of function symbols is defined via the dictionary `Level`given below.  We have\n",
    "$$ f < g \\;\\stackrel{_\\textrm{def}}{\\Longleftrightarrow}\\; \\texttt{Level}[f] < \\texttt{Level}[g]. $$"
   ]
  },
  {
   "cell_type": "code",
   "execution_count": null,
   "metadata": {},
   "outputs": [],
   "source": [
    "Level = { '0': 0, '1': 1, '+': 2, '*': 3, 'i': 4 }"
   ]
  },
  {
   "cell_type": "markdown",
   "metadata": {},
   "source": [
    "The function `is_simpler(s, t, Ordering)` receives three arguments.\n",
    "- `s` and `t` are terms.\n",
    "- `Ordering` is a dictionary mapping variable names to <u>different</u> natural numbers.\n",
    "  Those variable names in the domain of `Ordering` are interpreted as constant symbols.\n",
    "  On these constant symbols a total order is defined via the dictionary `Ordering`: \n",
    "  $$ x < y \\;\\stackrel{_\\textrm{def}}{\\Longleftrightarrow}\\; \\texttt{Ordering}[x] < \\texttt{Ordering}[y]. $$"
   ]
  },
  {
   "cell_type": "code",
   "execution_count": null,
   "metadata": {},
   "outputs": [],
   "source": [
    "def is_simpler(s, t, Ordering=None):\n",
    "    if is_var(s):\n",
    "        _, x = s\n",
    "        if s != t and occurs(x, t):            \n",
    "            return True\n",
    "        elif Ordering != None:  # x is taken as a constant\n",
    "            if is_var(t):       \n",
    "                _, y = t\n",
    "                if x not in Ordering:\n",
    "                    return False\n",
    "                if y not in Ordering:\n",
    "                    return True\n",
    "                else:\n",
    "                    return Ordering[x] < Ordering[y]\n",
    "            else:\n",
    "                return True    # variables are smaller than function symbols\n",
    "        else:                              \n",
    "            return False\n",
    "    if is_var(t):\n",
    "        return False\n",
    "    f, *sArgs = s\n",
    "    g, *tArgs = t\n",
    "    if Level[f] < Level[g]:\n",
    "        return all(is_simpler(arg, t, Ordering) for arg in sArgs)\n",
    "    if f == g:\n",
    "        assert len(sArgs) == len(tArgs)\n",
    "        return any(s == arg or is_simpler(s, arg, Ordering) for arg in tArgs) or \\\n",
    "               all(is_simpler(arg, t, Ordering) for arg in sArgs) and \\\n",
    "               is_simpler_list(sArgs, tArgs, Ordering)\n",
    "    if Level[f] > Level[g]:\n",
    "        return any(s == arg or is_simpler(s, arg, Ordering) for arg in tArgs)"
   ]
  },
  {
   "cell_type": "markdown",
   "metadata": {},
   "source": [
    "Given two lists `S` and `T` of terms and a dictionary `D`, the function `is_simpler_list(S, T, D)` checks whether `S` is lexicographically simpler than `T` if the elements of `S` and `T` are compared with the *lexicographical path ordering* $\\prec$.  It is assumed that `S` and `T` have the same length."
   ]
  },
  {
   "cell_type": "code",
   "execution_count": null,
   "metadata": {},
   "outputs": [],
   "source": [
    "def is_simpler_list(S, T, Ordering=None):\n",
    "    if S == [] == T:\n",
    "        return False\n",
    "    if is_simpler(S[0], T[0], Ordering):\n",
    "        return True\n",
    "    if S[0] == T[0]:\n",
    "        return is_simpler_list(S[1:], T[1:], Ordering)\n",
    "    return False"
   ]
  },
  {
   "cell_type": "code",
   "execution_count": null,
   "metadata": {},
   "outputs": [],
   "source": [
    "def test():\n",
    "    s = parse_term('a * (b + c)')\n",
    "    t = parse_term('a * b + a * c')\n",
    "    O = { 'a': 0, 'b': 1, 'c': 2 }\n",
    "    print(is_simpler(s, t, O))\n",
    "    print(is_simpler(t, s, O))\n",
    "    \n",
    "test()"
   ]
  },
  {
   "cell_type": "code",
   "execution_count": null,
   "metadata": {},
   "outputs": [],
   "source": [
    "def test():\n",
    "    Ordering = { 'x': 3, 'y': 2, 'z': 1 }\n",
    "    _, l, r = parse_equation('(x * y) * z = x * (y * z)')\n",
    "    print(is_simpler(r, l))\n",
    "    print(is_simpler(r, l, Ordering))\n",
    "    Ordering = { 'x': 1, 'y': 2, 'z': 3 }\n",
    "    print(is_simpler(r, l, Ordering))\n",
    "        \n",
    "test()"
   ]
  },
  {
   "cell_type": "markdown",
   "metadata": {},
   "source": [
    "[Back to top](#The-Knuth-Bendix-Completion-Algorithm)"
   ]
  },
  {
   "cell_type": "markdown",
   "metadata": {},
   "source": [
    "## Ordered Term Rewriting"
   ]
  },
  {
   "cell_type": "code",
   "execution_count": null,
   "metadata": {},
   "outputs": [],
   "source": [
    "from string import ascii_lowercase\n",
    "ascii_lowercase"
   ]
  },
  {
   "cell_type": "markdown",
   "metadata": {},
   "source": [
    "Given a term `s` and a set of variables `V`, the function `rename_variables(s, V)` renames the variables in `s` so that they differ from the variables in the set `V`.  This will only work if the number of variables occurring in `V` times two is less than the number of letters in the latin alphabet, i.e. less than 26.  Therefore, the set `V` must have at most 13 variables.  For our examples, this is not a restriction."
   ]
  },
  {
   "cell_type": "code",
   "execution_count": null,
   "metadata": {},
   "outputs": [],
   "source": [
    "def rename_variables(s, Vars):\n",
    "    assert len(Vars) <= 13, f'Error: too many variables in {Vars}.'\n",
    "    NewVars = set(ascii_lowercase) - Vars\n",
    "    NewVars = sorted(list(NewVars))\n",
    "    σ       = { x: make_var(NewVars[i]) for (i, x) in enumerate(Vars) }\n",
    "    return apply(s, σ)"
   ]
  },
  {
   "cell_type": "code",
   "execution_count": null,
   "metadata": {},
   "outputs": [],
   "source": [
    "def test():\n",
    "    Vars = { 'x', 'y', 'z' }\n",
    "    t = parse_term('x * y * z')\n",
    "    print(f'rename_variables({to_str(t)}, {Vars}) = {to_str(rename_variables(t, Vars))}')\n",
    "    \n",
    "test()"
   ]
  },
  {
   "cell_type": "markdown",
   "metadata": {},
   "source": [
    "The function `simplify_step(t, E, O)` takes three arguments:\n",
    "- `t` is a term,\n",
    "- `E` is a set of equations of the form `('=', l, r)`,\n",
    "- `O` is an ordering of the variables occurring in `t`.\n",
    "\n",
    "It is assumed that the term `t` does not share variables with the set `E`.\n",
    "\n",
    "The function tries to find an equation `l = r` in `E` and a subterm `s` in the term `t` such that the left hand side `l` of the equation matches the subterm `s` using some substitution $\\sigma$, i.e. we have $s = l\\sigma$.  Then the term `t` is simplified by replacing the subterm `s` in `t` by $r\\sigma$ provided that $r\\sigma \\prec l\\sigma$.  More formally, if `u` is the position of `s` in `t`, i.e. `t/u = s` then `t` is simplified into the term \n",
    "$$ t[u \\mapsto r\\sigma]. $$\n",
    "If an appropriate subterm `s` is found, the simplified term $t[u \\mapsto r\\sigma]$ is returned.  Otherwise, the function returns `None`."
   ]
  },
  {
   "cell_type": "code",
   "execution_count": null,
   "metadata": {},
   "outputs": [],
   "source": [
    "def simplify_step(t, Equations, Ordering=None):\n",
    "    if is_var(t):\n",
    "        return None\n",
    "    for eq in Equations:\n",
    "        _, lhs, rhs = eq\n",
    "        σ = {}\n",
    "        if match(lhs, t, σ):\n",
    "            lhsσ = apply(lhs, σ)\n",
    "            rhsσ = apply(rhs, σ)\n",
    "            if is_simpler(rhsσ, lhsσ, Ordering):\n",
    "                return rhsσ\n",
    "    f, *Args   = t\n",
    "    simpleArgs = []\n",
    "    change     = False\n",
    "    for arg in Args:\n",
    "        simple = simplify_step(arg, Equations, Ordering)\n",
    "        if simple != None:\n",
    "            change = True\n",
    "            simpleArgs += [simple]\n",
    "        else:\n",
    "            simpleArgs += [arg]\n",
    "    if change:\n",
    "        return (f,) + tuple(simpleArgs)\n",
    "    return None"
   ]
  },
  {
   "cell_type": "code",
   "execution_count": null,
   "metadata": {},
   "outputs": [],
   "source": [
    "def test():\n",
    "    E = { parse_equation('(x * y) * z = x * (y * z)') }\n",
    "    O = { 'a': 1, 'b': 2, 'c': 3 }\n",
    "    t = parse_term('(a * c) * b')\n",
    "    print(to_str(simplify_step(t, E)))\n",
    "    print(to_str(simplify_step(t, E, O)))\n",
    "    \n",
    "test()"
   ]
  },
  {
   "cell_type": "markdown",
   "metadata": {},
   "source": [
    "The function `normal_form(t, E, O)` takes a term `t`, a list (or set) of equations `E`, and a variable `Ordering` for the variables occurring in `t` and tries to simplify the term `t` as much as possible using the equations from `E`.  \n",
    "\n",
    "In the implementation, we have to be careful to rename the variables occurring in `E` so that they are different from the variables occurring in `t`.  Furthermore, we have to take care that we don't identify different variables in `E` by accident.  Therefore, we rename the variables in `E` so that they are both different from the variables in `t` and from the old variables occurring in `E`."
   ]
  },
  {
   "cell_type": "code",
   "execution_count": null,
   "metadata": {},
   "outputs": [],
   "source": [
    "def normal_form(t, E, Ordering=None):\n",
    "    Vars_t = find_variables(t)\n",
    "    NewE = []\n",
    "    for eq in E:\n",
    "        Vars_eq = find_variables(eq)\n",
    "        NewE += [ rename_variables(eq, Vars_t | Vars_eq) ]   \n",
    "    while True:\n",
    "        s = simplify_step(t, NewE, Ordering)\n",
    "        if s == None:\n",
    "            return t\n",
    "        t = s"
   ]
  },
  {
   "cell_type": "code",
   "execution_count": null,
   "metadata": {},
   "outputs": [],
   "source": [
    "def test():\n",
    "    Ordering = { 'a': 1, 'b': 2, 'c': 3 }\n",
    "    s   = parse_term('(c * a) * b')\n",
    "    eq1 = parse_equation('x * y = y * x')\n",
    "    eq2 = parse_equation('(x * y) * z = x * (y * z)')\n",
    "    eq3 = parse_equation('x * (y * z) = y * (x * z)')\n",
    "    print(to_str(normal_form(s, { eq1, eq2, eq3 }, Ordering)))\n",
    "\n",
    "    test()"
   ]
  },
  {
   "cell_type": "code",
   "execution_count": null,
   "metadata": {},
   "outputs": [],
   "source": [
    "def test():\n",
    "    O = { 'x': 1, 'y': 2, 'z': 3 }\n",
    "    E = parse_file('Examples/group-theory-1.eqn')\n",
    "    t = parse_term('(x * i(y)) * y * z')\n",
    "    print(to_str(normal_form(t, E)))\n",
    "    \n",
    "test()"
   ]
  },
  {
   "cell_type": "markdown",
   "metadata": {},
   "source": [
    "Given an equation `eq`, a set of `RewriteRules`, and an `Ordering` of the variables occurring in `eq`, the function `simplify_equation` simplifies the equation `eq` using the given rewrite rules. "
   ]
  },
  {
   "cell_type": "code",
   "execution_count": null,
   "metadata": {},
   "outputs": [],
   "source": [
    "def simplify_equation(eq, RewriteRules, Ordering=None):   \n",
    "    _, s, t = eq\n",
    "    new_s = normal_form(s, RewriteRules, Ordering)\n",
    "    new_t = normal_form(t, RewriteRules, Ordering)\n",
    "    return ('=', new_s, new_t)"
   ]
  },
  {
   "cell_type": "markdown",
   "metadata": {},
   "source": [
    "[Back to top](#The-Knuth-Bendix-Completion-Algorithm)"
   ]
  },
  {
   "cell_type": "markdown",
   "metadata": {},
   "source": [
    "## Unification\n",
    "\n",
    "In this section, we implement the [unification](https://en.wikipedia.org/wiki/Unification_(computer_science)) algorithm of *Martelli and Montanari*."
   ]
  },
  {
   "cell_type": "markdown",
   "metadata": {},
   "source": [
    "The algorithm implemented below takes a pair `(E, σ)` as its input.  Here `E` is a set of *syntactical equations* that are to be solved and `σ` is a substitution that is initially empty.  The pair `(E, σ)` is then transformed using the rules of Martelli and Montanari.  The transformation is successful if the pair `(E, σ)` can be transformed into a pair of the form `({}, μ)`.  Then `μ` is the *solution* to the system of equations `E`. \n",
    "The rules that can be used to solve a system of *syntactical equations* are as follows:\n",
    "- If $y\\in\\mathcal{V}$ is a variable that does **not** occur in the term $t$,\n",
    "     then we perform the following reduction: \n",
    "     $$ \\Big\\langle E \\cup \\big\\{ y \\doteq t \\big\\}, \\sigma \\Big\\rangle \\quad\\leadsto \\quad \n",
    "         \\Big\\langle E[y \\mapsto t], \\sigma\\big[ y \\mapsto t \\big] \\Big\\rangle \n",
    "     $$\n",
    "      \n",
    "- If the variable $y$ occurs in the term $t$, then the system of syntactical equations\n",
    "     $E \\cup \\big\\{ y \\doteq t \\big\\}$ is not solvable:\n",
    "     $$ \\Big\\langle E \\cup \\big\\{ y \\doteq t \\big\\}, \\sigma \\Big\\rangle\\;\\leadsto\\; \\texttt{None} \\quad\n",
    "        \\mbox{if $y \\in \\textrm{Var}(t)$ and $y \\not=t$.}$$\n",
    "\n",
    "- If $y\\in\\mathcal{V}$ is a variable and $t$ is no variable, then we use the following rule:\n",
    "     $$ \\Big\\langle E \\cup \\big\\{ t \\doteq y \\big\\}, \\sigma \\Big\\rangle \\quad\\leadsto \\quad \n",
    "         \\Big\\langle E \\cup \\big\\{ y \\doteq t \\big\\}, \\sigma \\Big\\rangle.\n",
    "     $$   \n",
    "\n",
    "- Trivial syntactical equations of variables can be dropped:\n",
    "     $$ \\Big\\langle E \\cup \\big\\{ x \\doteq x \\big\\}, \\sigma \\Big\\rangle \\quad\\leadsto \\quad\n",
    "         \\Big\\langle E, \\sigma \\Big\\rangle.\n",
    "     $$   \n",
    "\n",
    "- If $f$ is an $n$-ary function symbol, then we have: \n",
    "     $$ \\Big\\langle E \\cup \\big\\{ f(s_1,\\cdots,s_n) \\doteq f(t_1,\\cdots,t_n) \\big\\}, \\sigma \\Big\\rangle \n",
    "         \\;\\leadsto\\; \n",
    "         \\Big\\langle E \\cup \\big\\{ s_1 \\doteq t_1, \\cdots, s_n \\doteq t_n\\}, \\sigma \\Big\\rangle.\n",
    "     $$   \n",
    "\n",
    "- The system of syntactical equations $E \\cup \\big\\{ f(s_1,\\cdots,s_m) \\doteq g(t_1,\\cdots,t_n) \\big\\}$\n",
    "     has **no** solution if the function symbols $f$ and $g$ are different:\n",
    "     $$ \\Big\\langle E \\cup \\big\\{ f(s_1,\\cdots,s_m) \\doteq g(t_1,\\cdots,t_n) \\big\\},\n",
    "      \\sigma \\Big\\rangle \\;\\leadsto\\; \\texttt{None} \\qquad \\mbox{if $f \\not= g$}.\n",
    "     $$\n",
    "</ol>\n"
   ]
  },
  {
   "cell_type": "markdown",
   "metadata": {},
   "source": [
    "Given two terms $s$ and $t$, the function $\\texttt{unify}(s, t)$ computes the <em style=\"color:blue;\">most general unifier</em> of $s$ and $t$."
   ]
  },
  {
   "cell_type": "code",
   "execution_count": null,
   "metadata": {},
   "outputs": [],
   "source": [
    "def unify(s, t):\n",
    "    return solve({ ('≐', s, t) }, {})"
   ]
  },
  {
   "cell_type": "markdown",
   "metadata": {},
   "source": [
    "Given a set of <em style=\"color:blue;\">syntactical equations</em> $E$ and a substitution $\\sigma$, the function $\\texttt{solve}(E, \\sigma)$ applies the rules of Martelli and Montanari to solve $E$."
   ]
  },
  {
   "cell_type": "code",
   "execution_count": null,
   "metadata": {},
   "outputs": [],
   "source": [
    "def solve(E, σ):\n",
    "    while E != set():\n",
    "        _, s, t = E.pop()\n",
    "        if s == t: # remove trivial equations\n",
    "            continue\n",
    "        if is_var(s):\n",
    "            _, x = s\n",
    "            if occurs(x, t):\n",
    "                return None\n",
    "            else: # set x to t\n",
    "                E = apply_set(E, { x: t })\n",
    "                σ = compose(σ, { x: t })\n",
    "        elif is_var(t):\n",
    "            E.add(('≐', t, s))\n",
    "        else:\n",
    "            f    , g     = s[0]      , t[0]\n",
    "            sArgs, tArgs = s[1:]     , t[1:]\n",
    "            m    , n     = len(sArgs), len(tArgs)\n",
    "            if f != g or m != n:\n",
    "                return None\n",
    "            else:\n",
    "                E |= { ('≐', sArgs[i], tArgs[i]) for i in range(m) }\n",
    "    return σ"
   ]
  },
  {
   "cell_type": "code",
   "execution_count": null,
   "metadata": {},
   "outputs": [],
   "source": [
    "def test():\n",
    "    s = parse_term('x * i(x) * (y * z)')\n",
    "    t = parse_term('a * i(1) * b')\n",
    "    print(f'unify({to_str(s)}, {to_str(t)}) = {to_str(unify(s, t))}')\n",
    "    \n",
    "test()"
   ]
  },
  {
   "cell_type": "markdown",
   "metadata": {},
   "source": [
    "[Back to top](#The-Knuth-Bendix-Completion-Algorithm)"
   ]
  },
  {
   "cell_type": "markdown",
   "metadata": {},
   "source": [
    "## Critical Pairs\n",
    "\n",
    "The central idea is the notion of a *critical pair*.  \n",
    "\n",
    "Given two equations `lhs1 = rhs1` and `lhs2 = rhs2`, a pair of terms `(s, t)` is a *critical pair* of these equations if we have the following:\n",
    "- `u` is a non-trivial position in `lhs1`, i.e. $u \\in \\mathcal{P}os(\\texttt{lhs1})$ and `lhs1/u` is not a variable,\n",
    "- The subterm `lhs1/u` is unifiable with `lhs2`, i.e.\n",
    "  $$\\mu = \\texttt{mgu}(\\texttt{lhs}_1 / a, \\texttt{lhs}_2) \\not= \\texttt{None},$$\n",
    "- $s = \\texttt{lhs}_1[u \\leftarrow \\texttt{rhs}_2]\\mu$ and $t = \\texttt{rhs}_1\\mu$. \n",
    "\n",
    "The function `critical_pairs` implemented in this section computes the set of all critical pairs between two equations. "
   ]
  },
  {
   "cell_type": "markdown",
   "metadata": {},
   "source": [
    "Given a term `t`, the function `non_triv_positions` computes the set $\\mathcal{P}os(t)$ of all *positions* in `t` that do not point to variables.  Such positions are called *non-trivial positions*.  Given a term `t`, the set $\\mathcal{P}os(t)$ of all positions in $t$ is defined by induction on `t`. \n",
    "1. $\\mathcal{P}os(v) := \\bigl\\{()\\bigr\\} \\quad \\mbox{if $v$ is a variable} $\n",
    "2. $\\mathcal{P}os\\bigl(f(t_0,\\cdots,t_{n-1})\\bigr) := \n",
    "     \\bigl\\{()\\bigr\\} \\cup \n",
    "     \\bigl\\{ (i,) + u \\mid i \\in\\{0,\\cdots,n-1\\} \\wedge u \\in \\mathcal{P}os(t_i) \\bigr\\}\n",
    "   $\n",
    "   \n",
    "Note that since we are programming in Python, positions are zero-based.  Given a position $u$ in a term $t$, we define $t/u$ as the *subterm of $t$ at position $u$* by induction on $t$:\n",
    "1. $t/() := t$,\n",
    "2. $f(t_0,\\cdots,t_{n-1})/u := t_i/u\\texttt{[1:]}$.\n",
    "\n",
    "Given a term $s$, a term $t$, and a position $u \\in \\mathcal{P}os(t)$, we also define the *replacement of the subterm at position $u$ by $t$*, written $s[u \\mapsto t]$ by induction on $u$:\n",
    "1. $s\\bigl[() \\mapsto t\\bigr] := t$.\n",
    "2. $f(s_0,\\cdots,s_{n-1})\\bigl[\\bigl((i,) + u\\bigr) \\mapsto t\\bigr] := f\\bigl(s_0,\\cdots,s_i[u \\mapsto t],\\cdots,s_{n-1}\\bigr)$."
   ]
  },
  {
   "cell_type": "code",
   "execution_count": null,
   "metadata": {},
   "outputs": [],
   "source": [
    "def non_triv_positions(t):\n",
    "    if is_var(t):\n",
    "        return set()   # compute only non-trivial positions \n",
    "    _, *args = t\n",
    "    Result = { () }\n",
    "    for i, arg in enumerate(args):\n",
    "        Result |= { (i,) + a for a in non_triv_positions(arg) }\n",
    "    return Result"
   ]
  },
  {
   "cell_type": "code",
   "execution_count": null,
   "metadata": {},
   "outputs": [],
   "source": [
    "def test():\n",
    "    t = parse_term('x * i(x) * (a * 1)')\n",
    "    print(f'non_triv_positions({to_str(t)}) = {non_triv_positions(t)}')\n",
    "    \n",
    "test()"
   ]
  },
  {
   "cell_type": "markdown",
   "metadata": {},
   "source": [
    "Given a term `t` and a position `u` in `t`, the function `subterm(t, u)` extracts the subterm that is located at position `u`, i.e. it computes `t/u`. The position `u` is zero-based."
   ]
  },
  {
   "cell_type": "code",
   "execution_count": null,
   "metadata": {},
   "outputs": [],
   "source": [
    "def subterm(t, u):\n",
    "    if len(u) == 0:\n",
    "        return t\n",
    "    _, *args = t\n",
    "    i, *ru   = u\n",
    "    return subterm(args[i], ru)"
   ]
  },
  {
   "cell_type": "code",
   "execution_count": null,
   "metadata": {},
   "outputs": [],
   "source": [
    "def test():\n",
    "    t = parse_term('x * i(x) * 1')\n",
    "    print(f'subterm({to_str(t)}, (0,1)) = {to_str(subterm(t, (0,1)))}')\n",
    "    \n",
    "test()"
   ]
  },
  {
   "cell_type": "markdown",
   "metadata": {},
   "source": [
    "Given a term `t`, a position `u` in `t` and a term `s`, the function `replace_at(t, u, s)` replaces the subterm at position `u` with `t`, i.e. it returns the term $s[u \\mapsto t]$ at the beginning of this section."
   ]
  },
  {
   "cell_type": "code",
   "execution_count": null,
   "metadata": {},
   "outputs": [],
   "source": [
    "def replace_at(t, u, s):\n",
    "    if len(u) == 0:  # note that u is either a list or a tuple\n",
    "        return s\n",
    "    i, *Ur   = u\n",
    "    f, *Args = t\n",
    "    NewArgs  = []\n",
    "    for j, arg in enumerate(Args):\n",
    "        if j == i:\n",
    "            NewArgs.append(replace_at(arg, Ur, s))\n",
    "        else:\n",
    "            NewArgs.append(arg)\n",
    "    return (f,) + tuple(NewArgs)"
   ]
  },
  {
   "cell_type": "code",
   "execution_count": null,
   "metadata": {},
   "outputs": [],
   "source": [
    "def test():\n",
    "    t = parse_term('x * i(x) * 1')\n",
    "    s = parse_term('a * b') \n",
    "    print(f'replace_at({to_str(t)}, (0,1), {to_str(s)}) = {to_str(replace_at(t, (0,1), s))}')\n",
    "    \n",
    "test()"
   ]
  },
  {
   "cell_type": "markdown",
   "metadata": {},
   "source": [
    "Given two equations `eq1` and `eq2`, the function `critical_pairs(eq1, eq2)` computes the set of all *critical pairs* between these equations.  A pair of terms `(s, t)` is a *critical pair* of `eq1` and `eq2` iff\n",
    "- `eq1` has the form `lhs1 = rhs1`,\n",
    "- `eq2` has the form `lhs2 = rhs2`,\n",
    "- `u` is a non-trivial position in `lhs1`,\n",
    "- $\\mu = \\texttt{mgu}(\\texttt{lhs}_1/u, \\texttt{lhs}_2) \\not= \\texttt{None}$,\n",
    "- $s = \\texttt{lhs}_1[u \\leftarrow \\texttt{rhs}_2]\\mu$ and $t = \\texttt{rhs}_1\\mu$. "
   ]
  },
  {
   "cell_type": "code",
   "execution_count": null,
   "metadata": {},
   "outputs": [],
   "source": [
    "def critical_pairs(eq1, eq2):\n",
    "    Vars = find_variables(eq1) | find_variables(eq2)  # prevent accidental name clashes \n",
    "    eq2  = rename_variables(eq2, Vars) \n",
    "    _, lhs1, rhs1 = eq1\n",
    "    _, lhs2, rhs2 = eq2\n",
    "    Result = set()\n",
    "    Positions = non_triv_positions(lhs1)\n",
    "    for u in Positions:\n",
    "        s = subterm(lhs1, u)\n",
    "        𝜇 = unify(s, lhs2)\n",
    "        if 𝜇 != None:\n",
    "            s = replace_at(lhs1, u, rhs2)\n",
    "            s = apply(s, 𝜇)\n",
    "            t = apply(rhs1, 𝜇)\n",
    "            if s != t:\n",
    "                Result.add( (s, t) )\n",
    "    return Result"
   ]
  },
  {
   "cell_type": "code",
   "execution_count": null,
   "metadata": {},
   "outputs": [],
   "source": [
    "def test():\n",
    "    eq1 = parse_equation('i(x) * x = 1')\n",
    "    eq2 = parse_equation('(x * y) * z = x * (y * z)')\n",
    "    for s, t in critical_pairs(eq2, eq1):\n",
    "        print(f'{to_str(s)} = {to_str(t)}')\n",
    "        \n",
    "test()"
   ]
  },
  {
   "cell_type": "markdown",
   "metadata": {},
   "source": [
    "[Back to top](#The-Knuth-Bendix-Completion-Algorithm)"
   ]
  },
  {
   "cell_type": "markdown",
   "metadata": {},
   "source": [
    "## The Completion Algorithm"
   ]
  },
  {
   "cell_type": "markdown",
   "metadata": {},
   "source": [
    "The function `print_equations` prints the set of `Equations` one by one and numbers them."
   ]
  },
  {
   "cell_type": "code",
   "execution_count": null,
   "metadata": {},
   "outputs": [],
   "source": [
    "def print_equations(Equations):\n",
    "    cnt = 1\n",
    "    for _, l, r in Equations:\n",
    "        print(f'{cnt}. {to_str(l)} = {to_str(r)}')\n",
    "        cnt += 1"
   ]
  },
  {
   "cell_type": "code",
   "execution_count": null,
   "metadata": {},
   "outputs": [],
   "source": [
    "def test():\n",
    "    Equations = parse_file('Examples/group-theory-1.eqn')\n",
    "    print_equations(Equations)\n",
    "    \n",
    "test()"
   ]
  },
  {
   "cell_type": "markdown",
   "metadata": {},
   "source": [
    "Given an equation `eq` of the form `eq = ('=', lhs, rhs)`, the function `complexity(eq)` computes a measure of complexity for the given equation.   This measure of complexity is the length of the string that represents the equation.  This measure of complexity is later used as the priority in the priority queue that stores equations. Less complex equations are more interesting and should be considered first when computing critical pairs."
   ]
  },
  {
   "cell_type": "code",
   "execution_count": null,
   "metadata": {},
   "outputs": [],
   "source": [
    "def complexity(eq):\n",
    "    return len(to_str(eq))"
   ]
  },
  {
   "cell_type": "code",
   "execution_count": null,
   "metadata": {},
   "outputs": [],
   "source": [
    "def test():\n",
    "    eq = parse_equation('x * i(x) = 1')\n",
    "    print(complexity(eq))\n",
    "    \n",
    "test()"
   ]
  },
  {
   "cell_type": "markdown",
   "metadata": {},
   "source": [
    "Given a set of equations `RewriteRules` and a single rewrite rule `eq`, the function `all_critical_pairs(RewriteRules, eq)` computes the set of all *critical pairs* that can be build from an equation in `RewriteRules` and the equation `eq`.  It is assumed that `eq` is already an element of `RewriteRules`.  "
   ]
  },
  {
   "cell_type": "code",
   "execution_count": null,
   "metadata": {},
   "outputs": [],
   "source": [
    "def all_critical_pairs(RewriteRules, eq):\n",
    "    Result = set()\n",
    "    for eq1 in RewriteRules:\n",
    "        Result |= { (('=', l, r), eq1, eq) for l, r in critical_pairs(eq1, eq) }\n",
    "        Result |= { (('=', l, r), eq, eq1) for l, r in critical_pairs(eq, eq1) }\n",
    "    return Result"
   ]
  },
  {
   "cell_type": "code",
   "execution_count": null,
   "metadata": {},
   "outputs": [],
   "source": [
    "def test():\n",
    "    E  = parse_file('Examples/group-theory-1.eqn')\n",
    "    eq = parse_equation('(x * y) * z = x * (y * z)')   \n",
    "    for cp, eq1, eq2 in all_critical_pairs(E, eq):\n",
    "        print(f'{to_str(cp)} from {to_str(eq1)} and {to_str(eq2)}')\n",
    "        \n",
    "test()"
   ]
  },
  {
   "cell_type": "markdown",
   "metadata": {},
   "source": [
    "The module `heapq` provides heap-based priority queues, which are implemented as lists."
   ]
  },
  {
   "cell_type": "code",
   "execution_count": null,
   "metadata": {},
   "outputs": [],
   "source": [
    "import heapq as hq"
   ]
  },
  {
   "cell_type": "markdown",
   "metadata": {},
   "source": [
    "Given an equation `eq` of the form `('=', s, t)` and a priority queue of equations `EquationQueue`, the function `enqueue_equation(EquationQueue, eq)` inserts the equations `('=', s, t)` and `('=', t, s)` into the priority queue, provided any of the respective equation can be used for ordered rewriting."
   ]
  },
  {
   "cell_type": "code",
   "execution_count": null,
   "metadata": {},
   "outputs": [],
   "source": [
    "def enqueue_equation(EquationQueue, eq):\n",
    "    _, s, t = eq\n",
    "    if s == t:\n",
    "        return\n",
    "    priority = complexity( ('=', s, t) )\n",
    "    if not is_simpler(s, t):\n",
    "        hq.heappush(EquationQueue, (priority, ('=', s, t)) )\n",
    "    if not is_simpler(t, s):\n",
    "        hq.heappush(EquationQueue, (priority, ('=', t, s)) )"
   ]
  },
  {
   "cell_type": "code",
   "execution_count": null,
   "metadata": {},
   "outputs": [],
   "source": [
    "def test():\n",
    "    Queue = []\n",
    "    eq1   = parse_equation('x * (y * z) = (x * y) * z')\n",
    "    eq2   = parse_equation('x * y = y * x')\n",
    "    enqueue_equation(Queue, eq1)\n",
    "    enqueue_equation(Queue, eq2)\n",
    "    while Queue != []:\n",
    "        _, rule = hq.heappop(Queue)\n",
    "        print(to_str(rule))\n",
    "        \n",
    "test()"
   ]
  },
  {
   "cell_type": "markdown",
   "metadata": {},
   "source": [
    "Given a set `M` of elements, the function `all_permutations` computes the set of all permutations of `M`."
   ]
  },
  {
   "cell_type": "code",
   "execution_count": null,
   "metadata": {},
   "outputs": [],
   "source": [
    "def all_permutations(M):\n",
    "    n = len(M)\n",
    "    if n == 0:\n",
    "        return { () }\n",
    "    x = M.pop() \n",
    "    return { P[:i] + (x,) + P[i:] for P in all_permutations(M)\n",
    "                                  for i in range(n)\n",
    "           }"
   ]
  },
  {
   "cell_type": "code",
   "execution_count": null,
   "metadata": {},
   "outputs": [],
   "source": [
    "all_permutations({1,2,3})"
   ]
  },
  {
   "cell_type": "markdown",
   "metadata": {},
   "source": [
    "Given a set `V` of variables, the function `all_orderings` computes a list of all possible *orderings* of these variables.  These orderings are represented as dictionaries.  If an ordering is encoded as the dictionary `O` and $x$ and $y$ are variables, then we have \n",
    "$$ x < y \\;\\stackrel{_\\textrm{def}}{\\Longleftrightarrow}\\; O[x] < O[y]. $$"
   ]
  },
  {
   "cell_type": "code",
   "execution_count": null,
   "metadata": {},
   "outputs": [],
   "source": [
    "def all_orderings(V):\n",
    "    return [ { x: i for i, x in enumerate(P) } for P in all_permutations(V) ]"
   ]
  },
  {
   "cell_type": "code",
   "execution_count": null,
   "metadata": {},
   "outputs": [],
   "source": [
    "all_orderings({'x', 'y', 'z'})"
   ]
  },
  {
   "cell_type": "code",
   "execution_count": null,
   "metadata": {},
   "outputs": [],
   "source": [
    "def is_instance(eq, RewriteRules):\n",
    "    Variables_eq = find_variables(eq)\n",
    "    for rule in RewriteRules:\n",
    "        Variables_rule = find_variables(rule)\n",
    "        rule = rename_variables(rule, Variables_eq | Variables_rule)\n",
    "        if match(rule, eq, {}):\n",
    "            return True\n",
    "    return False"
   ]
  },
  {
   "cell_type": "markdown",
   "metadata": {},
   "source": [
    "Given an equation `eq` and a set of `RewriteRules`, the function `is_trivial(eq, RewriteRules)` checks whether the equation `eq` can be rewritten into a trivial equation of the form `s = s` for all possible orderings of the variables occurring in `eq`."
   ]
  },
  {
   "cell_type": "code",
   "execution_count": null,
   "metadata": {},
   "outputs": [],
   "source": [
    "def is_trivial(eq, RewriteRules):\n",
    "    if is_instance(eq, RewriteRules):\n",
    "        return True\n",
    "    Variables = find_variables(eq)\n",
    "    for Ordering in all_orderings(Variables):\n",
    "        simple = simplify_equation(eq, RewriteRules, Ordering)\n",
    "        if simple[1] != simple[2]:\n",
    "            return False\n",
    "    return True"
   ]
  },
  {
   "cell_type": "code",
   "execution_count": null,
   "metadata": {},
   "outputs": [],
   "source": [
    "def test():\n",
    "    eq  = parse_equation('(a + b) + z = z + (a + b)')\n",
    "    eq1 = parse_equation('x + y = y + x')\n",
    "    eq2 = parse_equation('(x + y) + z = x + (y + z)')\n",
    "    eq3 = parse_equation('x + (y + z) = y + (x + z)')\n",
    "    return is_trivial(eq, { eq1, eq2, eq3 })\n",
    "\n",
    "test()"
   ]
  },
  {
   "cell_type": "markdown",
   "metadata": {},
   "source": [
    "Given a priority queue of equations `EquationQueue`, a set of `RewriteRules`, and a set of `CriticalPairs`, the function `enqueue_critical_pairs(EquationQueue, RewriteRules, CriticalPairs)` inserts the critical pairs that can not be reduced to trivial equations for all orderings into the queue `EquationQueue`."
   ]
  },
  {
   "cell_type": "code",
   "execution_count": null,
   "metadata": {},
   "outputs": [],
   "source": [
    "def enqueue_critical_pairs(EquationQueue, RewriteRules, CriticalPairs):\n",
    "    for cp, eq1, eq2 in CriticalPairs:\n",
    "        cp = simplify_equation(cp, RewriteRules)\n",
    "        if cp[1] != cp[2] and not is_trivial(cp, RewriteRules):\n",
    "            # print(f'cp:      {to_str(cp)} from {to_str(eq1)}, {to_str(eq2)}')\n",
    "            enqueue_equation(EquationQueue, cp)"
   ]
  },
  {
   "cell_type": "markdown",
   "metadata": {},
   "source": [
    "Given a priority queue `EquationQueue`, a set of `RewriteRules`, and a new rewrite `rule`, the function `simplify_rules(EquationQueue, RewriteRules, rule)` tries to simplify all rules in `RewriteRules` with `rule`.  If an equation `eq` from `RewriteRules` can be simplified with `rule`, it is further simplified with all rules in `RewriteRules`.  After that, it is put back into the `EquationQueue`.  The set of those rewrite rules that have not been simplified is returned."
   ]
  },
  {
   "cell_type": "code",
   "execution_count": null,
   "metadata": {},
   "outputs": [],
   "source": [
    "def simplify_rules(EquationQueue, RewriteRules, rule):\n",
    "    SimpleEqs = set()\n",
    "    for eq in RewriteRules:\n",
    "        _, s, t = eq\n",
    "        new_s = normal_form(s, { rule })\n",
    "        if new_s != s:\n",
    "            new_s = normal_form(new_s, RewriteRules | { rule })\n",
    "        new_t = normal_form(t, { rule })\n",
    "        if new_t != t:\n",
    "            new_t = normal_form(new_t, RewriteRules | { rule })\n",
    "        new_eq = ('=', new_s, new_t)\n",
    "        if new_eq == eq:\n",
    "            SimpleEqs.add(eq)\n",
    "        elif new_s != new_t:\n",
    "            print(f'old:     {to_str(eq)}')\n",
    "            print(f'new:     {to_str(new_eq)}')      \n",
    "            enqueue_equation(EquationQueue, new_eq)\n",
    "        else:\n",
    "            print(f'removed: {to_str(eq)}')    \n",
    "    return SimpleEqs    "
   ]
  },
  {
   "cell_type": "markdown",
   "metadata": {},
   "source": [
    "Given a set of `RewriteRules`, the function `remove_trivial_rules(RewriteRules)` returns the set of those rules that are not redundant. "
   ]
  },
  {
   "cell_type": "code",
   "execution_count": null,
   "metadata": {},
   "outputs": [],
   "source": [
    "def remove_trivial_rules(RewriteRules):\n",
    "    Rules = set()\n",
    "    for rule in RewriteRules:\n",
    "        if not is_trivial(rule, RewriteRules - { rule }):\n",
    "            Rules.add(rule)\n",
    "    return Rules"
   ]
  },
  {
   "cell_type": "markdown",
   "metadata": {},
   "source": [
    "Given a file name that contains a set of equations and a dictionary encoding an ordering of the function symbols, the function `completion_algorithm` tries to complete the set of equations:\n",
    "1. The given equations are ordered.\n",
    "2. The ordered equations are pushed into the priority queue `EquationQueue` according to their complexity.\n",
    "3. The set `RewriteRules` is initialized as the empty set.\n",
    "4. As long as the priority queue is not empty, the least complex equation `lr` is removed from the \n",
    "   priority queue and simplified using the known `RewriteRules`.  \n",
    "5. If the simplified version of `lr` is non-trivial, all critical pairs between it and the \n",
    "   `RewriteRules` are computed.  These critical pairs are pushed onto the priority queue.\n",
    "6. When no new critical pairs can be found, the set of `RewriteRules` is returned.\n",
    "   This set is then guaranteed to be a *ground confluent* set of rewrite rules."
   ]
  },
  {
   "cell_type": "code",
   "execution_count": null,
   "metadata": {},
   "outputs": [],
   "source": [
    "def completion_algorithm(file):\n",
    "    Axioms        = parse_file(file)\n",
    "    EquationQueue = []\n",
    "    for eq in Axioms:\n",
    "        print(f'given:   {to_str(eq)}')\n",
    "        enqueue_equation(EquationQueue, eq)\n",
    "    RewriteRules = set()\n",
    "    while EquationQueue != []:\n",
    "        _, eq     = hq.heappop(EquationQueue)\n",
    "        eq_simple = simplify_equation(eq, RewriteRules)\n",
    "        if eq != eq_simple:\n",
    "            enqueue_equation(EquationQueue, eq_simple)\n",
    "            continue\n",
    "        if eq[1] != eq[2] and not is_trivial(eq, RewriteRules):\n",
    "            print(f'added:   {to_str(eq)}')\n",
    "            CriticalPairs = all_critical_pairs(RewriteRules | { eq }, eq)\n",
    "            enqueue_critical_pairs(EquationQueue, RewriteRules, CriticalPairs)\n",
    "            RewriteRules = simplify_rules(EquationQueue, RewriteRules, eq)\n",
    "            RewriteRules.add(eq)\n",
    "    RewriteRules = remove_trivial_rules(RewriteRules)\n",
    "    print()\n",
    "    print_equations(RewriteRules)\n",
    "    return RewriteRules"
   ]
  },
  {
   "cell_type": "markdown",
   "metadata": {},
   "source": [
    "## Examples "
   ]
  },
  {
   "cell_type": "markdown",
   "metadata": {},
   "source": [
    "### Groups\n",
    "\n",
    "A structure $\\mathcal{G} = \\langle G, 1, *, i \\rangle$ is a [group](https://en.wikipedia.org/wiki/Group_(mathematics)) iff\n",
    "1. $G$ is a set.\n",
    "2. $1 \\in G$.\n",
    "3. $*: G \\times G \\rightarrow G$,\n",
    "\n",
    "   where $*$ is called the *multiplication* of $\\mathcal{G}$.\n",
    "4. $i: G \\rightarrow G$\n",
    "5. The following equations hold for all $x,y,z \\in G$:\n",
    "   * $1 * x = x$, i.e. $1$ is a *left-neutral element*.\n",
    "   * $i(x) * x = 1$, i.e. $i(x)$ is a *left-inverse* of $x$.\n",
    "   * $(x * y) * z = x * (y * z)$, i.e. the multiplication is *associative*.\n",
    "\n",
    "A typical example of a group is the set of invertible $n \\times n$ matrices.\n",
    "\n",
    "Given the axioms defining a group, the *Knuth-Bendix completion* algorithm is able to prove the following:\n",
    "1. The *left neutral element* is also a *right neutral element*, we have:\n",
    "   $$ x * 1 = x $$\n",
    "2. The *left inverse* is also a *right inverse*, we have:\n",
    "   $$ x * i(x) = 1 $$\n",
    "3. The operations $i$ and $*$ commute as follows:\n",
    "   $$ i(x * y) = i(y) * i(x) $$"
   ]
  },
  {
   "cell_type": "code",
   "execution_count": null,
   "metadata": {},
   "outputs": [],
   "source": [
    "!cat Examples/group-theory-1.eqn"
   ]
  },
  {
   "cell_type": "code",
   "execution_count": null,
   "metadata": {
    "scrolled": false
   },
   "outputs": [],
   "source": [
    "%%time\n",
    "RewriteRules = completion_algorithm('Examples/group-theory-1.eqn')"
   ]
  },
  {
   "cell_type": "markdown",
   "metadata": {},
   "source": [
    "### Groups of Exponent Two\n",
    "\n",
    "A structure $\\mathcal{G} = \\langle G, 1, *, i \\rangle$ is a *group of exponent two* iff $\\mathcal{G}$ is a group and, furthermore, the equation $x * x = 1$ holds for all $x$.  Note that in groups of exponent two the commutativity law $x * y = y * x$ is valid."
   ]
  },
  {
   "cell_type": "code",
   "execution_count": null,
   "metadata": {},
   "outputs": [],
   "source": [
    "!cat Examples/groups-of-exponent-two.eqn"
   ]
  },
  {
   "cell_type": "code",
   "execution_count": null,
   "metadata": {
    "scrolled": false
   },
   "outputs": [],
   "source": [
    "%%time\n",
    "RewriteRules = completion_algorithm('Examples/groups-of-exponent-two.eqn')"
   ]
  },
  {
   "cell_type": "markdown",
   "metadata": {},
   "source": [
    "### Boolean Rings"
   ]
  },
  {
   "cell_type": "code",
   "execution_count": null,
   "metadata": {},
   "outputs": [],
   "source": [
    "!cat -n Examples/boolean-rings.eqn"
   ]
  },
  {
   "cell_type": "code",
   "execution_count": null,
   "metadata": {
    "scrolled": false
   },
   "outputs": [],
   "source": [
    "%%time\n",
    "RewriteRules = completion_algorithm('Examples/boolean-rings.eqn')"
   ]
  },
  {
   "cell_type": "markdown",
   "metadata": {},
   "source": [
    "### Commutative Groups\n",
    "\n",
    "For *commutative groups*, i.e. for groups that satisfy the *commutativity law* $x * y = y * x$ there is no finite set of rewrite rules that is confluent.  The problem is that the algorithm generates equations of the form\n",
    "$$ y * (x_1 * (x_2 * \\cdots * (i(y) * x_n)\\cdots) = x_1 * (x_2 * \\cdots * x_n)\\cdots) $$\n",
    "for all $n \\in \\mathbb{N}$ and these equations can not be reduced to a common normal form."
   ]
  },
  {
   "cell_type": "code",
   "execution_count": null,
   "metadata": {
    "scrolled": false
   },
   "outputs": [],
   "source": [
    "%%time\n",
    "RewriteRules = completion_algorithm('Examples/commutative-groups.eqn')"
   ]
  },
  {
   "cell_type": "code",
   "execution_count": null,
   "metadata": {},
   "outputs": [],
   "source": []
  }
 ],
 "metadata": {
  "kernelspec": {
   "display_name": "Python 3",
   "language": "python",
   "name": "python3"
  },
  "language_info": {
   "codemirror_mode": {
    "name": "ipython",
    "version": 3
   },
   "file_extension": ".py",
   "mimetype": "text/x-python",
   "name": "python",
   "nbconvert_exporter": "python",
   "pygments_lexer": "ipython3",
   "version": "3.7.9"
  },
  "varInspector": {
   "cols": {
    "lenName": 16,
    "lenType": 16,
    "lenVar": 40
   },
   "kernels_config": {
    "python": {
     "delete_cmd_postfix": "",
     "delete_cmd_prefix": "del ",
     "library": "var_list.py",
     "varRefreshCmd": "print(var_dic_list())"
    },
    "r": {
     "delete_cmd_postfix": ") ",
     "delete_cmd_prefix": "rm(",
     "library": "var_list.r",
     "varRefreshCmd": "cat(var_dic_list()) "
    }
   },
   "types_to_exclude": [
    "module",
    "function",
    "builtin_function_or_method",
    "instance",
    "_Feature"
   ],
   "window_display": false
  }
 },
 "nbformat": 4,
 "nbformat_minor": 4
}
