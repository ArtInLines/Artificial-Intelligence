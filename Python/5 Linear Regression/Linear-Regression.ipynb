{
 "cells": [
  {
   "cell_type": "code",
   "execution_count": null,
   "metadata": {},
   "outputs": [],
   "source": [
    "from IPython.core.display import HTML\n",
    "with open (\"../style.css\", \"r\") as file:\n",
    "    css = file.read()\n",
    "HTML(css)"
   ]
  },
  {
   "cell_type": "markdown",
   "metadata": {},
   "source": [
    "# General Linear Regression"
   ]
  },
  {
   "cell_type": "markdown",
   "metadata": {},
   "source": [
    "In this case study we investigate how much of the <em style=\"color:blue\">fuel consumption</em> of a car can be explained by the \n",
    "\n",
    "- number of cylinders,\n",
    "- engine displacement,\n",
    "- power,\n",
    "- weight,\n",
    "- acceleration, and\n",
    "- the year the car has been introduced into the market.\n",
    "\n",
    "This data is given in the `CSV` file `cars.csv`.  In this file, the engine displacement is given in *cubic inches* and the weight is given in *pounds*.  The fuel consumption is specified as *miles per galon* and the acceleration is given as the number of seconds until the car reaches 60 miles per hour."
   ]
  },
  {
   "cell_type": "markdown",
   "metadata": {},
   "source": [
    "The module `csv` offers a number of functions for reading and writing <tt>csv</tt> files."
   ]
  },
  {
   "cell_type": "code",
   "execution_count": null,
   "metadata": {},
   "outputs": [],
   "source": [
    "import csv"
   ]
  },
  {
   "cell_type": "markdown",
   "metadata": {},
   "source": [
    "Below we read the file `cars.csv` and store the fuel consumption in the list `mpg`, while the number of cylinders, the engine displacement,\n",
    "the power, the weight, the acceleration, and the building year are stored as the list of lists `Features`. Note also that we have added the constant feature $1$ to every list in `Features`."
   ]
  },
  {
   "cell_type": "code",
   "execution_count": null,
   "metadata": {},
   "outputs": [],
   "source": [
    "with open('cars.csv') as input_file:\n",
    "    reader     = csv.reader(input_file, delimiter=',')\n",
    "    line_count = 0\n",
    "    mpg        = []\n",
    "    Features   = []\n",
    "    for row in reader:\n",
    "        print(row)\n",
    "        if line_count != 0:  \n",
    "            mpg     .append(float(row[0]))  \n",
    "            Features.append([float(x) for x in row[1:6+1]] + [1.0]) \n",
    "        line_count += 1"
   ]
  },
  {
   "cell_type": "markdown",
   "metadata": {},
   "source": [
    "The number of data pairs of the form $\\langle \\textbf{x}, y \\rangle$ that we have read is stored in the variable `m`."
   ]
  },
  {
   "cell_type": "code",
   "execution_count": null,
   "metadata": {},
   "outputs": [],
   "source": [
    "m = len(mpg)\n",
    "m"
   ]
  },
  {
   "cell_type": "markdown",
   "metadata": {},
   "source": [
    "For efficiency reasons we transform the variable `Features`, which is a the list of list, into a `NumPy` matrix."
   ]
  },
  {
   "cell_type": "code",
   "execution_count": null,
   "metadata": {},
   "outputs": [],
   "source": [
    "import numpy as np"
   ]
  },
  {
   "cell_type": "code",
   "execution_count": null,
   "metadata": {
    "scrolled": true
   },
   "outputs": [],
   "source": [
    "Features"
   ]
  },
  {
   "cell_type": "code",
   "execution_count": null,
   "metadata": {},
   "outputs": [],
   "source": [
    "X = np.array(Features)\n",
    "X"
   ]
  },
  {
   "cell_type": "markdown",
   "metadata": {},
   "source": [
    "Note that every row in this matrix corresponds to the data of one car."
   ]
  },
  {
   "cell_type": "markdown",
   "metadata": {},
   "source": [
    "Since <em style=\"color:blue\">miles per gallon</em> is the inverse of the <em style=\"color:blue\">fuel consumption</em>, the vector `Y` is defined as the reciprocal of the variable `mpg`."
   ]
  },
  {
   "cell_type": "code",
   "execution_count": null,
   "metadata": {},
   "outputs": [],
   "source": [
    "y = np.array([1 / mpg[i] for i in range(m)])"
   ]
  },
  {
   "cell_type": "markdown",
   "metadata": {},
   "source": [
    "The weight vector `w` is specified via the <em style=\"color:blue\">normal equation</em>:\n",
    "$$ (X^\\top \\cdot X) \\cdot \\textbf{w} = X^\\top \\cdot \\textbf{y} $$ \n",
    "This linear equation can be solved for `w` using the method `np.linalg.solve`.  Note how the <em style=\"color:blue\">transpose</em> of the matrix `X` can be computed by writing `X.T`."
   ]
  },
  {
   "cell_type": "code",
   "execution_count": null,
   "metadata": {},
   "outputs": [],
   "source": [
    "%%time\n",
    "w = np.linalg.solve(X.T @ X, X.T @ y)\n",
    "print(w)"
   ]
  },
  {
   "cell_type": "markdown",
   "metadata": {},
   "source": [
    "The <em style=\"color:blue\">residual sum of squares</em> is given by the following sum:\n",
    "$$ \\texttt{RSS} = \\sum\\limits_{i=1}^m \\Bigl(\\bigl(\\textbf{x}^{(i)}\\bigr)^\\top \\cdot \\textbf{w} - y_i\\Bigr)^2 $$\n",
    "Here $\\textbf{x}^{(i)}$ is the $i$-th row of the matrix $X$, while $y_i$ is the $i$-th component of the vector $\\textbf{y}$.\n",
    "The expression $\\bigl(\\textbf{x}^{(i)}\\bigr)^\\top \\cdot \\textbf{w}$ is the predicted value of the linear model, while $y_i$ is the actual value.\n",
    "As the feature Matrix $X$ is defined as\n",
    "$$ X = \\left( \\begin{array}{c}\n",
    "              \\bigl(\\textbf{x}^{(1)}\\bigr)^\\top \\\\\n",
    "              \\vdots \\\\\n",
    "              \\bigl(\\textbf{x}^{(m)}\\bigr)^\\top\n",
    "              \\end{array}\n",
    "       \\right)\n",
    "$$\n",
    "we can compute `RSS` as follows:"
   ]
  },
  {
   "cell_type": "code",
   "execution_count": null,
   "metadata": {},
   "outputs": [],
   "source": [
    "RSS = np.sum((X @ w - y) ** 2)"
   ]
  },
  {
   "cell_type": "markdown",
   "metadata": {},
   "source": [
    "We compute the <em style=\"color:blue\">average fuel consumption</em> $\\bar{\\mathbf{y}}$ according to the formula:\n",
    "$$ \\bar{\\mathbf{y}} = \\frac{1}{m} \\cdot \\sum\\limits_{i=1}^m y_i $$ "
   ]
  },
  {
   "cell_type": "code",
   "execution_count": null,
   "metadata": {},
   "outputs": [],
   "source": [
    "yMean = np.mean(y)\n",
    "yMean"
   ]
  },
  {
   "cell_type": "markdown",
   "metadata": {},
   "source": [
    "We  compute the <em style=\"color:blue\">total sum of squares</em> `TSS`according to the following formula:\n",
    "$$ \\mathtt{TSS} := \\sum\\limits_{i=1}^m \\bigl(y_i - \\bar{\\mathbf{y}}\\bigr)^2 $$"
   ]
  },
  {
   "cell_type": "code",
   "execution_count": null,
   "metadata": {},
   "outputs": [],
   "source": [
    "TSS = np.sum((y - yMean) ** 2)\n",
    "TSS"
   ]
  },
  {
   "cell_type": "markdown",
   "metadata": {},
   "source": [
    "Now the <em style=\"color:blue\">proportion of explained variance</em> $R^2$ is calculated via the formula:\n",
    "$$ R^2 = 1 - \\frac{\\mathtt{RSS}}{\\mathtt{TSS}}$$"
   ]
  },
  {
   "cell_type": "code",
   "execution_count": null,
   "metadata": {},
   "outputs": [],
   "source": [
    "R2 = 1 - RSS/TSS\n",
    "R2"
   ]
  },
  {
   "cell_type": "markdown",
   "metadata": {},
   "source": [
    "We can explain about $88\\%$ of the fuel consumption by the data given in our `CSV` file.  Given that our data does not contain any parameters describing the air resistance this result seems reasonable. "
   ]
  },
  {
   "cell_type": "code",
   "execution_count": null,
   "metadata": {},
   "outputs": [],
   "source": []
  }
 ],
 "metadata": {
  "kernelspec": {
   "display_name": "Python 3",
   "language": "python",
   "name": "python3"
  },
  "language_info": {
   "codemirror_mode": {
    "name": "ipython",
    "version": 3
   },
   "file_extension": ".py",
   "mimetype": "text/x-python",
   "name": "python",
   "nbconvert_exporter": "python",
   "pygments_lexer": "ipython3",
   "version": "3.9.2"
  },
  "latex_envs": {
   "LaTeX_envs_menu_present": true,
   "autoclose": false,
   "autocomplete": true,
   "bibliofile": "biblio.bib",
   "cite_by": "apalike",
   "current_citInitial": 1,
   "eqLabelWithNumbers": true,
   "eqNumInitial": 1,
   "hotkeys": {
    "equation": "Ctrl-E",
    "itemize": "Ctrl-I"
   },
   "labels_anchors": false,
   "latex_user_defs": false,
   "report_style_numbering": false,
   "user_envs_cfg": false
  },
  "toc": {
   "base_numbering": 1,
   "nav_menu": {},
   "number_sections": true,
   "sideBar": true,
   "skip_h1_title": false,
   "title_cell": "Table of Contents",
   "title_sidebar": "Contents",
   "toc_cell": false,
   "toc_position": {},
   "toc_section_display": true,
   "toc_window_display": false
  },
  "varInspector": {
   "cols": {
    "lenName": 16,
    "lenType": 16,
    "lenVar": 40
   },
   "kernels_config": {
    "python": {
     "delete_cmd_postfix": "",
     "delete_cmd_prefix": "del ",
     "library": "var_list.py",
     "varRefreshCmd": "print(var_dic_list())"
    },
    "r": {
     "delete_cmd_postfix": ") ",
     "delete_cmd_prefix": "rm(",
     "library": "var_list.r",
     "varRefreshCmd": "cat(var_dic_list()) "
    }
   },
   "types_to_exclude": [
    "module",
    "function",
    "builtin_function_or_method",
    "instance",
    "_Feature"
   ],
   "window_display": false
  }
 },
 "nbformat": 4,
 "nbformat_minor": 2
}
