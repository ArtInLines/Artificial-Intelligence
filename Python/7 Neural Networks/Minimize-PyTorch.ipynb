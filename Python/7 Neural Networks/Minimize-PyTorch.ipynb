{
 "cells": [
  {
   "cell_type": "code",
   "execution_count": 1,
   "id": "3ab56590",
   "metadata": {},
   "outputs": [
    {
     "data": {
      "text/html": [
       "<link href='http://fonts.googleapis.com/css?family=Alegreya+Sans:100,300,400,500,700,800,900,100italic,300italic,400italic,500italic,700italic,800italic,900italic' rel='stylesheet' type='text/css'>\n",
       "<link href='http://fonts.googleapis.com/css?family=Arvo:400,700,400italic' rel='stylesheet' type='text/css'>\n",
       "<link href='http://fonts.googleapis.com/css?family=PT+Mono' rel='stylesheet' type='text/css'>\n",
       "<link href='http://fonts.googleapis.com/css?family=Shadows+Into+Light' rel='stylesheet' type='text/css'>\n",
       "<link href='http://fonts.googleapis.com/css?family=Philosopher:400,700,400italic,700italic' rel='stylesheet' type='text/css'>\n",
       "\n",
       "<style>\n",
       "\n",
       "@font-face {\n",
       "    font-family: \"Computer Modern\";\n",
       "    src: url('http://mirrors.ctan.org/fonts/cm-unicode/fonts/otf/cmunss.otf');\n",
       "}\n",
       "\n",
       ".container { width: 100% }\n",
       "\n",
       "/* Formatting for header cells */\n",
       ".text_cell_render h1 {\n",
       "    font-family: 'Philosopher', sans-serif;\n",
       "    font-weight: 400;\n",
       "    font-size: 2.2em;\n",
       "    line-height: 100%;\n",
       "    color: rgb(0, 80, 120);\n",
       "    margin-bottom: 0.1em;\n",
       "    margin-top: 0.1em;\n",
       "    display: block;\n",
       "}\t\n",
       ".text_cell_render h2 {\n",
       "    font-family: 'Philosopher', serif;\n",
       "    font-weight: 400;\n",
       "    font-size: 1.9em;\n",
       "    line-height: 100%;\n",
       "    color: rgb(200,100,0);\n",
       "    margin-bottom: 0.1em;\n",
       "    margin-top: 0.1em;\n",
       "    display: block;\n",
       "}\t\n",
       "\n",
       ".text_cell_render h3 {\n",
       "    font-family: 'Philosopher', serif;\n",
       "    margin-top:12px;\n",
       "    margin-bottom: 3px;\n",
       "    font-style: italic;\n",
       "    color: rgb(94,127,192);\n",
       "}\n",
       "\n",
       ".text_cell_render h4 {\n",
       "    font-family: 'Philosopher', serif;\n",
       "}\n",
       "\n",
       ".text_cell_render h5 {\n",
       "    font-family: 'Alegreya Sans', sans-serif;\n",
       "    font-weight: 300;\n",
       "    font-size: 16pt;\n",
       "    color: grey;\n",
       "    font-style: italic;\n",
       "    margin-bottom: .1em;\n",
       "    margin-top: 0.1em;\n",
       "    display: block;\n",
       "}\n",
       "\n",
       ".text_cell_render h6 {\n",
       "    font-family: 'PT Mono', sans-serif;\n",
       "    font-weight: 300;\n",
       "    font-size: 10pt;\n",
       "    color: grey;\n",
       "    margin-bottom: 1px;\n",
       "    margin-top: 1px;\n",
       "}\n",
       "\n",
       ".text_cell_render em {\n",
       "    font-family: 'Philosopher', sans-serif;\n",
       "    color:        blue;\n",
       "    background-color: rgb(255,220,180);\n",
       "    font-size:    110%;\n",
       "    margin-left:   2px;\n",
       "    margin-right:  2px;\n",
       "    font-weight:   100;\n",
       "}\n",
       "\n",
       ".text_cell_render b {\n",
       "    color:            rgb(255,195,195);\n",
       "    background-color: rgb(0,0,0);\n",
       "    font-size:    110%;\n",
       "    margin-left:   2px;\n",
       "    margin-right:  2px;\n",
       "    font-weight:   650;\n",
       "}\n",
       "\n",
       ".text_cell_render u {\n",
       "    color:            blue;\n",
       "    font-size:    110%;\n",
       "    margin-left:   2px;\n",
       "    margin-right:  2px;\n",
       "    font-weight:   650;\n",
       "}\n",
       "\n",
       ".text_cell_render tt {\n",
       "    font-size:    120%;\n",
       "    margin-left:   2px;\n",
       "    margin-right:  2px;\n",
       "    font-weight:   150;\n",
       "}\n",
       "\n",
       ".Codemirror {\n",
       "    font-family: \"PT Mono\";\n",
       "    font-size: 100%;\n",
       "}\n",
       "\n",
       "</style>\n",
       "\n"
      ],
      "text/plain": [
       "<IPython.core.display.HTML object>"
      ]
     },
     "execution_count": 1,
     "metadata": {},
     "output_type": "execute_result"
    }
   ],
   "source": [
    "from IPython.core.display import HTML\n",
    "with open (\"../style.css\", \"r\") as file:\n",
    "    css = file.read()\n",
    "HTML(css)"
   ]
  },
  {
   "cell_type": "markdown",
   "id": "d7958f8b",
   "metadata": {},
   "source": [
    "# Minimization in PyTorch"
   ]
  },
  {
   "cell_type": "code",
   "execution_count": 2,
   "id": "ec4544c6",
   "metadata": {},
   "outputs": [],
   "source": [
    "import torch"
   ]
  },
  {
   "cell_type": "code",
   "execution_count": 3,
   "id": "cdefe8a6",
   "metadata": {},
   "outputs": [],
   "source": [
    "def f_and_fs(t):\n",
    "    # declare x to be a tensor with value t that keeps track of its gradient\n",
    "    x = torch.tensor(t, requires_grad=True, dtype=torch.double)\n",
    "    y = torch.exp(x) - 2 * x * x + 1\n",
    "    # use backpropagation to compute the gradient of y w.r.t. x\n",
    "    y.backward()\n",
    "    # the gradient is stored in x.grad\n",
    "    # the function item returns the value stored in a tensor\n",
    "    return y.item(), x.grad.item()"
   ]
  },
  {
   "cell_type": "code",
   "execution_count": 4,
   "id": "7dde3803",
   "metadata": {},
   "outputs": [],
   "source": [
    "def findMinimum(start, eps):\n",
    "    t     = start\n",
    "    f, fs = f_and_fs(t)\n",
    "    print(f'cnt = 0, f({t}) = {f}, fs = {fs}')\n",
    "    alpha = 0.1   # learning rate\n",
    "    cnt   = 0     # number of iterations\n",
    "    while True:\n",
    "        cnt += 1\n",
    "        tOld, fOld = t, f\n",
    "        t    -= alpha * fs\n",
    "        f, fs = f_and_fs(t)\n",
    "        print(f'cnt = {cnt}, f({t}) = {f}, fs = {fs}')\n",
    "        if abs(t - tOld) <= abs(t) * eps:\n",
    "            return t, f, fs, cnt            \n",
    "        if f >= fOld:     # f didn't decrease, learning rate is too high\n",
    "            alpha *= 0.5  # decrease the learning rate\n",
    "            t, f = tOld, fOld    # reset t\n",
    "            continue\n",
    "        else:             # f has decreased\n",
    "            alpha *= 1.2  # increase the learning rate"
   ]
  },
  {
   "cell_type": "code",
   "execution_count": 5,
   "id": "1cfdbb2b",
   "metadata": {
    "scrolled": false
   },
   "outputs": [
    {
     "name": "stdout",
     "output_type": "stream",
     "text": [
      "cnt = 0, f(1.0) = 1.718281828459045, fs = -1.281718171540955\n",
      "cnt = 1, f(1.1281718171540955) = 1.5444589460545912, fs = -1.4226850245202431\n",
      "cnt = 2, f(1.2988940200965247) = 1.2909893916591888, fs = -1.5303353378418878\n",
      "cnt = 3, f(1.5192623087457564) = 0.9525376228223665, fs = -1.508195686609687\n",
      "cnt = 4, f(1.7798785233919103) = 0.5932010074338105, fs = -1.1903779700702968\n",
      "cnt = 5, f(2.026715299265687) = 0.3739675854092086, fs = -0.517743803098333\n",
      "cnt = 6, f(2.1555465252782513) = 0.3398451825377595, fs = 0.010420726703040728\n",
      "cnt = 7, f(2.152434912957886) = 0.3398351407176765, fs = -0.00395240207382308\n",
      "cnt = 8, f(2.1538511300803664) = 0.3398341661805162, fs = 0.0025790269559937684\n",
      "cnt = 9, f(2.1527421956957986) = 0.3398341436997523, fs = -0.0025367168251051453\n",
      "cnt = 10, f(2.1540510858590753) = 0.3398347742021759, fs = 0.003502591747198025\n",
      "cnt = 11, f(2.151838565491885) = 0.3398383163972465, fs = -0.006697521693945774\n",
      "cnt = 12, f(2.1536061392168864) = 0.3398336729082505, fs = 0.0014479217860312588\n",
      "cnt = 13, f(2.1533820104654025) = 0.3398334643073522, fs = 0.00041358843778027676\n",
      "cnt = 14, f(2.15330518554758) = 0.3398334461487025, fs = 5.914817057828259e-05\n",
      "cnt = 15, f(2.153292001271825) = 0.3398334457698251, fs = -1.6738350332445862e-06\n",
      "cnt = 16, f(2.1532924489942635) = 0.3398334457695391, fs = 3.915839101864549e-07\n",
      "cnt = 17, f(2.1532923233038104) = 0.3398334457695267, fs = -1.8824747272105924e-07\n",
      "cnt = 18, f(2.1532923958121324) = 0.3398334457695231, fs = 1.4624569999455161e-07\n",
      "cnt = 19, f(2.1532923282158127) = 0.3398334457695249, fs = -1.6558757565121596e-07\n",
      "cnt = 20, f(2.153292434080303) = 0.3398334457695338, fs = 3.2278327211088254e-07\n",
      "cnt = 21, f(2.1532923585136663) = 0.33983344576952135, fs = -2.5818447824121904e-08\n",
      "cnt = 22, f(2.1532923620937345) = 0.33983344576952135, fs = -9.302986825332482e-09\n",
      "cnt = 23, f(2.153292359158657) = 0.33983344576952135, fs = -2.2842996827421302e-08\n",
      "cnt = 24, f(2.153292359305537) = 0.33983344576952135, fs = -2.2165416169173113e-08\n",
      "cnt = 25, f(2.153292358897857) = 0.33983344576952135, fs = -2.4046110880249216e-08\n",
      "cnt = 26, f(2.1532923587220605) = 0.33983344576952135, fs = -2.4857090608065846e-08\n",
      "cnt = 27, f(2.1532923586213775) = 0.33983344576952135, fs = -2.5321558183577508e-08\n",
      "cnt = 28, f(2.153292358568528) = 0.33983344576952135, fs = -2.5565361383428353e-08\n",
      "cnt = 29, f(2.1532923585413615) = 0.33983344576952135, fs = -2.569068691116172e-08\n",
      "cnt = 30, f(2.153292358527582) = 0.33983344576952135, fs = -2.5754253840659658e-08\n",
      "cnt = 31, f(2.153292358520641) = 0.33983344576952135, fs = -2.5786272672689847e-08\n",
      "cnt = 32, f(2.153292358517158) = 0.33983344576952135, fs = -2.5802339820302223e-08\n",
      "cnt = 33, f(2.1532923585154133) = 0.33983344576952135, fs = -2.5810388493141545e-08\n"
     ]
    },
    {
     "data": {
      "text/plain": [
       "(2.1532923585154133, 0.33983344576952135, -2.5810388493141545e-08, 33)"
      ]
     },
     "execution_count": 5,
     "metadata": {},
     "output_type": "execute_result"
    }
   ],
   "source": [
    "findMinimum(1.0, 1e-12)"
   ]
  },
  {
   "cell_type": "code",
   "execution_count": 6,
   "id": "6f00e3d2",
   "metadata": {},
   "outputs": [
    {
     "data": {
      "text/plain": [
       "True"
      ]
     },
     "execution_count": 6,
     "metadata": {},
     "output_type": "execute_result"
    }
   ],
   "source": [
    "torch.cuda.is_available()"
   ]
  },
  {
   "cell_type": "code",
   "execution_count": null,
   "id": "2630cbbf",
   "metadata": {},
   "outputs": [],
   "source": []
  }
 ],
 "metadata": {
  "kernelspec": {
   "display_name": "Python 3 (ipykernel)",
   "language": "python",
   "name": "python3"
  },
  "language_info": {
   "codemirror_mode": {
    "name": "ipython",
    "version": 3
   },
   "file_extension": ".py",
   "mimetype": "text/x-python",
   "name": "python",
   "nbconvert_exporter": "python",
   "pygments_lexer": "ipython3",
   "version": "3.9.7"
  }
 },
 "nbformat": 4,
 "nbformat_minor": 5
}
