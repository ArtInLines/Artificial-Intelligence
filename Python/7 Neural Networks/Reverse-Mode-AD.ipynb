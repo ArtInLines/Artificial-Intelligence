{
 "cells": [
  {
   "cell_type": "code",
   "execution_count": 1,
   "id": "3ab56590",
   "metadata": {},
   "outputs": [
    {
     "data": {
      "text/html": [
       "<link href='http://fonts.googleapis.com/css?family=Alegreya+Sans:100,300,400,500,700,800,900,100italic,300italic,400italic,500italic,700italic,800italic,900italic' rel='stylesheet' type='text/css'>\n",
       "<link href='http://fonts.googleapis.com/css?family=Arvo:400,700,400italic' rel='stylesheet' type='text/css'>\n",
       "<link href='http://fonts.googleapis.com/css?family=PT+Mono' rel='stylesheet' type='text/css'>\n",
       "<link href='http://fonts.googleapis.com/css?family=Shadows+Into+Light' rel='stylesheet' type='text/css'>\n",
       "<link href='http://fonts.googleapis.com/css?family=Philosopher:400,700,400italic,700italic' rel='stylesheet' type='text/css'>\n",
       "\n",
       "<style>\n",
       "\n",
       "@font-face {\n",
       "    font-family: \"Computer Modern\";\n",
       "    src: url('http://mirrors.ctan.org/fonts/cm-unicode/fonts/otf/cmunss.otf');\n",
       "}\n",
       "\n",
       ".container { width: 100% }\n",
       "\n",
       "/* Formatting for header cells */\n",
       ".text_cell_render h1 {\n",
       "    font-family: 'Philosopher', sans-serif;\n",
       "    font-weight: 400;\n",
       "    font-size: 2.2em;\n",
       "    line-height: 100%;\n",
       "    color: rgb(0, 80, 120);\n",
       "    margin-bottom: 0.1em;\n",
       "    margin-top: 0.1em;\n",
       "    display: block;\n",
       "}\t\n",
       ".text_cell_render h2 {\n",
       "    font-family: 'Philosopher', serif;\n",
       "    font-weight: 400;\n",
       "    font-size: 1.9em;\n",
       "    line-height: 100%;\n",
       "    color: rgb(200,100,0);\n",
       "    margin-bottom: 0.1em;\n",
       "    margin-top: 0.1em;\n",
       "    display: block;\n",
       "}\t\n",
       "\n",
       ".text_cell_render h3 {\n",
       "    font-family: 'Philosopher', serif;\n",
       "    margin-top:12px;\n",
       "    margin-bottom: 3px;\n",
       "    font-style: italic;\n",
       "    color: rgb(94,127,192);\n",
       "}\n",
       "\n",
       ".text_cell_render h4 {\n",
       "    font-family: 'Philosopher', serif;\n",
       "}\n",
       "\n",
       ".text_cell_render h5 {\n",
       "    font-family: 'Alegreya Sans', sans-serif;\n",
       "    font-weight: 300;\n",
       "    font-size: 16pt;\n",
       "    color: grey;\n",
       "    font-style: italic;\n",
       "    margin-bottom: .1em;\n",
       "    margin-top: 0.1em;\n",
       "    display: block;\n",
       "}\n",
       "\n",
       ".text_cell_render h6 {\n",
       "    font-family: 'PT Mono', sans-serif;\n",
       "    font-weight: 300;\n",
       "    font-size: 10pt;\n",
       "    color: grey;\n",
       "    margin-bottom: 1px;\n",
       "    margin-top: 1px;\n",
       "}\n",
       "\n",
       ".text_cell_render em {\n",
       "    font-family: 'Philosopher', sans-serif;\n",
       "    color:        blue;\n",
       "    background-color: rgb(255,220,180);\n",
       "    font-size:    110%;\n",
       "    margin-left:   2px;\n",
       "    margin-right:  2px;\n",
       "    font-weight:   100;\n",
       "}\n",
       "\n",
       ".text_cell_render b {\n",
       "    color:            rgb(255,195,195);\n",
       "    background-color: rgb(0,0,0);\n",
       "    font-size:    110%;\n",
       "    margin-left:   2px;\n",
       "    margin-right:  2px;\n",
       "    font-weight:   650;\n",
       "}\n",
       "\n",
       ".text_cell_render u {\n",
       "    color:            blue;\n",
       "    font-size:    110%;\n",
       "    margin-left:   2px;\n",
       "    margin-right:  2px;\n",
       "    font-weight:   650;\n",
       "}\n",
       "\n",
       ".text_cell_render tt {\n",
       "    font-size:    120%;\n",
       "    margin-left:   2px;\n",
       "    margin-right:  2px;\n",
       "    font-weight:   150;\n",
       "}\n",
       "\n",
       ".Codemirror {\n",
       "    font-family: \"PT Mono\";\n",
       "    font-size: 100%;\n",
       "}\n",
       "\n",
       "</style>\n",
       "\n"
      ],
      "text/plain": [
       "<IPython.core.display.HTML object>"
      ]
     },
     "execution_count": 1,
     "metadata": {},
     "output_type": "execute_result"
    }
   ],
   "source": [
    "from IPython.core.display import HTML\n",
    "with open (\"../style.css\", \"r\") as file:\n",
    "    css = file.read()\n",
    "HTML(css)"
   ]
  },
  {
   "cell_type": "markdown",
   "id": "d7958f8b",
   "metadata": {},
   "source": [
    "# Reverse Mode Automatic Differentiation"
   ]
  },
  {
   "cell_type": "markdown",
   "id": "29328608",
   "metadata": {},
   "source": [
    "We demonstrate reverse mode AD with the function\n",
    "$$ f(x_1, x_2) = \\sin(x_1 + x_2) \\cdot \\cos(x_1 - x_2) + (x_1 + x_2) \\cdot (x_1 - x_2) $$\n",
    "To compute the function step by step, we introduce the following auxiliary variables:\n",
    "* $v_1 := x_1 + x_2$,\n",
    "* $v_2 := x_1 - x_2$,\n",
    "* $v_3 := \\sin(v_1)$,\n",
    "* $v_4 := \\cos(v_2)$,\n",
    "* $v_5 := v_3 \\cdot v_4$,\n",
    "* $v_6 := v_1 \\cdot v_2$,\n",
    "* $y   := v_5 + v_6$."
   ]
  },
  {
   "cell_type": "code",
   "execution_count": 2,
   "id": "a7aa66dd",
   "metadata": {},
   "outputs": [],
   "source": [
    "def f(x1, x2):\n",
    "    return sin(x1 + x2) * cos(x1 - x2) + (x1 + x2) * (x1 - x2)"
   ]
  },
  {
   "cell_type": "markdown",
   "id": "5dec4509",
   "metadata": {},
   "source": [
    "The computational graph `GC` defined below implements the function `f` that is defined above."
   ]
  },
  {
   "cell_type": "code",
   "execution_count": 3,
   "id": "d8755c49",
   "metadata": {},
   "outputs": [],
   "source": [
    "CG = [ ('x1', ),\n",
    "       ('x2', ),\n",
    "       ('v1', '+',   'x1', 'x2'),\n",
    "       ('v2', '-',   'x1', 'x2'),\n",
    "       ('v3', 'sin', 'v1'),\n",
    "       ('v4', 'cos', 'v2'),\n",
    "       ('v5', '*',   'v3', 'v4'),\n",
    "       ('v6', '*',   'v1', 'v2'),\n",
    "       ('y',  '+',   'v5', 'v6')\n",
    "     ]"
   ]
  },
  {
   "cell_type": "code",
   "execution_count": 4,
   "id": "b7d145bd",
   "metadata": {},
   "outputs": [],
   "source": [
    "import graphviz as gv"
   ]
  },
  {
   "cell_type": "markdown",
   "id": "442e0221",
   "metadata": {},
   "source": [
    "The function `render(CG)` takes a computational graph `CG` as input and renders it graphically via `graphviz`."
   ]
  },
  {
   "cell_type": "code",
   "execution_count": 5,
   "id": "96073036",
   "metadata": {},
   "outputs": [],
   "source": [
    "def render(CG):\n",
    "    cg = gv.Digraph()\n",
    "    cg.attr(rankdir='LR', splines='false')\n",
    "    for node in CG:\n",
    "        shape = 'rectangle'\n",
    "        match node:\n",
    "            case (v, ):\n",
    "                label = f'{v}'\n",
    "                shape = 'circle'\n",
    "            case (v, r):\n",
    "                label = f'{v} := {r}'\n",
    "            case (v, op, a1, a2):\n",
    "                label = f'{v} := {a1} {op} {a2}'\n",
    "            case (v, f, a):\n",
    "                label = f'{v} :=  {f}({a})'\n",
    "        cg.node(v, label=label, shape=shape)\n",
    "    for node in CG:\n",
    "        match node:\n",
    "            case (v, _, a1, a2):\n",
    "                cg.edge(a1, v)\n",
    "                cg.edge(a2, v)\n",
    "            case (v, _, a):\n",
    "                cg.edge(a, v)\n",
    "    return cg"
   ]
  },
  {
   "cell_type": "code",
   "execution_count": 6,
   "id": "07d67713",
   "metadata": {},
   "outputs": [
    {
     "data": {
      "image/svg+xml": [
       "<?xml version=\"1.0\" encoding=\"UTF-8\" standalone=\"no\"?>\n",
       "<!DOCTYPE svg PUBLIC \"-//W3C//DTD SVG 1.1//EN\"\n",
       " \"http://www.w3.org/Graphics/SVG/1.1/DTD/svg11.dtd\">\n",
       "<!-- Generated by graphviz version 2.50.0 (0)\n",
       " -->\n",
       "<!-- Pages: 1 -->\n",
       "<svg width=\"554pt\" height=\"152pt\"\n",
       " viewBox=\"0.00 0.00 554.00 152.00\" xmlns=\"http://www.w3.org/2000/svg\" xmlns:xlink=\"http://www.w3.org/1999/xlink\">\n",
       "<g id=\"graph0\" class=\"graph\" transform=\"scale(1 1) rotate(0) translate(4 148)\">\n",
       "<polygon fill=\"white\" stroke=\"transparent\" points=\"-4,4 -4,-148 550,-148 550,4 -4,4\"/>\n",
       "<!-- x1 -->\n",
       "<g id=\"node1\" class=\"node\">\n",
       "<title>x1</title>\n",
       "<ellipse fill=\"none\" stroke=\"black\" cx=\"19.5\" cy=\"-101\" rx=\"19.5\" ry=\"19.5\"/>\n",
       "<text text-anchor=\"middle\" x=\"19.5\" y=\"-97.3\" font-family=\"Times,serif\" font-size=\"14.00\">x1</text>\n",
       "</g>\n",
       "<!-- v1 -->\n",
       "<g id=\"node3\" class=\"node\">\n",
       "<title>v1</title>\n",
       "<polygon fill=\"none\" stroke=\"black\" points=\"167,-117 75,-117 75,-81 167,-81 167,-117\"/>\n",
       "<text text-anchor=\"middle\" x=\"121\" y=\"-95.3\" font-family=\"Times,serif\" font-size=\"14.00\">v1 := x1 + x2</text>\n",
       "</g>\n",
       "<!-- x1&#45;&gt;v1 -->\n",
       "<g id=\"edge1\" class=\"edge\">\n",
       "<title>x1&#45;&gt;v1</title>\n",
       "<path fill=\"none\" stroke=\"black\" d=\"M39.21,-100.62C46.65,-100.47 55.64,-100.29 64.87,-100.11\"/>\n",
       "<polygon fill=\"black\" stroke=\"black\" points=\"65,-103.61 74.93,-99.91 64.86,-96.61 65,-103.61\"/>\n",
       "</g>\n",
       "<!-- v2 -->\n",
       "<g id=\"node4\" class=\"node\">\n",
       "<title>v2</title>\n",
       "<polygon fill=\"none\" stroke=\"black\" points=\"165.5,-63 76.5,-63 76.5,-27 165.5,-27 165.5,-63\"/>\n",
       "<text text-anchor=\"middle\" x=\"121\" y=\"-41.3\" font-family=\"Times,serif\" font-size=\"14.00\">v2 := x1 &#45; x2</text>\n",
       "</g>\n",
       "<!-- x1&#45;&gt;v2 -->\n",
       "<g id=\"edge3\" class=\"edge\">\n",
       "<title>x1&#45;&gt;v2</title>\n",
       "<path fill=\"none\" stroke=\"black\" d=\"M36.93,-91.75C48.36,-85.32 64.12,-76.45 78.85,-68.16\"/>\n",
       "<polygon fill=\"black\" stroke=\"black\" points=\"80.84,-71.05 87.84,-63.1 77.41,-64.95 80.84,-71.05\"/>\n",
       "</g>\n",
       "<!-- x2 -->\n",
       "<g id=\"node2\" class=\"node\">\n",
       "<title>x2</title>\n",
       "<ellipse fill=\"none\" stroke=\"black\" cx=\"19.5\" cy=\"-44\" rx=\"19.5\" ry=\"19.5\"/>\n",
       "<text text-anchor=\"middle\" x=\"19.5\" y=\"-40.3\" font-family=\"Times,serif\" font-size=\"14.00\">x2</text>\n",
       "</g>\n",
       "<!-- x2&#45;&gt;v1 -->\n",
       "<g id=\"edge2\" class=\"edge\">\n",
       "<title>x2&#45;&gt;v1</title>\n",
       "<path fill=\"none\" stroke=\"black\" d=\"M36.93,-53.08C48.17,-59.3 63.62,-67.84 78.15,-75.87\"/>\n",
       "<polygon fill=\"black\" stroke=\"black\" points=\"76.58,-79 87.02,-80.77 79.97,-72.87 76.58,-79\"/>\n",
       "</g>\n",
       "<!-- x2&#45;&gt;v2 -->\n",
       "<g id=\"edge4\" class=\"edge\">\n",
       "<title>x2&#45;&gt;v2</title>\n",
       "<path fill=\"none\" stroke=\"black\" d=\"M39.21,-44.19C46.98,-44.27 56.44,-44.36 66.1,-44.46\"/>\n",
       "<polygon fill=\"black\" stroke=\"black\" points=\"66.15,-47.96 76.19,-44.56 66.22,-40.96 66.15,-47.96\"/>\n",
       "</g>\n",
       "<!-- v3 -->\n",
       "<g id=\"node5\" class=\"node\">\n",
       "<title>v3</title>\n",
       "<polygon fill=\"none\" stroke=\"black\" points=\"296,-144 204,-144 204,-108 296,-108 296,-144\"/>\n",
       "<text text-anchor=\"middle\" x=\"250\" y=\"-122.3\" font-family=\"Times,serif\" font-size=\"14.00\">v3 := &#160;sin(v1)</text>\n",
       "</g>\n",
       "<!-- v1&#45;&gt;v3 -->\n",
       "<g id=\"edge5\" class=\"edge\">\n",
       "<title>v1&#45;&gt;v3</title>\n",
       "<path fill=\"none\" stroke=\"black\" d=\"M167.13,-108.6C175.73,-110.42 184.82,-112.36 193.69,-114.24\"/>\n",
       "<polygon fill=\"black\" stroke=\"black\" points=\"193.07,-117.69 203.58,-116.34 194.53,-110.84 193.07,-117.69\"/>\n",
       "</g>\n",
       "<!-- v6 -->\n",
       "<g id=\"node8\" class=\"node\">\n",
       "<title>v6</title>\n",
       "<polygon fill=\"none\" stroke=\"black\" points=\"295.5,-90 204.5,-90 204.5,-54 295.5,-54 295.5,-90\"/>\n",
       "<text text-anchor=\"middle\" x=\"250\" y=\"-68.3\" font-family=\"Times,serif\" font-size=\"14.00\">v6 := v1 * v2</text>\n",
       "</g>\n",
       "<!-- v1&#45;&gt;v6 -->\n",
       "<g id=\"edge9\" class=\"edge\">\n",
       "<title>v1&#45;&gt;v6</title>\n",
       "<path fill=\"none\" stroke=\"black\" d=\"M167.13,-89.4C176.03,-87.51 185.46,-85.51 194.63,-83.56\"/>\n",
       "<polygon fill=\"black\" stroke=\"black\" points=\"195.38,-86.98 204.44,-81.47 193.93,-80.13 195.38,-86.98\"/>\n",
       "</g>\n",
       "<!-- v4 -->\n",
       "<g id=\"node6\" class=\"node\">\n",
       "<title>v4</title>\n",
       "<polygon fill=\"none\" stroke=\"black\" points=\"297,-36 203,-36 203,0 297,0 297,-36\"/>\n",
       "<text text-anchor=\"middle\" x=\"250\" y=\"-14.3\" font-family=\"Times,serif\" font-size=\"14.00\">v4 := &#160;cos(v2)</text>\n",
       "</g>\n",
       "<!-- v2&#45;&gt;v4 -->\n",
       "<g id=\"edge6\" class=\"edge\">\n",
       "<title>v2&#45;&gt;v4</title>\n",
       "<path fill=\"none\" stroke=\"black\" d=\"M165.7,-35.71C174.36,-33.87 183.56,-31.91 192.56,-30\"/>\n",
       "<polygon fill=\"black\" stroke=\"black\" points=\"193.56,-33.36 202.61,-27.86 192.1,-26.52 193.56,-33.36\"/>\n",
       "</g>\n",
       "<!-- v2&#45;&gt;v6 -->\n",
       "<g id=\"edge10\" class=\"edge\">\n",
       "<title>v2&#45;&gt;v6</title>\n",
       "<path fill=\"none\" stroke=\"black\" d=\"M165.7,-54.29C174.97,-56.26 184.86,-58.36 194.47,-60.41\"/>\n",
       "<polygon fill=\"black\" stroke=\"black\" points=\"193.84,-63.85 204.35,-62.51 195.29,-57 193.84,-63.85\"/>\n",
       "</g>\n",
       "<!-- v5 -->\n",
       "<g id=\"node7\" class=\"node\">\n",
       "<title>v5</title>\n",
       "<polygon fill=\"none\" stroke=\"black\" points=\"424,-44 333,-44 333,-8 424,-8 424,-44\"/>\n",
       "<text text-anchor=\"middle\" x=\"378.5\" y=\"-22.3\" font-family=\"Times,serif\" font-size=\"14.00\">v5 := v3 * v4</text>\n",
       "</g>\n",
       "<!-- v3&#45;&gt;v5 -->\n",
       "<g id=\"edge7\" class=\"edge\">\n",
       "<title>v3&#45;&gt;v5</title>\n",
       "<path fill=\"none\" stroke=\"black\" d=\"M273.9,-107.89C294.2,-91.85 324,-68.29 346.43,-50.56\"/>\n",
       "<polygon fill=\"black\" stroke=\"black\" points=\"348.66,-53.26 354.33,-44.31 344.32,-47.77 348.66,-53.26\"/>\n",
       "</g>\n",
       "<!-- v4&#45;&gt;v5 -->\n",
       "<g id=\"edge8\" class=\"edge\">\n",
       "<title>v4&#45;&gt;v5</title>\n",
       "<path fill=\"none\" stroke=\"black\" d=\"M297.02,-20.91C305.45,-21.44 314.32,-22 322.97,-22.55\"/>\n",
       "<polygon fill=\"black\" stroke=\"black\" points=\"322.78,-26.05 332.98,-23.18 323.22,-19.06 322.78,-26.05\"/>\n",
       "</g>\n",
       "<!-- y -->\n",
       "<g id=\"node9\" class=\"node\">\n",
       "<title>y</title>\n",
       "<polygon fill=\"none\" stroke=\"black\" points=\"546,-67 460,-67 460,-31 546,-31 546,-67\"/>\n",
       "<text text-anchor=\"middle\" x=\"503\" y=\"-45.3\" font-family=\"Times,serif\" font-size=\"14.00\">y := v5 + v6</text>\n",
       "</g>\n",
       "<!-- v5&#45;&gt;y -->\n",
       "<g id=\"edge11\" class=\"edge\">\n",
       "<title>v5&#45;&gt;y</title>\n",
       "<path fill=\"none\" stroke=\"black\" d=\"M424.07,-34.37C432.43,-35.94 441.23,-37.59 449.8,-39.2\"/>\n",
       "<polygon fill=\"black\" stroke=\"black\" points=\"449.23,-42.65 459.7,-41.06 450.52,-35.77 449.23,-42.65\"/>\n",
       "</g>\n",
       "<!-- v6&#45;&gt;y -->\n",
       "<g id=\"edge12\" class=\"edge\">\n",
       "<title>v6&#45;&gt;y</title>\n",
       "<path fill=\"none\" stroke=\"black\" d=\"M295.52,-67.86C338.9,-63.92 404.2,-57.98 449.93,-53.82\"/>\n",
       "<polygon fill=\"black\" stroke=\"black\" points=\"450.31,-57.3 459.95,-52.91 449.67,-50.33 450.31,-57.3\"/>\n",
       "</g>\n",
       "</g>\n",
       "</svg>\n"
      ],
      "text/plain": [
       "<graphviz.graphs.Digraph at 0x1112d5900>"
      ]
     },
     "execution_count": 6,
     "metadata": {},
     "output_type": "execute_result"
    }
   ],
   "source": [
    "dot = render(CG)\n",
    "dot"
   ]
  },
  {
   "cell_type": "code",
   "execution_count": 7,
   "id": "5089452d",
   "metadata": {},
   "outputs": [
    {
     "data": {
      "text/plain": [
       "'cg.dot'"
      ]
     },
     "execution_count": 7,
     "metadata": {},
     "output_type": "execute_result"
    }
   ],
   "source": [
    "dot.save(filename='cg.dot')"
   ]
  },
  {
   "cell_type": "code",
   "execution_count": 8,
   "id": "8a8be405",
   "metadata": {},
   "outputs": [],
   "source": [
    "import math"
   ]
  },
  {
   "cell_type": "markdown",
   "id": "228a411f",
   "metadata": {},
   "source": [
    "The function `eval_graph` takes two arguments:\n",
    "* `CG` is a computational graph,\n",
    "* `Values` is a dictionary assigning values to variable names."
   ]
  },
  {
   "cell_type": "code",
   "execution_count": 9,
   "id": "a8507a45",
   "metadata": {},
   "outputs": [],
   "source": [
    "def eval_graph(CG, Values):\n",
    "    for node in CG:\n",
    "        match node:\n",
    "            case (v, ):\n",
    "                pass\n",
    "            case (v, r):\n",
    "                Values[v] = r\n",
    "            case (v, '+', a1, a2):\n",
    "                Values[v] = Values[a1] + Values[a2]\n",
    "            case (v, '-', a1, a2):\n",
    "                Values[v] = Values[a1] - Values[a2]\n",
    "            case (v, '*', a1, a2):\n",
    "                Values[v] = Values[a1] * Values[a2]\n",
    "            case (v, '/', a1, a2):\n",
    "                Values[v] = Values[a1] / Values[a2]\n",
    "            case (v, 'sqrt', a):\n",
    "                Values[v] = math.sqrt(Values[a])            \n",
    "            case (v, 'exp', a):\n",
    "                Values[v] = math.exp(Values[a])\n",
    "            case (v, 'log', a):\n",
    "                Values[v] = math.log(Values[a])\n",
    "            case (v, 'sin', a):\n",
    "                Values[v] = math.sin(Values[a])\n",
    "            case (v, 'cos', a):\n",
    "                Values[v] = math.cos(Values[a])\n",
    "            case (v, 'atan', a):\n",
    "                Values[v] = math.atan(Values[a])\n",
    "            case (v, r):\n",
    "                Values[v] = r\n",
    "    return Values['y']"
   ]
  },
  {
   "cell_type": "code",
   "execution_count": 10,
   "id": "217cbbcf",
   "metadata": {},
   "outputs": [],
   "source": [
    "import math"
   ]
  },
  {
   "cell_type": "code",
   "execution_count": 11,
   "id": "70ae9d00",
   "metadata": {},
   "outputs": [
    {
     "data": {
      "text/plain": [
       "1.0"
      ]
     },
     "execution_count": 11,
     "metadata": {},
     "output_type": "execute_result"
    }
   ],
   "source": [
    "eval_graph(CG, { 'x1': math.pi/4, 'x2': math.pi/4 })"
   ]
  },
  {
   "cell_type": "code",
   "execution_count": 12,
   "id": "42553f25",
   "metadata": {},
   "outputs": [],
   "source": [
    "def add_to_dictionary(D, key, value):\n",
    "    if key in D:\n",
    "        D[key] |= { value }\n",
    "    else:\n",
    "        D[key]  = { value }"
   ]
  },
  {
   "cell_type": "markdown",
   "id": "069a9e91",
   "metadata": {},
   "source": [
    "Given a *computational graph* `CG`, the function `parents` returns a dictionary `Parents` such that\n",
    "for every node name `n` occurring in `CG` we have that `Parents[n]` is the set of nodes that are parents \n",
    "of the node labeled with `n`. "
   ]
  },
  {
   "cell_type": "code",
   "execution_count": 13,
   "id": "b9896947",
   "metadata": {},
   "outputs": [],
   "source": [
    "def parents(CG):\n",
    "    Parents = {}\n",
    "    for node in CG:\n",
    "        match node:\n",
    "            case (p, _, a):\n",
    "                add_to_dictionary(Parents, a, p)\n",
    "            case (p, _, a1, a2):\n",
    "                add_to_dictionary(Parents, a1, p)\n",
    "                add_to_dictionary(Parents, a2, p)\n",
    "    return Parents"
   ]
  },
  {
   "cell_type": "code",
   "execution_count": 14,
   "id": "e2e07b85",
   "metadata": {},
   "outputs": [
    {
     "data": {
      "text/plain": [
       "{'x1': {'v1', 'v2'},\n",
       " 'x2': {'v1', 'v2'},\n",
       " 'v1': {'v3', 'v6'},\n",
       " 'v2': {'v4', 'v6'},\n",
       " 'v3': {'v5'},\n",
       " 'v4': {'v5'},\n",
       " 'v5': {'y'},\n",
       " 'v6': {'y'}}"
      ]
     },
     "execution_count": 14,
     "metadata": {},
     "output_type": "execute_result"
    }
   ],
   "source": [
    "parents(CG)"
   ]
  },
  {
   "cell_type": "code",
   "execution_count": 15,
   "id": "32b3ba23",
   "metadata": {},
   "outputs": [],
   "source": [
    "def node_dictionary(CG):\n",
    "    D = {}\n",
    "    for node in CG:\n",
    "        name    = node[0]\n",
    "        D[name] = node\n",
    "    return D"
   ]
  },
  {
   "cell_type": "code",
   "execution_count": 16,
   "id": "0cf38206",
   "metadata": {},
   "outputs": [
    {
     "data": {
      "text/plain": [
       "{'x1': ('x1',),\n",
       " 'x2': ('x2',),\n",
       " 'v1': ('v1', '+', 'x1', 'x2'),\n",
       " 'v2': ('v2', '-', 'x1', 'x2'),\n",
       " 'v3': ('v3', 'sin', 'v1'),\n",
       " 'v4': ('v4', 'cos', 'v2'),\n",
       " 'v5': ('v5', '*', 'v3', 'v4'),\n",
       " 'v6': ('v6', '*', 'v1', 'v2'),\n",
       " 'y': ('y', '+', 'v5', 'v6')}"
      ]
     },
     "execution_count": 16,
     "metadata": {},
     "output_type": "execute_result"
    }
   ],
   "source": [
    "node_dictionary(CG)"
   ]
  },
  {
   "cell_type": "markdown",
   "id": "38072e91",
   "metadata": {},
   "source": [
    "The function `partial_derivative` takes three arguments:\n",
    "* `Node` is a computational node,\n",
    "* `arg` is the name of a node occurring as argument in `Node`, \n",
    "* `Values` is a dictionary that stores a value for every node name.\n",
    "\n",
    "The function computes the partial derivative of `Node` w.r.t. `arg`."
   ]
  },
  {
   "cell_type": "code",
   "execution_count": 17,
   "id": "6f267482",
   "metadata": {},
   "outputs": [],
   "source": [
    "def partial_derivative(Node, arg, Values):\n",
    "    result = 0\n",
    "    match Node:\n",
    "        case n, '+', a1, a2:\n",
    "            if arg == a1 == a2:\n",
    "                return 2\n",
    "            if arg == a1 or arg == a2:\n",
    "                return 1\n",
    "            else:\n",
    "                assert False, f'partial_derivative({Node}, {arg})'\n",
    "        case n, '-', a1, a2:\n",
    "            if arg == a1 == a2:\n",
    "                return 0\n",
    "            if arg == a1:\n",
    "                return 1\n",
    "            if arg == a2:\n",
    "                return -1\n",
    "            else:\n",
    "                assert False, f'partial_derivative({Node}, {arg})'\n",
    "        case n, '*', a1, a2:\n",
    "            if arg == a1 == a2:\n",
    "                return 2 * Values[a1]\n",
    "            if arg == a1:\n",
    "                return Values[a2]\n",
    "            if arg == a2:\n",
    "                return Values[a1]\n",
    "            else:\n",
    "                assert False, f'partial_derivative({Node}, {arg})'\n",
    "        case n, '/', a1, a2:\n",
    "            if arg == a1 == a2:\n",
    "                return 0\n",
    "            if arg == a1:\n",
    "                return 1 / Values[a2]\n",
    "            if arg == a2:\n",
    "                return -Values[a1] / Values[a2] ** 2\n",
    "            else:\n",
    "                assert False, f'partial_derivative({Node}, {arg})'\n",
    "        case n, 'exp', a:\n",
    "            return math.exp(Values[a])\n",
    "        case n, 'log', a:\n",
    "            return math.log(Values[a])\n",
    "        case n, 'sin', a:\n",
    "            return math.cos(Values[a])\n",
    "        case n, 'cos', a:\n",
    "            return -math.sin(Values[a])\n",
    "        case n, 'atan', a:\n",
    "            return 1 / (1 + Values[a]**2)\n",
    "    return result"
   ]
  },
  {
   "cell_type": "code",
   "execution_count": 20,
   "id": "01356ba4",
   "metadata": {},
   "outputs": [],
   "source": [
    "def adjoints(CG, Values):\n",
    "    eval_graph(CG, Values)\n",
    "    NodeDict = node_dictionary(CG)\n",
    "    Parents  = parents(CG)\n",
    "    n        = len(CG)\n",
    "    Adjoints = {}\n",
    "    Adjoints['y'] = 1\n",
    "    for k in range(2, n+1):\n",
    "        Node   = CG[-k]\n",
    "        name   = Node[0]\n",
    "        result = 0\n",
    "        for parent_name in Parents[name]:\n",
    "            parent_node = NodeDict[parent_name]\n",
    "            result += Adjoints[parent_name] * partial_derivative(parent_node, name, Values)\n",
    "        Adjoints[name] = result\n",
    "    return Adjoints"
   ]
  },
  {
   "cell_type": "code",
   "execution_count": 21,
   "id": "47bb6a03",
   "metadata": {},
   "outputs": [
    {
     "data": {
      "text/plain": [
       "{'y': 1,\n",
       " 'v6': 1,\n",
       " 'v5': 1,\n",
       " 'v4': 1.0,\n",
       " 'v3': 1.0,\n",
       " 'v2': 1.5707963267948966,\n",
       " 'v1': 6.123233995736766e-17,\n",
       " 'x2': -1.5707963267948966,\n",
       " 'x1': 1.5707963267948966}"
      ]
     },
     "execution_count": 21,
     "metadata": {},
     "output_type": "execute_result"
    }
   ],
   "source": [
    "adjoints(CG, { 'x1': math.pi/4, 'x2': math.pi/4 })"
   ]
  },
  {
   "cell_type": "code",
   "execution_count": null,
   "id": "0dd57b15",
   "metadata": {},
   "outputs": [],
   "source": [
    "CG"
   ]
  }
 ],
 "metadata": {
  "kernelspec": {
   "display_name": "Python 3",
   "language": "python",
   "name": "python3"
  },
  "language_info": {
   "codemirror_mode": {
    "name": "ipython",
    "version": 3
   },
   "file_extension": ".py",
   "mimetype": "text/x-python",
   "name": "python",
   "nbconvert_exporter": "python",
   "pygments_lexer": "ipython3",
   "version": "3.10.2"
  }
 },
 "nbformat": 4,
 "nbformat_minor": 5
}
