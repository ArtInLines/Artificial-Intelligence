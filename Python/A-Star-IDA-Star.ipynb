{
 "cells": [
  {
   "cell_type": "code",
   "execution_count": null,
   "metadata": {},
   "outputs": [],
   "source": [
    "%%HTML\n",
    "<style>\n",
    ".container { width:100% }\n",
    "</style>"
   ]
  },
  {
   "cell_type": "markdown",
   "metadata": {},
   "source": [
    "# A$^*$-IDA$^*$ Search"
   ]
  },
  {
   "cell_type": "markdown",
   "metadata": {},
   "source": [
    "The module `Set` implements <em style=\"color:blue;\">sets</em> as \n",
    "<a href=\"https://en.wikipedia.org/wiki/AVL_tree\">AVL trees</a>.\n",
    "The API provided by `Set` offers the following functions and methods:\n",
    "- `Set()` creates an empty set.\n",
    "- `S.isEmpty()` checks whether the set `S`is empty.\n",
    "- `S.member(x)` checks whether `x` is an element of the set `S`.\n",
    "- `S.insert(x)` inserts `x` into the set `S`.\n",
    "  This does not return a new set but rather modifies the set `S`.\n",
    "- `S.delete(x)` deletes `x` from the set `S`.\n",
    "  This does not return a new set but rather modifies the set `S`.\n",
    "- `S.pop()` returns the smallest element of the set `S`.\n",
    "  Furthermore, this element is removed from `S`.\n",
    "Since sets are implemented as ordered binary trees, the elements of a set need to be comparable, i.e. if `x` and `y` are inserted into a set, then the \n",
    "expression `x < y` must return a Boolean value and `<` has to define \n",
    "linear order.\n",
    "\n",
    "The module `Set` can be used to implement a priority queue that supports the removal of elements."
   ]
  },
  {
   "cell_type": "code",
   "execution_count": null,
   "metadata": {},
   "outputs": [],
   "source": [
    "import Set"
   ]
  },
  {
   "cell_type": "markdown",
   "metadata": {},
   "source": [
    "The function `search` takes three arguments to solve a <b style=\"color:blue\">search problem</b>:\n",
    "- `start` is the start state of the search problem,\n",
    "- `goal`is the goal state, and\n",
    "- `next_states` is a function with signature $\\texttt{next_states}:Q \\rightarrow 2^Q$, where $Q$ is the set of states.\n",
    "  For every state $s \\in Q$, $\\texttt{next_states}(s)$ is the set of states that can be reached from $s$ in one step.\n",
    "- `heuristic` is a function that takes two states as arguments.  It \n",
    "  returns an estimate of the length of the shortest path between these\n",
    "  states.\n",
    "- `size` is the maximum number states that A$^*$ search is allowed \n",
    "   to explore.\n",
    "   \n",
    "If successful, `search` returns a path from `start` to `goal` that is a solution of the search problem\n",
    "$$ \\langle Q, \\texttt{next_states}, \\texttt{start}, \\texttt{goal} \\rangle. $$\n",
    "\n",
    "The function `search` implements A$^*$-IDA$^*$ search."
   ]
  },
  {
   "cell_type": "code",
   "execution_count": null,
   "metadata": {},
   "outputs": [],
   "source": [
    "def search(start, goal, next_states, heuristic, size):\n",
    "    Parent   = { start:start }\n",
    "    Distance = { start: 0 }           \n",
    "    estGoal  = heuristic(start, goal)\n",
    "    Estimate = { start: estGoal }\n",
    "    Frontier = Set.Set()\n",
    "    Frontier.insert( (estGoal, start) )\n",
    "    while len(Distance) < size and not Frontier.isEmpty():\n",
    "        estimate, state = Frontier.pop()\n",
    "        if state == goal:\n",
    "            return path_to(state, Parent)\n",
    "        stateDist = Distance[state]\n",
    "        for ns in next_states(state):\n",
    "            oldEstimate = Estimate.get(ns, None)\n",
    "            newEstimate = stateDist + 1 + heuristic(ns, goal)\n",
    "            if oldEstimate == None or newEstimate < oldEstimate:\n",
    "                Distance[ns] = stateDist + 1\n",
    "                Estimate[ns] = newEstimate\n",
    "                Parent[ns]   = state\n",
    "                Frontier.insert( (newEstimate, ns) )\n",
    "                if oldEstimate != None:\n",
    "                    Frontier.delete( (oldEstimate, ns) )\n",
    "    Path = id_search(goal, start, next_states, heuristic, Distance)\n",
    "    \n",
    "    return path_to(Path[-1], Parent) + Path[::-1][1:]"
   ]
  },
  {
   "cell_type": "code",
   "execution_count": null,
   "metadata": {},
   "outputs": [],
   "source": [
    "def id_search(goal, start, next_states, heuristic, Distance):\n",
    "    limit = 0\n",
    "    while True:\n",
    "        print(f'limit = {limit}')\n",
    "        Path = dl_search([goal], start, next_states, limit, heuristic, Distance)\n",
    "        if isinstance(Path, list):\n",
    "            return Path\n",
    "        limit = Path"
   ]
  },
  {
   "cell_type": "code",
   "execution_count": null,
   "metadata": {},
   "outputs": [],
   "source": [
    "def dl_search(Path, start, next_states, limit, heuristic, Distance):\n",
    "    state = Path[-1]\n",
    "    total = len(Path) - 1 + heuristic(state, start)\n",
    "    if total > limit:\n",
    "        return total\n",
    "    if state in Distance:\n",
    "        return Path\n",
    "    smallest = float('Inf')\n",
    "    for ns in next_states(state):\n",
    "        if ns not in Path:\n",
    "            result = dl_search(Path + [ns], start, next_states, limit, heuristic, Distance)\n",
    "            if isinstance(result, list):\n",
    "                return result\n",
    "            smallest = min(smallest, result)\n",
    "    return smallest"
   ]
  },
  {
   "cell_type": "markdown",
   "metadata": {},
   "source": [
    "Given a `state` and a parent dictionary `Parent`, the function `path_to` returns a path leading to the given `state`."
   ]
  },
  {
   "cell_type": "code",
   "execution_count": null,
   "metadata": {},
   "outputs": [],
   "source": [
    "def path_to(state, Parent):\n",
    "    p = Parent[state]\n",
    "    if p == state:\n",
    "        return [state]\n",
    "    return path_to(p, Parent) + [state]"
   ]
  },
  {
   "cell_type": "markdown",
   "metadata": {},
   "source": [
    "Lets draw the start state and animate the solution that has been found."
   ]
  },
  {
   "cell_type": "code",
   "execution_count": null,
   "metadata": {},
   "outputs": [],
   "source": [
    "%run Sliding-Puzzle.ipynb"
   ]
  },
  {
   "cell_type": "code",
   "execution_count": null,
   "metadata": {},
   "outputs": [],
   "source": [
    "%%time\n",
    "Path = search(start, goal, next_states, manhattan, 3000)\n",
    "print(len(Path)-1)"
   ]
  },
  {
   "cell_type": "code",
   "execution_count": null,
   "metadata": {},
   "outputs": [],
   "source": [
    "animation(Path)"
   ]
  },
  {
   "cell_type": "code",
   "execution_count": null,
   "metadata": {},
   "outputs": [],
   "source": [
    "%%time\n",
    "Path = search(start2, goal2, next_states, manhattan, 6000)\n",
    "print(len(Path)-1)"
   ]
  },
  {
   "cell_type": "code",
   "execution_count": null,
   "metadata": {},
   "outputs": [],
   "source": [
    "animation(Path)"
   ]
  },
  {
   "cell_type": "code",
   "execution_count": null,
   "metadata": {},
   "outputs": [],
   "source": []
  }
 ],
 "metadata": {
  "kernelspec": {
   "display_name": "Python 3",
   "language": "python",
   "name": "python3"
  },
  "language_info": {
   "codemirror_mode": {
    "name": "ipython",
    "version": 3
   },
   "file_extension": ".py",
   "mimetype": "text/x-python",
   "name": "python",
   "nbconvert_exporter": "python",
   "pygments_lexer": "ipython3",
   "version": "3.7.6"
  },
  "toc": {
   "base_numbering": 1,
   "nav_menu": {},
   "number_sections": true,
   "sideBar": true,
   "skip_h1_title": false,
   "title_cell": "Table of Contents",
   "title_sidebar": "Contents",
   "toc_cell": false,
   "toc_position": {},
   "toc_section_display": true,
   "toc_window_display": false
  }
 },
 "nbformat": 4,
 "nbformat_minor": 2
}
