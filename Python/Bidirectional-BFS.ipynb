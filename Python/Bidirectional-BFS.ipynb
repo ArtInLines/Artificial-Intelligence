{
 "cells": [
  {
   "cell_type": "code",
   "execution_count": null,
   "metadata": {},
   "outputs": [],
   "source": [
    "%%HTML\n",
    "<style>\n",
    ".container { width:100% !important }\n",
    "</style>"
   ]
  },
  {
   "cell_type": "markdown",
   "metadata": {},
   "source": [
    "# Bidirectional Breadth First Search"
   ]
  },
  {
   "cell_type": "code",
   "execution_count": null,
   "metadata": {},
   "outputs": [],
   "source": [
    "def search(start, goal, next_states):        \n",
    "    FrontierA = { start }\n",
    "    VisitedA  = set()           # set of nodes expanded starting from start\n",
    "    ParentA   = { start: start}\n",
    "    FrontierB = { goal }\n",
    "    VisitedB  = set()           # set of nodes expanded starting from goal\n",
    "    ParentB   = { goal: goal} \n",
    "    print('start while:')\n",
    "    while len(FrontierA) > 0 and len(FrontierB) > 0:\n",
    "        VisitedA  |= FrontierA\n",
    "        VisitedB  |= FrontierB\n",
    "        NewFrontier = set()\n",
    "        for s in FrontierA:\n",
    "            for ns in next_states(s):\n",
    "                if ns not in VisitedA:\n",
    "                    NewFrontier |= { ns }\n",
    "                    ParentA[ns]  = s\n",
    "                    if ns in VisitedB:\n",
    "                        return combinePaths(ns, ParentA, ParentB)\n",
    "        FrontierA   = NewFrontier\n",
    "        NewFrontier = set()\n",
    "        for s in FrontierB:\n",
    "            for ns in next_states(s):\n",
    "                if ns not in VisitedB:\n",
    "                    NewFrontier |= { ns }\n",
    "                    ParentB[ns]  = s\n",
    "                    if ns in VisitedA:\n",
    "                        return combinePaths(ns, ParentA, ParentB)\n",
    "        FrontierB = NewFrontier"
   ]
  },
  {
   "cell_type": "markdown",
   "metadata": {},
   "source": [
    "Given a `state` and a parent dictionary `Parent`, the function `path_to` returns a path leading to the given `state`."
   ]
  },
  {
   "cell_type": "code",
   "execution_count": null,
   "metadata": {},
   "outputs": [],
   "source": [
    "def path_to(state, Parent):\n",
    "    p = Parent[state]\n",
    "    if p == state:\n",
    "        return [state]\n",
    "    return path_to(p, Parent) + [state]"
   ]
  },
  {
   "cell_type": "markdown",
   "metadata": {},
   "source": [
    "The function `combinePath` takes three parameters:\n",
    "- `state` is a state that has been reached in bidirectional BFS from both `start` and `goal`.\n",
    "- `ParentA` is the parent dictionary that has been build when searching from `start`.\n",
    "   If $\\texttt{ParentA}[s_1] = s_2$ holds, then either $s_1 = s2 = \\texttt{start}$ or \n",
    "   $s_1 \\in \\texttt{next_states}(s_2)$.\n",
    "- `ParentB` is the parent dictionary that has been build when searching from `goal`.\n",
    "   If $\\texttt{ParentB}[s_1] = s_2$ holds, then either $s_1 = s2 = \\texttt{goal}$ or\n",
    "   $s_1 \\in \\texttt{next_states}(s_2)$.\n",
    "The function returns a path from `start`to `goal`."
   ]
  },
  {
   "cell_type": "code",
   "execution_count": null,
   "metadata": {},
   "outputs": [],
   "source": [
    "def combinePaths(state, ParentA, ParentB):\n",
    "        Path1 = path_to(state, ParentA)\n",
    "        Path2 = path_to(state, ParentB)\n",
    "        return Path1[:-1] + Path2[::-1] # Path2 is reversed"
   ]
  },
  {
   "cell_type": "code",
   "execution_count": null,
   "metadata": {},
   "outputs": [],
   "source": [
    "%run Sliding-Puzzle.ipynb"
   ]
  },
  {
   "cell_type": "code",
   "execution_count": null,
   "metadata": {},
   "outputs": [],
   "source": [
    "%%time\n",
    "Path = search(start, goal, next_states)\n",
    "print(len(Path)-1)"
   ]
  },
  {
   "cell_type": "code",
   "execution_count": null,
   "metadata": {},
   "outputs": [],
   "source": [
    "animation(Path)"
   ]
  },
  {
   "cell_type": "code",
   "execution_count": null,
   "metadata": {},
   "outputs": [],
   "source": []
  }
 ],
 "metadata": {
  "kernelspec": {
   "display_name": "Python 3",
   "language": "python",
   "name": "python3"
  },
  "language_info": {
   "codemirror_mode": {
    "name": "ipython",
    "version": 3
   },
   "file_extension": ".py",
   "mimetype": "text/x-python",
   "name": "python",
   "nbconvert_exporter": "python",
   "pygments_lexer": "ipython3",
   "version": "3.7.6"
  },
  "toc": {
   "base_numbering": 1,
   "nav_menu": {},
   "number_sections": true,
   "sideBar": true,
   "skip_h1_title": false,
   "title_cell": "Table of Contents",
   "title_sidebar": "Contents",
   "toc_cell": false,
   "toc_position": {},
   "toc_section_display": true,
   "toc_window_display": false
  }
 },
 "nbformat": 4,
 "nbformat_minor": 2
}
