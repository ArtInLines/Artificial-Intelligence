{
 "cells": [
  {
   "cell_type": "code",
   "execution_count": null,
   "metadata": {},
   "outputs": [],
   "source": [
    "%%HTML\n",
    "<style>\n",
    ".container { width:100% }\n",
    "</style>"
   ]
  },
  {
   "cell_type": "markdown",
   "metadata": {},
   "source": [
    "# Brute Force CSP Solver"
   ]
  },
  {
   "cell_type": "markdown",
   "metadata": {},
   "source": [
    "The function `arb(S)` takes a set `S` as input and returns an arbitrary element from \n",
    "this set."
   ]
  },
  {
   "cell_type": "code",
   "execution_count": null,
   "metadata": {},
   "outputs": [],
   "source": [
    "def arb(S):\n",
    "    for x in S:\n",
    "        return x"
   ]
  },
  {
   "cell_type": "markdown",
   "metadata": {},
   "source": [
    "The procedure `solve(P)` takes a a <b style=\"color:blue\">constraint satisfaction problem</b> \n",
    "`P` as input.  Here `P` is a triple of the form \n",
    "$$ \\mathcal{P} = \\langle \\mathtt{Vars}, \\mathtt{Values}, \\mathtt{Constraints} \\rangle $$\n",
    "where \n",
    "- $\\mathtt{Vars}$ is a set of strings which serve as <b style=\"color:blue\">variables</b>,\n",
    "- $\\mathtt{Values}$ is a set of <b style=\"color:blue\">values</b> that can be assigned \n",
    "  to the variables in $\\mathtt{Vars}$.\n",
    "- $\\mathtt{Constraints}$ is a set of formulas from first order logic.  \n",
    "  Each of these formulas is  called a <b style=\"color:blue\">constraint</b> of $\\mathcal{P}$."
   ]
  },
  {
   "cell_type": "code",
   "execution_count": null,
   "metadata": {},
   "outputs": [],
   "source": [
    "def solve(P):\n",
    "    return brute_force_search({}, P)"
   ]
  },
  {
   "cell_type": "markdown",
   "metadata": {},
   "source": [
    "The function `brute_force_search` takes two arguments:\n",
    "- `Assignment` is a partial variable assignment that is represented as a\n",
    "   dictionary.  Initially, this assignment will be the  empty dictionary.     \n",
    "   Every recursive call of `brute_forc\\_search` adds the assignment of one \n",
    "   variable to  the given assignment. \n",
    "- `csp` is a constraint satisfaction problem.\n",
    "\n",
    "The implementation of `brute_force_search` works as follows:\n",
    "- If all variables have been assigned a value, the dictionary    \n",
    "  `Assignment` will have the same number of entries as the set \n",
    "   `Variables` has elements.  Hence, in that case `Assignment`\n",
    "   is a complete assignment of all variables and we have to test whether\n",
    "   all constraints are satisfied.  This is done using the auxiliary procedure\n",
    "   `check_all_constraints`.\n",
    "- Otherwise, we pick a variable that has not been assigned and try all possible \n",
    "  values for this variable."
   ]
  },
  {
   "cell_type": "code",
   "execution_count": null,
   "metadata": {},
   "outputs": [],
   "source": [
    "def brute_force_search(Assignment, csp):\n",
    "    Variables, Values, Constraints = csp\n",
    "    if len(Assignment) == len(Variables): # all variables have been assigned\n",
    "        if check_all_constraints(Assignment, Constraints):\n",
    "            print('Assignment:', Assignment)\n",
    "            return Assignment\n",
    "        else:\n",
    "            return None\n",
    "    var = arb(Variables - set(Assignment.keys()))\n",
    "    for value in Values:\n",
    "        NewAss = Assignment.copy()\n",
    "        NewAss[var] = value\n",
    "        result = brute_force_search(NewAss, csp)\n",
    "        if result != None:\n",
    "            return result"
   ]
  },
  {
   "cell_type": "markdown",
   "metadata": {},
   "source": [
    "The function `check_all_constraints` takes two arguments:\n",
    "- `Assignment` is a variable assignment,\n",
    "- `Constraints` is a set of Python expressions.\n",
    "The function returns `True` iff all these expression evaluate as `True` using\n",
    "the given `Assignment`.\n",
    "\n",
    "Below, we have to create a copy of `Assignment` since the function `eval` modifies the assignment given to it."
   ]
  },
  {
   "cell_type": "code",
   "execution_count": null,
   "metadata": {},
   "outputs": [],
   "source": [
    "def check_all_constraints(Assignment, Constraints):\n",
    "    A = Assignment.copy()\n",
    "    return all(eval(f, A) for f in Constraints)"
   ]
  },
  {
   "cell_type": "code",
   "execution_count": null,
   "metadata": {},
   "outputs": [],
   "source": [
    "%run N-Queens-Problem-CSP.ipynb"
   ]
  },
  {
   "cell_type": "code",
   "execution_count": null,
   "metadata": {},
   "outputs": [],
   "source": [
    "P = create_csp(8)"
   ]
  },
  {
   "cell_type": "code",
   "execution_count": null,
   "metadata": {},
   "outputs": [],
   "source": [
    "%%time\n",
    "Solution = solve(P)"
   ]
  },
  {
   "cell_type": "code",
   "execution_count": null,
   "metadata": {},
   "outputs": [],
   "source": [
    "import chess"
   ]
  },
  {
   "cell_type": "markdown",
   "metadata": {},
   "source": [
    "The function `show_solution(Solution)` takes a dictionary that contains a variable assignment that is a solution to the 8-queens puzzle.  It displays this Solution on a chess board."
   ]
  },
  {
   "cell_type": "code",
   "execution_count": null,
   "metadata": {},
   "outputs": [],
   "source": [
    "def show_solution(Solution):\n",
    "    board = chess.Board(None)  # create empty chess board\n",
    "    queen = chess.Piece(chess.QUEEN, True)\n",
    "    for row in range(1, 8+1):\n",
    "        col = Solution['V'+str(row)]\n",
    "        field_number = (row - 1) * 8 + col - 1\n",
    "        board.set_piece_at(field_number, queen)\n",
    "    display(board)"
   ]
  },
  {
   "cell_type": "code",
   "execution_count": null,
   "metadata": {},
   "outputs": [],
   "source": [
    "show_solution(Solution)"
   ]
  },
  {
   "cell_type": "code",
   "execution_count": null,
   "metadata": {},
   "outputs": [],
   "source": []
  }
 ],
 "metadata": {
  "kernelspec": {
   "display_name": "Python 3",
   "language": "python",
   "name": "python3"
  },
  "language_info": {
   "codemirror_mode": {
    "name": "ipython",
    "version": 3
   },
   "file_extension": ".py",
   "mimetype": "text/x-python",
   "name": "python",
   "nbconvert_exporter": "python",
   "pygments_lexer": "ipython3",
   "version": "3.7.6"
  },
  "toc": {
   "base_numbering": 1,
   "nav_menu": {},
   "number_sections": true,
   "sideBar": true,
   "skip_h1_title": false,
   "title_cell": "Table of Contents",
   "title_sidebar": "Contents",
   "toc_cell": false,
   "toc_position": {},
   "toc_section_display": true,
   "toc_window_display": false
  }
 },
 "nbformat": 4,
 "nbformat_minor": 2
}
