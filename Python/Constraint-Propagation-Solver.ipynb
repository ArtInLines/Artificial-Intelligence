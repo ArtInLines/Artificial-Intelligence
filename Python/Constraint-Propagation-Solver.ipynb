{
 "cells": [
  {
   "cell_type": "code",
   "execution_count": 1,
   "metadata": {},
   "outputs": [
    {
     "data": {
      "text/html": [
       "<style>\n",
       ".container { width:100% }\n",
       "</style>\n"
      ],
      "text/plain": [
       "<IPython.core.display.HTML object>"
      ]
     },
     "metadata": {},
     "output_type": "display_data"
    }
   ],
   "source": [
    "%%HTML\n",
    "<style>\n",
    ".container { width:100% }\n",
    "</style>"
   ]
  },
  {
   "cell_type": "markdown",
   "metadata": {},
   "source": [
    "# A Backtracking Solver with Constraint Propagation"
   ]
  },
  {
   "cell_type": "markdown",
   "metadata": {},
   "source": [
    "## Utility Functions"
   ]
  },
  {
   "cell_type": "markdown",
   "metadata": {},
   "source": [
    "The module `extractVariables` implements the function $\\texttt{extractVars}(e)$ that takes a *Python* expression $e$ as its argument and returns the set of all variables and function names occurring in $e$."
   ]
  },
  {
   "cell_type": "code",
   "execution_count": 2,
   "metadata": {},
   "outputs": [],
   "source": [
    "import extractVariables as ev"
   ]
  },
  {
   "cell_type": "markdown",
   "metadata": {},
   "source": [
    "The function `collect_variables(expr)` takes a string `expr` that can be interpreted as a Python expression as input and collects all variables occurring in `expr`.  It takes care to eliminate the function symbols from the names returned by `extract_variables`."
   ]
  },
  {
   "cell_type": "code",
   "execution_count": 3,
   "metadata": {},
   "outputs": [],
   "source": [
    "def collect_variables(expr):\n",
    "    return frozenset(var for var in ev.extractVars(expr)\n",
    "                         if  var not in dir(__builtins__)\n",
    "                    )"
   ]
  },
  {
   "cell_type": "markdown",
   "metadata": {},
   "source": [
    "The function `arb(S)` takes a set `S` as input and returns an arbitrary element from \n",
    "this set."
   ]
  },
  {
   "cell_type": "code",
   "execution_count": 4,
   "metadata": {},
   "outputs": [],
   "source": [
    "def arb(S):\n",
    "    for x in S:\n",
    "        return x"
   ]
  },
  {
   "cell_type": "markdown",
   "metadata": {},
   "source": [
    "Backtracking is simulated by raising the `Backtrack` exception.  We define this new class of exceptions so that we can distinguish `Backtrack` exceptions from ordinary exceptions.  This is done by creating a new, empty class that is derived from the class `Exception`.  "
   ]
  },
  {
   "cell_type": "code",
   "execution_count": 5,
   "metadata": {},
   "outputs": [],
   "source": [
    "class Backtrack(Exception):\n",
    "    pass"
   ]
  },
  {
   "cell_type": "markdown",
   "metadata": {},
   "source": [
    "Given a list of sets `L`, the function `union(L)` returns the set of all elements occurring in some set $S$ that is itself a member of the list `L`, i.e. we have\n",
    "$$ \\texttt{union}(L) = \\{ x \\mid \\exists S \\in L : x \\in L \\}. $$ "
   ]
  },
  {
   "cell_type": "code",
   "execution_count": 6,
   "metadata": {},
   "outputs": [],
   "source": [
    "def union(L):\n",
    "    return { x for S in L\n",
    "               for x in S\n",
    "           }"
   ]
  },
  {
   "cell_type": "code",
   "execution_count": 7,
   "metadata": {},
   "outputs": [
    {
     "data": {
      "text/plain": [
       "{1, 2, 'a', 'b'}"
      ]
     },
     "execution_count": 7,
     "metadata": {},
     "output_type": "execute_result"
    }
   ],
   "source": [
    "union([ {1, 2}, {'a', 'b'}, {1, 'a'} ])"
   ]
  },
  {
   "cell_type": "markdown",
   "metadata": {},
   "source": [
    "## The Constraint Propagation Solver"
   ]
  },
  {
   "cell_type": "markdown",
   "metadata": {},
   "source": [
    "The procedure $\\texttt{solve}(\\mathcal{P})$ takes a a <b style=\"color:blue\">constraint satisfaction problem</b> \n",
    "$\\mathcal{P}$ as input.  Here $\\mathcal{P}$ is a triple of the form \n",
    "$$ \\mathcal{P} = \\langle \\mathtt{Variables}, \\mathtt{Values}, \\mathtt{Constraints} \\rangle $$\n",
    "where \n",
    "- $\\mathtt{Variables}$ is a set of strings which serve as <b style=\"color:blue\">variables</b>,\n",
    "- $\\mathtt{Values}$ is a set of <b style=\"color:blue\">values</b> that can be assigned \n",
    "  to the variables in the set $\\mathtt{Variables}$.\n",
    "- $\\mathtt{Constraints}$ is a set of <b style=\"color:blue\">formulas</b> from first order logic.  \n",
    "  Each of these formulas is  called a <b style=\"color:blue\">constraint</b> of $\\mathcal{P}$.\n",
    "  \n",
    "The function `solve` converts the CSP $\\mathcal{P}$ into an <b style=\"color:blue\">augmented CSP</b> where every constraint $f$ is annotated with the variables occurring in $f$.  The most important data structure maintained by `solve` is the dictionary `ValuesPerVar`.  For every variable $x$ occurring in a constraint of `P`, the expression $\\texttt{ValuesPerVar}(x)$ is the set of values that can be used to instantiate the variable $x$.  Initially, \n",
    "$\\texttt{ValuesPerVar}(x)$ is set to `Values`, but as the search for a solution proceeds, the sets $\\texttt{ValuesPerVar}(x)$ are reduced by removing any values that cannot be part of a solution.\n",
    "\n",
    "Next, it divides the constraints into two groups:\n",
    "- The <em style=\"color:blue\">unary</em> constraints are those constraint that contain only a single variable.\n",
    "\n",
    "  The unary constraints are immediately solved: If $f$ is a unary constraint containing only the variable $x$, the set $\\texttt{ValuesPerVar}(x)$ is reduced to the set of those values $v$ such that $f[x\\mapsto v]$ is true.\n",
    "- The remaining constraints contain at least two different variables.\n",
    "\n",
    "After the unary constraints have been taken care of, `backtrack_search` is called to solve the remaining constraint satisfaction problem."
   ]
  },
  {
   "cell_type": "code",
   "execution_count": 8,
   "metadata": {},
   "outputs": [],
   "source": [
    "def solve(P):\n",
    "    Variables, Values, Constraints = P\n",
    "    VarsInConstrs  = union([ collect_variables(f) for f in Constraints ])\n",
    "    MisspelledVars = (VarsInConstrs - Variables) | (Variables - VarsInConstrs)\n",
    "    if len(MisspelledVars) > 0:\n",
    "        print(\"Did you misspell any of the following Variables?\")\n",
    "        for v in MisspelledVars:\n",
    "            print(v)\n",
    "    Annotated    = { (f, collect_variables(f)) for f in Constraints }\n",
    "    ValuesPerVar = { v: Values for v in Variables }\n",
    "    UnaryConstrs = { (f, V) for f, V in Annotated\n",
    "                            if  len(V) == 1\n",
    "                   }\n",
    "    OtherConstrs = { (f, V) for f, V in Annotated\n",
    "                            if  len(V) >= 2\n",
    "                   }\n",
    "    try:\n",
    "        for f, V in UnaryConstrs:\n",
    "            var = arb(V)\n",
    "            ValuesPerVar[var] = solve_unary(f, var, ValuesPerVar[var])\n",
    "        return backtrack_search({}, ValuesPerVar, OtherConstrs)\n",
    "    except Backtrack:\n",
    "        return None"
   ]
  },
  {
   "cell_type": "markdown",
   "metadata": {},
   "source": [
    "The function `solve_unary` takes a unary constraint `f`, a variable `x` and the set of values `Values` that can be assigned to `x`.  It returns the subset of those values `v` that can be substituted for `x` such that $f[x\\mapsto v]$ evaluates as `True`."
   ]
  },
  {
   "cell_type": "code",
   "execution_count": 9,
   "metadata": {},
   "outputs": [],
   "source": [
    "def solve_unary(f, x, Values):\n",
    "    Legal = { value for value in Values \n",
    "                    if  eval(f, { x: value })\n",
    "            }\n",
    "    if len(Legal) == 0:\n",
    "        raise Backtrack()\n",
    "    return Legal"
   ]
  },
  {
   "cell_type": "markdown",
   "metadata": {},
   "source": [
    "The function `backtrack_search` takes three arguments:\n",
    "- `Assignment` is a partial variable assignment that is represented as a\n",
    "   dictionary.  Initially, this assignment will be the  empty dictionary.     \n",
    "   Every recursive call of `backtrack_search` adds the assignment of one \n",
    "   variable to  the given assignment. \n",
    "- `ValuesPerVar` is a dictionary.  For every variable `x`, `ValuesPerVar[x]` is the set of values that still might be assigned to `x`.\n",
    "- `Constraints` is a set of pairs of the form `(F, V)` where `F` is a constraint and `V` is the set of variables occurring in `V`."
   ]
  },
  {
   "cell_type": "code",
   "execution_count": 10,
   "metadata": {},
   "outputs": [],
   "source": [
    "def backtrack_search(Assignment, ValuesPerVar, Constraints):\n",
    "    print(Assignment)\n",
    "    if len(Assignment) == len(ValuesPerVar):\n",
    "        return Assignment\n",
    "    x = most_constrained_variable(Assignment, ValuesPerVar)\n",
    "    for v in ValuesPerVar[x]:\n",
    "        try:\n",
    "            if is_consistent(x, v, Assignment, Constraints):\n",
    "                NewValues = propagate(x, v, Assignment, Constraints, ValuesPerVar)\n",
    "                NewAssign = Assignment.copy()\n",
    "                NewAssign[x] = v\n",
    "                return backtrack_search(NewAssign, NewValues, Constraints)\n",
    "        except Backtrack:\n",
    "            continue\n",
    "    raise Backtrack()"
   ]
  },
  {
   "cell_type": "markdown",
   "metadata": {},
   "source": [
    "The function `most_constrained_variable` takes two parameters:\n",
    "- `Assigment` is a *partial variable assignment* that assigns values to variables.  It is represented as a dictionary.\n",
    "- `ValuesPerVar` is a dictionary that has variables as keys.  For every variable `x`, `ValuesPerVar[x]` is the set of values that be assigned to the variable `x`.\n",
    "The function returns an unassigned variable `x` such that the number of values in `ValuesPerVar[x]` is minimal among all other unassigned variables."
   ]
  },
  {
   "cell_type": "code",
   "execution_count": 11,
   "metadata": {},
   "outputs": [],
   "source": [
    "def most_constrained_variable(Assignment, ValuesPerVar):\n",
    "    Unassigned = { (x, len(U)) for x, U in ValuesPerVar.items()\n",
    "                               if  x not in Assignment\n",
    "                 }\n",
    "    minSize = min(lenU for x, lenU in Unassigned)\n",
    "    for x, lenU in Unassigned:\n",
    "        if lenU == minSize:\n",
    "            return x"
   ]
  },
  {
   "cell_type": "markdown",
   "metadata": {},
   "source": [
    "The function `propagate` takes five arguments:\n",
    "- `x` is a variable,\n",
    "- `v` is a value that is supposed to be assigned to `x`.\n",
    "- `Assignment` is a partial assignment that contains assignments for variables that are different from `x`.\n",
    "- `Constraints` is a set of annotated constraints.\n",
    "- `ValuesPerVar` is a dictionary assigning sets of values to all variables.  For every unassigned variable `z`,  `ValuesPerVar[z]` is the set of values that still might be assigned to `z`.\n",
    "\n",
    "The purpose of the function  `propagate` is to compute how the sets `ValuesPerVar[z]` can be shrunk when the value `v` is assigned to the variable `x`.  The dictionary `ValuesPerVar` with appropriately reduced sets `ValuesPerVar[z]` is returned."
   ]
  },
  {
   "cell_type": "code",
   "execution_count": 12,
   "metadata": {},
   "outputs": [],
   "source": [
    "def propagate(x, v, Assignment, Constraints, ValuesPerVar):\n",
    "    ValuesDict = ValuesPerVar.copy()\n",
    "    ValuesDict[x] = { v }\n",
    "    BoundVars = set(Assignment.keys())\n",
    "    for F, Vars in Constraints:\n",
    "        if x in Vars:\n",
    "            UnboundVars = Vars - BoundVars - { x }\n",
    "            if len(UnboundVars) == 1:\n",
    "                y = arb(UnboundVars)\n",
    "                Legal = set()\n",
    "                for w in ValuesDict[y]:\n",
    "                    NewAssign = Assignment.copy()\n",
    "                    NewAssign[x] = v\n",
    "                    NewAssign[y] = w\n",
    "                    if eval(F, NewAssign):\n",
    "                        Legal.add(w)\n",
    "                if len(Legal) == 0:\n",
    "                    raise Backtrack()\n",
    "                ValuesDict[y] = Legal\n",
    "    return ValuesDict"
   ]
  },
  {
   "cell_type": "markdown",
   "metadata": {},
   "source": [
    "The function $\\texttt{is_consistent}(\\texttt{var}, \\texttt{value}, \\texttt{Assignment}, \\texttt{csp})$ takes four arguments:\n",
    "<ol>\n",
    "    <li>$\\texttt{var}$ is a variable that does not occur in $\\texttt{Assignment}$,</li>\n",
    "    <li>$\\texttt{value}$ is a value that can be substituted for this variable,</li>\n",
    "    <li>$\\texttt{Assignment}$ is a <b style=\"color:blue\">consistent</b> partial variable assignment.         A partial variable assignment $A$ is <b style=\"color:blue\">consistent</b> if all\n",
    "        constraints $f$ that contain only variables from the set $\\mathtt{dom}(A)$ are satisfied.\n",
    "    <li>$\\texttt{csp}$ is an <b style=\"color:blue\">augmented</b> constraint satisfaction problem.</li>\n",
    "</ol>\n",
    "This function returns <tt>True</tt> iff the partial variable assignment \n",
    "$$\\texttt{Assignment} \\cup \\{\\langle\\texttt{var} \\mapsto\\texttt{value}\\rangle\\}$$\n",
    "is consistent with all the constraints occurring in $\\texttt{csp}$."
   ]
  },
  {
   "cell_type": "code",
   "execution_count": 13,
   "metadata": {},
   "outputs": [],
   "source": [
    "def is_consistent(var, value, Assignment, Constraints):\n",
    "    NewAssign      = Assignment.copy()\n",
    "    NewAssign[var] = value\n",
    "    return all(eval(f, NewAssign) for (f, Vs) in Constraints\n",
    "                                  if  var in Vs and Vs <= NewAssign.keys()\n",
    "              )"
   ]
  },
  {
   "cell_type": "markdown",
   "metadata": {},
   "source": [
    "## Solving the *Eight-Queens-Puzzle*"
   ]
  },
  {
   "cell_type": "code",
   "execution_count": null,
   "metadata": {},
   "outputs": [],
   "source": [
    "%run N-Queens-Problem-CSP.ipynb"
   ]
  },
  {
   "cell_type": "code",
   "execution_count": null,
   "metadata": {},
   "outputs": [],
   "source": [
    "P = create_csp(8)"
   ]
  },
  {
   "cell_type": "markdown",
   "metadata": {},
   "source": [
    "Constraint Propagation takes about 11 milliseconds on my desktop to solve the eight queens puzzle."
   ]
  },
  {
   "cell_type": "code",
   "execution_count": null,
   "metadata": {},
   "outputs": [],
   "source": [
    "%%time\n",
    "Solution = solve(P)\n",
    "print(f'Solution = {Solution}')"
   ]
  },
  {
   "cell_type": "code",
   "execution_count": null,
   "metadata": {},
   "outputs": [],
   "source": [
    "show_solution(Solution)"
   ]
  },
  {
   "cell_type": "markdown",
   "metadata": {},
   "source": [
    "## Solving the *Zebra Puzzle*"
   ]
  },
  {
   "cell_type": "code",
   "execution_count": null,
   "metadata": {},
   "outputs": [],
   "source": [
    "%run Zebra.ipynb"
   ]
  },
  {
   "cell_type": "code",
   "execution_count": null,
   "metadata": {},
   "outputs": [],
   "source": [
    "zebra = zebra_csp()"
   ]
  },
  {
   "cell_type": "markdown",
   "metadata": {},
   "source": [
    "Constraint propagation takes about 17 milliseconds to solve the *Zebra Puzzle*."
   ]
  },
  {
   "cell_type": "code",
   "execution_count": null,
   "metadata": {
    "scrolled": true
   },
   "outputs": [],
   "source": [
    "%%time\n",
    "Solution = solve(zebra)"
   ]
  },
  {
   "cell_type": "code",
   "execution_count": null,
   "metadata": {},
   "outputs": [],
   "source": [
    "show_solution(Solution)"
   ]
  },
  {
   "cell_type": "markdown",
   "metadata": {},
   "source": [
    "## Solving a Sudoku Puzzle"
   ]
  },
  {
   "cell_type": "code",
   "execution_count": 14,
   "metadata": {},
   "outputs": [
    {
     "data": {
      "text/html": [
       "<style>\n",
       ".container { width:100% }\n",
       "</style>\n"
      ],
      "text/plain": [
       "<IPython.core.display.HTML object>"
      ]
     },
     "metadata": {},
     "output_type": "display_data"
    }
   ],
   "source": [
    "%run Sudoku.ipynb"
   ]
  },
  {
   "cell_type": "code",
   "execution_count": 15,
   "metadata": {
    "scrolled": true
   },
   "outputs": [
    {
     "data": {
      "text/plain": [
       "({'V11',\n",
       "  'V14',\n",
       "  'V15',\n",
       "  'V16',\n",
       "  'V17',\n",
       "  'V18',\n",
       "  'V21',\n",
       "  'V22',\n",
       "  'V23',\n",
       "  'V25',\n",
       "  'V26',\n",
       "  'V31',\n",
       "  'V32',\n",
       "  'V33',\n",
       "  'V34',\n",
       "  'V37',\n",
       "  'V41',\n",
       "  'V42',\n",
       "  'V43',\n",
       "  'V45',\n",
       "  'V49',\n",
       "  'V51',\n",
       "  'V52',\n",
       "  'V53',\n",
       "  'V54',\n",
       "  'V56',\n",
       "  'V58',\n",
       "  'V59',\n",
       "  'V63',\n",
       "  'V64',\n",
       "  'V65',\n",
       "  'V66',\n",
       "  'V67',\n",
       "  'V68',\n",
       "  'V69',\n",
       "  'V71',\n",
       "  'V72',\n",
       "  'V75',\n",
       "  'V77',\n",
       "  'V78',\n",
       "  'V81',\n",
       "  'V84',\n",
       "  'V85',\n",
       "  'V86',\n",
       "  'V87',\n",
       "  'V89',\n",
       "  'V92',\n",
       "  'V93',\n",
       "  'V94',\n",
       "  'V95',\n",
       "  'V96',\n",
       "  'V98',\n",
       "  'V99'},\n",
       " {1, 2, 3, 4, 5, 6, 7, 8, 9},\n",
       " {'1 != V23',\n",
       "  '1 != V33',\n",
       "  '1 != V43',\n",
       "  '1 != V49',\n",
       "  '1 != V53',\n",
       "  '1 != V59',\n",
       "  '1 != V63',\n",
       "  '1 != V69',\n",
       "  '1 != V71',\n",
       "  '1 != V72',\n",
       "  '1 != V75',\n",
       "  '1 != V77',\n",
       "  '1 != V78',\n",
       "  '1 != V81',\n",
       "  '1 != V84',\n",
       "  '1 != V85',\n",
       "  '1 != V86',\n",
       "  '1 != V87',\n",
       "  '1 != V89',\n",
       "  '1 != V92',\n",
       "  '1 != V93',\n",
       "  '1 != V98',\n",
       "  '1 != V99',\n",
       "  '2 != V14',\n",
       "  '2 != V17',\n",
       "  '2 != V18',\n",
       "  '2 != V21',\n",
       "  '2 != V22',\n",
       "  '2 != V23',\n",
       "  '2 != V25',\n",
       "  '2 != V26',\n",
       "  '2 != V32',\n",
       "  '2 != V34',\n",
       "  '2 != V37',\n",
       "  '2 != V41',\n",
       "  '2 != V42',\n",
       "  '2 != V43',\n",
       "  '2 != V45',\n",
       "  '2 != V49',\n",
       "  '2 != V52',\n",
       "  '2 != V54',\n",
       "  '2 != V58',\n",
       "  '2 != V59',\n",
       "  '2 != V64',\n",
       "  '2 != V67',\n",
       "  '2 != V68',\n",
       "  '2 != V69',\n",
       "  '2 != V71',\n",
       "  '2 != V72',\n",
       "  '2 != V75',\n",
       "  '2 != V77',\n",
       "  '2 != V78',\n",
       "  '2 != V81',\n",
       "  '2 != V84',\n",
       "  '2 != V85',\n",
       "  '2 != V86',\n",
       "  '2 != V87',\n",
       "  '2 != V89',\n",
       "  '2 != V92',\n",
       "  '2 != V93',\n",
       "  '2 != V94',\n",
       "  '2 != V95',\n",
       "  '2 != V96',\n",
       "  '2 != V99',\n",
       "  '3 != V11',\n",
       "  '3 != V14',\n",
       "  '3 != V15',\n",
       "  '3 != V16',\n",
       "  '3 != V17',\n",
       "  '3 != V18',\n",
       "  '3 != V21',\n",
       "  '3 != V22',\n",
       "  '3 != V23',\n",
       "  '3 != V26',\n",
       "  '3 != V31',\n",
       "  '3 != V32',\n",
       "  '3 != V33',\n",
       "  '3 != V34',\n",
       "  '3 != V37',\n",
       "  '3 != V41',\n",
       "  '3 != V42',\n",
       "  '3 != V43',\n",
       "  '3 != V45',\n",
       "  '3 != V49',\n",
       "  '3 != V52',\n",
       "  '3 != V54',\n",
       "  '3 != V56',\n",
       "  '3 != V59',\n",
       "  '3 != V64',\n",
       "  '3 != V65',\n",
       "  '3 != V66',\n",
       "  '3 != V69',\n",
       "  '3 != V72',\n",
       "  '3 != V86',\n",
       "  '3 != V89',\n",
       "  '3 != V92',\n",
       "  '3 != V96',\n",
       "  '3 != V99',\n",
       "  '4 != V15',\n",
       "  '4 != V17',\n",
       "  '4 != V18',\n",
       "  '4 != V21',\n",
       "  '4 != V22',\n",
       "  '4 != V23',\n",
       "  '4 != V25',\n",
       "  '4 != V26',\n",
       "  '4 != V37',\n",
       "  '4 != V45',\n",
       "  '4 != V51',\n",
       "  '4 != V52',\n",
       "  '4 != V53',\n",
       "  '4 != V54',\n",
       "  '4 != V56',\n",
       "  '4 != V58',\n",
       "  '4 != V59',\n",
       "  '4 != V64',\n",
       "  '4 != V65',\n",
       "  '4 != V66',\n",
       "  '4 != V67',\n",
       "  '4 != V68',\n",
       "  '4 != V75',\n",
       "  '4 != V77',\n",
       "  '4 != V78',\n",
       "  '4 != V81',\n",
       "  '4 != V84',\n",
       "  '4 != V85',\n",
       "  '4 != V86',\n",
       "  '4 != V87',\n",
       "  '4 != V89',\n",
       "  '4 != V95',\n",
       "  '4 != V98',\n",
       "  '4 != V99',\n",
       "  '5 != V11',\n",
       "  '5 != V14',\n",
       "  '5 != V15',\n",
       "  '5 != V16',\n",
       "  '5 != V17',\n",
       "  '5 != V21',\n",
       "  '5 != V23',\n",
       "  '5 != V25',\n",
       "  '5 != V26',\n",
       "  '5 != V31',\n",
       "  '5 != V32',\n",
       "  '5 != V33',\n",
       "  '5 != V34',\n",
       "  '5 != V37',\n",
       "  '5 != V41',\n",
       "  '5 != V42',\n",
       "  '5 != V43',\n",
       "  '5 != V51',\n",
       "  '5 != V52',\n",
       "  '5 != V53',\n",
       "  '5 != V56',\n",
       "  '5 != V63',\n",
       "  '5 != V64',\n",
       "  '5 != V65',\n",
       "  '5 != V66',\n",
       "  '5 != V67',\n",
       "  '5 != V68',\n",
       "  '5 != V69',\n",
       "  '5 != V71',\n",
       "  '5 != V72',\n",
       "  '5 != V75',\n",
       "  '5 != V77',\n",
       "  '5 != V78',\n",
       "  '5 != V81',\n",
       "  '5 != V86',\n",
       "  '5 != V87',\n",
       "  '5 != V89',\n",
       "  '5 != V92',\n",
       "  '5 != V93',\n",
       "  '5 != V94',\n",
       "  '5 != V95',\n",
       "  '5 != V96',\n",
       "  '5 != V98',\n",
       "  '5 != V99',\n",
       "  '6 != V14',\n",
       "  '6 != V15',\n",
       "  '6 != V16',\n",
       "  '6 != V22',\n",
       "  '6 != V25',\n",
       "  '6 != V26',\n",
       "  '6 != V31',\n",
       "  '6 != V32',\n",
       "  '6 != V33',\n",
       "  '6 != V34',\n",
       "  '6 != V37',\n",
       "  '6 != V41',\n",
       "  '6 != V42',\n",
       "  '6 != V43',\n",
       "  '6 != V45',\n",
       "  '6 != V49',\n",
       "  '6 != V51',\n",
       "  '6 != V52',\n",
       "  '6 != V53',\n",
       "  '6 != V54',\n",
       "  '6 != V56',\n",
       "  '6 != V63',\n",
       "  '6 != V64',\n",
       "  '6 != V65',\n",
       "  '6 != V66',\n",
       "  '6 != V67',\n",
       "  '6 != V68',\n",
       "  '6 != V69',\n",
       "  '6 != V72',\n",
       "  '6 != V75',\n",
       "  '6 != V84',\n",
       "  '6 != V85',\n",
       "  '6 != V92',\n",
       "  '6 != V94',\n",
       "  '6 != V95',\n",
       "  '7 != V11',\n",
       "  '7 != V14',\n",
       "  '7 != V15',\n",
       "  '7 != V16',\n",
       "  '7 != V17',\n",
       "  '7 != V18',\n",
       "  '7 != V21',\n",
       "  '7 != V22',\n",
       "  '7 != V23',\n",
       "  '7 != V25',\n",
       "  '7 != V26',\n",
       "  '7 != V31',\n",
       "  '7 != V34',\n",
       "  '7 != V37',\n",
       "  '7 != V41',\n",
       "  '7 != V42',\n",
       "  '7 != V43',\n",
       "  '7 != V45',\n",
       "  '7 != V49',\n",
       "  '7 != V51',\n",
       "  '7 != V54',\n",
       "  '7 != V58',\n",
       "  '7 != V59',\n",
       "  '7 != V64',\n",
       "  '7 != V67',\n",
       "  '7 != V68',\n",
       "  '7 != V69',\n",
       "  '7 != V71',\n",
       "  '7 != V72',\n",
       "  '7 != V78',\n",
       "  '7 != V81',\n",
       "  '7 != V84',\n",
       "  '7 != V89',\n",
       "  '7 != V92',\n",
       "  '7 != V93',\n",
       "  '7 != V94',\n",
       "  '7 != V95',\n",
       "  '7 != V96',\n",
       "  '7 != V98',\n",
       "  '7 != V99',\n",
       "  '8 != V17',\n",
       "  '8 != V18',\n",
       "  '8 != V31',\n",
       "  '8 != V32',\n",
       "  '8 != V33',\n",
       "  '8 != V34',\n",
       "  '8 != V37',\n",
       "  '8 != V49',\n",
       "  '8 != V51',\n",
       "  '8 != V52',\n",
       "  '8 != V53',\n",
       "  '8 != V54',\n",
       "  '8 != V56',\n",
       "  '8 != V58',\n",
       "  '8 != V59',\n",
       "  '8 != V67',\n",
       "  '8 != V68',\n",
       "  '8 != V69',\n",
       "  '8 != V77',\n",
       "  '8 != V78',\n",
       "  '8 != V87',\n",
       "  '8 != V98',\n",
       "  '9 != V11',\n",
       "  '9 != V14',\n",
       "  '9 != V15',\n",
       "  '9 != V16',\n",
       "  '9 != V17',\n",
       "  '9 != V18',\n",
       "  '9 != V21',\n",
       "  '9 != V22',\n",
       "  '9 != V23',\n",
       "  '9 != V25',\n",
       "  '9 != V26',\n",
       "  '9 != V31',\n",
       "  '9 != V32',\n",
       "  '9 != V33',\n",
       "  '9 != V37',\n",
       "  '9 != V43',\n",
       "  '9 != V53',\n",
       "  '9 != V56',\n",
       "  '9 != V58',\n",
       "  '9 != V63',\n",
       "  '9 != V66',\n",
       "  '9 != V68',\n",
       "  '9 != V71',\n",
       "  '9 != V72',\n",
       "  '9 != V75',\n",
       "  '9 != V77',\n",
       "  '9 != V78',\n",
       "  '9 != V84',\n",
       "  '9 != V85',\n",
       "  '9 != V86',\n",
       "  '9 != V93',\n",
       "  '9 != V94',\n",
       "  '9 != V95',\n",
       "  '9 != V96',\n",
       "  '9 != V98',\n",
       "  'V11 != V14',\n",
       "  'V11 != V15',\n",
       "  'V11 != V16',\n",
       "  'V11 != V17',\n",
       "  'V11 != V18',\n",
       "  'V11 != V21',\n",
       "  'V11 != V22',\n",
       "  'V11 != V23',\n",
       "  'V11 != V31',\n",
       "  'V11 != V32',\n",
       "  'V11 != V33',\n",
       "  'V11 != V41',\n",
       "  'V11 != V51',\n",
       "  'V11 != V71',\n",
       "  'V11 != V81',\n",
       "  'V14 != V15',\n",
       "  'V14 != V16',\n",
       "  'V14 != V17',\n",
       "  'V14 != V18',\n",
       "  'V14 != V25',\n",
       "  'V14 != V26',\n",
       "  'V14 != V34',\n",
       "  'V14 != V54',\n",
       "  'V14 != V64',\n",
       "  'V14 != V84',\n",
       "  'V14 != V94',\n",
       "  'V15 != V16',\n",
       "  'V15 != V17',\n",
       "  'V15 != V18',\n",
       "  'V15 != V25',\n",
       "  'V15 != V26',\n",
       "  'V15 != V34',\n",
       "  'V15 != V45',\n",
       "  'V15 != V65',\n",
       "  'V15 != V75',\n",
       "  'V15 != V85',\n",
       "  'V15 != V95',\n",
       "  'V16 != V17',\n",
       "  'V16 != V18',\n",
       "  'V16 != V25',\n",
       "  'V16 != V26',\n",
       "  'V16 != V34',\n",
       "  'V16 != V56',\n",
       "  'V16 != V66',\n",
       "  'V16 != V86',\n",
       "  'V16 != V96',\n",
       "  'V17 != V18',\n",
       "  'V17 != V37',\n",
       "  'V17 != V67',\n",
       "  'V17 != V77',\n",
       "  'V17 != V87',\n",
       "  'V18 != V37',\n",
       "  'V18 != V58',\n",
       "  'V18 != V68',\n",
       "  'V18 != V78',\n",
       "  'V18 != V98',\n",
       "  'V21 != V22',\n",
       "  'V21 != V23',\n",
       "  'V21 != V25',\n",
       "  'V21 != V26',\n",
       "  'V21 != V31',\n",
       "  'V21 != V32',\n",
       "  'V21 != V33',\n",
       "  'V21 != V41',\n",
       "  'V21 != V51',\n",
       "  'V21 != V71',\n",
       "  'V21 != V81',\n",
       "  'V22 != V23',\n",
       "  'V22 != V25',\n",
       "  'V22 != V26',\n",
       "  'V22 != V31',\n",
       "  'V22 != V32',\n",
       "  'V22 != V33',\n",
       "  'V22 != V42',\n",
       "  'V22 != V52',\n",
       "  'V22 != V72',\n",
       "  'V22 != V92',\n",
       "  'V23 != V25',\n",
       "  'V23 != V26',\n",
       "  'V23 != V31',\n",
       "  'V23 != V32',\n",
       "  'V23 != V33',\n",
       "  'V23 != V43',\n",
       "  'V23 != V53',\n",
       "  'V23 != V63',\n",
       "  'V23 != V93',\n",
       "  'V25 != V26',\n",
       "  'V25 != V34',\n",
       "  'V25 != V45',\n",
       "  'V25 != V65',\n",
       "  'V25 != V75',\n",
       "  'V25 != V85',\n",
       "  'V25 != V95',\n",
       "  'V26 != V34',\n",
       "  'V26 != V56',\n",
       "  'V26 != V66',\n",
       "  'V26 != V86',\n",
       "  'V26 != V96',\n",
       "  'V31 != V32',\n",
       "  'V31 != V33',\n",
       "  'V31 != V34',\n",
       "  'V31 != V37',\n",
       "  'V31 != V41',\n",
       "  'V31 != V51',\n",
       "  'V31 != V71',\n",
       "  'V31 != V81',\n",
       "  'V32 != V33',\n",
       "  'V32 != V34',\n",
       "  'V32 != V37',\n",
       "  'V32 != V42',\n",
       "  'V32 != V52',\n",
       "  'V32 != V72',\n",
       "  'V32 != V92',\n",
       "  'V33 != V34',\n",
       "  'V33 != V37',\n",
       "  'V33 != V43',\n",
       "  'V33 != V53',\n",
       "  'V33 != V63',\n",
       "  'V33 != V93',\n",
       "  'V34 != V37',\n",
       "  'V34 != V54',\n",
       "  'V34 != V64',\n",
       "  'V34 != V84',\n",
       "  'V34 != V94',\n",
       "  'V37 != V67',\n",
       "  'V37 != V77',\n",
       "  'V37 != V87',\n",
       "  'V41 != V42',\n",
       "  'V41 != V43',\n",
       "  'V41 != V45',\n",
       "  'V41 != V49',\n",
       "  'V41 != V51',\n",
       "  'V41 != V52',\n",
       "  'V41 != V53',\n",
       "  'V41 != V63',\n",
       "  'V41 != V71',\n",
       "  'V41 != V81',\n",
       "  'V42 != V43',\n",
       "  'V42 != V45',\n",
       "  'V42 != V49',\n",
       "  'V42 != V51',\n",
       "  'V42 != V52',\n",
       "  'V42 != V53',\n",
       "  'V42 != V63',\n",
       "  'V42 != V72',\n",
       "  'V42 != V92',\n",
       "  'V43 != V45',\n",
       "  'V43 != V49',\n",
       "  'V43 != V51',\n",
       "  'V43 != V52',\n",
       "  'V43 != V53',\n",
       "  'V43 != V63',\n",
       "  'V43 != V93',\n",
       "  'V45 != V49',\n",
       "  'V45 != V54',\n",
       "  'V45 != V56',\n",
       "  'V45 != V64',\n",
       "  'V45 != V65',\n",
       "  'V45 != V66',\n",
       "  'V45 != V75',\n",
       "  'V45 != V85',\n",
       "  'V45 != V95',\n",
       "  'V49 != V58',\n",
       "  'V49 != V59',\n",
       "  'V49 != V67',\n",
       "  'V49 != V68',\n",
       "  'V49 != V69',\n",
       "  'V49 != V89',\n",
       "  'V49 != V99',\n",
       "  'V51 != V52',\n",
       "  'V51 != V53',\n",
       "  'V51 != V54',\n",
       "  'V51 != V56',\n",
       "  'V51 != V58',\n",
       "  'V51 != V59',\n",
       "  'V51 != V63',\n",
       "  'V51 != V71',\n",
       "  'V51 != V81',\n",
       "  'V52 != V53',\n",
       "  'V52 != V54',\n",
       "  'V52 != V56',\n",
       "  'V52 != V58',\n",
       "  'V52 != V59',\n",
       "  'V52 != V63',\n",
       "  'V52 != V72',\n",
       "  'V52 != V92',\n",
       "  'V53 != V54',\n",
       "  'V53 != V56',\n",
       "  'V53 != V58',\n",
       "  'V53 != V59',\n",
       "  'V53 != V63',\n",
       "  'V53 != V93',\n",
       "  'V54 != V56',\n",
       "  'V54 != V58',\n",
       "  'V54 != V59',\n",
       "  'V54 != V64',\n",
       "  'V54 != V65',\n",
       "  'V54 != V66',\n",
       "  'V54 != V84',\n",
       "  'V54 != V94',\n",
       "  'V56 != V58',\n",
       "  'V56 != V59',\n",
       "  'V56 != V64',\n",
       "  'V56 != V65',\n",
       "  'V56 != V66',\n",
       "  'V56 != V86',\n",
       "  'V56 != V96',\n",
       "  'V58 != V59',\n",
       "  'V58 != V67',\n",
       "  'V58 != V68',\n",
       "  'V58 != V69',\n",
       "  'V58 != V78',\n",
       "  'V58 != V98',\n",
       "  'V59 != V67',\n",
       "  'V59 != V68',\n",
       "  'V59 != V69',\n",
       "  'V59 != V89',\n",
       "  'V59 != V99',\n",
       "  'V63 != V64',\n",
       "  'V63 != V65',\n",
       "  'V63 != V66',\n",
       "  'V63 != V67',\n",
       "  'V63 != V68',\n",
       "  'V63 != V69',\n",
       "  'V63 != V93',\n",
       "  'V64 != V65',\n",
       "  'V64 != V66',\n",
       "  'V64 != V67',\n",
       "  'V64 != V68',\n",
       "  'V64 != V69',\n",
       "  'V64 != V84',\n",
       "  'V64 != V94',\n",
       "  'V65 != V66',\n",
       "  'V65 != V67',\n",
       "  'V65 != V68',\n",
       "  'V65 != V69',\n",
       "  'V65 != V75',\n",
       "  'V65 != V85',\n",
       "  'V65 != V95',\n",
       "  'V66 != V67',\n",
       "  'V66 != V68',\n",
       "  'V66 != V69',\n",
       "  'V66 != V86',\n",
       "  'V66 != V96',\n",
       "  'V67 != V68',\n",
       "  'V67 != V69',\n",
       "  'V67 != V77',\n",
       "  'V67 != V87',\n",
       "  'V68 != V69',\n",
       "  'V68 != V78',\n",
       "  'V68 != V98',\n",
       "  'V69 != V89',\n",
       "  'V69 != V99',\n",
       "  'V71 != V72',\n",
       "  'V71 != V75',\n",
       "  'V71 != V77',\n",
       "  'V71 != V78',\n",
       "  'V71 != V81',\n",
       "  'V71 != V92',\n",
       "  'V71 != V93',\n",
       "  'V72 != V75',\n",
       "  'V72 != V77',\n",
       "  'V72 != V78',\n",
       "  'V72 != V81',\n",
       "  'V72 != V92',\n",
       "  'V72 != V93',\n",
       "  'V75 != V77',\n",
       "  'V75 != V78',\n",
       "  'V75 != V84',\n",
       "  'V75 != V85',\n",
       "  'V75 != V86',\n",
       "  'V75 != V94',\n",
       "  'V75 != V95',\n",
       "  'V75 != V96',\n",
       "  'V77 != V78',\n",
       "  'V77 != V87',\n",
       "  'V77 != V89',\n",
       "  'V77 != V98',\n",
       "  'V77 != V99',\n",
       "  'V78 != V87',\n",
       "  'V78 != V89',\n",
       "  'V78 != V98',\n",
       "  'V78 != V99',\n",
       "  'V81 != V84',\n",
       "  'V81 != V85',\n",
       "  'V81 != V86',\n",
       "  'V81 != V87',\n",
       "  'V81 != V89',\n",
       "  'V81 != V92',\n",
       "  'V81 != V93',\n",
       "  'V84 != V85',\n",
       "  'V84 != V86',\n",
       "  'V84 != V87',\n",
       "  'V84 != V89',\n",
       "  'V84 != V94',\n",
       "  'V84 != V95',\n",
       "  'V84 != V96',\n",
       "  'V85 != V86',\n",
       "  'V85 != V87',\n",
       "  'V85 != V89',\n",
       "  'V85 != V94',\n",
       "  'V85 != V95',\n",
       "  'V85 != V96',\n",
       "  'V86 != V87',\n",
       "  'V86 != V89',\n",
       "  'V86 != V94',\n",
       "  'V86 != V95',\n",
       "  'V86 != V96',\n",
       "  'V87 != V89',\n",
       "  'V87 != V98',\n",
       "  'V87 != V99',\n",
       "  'V89 != V98',\n",
       "  'V89 != V99',\n",
       "  'V92 != V93',\n",
       "  'V92 != V94',\n",
       "  'V92 != V95',\n",
       "  'V92 != V96',\n",
       "  'V92 != V98',\n",
       "  'V92 != V99',\n",
       "  'V93 != V94',\n",
       "  'V93 != V95',\n",
       "  'V93 != V96',\n",
       "  'V93 != V98',\n",
       "  'V93 != V99',\n",
       "  'V94 != V95',\n",
       "  'V94 != V96',\n",
       "  'V94 != V98',\n",
       "  'V94 != V99',\n",
       "  'V95 != V96',\n",
       "  'V95 != V98',\n",
       "  'V95 != V99',\n",
       "  'V96 != V98',\n",
       "  'V96 != V99',\n",
       "  'V98 != V99'})"
      ]
     },
     "execution_count": 15,
     "metadata": {},
     "output_type": "execute_result"
    }
   ],
   "source": [
    "csp = sudoku_csp(Sudoku)\n",
    "csp"
   ]
  },
  {
   "cell_type": "markdown",
   "metadata": {},
   "source": [
    "Constraint propagation takes about 80 milliseconds to solve the given sudoku."
   ]
  },
  {
   "cell_type": "code",
   "execution_count": 16,
   "metadata": {
    "scrolled": true
   },
   "outputs": [
    {
     "name": "stdout",
     "output_type": "stream",
     "text": [
      "{}\n",
      "{'V37': 1}\n",
      "{'V37': 1, 'V17': 6}\n",
      "{'V37': 1, 'V17': 6, 'V18': 5}\n",
      "{'V37': 1, 'V17': 6, 'V18': 5, 'V31': 2}\n",
      "{'V37': 1, 'V17': 6, 'V18': 5, 'V31': 2, 'V23': 8}\n",
      "{'V37': 1, 'V17': 6, 'V18': 5, 'V31': 2, 'V23': 8, 'V43': 4}\n",
      "{'V37': 1, 'V17': 6, 'V18': 5, 'V31': 2, 'V23': 8, 'V43': 4, 'V26': 1}\n",
      "{'V37': 1, 'V17': 6, 'V18': 5, 'V31': 2, 'V23': 8, 'V43': 4, 'V26': 1, 'V22': 5}\n",
      "{'V37': 1, 'V17': 6, 'V18': 5, 'V31': 2, 'V23': 8, 'V43': 4, 'V26': 1, 'V22': 5, 'V25': 3}\n",
      "{'V37': 1, 'V17': 6, 'V18': 5, 'V31': 2, 'V23': 8, 'V43': 4, 'V26': 1, 'V22': 5, 'V25': 3, 'V21': 6}\n",
      "{'V37': 1, 'V17': 6, 'V18': 5, 'V31': 2, 'V23': 8, 'V43': 4, 'V26': 1, 'V22': 5, 'V25': 3, 'V21': 6, 'V33': 7}\n",
      "{'V37': 1, 'V17': 6, 'V18': 5, 'V31': 2, 'V23': 8, 'V43': 4, 'V26': 1, 'V22': 5, 'V25': 3, 'V21': 6, 'V33': 7, 'V32': 4}\n",
      "{'V37': 1, 'V17': 6, 'V18': 5, 'V31': 2, 'V23': 8, 'V43': 4, 'V26': 1, 'V22': 5, 'V25': 3, 'V21': 6, 'V33': 7, 'V32': 4, 'V11': 1}\n",
      "{'V37': 1, 'V17': 6, 'V18': 5, 'V31': 2, 'V23': 8, 'V43': 4, 'V26': 1, 'V22': 5, 'V25': 3, 'V21': 6, 'V33': 7, 'V32': 4, 'V11': 1, 'V34': 9}\n",
      "{'V37': 1, 'V17': 6, 'V18': 5, 'V31': 2, 'V23': 8, 'V43': 4, 'V26': 1, 'V22': 5, 'V25': 3, 'V21': 6, 'V33': 7, 'V32': 4, 'V11': 1, 'V34': 9, 'V72': 8}\n",
      "{'V37': 1, 'V17': 6, 'V18': 5, 'V31': 2, 'V23': 8, 'V43': 4, 'V26': 1, 'V22': 5, 'V25': 3, 'V21': 6, 'V33': 7, 'V32': 4, 'V11': 1, 'V34': 9, 'V72': 8, 'V75': 7}\n",
      "{'V37': 1, 'V17': 6, 'V18': 5, 'V31': 2, 'V23': 8, 'V43': 4, 'V26': 1, 'V22': 5, 'V25': 3, 'V21': 6, 'V33': 7, 'V32': 4, 'V11': 1, 'V34': 9, 'V72': 8, 'V75': 7, 'V77': 3}\n",
      "{'V37': 1, 'V17': 6, 'V18': 5, 'V31': 2, 'V23': 8, 'V43': 4, 'V26': 1, 'V22': 5, 'V25': 3, 'V21': 6, 'V33': 7, 'V32': 4, 'V11': 1, 'V34': 9, 'V72': 8, 'V75': 7, 'V77': 3, 'V67': 9}\n",
      "{'V37': 1, 'V17': 6, 'V18': 5, 'V31': 2, 'V23': 8, 'V43': 4, 'V26': 1, 'V22': 5, 'V25': 3, 'V21': 6, 'V33': 7, 'V32': 4, 'V11': 1, 'V34': 9, 'V72': 8, 'V75': 7, 'V77': 3, 'V67': 9, 'V87': 7}\n",
      "{'V37': 1, 'V17': 6, 'V18': 5, 'V31': 2, 'V23': 8, 'V43': 4, 'V26': 1, 'V22': 5, 'V25': 3, 'V21': 6, 'V33': 7, 'V32': 4, 'V11': 1, 'V34': 9, 'V72': 8, 'V75': 7, 'V77': 3, 'V67': 9, 'V87': 7, 'V49': 5}\n",
      "{'V37': 1, 'V17': 6, 'V18': 5, 'V31': 2, 'V23': 8, 'V43': 4, 'V26': 1, 'V22': 5, 'V25': 3, 'V21': 6, 'V33': 7, 'V32': 4, 'V11': 1, 'V34': 9, 'V72': 8, 'V75': 7, 'V77': 3, 'V67': 9, 'V87': 7, 'V49': 5, 'V59': 6}\n",
      "{'V37': 1, 'V17': 6, 'V18': 5, 'V31': 2, 'V23': 8, 'V43': 4, 'V26': 1, 'V22': 5, 'V25': 3, 'V21': 6, 'V33': 7, 'V32': 4, 'V11': 1, 'V34': 9, 'V72': 8, 'V75': 7, 'V77': 3, 'V67': 9, 'V87': 7, 'V49': 5, 'V59': 6, 'V78': 6}\n",
      "{'V37': 1, 'V17': 6, 'V18': 5, 'V31': 2, 'V23': 8, 'V43': 4, 'V26': 1, 'V22': 5, 'V25': 3, 'V21': 6, 'V33': 7, 'V32': 4, 'V11': 1, 'V34': 9, 'V72': 8, 'V75': 7, 'V77': 3, 'V67': 9, 'V87': 7, 'V49': 5, 'V59': 6, 'V78': 6, 'V98': 2}\n",
      "{'V37': 1, 'V17': 6, 'V18': 5, 'V31': 2, 'V23': 8, 'V43': 4, 'V26': 1, 'V22': 5, 'V25': 3, 'V21': 6, 'V33': 7, 'V32': 4, 'V11': 1, 'V34': 9, 'V72': 8, 'V75': 7, 'V77': 3, 'V67': 9, 'V87': 7, 'V49': 5, 'V59': 6, 'V78': 6, 'V98': 2, 'V71': 4}\n",
      "{'V37': 1, 'V17': 6, 'V18': 5, 'V31': 2, 'V23': 8, 'V43': 4, 'V26': 1, 'V22': 5, 'V25': 3, 'V21': 6, 'V33': 7, 'V32': 4, 'V11': 1, 'V34': 9, 'V72': 8, 'V75': 7, 'V77': 3, 'V67': 9, 'V87': 7, 'V49': 5, 'V59': 6, 'V78': 6, 'V98': 2, 'V71': 4, 'V69': 4}\n",
      "{'V37': 1, 'V17': 6, 'V18': 5, 'V31': 2, 'V23': 8, 'V43': 4, 'V26': 1, 'V22': 5, 'V25': 3, 'V21': 6, 'V33': 7, 'V32': 4, 'V11': 1, 'V34': 9, 'V72': 8, 'V75': 7, 'V77': 3, 'V67': 9, 'V87': 7, 'V49': 5, 'V59': 6, 'V78': 6, 'V98': 2, 'V71': 4, 'V69': 4, 'V92': 9}\n",
      "{'V37': 1, 'V17': 6, 'V18': 5, 'V31': 2, 'V23': 8, 'V43': 4, 'V26': 1, 'V22': 5, 'V25': 3, 'V21': 6, 'V33': 7, 'V32': 4, 'V11': 1, 'V34': 9, 'V72': 8, 'V75': 7, 'V77': 3, 'V67': 9, 'V87': 7, 'V49': 5, 'V59': 6, 'V78': 6, 'V98': 2, 'V71': 4, 'V69': 4, 'V92': 9, 'V42': 1}\n",
      "{'V37': 1, 'V17': 6, 'V18': 5, 'V31': 2, 'V23': 8, 'V43': 4, 'V26': 1, 'V22': 5, 'V25': 3, 'V21': 6, 'V33': 7, 'V32': 4, 'V11': 1, 'V34': 9, 'V72': 8, 'V75': 7, 'V77': 3, 'V67': 9, 'V87': 7, 'V49': 5, 'V59': 6, 'V78': 6, 'V98': 2, 'V71': 4, 'V69': 4, 'V92': 9, 'V42': 1, 'V81': 3}\n",
      "{'V37': 1, 'V17': 6, 'V18': 5, 'V31': 2, 'V23': 8, 'V43': 4, 'V26': 1, 'V22': 5, 'V25': 3, 'V21': 6, 'V33': 7, 'V32': 4, 'V11': 1, 'V34': 9, 'V72': 8, 'V75': 7, 'V77': 3, 'V67': 9, 'V87': 7, 'V49': 5, 'V59': 6, 'V78': 6, 'V98': 2, 'V71': 4, 'V69': 4, 'V92': 9, 'V42': 1, 'V81': 3, 'V99': 8}\n",
      "{'V37': 1, 'V17': 6, 'V18': 5, 'V31': 2, 'V23': 8, 'V43': 4, 'V26': 1, 'V22': 5, 'V25': 3, 'V21': 6, 'V33': 7, 'V32': 4, 'V11': 1, 'V34': 9, 'V72': 8, 'V75': 7, 'V77': 3, 'V67': 9, 'V87': 7, 'V49': 5, 'V59': 6, 'V78': 6, 'V98': 2, 'V71': 4, 'V69': 4, 'V92': 9, 'V42': 1, 'V81': 3, 'V99': 8, 'V95': 1}\n",
      "{'V37': 1, 'V17': 6, 'V18': 5, 'V31': 2, 'V23': 8, 'V43': 4, 'V26': 1, 'V22': 5, 'V25': 3, 'V21': 6, 'V33': 7, 'V32': 4, 'V11': 1, 'V34': 9, 'V72': 8, 'V75': 7, 'V77': 3, 'V67': 9, 'V87': 7, 'V49': 5, 'V59': 6, 'V78': 6, 'V98': 2, 'V71': 4, 'V69': 4, 'V92': 9, 'V42': 1, 'V81': 3, 'V99': 8, 'V95': 1, 'V89': 9}\n",
      "{'V37': 1, 'V17': 6, 'V18': 5, 'V31': 2, 'V23': 8, 'V43': 4, 'V26': 1, 'V22': 5, 'V25': 3, 'V21': 6, 'V33': 7, 'V32': 4, 'V11': 1, 'V34': 9, 'V72': 8, 'V75': 7, 'V77': 3, 'V67': 9, 'V87': 7, 'V49': 5, 'V59': 6, 'V78': 6, 'V98': 2, 'V71': 4, 'V69': 4, 'V92': 9, 'V42': 1, 'V81': 3, 'V99': 8, 'V95': 1, 'V89': 9, 'V52': 7}\n",
      "{'V37': 1, 'V17': 6, 'V18': 5, 'V31': 2, 'V23': 8, 'V43': 4, 'V26': 1, 'V22': 5, 'V25': 3, 'V21': 6, 'V33': 7, 'V32': 4, 'V11': 1, 'V34': 9, 'V72': 8, 'V75': 7, 'V77': 3, 'V67': 9, 'V87': 7, 'V49': 5, 'V59': 6, 'V78': 6, 'V98': 2, 'V71': 4, 'V69': 4, 'V92': 9, 'V42': 1, 'V81': 3, 'V99': 8, 'V95': 1, 'V89': 9, 'V52': 7, 'V93': 6}\n",
      "{'V37': 1, 'V17': 6, 'V18': 5, 'V31': 2, 'V23': 8, 'V43': 4, 'V26': 1, 'V22': 5, 'V25': 3, 'V21': 6, 'V33': 7, 'V32': 4, 'V11': 1, 'V34': 9, 'V72': 8, 'V75': 7, 'V77': 3, 'V67': 9, 'V87': 7, 'V49': 5, 'V59': 6, 'V78': 6, 'V98': 2, 'V71': 4, 'V69': 4, 'V92': 9, 'V42': 1, 'V81': 3, 'V99': 8, 'V95': 1, 'V89': 9, 'V52': 7, 'V93': 6, 'V96': 4}\n",
      "{'V37': 1, 'V17': 6, 'V18': 5, 'V31': 2, 'V23': 8, 'V43': 4, 'V26': 1, 'V22': 5, 'V25': 3, 'V21': 6, 'V33': 7, 'V32': 4, 'V11': 1, 'V34': 9, 'V72': 8, 'V75': 7, 'V77': 3, 'V67': 9, 'V87': 7, 'V49': 5, 'V59': 6, 'V78': 6, 'V98': 2, 'V71': 4, 'V69': 4, 'V92': 9, 'V42': 1, 'V81': 3, 'V99': 8, 'V95': 1, 'V89': 9, 'V52': 7, 'V93': 6, 'V96': 4, 'V94': 3}\n",
      "{'V37': 1, 'V17': 6, 'V18': 5, 'V31': 2, 'V23': 8, 'V43': 4, 'V26': 1, 'V22': 5, 'V25': 3, 'V21': 6, 'V33': 7, 'V32': 4, 'V11': 1, 'V34': 9, 'V72': 8, 'V75': 7, 'V77': 3, 'V67': 9, 'V87': 7, 'V49': 5, 'V59': 6, 'V78': 6, 'V98': 2, 'V71': 4, 'V69': 4, 'V92': 9, 'V42': 1, 'V81': 3, 'V99': 8, 'V95': 1, 'V89': 9, 'V52': 7, 'V93': 6, 'V96': 4, 'V94': 3, 'V56': 2}\n",
      "{'V37': 1, 'V17': 6, 'V18': 5, 'V31': 2, 'V23': 8, 'V43': 4, 'V26': 1, 'V22': 5, 'V25': 3, 'V21': 6, 'V33': 7, 'V32': 4, 'V11': 1, 'V34': 9, 'V72': 8, 'V75': 7, 'V77': 3, 'V67': 9, 'V87': 7, 'V49': 5, 'V59': 6, 'V78': 6, 'V98': 2, 'V71': 4, 'V69': 4, 'V92': 9, 'V42': 1, 'V81': 3, 'V99': 8, 'V95': 1, 'V89': 9, 'V52': 7, 'V93': 6, 'V96': 4, 'V94': 3, 'V56': 2, 'V16': 8}\n",
      "{'V37': 1, 'V17': 6, 'V18': 5, 'V31': 2, 'V23': 8, 'V43': 4, 'V26': 1, 'V22': 5, 'V25': 3, 'V21': 6, 'V33': 7, 'V32': 4, 'V11': 1, 'V34': 9, 'V72': 8, 'V75': 7, 'V77': 3, 'V67': 9, 'V87': 7, 'V49': 5, 'V59': 6, 'V78': 6, 'V98': 2, 'V71': 4, 'V69': 4, 'V92': 9, 'V42': 1, 'V81': 3, 'V99': 8, 'V95': 1, 'V89': 9, 'V52': 7, 'V93': 6, 'V96': 4, 'V94': 3, 'V56': 2, 'V16': 8, 'V86': 6}\n",
      "{'V37': 1, 'V17': 6, 'V18': 5, 'V31': 2, 'V23': 8, 'V43': 4, 'V26': 1, 'V22': 5, 'V25': 3, 'V21': 6, 'V33': 7, 'V32': 4, 'V11': 1, 'V34': 9, 'V72': 8, 'V75': 7, 'V77': 3, 'V67': 9, 'V87': 7, 'V49': 5, 'V59': 6, 'V78': 6, 'V98': 2, 'V71': 4, 'V69': 4, 'V92': 9, 'V42': 1, 'V81': 3, 'V99': 8, 'V95': 1, 'V89': 9, 'V52': 7, 'V93': 6, 'V96': 4, 'V94': 3, 'V56': 2, 'V16': 8, 'V86': 6, 'V15': 2}\n",
      "{'V37': 1, 'V17': 6, 'V18': 5, 'V31': 2, 'V23': 8, 'V43': 4, 'V26': 1, 'V22': 5, 'V25': 3, 'V21': 6, 'V33': 7, 'V32': 4, 'V11': 1, 'V34': 9, 'V72': 8, 'V75': 7, 'V77': 3, 'V67': 9, 'V87': 7, 'V49': 5, 'V59': 6, 'V78': 6, 'V98': 2, 'V71': 4, 'V69': 4, 'V92': 9, 'V42': 1, 'V81': 3, 'V99': 8, 'V95': 1, 'V89': 9, 'V52': 7, 'V93': 6, 'V96': 4, 'V94': 3, 'V56': 2, 'V16': 8, 'V86': 6, 'V15': 2, 'V51': 9}\n",
      "{'V37': 1, 'V17': 6, 'V18': 5, 'V31': 2, 'V23': 8, 'V43': 4, 'V26': 1, 'V22': 5, 'V25': 3, 'V21': 6, 'V33': 7, 'V32': 4, 'V11': 1, 'V34': 9, 'V72': 8, 'V75': 7, 'V77': 3, 'V67': 9, 'V87': 7, 'V49': 5, 'V59': 6, 'V78': 6, 'V98': 2, 'V71': 4, 'V69': 4, 'V92': 9, 'V42': 1, 'V81': 3, 'V99': 8, 'V95': 1, 'V89': 9, 'V52': 7, 'V93': 6, 'V96': 4, 'V94': 3, 'V56': 2, 'V16': 8, 'V86': 6, 'V15': 2, 'V51': 9, 'V41': 8}\n",
      "{'V37': 1, 'V17': 6, 'V18': 5, 'V31': 2, 'V23': 8, 'V43': 4, 'V26': 1, 'V22': 5, 'V25': 3, 'V21': 6, 'V33': 7, 'V32': 4, 'V11': 1, 'V34': 9, 'V72': 8, 'V75': 7, 'V77': 3, 'V67': 9, 'V87': 7, 'V49': 5, 'V59': 6, 'V78': 6, 'V98': 2, 'V71': 4, 'V69': 4, 'V92': 9, 'V42': 1, 'V81': 3, 'V99': 8, 'V95': 1, 'V89': 9, 'V52': 7, 'V93': 6, 'V96': 4, 'V94': 3, 'V56': 2, 'V16': 8, 'V86': 6, 'V15': 2, 'V51': 9, 'V41': 8, 'V45': 9}\n",
      "{'V37': 1, 'V17': 6, 'V18': 5, 'V31': 2, 'V23': 8, 'V43': 4, 'V26': 1, 'V22': 5, 'V25': 3, 'V21': 6, 'V33': 7, 'V32': 4, 'V11': 1, 'V34': 9, 'V72': 8, 'V75': 7, 'V77': 3, 'V67': 9, 'V87': 7, 'V49': 5, 'V59': 6, 'V78': 6, 'V98': 2, 'V71': 4, 'V69': 4, 'V92': 9, 'V42': 1, 'V81': 3, 'V99': 8, 'V95': 1, 'V89': 9, 'V52': 7, 'V93': 6, 'V96': 4, 'V94': 3, 'V56': 2, 'V16': 8, 'V86': 6, 'V15': 2, 'V51': 9, 'V41': 8, 'V45': 9, 'V14': 4}\n",
      "{'V37': 1, 'V17': 6, 'V18': 5, 'V31': 2, 'V23': 8, 'V43': 4, 'V26': 1, 'V22': 5, 'V25': 3, 'V21': 6, 'V33': 7, 'V32': 4, 'V11': 1, 'V34': 9, 'V72': 8, 'V75': 7, 'V77': 3, 'V67': 9, 'V87': 7, 'V49': 5, 'V59': 6, 'V78': 6, 'V98': 2, 'V71': 4, 'V69': 4, 'V92': 9, 'V42': 1, 'V81': 3, 'V99': 8, 'V95': 1, 'V89': 9, 'V52': 7, 'V93': 6, 'V96': 4, 'V94': 3, 'V56': 2, 'V16': 8, 'V86': 6, 'V15': 2, 'V51': 9, 'V41': 8, 'V45': 9, 'V14': 4, 'V65': 8}\n",
      "{'V37': 1, 'V17': 6, 'V18': 5, 'V31': 2, 'V23': 8, 'V43': 4, 'V26': 1, 'V22': 5, 'V25': 3, 'V21': 6, 'V33': 7, 'V32': 4, 'V11': 1, 'V34': 9, 'V72': 8, 'V75': 7, 'V77': 3, 'V67': 9, 'V87': 7, 'V49': 5, 'V59': 6, 'V78': 6, 'V98': 2, 'V71': 4, 'V69': 4, 'V92': 9, 'V42': 1, 'V81': 3, 'V99': 8, 'V95': 1, 'V89': 9, 'V52': 7, 'V93': 6, 'V96': 4, 'V94': 3, 'V56': 2, 'V16': 8, 'V86': 6, 'V15': 2, 'V51': 9, 'V41': 8, 'V45': 9, 'V14': 4, 'V65': 8, 'V64': 1}\n",
      "{'V37': 1, 'V17': 6, 'V18': 5, 'V31': 2, 'V23': 8, 'V43': 4, 'V26': 1, 'V22': 5, 'V25': 3, 'V21': 6, 'V33': 7, 'V32': 4, 'V11': 1, 'V34': 9, 'V72': 8, 'V75': 7, 'V77': 3, 'V67': 9, 'V87': 7, 'V49': 5, 'V59': 6, 'V78': 6, 'V98': 2, 'V71': 4, 'V69': 4, 'V92': 9, 'V42': 1, 'V81': 3, 'V99': 8, 'V95': 1, 'V89': 9, 'V52': 7, 'V93': 6, 'V96': 4, 'V94': 3, 'V56': 2, 'V16': 8, 'V86': 6, 'V15': 2, 'V51': 9, 'V41': 8, 'V45': 9, 'V14': 4, 'V65': 8, 'V64': 1, 'V54': 5}\n",
      "{'V37': 1, 'V17': 6, 'V18': 5, 'V31': 2, 'V23': 8, 'V43': 4, 'V26': 1, 'V22': 5, 'V25': 3, 'V21': 6, 'V33': 7, 'V32': 4, 'V11': 1, 'V34': 9, 'V72': 8, 'V75': 7, 'V77': 3, 'V67': 9, 'V87': 7, 'V49': 5, 'V59': 6, 'V78': 6, 'V98': 2, 'V71': 4, 'V69': 4, 'V92': 9, 'V42': 1, 'V81': 3, 'V99': 8, 'V95': 1, 'V89': 9, 'V52': 7, 'V93': 6, 'V96': 4, 'V94': 3, 'V56': 2, 'V16': 8, 'V86': 6, 'V15': 2, 'V51': 9, 'V41': 8, 'V45': 9, 'V14': 4, 'V65': 8, 'V64': 1, 'V54': 5, 'V84': 8}\n",
      "{'V37': 1, 'V17': 6, 'V18': 5, 'V31': 2, 'V23': 8, 'V43': 4, 'V26': 1, 'V22': 5, 'V25': 3, 'V21': 6, 'V33': 7, 'V32': 4, 'V11': 1, 'V34': 9, 'V72': 8, 'V75': 7, 'V77': 3, 'V67': 9, 'V87': 7, 'V49': 5, 'V59': 6, 'V78': 6, 'V98': 2, 'V71': 4, 'V69': 4, 'V92': 9, 'V42': 1, 'V81': 3, 'V99': 8, 'V95': 1, 'V89': 9, 'V52': 7, 'V93': 6, 'V96': 4, 'V94': 3, 'V56': 2, 'V16': 8, 'V86': 6, 'V15': 2, 'V51': 9, 'V41': 8, 'V45': 9, 'V14': 4, 'V65': 8, 'V64': 1, 'V54': 5, 'V84': 8, 'V68': 3}\n",
      "{'V37': 1, 'V17': 6, 'V18': 5, 'V31': 2, 'V23': 8, 'V43': 4, 'V26': 1, 'V22': 5, 'V25': 3, 'V21': 6, 'V33': 7, 'V32': 4, 'V11': 1, 'V34': 9, 'V72': 8, 'V75': 7, 'V77': 3, 'V67': 9, 'V87': 7, 'V49': 5, 'V59': 6, 'V78': 6, 'V98': 2, 'V71': 4, 'V69': 4, 'V92': 9, 'V42': 1, 'V81': 3, 'V99': 8, 'V95': 1, 'V89': 9, 'V52': 7, 'V93': 6, 'V96': 4, 'V94': 3, 'V56': 2, 'V16': 8, 'V86': 6, 'V15': 2, 'V51': 9, 'V41': 8, 'V45': 9, 'V14': 4, 'V65': 8, 'V64': 1, 'V54': 5, 'V84': 8, 'V68': 3, 'V58': 1}\n",
      "{'V37': 1, 'V17': 6, 'V18': 5, 'V31': 2, 'V23': 8, 'V43': 4, 'V26': 1, 'V22': 5, 'V25': 3, 'V21': 6, 'V33': 7, 'V32': 4, 'V11': 1, 'V34': 9, 'V72': 8, 'V75': 7, 'V77': 3, 'V67': 9, 'V87': 7, 'V49': 5, 'V59': 6, 'V78': 6, 'V98': 2, 'V71': 4, 'V69': 4, 'V92': 9, 'V42': 1, 'V81': 3, 'V99': 8, 'V95': 1, 'V89': 9, 'V52': 7, 'V93': 6, 'V96': 4, 'V94': 3, 'V56': 2, 'V16': 8, 'V86': 6, 'V15': 2, 'V51': 9, 'V41': 8, 'V45': 9, 'V14': 4, 'V65': 8, 'V64': 1, 'V54': 5, 'V84': 8, 'V68': 3, 'V58': 1, 'V85': 5}\n",
      "{'V37': 1, 'V17': 6, 'V18': 5, 'V31': 2, 'V23': 8, 'V43': 4, 'V26': 1, 'V22': 5, 'V25': 3, 'V21': 6, 'V33': 7, 'V32': 4, 'V11': 1, 'V34': 9, 'V72': 8, 'V75': 7, 'V77': 3, 'V67': 9, 'V87': 7, 'V49': 5, 'V59': 6, 'V78': 6, 'V98': 2, 'V71': 4, 'V69': 4, 'V92': 9, 'V42': 1, 'V81': 3, 'V99': 8, 'V95': 1, 'V89': 9, 'V52': 7, 'V93': 6, 'V96': 4, 'V94': 3, 'V56': 2, 'V16': 8, 'V86': 6, 'V15': 2, 'V51': 9, 'V41': 8, 'V45': 9, 'V14': 4, 'V65': 8, 'V64': 1, 'V54': 5, 'V84': 8, 'V68': 3, 'V58': 1, 'V85': 5, 'V53': 3}\n",
      "{'V37': 1, 'V17': 6, 'V18': 5, 'V31': 2, 'V23': 8, 'V43': 4, 'V26': 1, 'V22': 5, 'V25': 3, 'V21': 6, 'V33': 7, 'V32': 4, 'V11': 1, 'V34': 9, 'V72': 8, 'V75': 7, 'V77': 3, 'V67': 9, 'V87': 7, 'V49': 5, 'V59': 6, 'V78': 6, 'V98': 2, 'V71': 4, 'V69': 4, 'V92': 9, 'V42': 1, 'V81': 3, 'V99': 8, 'V95': 1, 'V89': 9, 'V52': 7, 'V93': 6, 'V96': 4, 'V94': 3, 'V56': 2, 'V16': 8, 'V86': 6, 'V15': 2, 'V51': 9, 'V41': 8, 'V45': 9, 'V14': 4, 'V65': 8, 'V64': 1, 'V54': 5, 'V84': 8, 'V68': 3, 'V58': 1, 'V85': 5, 'V53': 3, 'V66': 7}\n",
      "{'V37': 1, 'V17': 6, 'V18': 5, 'V31': 2, 'V23': 8, 'V43': 4, 'V26': 1, 'V22': 5, 'V25': 3, 'V21': 6, 'V33': 7, 'V32': 4, 'V11': 1, 'V34': 9, 'V72': 8, 'V75': 7, 'V77': 3, 'V67': 9, 'V87': 7, 'V49': 5, 'V59': 6, 'V78': 6, 'V98': 2, 'V71': 4, 'V69': 4, 'V92': 9, 'V42': 1, 'V81': 3, 'V99': 8, 'V95': 1, 'V89': 9, 'V52': 7, 'V93': 6, 'V96': 4, 'V94': 3, 'V56': 2, 'V16': 8, 'V86': 6, 'V15': 2, 'V51': 9, 'V41': 8, 'V45': 9, 'V14': 4, 'V65': 8, 'V64': 1, 'V54': 5, 'V84': 8, 'V68': 3, 'V58': 1, 'V85': 5, 'V53': 3, 'V66': 7, 'V63': 2}\n",
      "CPU times: user 132 ms, sys: 3.66 ms, total: 136 ms\n",
      "Wall time: 135 ms\n"
     ]
    }
   ],
   "source": [
    "%%time\n",
    "Solution = solve(csp)"
   ]
  },
  {
   "cell_type": "code",
   "execution_count": 17,
   "metadata": {
    "scrolled": false
   },
   "outputs": [
    {
     "data": {
      "application/vnd.jupyter.widget-view+json": {
       "model_id": "712156df84f345618dae226815c078c5",
       "version_major": 2,
       "version_minor": 0
      },
      "text/plain": [
       "Canvas(height=360, width=360)"
      ]
     },
     "metadata": {},
     "output_type": "display_data"
    }
   ],
   "source": [
    "show_solution(Solution)"
   ]
  },
  {
   "cell_type": "markdown",
   "metadata": {},
   "source": [
    "# Solving the Crypto-Arithmetic Puzzle"
   ]
  },
  {
   "cell_type": "code",
   "execution_count": null,
   "metadata": {},
   "outputs": [],
   "source": [
    "%run Crypto-Arithmetic.ipynb"
   ]
  },
  {
   "cell_type": "code",
   "execution_count": null,
   "metadata": {},
   "outputs": [],
   "source": [
    "csp = crypto_csp()"
   ]
  },
  {
   "cell_type": "markdown",
   "metadata": {},
   "source": [
    "Constraint propagation takes about 7 seconds to solve the crypto-arithmetic puzzle."
   ]
  },
  {
   "cell_type": "code",
   "execution_count": null,
   "metadata": {
    "scrolled": true
   },
   "outputs": [],
   "source": [
    "%%time\n",
    "Solution = solve(csp)"
   ]
  },
  {
   "cell_type": "code",
   "execution_count": null,
   "metadata": {},
   "outputs": [],
   "source": [
    "show_solution(Solution)"
   ]
  },
  {
   "cell_type": "code",
   "execution_count": null,
   "metadata": {},
   "outputs": [],
   "source": []
  }
 ],
 "metadata": {
  "kernelspec": {
   "display_name": "Python 3",
   "language": "python",
   "name": "python3"
  },
  "language_info": {
   "codemirror_mode": {
    "name": "ipython",
    "version": 3
   },
   "file_extension": ".py",
   "mimetype": "text/x-python",
   "name": "python",
   "nbconvert_exporter": "python",
   "pygments_lexer": "ipython3",
   "version": "3.7.6"
  },
  "toc": {
   "base_numbering": 1,
   "nav_menu": {},
   "number_sections": true,
   "sideBar": true,
   "skip_h1_title": false,
   "title_cell": "Table of Contents",
   "title_sidebar": "Contents",
   "toc_cell": false,
   "toc_position": {},
   "toc_section_display": true,
   "toc_window_display": false
  },
  "varInspector": {
   "cols": {
    "lenName": 16,
    "lenType": 16,
    "lenVar": 40
   },
   "kernels_config": {
    "python": {
     "delete_cmd_postfix": "",
     "delete_cmd_prefix": "del ",
     "library": "var_list.py",
     "varRefreshCmd": "print(var_dic_list())"
    },
    "r": {
     "delete_cmd_postfix": ") ",
     "delete_cmd_prefix": "rm(",
     "library": "var_list.r",
     "varRefreshCmd": "cat(var_dic_list()) "
    }
   },
   "types_to_exclude": [
    "module",
    "function",
    "builtin_function_or_method",
    "instance",
    "_Feature"
   ],
   "window_display": false
  }
 },
 "nbformat": 4,
 "nbformat_minor": 2
}
