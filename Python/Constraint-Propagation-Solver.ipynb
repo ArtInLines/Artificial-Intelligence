{
 "cells": [
  {
   "cell_type": "code",
   "execution_count": 1,
   "metadata": {},
   "outputs": [
    {
     "data": {
      "text/html": [
       "<style>\n",
       ".container { width:100% }\n",
       "</style>\n"
      ],
      "text/plain": [
       "<IPython.core.display.HTML object>"
      ]
     },
     "metadata": {},
     "output_type": "display_data"
    }
   ],
   "source": [
    "%%HTML\n",
    "<style>\n",
    ".container { width:100% }\n",
    "</style>"
   ]
  },
  {
   "cell_type": "markdown",
   "metadata": {},
   "source": [
    "# A Backtracking Solver with Constraint Propagation"
   ]
  },
  {
   "cell_type": "markdown",
   "metadata": {},
   "source": [
    "## Utility Functions"
   ]
  },
  {
   "cell_type": "markdown",
   "metadata": {},
   "source": [
    "The module `extractVariables` implements the function $\\texttt{extractVars}(e)$ that takes a *Python* expression $e$ as its argument and returns the set of all variables and function names occurring in $e$."
   ]
  },
  {
   "cell_type": "code",
   "execution_count": 2,
   "metadata": {},
   "outputs": [],
   "source": [
    "import extractVariables as ev"
   ]
  },
  {
   "cell_type": "markdown",
   "metadata": {},
   "source": [
    "The function `collect_variables(expr)` takes a string `expr` that can be interpreted as a Python expression as input and collects all variables occurring in `expr`.  It takes care to eliminate the function symbols from the names returned by `extract_variables`."
   ]
  },
  {
   "cell_type": "code",
   "execution_count": 3,
   "metadata": {},
   "outputs": [],
   "source": [
    "def collect_variables(expr):\n",
    "    return frozenset(var for var in ev.extractVars(expr)\n",
    "                         if  var not in dir(__builtins__)\n",
    "                    )"
   ]
  },
  {
   "cell_type": "markdown",
   "metadata": {},
   "source": [
    "The function `arb(S)` takes a set `S` as input and returns an arbitrary element from \n",
    "this set."
   ]
  },
  {
   "cell_type": "code",
   "execution_count": 4,
   "metadata": {},
   "outputs": [],
   "source": [
    "def arb(S):\n",
    "    for x in S:\n",
    "        return x"
   ]
  },
  {
   "cell_type": "markdown",
   "metadata": {},
   "source": [
    "Backtracking is simulated by raising the `Backtrack` exception.  We define this new class of exceptions so that we can distinguish `Backtrack` exceptions from ordinary exceptions.  This is done by creating a new, empty class that is derived from the class `Exception`.  "
   ]
  },
  {
   "cell_type": "code",
   "execution_count": 5,
   "metadata": {},
   "outputs": [],
   "source": [
    "class Backtrack(Exception):\n",
    "    pass"
   ]
  },
  {
   "cell_type": "markdown",
   "metadata": {},
   "source": [
    "## The Constraint Propagation Solver"
   ]
  },
  {
   "cell_type": "markdown",
   "metadata": {},
   "source": [
    "The procedure `solve(P)` takes a a <b style=\"color:blue\">constraint satisfaction problem</b> \n",
    "`P` as input.  Here `P` is a triple of the form \n",
    "$$ \\mathcal{P} = \\langle \\mathtt{Variables}, \\mathtt{Values}, \\mathtt{Constraints} \\rangle $$\n",
    "where \n",
    "- $\\mathtt{Variables}$ is a set of strings which serve as <b style=\"color:blue\">variables</b>,\n",
    "- $\\mathtt{Values}$ is a set of <b style=\"color:blue\">values</b> that can be assigned \n",
    "  to the variables in the set $\\mathtt{Variables}$.\n",
    "- $\\mathtt{Constraints}$ is a set of <b style=\"color:blue\">formulas</b> from first order logic.  \n",
    "  Each of these formulas is  called a <b style=\"color:blue\">constraint</b> of $\\mathcal{P}$.\n",
    "  \n",
    "The function `solve` converts the CSP `P` into an <b style=\"color:blue\">augmented CSP</b> where every constraint $f$ is annotated with the variables occurring in $f$.  The most important data structure maintained by `solve` is the dictionary `ValuesPerVar`.  For every variable $x$ occurring in a constraint of `P`, the expression $\\texttt{ValuesPerVar}(x)$ is the set of values that can be used to instantiate the variable $x$.  Initially, \n",
    "$\\texttt{ValuesPerVar}(x)$ is set to `Values`, but as the search for a solution proceeds, the sets $\\texttt{ValuesPerVar}(x)$ are reduced by removing any values that cannot be part of a solution.\n",
    "\n",
    "Next, it divides the constraints into two groups:\n",
    "- The <em style=\"color:blue\">unary</em> constraints are those constraint that contain only a single variable.\n",
    "\n",
    "  The unary constraints are immediately solved: If $f$ is a unary constraint containing only the variable $x$, the set $\\texttt{ValuesPerVar}(x)$ is reduced to the set of those values $v$ such that $f[x\\mapsto v]$ is true.\n",
    "- The remaining constraints contain at least two different variables.\n",
    "\n",
    "After the unary constraints have been taken care of, `backtrack_search` is called to solve the remaining constraint satisfaction problem."
   ]
  },
  {
   "cell_type": "code",
   "execution_count": 6,
   "metadata": {},
   "outputs": [],
   "source": [
    "def solve(P):\n",
    "    Variables, Values, Constraints = P\n",
    "    Annotated    = { (f, collect_variables(f)) for f in Constraints }\n",
    "    ValuesPerVar = { v: Values for v in Variables }\n",
    "    UnaryConstrs = { (f, V) for f, V in Annotated\n",
    "                            if  len(V) == 1\n",
    "                   }\n",
    "    OtherConstrs = { (f, V) for f, V in Annotated\n",
    "                            if  len(V) >= 2\n",
    "                   }\n",
    "    try:\n",
    "        for f, V in UnaryConstrs:\n",
    "            var = arb(V)\n",
    "            ValuesPerVar[var] = solve_unary(f, var, ValuesPerVar[var])\n",
    "        return backtrack_search({}, ValuesPerVar, OtherConstrs)\n",
    "    except Backtrack:\n",
    "        return None"
   ]
  },
  {
   "cell_type": "markdown",
   "metadata": {},
   "source": [
    "The function `solve_unary` takes a unary constraint `f`, a variable `x` and the set of values `Values` that can be assigned to `x`.  It returns the subset of values that can be substituted for `x` such that $f[x\\mapsto v]$ evaluates as `True`."
   ]
  },
  {
   "cell_type": "code",
   "execution_count": 7,
   "metadata": {},
   "outputs": [],
   "source": [
    "def solve_unary(f, x, Values):\n",
    "    Legal = { value for value in Values \n",
    "                    if  eval(f, { x: value })\n",
    "            }\n",
    "    if len(Legal) == 0:\n",
    "        raise Backtrack()\n",
    "    return Legal"
   ]
  },
  {
   "cell_type": "markdown",
   "metadata": {},
   "source": [
    "The function `backtrack_search` takes three arguments:\n",
    "- `Assignment` is a partial variable assignment that is represented as a\n",
    "   dictionary.  Initially, this assignment will be the  empty dictionary.     \n",
    "   Every recursive call of `backtrack_search` adds the assignment of one \n",
    "   variable to  the given assignment. \n",
    "- `ValuesPerVar` is a dictionary.  For every variable `x`, `ValuesPerVar[x]` is the set of values that still might be assigned to `x`.\n",
    "- `Constraints` is a set of pairs of the form `(F, V)` where `F` is a constraint and `V` is the set of variables occurring in `V`."
   ]
  },
  {
   "cell_type": "code",
   "execution_count": 8,
   "metadata": {},
   "outputs": [],
   "source": [
    "def backtrack_search(Assignment, ValuesPerVar, Constraints):\n",
    "    print(Assignment)\n",
    "    if len(Assignment) == len(ValuesPerVar):\n",
    "        return Assignment\n",
    "    x = most_constrained_variable(Assignment, ValuesPerVar)\n",
    "    for v in ValuesPerVar[x]:\n",
    "        try:\n",
    "            if is_consistent(x, v, Assignment, Constraints):\n",
    "                NewValues = propagate(x, v, Assignment, Constraints, ValuesPerVar)\n",
    "                NewAssign = Assignment.copy()\n",
    "                NewAssign[x] = v\n",
    "                return backtrack_search(NewAssign, NewValues, Constraints)\n",
    "        except Backtrack:\n",
    "            continue\n",
    "    raise Backtrack()"
   ]
  },
  {
   "cell_type": "markdown",
   "metadata": {},
   "source": [
    "The function `most_constrained_variable` takes two parameters:\n",
    "- `Assigment` is a *partial variable assignment* that assigns values to variables.  It is represented as a dictionary.\n",
    "- `ValuesPerVar` is a dictionary that has variables as keys.  For every variable `x`, `ValuesPerVar[x]` is the set of values that be assigned to the variable `x`.\n",
    "The function returns an unassigned variable `x` such that the number of values in `ValuesPerVar[x]` is minimal among all other unassigned variables."
   ]
  },
  {
   "cell_type": "code",
   "execution_count": 9,
   "metadata": {},
   "outputs": [],
   "source": [
    "def most_constrained_variable(Assignment, ValuesPerVar):\n",
    "    Unassigned = { (x, len(U)) for x, U in ValuesPerVar.items()\n",
    "                               if  x not in Assignment\n",
    "                 }\n",
    "    minSize = min(lenU for x, lenU in Unassigned)\n",
    "    for x, lenU in Unassigned:\n",
    "        if lenU == minSize:\n",
    "            return x"
   ]
  },
  {
   "cell_type": "markdown",
   "metadata": {},
   "source": [
    "The function `propagate` takes five arguments:\n",
    "- `x` is a variable,\n",
    "- `v` is a value that is supposed to be assigned to `x`.\n",
    "- `Assignment` is a partial assignment that contains assignments for variables that are different from `x`.\n",
    "- `Constraints` is a set of annotated constraints.\n",
    "- `ValuesPerVar` is a dictionary assigning sets of values to all variables.  For every unassigned variable `z`,  `ValuesPerVar[z]` is the set of values that still might be assigned to `z`.\n",
    "\n",
    "The purpose of the function  `propagate` is to compute how the sets `ValuesPerVar[z]` can be shrunk when the value `v` is assigned to the variable `x`.  The dictionary `ValuesPerVar` with appropriately reduced sets `ValuesPerVar[z]` is returned."
   ]
  },
  {
   "cell_type": "code",
   "execution_count": 10,
   "metadata": {},
   "outputs": [],
   "source": [
    "def propagate(x, v, Assignment, Constraints, ValuesPerVar):\n",
    "    ValuesDict = ValuesPerVar.copy()\n",
    "    ValuesDict[x] = { v }\n",
    "    BoundVars = set(Assignment.keys())\n",
    "    for F, Vars in Constraints:\n",
    "        if x in Vars:\n",
    "            UnboundVars = Vars - BoundVars - { x }\n",
    "            if len(UnboundVars) == 1:\n",
    "                y = arb(UnboundVars)\n",
    "                Legal = set()\n",
    "                for w in ValuesDict[y]:\n",
    "                    NewAssign = Assignment.copy()\n",
    "                    NewAssign[x] = v\n",
    "                    NewAssign[y] = w\n",
    "                    if eval(F, NewAssign):\n",
    "                        Legal.add(w)\n",
    "                if len(Legal) == 0:\n",
    "                    raise Backtrack()\n",
    "                ValuesDict[y] = Legal\n",
    "    return ValuesDict"
   ]
  },
  {
   "cell_type": "markdown",
   "metadata": {},
   "source": [
    "The function $\\texttt{is_consistent}(\\texttt{var}, \\texttt{value}, \\texttt{Assignment}, \\texttt{csp})$ takes four arguments:\n",
    "<ol>\n",
    "    <li>$\\texttt{var}$ is a variable that does not occur in $\\texttt{Assignment}$,</li>\n",
    "    <li>$\\texttt{value}$ is a value that can be substituted for this variable,</li>\n",
    "    <li>$\\texttt{Assignment}$ is a <b style=\"color:blue\">consistent</b> partial variable assignment.         A partial variable assignment $A$ is <b style=\"color:blue\">consistent</b> if all\n",
    "        constraints $f$ that contain only variables from the set $\\mathtt{dom}(A)$ are satisfied.\n",
    "    <li>$\\texttt{csp}$ is an <b style=\"color:blue\">augmented</b> constraint satisfaction problem.</li>\n",
    "</ol>\n",
    "This function returns <tt>True</tt> iff the partial variable assignment \n",
    "$$\\texttt{Assignment} \\cup \\{\\langle\\texttt{var} \\mapsto\\texttt{value}\\rangle\\}$$\n",
    "is consistent with all the constraints occurring in $\\texttt{csp}$."
   ]
  },
  {
   "cell_type": "code",
   "execution_count": 11,
   "metadata": {},
   "outputs": [],
   "source": [
    "def is_consistent(var, value, Assignment, Constraints):\n",
    "    NewAssign      = Assignment.copy()\n",
    "    NewAssign[var] = value\n",
    "    return all(eval(f, NewAssign) for (f, Vs) in Constraints\n",
    "                                  if  var in Vs and Vs <= NewAssign.keys()\n",
    "              )"
   ]
  },
  {
   "cell_type": "markdown",
   "metadata": {},
   "source": [
    "## Solving the *Eight-Queens-Puzzle*"
   ]
  },
  {
   "cell_type": "code",
   "execution_count": null,
   "metadata": {},
   "outputs": [],
   "source": [
    "%run N-Queens-Problem-CSP.ipynb"
   ]
  },
  {
   "cell_type": "code",
   "execution_count": null,
   "metadata": {},
   "outputs": [],
   "source": [
    "P = create_csp(8)"
   ]
  },
  {
   "cell_type": "markdown",
   "metadata": {},
   "source": [
    "Backtracking search takes about 10 milliseconds on my desktop to solve the eight queens puzzle."
   ]
  },
  {
   "cell_type": "code",
   "execution_count": null,
   "metadata": {},
   "outputs": [],
   "source": [
    "%%time\n",
    "Solution = solve(P)\n",
    "print(f'Solution = {Solution}')"
   ]
  },
  {
   "cell_type": "markdown",
   "metadata": {},
   "source": [
    "## Displaying the Solution"
   ]
  },
  {
   "cell_type": "markdown",
   "metadata": {},
   "source": [
    "In order to have a more convenient view of the solution of the 8 queens\n",
    "puzzle, we have to install `python-chess`.  After activating the appropriate  Python environment, this can be done using the following command:\n",
    "```\n",
    "   pip install python-chess\n",
    "```"
   ]
  },
  {
   "cell_type": "code",
   "execution_count": null,
   "metadata": {},
   "outputs": [],
   "source": [
    "import chess"
   ]
  },
  {
   "cell_type": "markdown",
   "metadata": {},
   "source": [
    "The function `show_solution(Solution)` takes a dictionary that contains a variable assignment that represents a solution to the 8-queens puzzle.  It displays this Solution on a chess board."
   ]
  },
  {
   "cell_type": "code",
   "execution_count": null,
   "metadata": {},
   "outputs": [],
   "source": [
    "def show_solution(Solution):\n",
    "    board = chess.Board(None)  # create empty chess board\n",
    "    queen = chess.Piece(chess.QUEEN, True)\n",
    "    for row in range(1, 8+1):\n",
    "        col = Solution['V'+str(row)]\n",
    "        field_number = (row - 1) * 8 + col - 1\n",
    "        board.set_piece_at(field_number, queen)\n",
    "    display(board)"
   ]
  },
  {
   "cell_type": "code",
   "execution_count": null,
   "metadata": {},
   "outputs": [],
   "source": [
    "show_solution(Solution)"
   ]
  },
  {
   "cell_type": "markdown",
   "metadata": {},
   "source": [
    "## Solving the *Zebra Puzzle*"
   ]
  },
  {
   "cell_type": "code",
   "execution_count": null,
   "metadata": {},
   "outputs": [],
   "source": [
    "%run Zebra.ipynb"
   ]
  },
  {
   "cell_type": "code",
   "execution_count": null,
   "metadata": {},
   "outputs": [],
   "source": [
    "zebra = zebra_csp()"
   ]
  },
  {
   "cell_type": "code",
   "execution_count": null,
   "metadata": {
    "scrolled": true
   },
   "outputs": [],
   "source": [
    "%%time\n",
    "Solution = solve(zebra)"
   ]
  },
  {
   "cell_type": "code",
   "execution_count": null,
   "metadata": {},
   "outputs": [],
   "source": [
    "show_solution(Solution)"
   ]
  },
  {
   "cell_type": "markdown",
   "metadata": {},
   "source": [
    "## Solving a Sudoku Puzzle"
   ]
  },
  {
   "cell_type": "code",
   "execution_count": null,
   "metadata": {},
   "outputs": [],
   "source": [
    "%run Sudoku.ipynb"
   ]
  },
  {
   "cell_type": "code",
   "execution_count": null,
   "metadata": {
    "scrolled": true
   },
   "outputs": [],
   "source": [
    "csp = sudoku_csp(Sudoku)\n",
    "csp"
   ]
  },
  {
   "cell_type": "code",
   "execution_count": null,
   "metadata": {
    "scrolled": false
   },
   "outputs": [],
   "source": [
    "%%time\n",
    "Solution = solve(csp)"
   ]
  },
  {
   "cell_type": "code",
   "execution_count": null,
   "metadata": {
    "scrolled": false
   },
   "outputs": [],
   "source": [
    "show_solution(Solution)"
   ]
  },
  {
   "cell_type": "markdown",
   "metadata": {},
   "source": [
    "## Solving a Crypto-Arithmetic Puzzle"
   ]
  },
  {
   "cell_type": "code",
   "execution_count": 12,
   "metadata": {},
   "outputs": [
    {
     "data": {
      "text/html": [
       "<style>\n",
       ".container { width:100% !important; }\n",
       "</style>\n"
      ],
      "text/plain": [
       "<IPython.core.display.HTML object>"
      ]
     },
     "metadata": {},
     "output_type": "display_data"
    }
   ],
   "source": [
    "%run Crypto-Arithmetic.ipynb"
   ]
  },
  {
   "cell_type": "code",
   "execution_count": 13,
   "metadata": {},
   "outputs": [],
   "source": [
    "csp = crypto_csp()"
   ]
  },
  {
   "cell_type": "code",
   "execution_count": 14,
   "metadata": {
    "scrolled": false
   },
   "outputs": [
    {
     "name": "stdout",
     "output_type": "stream",
     "text": [
      "{}\n",
      "{'C3': 0}\n",
      "{'C3': 0, 'C1': 0}\n",
      "{'C3': 0, 'C1': 0, 'C2': 0}\n",
      "{'C3': 0, 'C1': 0, 'C2': 0, 'M': 1}\n",
      "{'C3': 0, 'C1': 0, 'C2': 0, 'M': 1, 'S': 9}\n",
      "{'C3': 0, 'C1': 0, 'C2': 0, 'M': 1, 'S': 9, 'O': 0}\n",
      "{'C3': 0, 'C1': 0, 'C2': 0, 'M': 1, 'S': 9, 'O': 0, 'D': 2}\n",
      "{'C3': 0, 'C1': 0, 'C2': 0, 'M': 1, 'S': 9, 'O': 0, 'D': 3}\n",
      "{'C3': 0, 'C1': 0, 'C2': 0, 'M': 1, 'S': 9, 'O': 0, 'D': 4}\n",
      "{'C3': 0, 'C1': 0, 'C2': 0, 'M': 1, 'S': 9, 'O': 0, 'D': 5}\n",
      "{'C3': 0, 'C1': 0, 'C2': 0, 'M': 1, 'S': 9, 'O': 0, 'D': 6}\n",
      "{'C3': 0, 'C1': 0, 'C2': 0, 'M': 1, 'S': 9, 'O': 0, 'D': 7}\n",
      "{'C3': 0, 'C1': 0, 'C2': 1}\n",
      "{'C3': 0, 'C1': 0, 'C2': 1, 'M': 1}\n",
      "{'C3': 0, 'C1': 0, 'C2': 1, 'M': 1, 'S': 9}\n",
      "{'C3': 0, 'C1': 0, 'C2': 1, 'M': 1, 'S': 9, 'O': 0}\n",
      "{'C3': 0, 'C1': 0, 'C2': 1, 'M': 1, 'S': 9, 'O': 0, 'D': 2}\n",
      "{'C3': 0, 'C1': 0, 'C2': 1, 'M': 1, 'S': 9, 'O': 0, 'D': 2, 'E': 3}\n",
      "{'C3': 0, 'C1': 0, 'C2': 1, 'M': 1, 'S': 9, 'O': 0, 'D': 2, 'E': 3, 'Y': 5}\n",
      "{'C3': 0, 'C1': 0, 'C2': 1, 'M': 1, 'S': 9, 'O': 0, 'D': 2, 'E': 4}\n",
      "{'C3': 0, 'C1': 0, 'C2': 1, 'M': 1, 'S': 9, 'O': 0, 'D': 2, 'E': 4, 'Y': 6}\n",
      "{'C3': 0, 'C1': 0, 'C2': 1, 'M': 1, 'S': 9, 'O': 0, 'D': 2, 'E': 5}\n",
      "{'C3': 0, 'C1': 0, 'C2': 1, 'M': 1, 'S': 9, 'O': 0, 'D': 2, 'E': 5, 'Y': 7}\n",
      "{'C3': 0, 'C1': 0, 'C2': 1, 'M': 1, 'S': 9, 'O': 0, 'D': 2, 'E': 6}\n",
      "{'C3': 0, 'C1': 0, 'C2': 1, 'M': 1, 'S': 9, 'O': 0, 'D': 2, 'E': 6, 'Y': 8}\n",
      "{'C3': 0, 'C1': 0, 'C2': 1, 'M': 1, 'S': 9, 'O': 0, 'D': 3}\n",
      "{'C3': 0, 'C1': 0, 'C2': 1, 'M': 1, 'S': 9, 'O': 0, 'D': 3, 'E': 4}\n",
      "{'C3': 0, 'C1': 0, 'C2': 1, 'M': 1, 'S': 9, 'O': 0, 'D': 3, 'E': 4, 'Y': 7}\n",
      "{'C3': 0, 'C1': 0, 'C2': 1, 'M': 1, 'S': 9, 'O': 0, 'D': 3, 'E': 5}\n",
      "{'C3': 0, 'C1': 0, 'C2': 1, 'M': 1, 'S': 9, 'O': 0, 'D': 3, 'E': 5, 'Y': 8}\n",
      "{'C3': 0, 'C1': 0, 'C2': 1, 'M': 1, 'S': 9, 'O': 0, 'D': 4}\n",
      "{'C3': 0, 'C1': 0, 'C2': 1, 'M': 1, 'S': 9, 'O': 0, 'D': 4, 'E': 2}\n",
      "{'C3': 0, 'C1': 0, 'C2': 1, 'M': 1, 'S': 9, 'O': 0, 'D': 4, 'E': 2, 'Y': 6}\n",
      "{'C3': 0, 'C1': 0, 'C2': 1, 'M': 1, 'S': 9, 'O': 0, 'D': 5}\n",
      "{'C3': 0, 'C1': 0, 'C2': 1, 'M': 1, 'S': 9, 'O': 0, 'D': 5, 'E': 2}\n",
      "{'C3': 0, 'C1': 0, 'C2': 1, 'M': 1, 'S': 9, 'O': 0, 'D': 5, 'E': 2, 'Y': 7}\n",
      "{'C3': 0, 'C1': 0, 'C2': 1, 'M': 1, 'S': 9, 'O': 0, 'D': 5, 'E': 3}\n",
      "{'C3': 0, 'C1': 0, 'C2': 1, 'M': 1, 'S': 9, 'O': 0, 'D': 5, 'E': 3, 'Y': 8}\n",
      "{'C3': 0, 'C1': 0, 'C2': 1, 'M': 1, 'S': 9, 'O': 0, 'D': 6}\n",
      "{'C3': 0, 'C1': 0, 'C2': 1, 'M': 1, 'S': 9, 'O': 0, 'D': 6, 'E': 2}\n",
      "{'C3': 0, 'C1': 0, 'C2': 1, 'M': 1, 'S': 9, 'O': 0, 'D': 6, 'E': 2, 'Y': 8}\n",
      "{'C3': 0, 'C1': 0, 'C2': 1, 'M': 1, 'S': 9, 'O': 0, 'D': 7}\n",
      "{'C3': 0, 'C1': 1}\n",
      "{'C3': 0, 'C1': 1, 'C2': 0}\n",
      "{'C3': 0, 'C1': 1, 'C2': 0, 'M': 1}\n",
      "{'C3': 0, 'C1': 1, 'C2': 0, 'M': 1, 'S': 9}\n",
      "{'C3': 0, 'C1': 1, 'C2': 0, 'M': 1, 'S': 9, 'O': 0}\n",
      "{'C3': 0, 'C1': 1, 'C2': 0, 'M': 1, 'S': 9, 'O': 0, 'D': 2}\n",
      "{'C3': 0, 'C1': 1, 'C2': 0, 'M': 1, 'S': 9, 'O': 0, 'D': 3}\n",
      "{'C3': 0, 'C1': 1, 'C2': 0, 'M': 1, 'S': 9, 'O': 0, 'D': 4}\n",
      "{'C3': 0, 'C1': 1, 'C2': 0, 'M': 1, 'S': 9, 'O': 0, 'D': 5}\n",
      "{'C3': 0, 'C1': 1, 'C2': 0, 'M': 1, 'S': 9, 'O': 0, 'D': 6}\n",
      "{'C3': 0, 'C1': 1, 'C2': 0, 'M': 1, 'S': 9, 'O': 0, 'D': 7}\n",
      "{'C3': 0, 'C1': 1, 'C2': 0, 'M': 1, 'S': 9, 'O': 0, 'D': 8}\n",
      "{'C3': 0, 'C1': 1, 'C2': 0, 'M': 1, 'S': 9, 'O': 0, 'D': 8, 'Y': 2}\n",
      "{'C3': 0, 'C1': 1, 'C2': 0, 'M': 1, 'S': 9, 'O': 0, 'D': 8, 'Y': 3}\n",
      "{'C3': 0, 'C1': 1, 'C2': 0, 'M': 1, 'S': 9, 'O': 0, 'D': 8, 'Y': 4}\n",
      "{'C3': 0, 'C1': 1, 'C2': 0, 'M': 1, 'S': 9, 'O': 0, 'D': 8, 'Y': 5}\n",
      "{'C3': 0, 'C1': 1, 'C2': 1}\n",
      "{'C3': 0, 'C1': 1, 'C2': 1, 'M': 1}\n",
      "{'C3': 0, 'C1': 1, 'C2': 1, 'M': 1, 'S': 9}\n",
      "{'C3': 0, 'C1': 1, 'C2': 1, 'M': 1, 'S': 9, 'O': 0}\n",
      "{'C3': 0, 'C1': 1, 'C2': 1, 'M': 1, 'S': 9, 'O': 0, 'D': 2}\n",
      "{'C3': 0, 'C1': 1, 'C2': 1, 'M': 1, 'S': 9, 'O': 0, 'D': 3}\n",
      "{'C3': 0, 'C1': 1, 'C2': 1, 'M': 1, 'S': 9, 'O': 0, 'D': 4}\n",
      "{'C3': 0, 'C1': 1, 'C2': 1, 'M': 1, 'S': 9, 'O': 0, 'D': 5}\n",
      "{'C3': 0, 'C1': 1, 'C2': 1, 'M': 1, 'S': 9, 'O': 0, 'D': 5, 'E': 7}\n",
      "{'C3': 0, 'C1': 1, 'C2': 1, 'M': 1, 'S': 9, 'O': 0, 'D': 5, 'E': 7, 'Y': 2}\n",
      "{'C3': 0, 'C1': 1, 'C2': 1, 'M': 1, 'S': 9, 'O': 0, 'D': 6}\n",
      "{'C3': 0, 'C1': 1, 'C2': 1, 'M': 1, 'S': 9, 'O': 0, 'D': 6, 'E': 7}\n",
      "{'C3': 0, 'C1': 1, 'C2': 1, 'M': 1, 'S': 9, 'O': 0, 'D': 6, 'E': 7, 'Y': 3}\n",
      "{'C3': 0, 'C1': 1, 'C2': 1, 'M': 1, 'S': 9, 'O': 0, 'D': 7}\n",
      "{'C3': 0, 'C1': 1, 'C2': 1, 'M': 1, 'S': 9, 'O': 0, 'D': 7, 'E': 5}\n",
      "{'C3': 0, 'C1': 1, 'C2': 1, 'M': 1, 'S': 9, 'O': 0, 'D': 7, 'E': 5, 'Y': 2}\n",
      "{'C3': 0, 'C1': 1, 'C2': 1, 'M': 1, 'S': 9, 'O': 0, 'D': 7, 'E': 5, 'Y': 2, 'N': 6}\n",
      "{'C3': 0, 'C1': 1, 'C2': 1, 'M': 1, 'S': 9, 'O': 0, 'D': 7, 'E': 5, 'Y': 2, 'N': 6, 'R': 8}\n",
      "CPU times: user 46.1 ms, sys: 3.41 ms, total: 49.5 ms\n",
      "Wall time: 48.2 ms\n"
     ]
    }
   ],
   "source": [
    "%%time\n",
    "Solution = solve(csp)"
   ]
  },
  {
   "cell_type": "code",
   "execution_count": null,
   "metadata": {},
   "outputs": [],
   "source": [
    "show_solution(Solution)"
   ]
  },
  {
   "cell_type": "code",
   "execution_count": null,
   "metadata": {},
   "outputs": [],
   "source": []
  }
 ],
 "metadata": {
  "kernelspec": {
   "display_name": "Python 3",
   "language": "python",
   "name": "python3"
  },
  "language_info": {
   "codemirror_mode": {
    "name": "ipython",
    "version": 3
   },
   "file_extension": ".py",
   "mimetype": "text/x-python",
   "name": "python",
   "nbconvert_exporter": "python",
   "pygments_lexer": "ipython3",
   "version": "3.7.6"
  },
  "toc": {
   "base_numbering": 1,
   "nav_menu": {},
   "number_sections": true,
   "sideBar": true,
   "skip_h1_title": false,
   "title_cell": "Table of Contents",
   "title_sidebar": "Contents",
   "toc_cell": false,
   "toc_position": {},
   "toc_section_display": true,
   "toc_window_display": false
  },
  "varInspector": {
   "cols": {
    "lenName": 16,
    "lenType": 16,
    "lenVar": 40
   },
   "kernels_config": {
    "python": {
     "delete_cmd_postfix": "",
     "delete_cmd_prefix": "del ",
     "library": "var_list.py",
     "varRefreshCmd": "print(var_dic_list())"
    },
    "r": {
     "delete_cmd_postfix": ") ",
     "delete_cmd_prefix": "rm(",
     "library": "var_list.r",
     "varRefreshCmd": "cat(var_dic_list()) "
    }
   },
   "types_to_exclude": [
    "module",
    "function",
    "builtin_function_or_method",
    "instance",
    "_Feature"
   ],
   "window_display": false
  }
 },
 "nbformat": 4,
 "nbformat_minor": 2
}
