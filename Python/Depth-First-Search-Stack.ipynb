{
 "cells": [
  {
   "cell_type": "code",
   "execution_count": null,
   "metadata": {},
   "outputs": [],
   "source": [
    "%%HTML\n",
    "<style>\n",
    ".container { width:100% }\n",
    "</style>"
   ]
  },
  {
   "cell_type": "markdown",
   "metadata": {},
   "source": [
    "# Depth First Search, Stack Based Implementation"
   ]
  },
  {
   "cell_type": "markdown",
   "metadata": {},
   "source": [
    "The class <a href=\"https://docs.python.org/3.7/library/collections.html#collections.deque\">deque</a> from the \n",
    "module <a href=\"https://docs.python.org/3.7/library/collections.html\">collections</a> provides \n",
    "<a href=\"https://en.wikipedia.org/wiki/Doubly_linked_list\">doubly linked lists</a> that can be used as stacks."
   ]
  },
  {
   "cell_type": "code",
   "execution_count": null,
   "metadata": {},
   "outputs": [],
   "source": [
    "from collections import deque"
   ]
  },
  {
   "cell_type": "markdown",
   "metadata": {},
   "source": [
    "The function `search` takes three arguments to solve a <b style=\"color:blue\">search problem</b>:\n",
    "- `start` is the start state of the search problem,\n",
    "- `goal`is the goal state, and\n",
    "- `next_states` is a function with signature $\\texttt{next_states}:Q \\rightarrow 2^Q$, where $Q$ is the set of states.\n",
    "  For every state $s \\in Q$, $\\texttt{next_states}(s)$ is the set of states that can be reached from $s$ in one step.\n",
    "If successful, `search` returns a path from `start` to `goal` that is a solution of the search problem\n",
    "$$ \\langle Q, \\texttt{next_states}, \\texttt{start}, \\texttt{goal} \\rangle. $$\n",
    "\n",
    "The implementation of `search` works as follows:\n",
    "- Any states that are encountered during the search are placed on top of the stack `Stack`.\n",
    "- In order to record the information how a state has been added to the `Stack`, we have a dictionary `Parent`.\n",
    "  For every state $s$ that is on `Stack`, $\\texttt{Parent}[s]$ returns a state $p$ such that $s \\in \\texttt{next_states}(p)$,\n",
    "  i.e. $p$ is the state that immediately precedes $s$ on the path that leads from `start` to $s$. \n",
    "- Initially, `Stack` only contains the state `start`.\n",
    "- As long as `Stack` is not empty, the `state` on top of `Stack` is replaced by all states that be reached in one step \n",
    "  from `state`.  However, in order to prevent depth first search to run in circles, only those states `ns`from the set\n",
    "  `next_states(state)` are appended to `Stack` that have not been encountered previously.  This is checked by testing\n",
    "  whether `ns` is in the domain of `Parent`.\n",
    "- When the `goal` is reached,  a path leading from `start` to `goal` is returned."
   ]
  },
  {
   "cell_type": "code",
   "execution_count": null,
   "metadata": {},
   "outputs": [],
   "source": [
    "def search(start, goal, next_states):\n",
    "    Stack  = deque([start])\n",
    "    Parent = { start: start }\n",
    "    while len(Stack) > 0:\n",
    "        state = Stack.pop()\n",
    "        for ns in next_states(state):\n",
    "            if ns == goal:\n",
    "                return path_to(state, Parent) + [goal]\n",
    "            if ns not in Parent:\n",
    "                Parent[ns] = state\n",
    "                Stack.append(ns)"
   ]
  },
  {
   "cell_type": "markdown",
   "metadata": {},
   "source": [
    "Given a `state` and a parent dictionary `Parent`, the function `path_to` returns a path leading to the given `state`."
   ]
  },
  {
   "cell_type": "code",
   "execution_count": null,
   "metadata": {},
   "outputs": [],
   "source": [
    "def path_to(state, Parent):\n",
    "    p = Parent[state]\n",
    "    if p == state:\n",
    "        return [state]\n",
    "    return path_to(p, Parent) + [state]"
   ]
  },
  {
   "cell_type": "markdown",
   "metadata": {},
   "source": [
    "# Solving the Sliding Puzzle"
   ]
  },
  {
   "cell_type": "code",
   "execution_count": null,
   "metadata": {},
   "outputs": [],
   "source": [
    "%run Sliding-Puzzle.ipynb"
   ]
  },
  {
   "cell_type": "markdown",
   "metadata": {},
   "source": [
    "We need to import `sys` in order to increase the \n",
    "<b style=\"color:blue\">recursion limit</b>."
   ]
  },
  {
   "cell_type": "code",
   "execution_count": null,
   "metadata": {},
   "outputs": [],
   "source": [
    "import sys"
   ]
  },
  {
   "cell_type": "code",
   "execution_count": null,
   "metadata": {},
   "outputs": [],
   "source": [
    "sys.setrecursionlimit(10000)"
   ]
  },
  {
   "cell_type": "code",
   "execution_count": null,
   "metadata": {},
   "outputs": [],
   "source": [
    "%%time\n",
    "Path = search(start, goal, next_states)\n",
    "print(len(Path)-1)"
   ]
  },
  {
   "cell_type": "code",
   "execution_count": null,
   "metadata": {},
   "outputs": [],
   "source": []
  }
 ],
 "metadata": {
  "kernelspec": {
   "display_name": "Python 3",
   "language": "python",
   "name": "python3"
  },
  "language_info": {
   "codemirror_mode": {
    "name": "ipython",
    "version": 3
   },
   "file_extension": ".py",
   "mimetype": "text/x-python",
   "name": "python",
   "nbconvert_exporter": "python",
   "pygments_lexer": "ipython3",
   "version": "3.7.6"
  },
  "toc": {
   "base_numbering": 1,
   "nav_menu": {},
   "number_sections": true,
   "sideBar": true,
   "skip_h1_title": false,
   "title_cell": "Table of Contents",
   "title_sidebar": "Contents",
   "toc_cell": false,
   "toc_position": {},
   "toc_section_display": true,
   "toc_window_display": false
  }
 },
 "nbformat": 4,
 "nbformat_minor": 2
}
