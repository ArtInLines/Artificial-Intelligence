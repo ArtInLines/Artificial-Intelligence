{
 "cells": [
  {
   "cell_type": "code",
   "execution_count": null,
   "metadata": {},
   "outputs": [],
   "source": [
    "%%HTML\n",
    "<style>\n",
    ".container { width:100% !important }\n",
    "</style>"
   ]
  },
  {
   "cell_type": "markdown",
   "metadata": {},
   "source": [
    "# Depth First Search"
   ]
  },
  {
   "cell_type": "code",
   "execution_count": null,
   "metadata": {},
   "outputs": [],
   "source": [
    "def search(start, goal, next_states):\n",
    "    return dfs(start, goal, next_states, [start])"
   ]
  },
  {
   "cell_type": "code",
   "execution_count": null,
   "metadata": {},
   "outputs": [],
   "source": [
    "def dfs(state, goal, next_states, Path):\n",
    "    if state == goal:\n",
    "        return Path\n",
    "    for ns in next_states(state):\n",
    "        if ns not in Path:\n",
    "            Result = dfs(ns, goal, next_states, Path + [ns])\n",
    "            if Result:\n",
    "                return Result"
   ]
  },
  {
   "cell_type": "markdown",
   "metadata": {},
   "source": [
    "# Display Code"
   ]
  },
  {
   "cell_type": "markdown",
   "metadata": {},
   "source": [
    "Below, we ensure that we only import `graphviz` if this notebook is not loaded from another notebook.  This works by checking that the variable `file` is not set."
   ]
  },
  {
   "cell_type": "code",
   "execution_count": null,
   "metadata": {},
   "outputs": [],
   "source": [
    "try:\n",
    "    __file__\n",
    "except NameError:\n",
    "    import graphviz as gv"
   ]
  },
  {
   "cell_type": "markdown",
   "metadata": {},
   "source": [
    "The function $\\texttt{toDot}(\\texttt{source}, \\texttt{Edges}, \\texttt{Fringe}, \\texttt{Visited})$ takes a graph that is represented by \n",
    "its `Edges`, a set of nodes `Fringe`, and set `Visited` of nodes that have already been visited."
   ]
  },
  {
   "cell_type": "code",
   "execution_count": null,
   "metadata": {},
   "outputs": [],
   "source": [
    "def toDot(source, goal, Edges, Path):\n",
    "    V = set()\n",
    "    for x, L in Edges.items():\n",
    "        V.add(x)\n",
    "        for y in L:\n",
    "            V.add(y)\n",
    "    dot = gv.Digraph(node_attr={'shape': 'record', 'style': 'rounded'})\n",
    "    dot.attr(rankdir='LR', size='8,5')\n",
    "    for x in V:\n",
    "        if x in Path and x == goal:\n",
    "            dot.node(str(x), label=str(x), color='magenta')\n",
    "        elif x in Path:\n",
    "            dot.node(str(x), label=str(x), color='red')\n",
    "        else:\n",
    "            dot.node(str(x), label=str(x))\n",
    "    for u in V:\n",
    "        if Edges.get(u):\n",
    "            for v in Edges[u]:\n",
    "                if u in Path and v in Path and Path.index(v) == Path.index(u) + 1:\n",
    "                    dot.edge(str(u), str(v), color='brown', style='bold') \n",
    "                elif u in Path and v in Path and Path.index(v) + 1 == Path.index(u):\n",
    "                    dot.edge(str(u), str(v), color='blue', style='bold', dir='back')\n",
    "                else:\n",
    "                    dot.edge(str(u), str(v), dir='both')\n",
    "    return dot"
   ]
  },
  {
   "cell_type": "markdown",
   "metadata": {},
   "source": [
    "# Testing"
   ]
  },
  {
   "cell_type": "code",
   "execution_count": null,
   "metadata": {},
   "outputs": [],
   "source": [
    "n = 6"
   ]
  },
  {
   "cell_type": "code",
   "execution_count": null,
   "metadata": {},
   "outputs": [],
   "source": [
    "def nextStates(node):\n",
    "    x, y = node\n",
    "    if x == 0 and y == 0:\n",
    "        return { (1, 0), (0, 1) }\n",
    "    if x == 0 and 0 < y < n-1:\n",
    "        return { (x+1, y), (x, y+1), (x, y-1) }\n",
    "    if 0 < x < n-1 and y == 0:\n",
    "        return { (x+1, y), (x, y+1), (x-1, y) }\n",
    "    if 0 < x < n-1 and 0 < y < n-1:\n",
    "        return { (x+1, y), (x, y+1), (x-1, y), (x, y-1) }\n",
    "    if x == n-1 and y == 0:\n",
    "        return { (x, y+1), (x-1, y)}\n",
    "    if x == 0 and y == n-1:\n",
    "        return { (x, y-1), (x+1, y)}\n",
    "    if x == n-1 and 0 < y < n-1:\n",
    "        return { (x, y+1), (x-1, y), (x, y-1) }\n",
    "    if 0 < x < n-1 and y == n-1:\n",
    "        return { (x+1, y), (x-1, y), (x, y-1) }\n",
    "    if x == n-1 and y == n-1:\n",
    "        return { (x-1, y), (x, y-1) }\n",
    "    return {}"
   ]
  },
  {
   "cell_type": "code",
   "execution_count": null,
   "metadata": {},
   "outputs": [],
   "source": [
    "def remove_back_edge(r, c, NS):\n",
    "    return [(x,y) for (x,y) in NS if x >= r and y >= c]"
   ]
  },
  {
   "cell_type": "code",
   "execution_count": null,
   "metadata": {},
   "outputs": [],
   "source": [
    "def create_edges(n):\n",
    "    Edges = {}\n",
    "    for row in range(n):\n",
    "        for col in range(n):\n",
    "            if (row, col) != (n-1, n-1):\n",
    "                Edges[(row, col)] = remove_back_edge(row, col, nextStates((row, col)))\n",
    "    for k in range(n-1):\n",
    "        Edges[(k, n-1)] = [(k+1, n-1)]\n",
    "        Edges[(n-1, k)] = [(n-1, k+1)]\n",
    "    return Edges"
   ]
  },
  {
   "cell_type": "code",
   "execution_count": null,
   "metadata": {},
   "outputs": [],
   "source": [
    "def search_show(start, goal, next_states, Edges):\n",
    "    Result = dfs_show(start, goal, next_states, [start], Edges)\n",
    "    display(toDot(start, goal, Edges, Result))"
   ]
  },
  {
   "cell_type": "code",
   "execution_count": null,
   "metadata": {},
   "outputs": [],
   "source": [
    "def dfs_show(state, goal, next_states, Path, Edges):\n",
    "    if state == goal:\n",
    "        return Path\n",
    "    for ns in next_states(state):\n",
    "        if ns not in Path:\n",
    "            display(toDot(state, goal, Edges, Path))\n",
    "            Result = dfs_show(ns, goal, next_states, Path + [ns], Edges)\n",
    "            if Result:\n",
    "                return Result"
   ]
  },
  {
   "cell_type": "code",
   "execution_count": null,
   "metadata": {},
   "outputs": [],
   "source": [
    "def main():\n",
    "    Edges = create_edges(n)\n",
    "    search_show((0,0), (n-1,n-1), nextStates, Edges)"
   ]
  },
  {
   "cell_type": "code",
   "execution_count": null,
   "metadata": {
    "scrolled": false
   },
   "outputs": [],
   "source": [
    "try:\n",
    "    __file__\n",
    "except NameError:\n",
    "    main()"
   ]
  },
  {
   "cell_type": "code",
   "execution_count": null,
   "metadata": {},
   "outputs": [],
   "source": []
  },
  {
   "cell_type": "code",
   "execution_count": null,
   "metadata": {},
   "outputs": [],
   "source": []
  }
 ],
 "metadata": {
  "kernelspec": {
   "display_name": "Python 3",
   "language": "python",
   "name": "python3"
  },
  "language_info": {
   "codemirror_mode": {
    "name": "ipython",
    "version": 3
   },
   "file_extension": ".py",
   "mimetype": "text/x-python",
   "name": "python",
   "nbconvert_exporter": "python",
   "pygments_lexer": "ipython3",
   "version": "3.7.3"
  },
  "toc": {
   "base_numbering": 1,
   "nav_menu": {},
   "number_sections": true,
   "sideBar": true,
   "skip_h1_title": false,
   "title_cell": "Table of Contents",
   "title_sidebar": "Contents",
   "toc_cell": false,
   "toc_position": {},
   "toc_section_display": true,
   "toc_window_display": false
  }
 },
 "nbformat": 4,
 "nbformat_minor": 2
}
