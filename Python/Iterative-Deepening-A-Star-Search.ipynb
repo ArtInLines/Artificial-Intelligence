{
 "cells": [
  {
   "cell_type": "code",
   "execution_count": 1,
   "metadata": {},
   "outputs": [
    {
     "data": {
      "text/html": [
       "<style>\n",
       ".container { width:100% }\n",
       "</style>"
      ],
      "text/plain": [
       "<IPython.core.display.HTML object>"
      ]
     },
     "metadata": {},
     "output_type": "display_data"
    }
   ],
   "source": [
    "%%HTML\n",
    "<style>\n",
    ".container { width:100% }\n",
    "</style>"
   ]
  },
  {
   "cell_type": "markdown",
   "metadata": {},
   "source": [
    "# Iterative Deepening A-Star Search"
   ]
  },
  {
   "cell_type": "markdown",
   "metadata": {},
   "source": [
    "The function `search` takes four arguments to solve a <b style=\"color:blue\">search problem</b>:\n",
    "- `start` is the start state of the search problem,\n",
    "- `goal`is the goal state, and\n",
    "- `next_states` is a function with signature\n",
    "   $\\texttt{next_states}:Q \\rightarrow 2^Q$, where $Q$ is the set of states.\n",
    "   For every state $s \\in Q$, $\\texttt{next_states}(s)$ is the set of states \n",
    "   that can be reached from $s$ in one step.\n",
    "- `heuristic` is a function that takes two states as arguments.  \n",
    "   It returns an estimate of the length of the shortest path between these \n",
    "   states.\n",
    "   \n",
    "If successful, `search` returns a path from `start` to `goal` that is a solution of the search problem\n",
    "$$ \\langle Q, \\texttt{next_states}, \\texttt{start}, \\texttt{goal} \\rangle. $$\n",
    "\n",
    "The procedure `search` uses <b style=\"color:blue\">iterative deepening</b> to compute a solution of the given search problem. "
   ]
  },
  {
   "cell_type": "code",
   "execution_count": 2,
   "metadata": {},
   "outputs": [],
   "source": [
    "def search(start, goal, next_states, heuristic):\n",
    "    limit = heuristic(start, goal)\n",
    "    while True:\n",
    "        print(f'Trying to find a solution of length {limit}.')\n",
    "        Path = dl_search([start], goal, next_states, limit, heuristic)\n",
    "        if isinstance(Path, list):\n",
    "            return Path\n",
    "        limit = Path"
   ]
  },
  {
   "cell_type": "markdown",
   "metadata": {},
   "source": [
    "The function `dl_search` tries to find a solution to the search problem\n",
    "$$ \\langle Q, \\texttt{next_states}, \\texttt{start}, \\texttt{goal} \\rangle $$\n",
    "that has a length of at most `limit`.  It uses `heuristic` to cut short a search that would be unsuccessful.  If it can not find a solution that satisfies the given `limit`, it returns a number that is a lower bound for the \n",
    "length of the solution.  This lower bound will always be greater than limit and can be used in the next attempt to search for a solution."
   ]
  },
  {
   "cell_type": "code",
   "execution_count": 3,
   "metadata": {},
   "outputs": [],
   "source": [
    "def dl_search(Path, goal, next_states, limit, heuristic):\n",
    "    state    = Path[-1]\n",
    "    distance = len(Path) - 1\n",
    "    total    = distance + heuristic(state, goal)\n",
    "    if total > limit:\n",
    "        return total\n",
    "    if state == goal:\n",
    "        return Path\n",
    "    smallest = float(\"Inf\")  # infinity\n",
    "    for ns in next_states(state):\n",
    "        if ns not in Path:\n",
    "            Solution = dl_search(Path + [ns], goal, next_states, limit, heuristic)\n",
    "            if isinstance(Solution, list):\n",
    "                return Solution\n",
    "            smallest = min(smallest, Solution)\n",
    "    return smallest"
   ]
  },
  {
   "cell_type": "markdown",
   "metadata": {},
   "source": [
    "# Solving the Sliding Puzzle"
   ]
  },
  {
   "cell_type": "code",
   "execution_count": 4,
   "metadata": {},
   "outputs": [
    {
     "data": {
      "text/html": [
       "<style>\n",
       ".container { width:100% }\n",
       "</style>"
      ],
      "text/plain": [
       "<IPython.core.display.HTML object>"
      ]
     },
     "metadata": {},
     "output_type": "display_data"
    }
   ],
   "source": [
    "%run Sliding-Puzzle.ipynb"
   ]
  },
  {
   "cell_type": "code",
   "execution_count": 5,
   "metadata": {},
   "outputs": [
    {
     "name": "stdout",
     "output_type": "stream",
     "text": [
      "Trying to find a solution of length 21.\n",
      "Trying to find a solution of length 23.\n",
      "Trying to find a solution of length 25.\n",
      "Trying to find a solution of length 27.\n",
      "Trying to find a solution of length 29.\n",
      "Trying to find a solution of length 31.\n",
      "31\n",
      "CPU times: user 792 ms, sys: 4.28 ms, total: 796 ms\n",
      "Wall time: 795 ms\n"
     ]
    }
   ],
   "source": [
    "%%time\n",
    "Path = search(start, goal, next_states, manhattan)\n",
    "print(len(Path)-1)"
   ]
  },
  {
   "cell_type": "code",
   "execution_count": null,
   "metadata": {},
   "outputs": [],
   "source": [
    "animation(Path)"
   ]
  },
  {
   "cell_type": "code",
   "execution_count": 6,
   "metadata": {},
   "outputs": [
    {
     "name": "stdout",
     "output_type": "stream",
     "text": [
      "Trying to find a solution of length 20.\n",
      "Trying to find a solution of length 22.\n",
      "Trying to find a solution of length 24.\n",
      "Trying to find a solution of length 26.\n",
      "Trying to find a solution of length 28.\n",
      "Trying to find a solution of length 30.\n",
      "Trying to find a solution of length 32.\n",
      "Trying to find a solution of length 34.\n",
      "Trying to find a solution of length 36.\n",
      "36\n",
      "CPU times: user 2.43 s, sys: 9.7 ms, total: 2.43 s\n",
      "Wall time: 2.44 s\n"
     ]
    }
   ],
   "source": [
    "%%time\n",
    "Path = search(start2, goal2, next_states, manhattan)\n",
    "print(len(Path)-1)"
   ]
  },
  {
   "cell_type": "code",
   "execution_count": null,
   "metadata": {
    "scrolled": true
   },
   "outputs": [],
   "source": [
    "animation(Path)"
   ]
  },
  {
   "cell_type": "code",
   "execution_count": null,
   "metadata": {},
   "outputs": [],
   "source": []
  }
 ],
 "metadata": {
  "kernelspec": {
   "display_name": "Python 3",
   "language": "python",
   "name": "python3"
  },
  "language_info": {
   "codemirror_mode": {
    "name": "ipython",
    "version": 3
   },
   "file_extension": ".py",
   "mimetype": "text/x-python",
   "name": "python",
   "nbconvert_exporter": "python",
   "pygments_lexer": "ipython3",
   "version": "3.7.6"
  },
  "toc": {
   "base_numbering": 1,
   "nav_menu": {},
   "number_sections": true,
   "sideBar": true,
   "skip_h1_title": false,
   "title_cell": "Table of Contents",
   "title_sidebar": "Contents",
   "toc_cell": false,
   "toc_position": {},
   "toc_section_display": true,
   "toc_window_display": false
  }
 },
 "nbformat": 4,
 "nbformat_minor": 2
}
