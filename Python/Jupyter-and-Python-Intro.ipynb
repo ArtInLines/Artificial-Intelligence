{
 "cells": [
  {
   "cell_type": "code",
   "execution_count": null,
   "metadata": {},
   "outputs": [],
   "source": [
    "from IPython.core.display import HTML\n",
    "with open('style.css') as f:\n",
    "    css = f.read()\n",
    "HTML(css)"
   ]
  },
  {
   "cell_type": "markdown",
   "metadata": {},
   "source": [
    "# Introduction to Python and Jupyter Notebooks"
   ]
  },
  {
   "cell_type": "markdown",
   "metadata": {},
   "source": [
    "According to the [TIOBE index](https://www.tiobe.com/tiobe-index/) of January 2024, Python is the most popular\n",
    "programming language.  This has several reasons:\n",
    "* Python is very accessible because it is both easy to learn and easy to use.\n",
    "* Pythons is very versatile and hence has a wide range of applications, as Python is a *multi-paradigm language*  \n",
    "  that supports *procedural*, *object-oriented*, and *functional programming*. \n",
    "* Python has a huge number of usefull packages for nearly every conceivable purpose.  \n",
    "  These packages can be searched at [PyPI.org](pypi.org).\n",
    "* In particular, *Python* has many libraries related to *artificial intelligence* and *machine learning*  \n",
    "  in particular,  making it an excellent choice for a lecture on these topics.\n",
    "* Python can be easily integrated with other languages, such as `C` and `C++` which makes Python  \n",
    "  the preferred choice for combining the simplicity of a scripting language with the performance  \n",
    "  of a lower-level language.\n",
    "  \n",
    "We will work with Python via *Jupyter notebooks*."
   ]
  },
  {
   "cell_type": "markdown",
   "metadata": {},
   "source": [
    "A **Jupyter notebook** consists of two different types of cells:\n",
    "- *Code cells* contain Python code, while\n",
    "- *Markdown cells* are used to write comments.  \n",
    "\n",
    "The current cell is a *markdown cell*, the next cell is a *code cell*.\n",
    "There three ways to change the typesetting:\n",
    "* Text enclosed backquotes is displayed in `fixed with font`.\n",
    "* Text enclosed by a single `*` characters is displayed  *italics*.\n",
    "* Text enclosed by the string `**` is displayed in **bold**.\n",
    "\n",
    "It is also possible to use `HTML` to format text in a markdown cell.\n",
    "For example, we can display words with the colors <font color=\"red\">red</font>,\n",
    "<font color=\"green\">green</font>, and <font color=\"blue\">blue</font>.\n",
    "\n",
    "The next cell is a code cell defining and initializing the variable `x`."
   ]
  },
  {
   "cell_type": "code",
   "execution_count": null,
   "metadata": {},
   "outputs": [],
   "source": [
    "x = 1"
   ]
  },
  {
   "cell_type": "markdown",
   "metadata": {},
   "source": [
    "# An Introduction to *Python*\n",
    "\n",
    "Let us begin by checking the version of our Python interpreter.\n",
    "The package `sys` contains the variable `version` that stores this information."
   ]
  },
  {
   "cell_type": "code",
   "execution_count": null,
   "metadata": {},
   "outputs": [],
   "source": [
    "import sys\n",
    "sys.version"
   ]
  },
  {
   "cell_type": "markdown",
   "metadata": {},
   "source": [
    "This should output something like `'3.11.7 ...'`.  We will be using this version since we need some features of the type system that were introduced in Python `3.11`. "
   ]
  },
  {
   "cell_type": "markdown",
   "metadata": {},
   "source": [
    "This notebook gives a short introduction to *Python*.  We will just present the basics.\n",
    "More interesting features will be presented later when we need them."
   ]
  },
  {
   "cell_type": "markdown",
   "metadata": {},
   "source": [
    "## Evaluating expressions\n",
    "\n",
    "As Python is an interactive language, expressions can be evaluated directly.  In a *Jupyter* \n",
    "notebook we just have to type `Ctrl-Enter` in the cell containing the expression.  Instead\n",
    "of `Ctrl-Enter` we can also use `Shift-Enter`."
   ]
  },
  {
   "cell_type": "code",
   "execution_count": null,
   "metadata": {},
   "outputs": [],
   "source": [
    "1 + 2"
   ]
  },
  {
   "cell_type": "markdown",
   "metadata": {},
   "source": [
    "In *Python*, the precision of integers is not bounded.  Hence, the following expression does **not** cause\n",
    "an <a href=\"https://en.wikipedia.org/wiki/Integer_overflow\">integer overflow</a>."
   ]
  },
  {
   "cell_type": "code",
   "execution_count": null,
   "metadata": {},
   "outputs": [],
   "source": [
    "1 * 2 * 3 * 4 * 5 * 6 * 7 * 8 * 9 * 10 * 11 * 12 * 13 * 14 * 15 * 16 * 17 * 18 * 19 * 20 * 21 * 22"
   ]
  },
  {
   "cell_type": "markdown",
   "metadata": {},
   "source": [
    "Here is another example that show that *Python* is able to compute with huge numbers.  \n",
    "In this example, the operator `**` is used for exponentiation, i.e. the expression\n",
    "```\n",
    "    7 ** 125\n",
    "```\n",
    "is interpreted as $7^{125}$."
   ]
  },
  {
   "cell_type": "code",
   "execution_count": null,
   "metadata": {
    "scrolled": true
   },
   "outputs": [],
   "source": [
    "7 ** 125"
   ]
  },
  {
   "cell_type": "markdown",
   "metadata": {},
   "source": [
    "In order to print numbers or strings, we can use the function `print`.  This function can print objects of any type.  In the following example, this function prints a *string*.  In *Python* any character sequence \n",
    "enclosed in single quotes is interpreted as a *string*."
   ]
  },
  {
   "cell_type": "code",
   "execution_count": null,
   "metadata": {},
   "outputs": [],
   "source": [
    "print('Hello, World!')"
   ]
  },
  {
   "cell_type": "markdown",
   "metadata": {},
   "source": [
    "The last expression in every notebook cell is automatically printed.  Therefore, printing `'Hello, World!'` can also be done by just executing the following cell."
   ]
  },
  {
   "cell_type": "code",
   "execution_count": null,
   "metadata": {},
   "outputs": [],
   "source": [
    "'Hello, World!'"
   ]
  },
  {
   "cell_type": "markdown",
   "metadata": {},
   "source": [
    "If we want to supress the last expression from being printed, we can end the expression with a semicolon:"
   ]
  },
  {
   "cell_type": "code",
   "execution_count": null,
   "metadata": {},
   "outputs": [],
   "source": [
    "'Hello, World!';"
   ]
  },
  {
   "cell_type": "markdown",
   "metadata": {},
   "source": [
    "Instead of using single quotes we can also use double quotes as seen in the next example.  However, the convention is to use single quotes, unless the string itself contains a single quote."
   ]
  },
  {
   "cell_type": "code",
   "execution_count": null,
   "metadata": {},
   "outputs": [],
   "source": [
    "\"Hello, World!\""
   ]
  },
  {
   "cell_type": "markdown",
   "metadata": {},
   "source": [
    "In the next example we have to use double quotes, since the word \"`can't`\" contains a single quote."
   ]
  },
  {
   "cell_type": "code",
   "execution_count": null,
   "metadata": {},
   "outputs": [],
   "source": [
    "\"This can't be the case!\""
   ]
  },
  {
   "cell_type": "markdown",
   "metadata": {},
   "source": [
    "The function `print` accepts any number of arguments.  For example, to print the string \"`36 * 37 // 2 = `\" followed by the value of the expression $36 \\cdot 37 / 2$ we can use the following `print` statement:"
   ]
  },
  {
   "cell_type": "code",
   "execution_count": null,
   "metadata": {},
   "outputs": [],
   "source": [
    "print('36 * 37 // 2 =', 36 * 37 // 2)"
   ]
  },
  {
   "cell_type": "markdown",
   "metadata": {},
   "source": [
    "If we want to check the *type* of an expression, we can use the function `type`.  \n",
    "We discuss the different data types that are available in  Python in more detail later. "
   ]
  },
  {
   "cell_type": "code",
   "execution_count": null,
   "metadata": {},
   "outputs": [],
   "source": [
    "type(36 * 37 // 2)"
   ]
  },
  {
   "cell_type": "markdown",
   "metadata": {},
   "source": [
    "In the expression \"<tt>36 \\* 37 // 2</tt>\" we have used the operator \"<tt>//</tt>\" in order to enforce *integer division*, which is also known as *Euclidean division*.  If we had used the operator \"<tt>/</tt>\" instead, *Python* would have used *floating point division* and therefore it would have printed the floating point number <tt>666.0</tt> instead of the integer <tt>666<tt>. "
   ]
  },
  {
   "cell_type": "code",
   "execution_count": null,
   "metadata": {},
   "outputs": [],
   "source": [
    "type(36 * 37 / 2)"
   ]
  },
  {
   "cell_type": "code",
   "execution_count": null,
   "metadata": {},
   "outputs": [],
   "source": [
    "print('36 * 37 / 2 =', 36 * 37 / 2)"
   ]
  },
  {
   "cell_type": "markdown",
   "metadata": {},
   "source": [
    "The next cell demonstrates *integer division*, which is also known as\n",
    "[Euclidean division](https://en.wikipedia.org/wiki/Euclidean_division)."
   ]
  },
  {
   "cell_type": "code",
   "execution_count": null,
   "metadata": {},
   "outputs": [],
   "source": [
    "7 // 3"
   ]
  },
  {
   "cell_type": "markdown",
   "metadata": {},
   "source": [
    "The *remainder* that is left in an *integer division* is computed with the operator `%`. "
   ]
  },
  {
   "cell_type": "code",
   "execution_count": null,
   "metadata": {},
   "outputs": [],
   "source": [
    "7 % 3"
   ]
  },
  {
   "cell_type": "markdown",
   "metadata": {},
   "source": [
    "The result of a computation can be stored in a *variable*.  For example, to store the quotient resulting from dividing $7$ by $3$ into the variable with name `q` and to store the remainder into a variable with name `r` we can write:"
   ]
  },
  {
   "cell_type": "code",
   "execution_count": null,
   "metadata": {},
   "outputs": [],
   "source": [
    "q = 7 // 3\n",
    "r = 7 % 3"
   ]
  },
  {
   "cell_type": "markdown",
   "metadata": {},
   "source": [
    "Now `q` and `r` contain the quotient and the remainder of the integer division of `7` by `3`as can be seen below:"
   ]
  },
  {
   "cell_type": "code",
   "execution_count": null,
   "metadata": {},
   "outputs": [],
   "source": [
    "q"
   ]
  },
  {
   "cell_type": "code",
   "execution_count": null,
   "metadata": {},
   "outputs": [],
   "source": [
    "r"
   ]
  },
  {
   "cell_type": "markdown",
   "metadata": {},
   "source": [
    "## Lists\n",
    "\n",
    "In order to present more interesting examples we next show how *Python* supports *lists*.  A list is created using the square brackets \n",
    "`[` and `]`.  For example, the empty list, that is the list containing no elements, is written as `[]`."
   ]
  },
  {
   "cell_type": "code",
   "execution_count": null,
   "metadata": {},
   "outputs": [],
   "source": [
    "[]"
   ]
  },
  {
   "cell_type": "markdown",
   "metadata": {},
   "source": [
    "The list containing the elements `1`, `2`, and `3` is written by seperating the elements with the character \"`,`\" as shown below:"
   ]
  },
  {
   "cell_type": "code",
   "execution_count": null,
   "metadata": {},
   "outputs": [],
   "source": [
    "[1, 2, 3]"
   ]
  },
  {
   "cell_type": "markdown",
   "metadata": {},
   "source": [
    "The spaces that I have used in the previous example are optional but recommended."
   ]
  },
  {
   "cell_type": "markdown",
   "metadata": {},
   "source": [
    "There are a number of predefined functions that take lists as arguments.  For example, the function `sum` takes a list of numbers and adds these numbers."
   ]
  },
  {
   "cell_type": "code",
   "execution_count": null,
   "metadata": {},
   "outputs": [],
   "source": [
    "sum([1, 2, 3])"
   ]
  },
  {
   "cell_type": "markdown",
   "metadata": {},
   "source": [
    "To create a list containing all numbers starting from a given number $a$ up to but excluding the number $b$ we can use *list comprehension* together with the function `range`.  For example, the list of the first 10 positive natural numbers can be written as:"
   ]
  },
  {
   "cell_type": "code",
   "execution_count": null,
   "metadata": {},
   "outputs": [],
   "source": [
    "!jupyter --config-dir"
   ]
  },
  {
   "cell_type": "code",
   "execution_count": null,
   "metadata": {},
   "outputs": [],
   "source": [
    "L = [n for n in range(1, 10+1)]\n",
    "L"
   ]
  },
  {
   "cell_type": "markdown",
   "metadata": {},
   "source": [
    "The function call `range(a, b)` takes two integers `a` and `b` and returns the sequence of numbers from `a` upto `b-1`."
   ]
  },
  {
   "cell_type": "markdown",
   "metadata": {},
   "source": [
    "The general syntax for a list comprehension expression is\n",
    "$$ [x \\quad \\texttt{for}\\; x \\;\\texttt{in}\\; e]$$\n",
    "where `for` and `in` are keywords, $x$ is a variable used for iterating while $e$ is an expression that computes an *iterable object*.  For example, a list is an *iterable* because we can *iterate* over its elements. "
   ]
  },
  {
   "cell_type": "markdown",
   "metadata": {},
   "source": [
    "We can also combine *selection* with *list comprehension*.  This is done by using the keyword `if` followed by an expression that evaluates as either `True` of `False` for all elements that are generated by the comprehension expression.  For example, the following expression computes the list of all even natural numbers less or equal than $10$."
   ]
  },
  {
   "cell_type": "code",
   "execution_count": null,
   "metadata": {},
   "outputs": [],
   "source": [
    "E = [n for n in L if n % 2 == 0]\n",
    "E"
   ]
  },
  {
   "cell_type": "markdown",
   "metadata": {},
   "source": [
    "Here, the expression `n % 2 == 0` tests whether the remainder that is left when `n` is divided by `2` is equal to `0`.\n",
    "Note that we have to use the operator `==` to compare to numbers for equality, since the string `=` is used as the *assignment operator* in *Python*.\n",
    "\n",
    "The next example shows how to compute a list of square numbers."
   ]
  },
  {
   "cell_type": "code",
   "execution_count": null,
   "metadata": {},
   "outputs": [],
   "source": [
    "[n*n for n in L]"
   ]
  },
  {
   "cell_type": "markdown",
   "metadata": {},
   "source": [
    "The *index operator* $[\\cdot]$ is a postfix operator that is used to return the element that is stored at \n",
    "a given *index* in a list.  For example, If `L` is a list, then `L[0]` returns the first element of `L`.  \n",
    "(Like in the programming language `C`, indexing is zero-based in *Python*, so the first element has index `0`.)"
   ]
  },
  {
   "cell_type": "code",
   "execution_count": null,
   "metadata": {},
   "outputs": [],
   "source": [
    "L"
   ]
  },
  {
   "cell_type": "code",
   "execution_count": null,
   "metadata": {},
   "outputs": [],
   "source": [
    "L[0]"
   ]
  },
  {
   "cell_type": "markdown",
   "metadata": {},
   "source": [
    "To change the first element of a list, we can use the *index operator* on the left hand side of an *assignment*:"
   ]
  },
  {
   "cell_type": "code",
   "execution_count": null,
   "metadata": {},
   "outputs": [],
   "source": [
    "L[0] = 7\n",
    "L"
   ]
  },
  {
   "cell_type": "markdown",
   "metadata": {},
   "source": [
    "Lists can be *concatenated*  with the operator `+`: "
   ]
  },
  {
   "cell_type": "code",
   "execution_count": null,
   "metadata": {},
   "outputs": [],
   "source": [
    "[1, 2, 3] + [4, 5, 6]"
   ]
  },
  {
   "cell_type": "markdown",
   "metadata": {},
   "source": [
    "The function `len` computes the *length* of a list.  The length of a list $L$ is defined as the number of elements of $L$:"
   ]
  },
  {
   "cell_type": "code",
   "execution_count": null,
   "metadata": {},
   "outputs": [],
   "source": [
    "len([4, 5, 4])"
   ]
  },
  {
   "cell_type": "markdown",
   "metadata": {},
   "source": [
    "Lists support the functions <tt>max</tt> and <tt>min</tt>.  The expression $\\texttt{max}(L)$ computes the maximum of all the elements of the list (or tuple) $L$, while $\\texttt{min}(L)$ computes the smallest element of $L$.  These functions also operate on *tuples* or *sets*.  Tuples and sets are two data types that will be introduced later.  "
   ]
  },
  {
   "cell_type": "code",
   "execution_count": null,
   "metadata": {},
   "outputs": [],
   "source": [
    "max([1, 2, 3])"
   ]
  },
  {
   "cell_type": "code",
   "execution_count": null,
   "metadata": {},
   "outputs": [],
   "source": [
    "min([1, 2, 3])"
   ]
  },
  {
   "cell_type": "markdown",
   "metadata": {},
   "source": [
    "Below, `T` is a *tuple*.  Tuples use the parentheses \"`(`\" and `)`\" instead of the square brackets \"`[`\" and \"`]`\". "
   ]
  },
  {
   "cell_type": "code",
   "execution_count": null,
   "metadata": {},
   "outputs": [],
   "source": [
    "T = (1, 2, 3)"
   ]
  },
  {
   "cell_type": "markdown",
   "metadata": {},
   "source": [
    "Tuples can also be created via *comprehension*.  Below we define the tuple of a odd square numbers less than 100."
   ]
  },
  {
   "cell_type": "code",
   "execution_count": null,
   "metadata": {},
   "outputs": [],
   "source": [
    "[n*n for n in range(10) if n % 2 == 1]"
   ]
  },
  {
   "cell_type": "markdown",
   "metadata": {},
   "source": [
    "Tuples are indexed like lists."
   ]
  },
  {
   "cell_type": "code",
   "execution_count": null,
   "metadata": {},
   "outputs": [],
   "source": [
    "T[0]"
   ]
  },
  {
   "cell_type": "code",
   "execution_count": null,
   "metadata": {},
   "outputs": [],
   "source": []
  },
  {
   "cell_type": "markdown",
   "metadata": {},
   "source": [
    "In contrast to a list, a tuple in *inmutable*, i.e. its value can't be changed after it has been created.\n",
    "Therefore, the command \n",
    "```\n",
    "T[0] = 7\n",
    "```\n",
    "would yield the following error message if it would be executed:\n",
    "```\n",
    "---------------------------------------------------------------------------\n",
    "TypeError                                 Traceback (most recent call last)\n",
    "Cell In[38], line 1\n",
    "----> 1 T[0] = 7\n",
    "\n",
    "TypeError: 'tuple' object does not support item assignment\n",
    "```"
   ]
  },
  {
   "cell_type": "markdown",
   "metadata": {},
   "source": [
    "## Scripts and Functions\n",
    "\n",
    "Next, we show how it is possible to combine multiple expressions in a *script* and how to create *user defined functions*."
   ]
  },
  {
   "cell_type": "markdown",
   "metadata": {},
   "source": [
    "To begin with we present a script that asks the user to input a natural number $n$ and then proceeds to compute the sum of all natural numbers from $1$ upto and including $n$, that is it computes the sum\n",
    "$$ \\sum\\limits_{i=1}^n i = 1 + 2 + 3 + \\cdots + (n-2) + (n-1) + n. $$\n",
    "The script contained in the cell below works as follows:\n",
    " * The function `input` prompts the user to enter a *string*.\n",
    " * This *string* is then converted into an integer using the function <tt>int</tt>.\n",
    " * Next, the list `L` is created such that we have \n",
    "   $$\\texttt{L} = [1, 2, 3,\\cdots, (n-2), (n-1), n]. $$  \n",
    " * The `print` statement uses the function `sum` to compute the sum of\n",
    "   all the elements of the List `L`.  The effect of the last argument `sep=''`\n",
    "   is to prevent `print` from separating its arguments by spaces."
   ]
  },
  {
   "cell_type": "code",
   "execution_count": null,
   "metadata": {},
   "outputs": [],
   "source": [
    "n = input('Type a natural number and press return: ')\n",
    "n = int(n)\n",
    "L = [i for i in range(1, n+1)]\n",
    "print('The sum 1 + 2 + ... + ', n, ' is equal to ', sum(L), '.', sep='')"
   ]
  },
  {
   "cell_type": "markdown",
   "metadata": {},
   "source": [
    "If we input the number $36$, which happens to be equal to $6^2$, then we discover the following remarkable identity:\n",
    "$$ \\sum\\limits_{i=1}^{6^2} i = 666. $$"
   ]
  },
  {
   "cell_type": "markdown",
   "metadata": {},
   "source": [
    "The next example shows how *functions* can be defined in *Python*.  The function $\\texttt{sum}(n)$ is supposed \n",
    "to compute the sum of all the numbers in the set $\\{1, \\cdots, n\\}$.  Therefore, we have\n",
    "$$\\texttt{sum}(n) = \\sum\\limits_{i=1}^n i. $$  \n",
    "The function `sum` is defined *recursively*.  The recursive implementation of the function `sum` can best by understood if we observe that it satisfies the following two equations:\n",
    " * $\\texttt{sum}(0) = 0$, \n",
    " * $\\texttt{sum}(n) = \\texttt{sum}(n-1) + n \\quad$  provided that $n > 0$.\n",
    "\n",
    "The keyword `def` is used to signal that we define a function."
   ]
  },
  {
   "cell_type": "code",
   "execution_count": null,
   "metadata": {},
   "outputs": [],
   "source": [
    "def sum(n):\n",
    "    if n == 0:\n",
    "        return 0\n",
    "    return sum(n-1) + n"
   ]
  },
  {
   "cell_type": "markdown",
   "metadata": {},
   "source": [
    "Lets test this function."
   ]
  },
  {
   "cell_type": "code",
   "execution_count": null,
   "metadata": {},
   "outputs": [],
   "source": [
    "sum(10)"
   ]
  },
  {
   "cell_type": "markdown",
   "metadata": {},
   "source": [
    "Let us discuss the implementation of the function `sum` line by line:\n",
    "  1. The keyword `def` starts the definition of the function. \n",
    "     It is followed by the name of the function that is defined.  The name is followed by the list of the parameters of the \n",
    "     function.  This list is enclosed in parentheses. If there had been more than one parameter, the parameters would have \n",
    "     been separated by commas.  Finally, there needs to be a colon at the end of the first line.\n",
    "  2. The body of the function is *indented*.  **Contrary** to most other programming languages, \n",
    "     <u>Python is space sensitive</u>. \n",
    "     The first statement of the body is a *conditional statement*, which starts with the keyword\n",
    "     `if`.  The keyword is followed by a test.  In this case we test whether the variable $n$ \n",
    "     is equal to the number $0$.  Note that this test is followed by a colon `:`.\n",
    "     \n",
    "     It is not necessary to surround the test with parentheses.\n",
    "  3. The next line contains a `return` statement.  Note that this statement is again indented.\n",
    "     All statements indented by the same amount that follow an `if`-statement are considered as\n",
    "     the *body* of the `if`-statement.  In this case the body contains only a single statement.\n",
    "  4. The last line of the function definition contains the recursive invocation of the function `sum`\n",
    "     that computes the value `sum(n)` by reducing it to the value `sum(n-1)`.\n",
    "\n",
    "Using the function `sum`, we can compute the sum $\\sum\\limits_{i=1}^n i$ as follows:"
   ]
  },
  {
   "cell_type": "code",
   "execution_count": null,
   "metadata": {},
   "outputs": [],
   "source": [
    "n     = int(input(\"Enter a natural number: \"))\n",
    "total = sum(n)\n",
    "if n > 2:\n",
    "    print(\"0 + 1 + 2 + ... + \", n, \" = \", total, sep='')\n",
    "else: \n",
    "    print(total)"
   ]
  },
  {
   "cell_type": "markdown",
   "metadata": {},
   "source": [
    "## Boolean Values and Boolean Operators"
   ]
  },
  {
   "cell_type": "markdown",
   "metadata": {},
   "source": [
    "In *Python*, the *truth values*, also known as *Boolean values*, are written as <tt>True</tt> and <tt>False</tt>. "
   ]
  },
  {
   "cell_type": "code",
   "execution_count": null,
   "metadata": {},
   "outputs": [],
   "source": [
    "True"
   ]
  },
  {
   "cell_type": "code",
   "execution_count": null,
   "metadata": {},
   "outputs": [],
   "source": [
    "False"
   ]
  },
  {
   "cell_type": "markdown",
   "metadata": {},
   "source": [
    "The type of these values is `bool`."
   ]
  },
  {
   "cell_type": "code",
   "execution_count": null,
   "metadata": {},
   "outputs": [],
   "source": [
    "type(True), type(False)"
   ]
  },
  {
   "cell_type": "markdown",
   "metadata": {},
   "source": [
    "Nevertheless, under the hood the truth values `True` and `False` are really the integers `1` and `0`. "
   ]
  },
  {
   "cell_type": "code",
   "execution_count": null,
   "metadata": {},
   "outputs": [],
   "source": [
    "True == 1"
   ]
  },
  {
   "cell_type": "code",
   "execution_count": null,
   "metadata": {},
   "outputs": [],
   "source": [
    "False == 0"
   ]
  },
  {
   "cell_type": "markdown",
   "metadata": {},
   "source": [
    "The following function is needed for pretty-printing.  It assumes that the argument <tt>val</tt> is a truth value.  This truth value is then turned into a string that has a size of exactly 5 characters."
   ]
  },
  {
   "cell_type": "code",
   "execution_count": null,
   "metadata": {},
   "outputs": [],
   "source": [
    "def toStr(val):\n",
    "    if val:\n",
    "        return 'True '\n",
    "    return 'False'"
   ]
  },
  {
   "cell_type": "markdown",
   "metadata": {},
   "source": [
    "These values can be combined using the *Boolean operators* $\\wedge$, $\\vee$, and $\\neg$.  In *Python*, these operators are denoted as `and`, `or`, and `not`.  The following table shows how the operator `and` is defined:"
   ]
  },
  {
   "cell_type": "code",
   "execution_count": null,
   "metadata": {},
   "outputs": [],
   "source": [
    "B = [True, False]\n",
    "for x in B:\n",
    "    for y in B:\n",
    "        print(toStr(x), 'and', toStr(y), '=', x and y)"
   ]
  },
  {
   "cell_type": "markdown",
   "metadata": {},
   "source": [
    "The *disjunction* of two Boolean values is only *False* if both values are *False*.  In *Python*, the disjunction operator is written as `or`:"
   ]
  },
  {
   "cell_type": "code",
   "execution_count": null,
   "metadata": {},
   "outputs": [],
   "source": [
    "for x in B:\n",
    "    for y in B:\n",
    "        print(toStr(x), 'or', toStr(y), '=', x or y)"
   ]
  },
  {
   "cell_type": "markdown",
   "metadata": {},
   "source": [
    "Finally, the <em style=\"color:blue;\">negation</em> operator `not` works as expected:"
   ]
  },
  {
   "cell_type": "code",
   "execution_count": null,
   "metadata": {},
   "outputs": [],
   "source": [
    "for x in B:\n",
    "    print('not', toStr(x), '=', not x)"
   ]
  },
  {
   "cell_type": "markdown",
   "metadata": {},
   "source": [
    "Boolean values are created by comparing numbers using the comparison operators\n",
    "`==`, `!=`, `<`, `>`, `<=`, and `>=`:\n",
    " * `a == b` is true iff `a` is equal to `b`.\n",
    " * `a != b` is true iff `a` is different from `b`.\n",
    " * `a <  b` is true iff `a` is less than `b`.\n",
    " * `a <= b` is true iff `a` is less than or equal to `b`.\n",
    " * `a >= b` is true iff `a` is bigger than or equal to `b`.\n",
    " * `a >  b` is true iff `a` is bigger than `b`."
   ]
  },
  {
   "cell_type": "code",
   "execution_count": null,
   "metadata": {},
   "outputs": [],
   "source": [
    "1 == 2"
   ]
  },
  {
   "cell_type": "code",
   "execution_count": null,
   "metadata": {},
   "outputs": [],
   "source": [
    "1 != 2"
   ]
  },
  {
   "cell_type": "code",
   "execution_count": null,
   "metadata": {},
   "outputs": [],
   "source": [
    "1 < 2"
   ]
  },
  {
   "cell_type": "code",
   "execution_count": null,
   "metadata": {},
   "outputs": [],
   "source": [
    "1 <= 2"
   ]
  },
  {
   "cell_type": "code",
   "execution_count": null,
   "metadata": {},
   "outputs": [],
   "source": [
    "1 > 2"
   ]
  },
  {
   "cell_type": "code",
   "execution_count": null,
   "metadata": {},
   "outputs": [],
   "source": [
    "1 >= 2"
   ]
  },
  {
   "cell_type": "markdown",
   "metadata": {},
   "source": [
    "In contrast to the programming language `C`, comparison operators can be *chained* as shown in the following example:"
   ]
  },
  {
   "cell_type": "code",
   "execution_count": null,
   "metadata": {},
   "outputs": [],
   "source": [
    "1 < 2 < 3"
   ]
  },
  {
   "cell_type": "markdown",
   "metadata": {},
   "source": [
    "*Python* supports the <em style=\"color:blue;\">universal quantifier</em> $\\forall$. It is implemented by the function `all`.  \n",
    "If $L$ is a list of Boolean values, then we can check whether all elements of $L$ are <tt>True</tt> by writing\n",
    "$$ \\texttt{all}(L). $$\n",
    "For example, to check whether all elements of a list $L$ are even we can write the following:"
   ]
  },
  {
   "cell_type": "code",
   "execution_count": null,
   "metadata": {},
   "outputs": [],
   "source": [
    "L = [2, 4, 6, 7]\n",
    "all([x % 2 == 0 for x in L])"
   ]
  },
  {
   "cell_type": "markdown",
   "metadata": {},
   "source": [
    "*Python* also supports the *existential quantifier* $\\exists$.  \n",
    "If $L$ is a list of Boolean values, the expression\n",
    "$$ \\texttt{any}(L) $$\n",
    "is true iff there exists an element $x \\in L$ such that $x$ is true."
   ]
  },
  {
   "cell_type": "code",
   "execution_count": null,
   "metadata": {},
   "outputs": [],
   "source": [
    "L = [n for n in range(1, 9+1)]\n",
    "M = [n ** 2 > 2 ** n for n in L]\n",
    "M"
   ]
  },
  {
   "cell_type": "code",
   "execution_count": null,
   "metadata": {},
   "outputs": [],
   "source": [
    "any(M)"
   ]
  },
  {
   "cell_type": "markdown",
   "metadata": {},
   "source": [
    "The quantifiers `all` and `any` also work with tuples and sets and so called *iterables*."
   ]
  },
  {
   "cell_type": "code",
   "execution_count": null,
   "metadata": {},
   "outputs": [],
   "source": [
    "any (n ** 2 > 2**n for n in range(1,9+1))"
   ]
  },
  {
   "cell_type": "markdown",
   "metadata": {},
   "source": [
    "The expression below is a *generator object*, which is a special case of an *iterable*."
   ]
  },
  {
   "cell_type": "code",
   "execution_count": null,
   "metadata": {},
   "outputs": [],
   "source": [
    "(n ** 2 > 2**n for n in range(1,9+1))"
   ]
  },
  {
   "cell_type": "markdown",
   "metadata": {},
   "source": [
    "## Control Structures"
   ]
  },
  {
   "cell_type": "markdown",
   "metadata": {},
   "source": [
    "First of all, *Python* supports *branching* via the keywords `if`, `elif`, and `else`.  The following example is taken from the *Python* tutorial at [https://python.org](https://docs.python.org/3/tutorial/controlflow.html):"
   ]
  },
  {
   "cell_type": "code",
   "execution_count": null,
   "metadata": {},
   "outputs": [],
   "source": [
    "s = input(\"Please enter an integer: \")\n",
    "x = int(s)\n",
    "if x < 0:\n",
    "    print('The number is negative!')\n",
    "elif x == 0:\n",
    "    print('The number is zero.')\n",
    "elif x == 1:\n",
    "    print(\"It's a one.\")\n",
    "else:\n",
    "    print(\"It's more than one.\")"
   ]
  },
  {
   "cell_type": "markdown",
   "metadata": {},
   "source": [
    "*Loops* can be created with the keyword `for`.  They can be used to iterate over lists, tuples, sets, and in general any type that is *iterable*.    \n",
    "The syntax of a `for`-loop is:\n",
    "```\n",
    "   for x in L:\n",
    "       S1\n",
    "       ...\n",
    "       Sn\n",
    "```\n",
    "Here, `x` is the name of a variable that is used to iterate over the elements of the list `L`.  The statements\n",
    "`S1`, $\\cdots$, `Sn` make up the *body* of the loop.  These statements are executed for every element of the list `L`.\n",
    "In order to be part of the body of the loop, the statements `S1`, $\\cdots$, `Sn` all have to be indented by the same amount.  \n",
    "\n",
    "The next examples shows a simple loop that prints all the elements from the list `L`:"
   ]
  },
  {
   "cell_type": "code",
   "execution_count": null,
   "metadata": {},
   "outputs": [],
   "source": [
    "for x in L:\n",
    "    print(x)"
   ]
  },
  {
   "cell_type": "markdown",
   "metadata": {},
   "source": [
    "Another way to write a *loop* is to use the keyword `while` as in the following example:"
   ]
  },
  {
   "cell_type": "code",
   "execution_count": null,
   "metadata": {},
   "outputs": [],
   "source": [
    "x = 1\n",
    "while x < 10:\n",
    "    print(x)\n",
    "    x = x + 1"
   ]
  },
  {
   "cell_type": "markdown",
   "metadata": {},
   "source": [
    "The general syntax of a `while`-loop is as follows:\n",
    "```\n",
    "    while e:\n",
    "        S1\n",
    "        ...\n",
    "        Sn\n",
    "```\n",
    "Here, `while` is the keyword starting the `while`-loop, while `e` is an expression that contains some variable `x` which is presumably updated in the statements `S1`, $\\cdots$, `Sn`.  These statements are executed as long as the expression `e` is `True`."
   ]
  },
  {
   "cell_type": "markdown",
   "metadata": {},
   "source": [
    "The following program computes the prime numbers according to an\n",
    "[algorithm given by Eratosthenes](https://en.wikipedia.org/wiki/Sieve_of_Eratosthenes).\n",
    " 0. The first line `%%time` is a *magic command* that is not part of Python, but instead is part of\n",
    "    the *Jupyter notebook*.  It measures the time needed to execute the cell.\n",
    " 1. We set $n$ equal to 100 as we want to compute the set all prime numbers less or equal that 100.\n",
    " 2. `primes` is the list of numbers from 0 upto $n$, i.e. we have initially\n",
    "    $$ \\texttt{primes} = [0,1,2,\\cdots,n] $$\n",
    "    Therefore, we have initially\n",
    "    $$ \\texttt{primes}[i] = i \\quad \\mbox{for all $i \\in \\{0,1,\\cdots,n\\}$.} $$\n",
    "    The idea is to set $\\texttt{primes}[i]$ to zero iff $i$ is a proper product of two numbers.\n",
    " 3. To this end we iterate over all $i$ and $j$ from the list $[2,\\cdots,n]$\n",
    "    and set the product $\\texttt{primes}[i\\cdot j]$ to zero.  \n",
    "    This is achieved by the two `for` loops in line 4 and line 5 below.\n",
    "\n",
    "    Note that we have to check that the product `i * j` is not bigger than `n` \n",
    "    for otherwise we would get an *out of range error* when trying to assign `primes[i*j]`.     \n",
    "    \n",
    " 4. After the iteration, all non-prime elements greater than one of the list primes have been set to zero.\n",
    " 5. Finally, we compute the list of all prime numbers by collecting those elements from the list `primes` \n",
    "    that have not been set to $0$."
   ]
  },
  {
   "cell_type": "code",
   "execution_count": null,
   "metadata": {},
   "outputs": [],
   "source": [
    "%%time\n",
    "n         = 100\n",
    "primes    = [i for i in range(0, n+1)]\n",
    "primes[1] = 0\n",
    "for i in range(2, n+1):\n",
    "    for j in range(2, n+1):\n",
    "        if i * j <= n:\n",
    "            primes[i * j] = 0\n",
    "result = [i for i in range(2, n+1) if primes[i] != 0]\n",
    "print(result)"
   ]
  },
  {
   "cell_type": "markdown",
   "metadata": {},
   "source": [
    "The algorithm given above can be improved by using the following observations:\n",
    " 1. If a number $x$ can be written as a product $a \\cdot b$, then at least one of the numbers \n",
    "    $a$ or $b$ has to be less than $\\sqrt{x}$.  Therefore, the `for` loop in line 5 below \n",
    "    iterates as long as $i \\leq \\sqrt{x}$.  The function `floor` is needed to cast the square \n",
    "    root of $x$ to a natural number.  In order to use the functions `sqrt` and `floor` we have \n",
    "    to import them from the module `math`.  This is done in line 1 of the program shown below. \n",
    " 2. When we iterate over $j$ in the inner loop, it is sufficient if we start with $j = i$ \n",
    "    since all products of the form $i \\cdot j$ where $j < i$ have already been eliminated at the time \n",
    "    when the multiples of $i$ had been eliminated.\n",
    " 3. If $\\texttt{primes}[i] = 0$, then $i$ is not a prime and hence it has to be a product of two \n",
    "    numbers $a$ and $b$ both of which are smaller than $i$.  However, since all the multiples of \n",
    "    $a$ and $b$ have already been eliminated, there is no point in eliminating the multiples of \n",
    "    $i$ since these are also multiples of both $a$ and $b$ and hence they have already been eliminated.    \n",
    "    Therefore, if $\\texttt{primes}[i] = 0$ we can immediately jump to the next value of $i$.  \n",
    "    This is achieved by the `continue` statement in line 8 below. \n",
    "\n",
    "The program shown below is easily capable of computing all prime numbers less than a million.\n",
    "On my desktop computer, which is a 2017 iMac with a Quad-Core Intel i5 processor, this takes less than a second."
   ]
  },
  {
   "cell_type": "markdown",
   "metadata": {},
   "source": [
    "The module `math` contains the trigonometric functions, the inverse trigonometric function, functions like `exp`, `log`, `sqrt`, `ceil`, and `floor`. "
   ]
  },
  {
   "cell_type": "code",
   "execution_count": null,
   "metadata": {},
   "outputs": [],
   "source": [
    "import math"
   ]
  },
  {
   "cell_type": "markdown",
   "metadata": {},
   "source": [
    "Floating point numbers are represented with 64 bits.  They correspond to the `C` data type `double`."
   ]
  },
  {
   "cell_type": "code",
   "execution_count": null,
   "metadata": {},
   "outputs": [],
   "source": [
    "math.sqrt(2)"
   ]
  },
  {
   "cell_type": "markdown",
   "metadata": {},
   "source": [
    "The function `floor(x)` converts the floating point number `x` into the largest integer that is less or equal to `x`. "
   ]
  },
  {
   "cell_type": "code",
   "execution_count": null,
   "metadata": {},
   "outputs": [],
   "source": [
    "math.floor(math.sqrt(99))"
   ]
  },
  {
   "cell_type": "code",
   "execution_count": null,
   "metadata": {
    "scrolled": true
   },
   "outputs": [],
   "source": [
    "%%time\n",
    "n = 1_000_000\n",
    "primes = list(range(n+1))\n",
    "for i in range(2, math.ceil(math.sqrt(n))):\n",
    "    if primes[i] == 0:\n",
    "        continue\n",
    "    j = i\n",
    "    while i * j <= n:\n",
    "        primes[i * j] = 0\n",
    "        j += 1\n",
    "Result = [i for i in range(2, n+1) if primes[i] != 0]"
   ]
  },
  {
   "cell_type": "code",
   "execution_count": null,
   "metadata": {
    "scrolled": true
   },
   "outputs": [],
   "source": [
    "print(Result)"
   ]
  },
  {
   "cell_type": "markdown",
   "metadata": {},
   "source": [
    "## Sets and Dictionaries"
   ]
  },
  {
   "cell_type": "markdown",
   "metadata": {},
   "source": [
    "Besides *lists* and *tuples*, Python also supports *sets*.  A *set* is more or less like list, but instead  \n",
    "of the square brackets \"`[`\" and \"`]`\" we use the curly braces \"`{`\" and \"`}`\".  Conceptually, there are two \n",
    "main difference between *sets* and *lists*:\n",
    "* The elements of a set are not ordered.  \n",
    "  Therefore the sets $\\{1,2,3\\}$ and are $\\{3,2,1\\}$ actually the same.\n",
    "* A set contains each of its elements exactly once.  \n",
    "  Therefore the sets $\\{1,2,1,3,2\\}$ and are $\\{1,2,3,3,3\\}$ actually the same."
   ]
  },
  {
   "cell_type": "code",
   "execution_count": null,
   "metadata": {},
   "outputs": [],
   "source": [
    "{1, 2, 3} == {3, 2, 1}"
   ]
  },
  {
   "cell_type": "code",
   "execution_count": null,
   "metadata": {},
   "outputs": [],
   "source": [
    "{1, 2, 1, 3, 2} == {1, 2, 3, 3, 3}"
   ]
  },
  {
   "cell_type": "markdown",
   "metadata": {},
   "source": [
    "In mathematics, the *empty set* is written as $\\emptyset$ or as $\\{\\}$.  In Python the empty set is written as `set()`, \n",
    "since `{}` denotes the empty *dictionary*."
   ]
  },
  {
   "cell_type": "code",
   "execution_count": null,
   "metadata": {},
   "outputs": [],
   "source": [
    "set()"
   ]
  },
  {
   "cell_type": "markdown",
   "metadata": {},
   "source": [
    "Sets can be written as *comprehensions* similar to lists.  For example, the following expression \n",
    "computes the set of all odd square numbers less than $100$."
   ]
  },
  {
   "cell_type": "code",
   "execution_count": null,
   "metadata": {},
   "outputs": [],
   "source": [
    "Squares = { n*n for n in range(10) if n % 2 == 1 }\n",
    "Squares"
   ]
  },
  {
   "cell_type": "markdown",
   "metadata": {},
   "source": [
    "In order to test whether an object is an element of a given set, we can use the binary infix operator `in`."
   ]
  },
  {
   "cell_type": "code",
   "execution_count": null,
   "metadata": {},
   "outputs": [],
   "source": [
    "9 in Squares"
   ]
  },
  {
   "cell_type": "markdown",
   "metadata": {},
   "source": [
    "In order to add an element into a set, we can use the method `add`."
   ]
  },
  {
   "cell_type": "code",
   "execution_count": null,
   "metadata": {},
   "outputs": [],
   "source": [
    "Squares.add(121)\n",
    "Squares"
   ]
  },
  {
   "cell_type": "markdown",
   "metadata": {},
   "source": [
    "The infix operator `|` computes the *union* of two sets."
   ]
  },
  {
   "cell_type": "code",
   "execution_count": null,
   "metadata": {},
   "outputs": [],
   "source": [
    "{1, 2, 3} | {3, 4, 5}"
   ]
  },
  {
   "cell_type": "markdown",
   "metadata": {},
   "source": [
    "The infix operator `&` computes the *intersection* of two sets."
   ]
  },
  {
   "cell_type": "code",
   "execution_count": null,
   "metadata": {},
   "outputs": [],
   "source": [
    "{1, 2, 3} & {3, 4, 5}"
   ]
  },
  {
   "cell_type": "markdown",
   "metadata": {},
   "source": [
    "The infix operator `-` computes the *set difference* between to sets. "
   ]
  },
  {
   "cell_type": "code",
   "execution_count": null,
   "metadata": {},
   "outputs": [],
   "source": [
    "{1, 2, 3} - {3, 4, 5}"
   ]
  },
  {
   "cell_type": "markdown",
   "metadata": {},
   "source": [
    "Below, we compute the *prime numbers* less than $100$ in two lines, by subtracting the set of all proper products from the set of all numbers\n",
    "greater than 1 and less than $100$."
   ]
  },
  {
   "cell_type": "code",
   "execution_count": null,
   "metadata": {},
   "outputs": [],
   "source": [
    "S = { n for n in range(2, 100) }\n",
    "S - { p * q for p in S for q in S }"
   ]
  },
  {
   "cell_type": "markdown",
   "metadata": {},
   "source": [
    "It is important to note that all elements of a set have to be **immutable** data types.  Integers, floating point numbers, strings, and tuples are all *immutable*.  However, lists are **mutable** and hence can't be elements of set.  Furthermore, sets are themselves *mutable* and therefore we can't have sets of sets.  However, there is an *immutable* version of sets.  The datatype is called `frozenset`.  A *frozen set* can be an element of a set.\n",
    "The function `power` defined below computes the power set of a given set as a set of *frozen sets*.  It makes use of the function `arb`, which returns \n",
    "an arbitrary element of a given set."
   ]
  },
  {
   "cell_type": "code",
   "execution_count": null,
   "metadata": {},
   "outputs": [],
   "source": [
    "def arb(S):\n",
    "    for x in S:\n",
    "        return x"
   ]
  },
  {
   "cell_type": "code",
   "execution_count": null,
   "metadata": {},
   "outputs": [],
   "source": [
    "def power(S):\n",
    "    if S == set():\n",
    "        return { frozenset() }\n",
    "    else:\n",
    "        x = arb(S)\n",
    "        P = power(S - {x})\n",
    "        return P | { M | {x} for M in P }"
   ]
  },
  {
   "cell_type": "code",
   "execution_count": null,
   "metadata": {},
   "outputs": [],
   "source": [
    "power({1,2,3})"
   ]
  },
  {
   "cell_type": "markdown",
   "metadata": {},
   "source": [
    "*Dictionaries* correspond to *Java* concept of a *map*.  They map so called *keys* to their values.  For example, the following \n",
    "dictionary maps the  numbers $1, \\cdots, 9$ to their English names."
   ]
  },
  {
   "cell_type": "code",
   "execution_count": null,
   "metadata": {},
   "outputs": [],
   "source": [
    "Int2English = { 1: 'one', 2: 'two', 3: 'three', 4: 'four', 5: 'five', 6: 'six', 7: 'seven', 8: 'eight', 9: 'nine' }"
   ]
  },
  {
   "cell_type": "markdown",
   "metadata": {},
   "source": [
    "We can acces the value that is stored for a given key using square barackets as shown below."
   ]
  },
  {
   "cell_type": "code",
   "execution_count": null,
   "metadata": {},
   "outputs": [],
   "source": [
    "Int2English[5]"
   ]
  },
  {
   "cell_type": "markdown",
   "metadata": {},
   "source": [
    "We can associate new keys with new values via assignment and square brackets."
   ]
  },
  {
   "cell_type": "code",
   "execution_count": null,
   "metadata": {},
   "outputs": [],
   "source": [
    "Int2English[10] = 'ten'"
   ]
  },
  {
   "cell_type": "markdown",
   "metadata": {},
   "source": [
    "We can use *comprehensions* to build dictionaries."
   ]
  },
  {
   "cell_type": "code",
   "execution_count": null,
   "metadata": {},
   "outputs": [],
   "source": [
    "English2Int = { Int2English[n]: n for n in range(1, 10) }\n",
    "English2Int"
   ]
  },
  {
   "cell_type": "markdown",
   "metadata": {},
   "source": [
    "## Numerical Functions"
   ]
  },
  {
   "cell_type": "markdown",
   "metadata": {},
   "source": [
    "*Python* provides all of the mathematical functions that you have learned about at school.  A detailed listing of these functions can be found at \n",
    "[https://docs.python.org/3.11/library/math.html](https://docs.python.org/3.11/library/math.html).  We just show the most important functions and constants.  In order to make the module `math` available, we use \n",
    "the following `import` statement: "
   ]
  },
  {
   "cell_type": "code",
   "execution_count": null,
   "metadata": {},
   "outputs": [],
   "source": [
    "import math"
   ]
  },
  {
   "cell_type": "markdown",
   "metadata": {},
   "source": [
    "The mathematical constant [Pi](https://en.wikipedia.org/wiki/Pi), which in mathematics is written as $\\pi$, is available as `math.pi`."
   ]
  },
  {
   "cell_type": "code",
   "execution_count": null,
   "metadata": {},
   "outputs": [],
   "source": [
    "math.pi"
   ]
  },
  {
   "cell_type": "markdown",
   "metadata": {},
   "source": [
    "The <a href=\"https://en.wikipedia.org/wiki/Sine\">sine</a> function is called as follows:"
   ]
  },
  {
   "cell_type": "code",
   "execution_count": null,
   "metadata": {},
   "outputs": [],
   "source": [
    "math.sin(math.pi/6)"
   ]
  },
  {
   "cell_type": "markdown",
   "metadata": {},
   "source": [
    "We have to be aware that floating point arithmetic is associated with rounding errors."
   ]
  },
  {
   "cell_type": "markdown",
   "metadata": {},
   "source": [
    "The <a href=\"https://en.wikipedia.org/wiki/Trigonometric_functions#cosine\">cosine</a> function is called as follows:"
   ]
  },
  {
   "cell_type": "code",
   "execution_count": null,
   "metadata": {},
   "outputs": [],
   "source": [
    "math.cos(0.0)"
   ]
  },
  {
   "cell_type": "markdown",
   "metadata": {},
   "source": [
    "The tangent function is called as follows:"
   ]
  },
  {
   "cell_type": "code",
   "execution_count": null,
   "metadata": {},
   "outputs": [],
   "source": [
    "math.tan(math.pi/4)"
   ]
  },
  {
   "cell_type": "markdown",
   "metadata": {},
   "source": [
    "The *arc sine*, *arc cosine*, and *arc tangent* are called by prefixing the character `'a'` to the name of the function as seen below:"
   ]
  },
  {
   "cell_type": "code",
   "execution_count": null,
   "metadata": {},
   "outputs": [],
   "source": [
    "math.asin(1.0)"
   ]
  },
  {
   "cell_type": "code",
   "execution_count": null,
   "metadata": {},
   "outputs": [],
   "source": [
    "math.acos(1.0)"
   ]
  },
  {
   "cell_type": "code",
   "execution_count": null,
   "metadata": {},
   "outputs": [],
   "source": [
    "math.atan(1.0)"
   ]
  },
  {
   "cell_type": "markdown",
   "metadata": {},
   "source": [
    "<a href=\"https://en.wikipedia.org/wiki/E_(mathematical_constant)\">Euler's number $e$</a> is stored as the constant `math.e`:"
   ]
  },
  {
   "cell_type": "code",
   "execution_count": null,
   "metadata": {},
   "outputs": [],
   "source": [
    "math.e"
   ]
  },
  {
   "cell_type": "markdown",
   "metadata": {},
   "source": [
    "The exponential function $\\mathrm{exp}(x) := e^x$ is computed as follows:"
   ]
  },
  {
   "cell_type": "code",
   "execution_count": null,
   "metadata": {},
   "outputs": [],
   "source": [
    "math.exp(1)"
   ]
  },
  {
   "cell_type": "markdown",
   "metadata": {},
   "source": [
    "The natural logarithm $\\ln(x)$, which is defined as the inverse of the function $\\exp(x)$, is called `log` (instead of `ln`):"
   ]
  },
  {
   "cell_type": "code",
   "execution_count": null,
   "metadata": {},
   "outputs": [],
   "source": [
    "math.log(math.e * math.e)"
   ]
  },
  {
   "cell_type": "markdown",
   "metadata": {},
   "source": [
    "The square root $\\sqrt{x}$ of a number $x$ is computed using the function `sqrt`:"
   ]
  },
  {
   "cell_type": "code",
   "execution_count": null,
   "metadata": {},
   "outputs": [],
   "source": [
    "math.sqrt(2)"
   ]
  },
  {
   "cell_type": "markdown",
   "metadata": {},
   "source": [
    "The <em style=\"color:blue;\">flooring function</em> $\\texttt{floor}(x)$ truncates a floating point number $x$ down to the biggest integer number less or equal to $x$:\n",
    "$$ \\texttt{floor}(x) = \\max(\\{ n \\in \\mathbb{Z} \\mid n \\leq x \\} $$"
   ]
  },
  {
   "cell_type": "code",
   "execution_count": null,
   "metadata": {},
   "outputs": [],
   "source": [
    "math.floor(1.999)"
   ]
  },
  {
   "cell_type": "markdown",
   "metadata": {},
   "source": [
    "The <em style=\"color:blue;\">ceiling function</em> $\\texttt{ceil}(x)$ rounds a floating point number $x$ up to the next  integer number bigger or equal to $x$:\n",
    "$$ \\texttt{ceil}(x) = \\min(\\{ n \\in \\mathbb{Z} \\mid x \\leq n \\} $$"
   ]
  },
  {
   "cell_type": "code",
   "execution_count": null,
   "metadata": {},
   "outputs": [],
   "source": [
    "math.ceil(1.001)"
   ]
  },
  {
   "cell_type": "markdown",
   "metadata": {},
   "source": [
    "The function `round` rounds its input to the nearest integer.  For an integer number $n$, the floating point number $n.5$ is rounded to $n+1$."
   ]
  },
  {
   "cell_type": "code",
   "execution_count": null,
   "metadata": {},
   "outputs": [],
   "source": [
    "round(1.5), round(1.39), round(1.51)"
   ]
  },
  {
   "cell_type": "markdown",
   "metadata": {},
   "source": [
    "The function `abs` computes the absolute value.  Note that this function is not part of the math library but rather is a predefined function.  Therefore the name `abs` is  not prefixed with the package name `math`."
   ]
  },
  {
   "cell_type": "code",
   "execution_count": null,
   "metadata": {},
   "outputs": [],
   "source": [
    "abs(-1)"
   ]
  },
  {
   "cell_type": "markdown",
   "metadata": {},
   "source": [
    "## The Help System"
   ]
  },
  {
   "cell_type": "markdown",
   "metadata": {},
   "source": [
    "Typing a single question mark <tt>'?'</tt> starts the help system of the *Jupyter* notebook."
   ]
  },
  {
   "cell_type": "code",
   "execution_count": null,
   "metadata": {},
   "outputs": [],
   "source": [
    "?"
   ]
  },
  {
   "cell_type": "markdown",
   "metadata": {},
   "source": [
    "If the name of a module is followed by a question mark, a description of the module is printed."
   ]
  },
  {
   "cell_type": "code",
   "execution_count": null,
   "metadata": {},
   "outputs": [],
   "source": [
    "math?"
   ]
  },
  {
   "cell_type": "markdown",
   "metadata": {},
   "source": [
    "This also works for functions defined in a module."
   ]
  },
  {
   "cell_type": "code",
   "execution_count": null,
   "metadata": {},
   "outputs": [],
   "source": [
    "math.sin?"
   ]
  },
  {
   "cell_type": "markdown",
   "metadata": {},
   "source": [
    "The question mark operator only works inside a <em style=\"color:blue;\">Jupyter notebook</em>.  \n",
    "\n",
    "Furthermore, there is the function `help`, which is part of *Python*."
   ]
  },
  {
   "cell_type": "code",
   "execution_count": null,
   "metadata": {
    "scrolled": true
   },
   "outputs": [],
   "source": [
    "help(math)"
   ]
  },
  {
   "cell_type": "code",
   "execution_count": null,
   "metadata": {},
   "outputs": [],
   "source": [
    "help(math.sin)"
   ]
  },
  {
   "cell_type": "code",
   "execution_count": null,
   "metadata": {},
   "outputs": [],
   "source": [
    "help(dir)"
   ]
  },
  {
   "cell_type": "markdown",
   "metadata": {},
   "source": [
    "We can use the function <tt>dir()</tt> to print the names of the variables that have been defined."
   ]
  },
  {
   "cell_type": "code",
   "execution_count": null,
   "metadata": {
    "scrolled": true
   },
   "outputs": [],
   "source": [
    "dir()"
   ]
  },
  {
   "cell_type": "markdown",
   "metadata": {},
   "source": [
    "The names of the form $\\textrm{_i}n$ where $n$ is a number refer to the *input* of the $n^{\\textrm{th}}$ cell of this notebook.  Let us check the input of the $55^{\\textrm{th}}$ cell of this notebook."
   ]
  },
  {
   "cell_type": "code",
   "execution_count": null,
   "metadata": {},
   "outputs": [],
   "source": [
    "_i40"
   ]
  },
  {
   "cell_type": "markdown",
   "metadata": {},
   "source": [
    "The names of the form $\\textrm{_}n$ where $n$ is a number refer to the *output* produced by the $n^{\\textrm{th}}$ cell of this notebook.  "
   ]
  },
  {
   "cell_type": "code",
   "execution_count": null,
   "metadata": {},
   "outputs": [],
   "source": [
    "_40"
   ]
  },
  {
   "cell_type": "code",
   "execution_count": null,
   "metadata": {},
   "outputs": [],
   "source": [
    "2 * 3"
   ]
  },
  {
   "cell_type": "markdown",
   "metadata": {},
   "source": [
    "Inside a *Jupyter* notebook, the variable `_` refers to the value of the last expression that has been executed."
   ]
  },
  {
   "cell_type": "code",
   "execution_count": null,
   "metadata": {},
   "outputs": [],
   "source": [
    "_"
   ]
  },
  {
   "cell_type": "markdown",
   "metadata": {},
   "source": [
    "The <em style=\"color:blue;\">magic</em> command <tt>%quickref</tt> prints an overview of the so called \n",
    "<em style=\"color:blue;\">magic commands</em> that are available in <em style=\"color:blue;\">Jupyter notebooks</em>."
   ]
  },
  {
   "cell_type": "code",
   "execution_count": null,
   "metadata": {},
   "outputs": [],
   "source": [
    "%quickref"
   ]
  },
  {
   "cell_type": "markdown",
   "metadata": {},
   "source": [
    "We can use the command `ls` to list the files in the current directory."
   ]
  },
  {
   "cell_type": "code",
   "execution_count": null,
   "metadata": {},
   "outputs": [],
   "source": [
    "ls -al"
   ]
  },
  {
   "cell_type": "markdown",
   "metadata": {},
   "source": [
    "Prefixing a shell command with a `!` executes this command in a shell.  On the Windows operating system, the system command to list the files in the current directory is called `dir`, while on Linux and MacOS, the corresponding command is known as `ls`."
   ]
  },
  {
   "cell_type": "code",
   "execution_count": null,
   "metadata": {},
   "outputs": [],
   "source": [
    "!ls -l"
   ]
  },
  {
   "cell_type": "code",
   "execution_count": null,
   "metadata": {},
   "outputs": [],
   "source": [
    "!dir"
   ]
  },
  {
   "cell_type": "code",
   "execution_count": null,
   "metadata": {},
   "outputs": [],
   "source": []
  }
 ],
 "metadata": {
  "@webio": {
   "lastCommId": null,
   "lastKernelId": null
  },
  "hide_input": false,
  "kernelspec": {
   "display_name": "Python 3 (ipykernel)",
   "language": "python",
   "name": "python3"
  },
  "language_info": {
   "codemirror_mode": {
    "name": "ipython",
    "version": 3
   },
   "file_extension": ".py",
   "mimetype": "text/x-python",
   "name": "python",
   "nbconvert_exporter": "python",
   "pygments_lexer": "ipython3",
   "version": "3.10.11"
  },
  "toc": {
   "base_numbering": 1,
   "nav_menu": {},
   "number_sections": true,
   "sideBar": true,
   "skip_h1_title": false,
   "title_cell": "Table of Contents",
   "title_sidebar": "Contents",
   "toc_cell": false,
   "toc_position": {},
   "toc_section_display": true,
   "toc_window_display": false
  },
  "varInspector": {
   "cols": {
    "lenName": 16,
    "lenType": 16,
    "lenVar": 40
   },
   "kernels_config": {
    "python": {
     "delete_cmd_postfix": "",
     "delete_cmd_prefix": "del ",
     "library": "var_list.py",
     "varRefreshCmd": "print(var_dic_list())"
    },
    "r": {
     "delete_cmd_postfix": ") ",
     "delete_cmd_prefix": "rm(",
     "library": "var_list.r",
     "varRefreshCmd": "cat(var_dic_list()) "
    }
   },
   "types_to_exclude": [
    "module",
    "function",
    "builtin_function_or_method",
    "instance",
    "_Feature"
   ],
   "window_display": false
  }
 },
 "nbformat": 4,
 "nbformat_minor": 4
}
