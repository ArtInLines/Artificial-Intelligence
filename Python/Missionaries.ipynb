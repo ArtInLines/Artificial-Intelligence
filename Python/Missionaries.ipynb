{
 "cells": [
  {
   "cell_type": "code",
   "execution_count": 1,
   "metadata": {},
   "outputs": [
    {
     "data": {
      "text/html": [
       "<style>.container { width:100%; !important } </style>"
      ],
      "text/plain": [
       "<IPython.core.display.HTML object>"
      ]
     },
     "metadata": {},
     "output_type": "display_data"
    }
   ],
   "source": [
    "from IPython.core.display import HTML, display\n",
    "display(HTML('<style>.container { width:100%; !important } </style>'))"
   ]
  },
  {
   "cell_type": "markdown",
   "metadata": {},
   "source": [
    "# Missionaries and Infidels"
   ]
  },
  {
   "cell_type": "markdown",
   "metadata": {},
   "source": [
    "$\\texttt{problem}(m, i)$ is `true` if there is a problem on the given shore.\n",
    "$m$ is the number of missionaries on this shore, while $i$ is the number\n",
    "of infidels."
   ]
  },
  {
   "cell_type": "code",
   "execution_count": 2,
   "metadata": {},
   "outputs": [],
   "source": [
    "def problem(m, i):\n",
    "    return 0 < m < i"
   ]
  },
  {
   "cell_type": "markdown",
   "metadata": {},
   "source": [
    "$\\texttt{noProblemAtAll}(m, i)$ is true if there is no problem on either side.\n",
    "$m$ is the number of missionaries on the left shore, while $i$ is the number of infidels on the left shore."
   ]
  },
  {
   "cell_type": "code",
   "execution_count": 3,
   "metadata": {},
   "outputs": [],
   "source": [
    "def noProblemAtAll(m, i):\n",
    "    return not problem(m, i) and not problem(3 - m, 3 - i)"
   ]
  },
  {
   "cell_type": "markdown",
   "metadata": {},
   "source": [
    "A state is represented as a triple.  The triple\n",
    "$$ (m, i, b) $$\n",
    "specifies that there are\n",
    "  - $m$ missionaries,\n",
    "  - $i$ infidels, and\n",
    "  - $b$ boats\n",
    "\n",
    "on the western shore of the river.  This implies that there are \n",
    "$3 - m$ missionaries on the eastern shore, the number of infidels is $3 - i$\n",
    "on the eastern hand shore and the number of boats is $1 - b$."
   ]
  },
  {
   "cell_type": "code",
   "execution_count": 4,
   "metadata": {},
   "outputs": [],
   "source": [
    "def nextStates(state):\n",
    "    m, i, b = state\n",
    "    if b == 1:\n",
    "        return { (m-mb, i-ib, 0) for mb in range(m+1)\n",
    "                                 for ib in range(i+1)\n",
    "                                 if 1 <= mb + ib <= 2 and \n",
    "                                    noProblemAtAll(m-mb, i-ib) \n",
    "               }\n",
    "    else:\n",
    "        return { (m+mb, i+ib, 1) for mb in range(4-m)\n",
    "                                 for ib in range(4-i)\n",
    "                                 if 1 <= mb + ib <= 2 and \n",
    "                                    noProblemAtAll(m+mb, i+ib) \n",
    "               }"
   ]
  },
  {
   "cell_type": "markdown",
   "metadata": {},
   "source": [
    "We have to run the notebook `Breadth-First-Search.iypnb` in order to make the function `search` available that is defined in this notebook."
   ]
  },
  {
   "cell_type": "code",
   "execution_count": 5,
   "metadata": {},
   "outputs": [
    {
     "data": {
      "text/html": [
       "<style>.container { width:100%; !important } </style>"
      ],
      "text/plain": [
       "<IPython.core.display.HTML object>"
      ]
     },
     "metadata": {},
     "output_type": "display_data"
    }
   ],
   "source": [
    "%run Breadth-First-Search.ipynb"
   ]
  },
  {
   "cell_type": "code",
   "execution_count": 6,
   "metadata": {},
   "outputs": [
    {
     "data": {
      "text/plain": [
       "[(3, 3, 1),\n",
       " (3, 1, 0),\n",
       " (3, 2, 1),\n",
       " (3, 0, 0),\n",
       " (3, 1, 1),\n",
       " (1, 1, 0),\n",
       " (2, 2, 1),\n",
       " (0, 2, 0),\n",
       " (0, 3, 1),\n",
       " (0, 1, 0),\n",
       " (1, 1, 1),\n",
       " (0, 0, 0)]"
      ]
     },
     "execution_count": 6,
     "metadata": {},
     "output_type": "execute_result"
    }
   ],
   "source": [
    "start = (3, 3, 1)\n",
    "goal  = (0, 0, 0)\n",
    "Path  = search(start, goal, nextStates)\n",
    "Path"
   ]
  },
  {
   "cell_type": "markdown",
   "metadata": {},
   "source": [
    "# Printing the Solution"
   ]
  },
  {
   "cell_type": "code",
   "execution_count": 7,
   "metadata": {},
   "outputs": [],
   "source": [
    "def printPath(Path):\n",
    "    print(\"Solution:\\n\")\n",
    "    for i in range(len(Path) - 1):\n",
    "        m1, k1, b1 = Path[i]\n",
    "        m2, k2, b2 = Path[i+1]\n",
    "        printState(m1, k1, b1)\n",
    "        printBoat(m1, k1, b1, m2, k2, b2)\n",
    "    m, k, b = Path[-1]\n",
    "    printState(m, k, b)"
   ]
  },
  {
   "cell_type": "code",
   "execution_count": 8,
   "metadata": {},
   "outputs": [],
   "source": [
    "def printState(m, k, b):\n",
    "     print( fillCharsRight(m * \"M\", 6) + \n",
    "            fillCharsRight(k * \"K\", 6) + \n",
    "            fillCharsRight(b * \"B\", 3) + \"    |~~~~~|    \" + \n",
    "            fillCharsLeft((3 - m) * \"M\", 6) + \n",
    "            fillCharsLeft((3 - k) * \"K\", 6) + \n",
    "            fillCharsLeft((1 - b) * \"B\", 3) \n",
    "          )"
   ]
  },
  {
   "cell_type": "code",
   "execution_count": 9,
   "metadata": {},
   "outputs": [],
   "source": [
    "def printBoat(m1, k1, b1, m2, k2, b2):\n",
    "    if b1 == 1:\n",
    "        if m1 < m2:\n",
    "            print(\"Fehler in printBoat: negative Anzahl von Missionaren im Boot!\")\n",
    "            return\n",
    "        if k1 < k2:\n",
    "            print(\"Fehler in printBoat: negative Anzahl von Kannibalen im Boot!\")\n",
    "            return\n",
    "        print(19*\" \" + \"> \" + fillCharsBoth((m1-m2)*\"M\" + \" \" + (k1-k2)*\"K\", 3) + \" >\")\n",
    "    else:\n",
    "        if m1 > m2:\n",
    "            print(\"Fehler in printBoat: negative Anzahl von Missionaren im Boot!\")\n",
    "            return\n",
    "        if k1 > k2:\n",
    "            print(\"Fehler in printBoat: negative Anzahl von Kannibalen im Boot!\")\n",
    "            return\n",
    "        print(19*\" \" + \"< \" + fillCharsBoth((m2-m1)*\"M\" + \" \" + (k2-k1)*\"K\", 3) + \" <\")"
   ]
  },
  {
   "cell_type": "code",
   "execution_count": 10,
   "metadata": {},
   "outputs": [],
   "source": [
    "def fillCharsLeft(x, n):\n",
    "    s = str(x)\n",
    "    m = n - len(s)\n",
    "    return m * \" \" + s"
   ]
  },
  {
   "cell_type": "code",
   "execution_count": 11,
   "metadata": {},
   "outputs": [],
   "source": [
    "def fillCharsRight(x, n):\n",
    "    s = str(x)\n",
    "    m = n - len(s)\n",
    "    return s + m * \" \""
   ]
  },
  {
   "cell_type": "code",
   "execution_count": 12,
   "metadata": {},
   "outputs": [],
   "source": [
    "def fillCharsBoth(x, n):\n",
    "    s  = str(x)\n",
    "    ml = (n     - len(s)) // 2\n",
    "    mr = (n + 1 - len(s)) // 2\n",
    "    return ml * \" \" + s + mr * \" \""
   ]
  },
  {
   "cell_type": "code",
   "execution_count": 13,
   "metadata": {},
   "outputs": [
    {
     "name": "stdout",
     "output_type": "stream",
     "text": [
      "Solution:\n",
      "\n",
      "MMM   KKK   B      |~~~~~|                   \n",
      "                   >  KK >\n",
      "MMM   K            |~~~~~|              KK  B\n",
      "                   <  K  <\n",
      "MMM   KK    B      |~~~~~|               K   \n",
      "                   >  KK >\n",
      "MMM                |~~~~~|             KKK  B\n",
      "                   <  K  <\n",
      "MMM   K     B      |~~~~~|              KK   \n",
      "                   > MM  >\n",
      "M     K            |~~~~~|        MM    KK  B\n",
      "                   < M K <\n",
      "MM    KK    B      |~~~~~|         M     K   \n",
      "                   > MM  >\n",
      "      KK           |~~~~~|       MMM     K  B\n",
      "                   <  K  <\n",
      "      KKK   B      |~~~~~|       MMM         \n",
      "                   >  KK >\n",
      "      K            |~~~~~|       MMM    KK  B\n",
      "                   < M   <\n",
      "M     K     B      |~~~~~|        MM    KK   \n",
      "                   > M K >\n",
      "                   |~~~~~|       MMM   KKK  B\n"
     ]
    }
   ],
   "source": [
    "printPath(Path)"
   ]
  },
  {
   "cell_type": "code",
   "execution_count": null,
   "metadata": {},
   "outputs": [],
   "source": []
  }
 ],
 "metadata": {
  "kernelspec": {
   "display_name": "Python 3",
   "language": "python",
   "name": "python3"
  },
  "language_info": {
   "codemirror_mode": {
    "name": "ipython",
    "version": 3
   },
   "file_extension": ".py",
   "mimetype": "text/x-python",
   "name": "python",
   "nbconvert_exporter": "python",
   "pygments_lexer": "ipython3",
   "version": "3.7.3"
  },
  "toc": {
   "base_numbering": 1,
   "nav_menu": {},
   "number_sections": true,
   "sideBar": true,
   "skip_h1_title": false,
   "title_cell": "Table of Contents",
   "title_sidebar": "Contents",
   "toc_cell": false,
   "toc_position": {},
   "toc_section_display": true,
   "toc_window_display": false
  }
 },
 "nbformat": 4,
 "nbformat_minor": 2
}
