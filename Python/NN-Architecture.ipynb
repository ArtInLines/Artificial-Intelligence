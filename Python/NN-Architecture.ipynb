{
 "cells": [
  {
   "cell_type": "code",
   "execution_count": 1,
   "metadata": {},
   "outputs": [
    {
     "data": {
      "text/html": [
       "<style>.container { width:100%; !important } </style>"
      ],
      "text/plain": [
       "<IPython.core.display.HTML object>"
      ]
     },
     "metadata": {},
     "output_type": "display_data"
    }
   ],
   "source": [
    "from IPython.core.display import HTML, display\n",
    "display(HTML('<style>.container { width:100%; !important } </style>'))"
   ]
  },
  {
   "cell_type": "markdown",
   "metadata": {},
   "source": [
    "# Visualize the Architecture of a Neural Network"
   ]
  },
  {
   "cell_type": "code",
   "execution_count": 2,
   "metadata": {},
   "outputs": [],
   "source": [
    "import graphviz as gv"
   ]
  },
  {
   "cell_type": "markdown",
   "metadata": {},
   "source": [
    "The function $\\texttt{generateNN}(\\texttt{name}, \\texttt{Topology})$ takes a filename `name` and a \n",
    "<em style=\"color:blue;\">network topology</em> `Topology` as its argument and draws a graph of the \n",
    "resulting neural net.  A *network topology* is a list of numbers specifying the number of neurons of each layer.\n",
    "For example,  the network topology `[3, 8, 6, 2]` specifies a neural network with three layers of neurons.\n",
    "The network has $3$ input nodes, the first hidden layer has $8$ neurons, the second hidden layer has $6$ neurons, and \n",
    "the output layer has $2$ neurons."
   ]
  },
  {
   "cell_type": "code",
   "execution_count": 3,
   "metadata": {},
   "outputs": [],
   "source": [
    "def generateNN(name, Topology):\n",
    "    L = len(Topology)\n",
    "    input_layer   = ['i' + str(i) for i in range(1, Topology[0]+1)]\n",
    "    hidden_layers = [['h' + str(k+1) + ',' + str(i) for i in range(1, s+1)] for (k, s) in enumerate(Topology[1:-1])]\n",
    "    output_layer  = ['o' + str(i) for i in range(1, Topology[-1]+1)]\n",
    "    nng = gv.Graph(name)\n",
    "    nng.attr(rankdir='LR', splines='false')\n",
    "    # create nodes for input layer\n",
    "    for n in input_layer:\n",
    "        nng.node(n, label='', shape='point', width='0.05')\n",
    "    # create nodes for hidden layers\n",
    "    for NodeList in hidden_layers:\n",
    "        for n in NodeList:\n",
    "            nng.node(n, label='', shape='circle', width='0.1')\n",
    "    # create nodes for output layer\n",
    "    for n in output_layer:\n",
    "        nng.node(n, label='', shape='circle', width='0.1')\n",
    "    # connect input layer to first hidden layer\n",
    "    for n1 in input_layer:\n",
    "        for n2 in hidden_layers[0]:\n",
    "            nng.edge(n1, n2)\n",
    "    # connect hidden layers d to hiden layer d+1\n",
    "    for d in range(0, L-3):\n",
    "        for n1 in hidden_layers[d]:\n",
    "            for n2 in hidden_layers[d+1]:\n",
    "                nng.edge(n1, n2)\n",
    "    # connect output layer\n",
    "    for n1 in hidden_layers[L-3]:\n",
    "        for n2 in output_layer:\n",
    "            nng.edge(n1, n2)\n",
    "    return nng"
   ]
  },
  {
   "cell_type": "code",
   "execution_count": 4,
   "metadata": {},
   "outputs": [],
   "source": [
    "Topology = [3, 6, 4, 2]"
   ]
  },
  {
   "cell_type": "code",
   "execution_count": 5,
   "metadata": {},
   "outputs": [
    {
     "data": {
      "text/plain": [
       "'nn1.gv.pdf'"
      ]
     },
     "execution_count": 5,
     "metadata": {},
     "output_type": "execute_result"
    }
   ],
   "source": [
    "nn1 = generateNN('nn1', Topology)\n",
    "nn1.view()"
   ]
  },
  {
   "cell_type": "code",
   "execution_count": 6,
   "metadata": {},
   "outputs": [],
   "source": [
    "Topology = [8, 12, 8, 6, 3]"
   ]
  },
  {
   "cell_type": "code",
   "execution_count": 7,
   "metadata": {},
   "outputs": [
    {
     "data": {
      "text/plain": [
       "'nn2.gv.pdf'"
      ]
     },
     "execution_count": 7,
     "metadata": {},
     "output_type": "execute_result"
    }
   ],
   "source": [
    "nn2 = generateNN('nn2', Topology)\n",
    "nn2.view()"
   ]
  },
  {
   "cell_type": "code",
   "execution_count": null,
   "metadata": {},
   "outputs": [],
   "source": []
  }
 ],
 "metadata": {
  "kernelspec": {
   "display_name": "Python 3",
   "language": "python",
   "name": "python3"
  },
  "language_info": {
   "codemirror_mode": {
    "name": "ipython",
    "version": 3
   },
   "file_extension": ".py",
   "mimetype": "text/x-python",
   "name": "python",
   "nbconvert_exporter": "python",
   "pygments_lexer": "ipython3",
   "version": "3.6.7"
  }
 },
 "nbformat": 4,
 "nbformat_minor": 2
}
