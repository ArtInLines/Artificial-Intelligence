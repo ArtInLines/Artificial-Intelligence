{
 "cells": [
  {
   "cell_type": "code",
   "execution_count": 1,
   "metadata": {},
   "outputs": [
    {
     "data": {
      "text/html": [
       "<style>.container { width:100% !important; }</style>"
      ],
      "text/plain": [
       "<IPython.core.display.HTML object>"
      ]
     },
     "metadata": {},
     "output_type": "display_data"
    }
   ],
   "source": [
    "#%autosave 0\n",
    "from IPython.core.display import HTML, display\n",
    "display(HTML(\"<style>.container { width:100% !important; }</style>\"))"
   ]
  },
  {
   "cell_type": "markdown",
   "metadata": {
    "colab_type": "text",
    "id": "O6bAYTDQvA9E"
   },
   "source": [
    "# Building a Neural Network with Keras"
   ]
  },
  {
   "cell_type": "code",
   "execution_count": 2,
   "metadata": {
    "colab": {
     "base_uri": "https://localhost:8080/",
     "height": 68
    },
    "colab_type": "code",
    "id": "Ofc-wXYMESXW",
    "outputId": "5cbd5e88-7833-44b7-ef23-249306c3eb15"
   },
   "outputs": [
    {
     "name": "stderr",
     "output_type": "stream",
     "text": [
      "Using TensorFlow backend.\n"
     ]
    }
   ],
   "source": [
    "import gzip\n",
    "import pickle\n",
    "import random\n",
    "import numpy  as np\n",
    "import keras\n",
    "\n",
    "from keras.layers import Dense"
   ]
  },
  {
   "cell_type": "markdown",
   "metadata": {},
   "source": [
    "The following magic command is necessary to prevent the Python kernel to die because of linkage problems."
   ]
  },
  {
   "cell_type": "code",
   "execution_count": 3,
   "metadata": {},
   "outputs": [
    {
     "name": "stdout",
     "output_type": "stream",
     "text": [
      "env: KMP_DUPLICATE_LIB_OK=TRUE\n"
     ]
    }
   ],
   "source": [
    "%env KMP_DUPLICATE_LIB_OK=TRUE"
   ]
  },
  {
   "cell_type": "markdown",
   "metadata": {},
   "source": [
    "The function $\\texttt{vectorized_result}(d)$ converts the digit $d \\in \\{0,\\cdots,9\\}$ and returns a NumPy vector $\\mathbf{x}$ of shape $(10, 1)$ such that\n",
    "$$\n",
    "\\mathbf{x}[i] = \n",
    "\\left\\{\n",
    "  \\begin{array}{ll}\n",
    "     1 & \\mbox{if $i = j$;} \\\\\n",
    "     0 & \\mbox{otherwise.}\n",
    "  \\end{array}  \n",
    "\\right.\n",
    "$$\n",
    "This function is used to convert a digit $d$ into the expected output of a neural network that has an output unit for every digit."
   ]
  },
  {
   "cell_type": "code",
   "execution_count": 4,
   "metadata": {},
   "outputs": [],
   "source": [
    "def vectorized_result(d):\n",
    "    e    = np.zeros((10, ), dtype=np.float32)\n",
    "    e[d] = 1.0\n",
    "    return e"
   ]
  },
  {
   "cell_type": "markdown",
   "metadata": {},
   "source": [
    "The function $\\texttt{load_data}()$ returns a pair of the form\n",
    "$$ (\\texttt{training_data}, \\texttt{test_data}) $$\n",
    "where \n",
    "<ul>\n",
    "<li> $\\texttt{training_data}$ is a list containing 60,000 pairs $(\\textbf{x}, \\textbf{y})$ s.t. $\\textbf{x}$ is a 784-dimensional `numpy.ndarray` containing the input image and $\\textbf{y}$ is a 10-dimensional `numpy.ndarray` corresponding to the correct digit for x.</li>\n",
    "<li> $\\texttt{test_data}$ is a list containing 10,000 pairs $(\\textbf{x}, y)$.  In each case, \n",
    "     $\\textbf{x}$ is a 784-dimensional `numpy.ndarry` containing the input image, \n",
    "     and $y$ is the corresponding digit value.\n",
    "</ul>"
   ]
  },
  {
   "cell_type": "code",
   "execution_count": 5,
   "metadata": {},
   "outputs": [],
   "source": [
    "def load_data():\n",
    "    with gzip.open('mnist.pkl.gz', 'rb') as f:\n",
    "        train, validate, test = pickle.load(f, encoding=\"latin1\")\n",
    "    X_train = np.array([np.reshape(x, (784, )) for x in train[0]])\n",
    "    X_test  = np.array([np.reshape(x, (784, )) for x in test [0]])\n",
    "    Y_train = np.array([vectorized_result(y) for y in train[1]])\n",
    "    Y_test  = np.array([vectorized_result(y) for y in test [1]])\n",
    "    return (X_train, X_test, Y_train, Y_test)"
   ]
  },
  {
   "cell_type": "code",
   "execution_count": 6,
   "metadata": {
    "colab": {
     "base_uri": "https://localhost:8080/",
     "height": 68
    },
    "colab_type": "code",
    "id": "Ofc-wXYMESXW",
    "outputId": "5cbd5e88-7833-44b7-ef23-249306c3eb15"
   },
   "outputs": [],
   "source": [
    "X_train, X_test, Y_train, Y_test = load_data()"
   ]
  },
  {
   "cell_type": "markdown",
   "metadata": {},
   "source": [
    "Let us see what we have read:"
   ]
  },
  {
   "cell_type": "code",
   "execution_count": 7,
   "metadata": {
    "colab": {
     "base_uri": "https://localhost:8080/",
     "height": 68
    },
    "colab_type": "code",
    "id": "Ofc-wXYMESXW",
    "outputId": "5cbd5e88-7833-44b7-ef23-249306c3eb15"
   },
   "outputs": [
    {
     "data": {
      "text/plain": [
       "((50000, 784), (10000, 784), (50000, 10), (10000, 10))"
      ]
     },
     "execution_count": 7,
     "metadata": {},
     "output_type": "execute_result"
    }
   ],
   "source": [
    "X_train.shape, X_test.shape, Y_train.shape, Y_test.shape"
   ]
  },
  {
   "cell_type": "code",
   "execution_count": 8,
   "metadata": {
    "colab": {
     "base_uri": "https://localhost:8080/",
     "height": 17156
    },
    "colab_type": "code",
    "id": "tksxAR3CuorW",
    "outputId": "b80fca9d-5f96-4f51-df34-28cdf5e80f9e"
   },
   "outputs": [
    {
     "name": "stdout",
     "output_type": "stream",
     "text": [
      "_________________________________________________________________\n",
      "Layer (type)                 Output Shape              Param #   \n",
      "=================================================================\n",
      "dense_1 (Dense)              (None, 60)                47100     \n",
      "_________________________________________________________________\n",
      "dense_2 (Dense)              (None, 30)                1830      \n",
      "_________________________________________________________________\n",
      "dense_3 (Dense)              (None, 10)                310       \n",
      "=================================================================\n",
      "Total params: 49,240\n",
      "Trainable params: 49,240\n",
      "Non-trainable params: 0\n",
      "_________________________________________________________________\n"
     ]
    }
   ],
   "source": [
    "model = keras.models.Sequential()\n",
    "model.add(keras.layers.Dense( 60, activation='relu', input_dim=784))\n",
    "model.add(keras.layers.Dense( 30, activation='relu'               ))\n",
    "model.add(keras.layers.Dense( 10, activation='softmax'            ))\n",
    "model.compile(loss       = 'categorical_crossentropy', \n",
    "              optimizer  = keras.optimizers.SGD(lr=0.3), \n",
    "              metrics    = ['accuracy'])\n",
    "model.summary()"
   ]
  },
  {
   "cell_type": "code",
   "execution_count": 9,
   "metadata": {
    "colab": {
     "base_uri": "https://localhost:8080/",
     "height": 17156
    },
    "colab_type": "code",
    "id": "tksxAR3CuorW",
    "outputId": "b80fca9d-5f96-4f51-df34-28cdf5e80f9e"
   },
   "outputs": [
    {
     "name": "stdout",
     "output_type": "stream",
     "text": [
      "Train on 50000 samples, validate on 10000 samples\n",
      "Epoch 1/30\n",
      "50000/50000 [==============================] - 2s 35us/step - loss: 0.3717 - acc: 0.8845 - val_loss: 0.1823 - val_acc: 0.9442\n",
      "Epoch 2/30\n",
      "50000/50000 [==============================] - 1s 26us/step - loss: 0.1580 - acc: 0.9515 - val_loss: 0.1276 - val_acc: 0.9588\n",
      "Epoch 3/30\n",
      "50000/50000 [==============================] - 1s 26us/step - loss: 0.1195 - acc: 0.9631 - val_loss: 0.1106 - val_acc: 0.9646\n",
      "Epoch 4/30\n",
      "50000/50000 [==============================] - 1s 26us/step - loss: 0.0966 - acc: 0.9701 - val_loss: 0.1016 - val_acc: 0.9690\n",
      "Epoch 5/30\n",
      "50000/50000 [==============================] - 1s 26us/step - loss: 0.0802 - acc: 0.9749 - val_loss: 0.0940 - val_acc: 0.9702\n",
      "Epoch 6/30\n",
      "50000/50000 [==============================] - 1s 25us/step - loss: 0.0700 - acc: 0.9778 - val_loss: 0.1075 - val_acc: 0.9691\n",
      "Epoch 7/30\n",
      "50000/50000 [==============================] - 1s 25us/step - loss: 0.0578 - acc: 0.9816 - val_loss: 0.1055 - val_acc: 0.9697\n",
      "Epoch 8/30\n",
      "50000/50000 [==============================] - 1s 25us/step - loss: 0.0509 - acc: 0.9838 - val_loss: 0.1009 - val_acc: 0.9713\n",
      "Epoch 9/30\n",
      "50000/50000 [==============================] - 1s 25us/step - loss: 0.0457 - acc: 0.9853 - val_loss: 0.1053 - val_acc: 0.9685\n",
      "Epoch 10/30\n",
      "50000/50000 [==============================] - 1s 25us/step - loss: 0.0395 - acc: 0.9872 - val_loss: 0.0927 - val_acc: 0.9728\n",
      "Epoch 11/30\n",
      "50000/50000 [==============================] - 1s 26us/step - loss: 0.0334 - acc: 0.9894 - val_loss: 0.1060 - val_acc: 0.9694\n",
      "Epoch 12/30\n",
      "50000/50000 [==============================] - 1s 26us/step - loss: 0.0326 - acc: 0.9894 - val_loss: 0.1096 - val_acc: 0.9704\n",
      "Epoch 13/30\n",
      "50000/50000 [==============================] - 1s 26us/step - loss: 0.0270 - acc: 0.9912 - val_loss: 0.0989 - val_acc: 0.9740\n",
      "Epoch 14/30\n",
      "50000/50000 [==============================] - 1s 25us/step - loss: 0.0247 - acc: 0.9918 - val_loss: 0.1073 - val_acc: 0.9733\n",
      "Epoch 15/30\n",
      "50000/50000 [==============================] - 1s 25us/step - loss: 0.0240 - acc: 0.9923 - val_loss: 0.1065 - val_acc: 0.9713\n",
      "Epoch 16/30\n",
      "50000/50000 [==============================] - 1s 25us/step - loss: 0.0187 - acc: 0.9943 - val_loss: 0.1194 - val_acc: 0.9710\n",
      "Epoch 17/30\n",
      "50000/50000 [==============================] - 1s 25us/step - loss: 0.0153 - acc: 0.9953 - val_loss: 0.1030 - val_acc: 0.9746\n",
      "Epoch 18/30\n",
      "50000/50000 [==============================] - 1s 26us/step - loss: 0.0126 - acc: 0.9959 - val_loss: 0.1060 - val_acc: 0.9747\n",
      "Epoch 19/30\n",
      "50000/50000 [==============================] - 1s 26us/step - loss: 0.0103 - acc: 0.9968 - val_loss: 0.1165 - val_acc: 0.9744\n",
      "Epoch 20/30\n",
      "50000/50000 [==============================] - 1s 26us/step - loss: 0.0095 - acc: 0.9971 - val_loss: 0.1623 - val_acc: 0.9648\n",
      "Epoch 21/30\n",
      "50000/50000 [==============================] - 1s 25us/step - loss: 0.0087 - acc: 0.9975 - val_loss: 0.1250 - val_acc: 0.9718\n",
      "Epoch 22/30\n",
      "50000/50000 [==============================] - 1s 26us/step - loss: 0.0069 - acc: 0.9981 - val_loss: 0.1199 - val_acc: 0.9736\n",
      "Epoch 23/30\n",
      "50000/50000 [==============================] - 1s 26us/step - loss: 0.0037 - acc: 0.9994 - val_loss: 0.1143 - val_acc: 0.9747\n",
      "Epoch 24/30\n",
      "50000/50000 [==============================] - 1s 26us/step - loss: 0.0020 - acc: 0.9998 - val_loss: 0.1115 - val_acc: 0.9760\n",
      "Epoch 25/30\n",
      "50000/50000 [==============================] - 1s 25us/step - loss: 0.0013 - acc: 1.0000 - val_loss: 0.1142 - val_acc: 0.9764\n",
      "Epoch 26/30\n",
      "50000/50000 [==============================] - 1s 26us/step - loss: 0.0011 - acc: 1.0000 - val_loss: 0.1147 - val_acc: 0.9748\n",
      "Epoch 27/30\n",
      "50000/50000 [==============================] - 1s 26us/step - loss: 8.8400e-04 - acc: 1.0000 - val_loss: 0.1162 - val_acc: 0.9763\n",
      "Epoch 28/30\n",
      "50000/50000 [==============================] - 1s 26us/step - loss: 7.8136e-04 - acc: 1.0000 - val_loss: 0.1163 - val_acc: 0.9754\n",
      "Epoch 29/30\n",
      "50000/50000 [==============================] - 1s 26us/step - loss: 6.7942e-04 - acc: 1.0000 - val_loss: 0.1184 - val_acc: 0.9761\n",
      "Epoch 30/30\n",
      "50000/50000 [==============================] - 1s 26us/step - loss: 6.1912e-04 - acc: 1.0000 - val_loss: 0.1198 - val_acc: 0.9763\n",
      "CPU times: user 1min 44s, sys: 37.8 s, total: 2min 22s\n",
      "Wall time: 39.1 s\n"
     ]
    }
   ],
   "source": [
    "%%time\n",
    "history = model.fit(X_train, Y_train, validation_data=(X_test, Y_test), epochs=30,  batch_size=100, verbose=1)"
   ]
  },
  {
   "cell_type": "code",
   "execution_count": null,
   "metadata": {},
   "outputs": [],
   "source": []
  }
 ],
 "metadata": {
  "accelerator": "GPU",
  "colab": {
   "collapsed_sections": [],
   "name": "Neural network hyper-parameters.ipynb",
   "provenance": [],
   "version": "0.3.2"
  },
  "kernelspec": {
   "display_name": "Python 3",
   "language": "python",
   "name": "python3"
  },
  "language_info": {
   "codemirror_mode": {
    "name": "ipython",
    "version": 3
   },
   "file_extension": ".py",
   "mimetype": "text/x-python",
   "name": "python",
   "nbconvert_exporter": "python",
   "pygments_lexer": "ipython3",
   "version": "3.6.8"
  }
 },
 "nbformat": 4,
 "nbformat_minor": 1
}
