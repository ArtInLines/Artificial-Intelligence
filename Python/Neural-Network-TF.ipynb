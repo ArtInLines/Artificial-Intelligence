{
 "cells": [
  {
   "cell_type": "code",
   "execution_count": 1,
   "metadata": {},
   "outputs": [
    {
     "data": {
      "text/html": [
       "<style>.container { width:100% !important; }</style>"
      ],
      "text/plain": [
       "<IPython.core.display.HTML object>"
      ]
     },
     "metadata": {},
     "output_type": "display_data"
    }
   ],
   "source": [
    "#%autosave 0\n",
    "from IPython.core.display import HTML, display\n",
    "display(HTML(\"<style>.container { width:100% !important; }</style>\"))"
   ]
  },
  {
   "cell_type": "markdown",
   "metadata": {},
   "source": [
    "# Neural Network Using TensorFlow"
   ]
  },
  {
   "cell_type": "code",
   "execution_count": 2,
   "metadata": {},
   "outputs": [],
   "source": [
    "import gzip\n",
    "import pickle\n",
    "import random\n",
    "import numpy             as np\n",
    "import matplotlib.pyplot as plt\n",
    "import tensorflow        as tf"
   ]
  },
  {
   "cell_type": "markdown",
   "metadata": {},
   "source": [
    "The following magic command is necessary to prevent the Python kernel to die because of linkage problems."
   ]
  },
  {
   "cell_type": "code",
   "execution_count": 3,
   "metadata": {},
   "outputs": [
    {
     "name": "stdout",
     "output_type": "stream",
     "text": [
      "env: KMP_DUPLICATE_LIB_OK=TRUE\n"
     ]
    }
   ],
   "source": [
    "%env KMP_DUPLICATE_LIB_OK=TRUE"
   ]
  },
  {
   "cell_type": "markdown",
   "metadata": {},
   "source": [
    "The function $\\texttt{vectorized_result}(d)$ converts the digit $d \\in \\{0,\\cdots,9\\}$ and returns a NumPy vector $\\mathbf{x}$ of shape $(10, 1)$ such that\n",
    "$$\n",
    "\\mathbf{x}[i] = \n",
    "\\left\\{\n",
    "  \\begin{array}{ll}\n",
    "     1 & \\mbox{if $i = j$;} \\\\\n",
    "     0 & \\mbox{otherwise.}\n",
    "  \\end{array}  \n",
    "\\right.\n",
    "$$\n",
    "This function is used to convert a digit $d$ into the expected output of a neural network that has an output unit for every digit."
   ]
  },
  {
   "cell_type": "code",
   "execution_count": 4,
   "metadata": {},
   "outputs": [],
   "source": [
    "def vectorized_result(d):\n",
    "    e    = np.zeros((10, ), dtype=np.float32)\n",
    "    e[d] = 1.0\n",
    "    return e"
   ]
  },
  {
   "cell_type": "markdown",
   "metadata": {},
   "source": [
    "The data that we are using is stored as a <a href=\"https://docs.python.org/3/library/gzip.html\">gzipped</a>, \n",
    "<a href=\"https://docs.python.org/3/library/pickle.html\">pickled</a> file.  "
   ]
  },
  {
   "cell_type": "markdown",
   "metadata": {},
   "source": [
    "The function $\\texttt{load_data}()$ returns a pair of the form\n",
    "$$ (\\texttt{training_data}, \\texttt{test_data}) $$\n",
    "where \n",
    "<ul>\n",
    "<li> $\\texttt{training_data}$ is a list containing 60,000 pairs $(\\textbf{x}, \\textbf{y})$ s.t. $\\textbf{x}$ is a 784-dimensional `numpy.ndarray` containing the input image and $\\textbf{y}$ is a 10-dimensional `numpy.ndarray` corresponding to the correct digit for x.</li>\n",
    "<li> $\\texttt{test_data}$ is a list containing 10,000 pairs $(\\textbf{x}, y)$.  In each case, \n",
    "     $\\textbf{x}$ is a 784-dimensional `numpy.ndarry` containing the input image, \n",
    "     and $y$ is the corresponding digit value.\n",
    "</ul>\n",
    "Note that the formats for training data and test data are different."
   ]
  },
  {
   "cell_type": "code",
   "execution_count": 5,
   "metadata": {},
   "outputs": [],
   "source": [
    "def load_data():\n",
    "    with gzip.open('mnist.pkl.gz', 'rb') as f:\n",
    "        train, validate, test = pickle.load(f, encoding=\"latin1\")\n",
    "    X_train = np.array([np.reshape(x, (784, )) for x in train[0]])\n",
    "    X_test  = np.array([np.reshape(x, (784, )) for x in test [0]])\n",
    "    Y_train = np.array([vectorized_result(y) for y in train[1]])\n",
    "    Y_test  = np.array([vectorized_result(y) for y in test [1]])\n",
    "    return (X_train.T, X_test.T, Y_train.T, Y_test.T)"
   ]
  },
  {
   "cell_type": "code",
   "execution_count": 6,
   "metadata": {},
   "outputs": [
    {
     "data": {
      "text/plain": [
       "((784, 50000), (784, 10000), (10, 50000), (10, 10000))"
      ]
     },
     "execution_count": 6,
     "metadata": {},
     "output_type": "execute_result"
    }
   ],
   "source": [
    "X_train, X_test, Y_train, Y_test = load_data()\n",
    "X_train.shape, X_test.shape, Y_train.shape, Y_test.shape"
   ]
  },
  {
   "cell_type": "markdown",
   "metadata": {},
   "source": [
    "The function $\\texttt{show_digit}(\\texttt{row}, \\texttt{columns}, \\texttt{offset})$ \n",
    "shows $\\texttt{row} \\cdot \\texttt{columns}$ images of the training data.  The first image shown is the image at index $\\texttt{offset}$."
   ]
  },
  {
   "cell_type": "code",
   "execution_count": 7,
   "metadata": {},
   "outputs": [],
   "source": [
    "def show_digits(rows, columns, offset=0):\n",
    "    f, axarr = plt.subplots(rows, columns)\n",
    "    for r in range(rows):\n",
    "        for c in range(columns):\n",
    "            i     = r * columns + c + offset\n",
    "            image = 1 - X_train[:,i]\n",
    "            image = np.reshape(image, (28, 28))\n",
    "            axarr[r, c].imshow(image, cmap=\"gray\")\n",
    "            axarr[r, c].axis('off')\n",
    "    plt.savefig(\"digits.pdf\")    \n",
    "    plt.show()"
   ]
  },
  {
   "cell_type": "code",
   "execution_count": 8,
   "metadata": {},
   "outputs": [
    {
     "data": {
      "image/png": "[encoded data removed]",
      "text/plain": [
       "<Figure size 432x288 with 18 Axes>"
      ]
     },
     "metadata": {},
     "output_type": "display_data"
    }
   ],
   "source": [
    "show_digits(3, 6)"
   ]
  },
  {
   "cell_type": "markdown",
   "metadata": {},
   "source": [
    "Create placeholders to use for the data.  Below, `None` stands for the yet unknown number of training examples."
   ]
  },
  {
   "cell_type": "code",
   "execution_count": 9,
   "metadata": {},
   "outputs": [],
   "source": [
    "X = tf.placeholder(tf.float32, [784, None]) # mnist data images of shape (28*28=784, ?)\n",
    "Y = tf.placeholder(tf.float32, [ 10, None]) # 0-9 digits recognition => 10 classes"
   ]
  },
  {
   "cell_type": "markdown",
   "metadata": {},
   "source": [
    "Our goal is to find the <em style=\"color:blue;\">weight matrices</em> and <em style=\"color:blue;\">biases</em> for a neural net that is \n",
    "able to recognize the digits shown in these images.  We initialize these weight matrices randomly. The function $\\texttt{rndMatrix}(\\texttt{rows}, \\texttt{cols})$ returns a matrix of shape $(\\texttt{rows}, \\texttt{cols})$ that is filled with random numbers that have a Gaussian distribution with mean $0$ and variance $\\displaystyle\\frac{1}{\\texttt{rows}}$."
   ]
  },
  {
   "cell_type": "code",
   "execution_count": 10,
   "metadata": {},
   "outputs": [],
   "source": [
    "def rndMatrix(rows, cols):\n",
    "    return tf.truncated_normal((rows, cols), 0.0, 1 / np.sqrt(cols))"
   ]
  },
  {
   "cell_type": "markdown",
   "metadata": {},
   "source": [
    "Specify the <em style=\"color:blue;\">topology</em> of the neural network."
   ]
  },
  {
   "cell_type": "code",
   "execution_count": 11,
   "metadata": {},
   "outputs": [],
   "source": [
    "inputSize  = 28 * 28\n",
    "hiddenSize = 60\n",
    "outputSize = 10"
   ]
  },
  {
   "cell_type": "code",
   "execution_count": 12,
   "metadata": {},
   "outputs": [],
   "source": [
    "biasesH  = tf.Variable(tf.zeros((hiddenSize, 1)        )) # biases hidden layer  \n",
    "biasesO  = tf.Variable(tf.zeros((outputSize, 1)        )) # biases output layer \n",
    "weightsH = tf.Variable(rndMatrix(hiddenSize, inputSize )) # weights hidden layer\n",
    "weightsO = tf.Variable(rndMatrix(outputSize, hiddenSize)) # weights output layer"
   ]
  },
  {
   "cell_type": "code",
   "execution_count": 13,
   "metadata": {},
   "outputs": [],
   "source": [
    "AH     = tf.sigmoid(weightsH @  X + biasesH) # activation hidden layer\n",
    "Y_pred = tf.sigmoid(weightsO @ AH + biasesO) # activation output layer"
   ]
  },
  {
   "cell_type": "markdown",
   "metadata": {},
   "source": [
    "We use the mean squared error as our loss function."
   ]
  },
  {
   "cell_type": "code",
   "execution_count": 14,
   "metadata": {},
   "outputs": [],
   "source": [
    "cost = tf.losses.mean_squared_error(Y, Y_pred)"
   ]
  },
  {
   "cell_type": "markdown",
   "metadata": {},
   "source": [
    "Set some variables and hyperparameters."
   ]
  },
  {
   "cell_type": "code",
   "execution_count": 15,
   "metadata": {},
   "outputs": [],
   "source": [
    "α         =  15\n",
    "epochs    =  60\n",
    "mbs       = 100             # mini batch size\n",
    "n_test    = X_test.shape[1]\n",
    "n         = X_train.shape[1]\n",
    "n_batches = int(n / mbs)"
   ]
  },
  {
   "cell_type": "markdown",
   "metadata": {},
   "source": [
    "We use <em style=\"color:blue;\">gradient descent</em> to minimize this cost function."
   ]
  },
  {
   "cell_type": "code",
   "execution_count": 16,
   "metadata": {},
   "outputs": [],
   "source": [
    "optimizer = tf.train.GradientDescentOptimizer(α).minimize(cost)"
   ]
  },
  {
   "cell_type": "markdown",
   "metadata": {},
   "source": [
    "The function $\\texttt{next_batch}(s)$ returns the next batch of the given size.  It returns a pair of the form $(X, Y)$ where $X$ is a matrix of shape\n",
    "$(784, s)$ and $Y$ is a matrix of shape $(10, s)$."
   ]
  },
  {
   "cell_type": "code",
   "execution_count": 17,
   "metadata": {},
   "outputs": [],
   "source": [
    "def next_batch(size):\n",
    "    global count\n",
    "    X_batch  = X_train[:, count:count+size]\n",
    "    Y_batch  = Y_train[:, count:count+size]\n",
    "    count   += size\n",
    "    return X_batch, Y_batch"
   ]
  },
  {
   "cell_type": "code",
   "execution_count": 18,
   "metadata": {},
   "outputs": [
    {
     "name": "stdout",
     "output_type": "stream",
     "text": [
      "Epoch:  0, accuracy: 0.9122, cost 0.03285\n",
      "Epoch:  1, accuracy: 0.9267, cost 0.01458\n",
      "Epoch:  2, accuracy: 0.9358, cost 0.01199\n",
      "Epoch:  3, accuracy: 0.9432, cost 0.01050\n",
      "Epoch:  4, accuracy: 0.9482, cost 0.00944\n",
      "Epoch:  5, accuracy: 0.9518, cost 0.00861\n",
      "Epoch:  6, accuracy: 0.9554, cost 0.00793\n",
      "Epoch:  7, accuracy: 0.9582, cost 0.00736\n",
      "Epoch:  8, accuracy: 0.9601, cost 0.00688\n",
      "Epoch:  9, accuracy: 0.9612, cost 0.00646\n",
      "Epoch: 10, accuracy: 0.9624, cost 0.00609\n",
      "Epoch: 11, accuracy: 0.9643, cost 0.00577\n",
      "Epoch: 12, accuracy: 0.9657, cost 0.00548\n",
      "Epoch: 13, accuracy: 0.9671, cost 0.00523\n",
      "Epoch: 14, accuracy: 0.9675, cost 0.00501\n",
      "Epoch: 15, accuracy: 0.9691, cost 0.00480\n",
      "Epoch: 16, accuracy: 0.9697, cost 0.00462\n",
      "Epoch: 17, accuracy: 0.9697, cost 0.00445\n",
      "Epoch: 18, accuracy: 0.9703, cost 0.00429\n",
      "Epoch: 19, accuracy: 0.9708, cost 0.00415\n",
      "Epoch: 20, accuracy: 0.9713, cost 0.00401\n",
      "Epoch: 21, accuracy: 0.9712, cost 0.00389\n",
      "Epoch: 22, accuracy: 0.9710, cost 0.00377\n",
      "Epoch: 23, accuracy: 0.9714, cost 0.00366\n",
      "Epoch: 24, accuracy: 0.9716, cost 0.00356\n",
      "Epoch: 25, accuracy: 0.9714, cost 0.00346\n",
      "Epoch: 26, accuracy: 0.9716, cost 0.00337\n",
      "Epoch: 27, accuracy: 0.9718, cost 0.00328\n",
      "Epoch: 28, accuracy: 0.9723, cost 0.00320\n",
      "Epoch: 29, accuracy: 0.9728, cost 0.00312\n",
      "Epoch: 30, accuracy: 0.9732, cost 0.00304\n",
      "Epoch: 31, accuracy: 0.9736, cost 0.00297\n",
      "Epoch: 32, accuracy: 0.9736, cost 0.00290\n",
      "Epoch: 33, accuracy: 0.9737, cost 0.00283\n",
      "Epoch: 34, accuracy: 0.9740, cost 0.00277\n",
      "Epoch: 35, accuracy: 0.9740, cost 0.00271\n",
      "Epoch: 36, accuracy: 0.9742, cost 0.00265\n",
      "Epoch: 37, accuracy: 0.9742, cost 0.00260\n",
      "Epoch: 38, accuracy: 0.9741, cost 0.00255\n",
      "Epoch: 39, accuracy: 0.9739, cost 0.00250\n",
      "Epoch: 40, accuracy: 0.9738, cost 0.00245\n",
      "Epoch: 41, accuracy: 0.9736, cost 0.00240\n",
      "Epoch: 42, accuracy: 0.9737, cost 0.00236\n",
      "Epoch: 43, accuracy: 0.9737, cost 0.00231\n",
      "Epoch: 44, accuracy: 0.9736, cost 0.00227\n",
      "Epoch: 45, accuracy: 0.9736, cost 0.00223\n",
      "Epoch: 46, accuracy: 0.9736, cost 0.00219\n",
      "Epoch: 47, accuracy: 0.9733, cost 0.00216\n",
      "Epoch: 48, accuracy: 0.9734, cost 0.00212\n",
      "Epoch: 49, accuracy: 0.9737, cost 0.00209\n",
      "Epoch: 50, accuracy: 0.9736, cost 0.00205\n",
      "Epoch: 51, accuracy: 0.9736, cost 0.00202\n",
      "Epoch: 52, accuracy: 0.9737, cost 0.00199\n",
      "Epoch: 53, accuracy: 0.9737, cost 0.00195\n",
      "Epoch: 54, accuracy: 0.9737, cost 0.00192\n",
      "Epoch: 55, accuracy: 0.9738, cost 0.00190\n",
      "Epoch: 56, accuracy: 0.9738, cost 0.00187\n",
      "Epoch: 57, accuracy: 0.9740, cost 0.00184\n",
      "Epoch: 58, accuracy: 0.9742, cost 0.00181\n",
      "Epoch: 59, accuracy: 0.9744, cost 0.00179\n",
      "Optimization Finished!\n",
      "CPU times: user 2min 9s, sys: 42.7 s, total: 2min 52s\n",
      "Wall time: 46.9 s\n"
     ]
    }
   ],
   "source": [
    "%%time\n",
    "tf.set_random_seed(42)\n",
    "init = tf.global_variables_initializer()\n",
    "with tf.Session() as tfs:\n",
    "    tfs.run(init)\n",
    "    for j in range(epochs):\n",
    "        count    = 0\n",
    "        avg_cost = 0.0\n",
    "        for i in range(n_batches):\n",
    "            X_batch, Y_batch = next_batch(mbs)\n",
    "            _, c = tfs.run([optimizer, cost], {X: X_batch, Y: Y_batch})\n",
    "            avg_cost += c / n_batches\n",
    "        correct = tfs.run(tf.equal(tf.argmax(Y_pred, 0), tf.argmax(Y, 0)), {X: X_test, Y: Y_test})\n",
    "        print('Epoch: %2d, accuracy: %.4f, cost %.5f' % (j, np.sum(correct) / len(correct), avg_cost))\n",
    "    print(\"Optimization Finished!\")"
   ]
  },
  {
   "cell_type": "code",
   "execution_count": null,
   "metadata": {},
   "outputs": [],
   "source": []
  }
 ],
 "metadata": {
  "kernelspec": {
   "display_name": "Python 3",
   "language": "python",
   "name": "python3"
  },
  "language_info": {
   "codemirror_mode": {
    "name": "ipython",
    "version": 3
   },
   "file_extension": ".py",
   "mimetype": "text/x-python",
   "name": "python",
   "nbconvert_exporter": "python",
   "pygments_lexer": "ipython3",
   "version": "3.6.8"
  }
 },
 "nbformat": 4,
 "nbformat_minor": 2
}
