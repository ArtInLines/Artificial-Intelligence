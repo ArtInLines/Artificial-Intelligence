{
 "cells": [
  {
   "cell_type": "code",
   "execution_count": 1,
   "metadata": {},
   "outputs": [
    {
     "data": {
      "text/html": [
       "<style>.container { width:100% !important; } </style>"
      ],
      "text/plain": [
       "<IPython.core.display.HTML object>"
      ]
     },
     "metadata": {},
     "output_type": "display_data"
    }
   ],
   "source": [
    "#%autosave 0\n",
    "from IPython.core.display import HTML, display\n",
    "display(HTML(\"<style>.container { width:100% !important; } </style>\"))"
   ]
  },
  {
   "cell_type": "markdown",
   "metadata": {},
   "source": [
    "We have to set the variable `KMP_DUPLICATE_LIB_OK` to avoid a **bug** in TensorFlow."
   ]
  },
  {
   "cell_type": "code",
   "execution_count": 2,
   "metadata": {},
   "outputs": [
    {
     "name": "stdout",
     "output_type": "stream",
     "text": [
      "env: KMP_DUPLICATE_LIB_OK=TRUE\n"
     ]
    }
   ],
   "source": [
    "%env KMP_DUPLICATE_LIB_OK=TRUE"
   ]
  },
  {
   "cell_type": "markdown",
   "metadata": {},
   "source": [
    "# Simple Linear Regression with TensorFlow"
   ]
  },
  {
   "cell_type": "markdown",
   "metadata": {},
   "source": [
    "We need to read our data from a <tt>csv</tt> file.  The module `csv` offers a number of functions for reading and writing a <tt>csv</tt> file."
   ]
  },
  {
   "cell_type": "code",
   "execution_count": 3,
   "metadata": {},
   "outputs": [],
   "source": [
    "import csv"
   ]
  },
  {
   "cell_type": "markdown",
   "metadata": {},
   "source": [
    "The data we want to read is contained in the <tt>csv</tt> file `'cars.csv'`.  In this file, the first column has the *miles per gallon*, while the *engine displacement* is given in the third column.  We convert *miles per gallon* into *km per liter* (1 mile = 1.60934 kilometres, 1 gallon = 3,78541 litres)) and *cubic inches* into *liters* (1 cubic inch = 0.0163871 litres)."
   ]
  },
  {
   "cell_type": "code",
   "execution_count": 4,
   "metadata": {},
   "outputs": [
    {
     "name": "stdout",
     "output_type": "stream",
     "text": [
      "393 lines read\n"
     ]
    }
   ],
   "source": [
    "with open('cars.csv') as cars_file:\n",
    "    reader       = csv.reader(cars_file, delimiter=',')\n",
    "    line_count   = 0\n",
    "    kpl          = []\n",
    "    displacement = []\n",
    "    for row in reader:\n",
    "        if line_count != 0:  # skip header of file\n",
    "            # miles per gallon is in first column \n",
    "            kpl         .append(float(row[0]) * 1.60934 / 3.78541) \n",
    "            # engine displacement is in third column\n",
    "            displacement.append(float(row[2]) * 0.0163871)  \n",
    "        line_count += 1\n",
    "print(f'{line_count} lines read')"
   ]
  },
  {
   "cell_type": "markdown",
   "metadata": {},
   "source": [
    "Now `kpl` is a list of floating point numbers specifying the fuel eficiency, while the list `displacement` contains the corresponding *engine displacements* measured in cubic inches."
   ]
  },
  {
   "cell_type": "code",
   "execution_count": 5,
   "metadata": {},
   "outputs": [
    {
     "data": {
      "text/plain": [
       "[7.652571319883447,\n",
       " 6.3771427665695395,\n",
       " 7.652571319883447,\n",
       " 6.802285617674175,\n",
       " 7.227428468778811]"
      ]
     },
     "execution_count": 5,
     "metadata": {},
     "output_type": "execute_result"
    }
   ],
   "source": [
    "kpl[:5]"
   ]
  },
  {
   "cell_type": "markdown",
   "metadata": {},
   "source": [
    "The *fuel consumption* is the inverse of the variable `kpl`.  The variable `lph` gives the number of liters needed to drive 100 kilometres.  "
   ]
  },
  {
   "cell_type": "code",
   "execution_count": 6,
   "metadata": {},
   "outputs": [],
   "source": [
    "lph = [ 100 / x for x in kpl]"
   ]
  },
  {
   "cell_type": "code",
   "execution_count": 7,
   "metadata": {},
   "outputs": [
    {
     "data": {
      "text/plain": [
       "[13.067503172453028,\n",
       " 15.681003806943632,\n",
       " 13.067503172453028,\n",
       " 14.700941069009657,\n",
       " 13.836179829656148]"
      ]
     },
     "execution_count": 7,
     "metadata": {},
     "output_type": "execute_result"
    }
   ],
   "source": [
    "lph[:5]"
   ]
  },
  {
   "cell_type": "markdown",
   "metadata": {},
   "source": [
    "Yes, these old American cars had a terrible fuel efficiency.  But a look at the engine displacements gives us a clue about what is going on."
   ]
  },
  {
   "cell_type": "code",
   "execution_count": 8,
   "metadata": {},
   "outputs": [
    {
     "data": {
      "text/plain": [
       "[5.0308397000000005,\n",
       " 5.735485000000001,\n",
       " 5.2110978,\n",
       " 4.981678400000001,\n",
       " 4.9489042]"
      ]
     },
     "execution_count": 8,
     "metadata": {},
     "output_type": "execute_result"
    }
   ],
   "source": [
    "displacement[:5]"
   ]
  },
  {
   "cell_type": "markdown",
   "metadata": {},
   "source": [
    "The number of data pairs of the form $\\langle x, y \\rangle$ that we have read is stored in the variable `m`."
   ]
  },
  {
   "cell_type": "code",
   "execution_count": 9,
   "metadata": {},
   "outputs": [
    {
     "data": {
      "text/plain": [
       "392"
      ]
     },
     "execution_count": 9,
     "metadata": {},
     "output_type": "execute_result"
    }
   ],
   "source": [
    "m = len(displacement)\n",
    "m"
   ]
  },
  {
   "cell_type": "markdown",
   "metadata": {},
   "source": [
    "In order to be able to plot the *fuel efficiency* versus the *engine displacement* and  we turn the lists `displacement` and `lph` into `numpy` arrays.  "
   ]
  },
  {
   "cell_type": "code",
   "execution_count": 10,
   "metadata": {},
   "outputs": [],
   "source": [
    "import numpy             as np\n",
    "import matplotlib.pyplot as plt\n",
    "import seaborn           as sns"
   ]
  },
  {
   "cell_type": "code",
   "execution_count": 11,
   "metadata": {},
   "outputs": [],
   "source": [
    "X = np.array(displacement)\n",
    "Y = np.array(lph)"
   ]
  },
  {
   "cell_type": "code",
   "execution_count": 12,
   "metadata": {
    "scrolled": false
   },
   "outputs": [
    {
     "data": {
      "text/plain": [
       "Text(0.5,1,'Fuel Consumption Versus Engine Displacement')"
      ]
     },
     "execution_count": 12,
     "metadata": {},
     "output_type": "execute_result"
    },
    {
     "data": {
      "image/png": "[encoded data removed]",
      "text/plain": [
       "<Figure size 864x864 with 1 Axes>"
      ]
     },
     "metadata": {},
     "output_type": "display_data"
    }
   ],
   "source": [
    "plt.figure(figsize=(12, 12))\n",
    "sns.set(style='whitegrid')\n",
    "plt.scatter(X, Y, c='b')\n",
    "plt.xlabel('engine displacement in litres')\n",
    "plt.ylabel('litre per 100 km')\n",
    "plt.title('Fuel Consumption Versus Engine Displacement')"
   ]
  },
  {
   "cell_type": "markdown",
   "metadata": {},
   "source": [
    "Next, we want to show how linear regression can be formulated as a <em style=\"color:blue;\">minimization problem</em> and how this minimization problem can be solved using TensorFlow."
   ]
  },
  {
   "cell_type": "code",
   "execution_count": 13,
   "metadata": {},
   "outputs": [],
   "source": [
    "import tensorflow as tf"
   ]
  },
  {
   "cell_type": "markdown",
   "metadata": {},
   "source": [
    "This example differs from our first example as this time the function that we want to minimize depends on a \n",
    "set of <font style=\"color:blue;\">training data</font>.  Therefore, we have to define \n",
    "<font style=\"color:blue;\">placeholders</font> to insert our data into TensorFlow. We define a `placeholder` \n",
    "for the independent variable `displacement` and a `placeholder` for the dependent variable `lph`.  \n",
    "\n",
    "As we do not want to hardwire the number of examples,  we set the `shape` of these placeholders to `None`."
   ]
  },
  {
   "cell_type": "code",
   "execution_count": 14,
   "metadata": {},
   "outputs": [],
   "source": [
    "X_ph = tf.placeholder(tf.float32, shape=(None,))\n",
    "Y_ph = tf.placeholder(tf.float32, shape=(None,))"
   ]
  },
  {
   "cell_type": "markdown",
   "metadata": {},
   "source": [
    "We have a linear model to predict the fuel consumption from the displacement.  This linear model is as follows:\n",
    "$$ Y = \\vartheta \\cdot X $$\n",
    "Here $X$ is the engine displacement, while $Y$ is the fuel consumption.  Note that this linear model does not \n",
    "include a bias.  The reason is that this bias should be $0$, and hence we do not include it.  "
   ]
  },
  {
   "cell_type": "markdown",
   "metadata": {},
   "source": [
    "A first guess for $\\vartheta$ would be the average fuel consumption divided by the average engine displacement: "
   ]
  },
  {
   "cell_type": "code",
   "execution_count": 15,
   "metadata": {},
   "outputs": [
    {
     "data": {
      "text/plain": [
       "3.530787587283287"
      ]
     },
     "execution_count": 15,
     "metadata": {},
     "output_type": "execute_result"
    }
   ],
   "source": [
    "theta_initial = np.mean(Y) / np.mean(X)\n",
    "theta_initial"
   ]
  },
  {
   "cell_type": "markdown",
   "metadata": {},
   "source": [
    "$\\vartheta$ is the variable that we want to find.  Hence we declare it as a TensorFlow `Variable`."
   ]
  },
  {
   "cell_type": "code",
   "execution_count": 16,
   "metadata": {},
   "outputs": [],
   "source": [
    "ϑ = tf.Variable(theta_initial, dtype=tf.float32)\n",
    "Y_predicted = ϑ * X_ph"
   ]
  },
  {
   "cell_type": "markdown",
   "metadata": {},
   "source": [
    "The <font style=\"color:blue;\">loss function</font> is defined as the sum of the squares of the errors. \n",
    "In order to normalize the loss, we divide it by the number of training examples $m$.\n",
    "$$ \\texttt{loss} := \\frac{1}{m} \\cdot \\sum\\limits_{i=1}^m \\bigl(\\vartheta \\cdot x_i - y_i\\bigr) $$\n",
    "Here $x_i$ is the engine displacement of the $i$-th training example, while $y_i$ is the fuel consumption\n",
    "of this training example.  Our goal is to determine the value of $\\vartheta$ that mimimizes this loss function.\n",
    "\n",
    "The function <a href=\"https://www.tensorflow.org/api_docs/python/tf/math/square\"><tt>square</tt></a>\n",
    "takes an array and squares it elementwise.  The function\n",
    "<a href=\"https://www.tensorflow.org/api_docs/python/tf/math/reduce_sum\"><tt>reduce_sum</tt></a>\n",
    "computes the sum of all elements of an array."
   ]
  },
  {
   "cell_type": "code",
   "execution_count": 17,
   "metadata": {},
   "outputs": [
    {
     "data": {
      "text/plain": [
       "<tf.Tensor 'truediv:0' shape=() dtype=float32>"
      ]
     },
     "execution_count": 17,
     "metadata": {},
     "output_type": "execute_result"
    }
   ],
   "source": [
    "loss = tf.reduce_sum(tf.square(Y_predicted - Y_ph)) / m\n",
    "loss"
   ]
  },
  {
   "cell_type": "markdown",
   "metadata": {},
   "source": [
    "We will use <font style=\"color:blue;\">gradient descent</font> to minimize our \n",
    "<font style=\"color:blue;\">loss function</font>.  After some experimentation, I have chosen a \n",
    "<font style=\"color:blue;\">learning rate</font> $\\alpha$ of $0.03$:"
   ]
  },
  {
   "cell_type": "code",
   "execution_count": 18,
   "metadata": {},
   "outputs": [],
   "source": [
    "α         = 0.03\n",
    "train     = tf.train.GradientDescentOptimizer(α)\n",
    "optimizer = train.minimize(loss)"
   ]
  },
  {
   "cell_type": "markdown",
   "metadata": {},
   "source": [
    "Finally, we can start a TensorFlow session and run our optimizer for 11 steps of gradient descent.\n",
    "Observe how we have used the <font style=\"color:blue;\">dictionary</font> `data_dict` to feed the\n",
    "training data into our optimizer."
   ]
  },
  {
   "cell_type": "code",
   "execution_count": 19,
   "metadata": {},
   "outputs": [
    {
     "name": "stdout",
     "output_type": "stream",
     "text": [
      " 0: ϑ = 3.257284, loss = 9.388667\n",
      " 1: ϑ = 3.198470, loss = 9.318620\n",
      " 2: ϑ = 3.185823, loss = 9.315380\n",
      " 3: ϑ = 3.183103, loss = 9.315230\n",
      " 4: ϑ = 3.182518, loss = 9.315223\n",
      " 5: ϑ = 3.182393, loss = 9.315222\n",
      " 6: ϑ = 3.182366, loss = 9.315223\n",
      " 7: ϑ = 3.182360, loss = 9.315223\n",
      " 8: ϑ = 3.182359, loss = 9.315223\n"
     ]
    }
   ],
   "source": [
    "init = tf.global_variables_initializer()\n",
    "with tf.Session() as s:\n",
    "    s.run(init)\n",
    "    data_dict = {X_ph: X, Y_ph: Y}\n",
    "    for k in range(9):\n",
    "        s.run(optimizer, data_dict)            # one step of gradient descent\n",
    "        theta, l = s.run([ϑ, loss], data_dict) # evaluate the variable ϑ and the loss function\n",
    "        print('%2d: ϑ = %f, loss = %f' % (k, theta, l))"
   ]
  },
  {
   "cell_type": "markdown",
   "metadata": {},
   "source": [
    "We can conclude: For a car from the early eighties that has an engine displacement of $d$ litres, the fuel consumption is about $3.18 \\cdot d$ litres per 100 kilometres."
   ]
  },
  {
   "cell_type": "markdown",
   "metadata": {},
   "source": [
    "If we compare this notebook to the notebook \n",
    "<a href=\"https://github.com/karlstroetmann/Artificial-Intelligence/blob/master/Python/Simple-Linear-Regression.ipynb\">Simple-Linear-Regression.ipynb</a> that we had developed at the beginning of this lecture\n",
    "we notice the following:  \n",
    "  - In the notebook `Simple-Linear-Regression.ipynb` we had to derive a formula to compute the minimum\n",
    "    of the loss function.\n",
    "  - In the current notebook, we just had to define the <font style=\"color:blue;\">gradient descent</font>.  \n",
    "    Everything else is dealt with by TensorFlow."
   ]
  },
  {
   "cell_type": "code",
   "execution_count": 20,
   "metadata": {},
   "outputs": [
    {
     "data": {
      "text/plain": [
       "Text(0.5,1,'Fuel Consumption versus Engine Displacement')"
      ]
     },
     "execution_count": 20,
     "metadata": {},
     "output_type": "execute_result"
    },
    {
     "data": {
      "image/png": "[encoded data removed]",
      "text/plain": [
       "<Figure size 864x720 with 1 Axes>"
      ]
     },
     "metadata": {},
     "output_type": "display_data"
    }
   ],
   "source": [
    "xMax = max(X) + 0.2\n",
    "plt.figure(figsize=(12, 10))\n",
    "sns.set(style='darkgrid')\n",
    "plt.scatter(X, Y, c='b')\n",
    "plt.plot([0, xMax], [0, theta * xMax], c='r')\n",
    "plt.xlabel('engine displacement in cubic inches')\n",
    "plt.ylabel('fuel consumption in litres per 100 km')\n",
    "plt.title('Fuel Consumption versus Engine Displacement')"
   ]
  }
 ],
 "metadata": {
  "kernelspec": {
   "display_name": "Python 3",
   "language": "python",
   "name": "python3"
  },
  "language_info": {
   "codemirror_mode": {
    "name": "ipython",
    "version": 3
   },
   "file_extension": ".py",
   "mimetype": "text/x-python",
   "name": "python",
   "nbconvert_exporter": "python",
   "pygments_lexer": "ipython3",
   "version": "3.6.8"
  }
 },
 "nbformat": 4,
 "nbformat_minor": 2
}
