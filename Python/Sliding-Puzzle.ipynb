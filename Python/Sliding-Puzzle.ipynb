{
 "cells": [
  {
   "cell_type": "code",
   "execution_count": 1,
   "metadata": {},
   "outputs": [
    {
     "data": {
      "text/html": [
       "<style>.container { width:100%; !important } </style>"
      ],
      "text/plain": [
       "<IPython.core.display.HTML object>"
      ]
     },
     "metadata": {},
     "output_type": "display_data"
    }
   ],
   "source": [
    "from IPython.core.display import HTML, display\n",
    "display(HTML('<style>.container { width:100%; !important } </style>'))"
   ]
  },
  {
   "cell_type": "markdown",
   "metadata": {},
   "source": [
    "# Utilities"
   ]
  },
  {
   "cell_type": "markdown",
   "metadata": {},
   "source": [
    "The function `stateToString` converts the current state of the puzzle to a string."
   ]
  },
  {
   "cell_type": "code",
   "execution_count": 2,
   "metadata": {},
   "outputs": [],
   "source": [
    "def state_to_string(State):\n",
    "    n      = len(State)\n",
    "    indent = \" \" * 4\n",
    "    line   = indent + \"+---\" * n + \"+\\n\"\n",
    "    result = line\n",
    "    for row in range(n):\n",
    "        result += indent + \"|\"\n",
    "        for col in range(n):\n",
    "            cell = State[row][col]\n",
    "            if cell >= 10:\n",
    "                result += str(cell) + \" \"\n",
    "            elif 0 < cell < 10:\n",
    "                result += \" \" + str(cell) + \" \"\n",
    "            else:\n",
    "                result += \"   \"\n",
    "            result += \"|\"\n",
    "        result += \"\\n\"\n",
    "        result += line\n",
    "    return result"
   ]
  },
  {
   "cell_type": "code",
   "execution_count": 3,
   "metadata": {},
   "outputs": [],
   "source": [
    "Colors = ['white', 'lightblue', 'pink', 'magenta', 'orange', 'red', 'yellow', 'lightgreen', 'salmon']"
   ]
  },
  {
   "cell_type": "code",
   "execution_count": 4,
   "metadata": {},
   "outputs": [],
   "source": [
    "def get_style(n):\n",
    "    return 'background-color: ' + Colors[n] + ';\">'"
   ]
  },
  {
   "cell_type": "code",
   "execution_count": 5,
   "metadata": {},
   "outputs": [],
   "source": [
    "CSS_Table = { 'border'      : '2px solid darkblue;',\n",
    "              'border-style': 'double;',\n",
    "              'border-width': '4px;'\n",
    "            }"
   ]
  },
  {
   "cell_type": "code",
   "execution_count": 6,
   "metadata": {},
   "outputs": [],
   "source": [
    "CSS_TD = { 'border'      : '2px solid black;', \n",
    "           'border-style': 'groove;',\n",
    "           'border-width': '8px;',\n",
    "           'padding'     : '15px;',\n",
    "           'font-size'   : '150%;', \n",
    "         }"
   ]
  },
  {
   "cell_type": "code",
   "execution_count": 7,
   "metadata": {},
   "outputs": [],
   "source": [
    "def css_style(Dictionary):\n",
    "    result = ''\n",
    "    for k, v in Dictionary.items():\n",
    "        result += k + ':' + v\n",
    "    return result"
   ]
  },
  {
   "cell_type": "code",
   "execution_count": 8,
   "metadata": {},
   "outputs": [],
   "source": [
    "def state_to_html(State):\n",
    "    result = '<table style=\"' + css_style(CSS_Table) + '\">\\n'\n",
    "    for row in State:\n",
    "        result += '<tr>'\n",
    "        for number in row:\n",
    "            result += '<td style=\"' + css_style(CSS_TD)\n",
    "            if number > 0:\n",
    "                result += get_style(number) + str(number)\n",
    "            else:\n",
    "                result += get_style(number)\n",
    "            result += '</td>'\n",
    "        result += '</tr>\\n'\n",
    "    result += '</table>'\n",
    "    return result"
   ]
  },
  {
   "cell_type": "markdown",
   "metadata": {},
   "source": [
    "# Sliding Puzzle"
   ]
  },
  {
   "cell_type": "markdown",
   "metadata": {},
   "source": [
    "`find_tile` finds the coordinates of the given `tile` in `state`."
   ]
  },
  {
   "cell_type": "code",
   "execution_count": 9,
   "metadata": {},
   "outputs": [],
   "source": [
    "def find_tile(tile, State):\n",
    "    n = len(State)\n",
    "    L = range(n)\n",
    "    for row in L:\n",
    "        for col in L:\n",
    "            if State[row][col] == tile:\n",
    "                return row, col"
   ]
  },
  {
   "cell_type": "code",
   "execution_count": 10,
   "metadata": {},
   "outputs": [],
   "source": [
    "def to_list(State):\n",
    "    return [list(row) for row in State]"
   ]
  },
  {
   "cell_type": "code",
   "execution_count": 11,
   "metadata": {},
   "outputs": [],
   "source": [
    "def to_tuple(State):\n",
    "    return tuple(tuple(row) for row in State)"
   ]
  },
  {
   "cell_type": "code",
   "execution_count": 12,
   "metadata": {},
   "outputs": [],
   "source": [
    "def move_dir(State, row, col, dx, dy):\n",
    "    State = to_list(State)\n",
    "    State[row     ][col     ] = State[row + dx][col + dy]\n",
    "    State[row + dx][col + dy] = 0\n",
    "    return to_tuple(State)"
   ]
  },
  {
   "cell_type": "code",
   "execution_count": 13,
   "metadata": {},
   "outputs": [],
   "source": [
    "def nextStates(State):\n",
    "    n          = len(State)\n",
    "    row, col   = find_tile(0, State)\n",
    "    New_States = set()\n",
    "    Directions = [ (1, 0), (-1, 0), (0, 1), (0, -1) ]\n",
    "    L          = range(n)\n",
    "    for dx, dy in Directions:\n",
    "        if row + dx in L and col + dy in L:\n",
    "            New_States.add(move_dir(State, row, col, dx, dy))\n",
    "    return New_States"
   ]
  },
  {
   "cell_type": "code",
   "execution_count": 14,
   "metadata": {},
   "outputs": [],
   "source": [
    "start = ( (8, 0, 6),\n",
    "          (5, 4, 7),\n",
    "          (2, 3, 1)\n",
    "        )"
   ]
  },
  {
   "cell_type": "code",
   "execution_count": 15,
   "metadata": {},
   "outputs": [],
   "source": [
    "goal = (\n",
    "         (0, 1, 2), \n",
    "         (3, 4, 5), \n",
    "         (6, 7, 8)\n",
    "       )"
   ]
  },
  {
   "cell_type": "code",
   "execution_count": 16,
   "metadata": {},
   "outputs": [
    {
     "data": {
      "text/html": [
       "<style>.container { width:100%; !important } </style>"
      ],
      "text/plain": [
       "<IPython.core.display.HTML object>"
      ]
     },
     "metadata": {},
     "output_type": "display_data"
    }
   ],
   "source": [
    "%run Breadth-First-Search.ipynb"
   ]
  },
  {
   "cell_type": "code",
   "execution_count": 17,
   "metadata": {},
   "outputs": [
    {
     "name": "stdout",
     "output_type": "stream",
     "text": [
      "31\n",
      "CPU times: user 1.68 s, sys: 20.3 ms, total: 1.7 s\n",
      "Wall time: 1.72 s\n"
     ]
    }
   ],
   "source": [
    "%%time\n",
    "Path = search(start, goal, nextStates)\n",
    "print(len(Path)-1)"
   ]
  },
  {
   "cell_type": "markdown",
   "metadata": {},
   "source": [
    "# Output"
   ]
  },
  {
   "cell_type": "code",
   "execution_count": 18,
   "metadata": {
    "scrolled": false
   },
   "outputs": [
    {
     "data": {
      "text/html": [
       "<table style=\"border:2px solid darkblue;border-style:double;border-width:4px;\">\n",
       "<tr><td style=\"border:2px solid black;border-style:groove;border-width:8px;padding:15px;font-size:150%;background-color: salmon;\">8</td><td style=\"border:2px solid black;border-style:groove;border-width:8px;padding:15px;font-size:150%;background-color: white;\"></td><td style=\"border:2px solid black;border-style:groove;border-width:8px;padding:15px;font-size:150%;background-color: yellow;\">6</td></tr>\n",
       "<tr><td style=\"border:2px solid black;border-style:groove;border-width:8px;padding:15px;font-size:150%;background-color: red;\">5</td><td style=\"border:2px solid black;border-style:groove;border-width:8px;padding:15px;font-size:150%;background-color: orange;\">4</td><td style=\"border:2px solid black;border-style:groove;border-width:8px;padding:15px;font-size:150%;background-color: lightgreen;\">7</td></tr>\n",
       "<tr><td style=\"border:2px solid black;border-style:groove;border-width:8px;padding:15px;font-size:150%;background-color: pink;\">2</td><td style=\"border:2px solid black;border-style:groove;border-width:8px;padding:15px;font-size:150%;background-color: magenta;\">3</td><td style=\"border:2px solid black;border-style:groove;border-width:8px;padding:15px;font-size:150%;background-color: lightblue;\">1</td></tr>\n",
       "</table>"
      ],
      "text/plain": [
       "<IPython.core.display.HTML object>"
      ]
     },
     "metadata": {},
     "output_type": "display_data"
    },
    {
     "data": {
      "text/html": [
       "<table style=\"border:2px solid darkblue;border-style:double;border-width:4px;\">\n",
       "<tr><td style=\"border:2px solid black;border-style:groove;border-width:8px;padding:15px;font-size:150%;background-color: white;\"></td><td style=\"border:2px solid black;border-style:groove;border-width:8px;padding:15px;font-size:150%;background-color: salmon;\">8</td><td style=\"border:2px solid black;border-style:groove;border-width:8px;padding:15px;font-size:150%;background-color: yellow;\">6</td></tr>\n",
       "<tr><td style=\"border:2px solid black;border-style:groove;border-width:8px;padding:15px;font-size:150%;background-color: red;\">5</td><td style=\"border:2px solid black;border-style:groove;border-width:8px;padding:15px;font-size:150%;background-color: orange;\">4</td><td style=\"border:2px solid black;border-style:groove;border-width:8px;padding:15px;font-size:150%;background-color: lightgreen;\">7</td></tr>\n",
       "<tr><td style=\"border:2px solid black;border-style:groove;border-width:8px;padding:15px;font-size:150%;background-color: pink;\">2</td><td style=\"border:2px solid black;border-style:groove;border-width:8px;padding:15px;font-size:150%;background-color: magenta;\">3</td><td style=\"border:2px solid black;border-style:groove;border-width:8px;padding:15px;font-size:150%;background-color: lightblue;\">1</td></tr>\n",
       "</table>"
      ],
      "text/plain": [
       "<IPython.core.display.HTML object>"
      ]
     },
     "metadata": {},
     "output_type": "display_data"
    },
    {
     "data": {
      "text/html": [
       "<table style=\"border:2px solid darkblue;border-style:double;border-width:4px;\">\n",
       "<tr><td style=\"border:2px solid black;border-style:groove;border-width:8px;padding:15px;font-size:150%;background-color: red;\">5</td><td style=\"border:2px solid black;border-style:groove;border-width:8px;padding:15px;font-size:150%;background-color: salmon;\">8</td><td style=\"border:2px solid black;border-style:groove;border-width:8px;padding:15px;font-size:150%;background-color: yellow;\">6</td></tr>\n",
       "<tr><td style=\"border:2px solid black;border-style:groove;border-width:8px;padding:15px;font-size:150%;background-color: white;\"></td><td style=\"border:2px solid black;border-style:groove;border-width:8px;padding:15px;font-size:150%;background-color: orange;\">4</td><td style=\"border:2px solid black;border-style:groove;border-width:8px;padding:15px;font-size:150%;background-color: lightgreen;\">7</td></tr>\n",
       "<tr><td style=\"border:2px solid black;border-style:groove;border-width:8px;padding:15px;font-size:150%;background-color: pink;\">2</td><td style=\"border:2px solid black;border-style:groove;border-width:8px;padding:15px;font-size:150%;background-color: magenta;\">3</td><td style=\"border:2px solid black;border-style:groove;border-width:8px;padding:15px;font-size:150%;background-color: lightblue;\">1</td></tr>\n",
       "</table>"
      ],
      "text/plain": [
       "<IPython.core.display.HTML object>"
      ]
     },
     "metadata": {},
     "output_type": "display_data"
    },
    {
     "data": {
      "text/html": [
       "<table style=\"border:2px solid darkblue;border-style:double;border-width:4px;\">\n",
       "<tr><td style=\"border:2px solid black;border-style:groove;border-width:8px;padding:15px;font-size:150%;background-color: red;\">5</td><td style=\"border:2px solid black;border-style:groove;border-width:8px;padding:15px;font-size:150%;background-color: salmon;\">8</td><td style=\"border:2px solid black;border-style:groove;border-width:8px;padding:15px;font-size:150%;background-color: yellow;\">6</td></tr>\n",
       "<tr><td style=\"border:2px solid black;border-style:groove;border-width:8px;padding:15px;font-size:150%;background-color: pink;\">2</td><td style=\"border:2px solid black;border-style:groove;border-width:8px;padding:15px;font-size:150%;background-color: orange;\">4</td><td style=\"border:2px solid black;border-style:groove;border-width:8px;padding:15px;font-size:150%;background-color: lightgreen;\">7</td></tr>\n",
       "<tr><td style=\"border:2px solid black;border-style:groove;border-width:8px;padding:15px;font-size:150%;background-color: white;\"></td><td style=\"border:2px solid black;border-style:groove;border-width:8px;padding:15px;font-size:150%;background-color: magenta;\">3</td><td style=\"border:2px solid black;border-style:groove;border-width:8px;padding:15px;font-size:150%;background-color: lightblue;\">1</td></tr>\n",
       "</table>"
      ],
      "text/plain": [
       "<IPython.core.display.HTML object>"
      ]
     },
     "metadata": {},
     "output_type": "display_data"
    },
    {
     "data": {
      "text/html": [
       "<table style=\"border:2px solid darkblue;border-style:double;border-width:4px;\">\n",
       "<tr><td style=\"border:2px solid black;border-style:groove;border-width:8px;padding:15px;font-size:150%;background-color: red;\">5</td><td style=\"border:2px solid black;border-style:groove;border-width:8px;padding:15px;font-size:150%;background-color: salmon;\">8</td><td style=\"border:2px solid black;border-style:groove;border-width:8px;padding:15px;font-size:150%;background-color: yellow;\">6</td></tr>\n",
       "<tr><td style=\"border:2px solid black;border-style:groove;border-width:8px;padding:15px;font-size:150%;background-color: pink;\">2</td><td style=\"border:2px solid black;border-style:groove;border-width:8px;padding:15px;font-size:150%;background-color: orange;\">4</td><td style=\"border:2px solid black;border-style:groove;border-width:8px;padding:15px;font-size:150%;background-color: lightgreen;\">7</td></tr>\n",
       "<tr><td style=\"border:2px solid black;border-style:groove;border-width:8px;padding:15px;font-size:150%;background-color: magenta;\">3</td><td style=\"border:2px solid black;border-style:groove;border-width:8px;padding:15px;font-size:150%;background-color: white;\"></td><td style=\"border:2px solid black;border-style:groove;border-width:8px;padding:15px;font-size:150%;background-color: lightblue;\">1</td></tr>\n",
       "</table>"
      ],
      "text/plain": [
       "<IPython.core.display.HTML object>"
      ]
     },
     "metadata": {},
     "output_type": "display_data"
    },
    {
     "data": {
      "text/html": [
       "<table style=\"border:2px solid darkblue;border-style:double;border-width:4px;\">\n",
       "<tr><td style=\"border:2px solid black;border-style:groove;border-width:8px;padding:15px;font-size:150%;background-color: red;\">5</td><td style=\"border:2px solid black;border-style:groove;border-width:8px;padding:15px;font-size:150%;background-color: salmon;\">8</td><td style=\"border:2px solid black;border-style:groove;border-width:8px;padding:15px;font-size:150%;background-color: yellow;\">6</td></tr>\n",
       "<tr><td style=\"border:2px solid black;border-style:groove;border-width:8px;padding:15px;font-size:150%;background-color: pink;\">2</td><td style=\"border:2px solid black;border-style:groove;border-width:8px;padding:15px;font-size:150%;background-color: orange;\">4</td><td style=\"border:2px solid black;border-style:groove;border-width:8px;padding:15px;font-size:150%;background-color: lightgreen;\">7</td></tr>\n",
       "<tr><td style=\"border:2px solid black;border-style:groove;border-width:8px;padding:15px;font-size:150%;background-color: magenta;\">3</td><td style=\"border:2px solid black;border-style:groove;border-width:8px;padding:15px;font-size:150%;background-color: lightblue;\">1</td><td style=\"border:2px solid black;border-style:groove;border-width:8px;padding:15px;font-size:150%;background-color: white;\"></td></tr>\n",
       "</table>"
      ],
      "text/plain": [
       "<IPython.core.display.HTML object>"
      ]
     },
     "metadata": {},
     "output_type": "display_data"
    },
    {
     "data": {
      "text/html": [
       "<table style=\"border:2px solid darkblue;border-style:double;border-width:4px;\">\n",
       "<tr><td style=\"border:2px solid black;border-style:groove;border-width:8px;padding:15px;font-size:150%;background-color: red;\">5</td><td style=\"border:2px solid black;border-style:groove;border-width:8px;padding:15px;font-size:150%;background-color: salmon;\">8</td><td style=\"border:2px solid black;border-style:groove;border-width:8px;padding:15px;font-size:150%;background-color: yellow;\">6</td></tr>\n",
       "<tr><td style=\"border:2px solid black;border-style:groove;border-width:8px;padding:15px;font-size:150%;background-color: pink;\">2</td><td style=\"border:2px solid black;border-style:groove;border-width:8px;padding:15px;font-size:150%;background-color: orange;\">4</td><td style=\"border:2px solid black;border-style:groove;border-width:8px;padding:15px;font-size:150%;background-color: white;\"></td></tr>\n",
       "<tr><td style=\"border:2px solid black;border-style:groove;border-width:8px;padding:15px;font-size:150%;background-color: magenta;\">3</td><td style=\"border:2px solid black;border-style:groove;border-width:8px;padding:15px;font-size:150%;background-color: lightblue;\">1</td><td style=\"border:2px solid black;border-style:groove;border-width:8px;padding:15px;font-size:150%;background-color: lightgreen;\">7</td></tr>\n",
       "</table>"
      ],
      "text/plain": [
       "<IPython.core.display.HTML object>"
      ]
     },
     "metadata": {},
     "output_type": "display_data"
    },
    {
     "data": {
      "text/html": [
       "<table style=\"border:2px solid darkblue;border-style:double;border-width:4px;\">\n",
       "<tr><td style=\"border:2px solid black;border-style:groove;border-width:8px;padding:15px;font-size:150%;background-color: red;\">5</td><td style=\"border:2px solid black;border-style:groove;border-width:8px;padding:15px;font-size:150%;background-color: salmon;\">8</td><td style=\"border:2px solid black;border-style:groove;border-width:8px;padding:15px;font-size:150%;background-color: white;\"></td></tr>\n",
       "<tr><td style=\"border:2px solid black;border-style:groove;border-width:8px;padding:15px;font-size:150%;background-color: pink;\">2</td><td style=\"border:2px solid black;border-style:groove;border-width:8px;padding:15px;font-size:150%;background-color: orange;\">4</td><td style=\"border:2px solid black;border-style:groove;border-width:8px;padding:15px;font-size:150%;background-color: yellow;\">6</td></tr>\n",
       "<tr><td style=\"border:2px solid black;border-style:groove;border-width:8px;padding:15px;font-size:150%;background-color: magenta;\">3</td><td style=\"border:2px solid black;border-style:groove;border-width:8px;padding:15px;font-size:150%;background-color: lightblue;\">1</td><td style=\"border:2px solid black;border-style:groove;border-width:8px;padding:15px;font-size:150%;background-color: lightgreen;\">7</td></tr>\n",
       "</table>"
      ],
      "text/plain": [
       "<IPython.core.display.HTML object>"
      ]
     },
     "metadata": {},
     "output_type": "display_data"
    },
    {
     "data": {
      "text/html": [
       "<table style=\"border:2px solid darkblue;border-style:double;border-width:4px;\">\n",
       "<tr><td style=\"border:2px solid black;border-style:groove;border-width:8px;padding:15px;font-size:150%;background-color: red;\">5</td><td style=\"border:2px solid black;border-style:groove;border-width:8px;padding:15px;font-size:150%;background-color: white;\"></td><td style=\"border:2px solid black;border-style:groove;border-width:8px;padding:15px;font-size:150%;background-color: salmon;\">8</td></tr>\n",
       "<tr><td style=\"border:2px solid black;border-style:groove;border-width:8px;padding:15px;font-size:150%;background-color: pink;\">2</td><td style=\"border:2px solid black;border-style:groove;border-width:8px;padding:15px;font-size:150%;background-color: orange;\">4</td><td style=\"border:2px solid black;border-style:groove;border-width:8px;padding:15px;font-size:150%;background-color: yellow;\">6</td></tr>\n",
       "<tr><td style=\"border:2px solid black;border-style:groove;border-width:8px;padding:15px;font-size:150%;background-color: magenta;\">3</td><td style=\"border:2px solid black;border-style:groove;border-width:8px;padding:15px;font-size:150%;background-color: lightblue;\">1</td><td style=\"border:2px solid black;border-style:groove;border-width:8px;padding:15px;font-size:150%;background-color: lightgreen;\">7</td></tr>\n",
       "</table>"
      ],
      "text/plain": [
       "<IPython.core.display.HTML object>"
      ]
     },
     "metadata": {},
     "output_type": "display_data"
    },
    {
     "data": {
      "text/html": [
       "<table style=\"border:2px solid darkblue;border-style:double;border-width:4px;\">\n",
       "<tr><td style=\"border:2px solid black;border-style:groove;border-width:8px;padding:15px;font-size:150%;background-color: white;\"></td><td style=\"border:2px solid black;border-style:groove;border-width:8px;padding:15px;font-size:150%;background-color: red;\">5</td><td style=\"border:2px solid black;border-style:groove;border-width:8px;padding:15px;font-size:150%;background-color: salmon;\">8</td></tr>\n",
       "<tr><td style=\"border:2px solid black;border-style:groove;border-width:8px;padding:15px;font-size:150%;background-color: pink;\">2</td><td style=\"border:2px solid black;border-style:groove;border-width:8px;padding:15px;font-size:150%;background-color: orange;\">4</td><td style=\"border:2px solid black;border-style:groove;border-width:8px;padding:15px;font-size:150%;background-color: yellow;\">6</td></tr>\n",
       "<tr><td style=\"border:2px solid black;border-style:groove;border-width:8px;padding:15px;font-size:150%;background-color: magenta;\">3</td><td style=\"border:2px solid black;border-style:groove;border-width:8px;padding:15px;font-size:150%;background-color: lightblue;\">1</td><td style=\"border:2px solid black;border-style:groove;border-width:8px;padding:15px;font-size:150%;background-color: lightgreen;\">7</td></tr>\n",
       "</table>"
      ],
      "text/plain": [
       "<IPython.core.display.HTML object>"
      ]
     },
     "metadata": {},
     "output_type": "display_data"
    },
    {
     "data": {
      "text/html": [
       "<table style=\"border:2px solid darkblue;border-style:double;border-width:4px;\">\n",
       "<tr><td style=\"border:2px solid black;border-style:groove;border-width:8px;padding:15px;font-size:150%;background-color: pink;\">2</td><td style=\"border:2px solid black;border-style:groove;border-width:8px;padding:15px;font-size:150%;background-color: red;\">5</td><td style=\"border:2px solid black;border-style:groove;border-width:8px;padding:15px;font-size:150%;background-color: salmon;\">8</td></tr>\n",
       "<tr><td style=\"border:2px solid black;border-style:groove;border-width:8px;padding:15px;font-size:150%;background-color: white;\"></td><td style=\"border:2px solid black;border-style:groove;border-width:8px;padding:15px;font-size:150%;background-color: orange;\">4</td><td style=\"border:2px solid black;border-style:groove;border-width:8px;padding:15px;font-size:150%;background-color: yellow;\">6</td></tr>\n",
       "<tr><td style=\"border:2px solid black;border-style:groove;border-width:8px;padding:15px;font-size:150%;background-color: magenta;\">3</td><td style=\"border:2px solid black;border-style:groove;border-width:8px;padding:15px;font-size:150%;background-color: lightblue;\">1</td><td style=\"border:2px solid black;border-style:groove;border-width:8px;padding:15px;font-size:150%;background-color: lightgreen;\">7</td></tr>\n",
       "</table>"
      ],
      "text/plain": [
       "<IPython.core.display.HTML object>"
      ]
     },
     "metadata": {},
     "output_type": "display_data"
    },
    {
     "data": {
      "text/html": [
       "<table style=\"border:2px solid darkblue;border-style:double;border-width:4px;\">\n",
       "<tr><td style=\"border:2px solid black;border-style:groove;border-width:8px;padding:15px;font-size:150%;background-color: pink;\">2</td><td style=\"border:2px solid black;border-style:groove;border-width:8px;padding:15px;font-size:150%;background-color: red;\">5</td><td style=\"border:2px solid black;border-style:groove;border-width:8px;padding:15px;font-size:150%;background-color: salmon;\">8</td></tr>\n",
       "<tr><td style=\"border:2px solid black;border-style:groove;border-width:8px;padding:15px;font-size:150%;background-color: orange;\">4</td><td style=\"border:2px solid black;border-style:groove;border-width:8px;padding:15px;font-size:150%;background-color: white;\"></td><td style=\"border:2px solid black;border-style:groove;border-width:8px;padding:15px;font-size:150%;background-color: yellow;\">6</td></tr>\n",
       "<tr><td style=\"border:2px solid black;border-style:groove;border-width:8px;padding:15px;font-size:150%;background-color: magenta;\">3</td><td style=\"border:2px solid black;border-style:groove;border-width:8px;padding:15px;font-size:150%;background-color: lightblue;\">1</td><td style=\"border:2px solid black;border-style:groove;border-width:8px;padding:15px;font-size:150%;background-color: lightgreen;\">7</td></tr>\n",
       "</table>"
      ],
      "text/plain": [
       "<IPython.core.display.HTML object>"
      ]
     },
     "metadata": {},
     "output_type": "display_data"
    },
    {
     "data": {
      "text/html": [
       "<table style=\"border:2px solid darkblue;border-style:double;border-width:4px;\">\n",
       "<tr><td style=\"border:2px solid black;border-style:groove;border-width:8px;padding:15px;font-size:150%;background-color: pink;\">2</td><td style=\"border:2px solid black;border-style:groove;border-width:8px;padding:15px;font-size:150%;background-color: red;\">5</td><td style=\"border:2px solid black;border-style:groove;border-width:8px;padding:15px;font-size:150%;background-color: salmon;\">8</td></tr>\n",
       "<tr><td style=\"border:2px solid black;border-style:groove;border-width:8px;padding:15px;font-size:150%;background-color: orange;\">4</td><td style=\"border:2px solid black;border-style:groove;border-width:8px;padding:15px;font-size:150%;background-color: lightblue;\">1</td><td style=\"border:2px solid black;border-style:groove;border-width:8px;padding:15px;font-size:150%;background-color: yellow;\">6</td></tr>\n",
       "<tr><td style=\"border:2px solid black;border-style:groove;border-width:8px;padding:15px;font-size:150%;background-color: magenta;\">3</td><td style=\"border:2px solid black;border-style:groove;border-width:8px;padding:15px;font-size:150%;background-color: white;\"></td><td style=\"border:2px solid black;border-style:groove;border-width:8px;padding:15px;font-size:150%;background-color: lightgreen;\">7</td></tr>\n",
       "</table>"
      ],
      "text/plain": [
       "<IPython.core.display.HTML object>"
      ]
     },
     "metadata": {},
     "output_type": "display_data"
    },
    {
     "data": {
      "text/html": [
       "<table style=\"border:2px solid darkblue;border-style:double;border-width:4px;\">\n",
       "<tr><td style=\"border:2px solid black;border-style:groove;border-width:8px;padding:15px;font-size:150%;background-color: pink;\">2</td><td style=\"border:2px solid black;border-style:groove;border-width:8px;padding:15px;font-size:150%;background-color: red;\">5</td><td style=\"border:2px solid black;border-style:groove;border-width:8px;padding:15px;font-size:150%;background-color: salmon;\">8</td></tr>\n",
       "<tr><td style=\"border:2px solid black;border-style:groove;border-width:8px;padding:15px;font-size:150%;background-color: orange;\">4</td><td style=\"border:2px solid black;border-style:groove;border-width:8px;padding:15px;font-size:150%;background-color: lightblue;\">1</td><td style=\"border:2px solid black;border-style:groove;border-width:8px;padding:15px;font-size:150%;background-color: yellow;\">6</td></tr>\n",
       "<tr><td style=\"border:2px solid black;border-style:groove;border-width:8px;padding:15px;font-size:150%;background-color: white;\"></td><td style=\"border:2px solid black;border-style:groove;border-width:8px;padding:15px;font-size:150%;background-color: magenta;\">3</td><td style=\"border:2px solid black;border-style:groove;border-width:8px;padding:15px;font-size:150%;background-color: lightgreen;\">7</td></tr>\n",
       "</table>"
      ],
      "text/plain": [
       "<IPython.core.display.HTML object>"
      ]
     },
     "metadata": {},
     "output_type": "display_data"
    },
    {
     "data": {
      "text/html": [
       "<table style=\"border:2px solid darkblue;border-style:double;border-width:4px;\">\n",
       "<tr><td style=\"border:2px solid black;border-style:groove;border-width:8px;padding:15px;font-size:150%;background-color: pink;\">2</td><td style=\"border:2px solid black;border-style:groove;border-width:8px;padding:15px;font-size:150%;background-color: red;\">5</td><td style=\"border:2px solid black;border-style:groove;border-width:8px;padding:15px;font-size:150%;background-color: salmon;\">8</td></tr>\n",
       "<tr><td style=\"border:2px solid black;border-style:groove;border-width:8px;padding:15px;font-size:150%;background-color: white;\"></td><td style=\"border:2px solid black;border-style:groove;border-width:8px;padding:15px;font-size:150%;background-color: lightblue;\">1</td><td style=\"border:2px solid black;border-style:groove;border-width:8px;padding:15px;font-size:150%;background-color: yellow;\">6</td></tr>\n",
       "<tr><td style=\"border:2px solid black;border-style:groove;border-width:8px;padding:15px;font-size:150%;background-color: orange;\">4</td><td style=\"border:2px solid black;border-style:groove;border-width:8px;padding:15px;font-size:150%;background-color: magenta;\">3</td><td style=\"border:2px solid black;border-style:groove;border-width:8px;padding:15px;font-size:150%;background-color: lightgreen;\">7</td></tr>\n",
       "</table>"
      ],
      "text/plain": [
       "<IPython.core.display.HTML object>"
      ]
     },
     "metadata": {},
     "output_type": "display_data"
    },
    {
     "data": {
      "text/html": [
       "<table style=\"border:2px solid darkblue;border-style:double;border-width:4px;\">\n",
       "<tr><td style=\"border:2px solid black;border-style:groove;border-width:8px;padding:15px;font-size:150%;background-color: pink;\">2</td><td style=\"border:2px solid black;border-style:groove;border-width:8px;padding:15px;font-size:150%;background-color: red;\">5</td><td style=\"border:2px solid black;border-style:groove;border-width:8px;padding:15px;font-size:150%;background-color: salmon;\">8</td></tr>\n",
       "<tr><td style=\"border:2px solid black;border-style:groove;border-width:8px;padding:15px;font-size:150%;background-color: lightblue;\">1</td><td style=\"border:2px solid black;border-style:groove;border-width:8px;padding:15px;font-size:150%;background-color: white;\"></td><td style=\"border:2px solid black;border-style:groove;border-width:8px;padding:15px;font-size:150%;background-color: yellow;\">6</td></tr>\n",
       "<tr><td style=\"border:2px solid black;border-style:groove;border-width:8px;padding:15px;font-size:150%;background-color: orange;\">4</td><td style=\"border:2px solid black;border-style:groove;border-width:8px;padding:15px;font-size:150%;background-color: magenta;\">3</td><td style=\"border:2px solid black;border-style:groove;border-width:8px;padding:15px;font-size:150%;background-color: lightgreen;\">7</td></tr>\n",
       "</table>"
      ],
      "text/plain": [
       "<IPython.core.display.HTML object>"
      ]
     },
     "metadata": {},
     "output_type": "display_data"
    },
    {
     "data": {
      "text/html": [
       "<table style=\"border:2px solid darkblue;border-style:double;border-width:4px;\">\n",
       "<tr><td style=\"border:2px solid black;border-style:groove;border-width:8px;padding:15px;font-size:150%;background-color: pink;\">2</td><td style=\"border:2px solid black;border-style:groove;border-width:8px;padding:15px;font-size:150%;background-color: red;\">5</td><td style=\"border:2px solid black;border-style:groove;border-width:8px;padding:15px;font-size:150%;background-color: salmon;\">8</td></tr>\n",
       "<tr><td style=\"border:2px solid black;border-style:groove;border-width:8px;padding:15px;font-size:150%;background-color: lightblue;\">1</td><td style=\"border:2px solid black;border-style:groove;border-width:8px;padding:15px;font-size:150%;background-color: yellow;\">6</td><td style=\"border:2px solid black;border-style:groove;border-width:8px;padding:15px;font-size:150%;background-color: white;\"></td></tr>\n",
       "<tr><td style=\"border:2px solid black;border-style:groove;border-width:8px;padding:15px;font-size:150%;background-color: orange;\">4</td><td style=\"border:2px solid black;border-style:groove;border-width:8px;padding:15px;font-size:150%;background-color: magenta;\">3</td><td style=\"border:2px solid black;border-style:groove;border-width:8px;padding:15px;font-size:150%;background-color: lightgreen;\">7</td></tr>\n",
       "</table>"
      ],
      "text/plain": [
       "<IPython.core.display.HTML object>"
      ]
     },
     "metadata": {},
     "output_type": "display_data"
    },
    {
     "data": {
      "text/html": [
       "<table style=\"border:2px solid darkblue;border-style:double;border-width:4px;\">\n",
       "<tr><td style=\"border:2px solid black;border-style:groove;border-width:8px;padding:15px;font-size:150%;background-color: pink;\">2</td><td style=\"border:2px solid black;border-style:groove;border-width:8px;padding:15px;font-size:150%;background-color: red;\">5</td><td style=\"border:2px solid black;border-style:groove;border-width:8px;padding:15px;font-size:150%;background-color: white;\"></td></tr>\n",
       "<tr><td style=\"border:2px solid black;border-style:groove;border-width:8px;padding:15px;font-size:150%;background-color: lightblue;\">1</td><td style=\"border:2px solid black;border-style:groove;border-width:8px;padding:15px;font-size:150%;background-color: yellow;\">6</td><td style=\"border:2px solid black;border-style:groove;border-width:8px;padding:15px;font-size:150%;background-color: salmon;\">8</td></tr>\n",
       "<tr><td style=\"border:2px solid black;border-style:groove;border-width:8px;padding:15px;font-size:150%;background-color: orange;\">4</td><td style=\"border:2px solid black;border-style:groove;border-width:8px;padding:15px;font-size:150%;background-color: magenta;\">3</td><td style=\"border:2px solid black;border-style:groove;border-width:8px;padding:15px;font-size:150%;background-color: lightgreen;\">7</td></tr>\n",
       "</table>"
      ],
      "text/plain": [
       "<IPython.core.display.HTML object>"
      ]
     },
     "metadata": {},
     "output_type": "display_data"
    },
    {
     "data": {
      "text/html": [
       "<table style=\"border:2px solid darkblue;border-style:double;border-width:4px;\">\n",
       "<tr><td style=\"border:2px solid black;border-style:groove;border-width:8px;padding:15px;font-size:150%;background-color: pink;\">2</td><td style=\"border:2px solid black;border-style:groove;border-width:8px;padding:15px;font-size:150%;background-color: white;\"></td><td style=\"border:2px solid black;border-style:groove;border-width:8px;padding:15px;font-size:150%;background-color: red;\">5</td></tr>\n",
       "<tr><td style=\"border:2px solid black;border-style:groove;border-width:8px;padding:15px;font-size:150%;background-color: lightblue;\">1</td><td style=\"border:2px solid black;border-style:groove;border-width:8px;padding:15px;font-size:150%;background-color: yellow;\">6</td><td style=\"border:2px solid black;border-style:groove;border-width:8px;padding:15px;font-size:150%;background-color: salmon;\">8</td></tr>\n",
       "<tr><td style=\"border:2px solid black;border-style:groove;border-width:8px;padding:15px;font-size:150%;background-color: orange;\">4</td><td style=\"border:2px solid black;border-style:groove;border-width:8px;padding:15px;font-size:150%;background-color: magenta;\">3</td><td style=\"border:2px solid black;border-style:groove;border-width:8px;padding:15px;font-size:150%;background-color: lightgreen;\">7</td></tr>\n",
       "</table>"
      ],
      "text/plain": [
       "<IPython.core.display.HTML object>"
      ]
     },
     "metadata": {},
     "output_type": "display_data"
    },
    {
     "data": {
      "text/html": [
       "<table style=\"border:2px solid darkblue;border-style:double;border-width:4px;\">\n",
       "<tr><td style=\"border:2px solid black;border-style:groove;border-width:8px;padding:15px;font-size:150%;background-color: white;\"></td><td style=\"border:2px solid black;border-style:groove;border-width:8px;padding:15px;font-size:150%;background-color: pink;\">2</td><td style=\"border:2px solid black;border-style:groove;border-width:8px;padding:15px;font-size:150%;background-color: red;\">5</td></tr>\n",
       "<tr><td style=\"border:2px solid black;border-style:groove;border-width:8px;padding:15px;font-size:150%;background-color: lightblue;\">1</td><td style=\"border:2px solid black;border-style:groove;border-width:8px;padding:15px;font-size:150%;background-color: yellow;\">6</td><td style=\"border:2px solid black;border-style:groove;border-width:8px;padding:15px;font-size:150%;background-color: salmon;\">8</td></tr>\n",
       "<tr><td style=\"border:2px solid black;border-style:groove;border-width:8px;padding:15px;font-size:150%;background-color: orange;\">4</td><td style=\"border:2px solid black;border-style:groove;border-width:8px;padding:15px;font-size:150%;background-color: magenta;\">3</td><td style=\"border:2px solid black;border-style:groove;border-width:8px;padding:15px;font-size:150%;background-color: lightgreen;\">7</td></tr>\n",
       "</table>"
      ],
      "text/plain": [
       "<IPython.core.display.HTML object>"
      ]
     },
     "metadata": {},
     "output_type": "display_data"
    },
    {
     "data": {
      "text/html": [
       "<table style=\"border:2px solid darkblue;border-style:double;border-width:4px;\">\n",
       "<tr><td style=\"border:2px solid black;border-style:groove;border-width:8px;padding:15px;font-size:150%;background-color: lightblue;\">1</td><td style=\"border:2px solid black;border-style:groove;border-width:8px;padding:15px;font-size:150%;background-color: pink;\">2</td><td style=\"border:2px solid black;border-style:groove;border-width:8px;padding:15px;font-size:150%;background-color: red;\">5</td></tr>\n",
       "<tr><td style=\"border:2px solid black;border-style:groove;border-width:8px;padding:15px;font-size:150%;background-color: white;\"></td><td style=\"border:2px solid black;border-style:groove;border-width:8px;padding:15px;font-size:150%;background-color: yellow;\">6</td><td style=\"border:2px solid black;border-style:groove;border-width:8px;padding:15px;font-size:150%;background-color: salmon;\">8</td></tr>\n",
       "<tr><td style=\"border:2px solid black;border-style:groove;border-width:8px;padding:15px;font-size:150%;background-color: orange;\">4</td><td style=\"border:2px solid black;border-style:groove;border-width:8px;padding:15px;font-size:150%;background-color: magenta;\">3</td><td style=\"border:2px solid black;border-style:groove;border-width:8px;padding:15px;font-size:150%;background-color: lightgreen;\">7</td></tr>\n",
       "</table>"
      ],
      "text/plain": [
       "<IPython.core.display.HTML object>"
      ]
     },
     "metadata": {},
     "output_type": "display_data"
    },
    {
     "data": {
      "text/html": [
       "<table style=\"border:2px solid darkblue;border-style:double;border-width:4px;\">\n",
       "<tr><td style=\"border:2px solid black;border-style:groove;border-width:8px;padding:15px;font-size:150%;background-color: lightblue;\">1</td><td style=\"border:2px solid black;border-style:groove;border-width:8px;padding:15px;font-size:150%;background-color: pink;\">2</td><td style=\"border:2px solid black;border-style:groove;border-width:8px;padding:15px;font-size:150%;background-color: red;\">5</td></tr>\n",
       "<tr><td style=\"border:2px solid black;border-style:groove;border-width:8px;padding:15px;font-size:150%;background-color: yellow;\">6</td><td style=\"border:2px solid black;border-style:groove;border-width:8px;padding:15px;font-size:150%;background-color: white;\"></td><td style=\"border:2px solid black;border-style:groove;border-width:8px;padding:15px;font-size:150%;background-color: salmon;\">8</td></tr>\n",
       "<tr><td style=\"border:2px solid black;border-style:groove;border-width:8px;padding:15px;font-size:150%;background-color: orange;\">4</td><td style=\"border:2px solid black;border-style:groove;border-width:8px;padding:15px;font-size:150%;background-color: magenta;\">3</td><td style=\"border:2px solid black;border-style:groove;border-width:8px;padding:15px;font-size:150%;background-color: lightgreen;\">7</td></tr>\n",
       "</table>"
      ],
      "text/plain": [
       "<IPython.core.display.HTML object>"
      ]
     },
     "metadata": {},
     "output_type": "display_data"
    },
    {
     "data": {
      "text/html": [
       "<table style=\"border:2px solid darkblue;border-style:double;border-width:4px;\">\n",
       "<tr><td style=\"border:2px solid black;border-style:groove;border-width:8px;padding:15px;font-size:150%;background-color: lightblue;\">1</td><td style=\"border:2px solid black;border-style:groove;border-width:8px;padding:15px;font-size:150%;background-color: pink;\">2</td><td style=\"border:2px solid black;border-style:groove;border-width:8px;padding:15px;font-size:150%;background-color: red;\">5</td></tr>\n",
       "<tr><td style=\"border:2px solid black;border-style:groove;border-width:8px;padding:15px;font-size:150%;background-color: yellow;\">6</td><td style=\"border:2px solid black;border-style:groove;border-width:8px;padding:15px;font-size:150%;background-color: magenta;\">3</td><td style=\"border:2px solid black;border-style:groove;border-width:8px;padding:15px;font-size:150%;background-color: salmon;\">8</td></tr>\n",
       "<tr><td style=\"border:2px solid black;border-style:groove;border-width:8px;padding:15px;font-size:150%;background-color: orange;\">4</td><td style=\"border:2px solid black;border-style:groove;border-width:8px;padding:15px;font-size:150%;background-color: white;\"></td><td style=\"border:2px solid black;border-style:groove;border-width:8px;padding:15px;font-size:150%;background-color: lightgreen;\">7</td></tr>\n",
       "</table>"
      ],
      "text/plain": [
       "<IPython.core.display.HTML object>"
      ]
     },
     "metadata": {},
     "output_type": "display_data"
    },
    {
     "data": {
      "text/html": [
       "<table style=\"border:2px solid darkblue;border-style:double;border-width:4px;\">\n",
       "<tr><td style=\"border:2px solid black;border-style:groove;border-width:8px;padding:15px;font-size:150%;background-color: lightblue;\">1</td><td style=\"border:2px solid black;border-style:groove;border-width:8px;padding:15px;font-size:150%;background-color: pink;\">2</td><td style=\"border:2px solid black;border-style:groove;border-width:8px;padding:15px;font-size:150%;background-color: red;\">5</td></tr>\n",
       "<tr><td style=\"border:2px solid black;border-style:groove;border-width:8px;padding:15px;font-size:150%;background-color: yellow;\">6</td><td style=\"border:2px solid black;border-style:groove;border-width:8px;padding:15px;font-size:150%;background-color: magenta;\">3</td><td style=\"border:2px solid black;border-style:groove;border-width:8px;padding:15px;font-size:150%;background-color: salmon;\">8</td></tr>\n",
       "<tr><td style=\"border:2px solid black;border-style:groove;border-width:8px;padding:15px;font-size:150%;background-color: white;\"></td><td style=\"border:2px solid black;border-style:groove;border-width:8px;padding:15px;font-size:150%;background-color: orange;\">4</td><td style=\"border:2px solid black;border-style:groove;border-width:8px;padding:15px;font-size:150%;background-color: lightgreen;\">7</td></tr>\n",
       "</table>"
      ],
      "text/plain": [
       "<IPython.core.display.HTML object>"
      ]
     },
     "metadata": {},
     "output_type": "display_data"
    },
    {
     "data": {
      "text/html": [
       "<table style=\"border:2px solid darkblue;border-style:double;border-width:4px;\">\n",
       "<tr><td style=\"border:2px solid black;border-style:groove;border-width:8px;padding:15px;font-size:150%;background-color: lightblue;\">1</td><td style=\"border:2px solid black;border-style:groove;border-width:8px;padding:15px;font-size:150%;background-color: pink;\">2</td><td style=\"border:2px solid black;border-style:groove;border-width:8px;padding:15px;font-size:150%;background-color: red;\">5</td></tr>\n",
       "<tr><td style=\"border:2px solid black;border-style:groove;border-width:8px;padding:15px;font-size:150%;background-color: white;\"></td><td style=\"border:2px solid black;border-style:groove;border-width:8px;padding:15px;font-size:150%;background-color: magenta;\">3</td><td style=\"border:2px solid black;border-style:groove;border-width:8px;padding:15px;font-size:150%;background-color: salmon;\">8</td></tr>\n",
       "<tr><td style=\"border:2px solid black;border-style:groove;border-width:8px;padding:15px;font-size:150%;background-color: yellow;\">6</td><td style=\"border:2px solid black;border-style:groove;border-width:8px;padding:15px;font-size:150%;background-color: orange;\">4</td><td style=\"border:2px solid black;border-style:groove;border-width:8px;padding:15px;font-size:150%;background-color: lightgreen;\">7</td></tr>\n",
       "</table>"
      ],
      "text/plain": [
       "<IPython.core.display.HTML object>"
      ]
     },
     "metadata": {},
     "output_type": "display_data"
    },
    {
     "data": {
      "text/html": [
       "<table style=\"border:2px solid darkblue;border-style:double;border-width:4px;\">\n",
       "<tr><td style=\"border:2px solid black;border-style:groove;border-width:8px;padding:15px;font-size:150%;background-color: lightblue;\">1</td><td style=\"border:2px solid black;border-style:groove;border-width:8px;padding:15px;font-size:150%;background-color: pink;\">2</td><td style=\"border:2px solid black;border-style:groove;border-width:8px;padding:15px;font-size:150%;background-color: red;\">5</td></tr>\n",
       "<tr><td style=\"border:2px solid black;border-style:groove;border-width:8px;padding:15px;font-size:150%;background-color: magenta;\">3</td><td style=\"border:2px solid black;border-style:groove;border-width:8px;padding:15px;font-size:150%;background-color: white;\"></td><td style=\"border:2px solid black;border-style:groove;border-width:8px;padding:15px;font-size:150%;background-color: salmon;\">8</td></tr>\n",
       "<tr><td style=\"border:2px solid black;border-style:groove;border-width:8px;padding:15px;font-size:150%;background-color: yellow;\">6</td><td style=\"border:2px solid black;border-style:groove;border-width:8px;padding:15px;font-size:150%;background-color: orange;\">4</td><td style=\"border:2px solid black;border-style:groove;border-width:8px;padding:15px;font-size:150%;background-color: lightgreen;\">7</td></tr>\n",
       "</table>"
      ],
      "text/plain": [
       "<IPython.core.display.HTML object>"
      ]
     },
     "metadata": {},
     "output_type": "display_data"
    },
    {
     "data": {
      "text/html": [
       "<table style=\"border:2px solid darkblue;border-style:double;border-width:4px;\">\n",
       "<tr><td style=\"border:2px solid black;border-style:groove;border-width:8px;padding:15px;font-size:150%;background-color: lightblue;\">1</td><td style=\"border:2px solid black;border-style:groove;border-width:8px;padding:15px;font-size:150%;background-color: pink;\">2</td><td style=\"border:2px solid black;border-style:groove;border-width:8px;padding:15px;font-size:150%;background-color: red;\">5</td></tr>\n",
       "<tr><td style=\"border:2px solid black;border-style:groove;border-width:8px;padding:15px;font-size:150%;background-color: magenta;\">3</td><td style=\"border:2px solid black;border-style:groove;border-width:8px;padding:15px;font-size:150%;background-color: orange;\">4</td><td style=\"border:2px solid black;border-style:groove;border-width:8px;padding:15px;font-size:150%;background-color: salmon;\">8</td></tr>\n",
       "<tr><td style=\"border:2px solid black;border-style:groove;border-width:8px;padding:15px;font-size:150%;background-color: yellow;\">6</td><td style=\"border:2px solid black;border-style:groove;border-width:8px;padding:15px;font-size:150%;background-color: white;\"></td><td style=\"border:2px solid black;border-style:groove;border-width:8px;padding:15px;font-size:150%;background-color: lightgreen;\">7</td></tr>\n",
       "</table>"
      ],
      "text/plain": [
       "<IPython.core.display.HTML object>"
      ]
     },
     "metadata": {},
     "output_type": "display_data"
    },
    {
     "data": {
      "text/html": [
       "<table style=\"border:2px solid darkblue;border-style:double;border-width:4px;\">\n",
       "<tr><td style=\"border:2px solid black;border-style:groove;border-width:8px;padding:15px;font-size:150%;background-color: lightblue;\">1</td><td style=\"border:2px solid black;border-style:groove;border-width:8px;padding:15px;font-size:150%;background-color: pink;\">2</td><td style=\"border:2px solid black;border-style:groove;border-width:8px;padding:15px;font-size:150%;background-color: red;\">5</td></tr>\n",
       "<tr><td style=\"border:2px solid black;border-style:groove;border-width:8px;padding:15px;font-size:150%;background-color: magenta;\">3</td><td style=\"border:2px solid black;border-style:groove;border-width:8px;padding:15px;font-size:150%;background-color: orange;\">4</td><td style=\"border:2px solid black;border-style:groove;border-width:8px;padding:15px;font-size:150%;background-color: salmon;\">8</td></tr>\n",
       "<tr><td style=\"border:2px solid black;border-style:groove;border-width:8px;padding:15px;font-size:150%;background-color: yellow;\">6</td><td style=\"border:2px solid black;border-style:groove;border-width:8px;padding:15px;font-size:150%;background-color: lightgreen;\">7</td><td style=\"border:2px solid black;border-style:groove;border-width:8px;padding:15px;font-size:150%;background-color: white;\"></td></tr>\n",
       "</table>"
      ],
      "text/plain": [
       "<IPython.core.display.HTML object>"
      ]
     },
     "metadata": {},
     "output_type": "display_data"
    },
    {
     "data": {
      "text/html": [
       "<table style=\"border:2px solid darkblue;border-style:double;border-width:4px;\">\n",
       "<tr><td style=\"border:2px solid black;border-style:groove;border-width:8px;padding:15px;font-size:150%;background-color: lightblue;\">1</td><td style=\"border:2px solid black;border-style:groove;border-width:8px;padding:15px;font-size:150%;background-color: pink;\">2</td><td style=\"border:2px solid black;border-style:groove;border-width:8px;padding:15px;font-size:150%;background-color: red;\">5</td></tr>\n",
       "<tr><td style=\"border:2px solid black;border-style:groove;border-width:8px;padding:15px;font-size:150%;background-color: magenta;\">3</td><td style=\"border:2px solid black;border-style:groove;border-width:8px;padding:15px;font-size:150%;background-color: orange;\">4</td><td style=\"border:2px solid black;border-style:groove;border-width:8px;padding:15px;font-size:150%;background-color: white;\"></td></tr>\n",
       "<tr><td style=\"border:2px solid black;border-style:groove;border-width:8px;padding:15px;font-size:150%;background-color: yellow;\">6</td><td style=\"border:2px solid black;border-style:groove;border-width:8px;padding:15px;font-size:150%;background-color: lightgreen;\">7</td><td style=\"border:2px solid black;border-style:groove;border-width:8px;padding:15px;font-size:150%;background-color: salmon;\">8</td></tr>\n",
       "</table>"
      ],
      "text/plain": [
       "<IPython.core.display.HTML object>"
      ]
     },
     "metadata": {},
     "output_type": "display_data"
    },
    {
     "data": {
      "text/html": [
       "<table style=\"border:2px solid darkblue;border-style:double;border-width:4px;\">\n",
       "<tr><td style=\"border:2px solid black;border-style:groove;border-width:8px;padding:15px;font-size:150%;background-color: lightblue;\">1</td><td style=\"border:2px solid black;border-style:groove;border-width:8px;padding:15px;font-size:150%;background-color: pink;\">2</td><td style=\"border:2px solid black;border-style:groove;border-width:8px;padding:15px;font-size:150%;background-color: white;\"></td></tr>\n",
       "<tr><td style=\"border:2px solid black;border-style:groove;border-width:8px;padding:15px;font-size:150%;background-color: magenta;\">3</td><td style=\"border:2px solid black;border-style:groove;border-width:8px;padding:15px;font-size:150%;background-color: orange;\">4</td><td style=\"border:2px solid black;border-style:groove;border-width:8px;padding:15px;font-size:150%;background-color: red;\">5</td></tr>\n",
       "<tr><td style=\"border:2px solid black;border-style:groove;border-width:8px;padding:15px;font-size:150%;background-color: yellow;\">6</td><td style=\"border:2px solid black;border-style:groove;border-width:8px;padding:15px;font-size:150%;background-color: lightgreen;\">7</td><td style=\"border:2px solid black;border-style:groove;border-width:8px;padding:15px;font-size:150%;background-color: salmon;\">8</td></tr>\n",
       "</table>"
      ],
      "text/plain": [
       "<IPython.core.display.HTML object>"
      ]
     },
     "metadata": {},
     "output_type": "display_data"
    },
    {
     "data": {
      "text/html": [
       "<table style=\"border:2px solid darkblue;border-style:double;border-width:4px;\">\n",
       "<tr><td style=\"border:2px solid black;border-style:groove;border-width:8px;padding:15px;font-size:150%;background-color: lightblue;\">1</td><td style=\"border:2px solid black;border-style:groove;border-width:8px;padding:15px;font-size:150%;background-color: white;\"></td><td style=\"border:2px solid black;border-style:groove;border-width:8px;padding:15px;font-size:150%;background-color: pink;\">2</td></tr>\n",
       "<tr><td style=\"border:2px solid black;border-style:groove;border-width:8px;padding:15px;font-size:150%;background-color: magenta;\">3</td><td style=\"border:2px solid black;border-style:groove;border-width:8px;padding:15px;font-size:150%;background-color: orange;\">4</td><td style=\"border:2px solid black;border-style:groove;border-width:8px;padding:15px;font-size:150%;background-color: red;\">5</td></tr>\n",
       "<tr><td style=\"border:2px solid black;border-style:groove;border-width:8px;padding:15px;font-size:150%;background-color: yellow;\">6</td><td style=\"border:2px solid black;border-style:groove;border-width:8px;padding:15px;font-size:150%;background-color: lightgreen;\">7</td><td style=\"border:2px solid black;border-style:groove;border-width:8px;padding:15px;font-size:150%;background-color: salmon;\">8</td></tr>\n",
       "</table>"
      ],
      "text/plain": [
       "<IPython.core.display.HTML object>"
      ]
     },
     "metadata": {},
     "output_type": "display_data"
    },
    {
     "data": {
      "text/html": [
       "<table style=\"border:2px solid darkblue;border-style:double;border-width:4px;\">\n",
       "<tr><td style=\"border:2px solid black;border-style:groove;border-width:8px;padding:15px;font-size:150%;background-color: white;\"></td><td style=\"border:2px solid black;border-style:groove;border-width:8px;padding:15px;font-size:150%;background-color: lightblue;\">1</td><td style=\"border:2px solid black;border-style:groove;border-width:8px;padding:15px;font-size:150%;background-color: pink;\">2</td></tr>\n",
       "<tr><td style=\"border:2px solid black;border-style:groove;border-width:8px;padding:15px;font-size:150%;background-color: magenta;\">3</td><td style=\"border:2px solid black;border-style:groove;border-width:8px;padding:15px;font-size:150%;background-color: orange;\">4</td><td style=\"border:2px solid black;border-style:groove;border-width:8px;padding:15px;font-size:150%;background-color: red;\">5</td></tr>\n",
       "<tr><td style=\"border:2px solid black;border-style:groove;border-width:8px;padding:15px;font-size:150%;background-color: yellow;\">6</td><td style=\"border:2px solid black;border-style:groove;border-width:8px;padding:15px;font-size:150%;background-color: lightgreen;\">7</td><td style=\"border:2px solid black;border-style:groove;border-width:8px;padding:15px;font-size:150%;background-color: salmon;\">8</td></tr>\n",
       "</table>"
      ],
      "text/plain": [
       "<IPython.core.display.HTML object>"
      ]
     },
     "metadata": {},
     "output_type": "display_data"
    }
   ],
   "source": [
    "for State in Path:\n",
    "    display(HTML(state_to_html(State)))"
   ]
  },
  {
   "cell_type": "code",
   "execution_count": null,
   "metadata": {},
   "outputs": [],
   "source": []
  }
 ],
 "metadata": {
  "kernelspec": {
   "display_name": "Python 3",
   "language": "python",
   "name": "python3"
  },
  "language_info": {
   "codemirror_mode": {
    "name": "ipython",
    "version": 3
   },
   "file_extension": ".py",
   "mimetype": "text/x-python",
   "name": "python",
   "nbconvert_exporter": "python",
   "pygments_lexer": "ipython3",
   "version": "3.7.3"
  },
  "toc": {
   "base_numbering": 1,
   "nav_menu": {},
   "number_sections": true,
   "sideBar": true,
   "skip_h1_title": false,
   "title_cell": "Table of Contents",
   "title_sidebar": "Contents",
   "toc_cell": false,
   "toc_position": {
    "height": "calc(100% - 180px)",
    "left": "10px",
    "top": "150px",
    "width": "165px"
   },
   "toc_section_display": true,
   "toc_window_display": true
  },
  "varInspector": {
   "cols": {
    "lenName": 16,
    "lenType": 16,
    "lenVar": 40
   },
   "kernels_config": {
    "python": {
     "delete_cmd_postfix": "",
     "delete_cmd_prefix": "del ",
     "library": "var_list.py",
     "varRefreshCmd": "print(var_dic_list())"
    },
    "r": {
     "delete_cmd_postfix": ") ",
     "delete_cmd_prefix": "rm(",
     "library": "var_list.r",
     "varRefreshCmd": "cat(var_dic_list()) "
    }
   },
   "types_to_exclude": [
    "module",
    "function",
    "builtin_function_or_method",
    "instance",
    "_Feature"
   ],
   "window_display": false
  }
 },
 "nbformat": 4,
 "nbformat_minor": 2
}
