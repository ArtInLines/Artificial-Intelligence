{
 "cells": [
  {
   "cell_type": "code",
   "execution_count": 1,
   "metadata": {},
   "outputs": [
    {
     "data": {
      "text/html": [
       "<style>.container { width:100%; } </style>"
      ],
      "text/plain": [
       "<IPython.core.display.HTML object>"
      ]
     },
     "metadata": {},
     "output_type": "display_data"
    }
   ],
   "source": [
    "from IPython.core.display import HTML, display\n",
    "display(HTML('<style>.container { width:100%; } </style>'))"
   ]
  },
  {
   "cell_type": "markdown",
   "metadata": {},
   "source": [
    "# Spam Detection  Using the Naive Bayes Algorithm"
   ]
  },
  {
   "cell_type": "markdown",
   "metadata": {},
   "source": [
    "## Step 1: Create Word Dictionary"
   ]
  },
  {
   "cell_type": "markdown",
   "metadata": {},
   "source": [
    "We need the module `os` for reading directories and the module `re` for \n",
    "<em style='color:blue;'>regular expressions</em>."
   ]
  },
  {
   "cell_type": "code",
   "execution_count": 2,
   "metadata": {},
   "outputs": [],
   "source": [
    "import os\n",
    "import re\n",
    "import numpy as np\n",
    "import math"
   ]
  },
  {
   "cell_type": "markdown",
   "metadata": {},
   "source": [
    "An object of class <a href='https://docs.python.org/2/library/collections.html#counter-objects'>`Counter`</a> is a special form of a `dictionary` that is used for counting."
   ]
  },
  {
   "cell_type": "code",
   "execution_count": 3,
   "metadata": {},
   "outputs": [],
   "source": [
    "from collections import Counter"
   ]
  },
  {
   "cell_type": "code",
   "execution_count": 4,
   "metadata": {},
   "outputs": [],
   "source": [
    "spam_dir_train = 'EmailData/spam-train/'\n",
    "ham__dir_train = 'EmailData/ham-train/'\n",
    "spam_dir_test  = 'EmailData/spam-test/'\n",
    "ham__dir_test  = 'EmailData/ham-test/'\n",
    "Directories    = [spam_dir_train, ham__dir_train, spam_dir_test, ham__dir_test]"
   ]
  },
  {
   "cell_type": "code",
   "execution_count": 5,
   "metadata": {},
   "outputs": [
    {
     "data": {
      "text/plain": [
       "(0.5, 0.5)"
      ]
     },
     "execution_count": 5,
     "metadata": {},
     "output_type": "execute_result"
    }
   ],
   "source": [
    "no_spam    = len(os.listdir(spam_dir_train))\n",
    "no_ham     = len(os.listdir(ham__dir_train))\n",
    "spam_prior = no_spam / (no_spam + no_ham)\n",
    "ham__prior = no_ham  / (no_spam + no_ham)\n",
    "spam_prior, ham__prior"
   ]
  },
  {
   "cell_type": "markdown",
   "metadata": {},
   "source": [
    "The function $\\texttt{get_words}(\\texttt{fn})$ takes a filename $\\texttt{fn}$ as its argument.  It reads the file and returns a set of all words that are found in the file.  The words are transformed to lower case."
   ]
  },
  {
   "cell_type": "code",
   "execution_count": 6,
   "metadata": {},
   "outputs": [],
   "source": [
    "def get_words(fn):\n",
    "    file = open(fn)\n",
    "    text = file.read()\n",
    "    text = text.lower()\n",
    "    return set(re.findall(r\"[\\w']+\", text))"
   ]
  },
  {
   "cell_type": "code",
   "execution_count": 7,
   "metadata": {},
   "outputs": [
    {
     "data": {
      "text/plain": [
       "{'anyone',\n",
       " 'article',\n",
       " 'berkeley',\n",
       " 'book',\n",
       " 'consonant',\n",
       " 'edu',\n",
       " 'english',\n",
       " 'garnet',\n",
       " 'hard',\n",
       " 'helpful',\n",
       " 'hi',\n",
       " 'interest',\n",
       " 'irish',\n",
       " 'laurel',\n",
       " 'm',\n",
       " 'modern',\n",
       " 'palatal',\n",
       " 'phonetics',\n",
       " 'posting',\n",
       " 'project',\n",
       " 'recommend',\n",
       " 'slender',\n",
       " 'source',\n",
       " 'specifically',\n",
       " 'sutton',\n",
       " 'thank',\n",
       " 'too',\n",
       " 'work'}"
      ]
     },
     "execution_count": 7,
     "metadata": {},
     "output_type": "execute_result"
    }
   ],
   "source": [
    "get_words('EmailData/ham-train/3-380msg4.txt')"
   ]
  },
  {
   "cell_type": "markdown",
   "metadata": {},
   "source": [
    "Given a list of `Directories`, the function `read_all_files` reads all files contained in these directories.  It returns a `Counter` that for every word $w$ contains the number of those files that contain $w$. "
   ]
  },
  {
   "cell_type": "code",
   "execution_count": 8,
   "metadata": {},
   "outputs": [],
   "source": [
    "def read_all_files(Directories):\n",
    "    Words = Counter()\n",
    "    for directory in Directories:\n",
    "        for file_name in os.listdir(directory):\n",
    "            Words.update(get_words(directory + file_name))\n",
    "    return Words"
   ]
  },
  {
   "cell_type": "code",
   "execution_count": 9,
   "metadata": {},
   "outputs": [],
   "source": [
    "Word_Counter = read_all_files(Directories)\n",
    "Common_Words = { w for w, _ in Word_Counter.most_common(2500) }"
   ]
  },
  {
   "cell_type": "markdown",
   "metadata": {},
   "source": [
    "The function $\\texttt{get_common_words}(\\texttt{fn}, \\texttt{Common_Words})$ takes a filename $\\texttt{fn}$ and a set of\n",
    "$\\texttt{Common_Words}$ as its argument.  It reads the file and returns set of all words in `Common_Words` that are found in the file.  The words are transformed to lower case."
   ]
  },
  {
   "cell_type": "code",
   "execution_count": 10,
   "metadata": {},
   "outputs": [],
   "source": [
    "def get_common_words(fn):\n",
    "    return get_words(fn) & Common_Words"
   ]
  },
  {
   "cell_type": "code",
   "execution_count": 11,
   "metadata": {},
   "outputs": [
    {
     "data": {
      "text/plain": [
       "{'anyone',\n",
       " 'article',\n",
       " 'berkeley',\n",
       " 'book',\n",
       " 'consonant',\n",
       " 'edu',\n",
       " 'english',\n",
       " 'hard',\n",
       " 'helpful',\n",
       " 'hi',\n",
       " 'interest',\n",
       " 'm',\n",
       " 'modern',\n",
       " 'phonetics',\n",
       " 'project',\n",
       " 'recommend',\n",
       " 'source',\n",
       " 'specifically',\n",
       " 'thank',\n",
       " 'too',\n",
       " 'work'}"
      ]
     },
     "execution_count": 11,
     "metadata": {},
     "output_type": "execute_result"
    }
   ],
   "source": [
    "get_common_words('EmailData/ham-train/3-380msg4.txt')"
   ]
  },
  {
   "cell_type": "markdown",
   "metadata": {},
   "source": [
    "The function `count_words` takes a string specifying a `directory`.  It returns a \n",
    "`Counter` that counts how often the words in `Common_Words` occur in any of the files in `directory`."
   ]
  },
  {
   "cell_type": "code",
   "execution_count": 12,
   "metadata": {},
   "outputs": [],
   "source": [
    "def count_commmon_words(directory):\n",
    "    Words = Counter()\n",
    "    for file_name in os.listdir(directory):\n",
    "        Words.update(get_common_words(directory + file_name))\n",
    "    return Words"
   ]
  },
  {
   "cell_type": "code",
   "execution_count": 13,
   "metadata": {},
   "outputs": [],
   "source": [
    "spam_counter = count_commmon_words(spam_dir_train)\n",
    "ham__counter = count_commmon_words(ham__dir_train)"
   ]
  },
  {
   "cell_type": "code",
   "execution_count": 14,
   "metadata": {},
   "outputs": [],
   "source": [
    "Ham__Probability = {}\n",
    "Spam_Probability = {}\n",
    "for w in Common_Words:\n",
    "    hc = min(ham__counter[w], 1)\n",
    "    sc = min(spam_counter[w], 1)\n",
    "    Ham__Probability[w] = (hc + 1) / (no_spam + no_ham + 2)\n",
    "    Spam_Probability[w] = (sc + 1) / (no_spam + no_ham + 2)"
   ]
  },
  {
   "cell_type": "markdown",
   "metadata": {},
   "source": [
    "Given a file name `fn`, this function returns the probability the message contained in the file is spam."
   ]
  },
  {
   "cell_type": "code",
   "execution_count": 15,
   "metadata": {},
   "outputs": [],
   "source": [
    "def spam_probability(fn):\n",
    "    log_p_spam  = 0.0\n",
    "    log_p_ham   = 0.0\n",
    "    words = get_common_words(fn)\n",
    "    for w in Common_Words:\n",
    "        if w in words:\n",
    "            log_p_spam += math.log(Spam_Probability[w])\n",
    "            log_p_ham  += math.log(Ham__Probability[w])\n",
    "        else:\n",
    "            log_p_spam += math.log(1.0 - Spam_Probability[w])\n",
    "            log_p_ham  += math.log(1.0 - Ham__Probability[w])\n",
    "    alpha = abs(min(log_p_spam, log_p_ham))\n",
    "    p_spam = math.exp(log_p_spam + alpha) * spam_prior\n",
    "    p_ham  = math.exp(log_p_ham  + alpha)  * ham__prior\n",
    "    return p_spam / (p_spam + p_ham)"
   ]
  },
  {
   "cell_type": "code",
   "execution_count": 16,
   "metadata": {},
   "outputs": [
    {
     "data": {
      "text/plain": [
       "0.003830658606113412"
      ]
     },
     "execution_count": 16,
     "metadata": {},
     "output_type": "execute_result"
    }
   ],
   "source": [
    "spam_probability('EmailData/ham-train/3-430msg1.txt')"
   ]
  },
  {
   "cell_type": "code",
   "execution_count": 17,
   "metadata": {},
   "outputs": [],
   "source": [
    "def precission_recall(spam_dir, ham_dir):\n",
    "    TN = 0 # true negatives\n",
    "    FP = 0 # false positives\n",
    "    for email in os.listdir(spam_dir):\n",
    "        if spam_probability(spam_dir + email) > 0.5:\n",
    "            TN += 1\n",
    "        else:\n",
    "            FP += 1\n",
    "    FN = 0 # false negatives\n",
    "    TP = 0 # true positives\n",
    "    for email in os.listdir(ham_dir):\n",
    "        if spam_probability(ham_dir + email) > 0.5:\n",
    "            FN += 1\n",
    "        else:\n",
    "            TP += 1\n",
    "    precision = TP / (TP + FP)\n",
    "    recall    = TP / (TP + FN)\n",
    "    accuracy  = (TN + TP) / (TN + TP + FN + FP)\n",
    "    return precision, recall, accuracy"
   ]
  },
  {
   "cell_type": "code",
   "execution_count": 18,
   "metadata": {},
   "outputs": [
    {
     "data": {
      "text/plain": [
       "(0.938337801608579, 1.0, 0.9671428571428572)"
      ]
     },
     "execution_count": 18,
     "metadata": {},
     "output_type": "execute_result"
    }
   ],
   "source": [
    "precission_recall(spam_dir_train, ham__dir_train)"
   ]
  },
  {
   "cell_type": "code",
   "execution_count": 19,
   "metadata": {},
   "outputs": [
    {
     "data": {
      "text/plain": [
       "(0.9020979020979021, 0.9923076923076923, 0.9423076923076923)"
      ]
     },
     "execution_count": 19,
     "metadata": {},
     "output_type": "execute_result"
    }
   ],
   "source": [
    "precission_recall(spam_dir_test, ham__dir_test)"
   ]
  },
  {
   "cell_type": "code",
   "execution_count": null,
   "metadata": {},
   "outputs": [],
   "source": []
  }
 ],
 "metadata": {
  "kernelspec": {
   "display_name": "Python 3",
   "language": "python",
   "name": "python3"
  },
  "language_info": {
   "codemirror_mode": {
    "name": "ipython",
    "version": 3
   },
   "file_extension": ".py",
   "mimetype": "text/x-python",
   "name": "python",
   "nbconvert_exporter": "python",
   "pygments_lexer": "ipython3",
   "version": "3.6.8"
  }
 },
 "nbformat": 4,
 "nbformat_minor": 2
}
