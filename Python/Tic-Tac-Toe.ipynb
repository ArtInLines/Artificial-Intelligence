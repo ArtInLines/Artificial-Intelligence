{
 "cells": [
  {
   "cell_type": "code",
   "execution_count": null,
   "metadata": {},
   "outputs": [],
   "source": [
    "%%HTML\n",
    "<style>\n",
    ".container { width:100% }\n",
    "</style>"
   ]
  },
  {
   "cell_type": "markdown",
   "metadata": {},
   "source": [
    "# Tic-Tac-Toe"
   ]
  },
  {
   "cell_type": "code",
   "execution_count": null,
   "metadata": {},
   "outputs": [],
   "source": [
    "Players = [ \"X\", \"O\" ]"
   ]
  },
  {
   "cell_type": "code",
   "execution_count": null,
   "metadata": {},
   "outputs": [],
   "source": [
    "Start = tuple( tuple(\" \" for col in range(3)) for row in range(3))\n",
    "Start"
   ]
  },
  {
   "cell_type": "markdown",
   "metadata": {},
   "source": [
    "The function `to_list` transforms a tuple of tuples into a list of lists."
   ]
  },
  {
   "cell_type": "code",
   "execution_count": null,
   "metadata": {},
   "outputs": [],
   "source": [
    "to_list = lambda State: [list(row) for row in State]"
   ]
  },
  {
   "cell_type": "markdown",
   "metadata": {},
   "source": [
    "The function `to_tuple` transforms a list of lists into a tuple of tuples."
   ]
  },
  {
   "cell_type": "code",
   "execution_count": null,
   "metadata": {},
   "outputs": [],
   "source": [
    "to_tuple = lambda State: tuple(tuple(row) for row in State)"
   ]
  },
  {
   "cell_type": "code",
   "execution_count": null,
   "metadata": {},
   "outputs": [],
   "source": [
    "def next_states(State, player):\n",
    "    Empty  = empty(State)\n",
    "    Result = []\n",
    "    for row, col in Empty:\n",
    "        NextState           = to_list(State)\n",
    "        NextState[row][col] = player\n",
    "        Result.append( to_tuple(NextState) )\n",
    "    return Result"
   ]
  },
  {
   "cell_type": "markdown",
   "metadata": {},
   "source": [
    "Given a state `S` the function `empty(S)` returns the list of pairs `(r,c)` such that `S[r][c] == ' '` holds."
   ]
  },
  {
   "cell_type": "code",
   "execution_count": null,
   "metadata": {},
   "outputs": [],
   "source": [
    "def empty(S):\n",
    "    return [ (row, col) for row in range(3)\n",
    "                        for col in range(3)\n",
    "                        if  S[row][col] == ' ' \n",
    "           ]"
   ]
  },
  {
   "cell_type": "code",
   "execution_count": null,
   "metadata": {},
   "outputs": [],
   "source": [
    "All_Lines = [ [ (row, col) for col in range(3) ] for row in range(3) ] \\\n",
    "          + [ [ (row, col) for row in range(3) ] for col in range(3) ] \\\n",
    "          + [ [ [idx,   idx] for idx in range(3) ] ]                   \\\n",
    "          + [ [ [idx, 2-idx] for idx in range(3) ] ]\n",
    "All_Lines"
   ]
  },
  {
   "cell_type": "code",
   "execution_count": null,
   "metadata": {},
   "outputs": [],
   "source": [
    "def utility(State, player):\n",
    "    for Pairs in All_Lines:\n",
    "        Marks = { State[row][col] for row, col in Pairs }\n",
    "        if len(Marks) == 1 and  Marks != { ' ' }: \n",
    "            if Marks == { player }:\n",
    "                return  1\n",
    "            else:\n",
    "                return -1\n",
    "    for row in range(3):\n",
    "        for col in range(3):\n",
    "            if State[row][col] == ' ':\n",
    "                return None   \n",
    "    # the board has to be filled now, but there is no winner\n",
    "    return 0            "
   ]
  },
  {
   "cell_type": "code",
   "execution_count": null,
   "metadata": {},
   "outputs": [],
   "source": [
    "def finished(State):\n",
    "    return utility(State, \"X\") != None"
   ]
  },
  {
   "cell_type": "code",
   "execution_count": null,
   "metadata": {},
   "outputs": [],
   "source": [
    "def get_move(State):\n",
    "    State = to_list(State)\n",
    "    row, col = input(\"Enter move here: \").split(\",\")\n",
    "    row, col = int(row), int(col)\n",
    "    State[row][col] = 'O'\n",
    "    return to_tuple(State)"
   ]
  },
  {
   "cell_type": "code",
   "execution_count": null,
   "metadata": {},
   "outputs": [],
   "source": [
    "def final_msg(State):\n",
    "    if finished(State):\n",
    "        if utility(State, \"O\") == 1:\n",
    "            print(\"You have won!\")\n",
    "        elif utility(State, \"O\") == -1:\n",
    "            print(\"You have lost!\")\n",
    "        else:\n",
    "            print(\"It's a draw.\");\n",
    "        return True\n",
    "    return False"
   ]
  },
  {
   "cell_type": "markdown",
   "metadata": {},
   "source": [
    "# Drawing the Board"
   ]
  },
  {
   "cell_type": "code",
   "execution_count": null,
   "metadata": {},
   "outputs": [],
   "source": [
    "import ipycanvas as cnv"
   ]
  },
  {
   "cell_type": "code",
   "execution_count": null,
   "metadata": {},
   "outputs": [],
   "source": [
    "size = 150"
   ]
  },
  {
   "cell_type": "code",
   "execution_count": null,
   "metadata": {},
   "outputs": [],
   "source": [
    "def create_canvas(State):\n",
    "    n = len(State)\n",
    "    canvas = cnv.Canvas(size=(size * n, size * n + 50))\n",
    "    display(canvas)\n",
    "    return canvas"
   ]
  },
  {
   "cell_type": "code",
   "execution_count": null,
   "metadata": {},
   "outputs": [],
   "source": [
    "def draw(State, canvas, value):\n",
    "    canvas.clear()\n",
    "    n = len(State)\n",
    "    canvas.font = '90px sans-serif'\n",
    "    canvas.text_align    = 'center'\n",
    "    canvas.text_baseline = 'middle'\n",
    "    for row in range(n):\n",
    "        for col in range(n):\n",
    "            x = col * size\n",
    "            y = row * size\n",
    "            canvas.line_width = 3.0\n",
    "            canvas.stroke_rect(x, y, size, size)\n",
    "            symbol = State[row][col]\n",
    "            if symbol != ' ':\n",
    "                x += size // 2\n",
    "                y += size // 2\n",
    "                if symbol == 'X':\n",
    "                    canvas.fill_style ='red'\n",
    "                else:\n",
    "                    canvas.fill_style ='blue'\n",
    "                canvas.fill_text(symbol, x, y)\n",
    "    canvas.font = '20px sans-serif'\n",
    "    canvas.fill_style = 'black'\n",
    "    x = 1.5 * size\n",
    "    y = 3.2 * size\n",
    "    canvas.fill_text(str(value), x, y)"
   ]
  },
  {
   "cell_type": "code",
   "execution_count": null,
   "metadata": {},
   "outputs": [],
   "source": []
  }
 ],
 "metadata": {
  "kernelspec": {
   "display_name": "Python 3",
   "language": "python",
   "name": "python3"
  },
  "language_info": {
   "codemirror_mode": {
    "name": "ipython",
    "version": 3
   },
   "file_extension": ".py",
   "mimetype": "text/x-python",
   "name": "python",
   "nbconvert_exporter": "python",
   "pygments_lexer": "ipython3",
   "version": "3.7.6"
  },
  "toc": {
   "base_numbering": 1,
   "nav_menu": {},
   "number_sections": true,
   "sideBar": true,
   "skip_h1_title": false,
   "title_cell": "Table of Contents",
   "title_sidebar": "Contents",
   "toc_cell": false,
   "toc_position": {},
   "toc_section_display": true,
   "toc_window_display": false
  },
  "varInspector": {
   "cols": {
    "lenName": 16,
    "lenType": 16,
    "lenVar": 40
   },
   "kernels_config": {
    "python": {
     "delete_cmd_postfix": "",
     "delete_cmd_prefix": "del ",
     "library": "var_list.py",
     "varRefreshCmd": "print(var_dic_list())"
    },
    "r": {
     "delete_cmd_postfix": ") ",
     "delete_cmd_prefix": "rm(",
     "library": "var_list.r",
     "varRefreshCmd": "cat(var_dic_list()) "
    }
   },
   "types_to_exclude": [
    "module",
    "function",
    "builtin_function_or_method",
    "instance",
    "_Feature"
   ],
   "window_display": false
  }
 },
 "nbformat": 4,
 "nbformat_minor": 2
}
